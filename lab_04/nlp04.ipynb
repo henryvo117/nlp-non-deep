{
 "cells": [
  {
   "cell_type": "markdown",
   "metadata": {
    "id": "1DlzvXLQuoTY"
   },
   "source": [
    "# Sentiment classifier with LSTM\n",
    "\n",
    "In this notebook, we will implement a simple sentiment classifier using an LSTM. Follow the notebook, complete the missing part, answer the questions and apply the asked modifications.\n",
    "\n"
   ]
  },
  {
   "cell_type": "code",
   "execution_count": 176,
   "metadata": {
    "id": "g_v62rH_W9J1"
   },
   "outputs": [],
   "source": [
    "from collections import defaultdict\n",
    "from copy import deepcopy\n",
    "import re\n",
    "from typing import Callable, List, Tuple\n",
    "\n",
    "from datasets import load_dataset\n",
    "import matplotlib.pyplot as plt\n",
    "import numpy as np\n",
    "import pandas as pd\n",
    "import torch\n",
    "from torch import nn\n",
    "import torch.nn.functional as F\n",
    "from tqdm.auto import tqdm\n",
    "from datetime import datetime\n",
    "from sklearn.utils import shuffle"
   ]
  },
  {
   "cell_type": "markdown",
   "metadata": {
    "id": "FzAHrPfReDqu"
   },
   "source": [
    "## Downloading the dataset\n",
    "\n",
    "Using the datasets library, we load the imdb dataset."
   ]
  },
  {
   "cell_type": "code",
   "execution_count": 177,
   "metadata": {
    "colab": {
     "base_uri": "https://localhost:8080/",
     "height": 66,
     "referenced_widgets": [
      "162ab96023ae4e0fb3a6bfc1130bcdb7",
      "9483391d882646f086674eafc790f879",
      "c1c58457a6604b388b5e07aa06924c70",
      "ebc72ccd640e422380b4ffbe897d3213",
      "8bb075fe93b544d38ba6894ef256a4c7",
      "e5b394df0a774a9b9025943af6e0f9ff",
      "69e65c156fed4ec4b4ee05583634a2c3",
      "fa10c1c78b394c6aa8b38b09cae6fc24",
      "49460a2c6a4141a89e0f2163ef6d498b",
      "d93753a12e0b4805b34c9df52e8e6425",
      "322c751d8ad142d38c1427858730e1f8"
     ]
    },
    "id": "PBb40sTOXYz-",
    "outputId": "7f563599-48a2-4929-9270-2075e9e48694"
   },
   "outputs": [
    {
     "name": "stderr",
     "output_type": "stream",
     "text": [
      "WARNING:datasets.builder:Found cached dataset imdb (/root/.cache/huggingface/datasets/imdb/plain_text/1.0.0/2fdd8b9bcadd6e7055e742a706876ba43f19faee861df134affd7a3f60fc38a1)\n"
     ]
    },
    {
     "data": {
      "application/vnd.jupyter.widget-view+json": {
       "model_id": "162ab96023ae4e0fb3a6bfc1130bcdb7",
       "version_major": 2,
       "version_minor": 0
      },
      "text/plain": [
       "  0%|          | 0/3 [00:00<?, ?it/s]"
      ]
     },
     "metadata": {},
     "output_type": "display_data"
    }
   ],
   "source": [
    "dataset = load_dataset(\"imdb\")"
   ]
  },
  {
   "cell_type": "code",
   "execution_count": 178,
   "metadata": {
    "colab": {
     "base_uri": "https://localhost:8080/"
    },
    "id": "uDq8WhU3XlOR",
    "outputId": "0b15bf00-e6b3-4d41-eb04-e62e699e4616"
   },
   "outputs": [
    {
     "data": {
      "text/plain": [
       "DatasetDict({\n",
       "    train: Dataset({\n",
       "        features: ['text', 'label'],\n",
       "        num_rows: 25000\n",
       "    })\n",
       "    test: Dataset({\n",
       "        features: ['text', 'label'],\n",
       "        num_rows: 25000\n",
       "    })\n",
       "    unsupervised: Dataset({\n",
       "        features: ['text', 'label'],\n",
       "        num_rows: 50000\n",
       "    })\n",
       "})"
      ]
     },
     "execution_count": 178,
     "metadata": {},
     "output_type": "execute_result"
    }
   ],
   "source": [
    "dataset"
   ]
  },
  {
   "cell_type": "code",
   "execution_count": 179,
   "metadata": {
    "colab": {
     "base_uri": "https://localhost:8080/"
    },
    "id": "GgAr8N9CP-WO",
    "outputId": "a77be539-eeff-4d8c-8474-7cec6fb51b70"
   },
   "outputs": [
    {
     "data": {
      "text/plain": [
       "Dataset({\n",
       "    features: ['text', 'label'],\n",
       "    num_rows: 50000\n",
       "})"
      ]
     },
     "execution_count": 179,
     "metadata": {},
     "output_type": "execute_result"
    }
   ],
   "source": [
    "# We do not need the \"unsupervised\" split.\n",
    "dataset.pop(\"unsupervised\")"
   ]
  },
  {
   "cell_type": "code",
   "execution_count": 180,
   "metadata": {
    "colab": {
     "base_uri": "https://localhost:8080/"
    },
    "id": "E9nA-xGTP-WO",
    "outputId": "a344fd2a-d57d-438b-95a0-8cb3f79d5c61"
   },
   "outputs": [
    {
     "data": {
      "text/plain": [
       "DatasetDict({\n",
       "    train: Dataset({\n",
       "        features: ['text', 'label'],\n",
       "        num_rows: 25000\n",
       "    })\n",
       "    test: Dataset({\n",
       "        features: ['text', 'label'],\n",
       "        num_rows: 25000\n",
       "    })\n",
       "})"
      ]
     },
     "execution_count": 180,
     "metadata": {},
     "output_type": "execute_result"
    }
   ],
   "source": [
    "dataset"
   ]
  },
  {
   "cell_type": "code",
   "execution_count": 181,
   "metadata": {
    "colab": {
     "base_uri": "https://localhost:8080/"
    },
    "id": "IXssc1MjX5v2",
    "outputId": "489d8e35-4fff-496f-9b6f-835bcab36415"
   },
   "outputs": [
    {
     "data": {
      "text/plain": [
       "{'text': ['I rented I AM CURIOUS-YELLOW from my video store because of all the controversy that surrounded it when it was first released in 1967. I also heard that at first it was seized by U.S. customs if it ever tried to enter this country, therefore being a fan of films considered \"controversial\" I really had to see this for myself.<br /><br />The plot is centered around a young Swedish drama student named Lena who wants to learn everything she can about life. In particular she wants to focus her attentions to making some sort of documentary on what the average Swede thought about certain political issues such as the Vietnam War and race issues in the United States. In between asking politicians and ordinary denizens of Stockholm about their opinions on politics, she has sex with her drama teacher, classmates, and married men.<br /><br />What kills me about I AM CURIOUS-YELLOW is that 40 years ago, this was considered pornographic. Really, the sex and nudity scenes are few and far between, even then it\\'s not shot like some cheaply made porno. While my countrymen mind find it shocking, in reality sex and nudity are a major staple in Swedish cinema. Even Ingmar Bergman, arguably their answer to good old boy John Ford, had sex scenes in his films.<br /><br />I do commend the filmmakers for the fact that any sex shown in the film is shown for artistic purposes rather than just to shock people and make money to be shown in pornographic theaters in America. I AM CURIOUS-YELLOW is a good film for anyone wanting to study the meat and potatoes (no pun intended) of Swedish cinema. But really, this film doesn\\'t have much of a plot.',\n",
       "  '\"I Am Curious: Yellow\" is a risible and pretentious steaming pile. It doesn\\'t matter what one\\'s political views are because this film can hardly be taken seriously on any level. As for the claim that frontal male nudity is an automatic NC-17, that isn\\'t true. I\\'ve seen R-rated films with male nudity. Granted, they only offer some fleeting views, but where are the R-rated films with gaping vulvas and flapping labia? Nowhere, because they don\\'t exist. The same goes for those crappy cable shows: schlongs swinging in the breeze but not a clitoris in sight. And those pretentious indie movies like The Brown Bunny, in which we\\'re treated to the site of Vincent Gallo\\'s throbbing johnson, but not a trace of pink visible on Chloe Sevigny. Before crying (or implying) \"double-standard\" in matters of nudity, the mentally obtuse should take into account one unavoidably obvious anatomical difference between men and women: there are no genitals on display when actresses appears nude, and the same cannot be said for a man. In fact, you generally won\\'t see female genitals in an American film in anything short of porn or explicit erotica. This alleged double-standard is less a double standard than an admittedly depressing ability to come to terms culturally with the insides of women\\'s bodies.'],\n",
       " 'label': [0, 0]}"
      ]
     },
     "execution_count": 181,
     "metadata": {},
     "output_type": "execute_result"
    }
   ],
   "source": [
    "dataset[\"train\"][:2]"
   ]
  },
  {
   "cell_type": "markdown",
   "metadata": {
    "id": "5UoMzhBOeGxe"
   },
   "source": [
    "## Pretreatment **(1 point)**\n",
    "\n",
    "Code the `pretreatment` function which clean the input text. Look at the dataset and deduce which treatment is needed."
   ]
  },
  {
   "cell_type": "code",
   "execution_count": 182,
   "metadata": {
    "id": "Cw3lht4AZHQB"
   },
   "outputs": [],
   "source": [
    "#Pretreament process:\n",
    "#Remove all HTML elements\n",
    "#Remove all \"\\\" elements\n",
    "import re\n",
    "TAG_RE = re.compile(r'<[^>]+>')\n",
    "def pretreatment(text: str) -> str:\n",
    "    \"\"\"Clean IMDB text entries.\n",
    "    Args:\n",
    "        text: an input string.\n",
    "    Returns:\n",
    "        The cleaned text.\n",
    "    \"\"\"\n",
    "    text = TAG_RE.sub('', text)\n",
    "    text = text.replace(\"\\\\\",\"\")\n",
    "    return text"
   ]
  },
  {
   "cell_type": "markdown",
   "metadata": {},
   "source": [
    "Here we tried to apply stemming and removing stopwords for the pretreatment, but the model response negatively to this type of treatment. Therefore, for the whole lab, we keep the same pretreatment method by removing the punctuation"
   ]
  },
  {
   "cell_type": "code",
   "execution_count": null,
   "metadata": {},
   "outputs": [],
   "source": [
    "import re\n",
    "import nltk \n",
    "from nltk.stem.snowball import SnowballStemmer\n",
    "from nltk.tokenize import word_tokenize\n",
    "from nltk.corpus import stopwords\n",
    "\n",
    "nltk.download('stopwords')\n",
    "nltk.download('punkt')\n",
    "stop_words = set(stopwords.words('english'))\n",
    "\n",
    "TAG_RE = re.compile(r'<[^>]+>')\n",
    "re_word = re.compile(r\"^\\w+$\")\n",
    "stemmer = SnowballStemmer(\"english\")\n",
    "\n",
    "def pretreatment_stemming(text: str) -> str:\n",
    "    \"\"\"Clean IMDB text entries.\n",
    "    Args:\n",
    "        text: an input string.\n",
    "    Returns:\n",
    "        The cleaned text.\n",
    "    \"\"\"\n",
    "    text = TAG_RE.sub('', text)\n",
    "    text = text.replace(\"\\\\\",\"\")\n",
    "    d = word_tokenize(text)\n",
    "    s = \"\"\n",
    "    for w in d:\n",
    "        if w not in stop_words:\n",
    "            if re_word.match(w):\n",
    "                s +=' ' + stemmer.stem(w)\n",
    "            else:\n",
    "                s+=\" \"+w\n",
    "    s = s.strip()\n",
    "    return s"
   ]
  },
  {
   "cell_type": "code",
   "execution_count": 183,
   "metadata": {
    "colab": {
     "base_uri": "https://localhost:8080/"
    },
    "id": "AnxsNRj1b4ef",
    "outputId": "4df98967-4e22-4b94-b47b-923b9493b770"
   },
   "outputs": [
    {
     "name": "stderr",
     "output_type": "stream",
     "text": [
      "WARNING:datasets.arrow_dataset:Loading cached processed dataset at /root/.cache/huggingface/datasets/imdb/plain_text/1.0.0/2fdd8b9bcadd6e7055e742a706876ba43f19faee861df134affd7a3f60fc38a1/cache-629f9d8d4b67f8fa.arrow\n",
      "WARNING:datasets.arrow_dataset:Loading cached processed dataset at /root/.cache/huggingface/datasets/imdb/plain_text/1.0.0/2fdd8b9bcadd6e7055e742a706876ba43f19faee861df134affd7a3f60fc38a1/cache-5376df990f7b6476.arrow\n"
     ]
    }
   ],
   "source": [
    "# This applies the pretreatment function to all\n",
    "clean_dataset = dataset.map(lambda x: {\"text\": pretreatment(x[\"text\"]), \"label\": x[\"label\"]})"
   ]
  },
  {
   "cell_type": "markdown",
   "metadata": {
    "id": "cITYcafjvZ4V"
   },
   "source": [
    "Let's see what the text now look like."
   ]
  },
  {
   "cell_type": "code",
   "execution_count": 184,
   "metadata": {
    "colab": {
     "base_uri": "https://localhost:8080/"
    },
    "id": "ss9fNfoWUAz_",
    "outputId": "2f08fa20-bcd7-47a0-c7f2-2cec269d31e3"
   },
   "outputs": [
    {
     "data": {
      "text/plain": [
       "['I rented I AM CURIOUS-YELLOW from my video store because of all the controversy that surrounded it when it was first released in 1967. I also heard that at first it was seized by U.S. customs if it ever tried to enter this country, therefore being a fan of films considered \"controversial\" I really had to see this for myself.The plot is centered around a young Swedish drama student named Lena who wants to learn everything she can about life. In particular she wants to focus her attentions to making some sort of documentary on what the average Swede thought about certain political issues such as the Vietnam War and race issues in the United States. In between asking politicians and ordinary denizens of Stockholm about their opinions on politics, she has sex with her drama teacher, classmates, and married men.What kills me about I AM CURIOUS-YELLOW is that 40 years ago, this was considered pornographic. Really, the sex and nudity scenes are few and far between, even then it\\'s not shot like some cheaply made porno. While my countrymen mind find it shocking, in reality sex and nudity are a major staple in Swedish cinema. Even Ingmar Bergman, arguably their answer to good old boy John Ford, had sex scenes in his films.I do commend the filmmakers for the fact that any sex shown in the film is shown for artistic purposes rather than just to shock people and make money to be shown in pornographic theaters in America. I AM CURIOUS-YELLOW is a good film for anyone wanting to study the meat and potatoes (no pun intended) of Swedish cinema. But really, this film doesn\\'t have much of a plot.',\n",
       " '\"I Am Curious: Yellow\" is a risible and pretentious steaming pile. It doesn\\'t matter what one\\'s political views are because this film can hardly be taken seriously on any level. As for the claim that frontal male nudity is an automatic NC-17, that isn\\'t true. I\\'ve seen R-rated films with male nudity. Granted, they only offer some fleeting views, but where are the R-rated films with gaping vulvas and flapping labia? Nowhere, because they don\\'t exist. The same goes for those crappy cable shows: schlongs swinging in the breeze but not a clitoris in sight. And those pretentious indie movies like The Brown Bunny, in which we\\'re treated to the site of Vincent Gallo\\'s throbbing johnson, but not a trace of pink visible on Chloe Sevigny. Before crying (or implying) \"double-standard\" in matters of nudity, the mentally obtuse should take into account one unavoidably obvious anatomical difference between men and women: there are no genitals on display when actresses appears nude, and the same cannot be said for a man. In fact, you generally won\\'t see female genitals in an American film in anything short of porn or explicit erotica. This alleged double-standard is less a double standard than an admittedly depressing ability to come to terms culturally with the insides of women\\'s bodies.',\n",
       " \"If only to avoid making this type of film in the future. This film is interesting as an experiment but tells no cogent story.One might feel virtuous for sitting thru it because it touches on so many IMPORTANT issues but it does so without any discernable motive. The viewer comes away with no new perspectives (unless one comes up with one while one's mind wanders, as it will invariably do during this pointless film).One might better spend one's time staring out a window at a tree growing.\"]"
      ]
     },
     "execution_count": 184,
     "metadata": {},
     "output_type": "execute_result"
    }
   ],
   "source": [
    "clean_dataset[\"train\"][\"text\"][:3]"
   ]
  },
  {
   "cell_type": "markdown",
   "metadata": {
    "id": "4sAscTs3U2Sn"
   },
   "source": [
    "Let's take a quick look at the labels. Notice that the labels are ordered in the training set starting by the negative reviews (0), followed by the positive ones (1). Training neural networks on this kind of configuration tends to considerably affect their performances. So the dataset will have to be shuffled."
   ]
  },
  {
   "cell_type": "code",
   "execution_count": 185,
   "metadata": {
    "colab": {
     "base_uri": "https://localhost:8080/"
    },
    "id": "lZedAEQpdstA",
    "outputId": "d45da479-1972-4adb-b8f5-e5b9eac25bc5"
   },
   "outputs": [
    {
     "data": {
      "text/plain": [
       "[0, 0, 0, 0, 0, 0, 0, 0, 0, 0, 1, 1, 1, 1, 1, 1, 1, 1, 1, 1]"
      ]
     },
     "execution_count": 185,
     "metadata": {},
     "output_type": "execute_result"
    }
   ],
   "source": [
    "clean_dataset[\"train\"][\"label\"][12490:12510]"
   ]
  },
  {
   "cell_type": "markdown",
   "metadata": {
    "id": "Hv3rt4ZieQbN"
   },
   "source": [
    "## Train/validation split **(1 point)**\n",
    "\n",
    "In our example, we consider the test split as production data. Which means, we need to treat it as if we never see it during the training process. To experiment on the model, we need to split the training set into a training and validation set. See [here](https://huggingface.co/course/chapter5/3?fw=pt#creating-a-validation-set) on how to do so with the `Datasets` library.\n",
    "\n",
    "Don't forget to **stratify** your split (we need to have the same proportion of class in both training and validation set)."
   ]
  },
  {
   "cell_type": "code",
   "execution_count": 186,
   "metadata": {
    "id": "5QIBkz-0YAO7"
   },
   "outputs": [],
   "source": [
    "clean_dataset = clean_dataset[\"train\"].train_test_split(train_size=0.8)\n",
    "clean_dataset[\"validation\"] = clean_dataset.pop(\"test\")\n",
    "clean_dataset[\"test\"] = dataset[\"test\"]"
   ]
  },
  {
   "cell_type": "code",
   "execution_count": 187,
   "metadata": {
    "colab": {
     "base_uri": "https://localhost:8080/"
    },
    "id": "F58TBVUbVfWb",
    "outputId": "643a45d5-b8a7-41a2-c55b-be498b3c760b"
   },
   "outputs": [
    {
     "data": {
      "text/plain": [
       "DatasetDict({\n",
       "    train: Dataset({\n",
       "        features: ['text', 'label'],\n",
       "        num_rows: 20000\n",
       "    })\n",
       "    validation: Dataset({\n",
       "        features: ['text', 'label'],\n",
       "        num_rows: 5000\n",
       "    })\n",
       "    test: Dataset({\n",
       "        features: ['text', 'label'],\n",
       "        num_rows: 25000\n",
       "    })\n",
       "})"
      ]
     },
     "execution_count": 187,
     "metadata": {},
     "output_type": "execute_result"
    }
   ],
   "source": [
    "clean_dataset"
   ]
  },
  {
   "cell_type": "code",
   "execution_count": 188,
   "metadata": {
    "colab": {
     "base_uri": "https://localhost:8080/"
    },
    "id": "Wa82uTx4jAiS",
    "outputId": "b50f7a7b-7269-469b-cc24-495879a34979"
   },
   "outputs": [
    {
     "data": {
      "text/plain": [
       "DatasetDict({\n",
       "    train: Dataset({\n",
       "        features: ['text', 'label'],\n",
       "        num_rows: 25000\n",
       "    })\n",
       "    test: Dataset({\n",
       "        features: ['text', 'label'],\n",
       "        num_rows: 25000\n",
       "    })\n",
       "})"
      ]
     },
     "execution_count": 188,
     "metadata": {},
     "output_type": "execute_result"
    }
   ],
   "source": [
    "dataset"
   ]
  },
  {
   "cell_type": "code",
   "execution_count": 189,
   "metadata": {
    "colab": {
     "base_uri": "https://localhost:8080/",
     "height": 66,
     "referenced_widgets": [
      "59d819b08df64e9692877b6d61d5e8c7",
      "d84f64882c4e491abb621db39d3d1280",
      "77c2fa68e8b1425a94bb7f1b98a4498b",
      "921f0787cd9d40e6b3cdaa6987706947",
      "498325ad32b04bceb9a0bf71e825a3dc",
      "90f5919c38814957abfc5c1121d97254",
      "1a1bd86ab9104dd79e9b14465d831046",
      "7b47f8dae589479f9458e49e588180ca",
      "39a9112978b94ba5a4ba8116d639c6c3",
      "a4c3a911799b4d7c830aad81fe4e36ec",
      "83b964116db444da99c0b4a2d9d3d554"
     ]
    },
    "id": "nDjkXHjvr1vH",
    "outputId": "5abd32de-0a8c-47e8-e18e-a140f9d0465c"
   },
   "outputs": [
    {
     "name": "stderr",
     "output_type": "stream",
     "text": [
      "WARNING:datasets.builder:Found cached dataset imdb (/root/.cache/huggingface/datasets/imdb/plain_text/1.0.0/2fdd8b9bcadd6e7055e742a706876ba43f19faee861df134affd7a3f60fc38a1)\n"
     ]
    },
    {
     "data": {
      "application/vnd.jupyter.widget-view+json": {
       "model_id": "59d819b08df64e9692877b6d61d5e8c7",
       "version_major": 2,
       "version_minor": 0
      },
      "text/plain": [
       "  0%|          | 0/2 [00:00<?, ?it/s]"
      ]
     },
     "metadata": {},
     "output_type": "display_data"
    }
   ],
   "source": [
    "dataset_train, dataset_test = load_dataset(\"imdb\", split=[\"train\", \"test\"])"
   ]
  },
  {
   "cell_type": "code",
   "execution_count": 190,
   "metadata": {
    "id": "SFuH-hS2qh1q"
   },
   "outputs": [],
   "source": [
    "#Convert dataset to pandas\n",
    "import pandas as pd\n",
    "\n",
    "df_dataset_train = dataset_train.to_pandas()\n",
    "df_dataset_test = dataset_test.to_pandas()\n",
    "df_clean_dataset_train = clean_dataset[\"train\"].to_pandas()\n",
    "df_clean_dataset_validation = clean_dataset[\"validation\"].to_pandas()"
   ]
  },
  {
   "cell_type": "code",
   "execution_count": 191,
   "metadata": {
    "colab": {
     "base_uri": "https://localhost:8080/"
    },
    "id": "w97hMnYEeexj",
    "outputId": "9773dc80-73f2-44fb-a8e7-382592f94212"
   },
   "outputs": [
    {
     "name": "stdout",
     "output_type": "stream",
     "text": [
      "Percentage of positive reviews in original train dataset: 50.0%\n",
      "Percentage of positive reviews in original test dataset: 50.0%\n",
      "Percentage of positive reviews in clean train dataset: 50.18%\n",
      "Percentage of positive reviews in clean test dataset: 49.28%\n"
     ]
    }
   ],
   "source": [
    "# Check here that the dataset is stratified.\n",
    "print(\"Percentage of positive reviews in original train dataset: \" + str(df_dataset_train[\"label\"].value_counts()[0] / df_dataset_train[\"label\"].count() * 100) + '%')\n",
    "print(\"Percentage of positive reviews in original test dataset: \" + str(df_dataset_test[\"label\"].value_counts()[0] / df_dataset_test[\"label\"].count() * 100) + '%')\n",
    "print(\"Percentage of positive reviews in clean train dataset: \" + str(df_clean_dataset_train[\"label\"].value_counts()[0] / df_clean_dataset_train[\"label\"].count() * 100) + '%')\n",
    "print(\"Percentage of positive reviews in clean test dataset: \" + str(df_clean_dataset_validation[\"label\"].value_counts()[0] / df_clean_dataset_validation[\"label\"].count() * 100) + '%')\n"
   ]
  },
  {
   "cell_type": "markdown",
   "metadata": {
    "id": "0t40J_xte1dz"
   },
   "source": [
    "## Categorical encoding of the vocabulary **(2 points)**\n",
    "\n",
    "We can't feed word to a neural network. A usual solution is to turn words into categorical data by using one-hot encoding. To avoid an explosion in vocabulary size, we will only keep words which appear more than a certain amount of time.\n",
    "\n",
    "The `Vocabulary` class below will do that for us."
   ]
  },
  {
   "cell_type": "code",
   "execution_count": 192,
   "metadata": {
    "id": "T2P9A4j8aarj"
   },
   "outputs": [],
   "source": [
    "UNK_TOKEN = \"<UNK>\"\n",
    "PAD_TOKEN = \"<PAD>\"\n",
    "\n",
    "\n",
    "class Vocabulary:\n",
    "    \"\"\"Vocabulary manager on a collection.\n",
    "    \"\"\"\n",
    "    def __init__(self) -> None:\n",
    "        \"\"\"No parameters to provide.\n",
    "        \"\"\"\n",
    "        # Index to word mapping.\n",
    "        self.index2word = [PAD_TOKEN, UNK_TOKEN]\n",
    "        # Word to index mapping.\n",
    "        self.word2index = {value: key for key, value in enumerate(self.index2word)}\n",
    "        # Word counter.\n",
    "        self.word2count = defaultdict(int)\n",
    "\n",
    "    def add_word(self, word: str) -> None:\n",
    "        \"\"\"Increments the count of a word to the vocabulary.\n",
    "        Args:\n",
    "            word: the word.\n",
    "        \"\"\"\n",
    "        self.word2count[word] += 1\n",
    "        if not word in self.word2index:\n",
    "            self.word2index[word] = len(self.index2word)\n",
    "            self.index2word.append(word)\n",
    "\n",
    "    def add_text(self, text: str, separator: str =\" \") -> None:\n",
    "        \"\"\"Add the words given in a text to our vocabulary.\n",
    "        Args:\n",
    "            text: a sequence of words separated by a given separator.\n",
    "            separator: the separator used to split our text (default is \" \").\n",
    "        \"\"\"\n",
    "        for word in text.split(separator):\n",
    "            self.add_word(word)\n",
    "\n",
    "    def get_index(self, word: str) -> int:\n",
    "        \"\"\"Returns the index of a given word in our vocabulary.\n",
    "        If the word is not in the vocabulary, returns the index for UNK_TOKEN.\n",
    "        Args:\n",
    "            word: a string.\n",
    "        Returns:\n",
    "            The corresponding index or the index for UNK_TOKEN.\n",
    "        \"\"\"\n",
    "        return (\n",
    "            self.word2index[word]\n",
    "            if word in self.word2index\n",
    "            else self.word2index[UNK_TOKEN]\n",
    "        )\n",
    "\n",
    "    def get_word(self, index: int) -> str:\n",
    "        \"\"\"Returns the word at a given index in our vocabulary.\n",
    "        Args:\n",
    "            index: the word position in our vocabulary.\n",
    "        Returns:\n",
    "            The word corresponding to the given index.\n",
    "        \"\"\"\n",
    "        return self.index2word[index]\n",
    "\n",
    "    def get_word_count(self, word: str) -> int:\n",
    "        \"\"\"Returns the number of occurences for a given word.\n",
    "        Raise a \n",
    "        Args:\n",
    "            The word.\n",
    "        Returns:\n",
    "            Its number of measured occurences.\n",
    "        \"\"\"\n",
    "        return self.word2count[word]\n",
    "\n",
    "    def get_vocabulary(self) -> List[str]:\n",
    "        \"\"\"Returns a copy of the whole vocabulary list.\n",
    "        Returns:\n",
    "            A list of words.\n",
    "        \"\"\"\n",
    "        return deepcopy(self.index2word)\n",
    "\n",
    "    def __len__(self) -> int:\n",
    "        \"\"\"len() function.\n",
    "        Returns:\n",
    "            The number of words in the vocabulary.\n",
    "        \"\"\"\n",
    "        return len(self.index2word)\n",
    "\n",
    "    def trim_vocabulary(self, min_occurences: int = 5) -> None:\n",
    "        \"\"\"Trim the vocabulary based on the number of occurrences of each words.\n",
    "        Note that whole counts of deleted words are added to the UNK_TOKEN counts.\n",
    "        Args:\n",
    "            min_occurences: the minimum number of occurences for a word to be kept.\n",
    "        \"\"\"\n",
    "        to_delete = {\n",
    "            word for word, count in self.word2count.items() if count < min_occurences\n",
    "        }\n",
    "        new_word2count = defaultdict(int)\n",
    "        for word, count in self.word2count.items():\n",
    "            if word not in to_delete:\n",
    "                new_word2count[word] = count\n",
    "            else:\n",
    "                new_word2count[UNK_TOKEN] += count\n",
    "        new_index2word = [word for word in self.index2word if word not in to_delete]\n",
    "        new_word2index = {word: index for index, word in enumerate(new_index2word)}\n",
    "\n",
    "        self.word2count = new_word2count\n",
    "        self.index2word = new_index2word\n",
    "        self.word2index = new_word2index"
   ]
  },
  {
   "cell_type": "markdown",
   "metadata": {
    "id": "q4z82NUIP-WU"
   },
   "source": [
    "**(1 point)** Get the vocabulary on both the training and validation set using the `Vocabulary` class. Remember, we don't use the test set here as we consider it as proxy production data. The trim it down as you see fit (around 20K words in the vocabulary is a good value)."
   ]
  },
  {
   "cell_type": "code",
   "execution_count": 193,
   "metadata": {
    "colab": {
     "base_uri": "https://localhost:8080/"
    },
    "id": "W8eqcMYzfLJr",
    "outputId": "fb26b3cd-0898-40a7-adf9-fadd72979286"
   },
   "outputs": [
    {
     "name": "stdout",
     "output_type": "stream",
     "text": [
      "20251\n"
     ]
    }
   ],
   "source": [
    "vocabulary = Vocabulary()\n",
    "\n",
    "# Your code...\n",
    "for txt in clean_dataset[\"train\"][\"text\"]:\n",
    "  vocabulary.add_text(txt)\n",
    "for txt in clean_dataset[\"validation\"][\"text\"]:\n",
    "  vocabulary.add_text(txt)\n",
    "vocabulary.trim_vocabulary(15)\n",
    "print(len(vocabulary.get_vocabulary()))"
   ]
  },
  {
   "cell_type": "code",
   "execution_count": 194,
   "metadata": {
    "colab": {
     "base_uri": "https://localhost:8080/"
    },
    "id": "P_57sHGbVQ5u",
    "outputId": "2db556c2-8a3e-4bdd-edc0-69272f1f8e02"
   },
   "outputs": [
    {
     "name": "stdout",
     "output_type": "stream",
     "text": [
      "['<PAD>', '<UNK>', 'This', 'movie', 'is', 'entertaining', 'enough', 'due', 'to', 'an', 'excellent', 'performance', 'by', 'Virginia', 'Madsen', 'and', 'the', 'fact', 'that', 'Lindsey', 'lovely.', 'However', 'reason', 'so', 'predictable', \"we've\", 'seen', 'it', 'all', 'before.', \"I've\", \"haven't\", 'read', 'book', 'A', 'but', 'I', 'hope', 'for', 'Britney', 'Spears', 'sake', 'completely', 'different', 'than', 'this', 'movie.', 'Unless', 'you', 'consider', 'ending', 'a', 'with', 'what', 'essentially', 'music', 'video', 'original', 'idea,', 'entire', 'brings', 'mind', 'word', '-', 'film', 'crew', 'shooting', 'horror', 'in', 'old,', 'supposedly', 'cursed', 'house', 'where', 'over', 'years,', 'seven', 'people', 'have', 'mysteriously', 'died.', 'One', 'of', 'finds', 'old', 'spells', 'looks', 'like', 'would', 'be', 'perfect', 'use', 'some', 'ritual', 'scenes', 'their', 'It', 'are', 'better', 'written', 'script', 'they', 'But', 'as', 'read,', 'graveyard', 'outside', 'suddenly', 'comes', 'life.', 'Now', 'cast', 'faced', 'real', 'danger', 'IMDb', 'lists', 'running', 'time', '90', 'minutes.', 'For', 'first', '60', 'those', 'minutes,', 'nothing', 'happens.', 'Far', 'too', 'much', 'spent', 'on', 'within', 'Are', 'we', 'supposed', 'frightened', 'We', 'already', 'know', \"isn't\", 'These', 'scares', 'just', \"don't\", 'There', 'very', 'few', 'things', 'enjoy', 'about', 'The', 'House', 'Seven', 'acting', 'atrocious.', 'Most', 'these', '\"actors\"', 'trouble', 'making', 'elementary', 'school', 'play.', 'score', 'terrible.', 'reminiscent', '70s', 'television', 'series', 'provides', 'no', 'atmosphere.', 'Speaking', 'atmosphere,', 'other', 'moments', 'at', 'end', 'movie,', 'there', 'none', 'speak', 'of.', 'Character', 'logic', 'non-existent.', 'Even', 'expect', 'characters', 'behave', 'certain', 'way.', 'Here,', 'think', 'remember', 'one', 'scene', 'character', \"didn't\", 'choose', 'most', 'illogical', 'available', 'them.', 'And', 'finally,', \"there's\", 'minutes', 'mentioned.', 'Can', 'say', 'rated', 'any', 'lower', 'because', 'instances', '(probably', 'actually', 'works.', 'My', 'two', 'favorite', 'beginning', 'ending.', 'opening', 'title', 'sequence', 'presents', 'deaths', 'previous', 'owners', 'may', 'highlight', 'And,', 'massive', 'staircase', 'zombie', 'somewhat', 'effective', '(what', 'ringing', 'Overall', 'though,', \"aren't\", 'make', 'good', \"It's\", 'amazing', 'actress', 'Soles', 'become', 'big', 'star', 'after', 'playing', 'Riff', '#1', 'fan', 'punk', 'rock', 'group', \"'n'\", 'Roll', 'High', \"she's\", 'obviously', 'still', 'high', '(that', 'out', 'having', 'kids', 'look', 'fast-paced', \"doesn't\", 'everything', 'gets', 'blown', 'end,', \"that's\", 'should', 'be.', 'Mary', 'kinky', 'funny', 'presence', 'great,', 'bit', 'fly', 'dangerously', 'close', 'her', 'head', '(how', 'many', 'takes', 'did', 'that,', 'or', 'was', 'Young', 'appealing', 'best,', 'Kate', 'weakest', 'ironically', 'enough,', '\"High', 'They', \"can't\", 'act,', \"they're\", 'not', 'funny,', 'concert', 'segment', 'goes', 'long.', 'Ramones', 'song,', '\"I', 'Want', 'You', 'treated', 'fantasy', 'well', 'incidental', 'songs', 'good,', 'particularly', 'rare', 'Paul', 'heard', 'near', 'Meet', 'Somewhere', 'Great', 'fun!', '***', 'from', '****', '10/10', 'doctor,', 'currently', 'Beckham', 'put', 'me', 'off,', \"i'm\", 'die', 'hard', 'fan,', 'personally', 'Owen', 'really', 'cool.', 'Since', 'Man', 'i', 'DEAD', 'sure', \"wouldn't\", 'watch', 'then', 'meet', 'friends,', 'had', 'early', 'morning', 'thought,', '\"what', 'heck,', \"let's\", 'watching', 'late', 'night', 'moron', 'was.', \"should've\", 'day', 'released.', 'guess', 'using', 'name', 'draw', 'audience', 'attraction', '(which', 'my', 'Knightley', 'dead', 'superb', 'hate', 'dislike', 'United', '(or', 'England', 'you.', 'In', 'fact,', 'psychiatrist', 'kid', 'heart.', 'has', 'knocked', '\"Star', 'Wars\"', 'off', 'comments', 'me.', 'wonder', 'film.', 'tries', 'hard,', 'lacks', 'fun', '1960s', 'TV', 'series,', 'am', 'do', 'Although', '17,', 'watched', 'YouTube', 'long', 'ago', 'enjoyable', 'fun.', 'Sadly,', 'does', 'little', 'justice', 'series.The', 'special', 'effects', 'rather', \"wasn't\", 'helped', 'flat', 'also', 'dull', 'lacked', 'sense', 'humour.', 'Other', 'films', 'scripting', 'Home', 'Alone', '4,', 'Cat', 'Thomas', 'Magic', 'Family', 'will', 'liked', 'idea', 'story,', 'unfortunately', 'badly', 'executed', 'ran', 'steam', 'far', 'honestly', 'something', 'family', 'enjoy.', 'annoyed', 'talking', 'suit,', 'despite', 'spirited', 'voice', 'work', 'Wayne', 'thing', 'angered', 'wasted', 'talents', 'Christopher', 'Jeff', 'Daniels', 'Daryl', 'talented', 'actors.', 'pulled', 'performances', 'before,', 'he', 'seem', 'clue', 'doing,', 'Elizabeth', 'sadly', 'came', 'across', 'useless.', 'Hannah', 'lovely', 'generally', 'being', 'love', 'interest,', 'see', 'mention', 'Monster', 'attack', 'likely', 'scare', 'children', 'them)', 'likewise', 'Wallace', 'Shawn', 'kind', 'government', 'Lloyd', 'himself', 'better,', 'actor', 'favourite', 'Who', 'Roger', 'fond', 'Back', 'To', 'given', 'with,', 'tendency', 'quite', 'wanted', 'left', 'Instead', 'fun,', 'pointless,', 'shame', 'lot', 'potential,', 'actors', 'poor', 'execution.', '1/10', 'Bethany', 'Cox', \"Shakespeare's\", '\"The', 'model', 'exceptional', 'science', 'fiction', 'differences.', 'his', 'daughter,', 'stranded', 'Morbius', '4th', 'planet', 'Ariel', 'spirit.', 'Robby', 'Robot', 'evil', 'hardly', 'approaches', 'Monsters', 'Shakespeare', 'dies', 'when', '4', 'blows', 'up.', 'comedy.', 'tragedy.', 'if', 'mankind', 'must', 'suffer', 'fate', 'Krell', 'future', 'time.', 'Anne', 'Francis', 'Jack', 'Kelly', 'starred', 'James', 'Garner', 'Usually,', 'mean', 'Warren', \"Beatty's\", 'screen', 'version', 'Tracy\"', 'proves', 'can', 'good.', 'truly', 'As', 'fearless', 'character,', 'Beatty', 'creates', 'detective', 'whom', 'ready', 'action,', 'without', 'there,', 'rest', 'almost', 'world', 'unto', 'themselves.', 'Tess', 'glamorous', 'hubby', 'crime', 'fighter', 'possibly', 'perplexing', 'person', 'Big', 'Boy', '(Al', 'average', 'ruthless', 'include', '88', 'Kid', 'Charles', 'Dick', 'Van', 'Catherine', 'Seymour', 'Sorvino', 'Kathy', 'Bates', 'wait', 'minute.', 'even', 'explained', 'plot!', 'plot', 'involves', 'Tracy', 'trying', 'failing', 'find', 'way', 'bizarre', 'events', 'been', 'going', 'town,', 'answers', 'which', 'closer', 'everyone', 'course,', 'main', \"it's\", 'watch.', 'If', 'age,', 'made', 'here.', 'cool', 'sci-fi', 'adventure', 'best', 'means', 'worst.', 'agree', 'statement', 'bad', 'comical.', 'pink', 'unusual', 'late,', 'show', 'viewers.', 'Space', 'Mars', 'fight', 'strange', 'giant', 'monsters', 'creatures.', 'Pretty', 'includes', 'Les', 'Gerald', 'Get', \"Don't\", 'feel', 'nod', 'moment.', 'adding', 'list', 'cult', 'classics', 'miss.', 'Some', 'Especially', 'against', 'point', 'bothered', 'used', 'Asian', 'play', 'black', 'man.', 'really.', 'Talk', 'taste.', 'During', 'scene,', 'fighters', 'floor', 'laughing.', 'Otherwise,', 'Sammo', 'copies', 'Bruce', \"Lee's\", 'fighting', 'moves', 'perfectly.', '5', '10', 'Not', 'start', 'it.', 'thought', 'original,', 'discovered', 'clone', '1976', 'remake', 'KING', 'never', 'saw', 'until', '9.', \"film's\", 'funky', 'disco', 'get', 'stuck', 'your', 'theme', 'song', 'worst', 'creature', 'ever', 'seen.', 'At', 'same', 'remains', 'holy', 'go', 'Yeti', 'tank', 'seeing', 'MOVIE', 'hosted', 'grabs', 'girl', 'climbs', 'up', 'building,', 'down', 'building', '(who', 'Also', 'around', 'year', 'another', 'MAN', 'Hong', 'Kong.', 'traveling', 'matte', 'body', 'parts.', 'leave', 'said,', 'Rated', 'PG', 'violence,', 'language,', 'thematic', 'elements,', 'scary', 'scenes.', 'live', 'direct', 'terrorism', 'largely', 'unknown', 'me,', 'brought', 'home.', 'That', 'men', 'themselves', 'line', 'members', 'did,', 'document', 'day.', 'testament', 'who', 'lost', 'lives', 'true', 'terror', 'part', 'Grinch', 'Jim', 'Carrey', 'extremely', 'impressed', 'performance.', 'great', 'pleasantly', 'surprised', 'outcome.', 'Taylor', 'Cindy', 'Lou', 'cutest', 'she', 'showed', 'maturity', 'beyond', 'years', 'skills.', 'drawn', 'tears', 'Dr', 'Seuss', 'tale', 'didnt', 'expect,', 'humour', 'dark.', 'enjoyed', '(apart', 'recommend', 'it,', 'viewing', 'veteran', 'many,', 'pretentious', 'French', \"I'd\", 'taken', 'industry', 'offer', 'able', 'stomach', 'anything.', 'this.', 'violent,', 'unpleasant,', 'meaningless', '...', 'random', 'hatred', 'aggression', 'dressed', 'art.', 'Avoid', 'costs.', 'bought', 'Blockbuster', 'guy', 'behind', 'counter', 'said', 'cheap', 'disc', 'failed', 'effort', 'sucked', 'harder', 'Paris', 'Hilton', 'hotel', 'room', 'home', 'video.', 'videos,', 'since', 'fair', 'game', 'release', 'them', 'say,', 'employ', 'scriptwriters', 'more', 'gather', 'friends', 'ideas', 'together', 'weekend,', 'lavish', 'production', 'budget,', 'someone', 'fall', 'stairs', 'keyboard', '(the', 'slap', 'sap', 'take', 'lonely', 'desperation.', \"here's\", 'fast', 'through', 'this,', 'tossed', 'side,', 'next', 'night,', 'while', 'Darren', 'Day', 'keep', 'slapped', 'Grim', 'back', 'on,', 'catch', 'listed', 'wonderful', 'viewers', 'claimed', 'were', 'hilarious.', 'Sure', 'once', 'got', 'pain,', 'horror,', 'realising', 'utter', 'could', 'enjoy,', 'downright', 'stuff.', 'Check', 'Then', 'check', 'flick.', 'Hell,', 'might', 'worth', 'saddest', \"I'll\", 'back.', 'knew', 'terrible', 'lunatic', 'Indian', 'chief', 'top', 'away', 'boy', 'into', 'baseball', 'right', 'now,', 'decided', 'rent', 'rainy', 'though', 'seemed', 'parts', 'cringe', 'needless', 'foul', 'language.', 'awful', 'ripoff', 'Bad', 'News', 'Completely', 'shameless', 'predictable.', 'done', 'well,', 'absolutely', 'not.', 'brilliant', 'episodes,', 'stands', 'favorites.', 'profound', 'episode,', 'meaning', 'message.', 'fine', 'makes', 'stand', 'is,', 'knowledge,', 'Twilight', 'Zone', 'episode', 'rightly', 'famous', 'providing', 'surprise', 'story.', 'time,', 'surprise,', 'turns', 'much,', 'probably', 'episodes', 'one).', 'achieved', 'mythology', 'Star', \"That's\", 'devoted', 'lovers', 'matter', 'every', 'winner.', 'ones', 'each', 'individual', 'cannot', 'show.', 'Because', 'reviewed', 'Trek', 'bad)', 'overall', 'ratings', 'reviews', 'positive.', 'Now,', 'scored', '10,', '3', 'simply', 'bad.', 'writing', 'embarrassingly', 'Two', 'opposing', 'sides', 'war', 'wandering', 'episode.', 'After', 'while,', 'apparent', 'only', 'learn', 'stupid', 'totally', 'unconvincing', 'conclusion.', 'Usually', 'twist', 'killed', 'it!', 'Election', 'marks', '2nd', 'trial', 'society', 'directed', 'casted', 'Simon', 'Tony', 'chosen', 'candidates', 'position', 'Ho', 'society,', '100', 'man', 'keeps', 'times,', 'D', 'thinks', 'everything.', '2', 'years.', 'total', 'control', 'gang,', 'newly', 'elected', 'passed', 'Dragon', 'represents', 'power', 'unhappy', 'results', 'paying', 'handsome', 'figure', 'council', 'members.', 'He', 'ordered', 'before', 'falls', 'onto', 'hands', 'getting', 'plans', 'movies', 'bloodshed', 'needed.', 'puts', 'greed', 'human', 'beings', 'commonly', 'how', 'caused', 'death', 'downfall', 'one.', 'However,', 'single', 'bullet', 'used,', 'involved', 'battle', 'wits', 'Maggie', 'less', 'lines', 'talk', 'whole', 'rules', 'Louis', 'Nick', 'film,', 'undercover', 'cop', 'gangster', 'sold', 'life', 'gang', 'respectively.', 'Together', 'appearance', 'script,', 'HK', 'represent', 'Cannes', 'Festival', 'critics', 'wants', 'casual', 'Rolling', 'interesting.', 'so,', 'its', 'born', 'propaganda', 'crap,', 'active', 'during', 'th', 'expected', 'drugs', 'disappointed,', 'life,', 'studio,', 'So', 'felt', 'working', 'conclusion', 'god', 'directors', 'films,', 'suspect', 'follow', 'similar', 'style', 'directing,', 'sort', 'gave', 'feeling', 'directed,', 'lacking', 'entertainment', 'value.', 'opinion', 'waste', 'money', 'free', 'Sunday', 'paper.', 'comedians', 'Neil', 'based', 'hit', 'especially', 'question', 'Matthau', 'Small', 'why', 'Burns', 'won', 'Oscar', 'this;', \"he's\", 'sharp', 'ever.', 'match,', 'tad', 'familiar', 'vaudeville', 'partners', 'reunite', 'delight', 'pick', 'other,', 'absolute', 'delight.', 'knock', '/', 'scene.', \"you're\", 'either', \"you'll\", 'Ten', 'stars.', 'Put', 'Based', 'novel', 'Michael', 'young', 'son', 'notorious', 'spends', 'last', 'teenage', 'summer', 'roaming', 'friends.', 'Art', '(Jon', 'opposed', \"father's\", 'lifestyle,', 'Visually', 'contrived', 'painful', 'attempts', 'create', 'beautiful', 'hip', 'indie', 'cinematography,', 'feels', 'director', 'whose', 'outright', 'commercial', 'desperately', 'seeking', 'credibility', 'aspects', 'stars', 'Miller', 'Like', 'Sundance', 'vanity', 'project', 'help', 'earn', 'points', 'respect', 'own', 'right.', 'People', 'Problem', 'Child', 'need', 'heads', 'malevolent', 'wreak', 'havoc', 'others', 'deem', 'funny?', 'ever,', 'way,', 'end.', 'cartoon,', 'writers', 'realize', 'slapstick', 'attacked', 'cartoons,', 'motion', 'hero', 'Junior', '(Michael', 'who,', 'baby,', 'placed', 'front', 'doors', 'foster', 'parents', 'families', 'reject', 'him,', 'tends', 'give', 'thrown', 'writes', 'pen', 'pal', 'letters', 'convicted', 'Killer', 'soon', 'adopted', 'Ben', 'John', 'Ritter', 'wife,', 'Amy', 'dying', 'child,', 'order', 'parent', 'becomes', 'member', 'interest', 'destroys', 'camping', 'trip', 'bear', 'site,', 'throws', 'cat', 'father', '(Jack', 'bigoted', \"we're\", 'care', 'root', 'him', 'revenge', 'people.', 'His', 'new', 'mother,', 'grandfather', 'selfish,', 'such', 'spoiled', 'laughs', 'mean,', 'cruel,', 'sometimes', 'resolve', 'problems', 'violence', 'seek', 'friendship', 'definitely', 'kid.', 'beat', 'others.', \"everybody's\", 'laughing', 'beats', 'marketed', \"What's\", 'worse', 'What', 'MPAA', 'thinking', 'this?', \"There's\", 'profanity', 'mean-spirited', 'pranks', 'here,', 'between', 'shocked', 'depicted', 'screen.', 'people,', 'considered', 'admit', 'opinion,', 'forth', 'serious', 'viewers,', 'piece', 'crap.', 'Brazilian', 'often', 'positive', 'Rather', 'title,', 'producers', 'God', 'Against', 'low', 'seems', 'rejected', 'female', 'Actually,', 'brutal.', 'concerned.', 'Its', 'brutality', 'portrays', 'would-be', 'underdog', 'citizens', 'possess', 'high-tech', 'perform', 'murder', 'orders', 'exchange', 'Is', 'post-modern', 'man?', 'his/her', 'worry', 'quick,', 'ultra', 'amidst', '?', 'picture', '2004,', 'far.', 'shining', 'editing', 'style,', 'la', 'curious', 'soundtrack', 'efficient', 'and,', 'above', 'all,', 'narration,', 'subtle', 'hidden', 'come', 'light', 'deserve', 'least', '8', 'mark.', 'Though', 'story', 'routine,', 'joke', 'audience,', 'attracted', 'offers', 'roles', 'shine', 'do.', 'impeccably', 'remade', '2000', 'want', \"(that's\", 'latter', 'one,', 'direction', 'explicit', 'references', 'hint', 'at.', 'ending,', 'however,', 'short', 'writer', 'Stephen', 'King', 'called', 'ancient', 'immortal', 'creatures', 'suck', 'energy', 'sustain', 'supernatural', 'invisible', 'fool', 'fleeing', 'humans', 'told', 'picked', 'till', 'starts', 'mother', 'arrive', 'sleepy', 'feed', 'on.', 'sends', 'local', 'virgin,', 'proceeds', 'try', 'alone', 'dry.', 'clear', 'easier', 'imagine', 'boys', 'apt', 'older', 'woman', 'secluded', 'area', 'teen', 'boy.', 'thwarted', 'fights', 'back,', 'police', 'hunt', 'sick', 'rampage', 'killing', 'cops', 'hurt', 'spouting', 'painfully', 'unfunny', 'liners', 'gore.', 'Finally', 'kills', 'Brian', 'Alice', 'showcase', 'computer', 'mildly', 'interesting', 'shows', 'progressed', 'muddled', 'camp', 'places.', 'unsure', 'whether', 'fear', 'sympathise', 'doubt', 'allows', 'hysterical.', 'amusing', 'cameo', 'annoying', 'gardener', 'Mark', 'puzzled', 'cop.', 'shoulder', 'depth', 'gives', 'indication', 'screenplay', 'direction.', 'corpses', 'No', 'knows', 'investigative', 'reporter', 'notes', 'bride', 'wearing', 'interview', 'Dr.', 'mad', 'scientist', 'including', 'sleeping', 'elderly', 'wife', 'fluid', 'brides', 'Corpse', 'premise', 'run', \"shouldn't\", 'boring.', 'Unfortunately,', 'drag', 'halfway', 'boring', 'clichés', 'Lugosi', 'charming', 'performs', 'Russell', 'beautiful,', 'creepy', \"I'm\", 'always', 'Walters', 'convincing', 'maintains', 'Gothic', 'atmosphere', 'sets', 'overall,', 'manage', 'hold', 'picture,', 'rate', 'poorly.', 'Hello', 'Dave', 'Burning', 'Paradise', 'anyone', 'likes', 'Jackie', 'Chan', 'Indiana', 'Jones.', 'protagonist', 'bastard', 'transformations', 'action', 'stereotypes.', 'Where', 'blending', 'traditional', 'Kong', 'Hollywood', 'adventure.', 'Sadly', 'Hollywood.', 'finest', 'pieces', 'drama', 'decade.', 'Throughout', 'five', 'hours,', 'constantly', 'challenged', 'explores', 'facets', 'modern', 'British', 'society.', 'David', 'usual,', 'brilliant.', 'coming', 'heavy', 'handed', 'conflict', 'heroine,', 'proving', 'intelligent', 'caring,', 'works', 'truth.', 'Jones', 'believe', 'Her', 'magnificent,', 'whilst', 'balance', 'demands', 'case', 'stress', 'caring', 'mother.', 'contributes', 'magnificent', 'drama,', 'efforts', 'absorbing', 'challenges', 'assumptions', 'characters.', 'restore', \"one's\", 'faith', 'impossible', 'settle', 'garbage', 'increasingly', 'filling', 'Drew', 'determined', 'Christmas.', 'obnoxious', 'guilty', 'grew', 'living', '\"family\"', 'Christmas', 'season.', 'Tom', 'greedy', \"Drew's\", 'offer.', 'Christine', 'matter,', 'learns', 'exactly', 'sentiment', 'daughter', 'change.', 'girlfriend', 'folks', 'family.', 'store', 'happy', 'Noel', 'hilarious', 'dysfunctional', 'nightmare.', 'cast:', 'Josh', 'Bill', 'Macy,', 'Stephanie', 'Affleck', 'albeit', 'strange.', 'Robert', 'Roy', '\"Rob', 'Roy\"', 'out,', 'seeing.', 'Playing', 'Liam', 'Neeson', 'spirit', 'role', 'Jessica', 'Lange', 'job', 'Cunningham', 'skin', '\"Braveheart\"', '(maybe', 'laugh', 'released', 'taking', 'England.', 'Very', 'starring', 'Hurt,', 'Eric', 'Jason', 'funniest', 'year.', 'incredibly', 'whacked', 'thing.', 'quality', 'one-liners.', 'blew', 'Uncle', 'Sam', 'water', '(it', 'think)', 'prevented', 'flick', 'disaster', 'couple', 'stylish', 'Spoiler', 'Death', 'comic', 'derivative', 'Movie,', 'delivers', 'cartoon.', 'Still', 'handled', 'nicely,', 'bleed', 'color', 'demon', 'glad', 'DVD', 'business', 'pretty', 'awful.', 'both', 'similarly', 'constant', 'dream.', ',', 'redeem', 'sense,', 'notes,', 'referred', 'lets', 'happens,', 'creative', 'gore', '10.', 'collection', 'ill-conceived', 'poorly', 'assembled', 'unedited', 'dim', 'camera.', 'theory', 'train', 'hair,', 'nervous', 'shot', 'herself', 'further', 'ten', 'bother', 'fit', 'context', 'European', 'mentality', 'praised', 'above.', 'complete', 'William', 'unfortunate', 'endless', 'representative', 'now', 'passes', 'next?', 'Six', 'social', 'Wal-Mart', 'sixties', 'thing,', 'am,', 'obligated', '80', 'barely', 'watchable', 'saving', 'graces', 'surprisingly', 'commentary', 'values', 'along', 'number', 'relatively', 'known', 'caught', '(and', 'footage.', 'sat', 'write', 'full', 'length', 'covering', 'issues', 'flower', 'hippies', 'budget', 'Hardly', 'classic,', 'capture', 'was,', 'silliness,', 'Clearly', 'everyone.', 'Woody', 'Allen', 'greatest', 'comedies', 'seriously', 'saying', 'Annie', 'Hall', 'hard.', 'course', 'Manhattan', 'Murder', 'Mystery', 'Sweet', 'Melinda', 'tired', 'unfunny,', 'usually', 'witty', 'happen,', 'our', 'runs', 'four', 'dinner', 'together.', 'mentions', 'happened', 'friend', 'bursts', 'party', 'unexpected.', 'hear', 'debate', 'comedy', 'Than', 'begin', 'view.', 'Both', 'center', 'named', 'tragedy', 'attempting', 'suicide', 'door', 'reason.', 'stumbles', 'popping', '28', 'wild', 'wind', 'together,', 'twice.', 'nice', 'Mitchell', 'Will', 'Ferrell', 'own.', 'stop', 'sinking', 'farther', 'Belushi', 'vehicle,', 'Wonderful', 'Caine', 'plays', 'angel', 'supporting', 'chemistry', 'Tell', 'truth', 'review', 'decide', 'loves', 'genre', '–', 'nudity', 'involve', 'cursing', 'righteous', 'gone', 'guys', 'send', 'brother', 'program', 'reckless', 'behavior.', 'met', 'boobs', 'obsession', 'medieval', 'self', 'connected', 'all.', 'anything', 'serve', 'done.', '(though', 'humor', 'lame.', '(like', 'Sasquatch', 'fell', 'casting', 'alright', 'produce', 'screenplay.', 'so-so', 'type', 'direction,', 'us', 'Hot', 'American', 'sucks.', 'somehow', 'managed', 'bring', 'attract', 'horrendous', 'riff', 'Only', 'naked', 'topless', 'dreadful', 'mix', 'reviewers', 'that.', \"Here's\", 'reviewer', '1)', '\"Baby', 'Face\"', 'perhaps', 'THE', 'classic', 'example', 'women', 'manipulate', 'sex.', 'Barbara', 'Stanwyck', 'demonstrates', 'film:', 'cute,', 'bat', 'whatever', 'case,', 'advancement', 'ultimate', 'goal', 'provide', 'ruins', 'process.', '2)', 'here', 'material', 'goods', \"won't\", 'sad', 'comment', 'immoral', 'sleaze', 'substance.', 'lines,', 'tells', 'crude', 'bar', '70', 'pace', 'cultural', 'inspiring', 'famed', 'Cop', 'Godfather', '3,', 'recently', 'described', 'grabbed', 'let', 'occasionally', 'major', 'global', '1984', 'famously', 'moment', '19', '5,', 'aired', 'eve', 'second', 'War.', 'Detective', 'misguided', 'ultimately', 'career', 'raid', 'Craig', 'widely', 'viewed', 'allegory', 'failure', 'weapons', 'mass', 'destruction', 'following', 'invasion', 'Iraq', 'several', 'months', 'experienced', 'officers', 'praise.', 'sympathetic', 'sensitive', 'areas', 'homosexuality,', 'drunken', 'chasing', 'suspects', 'overly', 'uniform', 'trouble,', 'haunt', 'excite', \"Bill's\", 'fans,', 'Nelson', 'dark', 'void', 'loneliness', 'summed', 'Island', 'treatment', 'subject', 'controversial,', '(just', 'film).', 'Apparently,', 'distinction', 'times', 'happen', 'portrayed', 'sequels', '\"Plan', '9', 'From', 'Outer', 'Space\"', 'level', '(my', 'apologies', 'Ed', 'Putting', 'aside', 'religious', 'message,', 'come.', 'Add', 'slightest', 'sequels,', 'reasons', 'did.', 'Omega', 'tried', 'explain', 'politics', 'Middle', 'East', 'leading', 'net', 'effect', 'instead', 'spreading', 'itself', 'thin', 'happening', 'Forget', 'stories.', 'stories', 'told,', 'frightening.', 'subject,', 'believe.', 'opens', 'meteor', 'crashing', 'lake.', 'dinosaur', 'egg', 'bottom', 'turning', 'guessed', 'releasing', 'terrorize', 'garbage.', 'stop-motion', 'else', 'bothers', 'dialogue', 'utterly', 'ridiculous.', 'relief', 'Any', 'similarity', 'actual', 'purely', 'eternity', 'idea.', 'fairly', 'safe', 'call', 'studying', 'Welles', 'Citizen', 'Kane,', 'prove', 'excuse', 'half-baked', 'scheme', 'fails', 'absurd', 'courtroom', 'ridiculous', 'twists', 'eventually', 'rating', 'Hayworth', 'fans', 'there.', 'awesome', 'non-stop', 'riot', 'usual', 'ingredients', 'bumbling', 'heroes', 'dolls', 'heroines', 'nasty', 'villains', 'rocking', '+', 'choreography', 'dose', '.', 'Amitabh', 'Bachchan', 'Govinda', 'double', 'policemen', 'heroine', 'opposite', 'mere', 'props', 'Paresh', 'carries', 'villainous', 'act', 'forward', '(He', 'played', 'Don', 'too)', 'shines', 'brief', 'impeccable', 'policeman', 'Hindi', 'speaking', 'pales', 'comparison', 'She', 'dances', 'track', 'looking', 'convenience', 'Just', 'Enjoy', 'plot.', 'Simple', 'dialogue.', 'performances.', 'Jr.', \"man's\", 'afternoon', '1', 'richly', 'deserved.', 'included', 'Black', 'too,', 'sequel', '(especially', 'obscure', 'this)', 'curious.', 'curiosity', 'satisfied', 'again.', 'footage', 'Ethel', 'asleep,', 'memories,', 'guess.', 'Thanks', '13', 'State', 'sent', 'lady', 'promptly', 'calling', 'filmed', 'camera', 'sound', 'pathetic,', 'Of', 'dispatch', 'food,', 'witnesses', 'acts', 'mayhem', 'Also,', 'murderers', 'knives', 'kitchen', 'rat', 'poison', 'under', 'Guess', 'disliked', 'except', 'curiosity.', 'wonders', 'makers', 'adaptation', 'followed', 'developed', 'strip', 'pages', 'books.', 'indeed', 'ironic', '(as', 'smart', 'wise', 'tongue-in-cheek', 'super', 'Republic', 'Pictures', 'interested', 'doing', 'copyright', 'owner', 'mid', 'deal.', 'became', 'best.', 'Perhaps', 'studio', 'penchant', 'adapted', 'pulp', 'radio', '1987', 'obvious', 'pilot', 'series.', 'Whereas', 'myself,', 'harsh', 'criticism', 'adaptation,', 'viewer', 'unfamiliar', 'fresh', 'notions', 'sitting', 'interacting', 'amid', 'Little', 'Lady', 'Mrs.', 'nailed', 'statement.', '\"This', 'describes', 'Mr.', 'genius', 'sincere', 'attempt', 'Ellen', 'contemporary', 'setting,', 'tradition', '\"the', 'costuming', 'goes,', 'know,', 'wore', 'final', 'point,', 'conscious', 'succeeded', 'giving', 'facial', 'expressions', 'Oh,', \"today's\", 'world,', 'adaptations', 'hot', 'Maybe', 'producer', '1st', 'class', 'Chicago,', 'By', 'Movies', 'poster', 'advertising', 'MY', 'Day,', 'Well,', \"we'll\", 'about.', 'fingers', 'TO', 'BE', 'II:', 'Frank', 'rendition', 'days', 'ago.', 'careful', 'ask', 'it?\"', 'Please', 'elsewhere', 'How', 'fake', 'life\"', 'made?', 'Hopefully', 'Victor', 'Vargas', 'self-conscious', 'Peter', 'attention', 'Nothing', 'wrong', 'general.', 'particular', 'ignores', 'piles', 'cliché', 'independent', '\"real\"', 'shake', 'lighting', 'swear', 'words', 'Al', 'Pacino', 'forth.', 'All', 'impress', 'crowd', 'heap', 'acclaim', \"You'd\", 'Ingrid', 'Bergman', 'Warner', 'Baxter', 'better.', 'suffers', 'difficult', 'problem', 'begins', 'Everything', \"couldn't\", 'perfect.', 'dies,', 'stock', 'market', 'crashes', \"family's\", 'forced', 'France.', 'portion', 'sticky', 'sweet,', 'fortunes', 'grown', \"they'd\", 'hire', 'again', 'But,', 'swell', 'WWI', 'occurs,', 'midst', 'sons', 'Miss', 'white', 'others,', 'horny', 'worse,', 'really,', 'dumb.', 'Hayward', 'affair', \"David's\", 'brothers', 'sees', 'lovers,', 'enters', 'entrance', 'pretends', 'her,', 'Why', 'sane', 'save', 'butt', 'conniving', 'needed', 'rid', 'all!', 'lousy', 'audiences', 'consists', 'opportunity', 'flies', 'common', 'silly', 'melodramatic', 'mess.', 'expected,', 'loving', 'minus', 'writing.', '(with', 'sinks', 'saves', 'turgid', 'script.', 'Suffice', 'Columbia', 'Despite', 'intelligent,', 'important', 'interesting,', 'fortunately', 'mercifully', 'quickly.', 'relationship', 'strangely', 'trite,', 'space', 'music.', 'one-note', 'Harvey', 'Keitel', 'manages', 'deliver', 'turn.', 'later', 'brain', 'NOT', 'funny.', 'movie!', 'Did', '\"real', '(in', 'cars', 'ONLY', '??', 'Same', 'ignored', 'facts', \"Che's\", 'character.', 'narrative', 'seductive', 'poverty', 'Robin', 'Hood', 'alongside', 'poor,', 'murdered', 'Yeah,', 'yeah,', 'AND', 'reality', 'Che', 'Guevara', 'openly', 'impose', 'world.', 'fanatical', 'hottest', 'Cold', 'War,', 'begged', 'Soviet', 'Union', 'New', 'York,', 'Washington', 'Los', 'Angeles', 'launch', 'nuclear', 'strike', 'US', 'declared', 'finger', 'pushed', 'When', 'backed', 'literally', 'saved', 'furious', 'reading', 'now.', 'homicidal', 'maniac', 'pop', 'icon', 'Incredible', 'filmmaker', 'daring', 'side', 'media', 'THAT', 'MAKE', 'AN', 'meant', 'REAL', 'stick', 'wit,', 'Street', 'ex', 'fanatics', 'wish', 'tackle', 'Independent', 'Film', 'Oh', 'disappointment.', 'Westerns', 'decades,', 'aware', 'showing', 'yesterday', 'Scott', 'again.The', 'rich', 'colour', 'outdoor', 'negative', 'made.', 'Several', 'finally', 'through,', 'unusually', 'girls,', 'Mexican', 'army', 'uniforms', '20', 'modern,', 'half,', 'see.', 'While', '(I', 'MUCH', 'lame', 'Basically', 'rehash', 'difference', 'Clint', \"Eastwood's\", 'hat', 'charisma', 'Joe', 'Baker,', 'unappealing', 'guy,', 'sit', 'mostly', 'acting,', 'specially', 'girl.', 'Poor', 'romantic', 'lead', '(watch', 'Looking', \"Don's\", 'show,', 'unfortunately.', 'generic', \"80's\", 'movie\"', 'Clark', 'breaks', 'nose', 'loses', 'three', 'teeth.', 'Malta', 'locations', 'nice,', '3/10.', 'little.', 'far,', 'strangest', 'weird', 'movies,', 'anything,', 'Toy', 'Story,', 'toys', 'Raggedy', 'Ann', 'Andy', 'rescue', 'friend,', 'craziness', 'ensues.', 'sea', 'monster', 'bunch', 'pirates', 'singing', 'cute', 'song.', 'lonely,', 'friendly', 'Then,', 'Sir', 'plain', 'Leonard', 'Evil', 'villain.', \"Andy's\", 'honestly,', 'remember,', 'admit,', 'moments.', 'See', 'interested,', 'mood', 'ordinary.', 'preview', 'Diane', 'Keaton,', 'Eli', 'gotta', 'library.', 'sorry', 'homes', 'Perhaps,', 'least,', 'maybe', 'offered', \"they'll\", '\"Just', 'Say', 'secret', 'agent', 'soldier', 'tough', 'uncover', 'Nazi', 'turn', 'tide', 'World', 'War', 'II.', 'breaking', \"Hitler's\", 'machine', 'influential', 'inspired', 'Many', 'games', 'existed', 'today,', 'III', 'Yes,', 'respect,', 'shots', 'led', 'biggest', 'waves', 'fired', 'Duke', 'Max', 'Agent', 'Gordon', 'Freeman', 'legions', 'owe', 'existence', 'Whether', 'directly', 'or,', 'cases,', 'look,', 'aged', 'graphics,', 'simple', '(this', 'game,', 'border', 'highly', 'levels,', 'scope', 'six', 'lots', 'discovering', 'secrets', 'treasure', 'grows', 'old.', '---', 'exceptionally', 'tame', 'compared', 'today.', 'security', 'guard', 'Aaron', 'accident', 'leaves', 'Luckily', 'happens', 'Andrea', 'Hewitt', 'operation', 'transplant', 'organs', 'species', 'another,', 'decides', 'experiment.', '&', 'team', 'eyes', 'Wolf', 'miraculously', 'sight.', 'right?', 'images', 'develop', 'lust', 'blood.', 'escapes', 'valuable', 'scale', 'search', 'yet', 'Sci-Fi', 'Channel', 'offering', 'possible', 'started', 'straight', 'ended', 'feature', 'creature.', 'awful,', 'appeal', 'to.', 'initial', 'set-up', 'OK', 'elements', 'horrible', 'focuses', 'entirely', 'mental', 'state', 'Native', 'woman.', 'Yep,', 'loads', 'rubbish', 'you?', 'dynamics', \"character's\", 'bizarre,', 'shown', 'kill', 'unlikable,', 'sight', 'him.', 'gift', 'regular', 'staple', 'military', 'intervention', 'present,', 'real,', 'hilariously', 'half', 'forest', 'pack', 'set', 'emotional', 'slower', 'hell,', 'virtually', 'round', 'circles', 'ridiculous,', 'explanation', 'eyes,', 'hell', 'surgery', 'eye', 'guarantee', 'up,', 'open', 'wakes', 'bed', 'effects,', 'blood', 'remotely', 'drab', 'Canada', 'bland', 'forgettable.', 'hopefully', 'struggle', 'avoided', 'longest', 'Long', 'dismissed', 'theatre.', 'shook', 'disbelief', '11', 'Academy', 'Awards', 'asked', 'judge', 'public', 'girls', 'spoke', '\"It', 'said.', '\"You', 'thought.', 'shared', 'feelings', 'fellow', 'looked', '\"you', 'right,', \"she'll\", 'Titanic.', '\"Well,', 'I.', 'appeared', 'Pay', 'TV.', '\"I\\'ll', \"didn't.\", 'loved', 'start?', 'First', 'directing.', 'contestant', 'Cameron', 'creating', 'aboard', 'elegant', 'ship', 'news', 'rising', 'it;', 'Winslet', 'Leonardo', 'DiCaprio', 'superior,', 'stealing', 'Frances', 'Fisher', \"Rose's\", 'snobby', 'details.', 'expert', 'Titanic,', 'reasonable', 'general', 'historical', 'details', 'accurately', 'seamlessly', 'fictional', 'romance.', 'impressive,', 'indeed.', 'Celine', '\"My', 'Heart', 'Goes', 'romance', 'contrived,', 'accept', 'moved', 'effortlessly', 'class.', 'invited', 'time;', 'stopped', 'realities', 'separation', 'classes', 'realistically', 'portrayed,', 'passengers', 'locked', 'empty', 'minor', 'though.', 'regret', 'theatre,', 'STAR', 'RATING:', '*****', 'Between', '**', 'Behind', '*', 'missing', 'bomb', 'capable', 'cocky', 'film)', 'assistance', '(Jennifer', 'them.This', 'dealt', 'Filmed', '2001,', 'Norris', 'commented', 'afterwards', 'eerily', 'resembled', 'downtown', 'York', 'day,', 'kick', 'terrorist', 'ass', 'else.', 'in.', 'warrant', 'place,', 'sometime', \"you've\", 'unexpected', 'Italian', 'actresses,', 'plot,', 'fantastic.', 'slow,', 'On', '3.', 'good\"', 'theatre', 'humming', 'repeating', '\"old', 'man,', 'dogs', '\"do', 'do,', 'drive', 'crazy', 'happy.', 'EVER.', 'gay', 'rounded', 'damaged', 'blind', 'deluded', 'culture.', 'shock,', 'outrage', 'sheer', 'dog', 'tied', 'tail', 'churned', 'dozen', 'Anyone', 'says', 'joke,', 'paid', 'heavily', 'so.', 'warn', 'here:', 'chose', 'psychological', 'appreciate', 'basis', 'tell', 'wrong.', 'no,', 'disappointing', 'flick,', 'unsatisfying', 'levels', 'bad,', 'suppose,', 'possessed', 'Billy', 'Zane', 'Was', 'guaranteed', 'aiming', 'success,', 'somebody', 'screenwriter', 'write.', 'Ah,', 'yes,', 'mess,', 'believing', 'shortly', 'itself,', 'assure', \"could've\", 'Hanks', 'Sullivan,', 'Angel', 'surrogate', 'Irish', 'mob', 'boss.', \"Sullivan's\", 'road', 'weeks', 'robbing', 'avenge', 'son.', 'Enter', 'Jude', 'Law', 'willing', 'Sullivan', 'chance', 'add', 'photos', 'beautifully', 'catching', 'Sometimes', 'down,', 'burst', 'graphic', 'Director', 'Mendes', 'directs', 'powerful', 'loyalty,', 'betrayal', 'bonding', 'notable', 'are:', 'Dylan', 'Stanley', 'Daniel', 'Jennifer', 'memorable', 'Make', 'favorable', 'see,', 'pace,', '15', 'yourself', \"He's\", 'John,', 'purchase', 'bottle', 'robbery', 'Rose,', 'robbery.', 'hospital', 'guy.', 'wait,', 'obsessed', 'logical', 'girlfriend,', 'job,', 'house,', 'car,', 'expensive', 'loser', 'Rose', 'experience', 'dump', 'connections', 'dangerous', 'know.', 'Goldblum', 'improved', 'age', '--', 'unless', 'BIG', 'in,', 'turkey.', 'approximately', 'hours', 'thankful', 'over,', 'grateful', 'film!', 'embarrassment', 'critique', 'sex', 'valid', 'lingering', 'dance', 'ardent', 'BAD', 'please', 'innocence', 'clearly', 'Edinburgh', 'festival', 'critical', 'rant', 'genuinely', 'redeeming', 'pure', 'cocktail', 'drugs.', 'went', 'Satan', 'tainted', 'Wow,', 'basically', 'lowest', 'grade', 'nonsense', 'terrifying', 'Code', 'made,', 'therefore,', 'choice', 'biblical', 'stories,', 'started.', 'overlooked', 'unfortunately,', 'overlooked.', 'horribly', 'overlook', 'problems.', 'Another', 'strikes', 'nearly', 'quiet', 'longer', 'think.', 'whereas', '6', 'stay', 'chair', 'fascinated', 'selfish', 'Miles', 'film-maker', 'storyline', ':', 'divorce', 'author', 'quest', 'written,', 'books', 'Chester', 'Brown,', 'disappointed', 'country,', 'american', 'french', 'arrogant', 'etc.,', 'besides', 'disposal', 'cinema', 'Betty', 'hits', 'Beach', 'Scotland', 'days,', 'take.', 'stroll', 'de', 'pleasant', 'surely', 'nadir', 'chop', 'shop', 'boyfriend.', '1.', 'is?', '2.', 'boyfriend', 'himself.', 'sucker', 'sticking', 'out.', '\"Happy', 'Go', 'musical', 'took', 'status', 'star.', 'Ms.', 'pay', 'Scottish', 'stumbling', 'thru', 'dialog', 'mistaken', 'identity', 'thin,', 'exception', 'Cesar', 'Romero', 'Bobby', 'role)', 'boring,', 'sing', 'dance,', 'tools', 'Texas,', 'celebrate', 'Halloween', 'party.', 'Meanwhile,', 'Nightmare', 'pirate', 'confess', 'serial', 'killer,', 'listening', 'nightmares', 'true,', 'sadistic', '\"American', 'explanation,', 'couples', 'isolated', 'area,', 'shifts', 'bar,', 'celebrating', 'Halloween.', 'performance,', 'breasts', 'bodies,', 'C', 'production.', 'instinct', 'motives', 'behavior', 'nurse', 'Jane', 'sensation', 'shooting.', 'With', 'conclusion,', 'slasher', 'vote', '(Brazil):', \"50's\", 'cold', 'America,', 'Adam', 'Arkin', 'Tony,', 'Full', 'Moon', \"1950's.\", 'travel', 'communist', 'Romania', 'streets', 'bitten', 'werewolf.', 'returns', 'urges', 'spree.', 'flees', 'town.', 'later,', 'town', 'human.', 'culminates', 'schools', 'football', \"80's.\", 'actually,', 'cast,', 'Kenneth', 'coach,', \"Tony's\", 'former', 'Wilson', 'bus', 'driver,', 'Alan', 'oddball', 'struck', 'attitude', 'seriously.', 'Canadian', 'Vincenzo', 'Natali', 'art-house', 'circuit', 'storm', 'intriguing', 'astonishingly', 'personal', 'SF', '90s.', 'framed', 'basic', 'conceit', 'strangers', 'trapped', 'maze', 'shaped', 'set,', 'fascinating', 'directions.', 'eagerly', 'awaiting', 'although', 'project,', 'delighted', 'wait.', 'Cypher', 'exploration', 'place', 'chain', 'events,', 'situation', 'reveal', 'joys', 'down.', 'refreshing', 'head.', 'walk', 'planet,', 'hired', 'company', 'America', 'record', 'unbelievably', 'topics', 'mundane', 'shaving', 'cream', 'Morgan', 'waiting', 'Rita', 'Foster', '(an', 'Lucy', 'definition', 'ice', 'surprising', 'considering', 'dry', 'marriage', \"Morgan's\", 'impact', 'us,', 'path', 'talent', 'seemingly', 'ordinary', 'familiar,', 'thrust', 'unknown.', 'follows', 'carbon', 'copy', 'conspiracy', 'thrillers', 'paranoia', 'themes', 'creep', 'knowledge.', 'realises', 'false', 'larger', 'shock', 'Cube', 'polished', 'is.', 'confined', 'minimalist', 'setting', 'shoestring', 'can,', 'allowing', 'launching', 'journey', 'exceptional,', 'deft', 'hand', 'angles', 'above,', 'robust', 'office', 'block', 'insignificant', 'standing', 'outside.', 'appears', 'compliments', 'tone', 'perfectly', 'uniformly', 'throughout.', 'Jeremy', 'Northam', 'questioning', 'identity.', 'transform', 'eyes.', 'confident', 'preserve', 'welcome', 'borrowed', 'Men', 'Black.', 'exercise', 'carefully', 'calculated', 'suspense', 'fantastic', 'writing,', 'brilliantly', 'acted', 'Morgan,', 'complex', 'Liu', \"who's\", 'Too', 'potential', 'effect.', 'fits', 'guarded', 'femme', 'fatale', 'control,', 'reduce', 'silence', 'icy', 'stare', 'conclude', 'ambiguous', 'note', 'deserves', 'cheered', 'ray', 'gloomy', 'succeeds', 'counts.', 'shocking,', 'entertaining,', 'Total', \"wasn't.\", 'antidote', 'overwhelming', 'inexplicable', 'follow-up', 'committed', 'Superb', 'stuff!', 'criticized', 'statement,', '\"If', 'past', 'misses', 'point.', 'conscience', 'were.', 'decent', 'standard', 'mystery,', 'distinct', 'midway', 'through.', 'resolution', 'wondering,', '\"What', 'intended.', 'stage,', 'served', 'faces,', 'today', 'Besides,', \"protagonist's\", 'moral', '1972', 'psychotic', '21st', 'found', 'clothing', 'car', 'styles', 'memories', 'country', 'stations', 'from.', 'Muslim', 'Road', 'Bird', 'etc,', 'etc.', 'Vietnam', 'over.', '7', 'Wars', 'internet', 'began', 'touring', 'small', 'course).', 'church', 'Thief', 'obtain', 'evening', 'meeting', 'lunch', 'room.', 'invite', 'event', 'week.', 'limited', 'nostalgic', 'value,', 'more.', 'goodbye', 'century', 'genuine', '1950s', 'Colin', 'wrote', 'Love', 'three.', 'excellent.', 'last,', 'experiment', 'off.', 'nightmare', 'turned', 'one-dimensional', 'captures', 'London,', 'goodness', 'alive', 'witness', 'throughout', 'Prince', 'phenomenal', 'musician', 'displayed', 'straightforward', 'fault,', 'principals', 'Purple', 'Rain', 'strong', 'rely', 'basics', 'taught', 'environment', 'art', 'reflects', 'Return', 'Cabin', 'Lake', 'lacking.', 'amount', 'So,', 'shots.', 'odd', 'SOME', 'worthwhile', 'IF', 'compare', 'cheesy', '1990', 'Brad', 'Pitt', 'Lewis', 'Die', 'aspiring', 'Duchovny', 'photographer', 'Michelle', 'Forbes', 'rocky', 'sorts', 'minds', 'souls', 'killers.', 'odyssey', 'cross', 'visit', 'sites', 'ways', 'financial', 'arrival', 'Juliette', 'pair', 'southern', 'types', 'split', 'cost', 'gas', 'trip.', 'killer', 'research', 'own,', 'for,', 'ability', 'large', 'degree.', 'walking', 'inbred', 'refugee', 'well.', 'Watch', 'hair', 'pathetic', 'reactions', 'ought', 'flicks,', 'Everybody', 'superb.', 'spoil', 'Kurosawa', 'weaves', 'diverse', 'Shakespearean', 'tale.', 'touching,', 'development', 'perfect,', 'cinematography', 'vivid', 'engaging,', 'draws', '18th', '19th', 'tales', 'Japan', \"Kurosawa's\", 'work.', 'worst,', 'change,', 'heartily', 'buff,', 'continue', 'weird,', 'place.', 'disturbing', 'fantastically', 'works,', 'touch', 'characters,', 'extremes', 'personalities', 'shop,', 'Pauline', 'treats', 'special.', 'recent', 'addition', 'range', 'league', 'recommend.', 'wont', 'Amicus', 'Dripped', 'Blood\"', 'delightfully', 'macabre', 'tales,', 'eerie', 'mansion.', 'wonderfully', 'ensemble', 'casts', 'imaginable.', 'Lee', 'Denholm', 'Elliott', 'ravishing', 'Horror', 'afford', 'miss', 'it?', 'cast.', 'revolves', 'rural', 'mansion,', 'happening.', 'parts,', 'tale,', 'novelist', 'wife.', 'moving', 'haunted', 'retired', 'businessman', 'Phillip', 'Grayson', '(Peter', 'mysterious', 'nearby', 'Cushing', 'sublime', 'third', 'creepiest', 'four.', 'Reed', '(Christopher', 'daughter.', 'private', 'teacher', 'nanny', 'employed', 'appalled', 'towards', 'eager', 'views', 'upbringing', 'always,', 'role.', 'Dawn', 'Porter', 'praise', 'Chloe', 'ingenious', 'must-see', 'fourth', 'segment,', 'Henderson', 'sexy', 'Carla', 'satire,', 'allusions', 'films.', 'indirectly', 'refers', 'Lee,', 'segments', 'stated', 'atmospheric', 'humorous', 'lover', 'appreciate.', 'An', 'humor,', 'must-see.', 'Highly', 'encourages', 'attention.', 'apart', 'cinematic', 'Unlike', 'cinema,', 'bonus', 'features,', 'commentaries', 'viewing.', 'screened', 'uncomfortable', 'angry.', 'coffee', 'Friday', 'dedicated', 'viewer,', 'delightful', 'hopes', 'Iran', 'win', '2006', 'Germany.', 'allowed', 'matches', 'comedy,', 'consummate', 'skill', 'absurdity', 'freedom', 'soldiers', 'pieces,', 'toilet', 'stadium', 'women.', 'simplest', 'stage', 'Yet', 'No,', 'sure.', 'reminds', 'More', 'boat', 'servant', 'island', 'master', 'upon', 'Madonna', 'however', 'fire.', 'thats', 'sad.', 'platform', 'improve', 'profile', 'corner', 'loose', 'mediocre.', 'location.', 'canned', '\"A', 'League', 'Their', 'Girl\"', \"Madonna's\", 'afterwards.', 'Animation', 'pile', 'remain', 'messed', 'entry', 'stumble', 'across.', 'merely', 'extra', 'nowhere', 'Jet', 'Li', 'martial', 'reflections', 'yeah', 'listen', 'ALL', 'trust', 'you,', 'dear', 'u', 'matters.', 'typical', 'like,', 'understood', 'pouring', 'concentration', 'understand', 'something.', 'language', 'performed.', 'letter', 'incomprehensible', 'understanding', 'myself', 'then,', 'Hamlet', 'screen,', 'amazingly', 'raw', 'describe', 'something,', 'North', 'entertainment.', 'awe', 'inspiring.', 'amazing,', 'Wow.', 'word.', 'hundred', 'Yes', 'forget', \"You're\", 'wasting', 'created,', 'hats', 'wacky', 'Good', 'post', 'GO', 'SEE', 'IT', 'pretend', 'children,', 'should,', 'arms', 'thrilled', 'bears', 'songs,', 'sweet', 'memorable.', 'be!', 'trash', 'TV,', 'raise', 'frame', 'these.', 'shadow', 'Steven', 'Seagal', 'lot.', 'fooled', 'rating,', 'abomination', \"hadn't\", 'worthy', '0/10', 'existed.', 'Absolutely', 'Worst', 'himself,', 'fighting,', 'always.', 'fat,', 'lazy', 'Something', 'thousand', 'badness', 'first-rate', 'western', 'gold', 'rush', 'excitement,', 'romance,', 'Stewart', 'westerns', 'Stewart,', 'again,', 'westerns.', 'kindly', 'Ironically,', 'wear', 'bell', 'ride', 'displays', 'sidekick,', 'Walter', 'present', 'twists,', 'Ben,', 'quick', 'Dawson,', 'Roman', 'men.', 'unable', 'leave,', 'crooked', 'sheriff', 'Gannon', 'hang', 'them,', 'eventually,', 'McIntire', 'collect', 'and/or', 'owes', 'government.', 'for?', 'cheat', 'miners', 'claims', 'money.', 'killed.', 'Dawson', 'needed,', 'gun.', 'refuses', 'pull', 'law', 'instead.', 'men,', 'evil,', 'fancy', 'guns,', 'arrest', 'done,', 'drunk.', 'replaces', 'killed,', 'realizes', 'rules,', 'townspeople', 'stays', 'mercilessly', 'walks', 'arm.', 'seconds,', 'gun,', 'hanging', 'beside', 'bed,', 'gun', 'background,', 'inside', 'door.', 'stares', 'seconds.', 'tosses', 'away.', 'lands', 'chair,', 'floor.', 'throwing', 'consisted', 'anybody', 'helping', 'help.', 'ends', 'feel-good', 'alright.', 'PLEASE', 'READ', 'AM', 'FILM', 'rank', 'epic', '\"War', 'historically', 'accurate', 'scenes,', 'courtesy', 'Red', 'Army,', 'anywhere', 'restores', 'cut', 'prints', 'DVD.', 'muddy', 'tolerable', 'crank', 'there.The', 'loud', 'HUGE', 'English', 'speakers', 'dubbed', 'option', 'actors,', 'slipping', 'Russian', 'subtitled', 'subtitles', 'appear', 'below', 'image,', 'beauty', \"what's\", 'it)', 'scenery.', 'Furthermore,', 'translation', '(a', 'pains', 'drop', 'color,', 'settings,', 'volume', 'dubbed,', 'content', 'overcome', 'that?', 'to,', 'masterpiece', 'Welcome', '17', 'chilling', '50', 'sense.', 'Seriously,', 'confused', 'seconds', 'happened.', 'BEFORE', 'mustache', 'pictures', 'somewhere.', 'steals', 'jeep', '200', 'feet', 'deserted', 'village', 'lady.', 'blah', 'stuff', 'talking.', 'fog', 'forgot', 'pointless', 'staying', 'eyed', 'leave.', 'noticed', 'sadly,', 'REALLY', 'confusing', '30', \"i've\", 'dress,', 'released,', 'witches', 'are,', 'dawn', 'watcher', 'Farrah', 'Fawcett', '1986', 'escape', 'clutches', 'Well', 'Golden', 'Globe', 'rapist', 'home,', 'shares', 'roommates', 'conveniently', 'Marjorie', \"Joe's\", 'frightening', 'shocking', '(to', 'least)', 'actions,', 'Alfre', 'convince', 'police,', 'Diana', 'irritating,', 'admits', 'well-acted', 'hundreds', 'now!', 'everybody', 'involved.', 'shockingly', 'subversive', 'wealthy', 'upper', 'plots', 'manipulates', 'uses', 'privileged', 'embark', 'activities', 'decidedly', 'kind.', 'clever', 'dashing', 'male', 'naturally', 'tall,', 'stranger', 'wicked', 'backward', 'meets', 'weakness', 'extreme,', 'thirst', 'Romance', 'Spike', 'host', 'deserved', 'credit', 'Wayans', 'Brothers', 'Living', 'launched', 'amongst', 'stupidity', 'gross', 'operating', \"Man'\", 'baby', 'teeth', 'tattoo', 'accepted', 'Baby', 'criminal', 'stupidest', 'earth', 'stolen', 'huge', \"woman's\", 'purse', 'pursue', 'line:', '\"I\\'m', 'surrounded', 'credit,', 'Chuck', 'Bunny', 'Damon', 'Jay', 'Leno', 'awards', 'green', 'mans', 'guilt', 'troubled', 'talent.', 'thriller', 'speed', 'Timothy', 'Hutton', 'villain', 'Angelina', 'Jolie', 'doctor', 'finding', 'addiction', 'desire', 'sultry', 'Unfortunately', 'weaker', 'relationships', 'FBI', 'rushed', 'created', 'aside,', '95', 'trash.', 'online', \"movie's\", 'promising', 'WRONG!', 'dynamic', 'storyline.', 'unrealistic', 'blonde', '(but', 'woods.', 'warned', 'hysterical', 'friend.', 'foot', 'worry,', 'upset', 'impaled', 'blond', 'ensue', 'remember.', 'grotesque', 'torture', 'substance', 'Blonde', 'admirer', 'cannibals', '(even', 'eating', 'eat', 'contain', 'tears.', 'announces', 'remarkable', 'change', 'reveals', 'shooting,', 'Before', 'shot,', 'killing.', 'shoots', 'killing,', 'covers', 'sequel.', 'easy', 'answer', 'that:', 'Kubrick', 'proved', 'simple.', '(played', 'move', 'large,', 'caretaker', 'girls.', 'readily', 'stuff,', 'adds', 'factor', 'Music', \"Kubrick's\", 'Clockwork', 'disappoint', \"Nicholson's\", 'legendary', 'killer.', 'top-notch', 'Interesting', 'Civil', 'kept', 'incident', 'rebels', 'complaint', 'Confederate', 'stiff', 'times.', 'wounded', 'Overall,', 'descent', 'sneak', 'rolling', 'face', 'wishing', 'but,', 'entertaining.', 'Steve', 'Carell', 'spotlight', 'Legend', 'Ron', 'movies.', 'Rudd', 'broad', 'continues', 'dramas', 'Seth', 'work,', 'freaking', 'engaging.', 'Leslie', 'Mann', 'easily', 'rabid', 'please,', 'what,', 'parents,', 'Sure,', 'teens', 'awkward', 'B', 'slashers', 'Harry', 'chimney', 'Santa', 'suit.', 'tree,', 'eats', 'milk', 'suit', 'sexually', 'stairs,', 'smashes', 'snow', 'cuts', 'present.', 'sleeps', 'watches', 'kids.', 'Dream', 'toy', 'factory.', 'boss', 'cares', 'travels', 'tree.', 'bed.', 'bedroom', 'spot', 'hurt.', 'suspicious', 'pulls', 'switch', 'blade', 'stab', 'townsfolk', 'reaches', \"brother's\", 'Once', 'Silent', 'Night', 'Deadly', \"Santa's\", \"You'll\", 'Wish', '0', 'cause', 'deserves.', 'facts.', 'history.', 'edit', 'joke.', 'crap?', 'insult', 'movie?', 'Zombie', 'cake', 'damn', 'table.', 'THIS', 'filmmakers', 'completed', '\"', 'WERE', 'YOU', 'makeup', 'thinking.', 'nation,', 'voted', 'Zero', 'have.', 'WORST', 'IN', 'Turkish', 'Sweden', 'understand.', 'Last', 'week', 'Polish', 'polish', 'mine', 'watched.', 'worse.', 'None', 'Helen', 'nobody', 'it.I', 'mess', 'start.', 'most,', 'Laurel', 'Hardy', 'comical', 'resemble', 'Hardy,', 'miserably', 'various', 'reasons.', '(still', '20th', \"90's\", 'setting.', 'shelf', 'forever.', 'surly', 'spinning', 'Absolute', 'garbage,', 'van', 'ninja', 'dire', 'wooden', 'acceptable', '80s', 'proper', 'arts', 'grim', 'husband', 'Williams', 'fan.', 'focus', 'comedic', 'roles.', 'thoughts', 'confirmed', 'bored', 'intrigue', 'maintaining', 'developed.', 'partner.', 'explored', 'further.', 'important,', 'deeper', 'delve', 'into.', 'history', 'touched', 'superficial', 'reporters', 'Cool', 'J', 'role,', 'around.', 'cracked', 'smile', 'carried', 'Spacey', '(on', 'teenager.', 'Dad', 'regarded', 'recommended', 'stayed', 'forever', 'decades', 'regard', 'western,', 'realistic', 'LAST', 'earlier.', 'Actually', 'ahead', 'certainly', 'bleak', 'bound', 'partly', 'hate,', 'seeming', 'choices,', 'crippled', 'frames', 'gem.', 'buffalo', 'past,', 'Aside', 'involved,', 'dialogue,', 'mentioned,', 'superbly', '(aside', 'Anthony', 'cleverly', 'Master', 'successful', 'imaginable', 'genre,', 'prolific', 'higher', 'delirious', 'Eddie', 'impressions', 'impression', 'Brown', 'Mr', 'SO', 'Murphy', 'BUT', 'prime', 'nutty', 'professor', 'there...', 'responsible', 'jokes', 'worked', 'island.', 'Eva', 'replace', 'Adolf', 'suggest', 'seats', 'Lucille', 'Ball', 'physical', 'situations,', 'intelligence.', 'damage', 'concept', 'Hitler', 'repugnant', 'normal', 'produced.', 'finished', 'AKA', 'asleep', 'grating', 'sleep.', 'Shatner', 'qualities.', 'hoping', \"he'd\", 'wrong,', 'irritating', 'damned', 'Tale', 'Sisters', 'Into', 'frequent', 'Cinderella', 'adults', 'unrealistic,', 'Shahid', 'Kapoor', 'dreamy', 'twist,', 'hour', 'bashing', 'majority', 'elevate', 'studies', 'Springer', 'centered', \"people's\", 'are.', 'empathy', 'Connie', 'Molly', 'appearing', 'Have', 'mainly', 'relegated', '\"B\"', 'earnest', 'carry', 'heart', 'Sister', 'empty.', '\\x85', 'baddie', 'yes', 'timing', 'OF', 'SPOILERS', '(The', 'spoiler', 'answered', 'ill', 'theater,', 'paper', 'muster', 'great.', 'offbeat', 'cleverness', 'handle', 'dumb', 'senseless', 'Sen', 'grace.', 'part.', 'actresses', 'Boman', 'Irani', 'Particularly', 'fires', '(And', 'Tara', 'speaks', 'parties', 'celebrities', 'et', 'al', 'same.', 'picks', 'agrees', '\\x96', 'tackles', 'issue', 'roller-coaster', 'informs', 'smiling', 'film-making.', 'Rock', 'School', 'made!', 'Sex', 'young,', 'Vincent', 'hall', 'added', 'loud,', 'Joey', 'Dee', 'Firstly,', 'incorporates', 'slapstick,', 'sexual', 'humour,', '(something', 'matter.', 'Chris', 'Barry', 'Singer', 'future.', 'Terrible', 'legend', 'amazing.', 'Looks', 'audience.', 'Adventures', 'imagination,', \"you'd\", 'approach', 'visual', 'spark', 'force', 'imagination', 'Simpsons', 'Homer', 'whatever.', 'waste.', 'Dear', 'Human', 'Earth', 'Forces', 'Alliance', 'gain', 'colony', 'Justice', 'Rebel', 'disguised', 'forces', 'Wing', 'popular', 'Gundam', 'Anime', 'animation,', 'stunning', 'scripts,', 'unforgettable', 'possible.', 'space,', 'occupied', 'Force', 'shadowy', 'Five', 'pilots', 'extraordinary', 'teenager', 'unleash', 'Freedom', 'sinister', '(about', 'minutes)', 'seat.', 'Gere', 'value', 'bondage', 'torture.', 'cutting', 'relies', 'jump', 'cuts,', 'mini', 'flashbacks', 'weight', 'vapid', 'setup', 'apparently', 'leader', 'sexist', 'Surely', 'Saturday', \"kids'\", 'count', 'sets.', 'opera', 'smarmy', 'loony', 'storyline,', 'plods', 'along.', 'spaceship', 'wall', 'clock', 'bathed', 'red', 'light.', 'bare', 'hairy', 'chest', 'message', 'eight', 'Moto', 'Lorre', 'weary', 'pairing', '\"funny\"', 'sidekick', 'defeats', '1940', 'secure', 'marvel', 'outstanding', '(This', 'colonel', 'poem', 'Gunga', 'Din', '\"You\\'re', 'Joan', 'Fontaine', \"Martin's\", 'Davis,', 'Kline', 'Glover', 'inserted', 'via', 'Davis', 'witty,', 'thoughtful', 'delivery', 'content.', 'easy,', 'Martin', 'leads', 'guiding', 'love,', 'pursuit', 'wisdom', 'happiness.', 'crisp', 'deals', 'aspects.', 'investment', 'hopeful', 'WHAT', 'believe,', 'deep', 'all?', 'delightful,', 'gritty', 'two,', 'natural', 'gaining', 'enjoyment', 'intelligence', 'surprise.', 'honesty', 'exhibited', 'detailed', 'fully', 'honest', 'natural.', 'rates', 'from...the', 'Fiend', ':.', 'lived', 'cerebral', 'forty', 'severe', 'Christie', 'achieve', 'dreams.', 'Day-Lewis', 'Brenda', 'Fricker', 'tonight', 'screening,', 'dime', 'ripped', 'Ladies', 'leaving', 'Benjamin', 'Sutherland', 'phones', 'impersonation', 'Douglas', 'Zeta-Jones', 'duration', 'shoot', 'Longoria', 'landed', 'recycled', 'lines.', 'service', 'thriller,', 'Line', 'buy', 'safety', 'Secret', 'Service', 'grown-up', 'versions', 'kinds', '\"art\"', 'imitate', 'kidnapped', 'doll', 'captain', 'Deep', 'Dark', 'Woods,', 'Looney', 'slow', 'hallucinations', 'him?', 'king', '7th', 'birthday', 'surprises', 'await', 'scores', 'cute.', 'Dolls', 'places,', 'imaginary', 'happen.', 'places', 'Every', 'suits', 'Marlon', 'Brando', 'pit', 'enemy,', 'uptight', 'accent,', 'resembles', 'sorrow', 'animation', 'perfection', 'tunes', 'Street\"', 'fame', 'sings', \"it'll\", 'confusing.', 'anyway?', 'occur', 'telling', 'WHO', 'go,', \"i'd\", 'Mainly', 'mentioned', 'Much', 'factor.', 'Outside', 'South', 'Park', 'Disney', 'animated', 'musicals,', 'classic.', 'Worth', 'sure,', 'VHS', 'stretched', 'once.', 'nostalgia', '(Not', 'timeless', 'unique', 'Give', 'stuffed', 'animal', 'hug', 'today!', 'decade', 'later.', 'darker', 'cartoons', \"70's,\", 'particular,', 'Yellow', 'Still,', 'forget,', 'influence', 'DVDs', 'videos', 'predictable,', 'inspiration', 'try.', 'talked', 'sixteen', 'lack', 'originality', 'Ronald', '(based', 'Nancy', 'Price', 'help,', 'nor', 'stale', 'Joseph', 'Julia', 'Patrick', 'Kevin', 'Anderson', 'say.', 'April', '1991', 'Cinema', 'Melbourne', 'choice,', 'box', 'intrigued', 'popped', 'VCR', 'crying', '\"why', 'bits', 'love\"', \"story's\", 'sum', \"1930's\", 'try,', 'perhaps,', 'Humphrey', 'Cagney', 'cowboy', 'head,', 'Bogart', 'credible', 'drops', 'guns', 'car.', 'broadcast', 'States,', 'misfortune', 'darn', 'adore', 'M.', 'C.', 'powers', 'mish-mash', 'Besides', 'loud.', 'shout', 'scream', 'other.', 'adorable', 'rubbish.', 'boat,', 'bus,', 'wrap', 'montage', 'sequences', 'allow', 'frustration', 'yes.', 'key', 'Beautiful', 'acting.', 'River', 'Ian', '(without', 'preferred', 'Christian,', 'granted', 'endure', 'solid', 'Probably', 'twisted', 'violent', 'guest', 'sits', 'sacred', 'limit', 'underlying', 'element', 'anyway', 'disappointment', 'Dead', 'Alive', 'by-the-numbers', 'Andrew', 'V.', 'Army', 'Keith', 'Dean', 'Martin,', 'niche', 'Denver', 'words,', 'original.', 'monotone', 'throughout,', 'prostitute', \"TV's\", 'otherwise', 'low-rent', 'wastes', 'amiable', 'talents.', 'notice', 'care.', 'humor.', 'soundtrack,', 'Debra', 'earlier', 'trailer', 'replaced', 'city', 'Smith', 'regarding', 'only,', '\"Saturday', 'moments,', 'perpetual', 'stereotypes', 'likable,', 'persona', 'subjected', '7/10', 'Dolph', 'Lundgren', 'Damme', 'choices', 'career.', 'Jill', 'provocative', 'IMDb,', 'serious.', 'campy', 'understatement.', 'shallow,', 'immediately', 'B-Movie', 'raging', 'alcoholic', 'Matt', 'murdered.', 'numerous', 'holes', 'investigate', 'anymore', 'Danielle', 'Brett', 'eventual', 'decently', 'names', 'boasts', 'accent', 'mystery', 'closely', 'gratuitous', 'ridiculously', 'cover', 'strung', 'upside', 'naked.', 'classy', '(not', 'Considering', 'infamous', 'flicks', 'Hard', 'core', 'suspense.', '3/10', '(after', 'Post', 'strapped', 'table', 'physically', 'Archer', 'torturing', 'crime.', 'City', 'houses', 'Anton', 'humanity,', 'magical', 'rival,', 'chained', 'race.', 'free,', 'collecting', '(including', 'defeat', '\"Dr.', 'Band', 'Jeffrey', 'Combs', 'style.', 'Richard', 'differ', 'Thompson', 'cheese', 'high.', 'rip-off', 'Strange', 'comics.', 'blue', 'silly.', 'everywhere', 'symbol', 'suspiciously', 'hammer', 'actor,', 'cheese.', 'film.If', 'elsewhere.', '1990s', 'movie-making', 'Stallone', 'Schwarzenegger', 'villain,', 'level.', 'practically', '(is', '3\"', 'sheep', 'ranch', 'boss,', 'tastes,', 'intriguing.', 'scenery', 'hers', 'since.', 'contains', 'Bruno', 'Lawrence,', 'remembered', 'Cooper', 'pays', 'acted,', 'shattering', 'leads.', 'edited', 'form', 'missed.', 'overrated', 'admire', 'design', 'mediocre', 'Fight', 'Club', 'clones', 'characterization,', 'laughably', 'neither', 'likable', 'anonymous', 'transformation', 'sack', 'artificially', 'Lead', 'conveying', 'sympathy', 'personality', 'embodiment', 'counts', 'disappointments', 'spoilers', 'telegraphed', '45', 'occurred.', 'Further,', 'quirky,', 'terribly', 'explosions', 'effects.', 'revealing', 'threads', 'maintain', 'tension', 'pacing', '(although', 'tolerance', 'evoke', 'rises', 'surface.', 'flaws', 'ideas,', '(if', 'strong.', 'Sudden', 'Impact', 'Eastwood', 'dealing', 'Dirty', 'fame.', 'line,', 'speech', 'playful', 'switched', 'department,', 'diner', 'Pulp', 'senior', 'citizen', 'bus.', 'mind.', 'sub-plot', 'develops', 'Sandra', 'shy', 'sister', 'victims', 'assault', 'revenge.', 'strongest', 'intense,', \"(he's\", 'defined', 'vs.', 'flashbacks,', 'fresh,', 'experimental', 'trademark', 'sensibility', 'firmly', 'storytelling', 'helps', 'shame,', 'points,', 'Callahan', 'Locke', '(more', 'touching', 'exciting', 'climax', 'amusement', 'park.', 'remark', 'comparisons', 'simplicity', 'both,', 'break', 'superior', 'cheesy,', 'par', 'pictures,', 'hey,', 'spend', 'theater.', 'hour,', 'cheating', 'frustrating', 'development,', 'Plot', 'summarized', 'murders', 'Vinnie', '3)', '4)', 'cheats', '5)', '(most', 'show)', 'kicked', \"parents'\", 'house.', 'photography', 'interplay', 'superb,', 'THERE', 'WAS', 'NOTHING', 'flood', 'vulgarity', 'Take', 'lessons', 'Hill,', 'Shawshank', 'Either', 'study', 'community', 'relationships.', 'Tim', 'unbelievable', 'unlikely', 'mile', 'Rene', 'part,', 'Patricia', 'sweaty', 'actor.', 'Roth', 'free.', 'Usual', 'height', 'racism', 'row', '2007', '(', 'involving', '),', 'condemned', 'forum', 'sitcoms', 'Half', 'pointing', 'India', 'boy,', \"show's\", 'noted', '1995', 'documentary', '\"No', 'Perry', 'companion', 'hot,', 'steamy', 'India,', 'among', 'George', 'sitcom', 'Melvyn', 'Hayes', 'Graham', ').', 'misfits', 'Davies', 'jungle', 'engage', 'enemy', 'combat', 'bitter', 'bullying', 'Colonel', 'Reynolds', 'Donald', ')', 'Captain', 'closing', 'quoting', 'Hindu', 'British.', 'Your', 'rope', 'pulling', 'Indians', 'featured', 'provided', 'credits', 'Each', 'edition', 'closed', 'Hope', 'Williams.', 'penned', 'Jimmy', 'Derek', \"public's\", 'nevertheless', 'seasons.', 'topped', 'recorded', 'album', 'entitled', 'else?', 'crisis', 'died', 'quietly', 'forgotten.', 'left,', 'source', '1981', 'sadness', 'Gold', 'so-called', 'reputation.', 'specifically', \"'A\", 'Alec', 'Guinness', 'derived', 'experiences.', 'refer', 'view', 'television,', 'audiences,', 'fundamentally', 'Thank', 'heavens', 'Time', 'review.', 'say:', 'trite', 'ashamed', 'rise', 'uneasy', 'mothers', 'happiness', 'fathers', 'preference', 'background', 'Victorian', 'interiors', 'featuring', 'talented,', 'reduced', 'staring', 'monitor', 'briefly', 'lingers', 'expressions,', 'momentarily', 'rendering', 'biopic', 'worthwhile,', 'modern-day', 'survives', 'threat', 'posed', 'brash', 'representing', 'punished', 'plan', 'Chinese', 'choreographed', 'fest.', 'introduce', 'gone,', 'Whatever', 'dare', 'surrounds', ',the', 'instincts', 'ideal', '!', 'biological', 'weapon', 'falling', 'hands.', 'CIA', 'Olivia', 'chases', 'begins.', 'aging', 'Moore', 'efforts.', 'pathetic.', 'Jordan', 'emotions.', 'Instead,', 'lip', 'angry', 'her.', 'Everyone', 'suffering', 'over-acting', 'annoying.', 'month', 'train,', 'Olympic', 'team.', 'spitting', 'pitiful', 'associate', 'hockey', 'Austen', 'novel.', 'category', 'spectacular', 'lush', 'faithful', \"Austen's\", 'length.', 'unnecessary', 'exhibits', 'removed', 'akin', 'book.', 'portray', 'Beckinsale', 'grace', 'Gwyneth', 'version.', 'Samantha', 'locks', 'accompanies', 'Harriet', 'Mister', 'seriousness', 'gentle', 'compassion', 'painted', 'sumptuous', 'here)', 'sell', 'soul', 'devil', 'desired', 'ambition', 'life:', 'success.', '(we', '\"go', 'Hopkins', 'all)', 'unlikable', 'director,', '\"Sex', 'City\"', 'P.S.', 'Try', 'myth', 'arguably', 'previously', 'actions', 'Lumiere', 'equipment', 'tremendously', 'advanced', 'medium.', 'bewildered', 'instance,', 'employees', 'factory,', 'understandably', 'hide', 'awareness', 'introducing', 'animals', 'Des', 'match', 'ingenuity', 'aspect', 'selection', 'subject.', 'evidence', \"world's\", 'experiments', 'immensely', 'rewarding', 'weekend', 'Seattle', 'laughed', 'job.', 'moviegoers', 'WAY', 'brand', 'theater', 'laughter', 'again!', 'Funny', 'funny!', 'ladies', 'lesser', 'extent,', 'accompanying', 'convincingly', 'intending', 'Original', 'captured', 'rescued', 'lent', 'watch,', 'Bond', \"Charlie's\", 'struggling', 'knocking', 'competition.', 'Break', 'gem', 'sardonic', 'so)', 'LA', 'effortless', 'irony', 'wit.', 'adept', 'compromise', 'tight,', 'rate.', \"actor's\", 'climactic', 'Garcia', 'instant', 'farmers', 'land,', 'water,', 'order,', 'cattle', 'interests', 'executed.', 'religion', 'established', 'roots', 'clash', 'occurs', 'nicely', 'staged', 'trap.', 'shunned', 'expertise', 'Lynch', 'depicts', 'enigmatic', 'i.e.', 'Lost', 'innovative', 'aspect.', 'Lynch.', 'IS', 'therefore', 'mainstream', 'Being', 'tease', 'slow.', 'lawn', 'flow', 'Look', 'Iowa', 'Wisconsin', 'landscapes', 'Farnsworth', 'likeable', \"ol'\", 'express', 'thoughts.', 'earned', 'Need', 'weak', 'health', 'diagnosed', 'cancer', 'complete.', 'knowledge', 'emphasis', 'homage', 'suitable', 'naive', 'ruin', 'picture.', '9/10.', '\"Life', 'reference', 'buried', 'sloppy', 'kids,', 'endearing', 'spots.', 'picking', 'pals', 'favorites', 'shows,', 'varied', 'executive', 'NBC', 'moronic', 'regularly', 'ratings.', 'pressure', 'riveting', 'realism', 'form,', 'sleazy', 'Jean', 'threw', 'ludicrous', 'artistically', 'laid', 'burden', 'carrying', 'homicide', 'Lt.', 'Kurt', 'candidate', 'appearance.', 'tragic', 'elsewhere,', 'faces', 'was:', 'Mike', 'son,', 'fair,', 'revive', 'loyal', 'snuff', 'detectives', 'arrested', 'repellent', 'suspect.', 'Deputy', 'States', 'file', 'motions', 'sensational', 'career,', 'attorney', 'general,', 'U.S.', 'Court', 'Times', 'Le', \"weren't\", 'associates', 'array', 'Johnson', 'Melissa', 'criminally', 'Jon', 'commercials.', 'presenting', 'latest', 'detective.', 'hand,', 'affecting', 'sly', 'casting,', 'Gary', 'deadpan', 'clueless', \"children's\", 'beloved', 'inmates', 'herself.', 'guests', 'distracting.', 'advances', 'appearance,', 'St.', 'autistic', \"boy's\", 'useful', 'corporate', 'rights', 'network', 'contributed', 'legal', 'interviewed', 'news,', 'disappears', 'handles', 'juice', 'winds', 'top.', 'saddled', 'Andre', 'Kyle', 'remind', 'considerable', 'air', 'productions', 'pros', 'chance.', 'anyway,', 'pitch', 'Matrix,', 'chick', 'Faith', 'shiny', 'leather', 'us.', 'this!', 'dig', 'chicks', 'dreary,', 'formulaic,', 'tedious,', 'dull,', 'dumb,', 'Live', 'anime', 'fact.', ':(', 'Notorious', 'Bettie', 'Page\"', 'pin', 'America.', 'Page', 'Gretchen', 'Mol', 'icons', 'modeling', 'investigation', 'terms', 'pornography', '1950s.', 'questioned', 'childlike', 'innocent.', 'animals.', 'envelope', 'tastefully', 'honest,', 'shorter', 'been.', 'Toronto', 'Festival.', 'expecting', \"Page's\", 'Those', 'complaints', 'directing', 'solid,', 'Harron', '40s', '50s', 'ease', 'Line:', 'look.', 'nails', 'era', 'flop', 'checking', '8/10.', 'oriented', 'long,', 'Krishna', 'Desi', 'Without', 'Daughter', 'ailing', 'India.', 'vast', 'everywhere.', 'crowded', 'reach', 'station,', 'village.', 'filthy', 'combined', 'uncertain', 'never-ending', 'shape', 'fault', 'attacks', 'Fortunately,', 'harm', 'handing', 'father,', 'realized', 'command', 'solace', 'warm', 'teach', 'throw', 'insisting', 'Canada.', 'broken', 'land', 'cruel', 'heart-wrenching', 'drawback', 'music,', 'item', 'composed', 'pat', 'splendid', 'helpless', 'heated', 'portrayal.', 'Second', 'Nana', 'bang', 'mannerisms', 'versatility', 'portrayal', 'showdown', 'lighter', 'required', 'hype', 'needs', 'reels', 'impact.', 'asks', 'Vanessa', 'delivering', 'Susan', 'sentimentality', 'holds', 'attention,', 'admirable', 'performances,', 'involvement', 'memorable,', 'theaters,', 'Sara', 'slick', 'celebrity', 'vehicle', 'real-life', 'daughters', 'Redgrave', 'Natasha', 'Richardson,', 'Meryl', 'Streep', 'Richardson', 'younger', 'self,', 'youthful', 'incarnation', 'Claire', 'Glenn', 'Eileen', 'Hugh', 'Wilson,', 'multiple', 'Hungarian', 'cinematographer', 'environment,', 'wedding', 'pressures', 'soap', 'opera,', 'level,', 'English,', 'daughters,', 'triangle', 'clearly,', 'woven', 'yet,', 'vaguely', 'Danes', 'load', 'price', 'admission', 'length,', 'inviting', 'emotions', 'thereafter', 'Sellers', 'depressing.', 'sans', 'Smith,', 'Fu', 'electrical', 'verge', 'collapsing', 'players', 'Sid', 'offensive', '(One', 'bright', 'cheap,', 'Elvis', 'pants', 'wet', 'sparks', 'affair.', 'death,', 'dying.', '$5', 'CD', 'store,', 'kinda', 'flicks.', 'tacky', 'entertained', 'MST3K', 'manner', 'easily.', 'scariest', 'had.', 'plus', 'lighting,', 'dinner,', 'consequence', 'Along', 'charge', 'refined', 'food', 'meal', 'inappropriate', 'darkness', 'outside,', 'lit', 'Unhinged', 'coming.', 'twenty', 'tracks', 'crap', 'much.', 'heck', 'splendidly', 'features.', 'undeniably', 'cardboard', 'sets,', 'scientific', 'ranges', 'assistant', 'victim', 'benefit', 'abound', 'medicine', 'boundaries', 'ways.', 'intent.', 'medical', 'wishes', \"girlfriend's\", 'body,', 'thereby', 'soul.', 'resonates', 'strongly', 'feature.', 'assumed', 'II\"', 'paired', 'Love.', '\"Return', 'alternate', 'titles.', 'feature,', 'Let', 'mistake', 'mistakes.', 'Does', 'holding', 'Part', 'flashback', \"else's\", 'Mills', 'Really,', 'nothing.', 'Fever', 'wreck', '(except', 'dreck.', 'putrid', '\"film\"', 'headache', 'victim,', 'Powell', 'terrific', 'Philo', 'gentleman', 'niece', 'marry', 'DVD,', 'Watching', 'bible', 'lesson', 'school.', 'unintentionally', 'system', 'faults', 'spared', 'expense', 'for.', 'Peck', 'tormented', 'poet', 'commits', 'Raymond', 'Massey', 'prophet', 'Nathan', 'silent', 'Old', 'Dana', 'Andrews', 'ties', 'inherited', 'Gene', 'Tierney', 'estranged', 'decorated', \"town's\", \"Andrews'\", 'No.', 'well-crafted', 'Karl', 'Malden', 'taxi', 'driver', 'Neville', 'Brand', 'support', 'Stevens', 'Bert', 'Freed', 'F.', 'Nolan', 'stern', 'Having', 'else,', 'case)', '(by', 'bumped', 'challenge', 'characterization', 'typically', 'Fox', 'noir', 'learning', 'war,', 'illustrates', 'generation,', 'political', 'race', '1980', 'learned', 'great;', 'Hamilton', 'Jerry', '!!', 'History', 'reviewing', 'achievements', 'chronological', 'library', 'jazz', 'Franz', 'overlong', 'numbers', 'Kitty', '\"Sweet', 'Carl', 'Carlisle', 'earlier,', 'Gertrude', 'hate.', 'McLaglen', 'love/hate', 'banter', 'grow', 'Toby', '\"Not', 'motive', 'revelation', 'flimsy', 'buff', 'long-time', 'noting', 'Orleans', 'thus', 'myself.', 'arguments', 'sources', '(despite', 'amateurish', 'narration', 'adolescent', 'ruining', 'possibility', \"someone's\", 'preaching', 'choir', '(i.e.', 'me).', 'discussion', 'Jesus,', 'unbearable', 'dwell', 'Christian', 'attended', 'institution', 'scarred', 'psychologically', 'questionable', 'Christianity.', 'documentaries', 'market,', 'fill', 'traumatized', \"needn't\", 'coping', 'years!', 'universally', 'Side', 'making.', 'Funny,', 'charming,', 'urban', 'youth', 'Larry', \"Clark's\", 'shtick', 'gutter', 'fare.', 'Raising', '\"Men', 'proud', 'persistent', 'navy', 'Cuba', 'Gooding', 'Jr.)', 'touches', 'entertains', 'cinema.', 'enjoyable,', 'experience.', 'De', 'Niro', 'marvelous', 'fierce', 'n', 'skillful', 'prepared', 'diving', 'promise', 'none.', 'rented', 'exploitation', 'body.', 'refrain', 'ratio', 'dream', 'sequence,', 'clothes', 'rip', 'Matrix', 'mask', 'contempt', 'big-budget', 'satirical', 'mine.', 'technology', 'palm', 'qualities', 'production,', 'me:', 'held', 'diary', 'killers', 'account', 'attack.', 'questions,', 'insight', 'with.', 'Through', 'shortened', 'pipe', 'bombs', 'that)', 'brilliant,', 'lives,', 'Cruise', 'genius,', 'topic.', 'Bon', 'Jovi', 'vampire', 'chapters', 'Rice', 'forgotten', 'tomorrow', ';)', 'person,', 'tour', 'row,', 'lucky', 'groundbreaking', 'Nina', 'Streisand', 'awhile', 'Okay,', 'known,', 'push', 'truth,', 'honesty,', 'Laura', 'defines', 'joy,', 'sadness,', 'ups', 'downs', \"70's\", 'comics', 'okay', 'See,', 'rules.', 'performer', 'business,', 'pushing', 'forward.', 'clubs', 'intimate', 'Judy', 'Garland', 'ago,', 'Movie', 'joy.', 'Giving', 'thank', 'laugh,', 'think,', 'deny', \"lady's\", 'rushes', 'stage.', \"She's\", '\"She', \"You've\", 'gotten', 'not,', 'knowing', 'kicking', 'Come', 'Pryor', \"They've\", 'sentimental', 'Harold', 'racial', 'subtext', 'prevent', 'childhood', 'power.', 'sickly', 'kiddie', 'ahead.', 'standup', 'Gleason', 'Kudos', 'patience', 'Muni', '1930s', 'buffs', 'Award', 'tended', 'bit,', 'overboard', 'hero.', 'suppress', 'disdain', 'authority', 'diminish', 'him!', 'concentrating', 'trial.', 'patch', 'reads', 'Laurence', 'anywhere.', 'famous.', 'pretty,', 'BBC', 'dreadful.', 'Rebecca', \"hasn't\", 'Juliet', 'wide', 'matched', 'Scene', 'flows', 'smoothly', 'zero', 'erotic', 'relief.', 'mirror', 'shouts', 'disconnected', 'Queen', 'Alvin', 'putting', 'brawl', 'notably', 'fight,', 'Romeo', 'knees', 'offended', 'classroom', 'use,', 'Although,', 'mind,', 'existence,', 'Eat', 'situation.', 'owns', 'Fury', 'unwatchable', 'chased', 'guys,', 'caught,', 'neck,', 'somehow,', 'island,', 'alleged', 'although,', 'minded', 'flashback,', 'counterparts', 'sisters', 'stopping', 'air,', 'mixed', 'which,', 'still,', 'ended,', 'half-hour', 'stupid.', 'filled', 'outlandish', 'confusing,', 'inept', 'genre.', 'advice', 'Attack', 'Beast', 'anyone,', 'B-movie', 'forced.', 'Indeed,', 'result', 'pregnant', 'sneaks', 'GOOD', 'comedies,', '1968', 'Boston', 'Later,', 'pleased', 'prominent', 'Best', 'Picture', 'success', 'reminded', 'Broadway', 'literary', 'heritage', 'admirably', 'London', 'Lionel', 'Bart', '1967', '\"Who', 'manner.', 'tribute', 'show!', 'studios', 'Wood,', 'Ealing', '\"That\\'s', 'heard.', 'funnier', 'projects.', '60s,', 'culture', 'rape', 'travesty', 'WW2', 'Marshall', 'Marines', 'Japanese', 'inexplicably', 'abandon', 'territory', 'behalf', 'retreat', 'future,', 'pattern', 'flying', 'psychic', 'Godzilla', 'Japan.', '1992', '1944', '90s', 'Fortunately', 'bringing', 'display', 'ancestor', 'outs', 'taped', 'Turns', 'jealous', \"Japan's\", 'impending', 'economic', 'Africa,', 'sounds', 'padded', 'redundant', 'destroy', 'build', 'Tokyo', 'spectacle', 'garden', '1/3', 'informed', 'puppets', 'share', 'Wait', 'reel.', 'submarine', 'bones', 'buddy', 'heartwarming', \"other's\", 'nods', 'fulfilling', 'destiny', 'destroying', 'Japan,', 'BACK', 'sole', 'century,', 'fulfill', 'heads,', 'controlling', 'Rush', 'belly', 'thick', 'exploding', 'adventures,', 'features', 'passing', 'resemblance', 'robots', 'bald', 'Plus', 'reprising', 'ears', 'bigger', 'emotion', 'face.', 'urge', 'God.', 'Stack', 'received', 'period.', 'Amazing', 'worthless', 'Dorothy', 'Malone', 'ride,', 'airplane', 'blatant', 'opera.', 'thoroughly', 'triumphs', 'material.', 'strictly', 'melodrama', '(such', 'denying', 'substantial', 'Written', 'woman,', 'another.', 'feminist', 'what.', 'ladies,', 'enter', 'innocent,', 'well-intentioned', 'Trish', 'employment', 'agency', 'looks,', 'dresses', 'stalks', 'raping', 'nowadays', 'divorced', \"women's\", 'club', 'headed', 'Janet', 'Leigh', 'marries', 'argument', '\"bad\"', 'lie', 'a)', 'b)', 'SHE', 'victims,', 'Liz', 'point?', 'Show', 'married', 'married,', 'Were', 'rude', 'corny,', 'corny', 'Minutes', 'abandons', 'claim', \"husband's\", 'money,', 'realizing', 'swimming', 'pool', 'predictably', 'girlfriends', 'kidding', 'lawyer', 'hears', 'importantly,', 'misery', 'get.', 'mouths', 'Lesbian', 'OK,', 'simple,', 'Raider', '(yes,', 'AWAY', 'FROM', 'doubt,', 'yet.', 'robbed', 'PC', 'Lara', 'controls', 'standard.', 'sequences.', 'changed', 'movement', 'methods', 'Others', '3rd', 'care,', 'base,', 'cash', 'complain', 'masses', 'reasonably', 'flashbacks.', 'prologue', 'gear', 'according', '\"Don\\'t', 'youth,', 'costume', 'preparing', 'wounds', 'supports', 'recalls', 'vignettes', 'stunt', 'abrupt', 'disjointed,', 'pedestrian', 'Hamilton,', 'suave', 'tiny', 'demeanor', 'shade', 'skimpy', 'towel', 'shoulders', 'covered', 'worldly', 'threaten', 'jaded', 'affect', 'badly.', 'wisely', 'Montana', 'antics', 'amusing,', 'stunts', 'blurry', 'footage,', 'rolled', 'NO', 'poorest', '\"a', 'holiday', 'woods', 'cage', 'jumping', 'fish', 'shark', 'ate', 'useless', 'effort.', 'cgi', 'low-budget', 'IQ', 'kid,', 'live.', 'cool,', 'heaven', 'critic,', 'new.', 'Boy,', 'wrong!', 'exploitation,', 'prison,', 'street', '(quite', 'seduce', 'warden', 'escape,', 'shower', 'seduced', 'return', 'prison', 'riding', 'letting', 'army,', 'book,', 'cheaply', 'produced', 'values,', 'Seeing', 'Giant', 'Rosie', 'buck', 'fifth', 'Korean', 'weather', 'reached', 'Germany', 'sunny', 'Northern', 'California.', 'troops', 'soldiers.', 'rifles', 'officer', 'commanding', 'expanded', 'creators', 'Italy,', 'Had', '(also', 'extreme', 'teens.', 'starting', 'age.', 'BEST', 'Pickford', 'merits', \"isn't.\", 'complicated', 'builds', 'mansion', 'hill', 'river.', 'dirty', 'hates', 'variety', 'land.', 'tragedy,', \"daughter's\", 'fiancé', 'folks.', 'accused', \"Mary's\", 'fiancée', 'innocent', 'afraid', '\"in', 'ton', 'Mary,', 'excels', 'overt', 'knife.', 'dated.', 'Entertainment', 'quality,', 'extras', 'dame', 'waited', 'kisses', 'kiss', 'gap', 'judged', 'teaches', 'goat', 'respond', 'there?', 'junk', 'canceled', 'struggles', 'cant', 'mentioning', 'chopped', '(another', 'opus', 'mercy', 'II', 'Berlin', 'Festival,', 'roller', 'arts,', 'component', 'definite', 'One,', 'Sierra', 'dramatic', 'remake.', 'thoughts,', 'Palance', 'Shelley', 'Winters', 'asking', 'Ida', 'Lupino', 'ideas.', 'location', 'noir.', 'time...', 'vibrant', 'voice-over', 'touch.', 'backs', 'rather,', 'colours', 'tea', 'starts.', 'banal', 'forgettable', 'chorus', 'relevance', 'French,', 'blame', 'Audrey', 'Tautou', 'intended', 'why.', 'familiarity', 'intent', 'Brady', 'Bunch', 'cram', 'techniques,', 'kidding.', 'too.', 'Skip', 'complex,', 'hated', 'applying', 'jobs,', 'fashionable', 'sales', 'department', 'banging', 'plethora', 'frequently', 'competition', 'confidence', 'perverted', 'ways,', 'tend', 'synopsis', 'banned', '25', 'figured', 'short.', 'freely', 'fairy', 'Beauty', 'mine,', \"girl's\", 'awakening', 'beast', 'enormous', 'more!', 'sex,', 'horses,', 'babysitter', 'slave', 'rose', 'Words', 'porn', 'era.', 'good-looking', 'powered', 'owner.', 'chaos', 'bartender', 'blunt', 'possible,', 'avoiding', 'unfair', 'beauty,', 'expressed', 'simultaneously', 'invariably', 'abruptly', 'talentless', 'immense', 'Ryan', 'insanely', '2,', 'worthy.', 'alas,', 'Neve', 'Campbell', 'bent', 'meaning.', 'Anything', 'hollow', 'at,', 'disastrous', 'exciting,', 'relatives', 'phone', 'Three', 'enthusiastic', 'scenery,', 'interactions', 'meaningful', 'believable', 'startling', 'Peruvian', 'depicting', '17th', 'century.', 'history,', 'avoid', 'schedule', 'Christmas,', 'Yet,', 'content,', 'constitutes', 'Here', 'underrated', 'First,', 'universal', 'questions.', 'Christ', 'life?', 'Someone', 'inner', 'cope', 'Teri', 'retain', '(Barbara', 'recognizes', 'him...', 'HIS', 'eternal', \"John's\", 'rebellious', 'brother,', 'Phil', 'satisfaction', 'park', 'humanity.', 'where,', 'family,', 'problems,', 'Nevertheless,', 'educational', 'mutual', 'thing:', 'Alexander', 'attitude.', 'brother.', \"Isn't\", 'angels', 'artistic', 'authentic', 'Ken', 'Howard', 'husband.', 'fallen', 'interpreted', 'quote', 'uncle', '(John', 'enjoying', 'managing', 'working.', 'stops', 'ceases', 'built', \"Caine's\", 'different.', 'then...', 'dead.', 'irritated', 'update', 'updated', 'tricky', 'period', 'styles,', 'effectively.', \"30's\", 'trivial', 'Branagh', 'students', 'spite', 'student,', 'strength', 'mature', 'student', 'students.', 'King,', 'tedious', 'dancing,', 'mild', 'bored,', 'turns,', 'ended.', 'Geraldine', 'couple.', 'does.', \"DVD's\", 'ourselves.', 'energetic,', 'encourage', 'quickly', 'toward', 'bouncing', 'excitement.', 'singer,', 'voice.', 'Moe', 'children.', 'Our', 'dwarf', 'Why?', 'safe,', 'course.', 'guard,', 'guided', 'shift', 'abandoned', 'itself.', 'forbidden', 'releases', 'fantasies', 'returned', 'what?', 'manipulative', 'deepest', 'Cher', 'grandma', 'Quite', 'groups', 'question.', 'unfolds', 'reason,', 'borders', 'neighborhood.', 'millions', 'wondering', 'will.', \"writer's\", 'Upon', 'returning', 'coaster', 'drinks', 'consideration', 'Remember', 'capitalize', 'Penn', 'wins', 'invent', 'taste', 'mouth.', 'misery.', 'relation', 'dumbest', 'trick', 'film-making', 'premise.', 'heading', 'blow', 'booze', 'explaining', 'plausible', 'vary', 'someones', 'chess', 'cunning', 'enemies', 'resembling', 'jolly', 'Club,', 'Kill', 'borrowing', 'drunk', 'bum', 'speed.', 'crashed', 'needing', 'supply', 'drinking', 'grasp', 'going,', 'professional', 'pseudo', 'intellectuals', 'round,', 'lasted', 'sad,', 'well...', 'lately,', 'version,', 'whatsoever', 'anyway.', 'about,', 'Azumi', 'washing', 'visuals,', 'screams', 'lot,', 'river', 'princess', 'Sidewalk', 'opens,', 'bars', 'sewer', 'sidewalk', 'integrity', 'morality', 'crooks', 'honourable', 'occasion,', 'shoes', 'Dixon', 'criminal,', 'perpetually', 'balanced', 'edge', 'detective,', 'decency', 'possesses', 'escape.', 'temper', 'dead,', 'becoming', \"who'll\", 'Otto', 'Preminger', 'apart.', 'intimacy', 'conventional', 'drama.', 'Given', 'grossly', 'Jules', \"'The\", 'rarely', 'unhinged', 'anger', 'suitably', 'smug', 'suited', 'character;', 'realised', \"Preminger's\", 'tension,', 'accidental', 'crime,', 'suspenseful', 'exploited', 'potential.', 'identified', 'movements', 'apartment', 'why,', 'testimony', '(Tom', 'suspicion', 'inconsistencies', 'underworld', 'rage', 'equal', 'Nicholas', \"Ray's\", 'Dangerous', '1993,', '2006.', 'narratives', 'God,', '2006,', 'intention', 'photography,', 'library,', 'tastes', 'freaky', 'Following', 'inevitable', 'legacy', 'such.', 'contrast', 'pride', 'glory', 'spring', 'replacing', 'optimism', 'predecessor', 'battered', 'revolutionary', 'guerrilla', 'acquired', 'callous', 'poignant', 'regards', 'stray', 'drastically', 'documented', 'avoids', 'indeed,', 'reserved', 'entirety', 'whole,', 'biography', 'documents', 'Soderbergh', 'paint', 'portrait', 'Der', 'moving,', 'narrated', 'conducted', 'bleak,', 'decaying', 'backdrop', 'Bolivia', 'Two,', 'inevitably', 'distinctly', 'contrasting', 'disjointed', 'predecessor,', 'points.', 'structure', 'struggle,', 'battles,', 'comrades', 'glimpses', 'movement.', 'destined', 'note.', 'difference,', 'combination', 'similarities', 'compelling', 'means,', 'kudos', 'achieving', 'treat', 'prior', 'evident', 'engrossing', 'central', 'structured', 'inherent', 'vague', 'necessarily', 'reflection', 'odds', 'paragraph', 'rightfully', 'task', 'engaging', 'sprawling', 'intricate', 'endlessly', 'nuanced', 'drawing', 'themselves,', 'Jamie', 'Ward', 'Fantastic', 'report', 'information', 'factual', 'information.', 'True', 'conventions', 'VERY', 'attractive', 'Naomi', 'Cook', 'Ned', \"Kelly's\", 'Heath', 'Ledger', 'Orlando', 'Bloom', 'Byrne', 'unattractive', '(sorry', 'Geoffrey', 'corrupt', 'Police', 'entice', 'females', 'fat', 'drowning', 'dad', 'calls', 'persuades', 'Kelly,', 'board', 'surprising.', 'Del', 'million', 'pounds', 'mum', 'Danny', 'Ride', 'Ang', 'aesthetic', 'minimum', 'twice', 'nuance', 'art,', 'recall', 'existing', 'conception', 'politics,', 'belief', 'killings,', 'bond', \"actors'\", 'heart,', 'drives', 'transcend', 'Such', 'reviews,', 'Wright', 'composer', 'lyrical', 'cried', 'disappointing,', 'cry.', 'Million', 'Dollar', 'program,', 'this.The', 'stream', 'sketchy', 'depressing', 'USA', 'channel', 'theatrical', 'movie.I', 'Palma', '\"Dressed', 'peak', 'powers.', 'Hitchcock', 'dash', 'lurid', 'plenty', 'score,', \"Palma's\", 'camera-work', 'visuals', 'Dennis', 'time)', 'surreal,', 'scary,', 'charged', 'demons,', 'test', 'rambling', 'trailer,', 'crafted', 'magic', '40', 'unnecessarily', 'evolved', 'Austin', 'Powers', 'normally', 'Stoltz', 'Joel', 'disabled', 'neck', 'hiking', 'accident.', 'adjust', 'gravity', 'condition', 'befriends', 'slick,', 'Wesley', 'racist', 'biker', 'threatened', 'patients', 'receives', 'loving,', 'Anna', 'triumph', 'stubborn', 'refusal', 'Directors', 'insightful', 'Micheal', 'relate', 'taste,', 'wit', 'addressing', 'handicapped', 'powerfully', 'striking', 'fail', 'motel', 'wickedly', 'raw,', 'highlighted', 'expedition', 'club.', 'qualifies', 'significant', 'Forsythe', 'Hunt', 'outstanding,', 'stand-out', 'Grace', 'Zabriskie', 'Elisabeth', 'compassionate', 'uplifting', 'astonishing', 'maker', 'La', 'aka', 'controversial', 'brave', 'denied', 'nature', 'symbolism', 'images.', 'wild,', 'primary', 'dominate', 'flesh', 'true.', 'sophisticated', 'countryside', \"others'\", 'arriving', 'families.', 'wake', 'walls', 'animals,', 'imagined', 'of)', 'them.The', 'luxury', 'destructive', 'gory', 'spread', 'contact', 'violently', 'pleasure', 'stronger', 'animal,', 'blood,', 'carnal', 'pleasure.', 'convey', 'horse', 'fury', 'waits', 'race,', 'visible', 'close-ups', 'battles', 'heat', 'anymore.', 'beginning,', 'introduced,', 'necessary', 'sexuality', 'horses', 'vital', 'unaware', 'Flesh', 'desires', 'belongs', 'admitted', 'depict', \"Man's\", 'unwillingness', 'interpret', 'talk.', 'desire,', 'dreams', 'causes', 'controversy', 'attitude,', 'courage', '\"normal\"', 'female,', 'expression', 'need.', 'servant,', 'interrupted', 'example,', 'sensual', 'image', 'bodies', 'cultures', 'criticize', 'necessary,', 'sooner', 'dies.', 'visited', 'flesh,', 'Georges', 'Story', 'Eye', 'flesh.', 'blamed', '\"too', 'equally', 'noteworthy', 'shallow', 'visually', 'sun', 'trees,', 'live,', 'inhabitants', 'passive', 'lethal', 'circle', 'intelligence,', 'eaten', 'satisfying', 'sudden', 'masterpiece,', 'Brazil', 'Fear', 'Las', 'Terry', 'Monty', 'Python', \"Gilliam's\", 'sci', 'fi', 'Willis', '(perhaps', 'character)', 'insanity', 'suspense,', 'population', 'disease', 'wipe', 'unleashed', 'twelve', '1996', 'virus', 'scientists', 'further,', 'Cole', 'underground', 'rule', 'surface', 'humans.', 'virus.', 'wiping', 'teams', 'correct', 'questions', 'sanity', 'quarter', 'climax,', 'Never', 'depending', 'eyeball', 'piercing', 'depiction', 'material,', 'applaud', \"they've\", 'crown', 'film-making,', 'fuss', 'generous', 'appreciation', 'golden', 'tones', 'surrounding', 'senses', 'coarse', 'smooth', 'skin,', 'flickering', 'droning', 'cared', 'Macy', 'watching.', 'Stole', 'cartoon', 'humans,', 'purpose', 'film?', 'laughable', 'childish', 'enjoyable.', 'destroyed', 'season', 'worried', 'kicks', 'steal', 'opinion.', 'presentation', 'Boris', 'Karloff', 'solve', 'Felix', 'photo', 'role.The', 'Alexandre', \"40's\", 'woke', 'coma', 'road.', 'Bush', 'minute', 'comprised', 'Comedy', 'cartoonish', 'centers', 'W.', 'politicians', 'manner,', 'characters.The', 'expectations,', 'esoteric', 'current', 'presidential', 'merit,', 'survive', 'term', 'execution', 'marred', 'technically', 'classified', 'disregard', 'tool', 'targets', 'vulgar', 'funny)', 'consistently', 'recording', 'ad', 'placing', 'television.', 'such,', 'presented', 'clichés,', 'already.', 'Vice', 'President', 'Darth', '300', 'Daily', 'exist', 'advance', 'tiresome', 'humorous.', 'expand', 'exotic', 'mistakes', 'narrow', 'base', 'wing', 'recognize', 'pointlessly', 'tune', 'intellectually', 'empathize', 'either.', 'Wood', 'Slaughter', 'films),', '99%', 'Uwe', \"Boll's\", '(e.g.,', 'Science', 'Theatre', 'Thankfully', \"(it's\", 'robs', 'paced,', 'puzzling', 'it...', 'solely', 'Amber', 'rental', 'first.', 'Ironically', 'impressive', 'interior', 'capsule', 'all-time', 'illiterate', \"Fonda's\", 'uncomfortably', 'drifts', 'map', 'written.', 'swift', 'excruciating', 'pacing.', 'correctly', 'searched', 'one:', 'Hitler,', 'child.', 'Second,', 'abuse', 'probable', 'reality,', 'fought', 'choke', 'secret.', 'Third,', 'charming.', 'hateful', 'interviews', '(of', 'ugly,', 'countries', 'power,', 'I,', '\"Titanic\"', 'looks.', 'consist', 'sexy.', 'plot:', 'crappy', 'whatsoever.', 'Nor', 'hours.', 'losing', 'date.', 'gonna', 'it.The', 'good.The', ':-)', 'exceeded', 'Basically,', 'show:', 'jail', 'writers.', 'cavemen', 'club,', '22', 'Rooney', 'dialog,', 'midget', '\"Yeah,', 'fine.', 'Possibly', 'makeup,', 'Sounds', 'night.', 'insurance', 'next,', 'somewhere', 'aimed', 'child', 'Sylvia', 'filmography', \"child's\", 'steaming', 'deserving', 'Oscar,', 'biased', 'paints', 'Italy', 'short,', 'piece,', 'sparse', 'relaxing', 'vacation', 'minds.', 'Over', 'fixing', 'San', 'castle', 'enchanting', '\"It\\'s', 'tub', 'gradual', 'exuberant', 'seaside', 'appropriate', 'despicable', 'refused', 'wheel', 'drove', 'beg', 'victory', 'Reeves', 'nerve', 'gambling', 'award', 'winning', 'driving', 'death.', 'bin', 'gems', 'tanks', 'German', 'dive', 'spewing', 'superiors', 'alike.', 'Gregory', 'greater', 'raises', \"Scott's\", 'begs', 'West', 'mimic', 'Oscar-winning', \"MacArthur's\", 'crawl', \"America's\", 'MacArthur', 'inspire', 'turkey', 'montages', 'Hal', 'Matthew', 'Robbins', 'good-natured', 'stepping', 'landing', 'craft', '\"Old', 'Soldiers', 'speech.', 'stretch', 'parallel', 'enlightened', 'Nicolas', 'garner', 'argues', 'suggests', 'recapture', 'concern', 'listened', 'plan,', 'flag', 'accepts', 'S', 'firing', 'conversation,', 'complexity', 'defining', 'bore.', 'Except', 'White', 'House,', 'comparison.', 'Be', 'Neither', 'McGregor', 'exaggerated', 'protagonist,', 'screwball', 'drags', 'finish', 'begin?', 'distribute', 'distasteful', 'warning.', 'DO', 'WATCH', '400', 'training,', 'wolf', 'life.The', 'okay,', 'masterpiece.', 'after,', 'morning,', 'profoundly', 'Often', 'grave', \"person's\", 'Elm', 'tag', 'misleading.', 'serves', 'demonstrate', 'classify', 'simply,', 'exquisite', 'detail', 'wiser', 'saccharine', 'pain', 'isolation', 'overwhelm', 'fragile', 'lives.', 'sensitivity', 'Charlotte', 'Burke', 'lasting', 'melancholy', 'alienation', '(often', 'slipped', 'faded', 'imaginative', 'haunting', 'affection', 'affinity', 'etc)', 'cold.', 'spoilt', 'wished', 'release,', 'run-of-the-mill', 'shocker', 'horror.', \"Let's\", 'pot', 'dimensional', 'used.', 'showcases', 'Pacific', 'Shot', 'beautiful.', 'smell', 'blowing', 'Eastern', 'south', 'Busey', 'L', 'Q', 'percent', 'males', 'repeats', 'bath', 'bits.', 'resources', 'beach', 'piece.', 'inane', 'string', 'skits', 'apocalyptic', 'parody', 'followers', 'film.The', 'lame,', 'pray', 'Office', 'critic', 'achievement', 'congratulate', 'complained', 'siblings', 'brothers,', 'Mahatma', 'Gandhi', 'less.', 'complaining', 'relevant', 'satisfy', 'duel', 'affections', 'surreal', 'fire', 'Greek', 'also.', 'Werewolf', '~', 'Quaid', 'priceless', 'quotes', 'section', \"who'd\", 'happier', ':)', '\"horror\"', 'advertised', 'Arthur', 'accustomed', 'sour', 'cynical', 'flavour', 'lively', 'Askey', 'idol', 'Tommy', 'gag', 'entertain', 'list,', 'cover,', 'Woods', 'be?', 'lays', 'weak,', 'hacked', 'titled', 'habit', 'troubles', 'click', 'captivating', 'challenging', 'audiences.', 'principal', 'bold', 'punishment', 'originally', '35', 'technical', 'mill', 'punks', 'Drake', 'Grandpa', 'Me', 'Donna', 'pretty.', 'Margaret', 'smaller', 'Spring', 'perky', 'inexperienced', 'disappeared', 'obscurity.', 'windows', 'lure', 'shaking', 'drug', 'influenced', 'core.', 'rocks', 'Randy', '16', 'Fast', 'Kids', 'angst', 'reason)', 'introduced', 'recruit', 'beating', 'Brigitte', 'Nielsen', 'rival', 'preceded', 'spoiler,', 'movies)', 'passionate,', 'goofy', 'well-meaning', 'comments,', 'gorgeous', 'careless', 'brutal', 'tons', 'already,', '\"National', 'slightly', 'predicted', 'tricked', 'heed', 'miles', 'intense', 'PPV', 'glimpse', 'Monday', 'Hogan', 'promotional', 'Tag', 'Team', 'Ray', 'Dudley', 'tables', 'Benoit', 'wrestling', 'skills', 'WWE', 'Noble', 'w/', 'v.', 'Kidman', 'wrestler', '(you', 'Regal', '5/10', 'intensity', 'performed', 'match.', '4.', 'Cena', 'Jericho', '6/10', 'interview,', 'sub-par', 'RVD', 'Brock', '8/10', 'pace.', 'preserved', 'streak', 'Booker', 'T', 'awesome,', 'Edge', 'Lance', 'energy.', 'athletic', 'abilities', '8.', 'Triple', 'Match', '10/10.', 'Undertaker', 'triple', 'energy,', 'predict', '(i', 'DVD)', 'excited', 'theme.', 'writer/director', 'relates', 'Believe', 'adult', 'back-story', 'disappointed.', 'comfort', 'turmoil', 'socially', 'worker', 'duo', 'minds,', 'character-driven', 'Nine', 'Network', '(?)', 'McGavin', 'vampires', 'ghosts', 'Chief', 'hospital.', 'explosion', '....', 'packed', 'enthusiasm', 'ON', 'Or,', \"can't.\", 'signed', 'goes.', \"we'd\", 'translated', 'movie),', 'Bible', 'Hamlet,', 'get,', 'satiric', 'contents', 'Communist', 'intellectual', 'passion,', 'fear,', 'sexuality,', 'Romanian', 'movie).', 'Caprica', 'finale', 'Battlestar', 'Galactica', 'drooling', 'universe', 'dramatically', 'Special', 'Polly', 'Walker', 'expectation', 'Grant,', 'Fairbanks', 'cracks', 'sergeants', 'Cutter', 'punch', 'jail,', 'of?', 'incredible', 'temple', '\"All', 'suffice', 'whenever', 'painful.', 'racism,', 'Wide', 'aimless', 'people?', 'yell', 'Philip', \"Hoffman's\", 'jerks', 'unattractive,', \"Anderson's\", 'canvas', 'bomb.', 'flipping', \"Mann's\", 'folk', 'songs.', 'strings', 'revealed', 'memory.', 'happened,', 'agree.', 'stars,', 'laughs,', 'blend', 'Kung', 'China', 'here.The', 'orphan', 'kung', 'fu', 'discover', 'basketball', 'ages', 'ignore', 'sports', 'go.', 'uninteresting', 'spending', 'Hell.', 'affected', 'finish,', 'theme,', 'resolution,', 'indulgent', 'imitation', 'Naturally', 'Dandy', 'Warhols', 'Jonestown', 'Massacre,', 'careers', 'representation', 'paths', 'band', 'take,', 'spit', 'fascinating.', 'erratic', 'produces', 'drummer', 'records', 'band.', 'cold,', '\"oh', 'can.', 'smuggling', 'unknowingly', 'improbable', 'Rosario', 'glued', 'explosions,', 'drew', 'slowly,', 'tragically', 'fate.', 'mistaken.', 'movies;', 'mindless', 'alone.', 'stereotype', 'slowly', 'brain.', 'advertisements', 'buying', 'provoking', 'artful', 'crossed', 'date', 'rape.', 'disgusting.', 'scars', 'deep.', 'desperate', 'wholly', 'unsettling', 'passionate', 'hints', 'removes', 'surroundings', 'workings', 'accomplished', 'excellent,', 'dancing', 'Bottom', 'hack', 'rape,', 'existence.', 'brush', 'tie', 'yourself.', 'spoof', 'Hell', 'adventurous', 'romp', 'hammy', 'repertoire', 'Keanu', 'deal', 'Mexico', 'highway', '1948', 'Weaver', 'harmless', 'tourist', 'overnight', 'predicament', 'fatal', 'implausible', 'Worse', 'tolerable.', 'focused', 'symbols', 'cohesive', 'disposed', 'significance', 'connection', 'Sheriff', 'know?', 'move,', 'invested', 'explanations', 'things.', 'miniseries', 'week,', 'amusing.', 'bands', 'spare', 'gory,', 'drink', 'sequence.', 'first,', 'epics', 'form.', 'installment,', 'Chairman', '(almost', '(Tony', 'bid', 'kidnaps', 'sway', 'election', 'side.', 'war.', 'official', 'recover', 'Head', 'leaders', 'sides,', 'guys.', 'grabbing', 'Cheung', 'glorious', 'benefits', 'heavyweight', 'under-appreciated', 'links', 'shots,', 'angles.', 'arises', 'integral', 'process', 'packs', 'punch.', 'Henry', 'Fred', 'Emily', 'receive', '(for', 'Alfred', 'liven', 'quoted', 'ordering', 'highlight.', 'dining', 'Rich', 'Randolph', 'everyone,', 'Shining', 'vision', \"King's\", 'madness', \"Jack's\", 'Work', 'Play', 'ending?', 'Odyssey', 'making,', 'perfected', 'madness,', 'images,', 'ghost', 'underneath', 'skin.', 'Wendy', 'Overlook', 'Hotel', 'African-American', 'explains', 'grandmother', 'communication', 'hotel,', 'Room', 'circumstances.', \"Danny's\", 'injured', 'visibly', 'abusing', 'wanders', 'ghostly', 'walls.', 'cry', 'discovers', 'typing', 'threatens', 'knocks', 'unconscious', 'storage', 'locker', 'Grady', 'bedroom.', 'spelled', 'axe', 'nightmares.', 'unforgettable.', 'incredible,', 'mad.', 'hung', 'star,', 'Curtis', 'Holmes.', 'Boogie', 'Nights', 'roughly', 'someday', 'Byron', 'told.', 'Order', 'Val', 'Kilmer', 'Holmes', 'around,', 'unlike', 'racist,', 'immature', 'hangs', 'characterization.', '\"get', '1980s', '2\"', 'enterprise', 'memory', 'flames', 'slow-motion', 'messy', 'Pfeiffer', 'embarrass', 'herself,', 'misfire', 'levels.', 'compelled', 'defend', 'it.It', 'observe', 'diversity', 'charges', 'bone', \"Britain's\", 'irreverent', 'outcome', 'delivered', 'devoid', 'brilliance.', 'accents', 'partner', \"ain't\", 'religion.', 'closest', 'segment.', 'dude', 'subtitle', 'partially', 'incoherent', 'Youssef', 'logic.', 'justified', 'democracy', 'Americans', 'decisions', 'is;', 'there;', 'Twin', 'Towers', 'workers,', 'flight', 'politics.', 'perceived', 'Israeli', 'bombed', 'victims.', 'Sometimes,', 'international', 'highlighting', 'blah,', 'hope.', 'implies', 'zombies', 'introduction', 'burn', 'copy.', 'Voyager', '23', 'destroyed.', 'aliens', 'technology.', 'problem.', 'Borg', 'visits', 'math', 'convinced', 'shuttle', 'guide', 'self.', 'arguing', 'plan.', 'disorder.', 'increase', 'chances', 'distract', 'space.', 'MEN', 'Theo', 'retarded', 'May', 'discipline', 'Honestly', 'filming', 'dismal', 'babe', 'patiently', 'Got', 'Fair', 'descending', 'etc', '42', 'middle', '6th', 'hunter', 'bogus', 'zone', 'progress', 'Cage', 'thanks', 'bar.', 'huge,', 'crash', 'thugs', '(one', 'worked.', 'Alas,', 'bag.', 'B-movie.', 'Better', 'luck', 'basement', 'fright', 'a.k.a.', '\"Castle', 'fortunate', 'locate', 'Haunted', 'Anyway,', 'Edgar', 'Poe', 'deliciously', 'restless', 'spirits', 'Deborah', 'lesbian', 'soft', 'breathtaking', 'perspective,', 'Walsh', 'flaws,', 'inclined', 'apply', 'context,', 'inability', 'pervasive', 'pronounced', 'Kareena', 'bikini', 'o', 'WITH', 'WHEN', 'LIKE', 'skinny', 'Kumar', 'Akshay', 'MOST', 'TIME', 'ala', 'Main', 'occasional', 'bike', 'MORE', 'cheer', 'WE', 'NOW', 'HER', 'FOR', 'GET', 'YOUR', 'extent', 'ARE', 'ONE', 'AFTER', 'HAVE', 'collective', 'gasp', 'relieve', 'trauma', 'AS', 'COULD', 'EVEN', 'OUT', 'UP', 'academic', 'when,', 'how,', 'is).', 'sign', 'terrible,', 'clichéd', 'silver', 'unpleasant', 'establish', 'sub-genre', 'Fatal', 'adopt', 'passion', 'unstable', 'yacht', 'remarkably', 'stalk', 'rooting', 'stinker', '(There', 'Murray', 'shooter', 'squeeze', 'queen', 'supplies', 'sophomoric', 'story-telling', 'juvenile', 'resorts', 'portraying', 'fleshed', 'Edward', 'substance,', 'twin', 'Alex', 'mobsters', 'gimmick', 'unwatchable.', 'Monaghan', 'understandable', 'portrayed.', 'join', 'protagonists', 'unwilling', 'disagree', '\"don\\'t', 'it\".', 'clumsily', 'Went', 'Guy', 'examples', 'Shane', '(mostly', 'leaning', 'Lucas', 'Buck', 'anyone.', 'cousin,', 'finished,', 'Walker,', 'lures', 'co-workers', 'roommate', 'Paula', 'bedroom,', 'whack', 'cries', 'schizophrenic', 'repetitive', 'Paulie', 'captivated', 'thorough', 'members,', 'numbing', '65', 'overused', 'gags', 'conversations', 'dorky', 'jerk', 'unbelievable,', 'damaging', \"Paulie's\", 'adventures', 'owner,', 'Jersey', 'accent.', 'keeping', 'enjoyed.', 'Ever.', 'Seriously.', 'promise.', 'tracked', 'Darius', 'wise,', 'City,', 'rode', 'excitement', 'bet', 'boys.', 'models', 'generation.', 'life;', 'raising', 'encouraging', 'funding', 'research,', 'accomplish', 'cure', 'Always', 'arrow', 'husband,', 'women,', 'Lisa', 'co-worker', 'Kris', 'buys', 'guessing', 'defies', 'description.', 'objects', 'balls', 'mouth,', 'zombies.', 'stunning.', 'talks', 'cars,', 'linking', 'Up', 'wretched', '(both', 'seasons', \"Ben's\", 'sketches', 'Olsen', 'Under', 'screens', 'repeated', 'talent,', 'Sinatra', 'wonderful.', 'hearts', 'Sky', 'alright,', 'stole', 'appreciated', 'connects', 'insist', 'label', 'noir,', 'fit.', 'J.', 'sympathize', 'Wyatt', 'hearing', 'flash', 'numbers,', 'connect', 'videos.', 'sucking', 'Off', 'Hudson,', 'angry,', \"(she's\", 'hardship', 'weight,', \"Murphy's\", 'roll', 'Glover,', 'small,', 'sink', 'into,', 'laughs.', 'placement', 'musicals', 'one;', 'Hudson', 'pass', 'insulted', 'big,', 'stellar', 'hearted', 'previews', 'Morse', 'veterans', 'solid.', 'real.', 'winter', 'farm', 'prince', 'hands,', 'widowed', 'successfully', 'futuristic', 'post-apocalyptic', 'enhanced', 'Certainly,', 'Which', 'more,', 'okay.', 'Depardieu', 'talk,', 'mystery.', 'awhile,', 'Thus,', 'plays,', 'fluff', 'specific', 'wrongly', 'trek', 'Herbert', 'encounters', 'tears,', 'accurate.', 'Lau', 'trilogy', 'Flock', 'emergency', 'resulted', 'competent', '(there', 'me)', 'excess', 'tricks', 'struggled', 'Radio', 'H.', 'nomination', 'conveyed', 'Or', 'impersonate', 'bother.', 'much!', 'purists', 'Iron', 'originals', 'Mario', 'flashy', 'judges', 'however.', 'exceptions,', 'inspires', 'ask,', 'lighten', 'tense,', 'over-the-top', 'grinning', 'hour.', 'merits,', 'X', 'Texas', 'hustler', 'disturbing.', 'Dressed', 'love.', 'Rico', 'Rizzo', 'Hoffman)', 'apartment.', 'Ratso', 'Dustin', 'Hoffman,', 'Voight', 'Hoffman', 'oh', 'blockbuster', 'selling', 'jokes,', 'tiger', 'choice.', 'Mask', 'Yuen', 'Woo', 'Matrix.', 'rough', \"(I'm\", 'begging', 'uncut', 'characteristic', 'order.', 'favor', 'tremendous', 'opinions', 'horrible,', 'entertainment,', 'bad.The', \"movie.It's\", 'be,', 'wow', 'NY', 'Gay', 'distracting', 'arty', 'annoyingly', 'film;', '250', 'astoundingly', 'aftermath', 'perception', 'judgment', 'nations', 'Doctor', 'defending', 'Carter', '(David', 'June', 'Abraham', 'wrote,', 'make.', 'usually,', 'man!', 'those.', 'start,', 'rejects', 'Power', 'funeral', 'dreamed', 'rotting', 'quirky', 'justice.', 'represented', 'reports', 'office.', \"Paul's\", 'protagonists,', 'escalating', 'imprisoned', 'bathroom.', 'reporting', 'him).', 'subconscious', 'trigger', 'lock', 'wound', 'Kells', 'Cartoon', 'figures', 'page.', 'characterisation', 'Brendan', 'Abbot', 'fantasy.', 'materials', \"who've\", 'project.', 'Coming', 'Oscars,', 'joy', 'responsibility', 'clean', 'check.', 'Mafia', 'criminals,', 'vigilante', 'mafia', 'hesitant', \"guy's\", 'tying', 'criminals', 'jerky', 'reaction', 'detail,', 'spree', 'very,', \"cop's\", \"characters'\", 'submit', 'Hopper', 'sleep', 'ceiling', 'genres', 'Grand', 'Canyon', 'wholesome', 'Fonda', 'resist', 'Brooke', 'pursues', 'relationship.', 'happy,', 'seen,', 'aircraft', 'overplayed', 'card', 'extreme.', 'shouting', 'requisite', 'fictitious', 'costs,', 'revel', 'miscast', 'France', 'betrayed', 'phony', 'pointed', '18', 'college', 'Joanna', 'utilized', '(Robert', 'arrogance', 'excessive', 'strains', 'engagement', 'Marquis', 'laughable.', 'Germans', 'occupy', 'controlled', 'puppet', 'resistance', 'staging', 'daylight', 'villa', 'bridge', 'them?', 'mini-series', 'foreign', 'alternative', 'Thorn', 'Grey', 'Owl', 'heartfelt', 'promoting', 'plight', 'overuse', \"Earth's\", 'resources.', 'outrageous', 'received.', 'speaker', 'Pierce', 'Brosnan', 'odd,', 'wanting', 'argue', 'refreshingly', 'environmental', 'Lorenzo', 'Cassandra', 'plots.', 'kidnap', 'girl,', 'stamp', 'seventies', 'Simply', 'put,', \"Dickens'\", 'Oliver', 'Twist', 'Sykes', 'growing', 'London.', 'Fagin', 'trains', 'pocket', 'Studios', 'translate', 'costumes', 'worn', 'winner', '1936', 'Astaire', 'Rogers.', 'RKO', 'Bake', 'seedy', 'Sherry', \"everyone's\", 'spinster', 'sister,', 'buddy,', \"'em\", 'toss', 'forcing', 'sailors', 'Irving', 'lends', 'proceedings', 'standards', \"'I'm\", 'Face', 'skit', 'recognizable', 'transfer', 'gray', 'variation', 'related', 'settled', 'dense', 'audio', 'oddly', 'commentary.', 'importance', 'canon', '(voiced', 'hungry', 'Apollo', '11,', 'historic', 'pad', 'out.The', 'distance', 'advantage', '3-D', 'me.The', 'laugh.', 'adults,', 'punchline', 'astronaut', 'fiction,', 'sacrificed', 'adult,', 'Dukes', 'Hazzard', 'serviceable', 'Johnny', 'Knoxville', 'passenger', 'Roscoe', 'tiresome,', 'Willie', 'Burt', 'Reynolds,', 'doomed', 'relive', 'player,', 'Boss', 'dollar', 'Simpson', 'charismatic', 'hopeless', 'timing,', 'chase', 'signs', 'neat', 'revolving', 'stereotypical', 'difficulty', 'transition', 'weak.', 'act.', 'standards.', 'maybe.', 'acceptable.', 'stunned', 'colors,', 'thousands', 'freeze', 'convert', 'painting', 'greatness', 'over-the-top,', 'villains.', 'Tracey', 'name.', 'Charlie', 'colorful', 'Pacino,', 'Mandy', 'page', \"Pacino's\", 'expectations.', 'severely', 'comes,', 'river,', 'dark,', 'fox', 'soon.', 'identify', 'wears', 'Joy', 'presence.', 'drown', 'voice,', 'obvious,', 'subtlety.', 'happily', 'jumps', 'Admittedly,', 'warning', 'concerns', 'rights,', '\"First', 'Blood', 'Rambo', 'committing', 'waste,', 'eighties,', 'presumably', 'crimes', 'officer,', 'mission.', 'POWs', 'captive', 'strict', 'instructions', 'prisoners', 'realise', 'brave,', 'mission,', 'intends', 'mission', 'Vietnam,', 'Vietnamese', 'fate,', 'allies', 'girl)', 'toll', 'unquestionably', 'propaganda.', 'right-wing', 'faults,', 'anti-war', 'vets', 'civilian', 'attitudes', 'contrast,', 'sore', 'wins.', 'voters', 'concluded', 'liberal', 'it-', 'despised', 'subtlety', 'suggestion', 'solution', 'ideological', 'blazing', 'complexities', 'Asia', 'region', 'attributed', 'Compared', 'Green', 'Leon', '...but', 'Caroline', 'pour', 'acid', 'screaming,', 'LOT', 'frank', 'also,', 'corpse', 'screaming', 'skeleton', 'accident,', 'scared', 'expressions.', 'saw.', 'ends,', 'HE', 'confused.', 'sucked,', 'basically,', 'intentional', 'abuse.', 'hollywood', 'blockbusters', 'feelings.', 'Within', 'realm', 'elicit', 'initially', 'literature', 'era,', 'alike,', 'varying', 'degrees', 'travel,', 'fascination', 'word,', 'H.G.', 'Wells', '`The', 'myriad', 'possibilities.', 'Invisible', 'realization', 'Bacon', 'colleagues', 'conducting', 'exploring', 'have,', 'tested', 'being.', 'problem,', 'Caine,', 'successful,', 'directors,', 'continuation', 'minute,', 'fearing', 'proceed', 'testing', 'approval', 'cloak', 'dilemma', 'suddenly,', 'facing', 'imminent', 'lose', 'establishes', 'effect,', 'development.', 'progression', 'Verhoeven', 'rushing', 'fest', 'betrays', 'road,', 'succeed', 'visceral', 'derive', 'believable,', 'surface,', \"Verhoeven's\", 'purposes', \"director's\", 'agenda', 'abilities.', 'developing', 'prompted', 'were,', 'laden', 'Shue', 'Linda', 'ill-fated', 'thankless', 'Kim', 'Dickens', '(so', '2001', 'Sarah', 'Kennedy,', 'Greg', 'contemplating', 'annual', 'fireworks', 'display,', 'thrills,', '4/10.', '', 'Carradine', 'either,', 'gory.', 'overacts', 'Direction', 'terrible!', 'Acting', 'Ivy', 'creepy,', 'Rest', 'BABY', '75', 'ground', 'shame.', 'economy', 'nonsense.', 'amoral', 'wealth', 'madly', 'code', 'rest.', 'Brent', 'recognized', 'names,', 'well-written', 'thrills.', 'debut,', 'cell,', 'backgrounds', 'Marcus', 'mentally', 'welcome.', 'detailing', 'prisoner', 'escaped', 'Clive', 'personalities.', 'room,', 'increases', 'attractive.', 'location,', 'bases', 'well-done', 'trades', 'credit.', 'hides', 'past.', 'Philippe', 'demanding', 'disturbed', 'terrific,', 'flaws.', 'make-up', 'modest', '(albeit', 'Personally,', 'favorite.', 'Victoria', 'Cross', 'Australia', 'Greta', 'Town', 'depends', 'buildings', 'cell', 'site', \"Jones'\", 'station', 'Victoria,', 'awarded', 'rescuing', 'whats', 'justify', 'actions.', 'Horse', 'Wild', 'boxes', 'reported', 'justification', 'outline', 'stood', 'anthology', 'Inspector', 'countryside.', 'residents', 'manor', 'peace', 'experiences', 'creation', 'entries', 'office,', 'build-up', 'sounds,', 'flashes', 'being,', 'thunder', 'lightning', 'widower', 'hires', 'Jane,', 'business.', 'gradually', 'unravel', \"Jane's\", 'amounts', 'clues', 'Rogers,', 'infatuated', 'statue', 'museum', 'haunts', 'wax', 'creepy.', 'exception,', 'unfold', 'bit.', 'changed,', \"would've\", 'specialty', 'store.', 'vampire,', 'co-star', 'cause,', 'imagination.', 'premise,', 'scares,', 'overdone', 'attempted', 'bore', 'Final', 'scattered', 'renders', 'socks', 'petty', 'crook', 'Luis', 'prison.', 'towns', 'incidents', 'boxer', 'Rockwell', 'reluctant', 'Riley', '(William', 'Deal', 'spots', 'Russo', 'shades', 'Coen', 'elevated', 'counterpart', 'could,', 'Frankly', 'spoken', 'counting', 'Island,', 'wardrobe', 'swearing', 'Rhys', 'break.', 'Made', '80s.', 'humble', 'pie', 'Bollywood', 'editor,', 'crew,', 'he,', 'Next', 'glorify', 'jewel', 'Julian', 'relentlessly', 'suspend', 'overdone,', 'idiotic', 'place?', 'compete', '(why', 'dreadfully', 'boot.', 'website', 'cents', 'broadly', 'acted.', 'cable', 'Would', 'successful.', 'lead,', 'any,', 'Certainly', 'genres.', 'Keaton', 'stores', 'chuckle', 'cheesiness', 'release.', 'movie.\"', '\"Hey,', 'dated,', 'sexy,', 'bank', 'building.', 'position.', 'Tarzan', 'Ape', 'Man,', 'Holt', 'finance', 'elephants', 'Friend', 'arrives', 'competing', 'thieves', 'frying', 'pan', 'Eventually', 'censored', 'todays', 'remove', 'nudity,', 'nude', 'swim', 'frontal', 'restored', 'romantic,', 'adventure,', 'rear', 'gorilla', 'apes', 'quaint', 'convincing.', 'bowl', 'popcorn', 'couch', 'drift', 'simpler', 'Spade', '2003', 'Ritter,', 'Cate', 'Bridget', 'Kerry', '(Amy', 'Rory', 'hearty', 'untimely', 'daddy', 'time.The', 'gorgeous,', 'person.', 'lone', 'Cleese', 'elevates', 'lifelong', 'Brits', 'combining', 'observed', '\"Inspector', 'knack', 'Lowe', '(his', 'justifies', 'vanished', 'alot', 'end!', 'changes', 'earthquake', 'convent', 'nuns', 'priest.', 'operate', 'deceased', 'force,', 'bleeding', 'protection', 'police.', 'murder,', 'Cracker', 'street.', 'ubiquitous', 'Pam', 'sickening', 'mayor', 'parade', 'district', 'press', 'capital', 'predecessors', '\"They', 'enforcement', 'officials', 'prostitution', 'streets.', 'hero,', 'force.', 'suppose', 'absence', 'street,', \"don't.\", 'murderous', 'thug', 'enabling', 'Turner,', 'glowing', 'populated', 'targeted', 'unbelievable.', 'training', 'SS', 'psycho', 'sergeant', 'belonged', 'receiving', 'wondered', 'recruits', 'from,', 'lawyer,', 'instructor', 'barrel', 'illegal', 'enlisted', 'conduct', 'officer.', '(some', '1:', '2:', 'aliens.', 'About', 'von', 'that.The', 'end?', 'pesky', 'masked', 'guy?', 'less,', 'Egyptian', 'Gods', 'heads.', 'minority', 'ride.', 'thus,', 'Viggo', 'bulk', 'Point', 'touching.', 'implication', 'survived', 'skeptical', 'HOW', 'ingredient', 'because,', 'results.', 'Tigerland', 'metal', 'nature.', 'Bozz', 'ends.', 'harmony', 'exact', 'Andrei', 'killers,', 'sought', 'case.', 'authorities', 'assigned', 'dozens', 'raped', 'female.', 'shoddy', 'confession', 'egotistical', 'co-writer', 'killings', \"Sutherland's\", 'manipulation', 'hacks', 'spine', 'undercurrent', 'Von', 'boyish', 'enhance', '\"Citizen', 'spits', 'piano', 'Definitely', 'you!', 'SPOILER', 'prank', 'forgiveness', '(Richard', 'inherits', 'ensure', 'agreed', 'interspersed', 'Kathryn', 'Crawford', 'Rogers', 'drums', 'cab', 'dull.', 'Gilliam', 'traveled', '(he', 'Madeleine', 'annoying,', 'sentenced', 'degree', 'chooses', 'per', '100.', 'sounded', 'payoff', 'Grade:', 'Media', 'Extras:', \"Director's\", '\"Attack', 'Cast', 'Making', 'altered', 'pans', '1940s', 'films;', 'mixing', 'schemes', 'ugly', 'preceding', 'events.', 'heavenly', '(Or', 'question,', 'says,', 'England,', 'exhibit', 'blues', 'listens', 'condemn', 'played,', 'it:', 'THEY', 'incomprehensible.', 'well)', 'understands', 'hence', 'sharing', 'Niven', 'acquire', 'musical,', 'cases', 'both.', 'Lane,', 'Alicia', 'Valley', 'Girl', 'Adrian', 'Lester', 'contribution', 'titles', 'witless', 'pass.', 'Stone', '1980s.', 'stoic', 'emotion.', 'duck', 'climbing', 'wire', 'accidentally', 'fatally', 'properly', 'fence', 'Arnold', 'shot.', 'Forrest', 'Arnold,', \"kid's\", 'girlfriend.', 'communicate', 'Reno', 'Nevada', 'emerge', 'shell', 'reconciliation', 'hauntingly', 'distant', 'Duvall', 'Close', 'parents.', 'moody', 'advised', '100%', 'pity.', 'Rating', 'tongue', 'cheek', 'outset', 'pokes', 'Gerard', 'believes', 'sword', 'fights,', 'brisk', 'shortcomings', 'feeding', 'fortune', 'teller', 'Marcel', 'all:', 'hesitate', 'Do', 'going.', 'burned', 'Kinnear', 'mannered', 'conversation', 'jobs.', 'nerd', 'year,', 'hood', 'wizard', 'Poorly', 'Beverly', 'opportunities', 'prime.', 'feel,', 'secondary', 'please.', 'step', 'Disney,', 'mice', 'dress', 'experience,', 'charm.', 'excellently', \"Attenborough's\", 'puzzles', '(possibly', 'personnel', 'sordid', 'seriously,', 'operates', 'ignorant', 'offset', 'gifted', '12', 'tape,', '(apparently', 'Moss', 'WWII', 'fathom', 'well-known', '(e.g.', 'Jeanne', 'Nelson,', 'Taylor,', 'close-up', 'times)', 'bomber', 'trend', 'supported', 'generation', \"60's,\", 'rehearsal', 'Stones', 'Mick', 'Richards,', 'Godard', 'divided', 'uneven', 'unbearable.', 'Richard,', 'pictured', 'cut.', 'lengthy', 'Jenna', '(she', 'good)', 'downhill', 'scenario', 'Turturro', 'Watson', 'player', 'eccentric', 'everyday', 'non', 'linear', 'childhood.', 'those,', 'Luzhin', 'barrel.', 'title.', 'Freddy', 'Show\"', 'Ashton', 'that!', 'Bo', 'Luke', 'objective', 'mattered', 'helmed', 'wildly', 'Blair', 'Witch', 'alien', 'sorts,', 'shall', 'promising,', 'younger,', 'imagining', 'Stories', 'details,', 'uncomfortable,', 'alive.', 'do?', 'group,', 'uninspiring', 'fare', 'coupled', 'tactics', 'mention,', \"that'll\", 'warned.', 'International', 'Documentary', 'Tobias', 'Keep', 'studied', 'reunion', 'moving.', 'formula', 'thrilling', 'Writer', 'Vivian', 'fears', 'rave', 'reviews.', 'precisely', 'things,', 'satisfactory', 'disappointing.', 'mountains', 'insipid', 'wildlife', 'movies),', 'bullied', 'bullies', 'Willy', 'perplexed', 'mixture', 'heaven.', 'rounds', 'perfection.', 'comedian', 'misunderstanding', 'calm', 'desert', 'replies', 'Spanish', 'priceless.', 'importantly', 'decision', 'Attenborough', 'singular', 'director.', 'Rocky', 'musicals.', '\"Oh', 'disappointment,', 'ounce', 'proceedings.', 'danced', 'projection', 'newcomers', 'group.', 'beautifully.', 'musical.', 'peace.', 'motivated', 'loss.', 'entertained.', 'deeply', 'highest', 'Netflix', 'flaw,', \"viewer's\", 'reminder', 'caution', 'progress,', 'rips', 'unstoppable', 'runaway', 'train.', 'Frosty', 'Rudolph', 'Fourth', 'July', 'associated', 'ruined', 'singing.', 'god,', 'ashamed.', '70s,', 'Lane', 'pornographic', \"'70s\", 'characterized', 'demand', 'extraordinary.', 'brunette', 'breast', 'satisfied.', 'charm', 'core,', 'dialogs', 'philosophical', 'nerves', 'on-screen', 'terrorists', 'running.', 'respectable', 'arranged', 'devotion', 'bonds', 'marriage.', 'fortune.', 'unrealistic.', 'income', 'teenagers', 'motivations', 'skip', 'driven', 'dramas,', 'Mad', 'terrorizing', 'neighborhood', 'twins', 'deadly', 'basement,', 'Cut', 'steer', 'referring', 'guts,', 'horrendous.', 'Think', 'renowned', 'Right', 'Goldsworthy', 'nature,', 'of,', 'feeling,', 'dirt', 'Inside', 'Lives', 'Feel', 'Series', 'Out', 'Leading', 'Day.', 'Days', 'Until', 'End', 'Movie.', 'Knows', 'Filled', 'Hate', 'Ending', 'Different', 'Seen', 'Horrible', 'Class', 'Going', \"Didn't\", 'Really', 'Way', 'Because,', 'Grade', 'Leave', 'Hurt', 'Eyes', 'Down', 'Earth,', 'medium', 'Hedy', 'native', 'waist', 'naked,', 'Pierre', 'allegorical', 'statements', 'forming', 'pale', 'sounding', 'bodily', 'gestures', 'vein', 'lake', 'engineer', 'bearing', 'VHS,', 'mourning', 'imagines', 'infant', 'assume', 'wash', '7/10.', 'experimenting', 'basement.', 'traffic', 'grief,', 'severed', 'vocal', 'Seems', 'grief', 'bimbo', \"doctor's\", 'everybody,', 'Turner', 'Classic', 'arm', 'Lindsay', 'GREAT', 'actress.', 'Rachel', 'aggressive', 'film.I', 'skill,', '\"No,', 'agreeing', 'movie)', 'commenter', 'rating.', 'registered', 'Ford,', \"York's\", 'underbelly', 'Early', 'mobster', 'reasons,', '(Gene', 'hook', 'photographed', 'sparkling', 'Quinn', 'Jared', 'Harris', 'poignant.', 'appropriate,', \"Keaton's\", 'drinking,', 'Finally,', 'staff', 'awakens', 'incompetent', 'low,', 'sequences,', 'result,', 'shirt', 'SHOULD', 'backwards', 'mistake,', '5.', 'again...', 'good...', 'Shows', 'band,', '6.', 'performing', 'this...', 'Naked', 'Whenever', 'channel,', \"school's\", 'intriguing,', 'liked.', '(because', 'Aussie', 'link', 'exists', 'whites', 'bless', 'organic', 'response', 'fifties', 'following:', '14', 'restricted', 'Winchester', '73', 'average.', 'father.', 'variations', 'Stewart.', 'Dan', 'Duryea', 'remembered.', 'western.', 'Fritz', 'Lang', 'comparable', 'fake.', '\"Dark', 'Ghost', 'loosely', 'flee', 'appearances', 'Woman', 'appear,', 'neighbors', 'appear.', 'twist.', 'neighbor,', 'reminding', 'contradict', 'generated', 'charms', 'Diaz', 'adequate', 'must,', \"DON'T\", 'comment.', 'doubts', 'Akira', 'analyze', 'peasant', 'searching', 'circus', 'performers', 'tip', '13th', 'Warrior', 'Antonio', 'copied', 'cat.', 'way;', 'slowed', 'felt,', 'good!', 'lens', 'tempered', 'Bette', 'vicious', 'Cockney', 'waitress', 'Mildred', 'believable.', 'despise', 'pity', \"Howard's\", 'Carey', 'strong,', 'chews', 'stardom', 'lost.', 'rewind', 'area.', '\"Red', 'West\"', 'low-budget,', 'Ursula', 'extraneous', 'tradition,', 'caricatures', 'drunk,', 'word:', 'fast-forward', 'Rangers', 'excuses', 'costumes,', 'idiots,', 'Jason,', 'ME', 'reruns', 'ass.', 'action.', 'Razzie', 'enough.', 'purchasing', 'pilot,', 'instantly', 'hooked', 'themes,', 'logo', 'Judge', 'crack', 'purchased', 'collection.', 'cars.', \"doesn't.\", 'alley', 'they?', 'make,', 'sorry.', 'paced', 'festivals', 'distributor', 'DAY', 'awhile.', 'product', 'Heck,', 'self-indulgent', 'artsy', 'hippie', 'producing', 'gargantuan', 'rap', 'session', 'it\"', 'sending', 'college,', 'loudly', 'Canada,', 'There,', 'orgy', 'lasts', 'boggles', 'plane', 'creation.', 'improving', 'plane,', 'fascist', 'pig', 'explode', 'motion.', 'dopey', 'extensive', 'editing.', 'dialog.', 'imitating', '27', 'participating', 'disgusted', 'exists.', 'Savage', 'brainless', 'stripper', 'slut', 'Alba', 'Megan', 'Fox.', 'tapes', 'Meg', 'mechanic', '\"Is', 'lovable', 'yours.', 'garage', 'Einstein', 'puzzle', 'awfully', 'fetched', 'seal', 'Witherspoon', 'name,', 'Called', 'traditions', 'ego,', 'tense', 'least.', 'glory.', 'seat', 'violence.', 'murky', 'cinemas', 'nowadays,', 'dramatic,', 'whoever', 'EVERYTHING', 'ask?', 'marijuana', 'Cheech', 'Chong', 'smoke', 'voices', 'themes.', 'Thing', 'recognised', 'situations', 'SNL', 'networks', 'marketing', 'life!', 'snowman', 'frankly', 'relative', 'cabin', 'cry,', 'Knowing', '(George', 'approve', 'sue', '(did', 'Showtime', 'videotape', 'approved', 'pity,', 'DOES', 'doubtful', 'format', 'Sorry', 'info', 'president', 'items', 'partial', 'HBO', 'ask.', 'proclaimed', 'nonsensical', 'suffered', 'remainder', 'hitting', 'chapter', 'end...', 'clever,', 'lifting', 'EVIL', 'shorts,', 'promise,', 'luck.', 'Theater', 'obvious.', 'scary.', 'spoiling', 'educate', 'ourselves', 'feelings,', 'passions', 'idle', 'housewife', 'afternoon,', 'lying', 'movie.The', 'gaze', 'rapid', 'waving', 'Latin', 'aristocratic', 'cliche', 'hoped', 'ads', 'sky,', 'Ringwald', 'consequences.', 'Australian', 'concerned', 'Could', 'factors', 'concentrated', 'Cliffhanger', 'Renny', 'Harlin', 'hostage', 'Gabe', 'disbelief.', 'Janine', 'Rex', 'mountain', 'inventive', \"Stallone's\", 'hope,', 'frustration,', 'justice,', 'Whoopi', 'Goldberg', 'debut', 'mandatory', 'Rating:', 'shed', 'tear', 'ripping', 'ocean', 'liner', 'iron', 'continuity', 'slaps', 'holes.', 'ferry', 'ships', 'kung-fu', 'magic.', 'casino', 'size', 'table,', 'fruit', 'machines', 'hiding', 'Casper', 'mates', 'face,', 'flip', 're-make', 'changing', 'laughter.', 'degree,', '\"bad', 'guy\"', 'Gates', \"Doesn't\", 'maybe,', 'ludicrous,', 'dragging', 'lost,', 'failed,', 'beef', 'company.', 'Ted', 'request', 'span', 'Blackadder', 'principles', 'fiery', 'foolish', 'one-liners', 'episodes.', 'outing', 'Rowan', 'butler', 'effectively', 'Laurie', '9/10', \"Hollywood's\", 'productions.', \"Welles'\", 'dubbing', 'relationship,', 'Orson', 'breathing', 'dreamlike', 'weirdness', 'middle.', 'carnival', 'Everett', 'Sloane', \"cinema's\", 'masters', 'Boone', 'graced', 'filler', 'Almost', 'Wizard', 'insists', 'Scott,', 'Wayne,', 'guns.', 'it.This', 'Peckinpah', 'copious', 'miserably.', 'bloodless', 'tolerated', 'guts', 'plant', 'terms.', 'gore,', 'remote', 'amused', 'B-movies', 'doing.', 'aspirations', 'Dern', 'fifteen', 'Tyler', 'brilliance', 'you\"', 'Ross', 'Kirk', 'sometimes,', 'Lemmon', 'Sandy', 'stressed', 'contrary,', 'Goldie', 'Hawn', 'hapless', '1970', 'somewhere,', 'environment.', '1999', 'expects', 'players,', 'Rudy', 'then?', 'advertisement', 'Basil', 'customers', 'idiot', 'process,', '1970s,', 'city,', 'grim,', 'all).', '1999,', 'bite', 'naturally,', 'fabulous', 'liberty', 'Hence,', 'latter,', 'Navy', 'operations', 'Beery', 'tall', 'WWII,', 'bachelor', 'widow', 'father-son', 'surgeon', 'Jess', 'march', 'Otherwise', 'hoot.', 'transformed', 'country.', 'Wes', 'exist.', 'people;', 'sections', 'amusingly', 'frighten', 'expected.', 'outta', '(Daniel', 'Elisha', 'Daphne', 'Celeste', 'non-existent', 'undoubtedly', 'brutal,', 'irrelevant', 'squarely', 'scaring', 'Whilst', 'positives', 'remained', 'laughter,', 'pinnacle', 'appalling', 'directorial', 'tempted', \"We've\", 'this:', 'Stargate', 'SG-1', 'year-old', 'hackneyed', 'stilted', 'uninspired', 'pleasure,', 'Russell,', 'architecture', 'culture,', 'Anderson,', 'scripts.', 'amazes', 'loss,', 'reflected', 'Fineman', 'perspective.', 'Sandler', 'Cheadle', 'supporter', 'Oscars', 'alone,', 'Jake', 'elements.', 'filmed,', 'edited,', 'celebrates', 'thrill', 'left.', 'transparent', 'stretching', 'Sean', 'Bean', 'costumes.', 'flat.', 'novel,', 'alter', 'promoted', 'pause', 'pushes', 'trials', 'occurring', 'filmmaker.', 'director/writer', 'reinforces', 'Willem', 'Dafoe', 'Awful', 'etc.).', 'cheaper', 'embarrassing', 'continuity,', '24', 'Save', 'theaters.', 'then.', 'Forbidden', 'Planet', 'scientist,', 'beings,', 'artwork', 'evokes', 'imagery.', 'Consider', 'depth.', '(at', 'drive-in', 'monster.', 'nowhere,', 'grizzled', 'flesh-eating', 'indifferent', 'lackluster', 'BLOOD', \"Wood's\", 'believed', 'efforts,', 'justifiably', 'cheated', 'junk.', 'Story\"', 'Coward', 'therein', 'lies', 'spliced', 'schtick', 'purpose.', 'incessant', 'qualify', 'fans.', 'wooden,', 'movie!!', 'instrumental', 'fuel', 'Bugs', 'boring!', 'Elmer', 'dragged', 'afflicted', 'padding', 'finishes', '\"That', 'text', 'Pet', 'Rabbit', 'acknowledge', 'Mitchell,', 'nifty', 'steel', 'explosive', 'visions', 'dream,', 'slice', 'shenanigans', 'arc', 'Clarence', 'ex-con', 'psychopathic', 'punish', 'psychopath', '\"One', 'motivation', 'Leo', 'photograph', 'brains', 'sheet', 'missed,', 'lose,', \"Seagal's\", 'baddies', 'deliberately', 'annoyance', 'cuts.', \"Harry's\", 'extension', 'Harry,', 'politician', 'scant', 'overtly', 'tax', '(no', 'disrespect', 'charm,', 'outlaw', \"city's\", 'i.e.,', 'mug', 'dialogues', 'purpose,', 'asylum', 'innocently', 'drum', 'grant', 'morphs', 'Oz', 'Things', 'yellow', 'plunges', 'horrific', 'formerly', 'motley', 'comforting', 'aptly', 'plastic', 'separated', 'summary,', 'Maltin', 'rate,', 'excessively', 'Western', 'steady', 'Cassidy', 'poignancy', 'strategy', 'Charlton', 'Heston', 'ring', 'Coburn', 'breed', 'convict', 'revenge,', 'underdeveloped', 'bowling', 'mumbling', 'technological', 'interpretation', 'onwards', 'Morning', 'Sea', 'Land', 'Marie', 'Hour', 'Beyond', 'expectations', 'March', 'symbolic', 'August', 'journeys', 'Marty', 'Characters', 'G.', 'fewer', 'Hands', 'potentially', 'concept,', 'uninteresting.', 'slaughter', 'met.', 'simple:', 'Meat', 'movie;', 'Bela', 'demented', 'masquerading', 'respected', 'community.', 'henchmen', 'serum', 'young.', 'co', 'tv', 'stiff,', 'unconvincing.', 'dastardly', 'some,', 'quality.', 'white,', 'detract', 'react', 'resort', 'incidentally,', 'Ranma', 'Noriko', 'essence', 'teddy', 'utilizes', 'dubious', 'Dracula', 'frankly,', 'it).', 'Shaggy', 'Scooby', \"They're\", 'Scooby-Doo', 'capacity', 'Casey', 'annoy', 'Palace', 'aspect,', 'screenplay,', 'big.', 'joins', 'Thailand', 'convinces', 'neglected', 'inform', 'obscene', 'Pullman', 'Hank', 'will,', 'city.', 'relationships,', 'characteristics', 'strive', 'observations', 'astute', 'flowing', 'Detroit', 'curiously', 'tack', 'fashion', 'macho', 'Lauren', '*1/2', 'sub', 'appeal.', \"Disney's\", 'uncanny', 'standards,', 'looking.', 'eastern', \"80's,\", 'CG', 'slug', 'fur', 'disappoint.', 'noticeably', 'Viking', 'villains,', 'underused', 'foreboding', 'sound.', 'mentor', 'subjects', 'impressive.', 'poetic', 'moment,', 'wider', 'Ford', 'conditions', 'Oscars.', 'missing.', 'east', 'Gibson', '(see', 'missed', 'perfectly,', 'Holden', 'Constance', 'actress,', 'marching', '(out', '10)', 'correct,', 'industry.', '(since', 'authenticity', 'goings', 'Conrad', 'manager', 'immigrant', 'strange,', 'fetish', 'meanders', '\"twist\"', 'plotted', 'outstanding.', 'shallow.', 'effort,', 'rub', 'writer-director', 'resume', 'deemed', 'nominated', 'Genie', '4/10', 'Diamond', 'lover.', 'spy', '1970s', 'LDS', 'coverage', 'fugitive', 'church.', 'differences', 'acceptance', 'greatly', 'Church', \"wife's\", 'African', \"son's\", 'freedom.', 'Emma', 'cherish', 'wives', 'twisting', 'participated', 'aid', 'thumbs', 'Jesus', 'Christ,', 'patriotic', 'legends', 'hugely', 'supportive', \"Lugosi's\", 'Janos', \"Rukh's\", 'drawings', 'discussed', 'fundamental', 'Rukh', '(among', 'device.', 'sincerely', 'Africa.', 'essential', 'meteorite', 'fashioned', 'gimmicks', 'climax.', 'discovery', 'eliminate', 'far-fetched', 'Lambert', 'highlights', 'communicating', 'Apparently', 'original)', 'scripted', 'as:', 'Angels', \"team's\", 'coach', 'division', 'Mel', 'scoring', 'games,', 'manipulating', 'MANY', 'Done', 'Average', 'internal', 'coherence', 'generates', 'condescending', 'hallmark', 'Wong', 'warmed', 'vain', 'unexpectedly', 'knowledgeable', 'external', 'emperor', 'throne', 'Katsu', 'samurai', 'looses', '=', 'Sword', 'assassinate', 'ranking', 'reputation', 'wherever', 'affairs', 'tortured', 'faster', 'Warriors', 'mountains,', 'Zu', 'Tsui', 'CGI', 'floating', 'ranging', 'razor', 'predecessor.', '(from', 'Hark', 'positively', 'Dalton', 'nuances', \"Rochester's\", 'tight', 'summary', 'Rochester', 'engaged', 'chemistry.', 'Bronte', 'grave.', 'HAS', 'BY', 'LOVE', 'suspenseful,', 'Jan', 'surrealistic', 'homosexual', 'object', 'cemetery', 'mixes', 'progresses.', 'Lynch,', 'web', 'spider', 'catches', 'prey', 'Reve', 'on)', 'crosses', 'mysterious,', 'Simone', 'literal', 'boiling', 'Herman', 'Critics', 'newer', 'Bay', 'Basic', 'Instinct', 'junior', 'Man.', 'accounts', 'Carlyle', 'longtime', 'despair', 'anguish', 'casting.', 'background.', 'sorely', 'insulting', 'switching', 'sentence.', 'confusion', 'Third', '1983', 'Albert', 'Hitler.', 'researcher', 'reaching', 'confirm', 'tender', 'avalanche', 'causing', 'Championship', 'admired', 'similar,', 'endearing.', 'satisfying.', 'dreams,', 'insults', 'faux', 'reception', 'hilarious,', 'Barnes', 'trio', 'Spain', 'confrontation', 'Republican', 'colors', 'magnificent.', 'cruelty', 'protect', 'Again', 'Chorus', 'different,', 'audition', 'choreographer', 'Zach', 'dancers', 'dancer', 'fantastic,', 'recently,', 'continuity.', 'stop.', 'Again,', \"Taylor's\", 'perspective', 'crucial', '\"Before', 'all;', 'jury', 'contestants', 'second,', 'Marvin', 'lyrics', 'flawless', 'Reed,', 'Bob', 'Young,', 'tired,', 'techniques', 'waiter', 'cruise', \"ship's\", 'resident', 'shamelessly', 'unfathomable', 'gender', 'presumed', \"Sandler's\", 'mouth', 'Holland', 'hunky', 'simulated', 'right!', '(now', 'layers', 'bored.', 'him;', 'Kay', '2004', 'Heaven', 'Swedish', 'humanity', 'critics,', 'gamut', 'proverbial', 'messages', 'removing', 'lump', 'throats', 'communities', 'exposure', 'hypocrisy', 'repressed', 'Secondly,', 'chord', 'Girls', 'formula.', 'classmates', 'truck.', 'suspicions', 'artists', 'arcs', 'domestic', 'Ingmar', 'function', 'metaphor', 'delves', 'bully', 'Similarly,', 'magazines', 'dangling', 'unrelated', 'reality.', 'unexplained', 'functions', 'editing,', 'resolved', 'Apart', 'seldom', 'meetings', 'Films', 'superhero', 'Ivan', 'employee', 'firm', 'subway', 'out;', 'distracted', 'Superman,', 'Payne', 'conceived', 'bitch', 'away,', 'Uma', 'Thurman', 'sassy', 'slip', 'by.', 'accompanied', 'gays', 'assured', 'buddies', 'approached', 'powers,', 'showcased', 'hypnotic', 'Quentin', 'Tarantino', 'expose', 'intensity,', 'graceful', 'exceedingly', 'scenario.', 'dating', 'G-Girl', 'chainsaw', 'relief,', 'leaps', 'slide', 'shows.', '1,', 'mom', 'course)', 'Claus', 'site.', 'Cillian', 'McAdams', 'fixed', 'hotel.', 'Jackson', 'mean.', 'terrified', 'incredible.', 'make-up,', 'wonderful!', 'Craven', 'rating:', 'concrete', 'factory', 'waters', 'Mitchum', 'Travis', 'foul-mouthed', 'intended)', 'contend', 'radical', 'sabotage', 'jobs', 'Pete', 'unwittingly', 'aided', 'ex-girlfriend', 'beach,', 'evidence.', 'priest', 'Might', 'credits,', '1971', 'throat', 'billing', 'nonexistent', 'filming.', 'proof', 'Shame', 'melodrama,', 'eldest', 'grand', 'sacrifice', 'secretly', 'estate', 'inherit', 'court', 'enthralling', 'retelling', 'monk', '1000', 'chaos.', 'civil', 'demons', 'locals', 'meditation', 'Ki', 'dimension', 'rings', 'authentic.', 'brooding', 'limits', 'man\"', 'lighthearted', 'vs', 'intrigue,', 'graphically', 'loser.', 'prevents', 'describing', 'steps', 'Personally', 'alert', 'Sunshine', \"Simon's\", 'Simon,', 'irrational', 'clumsy,', '\"how', 'Supporting', 'thirty', 'gets,', 'routines', 'City.', 'ego', 'fire,', 'ones.', 'Later', 'drowned', 'tasks', 'M', '3:', 'disaster.', '4:', 'season,', 'Randall', 'L.A.', 'mistake.', 'example).', 'Totally', 'disgrace', 'emerged', 'dominated', 'crushed', 'opponents', 'Americans,', 'UK', 'yelling', \"(don't\", 'frightening,', 'bush', 'chill', 'stabs', 'leans', 'Myers', 'realistic,', 'crazed', 'terror.', 'swayed', 'examine', 'Dog', 'problematic', 'madness.', 'cities', 'properly.', 'lie.', 'gritty,', 'confronted', 'lawyers', 'DC', 'sharp,', 'dead-on', 'game.', 'cheap.', 'Hill', 'much.The', 'decent,', 'otherwise,', 'Sorry,', 'spice', 'developed,', 'about?', 'lay', 'shootings', 'imagery', 'hardcore', 'reviewers,', 'IMDB', \"Prince's\", 'abusive', 'WHY', 'effective.', 'first-time', 'bad!', '\"good\"', 'stylistic', 'kind,', \"Jackson's\", 'sweeping', '\"Pulp', 'Fans', 'archetypal', 'screenplays', 'ZERO', 'misunderstood', 'approach,', 'slutty', 'displeasure', 'unsuccessful', '\"making', 'plug', 'husbands', \"genre's\", 'spooky', 'exception.', 'glee', 'adultery', 'angle', 'slight', 'Rob', 'flair', 'horrifying', 'prevalent', 'Dominick', 'Eugene', 'emotional,', 'sensitive,', 'seen!', 'Curtis,', 'caliber', 'eloquent', 'masterfully', '(A', 'heartbreaking', 'school,', 'accepting', 'behind,', 'education', 'Nicky', 'blended', 'landmark', 'Gino', 'faulty', 'route', 'fills', 'gullible', 'Atlantic', 'beaten', 'church,', 'Hulk', 'recognition', 'issue.', 'stinks.', 'bland.', 'relied', 'visuals.', 'Miike', 'parental', 'sibling', 'abuse,', 'cameos', 'Roberts', 'situations.', 'comfortable', 'fresh.', 'tasteless', \"Allen's\", 'Ever', 'Know', \"mother's\", 'disgust', 'perversion', '86', 'contrary', 'glue', 'phone,', 'nursing', 'Zodiac', 'bucks', 'cameras', 'find.', 'subtly', 'hoods', 'address', 'number.', '9/11', 'HOUSE', 'regime', 'bad;', 'etc).', 'toe', 'these,', 'Ultimately,', 'noble', 'orchestrated', 'law.', 'folks,', 'engages', 'gallery', 'boredom.', 'Isabel', 'book)', 'completely.', 'stands,', 'recommended.', 'Puerto', 'potent', 'multi', 'layered', 'notch', 'Ricardo', 'Maria', '\"is', 'subtitles.', 'outbursts', 'plus,', 'Sharon', 'b/c', 'cops,', \"Stone's\", 'ending!', 'compilation', 'youngest', 'sister.', 'surprised.', 'thief', 'diamond', 'easiest', 'heist', 'pretending', 'baby.', '1.5', 'dumbed', 'renting', 'respectful', 'gods', '(It', \"Homer's\", 'mortal', 'agents', 'classical', 'vastly', 'inferior', 'Am', 'wooden.', 'soldier,', 'explained.', 'werewolves', 'pressing', 'aim', 'trilogy,', 'murderer', 'film\"', 'sucks,', 'Troma', 'accents,', 'states', '\"Bad', 'rocket', 'no-budget', 'zero.', 'Video', 'Sound', 'camera,', 'wave', 'spin', 'cleaned', 'animations', 'walked', 'speaking,', 'award.', 'feared', 'encountered', 'disease.', 'designed', 'primarily', 'patient', 'Casting', 'line.', 'soundtrack.', 'public.', 'criminals.', 'LOVED', 'shattered', 'deciding', 'cancel', 'there!', 'ha', 'it!!', 'shes', 'fighting.', 'Tiny', '(Ray', 'Hector', 'dad,', '(Paul', 'box.', 'genius.', \"60's\", \"70's.\", 'unsympathetic', 'emotionally', 'literally.', 'pose', 'flawed,', 'dialogues,', 'offer,', 'Italians', 'bear.', 'risk.', 'flawed', 'characterizations', 'Nic', 'personally,', 'framework', 'thought-provoking', 'concentrate', 'set.', \"IMDb's\", 'want,', 'Caucasian', 'trained', 'cheerful', 'ranks', 'kill,', 'somber', 'Winner', 'voiced', 'horrors', 'hand.', 'version)', 'Chang', 'stark', 'subdued', 'fitting', 'commands', 'devious', 'beliefs', 'bag', 'Kaye', 'larger-than-life', 'cannon', 'fodder', 'reflect', 'ethnic', 'backgrounds.', 'accents.', 'retains', 'sneaking', 'robbers', 'pleasures', 'period,', 'degenerates', 'predictability', 'Central', 'breath', 'unresolved', \"Altman's\", '1993', 'Lawrence', 'exposition', 'poses', 'Gabriel', 'reinforced', 'desolate', 'blank', 'finale.', 'Sterling', 'Preston', 'arrives,', 'Barrymore', 'impressionable', 'debt', 'prepare', \"Lynch's\", 'generate', 'pointless.', 'explore', 'danger.', 'injury', 'volunteers', 'hometown', 'wine', 'Boys', 'P.', 'win,', 'smallest', 'auditioning', 'play,', 'photographic', 'revival', 'screenwriter,', 'playwright', 'shocking.', 'Naschy', 'honorable', 'twisted,', 'demonic', 'unoriginal,', 'Juan', 'themed', 'shocks', 'stupid,', 'well!', 'postwar', 'unprecedented', 'industrial', 'workers', 'entered', 'singing,', 'capturing', 'Stevenson', 'insecure', 'system,', 'conflict,', 'following.', 'affable', 'flaw', 'inspirational', 'lie,', 'news.', 'conflict.', 'refuse', 'saying,', 'relations', 'goal,', 'example.', 'Mistress', 'Dark,', 'Peterson', 'aunt', 'ruled', 'embrace', \"Elvira's\", 'Elvira', 'witch,', 'intentionally', 'campy,', 'awful!', 'mate', 'crazy.', 'Lifetime', 'story\"', 'melodrama.', 'twentieth', 'succeeding', 'trap', 'movie:', 'Muriel', 'Certain', 'aura', 'pacing,', 'tone.', 'breathtaking.', 'friendly,', 'labeled', 'Sissy', 'Spacek', 'infinitely', 'Elephant', 'Fire', 'Walk', 'method', 'friendship,', 'kindness', 'Scary', 'X-Files', 'fame)', 'upcoming', 'Pedro', 'chance,', 'O', 'favor,', 'hell.', 'dollars', 'dentist', 'pain.', 'occasions,', 'sail', 'all...', 'shrieking', 'progressively', 'sums', 'nuts', 'that...', 'horrendously', 'marginally', 'porn.', 'thin.', 'experiencing', 'marital', 'dealer', 'panic', 'attacks.', 'analysis,', 'concludes', 'suspected', 'Gandolfini', 'acclaimed', 'recurring', \"Romero's\", 'spoofs', 'outbreak', 'property', 'once,', 'gross-out', '\"He', 'friendships', 'silliest', 'watch!', 'SFX', 'acting?', 'disability', 'requires', 'plot?', 'dinosaurs', 'nearest', 'contest', 'two.', 'dumber', 'directors.', 'publicity', 'ticket', 'thriller.', 'Salman', 'Di', 'Jo', 'Khan', 'wannabe', 'Mumbai', 'minimal', 'Altman', 'Blade', 'Runner', 'it.In', 'nauseating', 'disgusting', 'corpse.', 'bounty', 'fine,', 'rides', 'saloon', 'frontier', 'neighbor', 'rational', 'serials', 'traps', \"World's\", 'Moon\"', 'ever!', 'breathe', 'world?', 'talky', '(usually', 'helmet', 'muscular', 'hunk', 'sake.', 'presented,', '\"jokes\"', 'story:', 'story;', 'parodies', 'Schneider', 'nights', 'threatening', 'papers', 'Theresa', 'Marilyn', 'Monroe', 'breakdown', \"Russell's\", 'Emil', 'demonstration', 'elevator', 'discuss', 'collaboration', 'Bogdanovich', 'Hepburn', 'tire', 'Colleen', 'raised', 'nefarious', 'University', 'promote', 'media.', 'General', 'championship', 'Shaolin', 'guess,', 'sticks', 'hurts', '\"one', 'moves,', 'artist.', 'Year', 'Ask', 'assumes', 'question:', 'Farrell', 'it.\"', 'enraged', 'conjure', 'slow-moving', 'wrought', 'meaning,', 'heir', 'fields', 'non-linear', 'fashion.', 'shaved', 'exit', 'gained', 'Bruckheimer', 'Chaplin', 'film-', 'magically', 'celluloid', 'analysis', 'addictive', 'Sci-fi', 'stormy', 'them:', 'JJ', 'story?', 'National', \"Lampoon's\", 'combines', 'humiliated', 'reunion.', 'list.', 'flirting', 'book!', 'Bravo', 'funny.I', 'Sox', 'nation', 'screwed', \"O'Toole\", 'Lord', '(they', 'serving', 'deep,', 'advice:', 'oldest', 'pursuing', 'up:', 'camps', 'Meanwhile', \"(there's\", 'crush', 'wartime', 'DJ', 'joined', 'either!', 'tribe', 'three,', 'politically', 'Wilder', 'black-and-white', 'Mason', 'portions', 'additional', 'E', 'combo', 'swing', 'unclear', 'inclusion', 'Love\"', 'longer.', 'Kingsley', 'Fiona', 'top,', 'Mira', 'chew', 'gigantic', 'juicy', 'proudly', 'noticing', 'surpasses', 'depraved', 'undemanding', 'photographers', 'intercut', 'pervert', 'dumps', 'Anyways,', 'models.', 'amateurish,', 'primitive', 'uninspired.', 'tolerate', 'brutally', 'whore', 'panties', 'overbearing', 'mindset', '\"Hollywood', 'precision', 'clarity', 'Roddy', 'Piper', 'Wrong', 'darkest', 'broader', 'examination', 'Bull', 'perpetrated', 'loyalty', 'Devil', 'customs', 'honor', 'warrior', 'Hidden', 'Ice', 'insights', 'guidance', 'touch,', 'reflective', 'telling,', 'Maguire', 'contrasts', 'conveys', 'believably', 'responds', 'underscores', 'times;', 'betrayal,', 'companions', 'achieves', 'understated', 'granted,', 'effective,', 'Sue', 'Jonathan', 'menace', 'Baker', 'Judd', 'Kathleen', 'filmmakers,', 'unity', 'forthcoming', 'Elsa', 'cat,', '\"special', 'effects\"', 'consistent', '\"Our', 'directions', 'cooking', 'Gang', 'Roach', 'plodding', 'meandering', 'memories.', 'Flash', 'Brother', 'Hero', '(You', 'him)', 'owned', 'Race', 'This,', 'absurd.', 'flat,', 'agent,', 'producers.', 'mode', \"'the\", 'quit', 'Hollywood,', 'dog.', 'Swiss', 'better.The', 'stoned', 'mediocre,', 'Franco', 'assembly', 'exploitation.', 'somethings', 'pretentious,', 'users', 'rushed,', 'psychedelic', 'silliness', 'warm,', 'presence,', 'miracle', \"God's\", 'mesmerized', 'brothers.', 'revolve', 'partner,', 'awry', 'unsuspecting', 'Shannon', 'talents,', 'funny.The', 'OK.', 'shore', 'Ridley', 'Scott.', 'Demi', 'zooms', 'sooooo', 'Hawk', 'skill.', 'known.', 'Thelma', 'Alien', 'Saw', 'youth.', 'hole', 'China.', 'Strong', 'confused,', 'reader', 'rents', 'Abby', 'marked', 'transport', 'buildings,', 'tone,', 'blur', 'unique,', 'next.', 'Colman', 'Reginald', 'Carol', 'Using', 'digital', 'technology,', 'example)', 'memoirs', 'France,', 'emerges', 'device', 'episodic', 'votes', 'Revolution', 'helpful', 'cousin', 'Paris,', 'commentary,', 'vision.', 'powerful,', 'pompous', 'sweep', 'individuals', 'illustrated', 'servants', 'cook', 'incapable', 'dressing', 'subtle,', 'pivotal', 'Andie', 'life)', 'jealousy', 'hardest', 'public,', 'miracles', 'continued', 'Nobody', 'knows.', 'Nonetheless,', '\"Night', 'deftly', 'opposition', 'shorts', 'retirement', 'investigating', 'offenders', 'credits.', 'extraordinarily', 'film.This', 'Misty', 'Ruby', 'silly,', \"plot's\", 'prefer', 'singers', 'Hyde', 'singer', 'Wang', 'Hyde,', 'Gackt', 'insisted', 'Love,', 'dying,', 'should.', 'wonderful,', 'Stan', 'Ollie', 'sweeps', 'Professor', 'stabbed', 'Aniston', 'showcasing', 'budding', 'pretension', 'relying', 'critically', \"Ollie's\", 'billed', 'Britain', 'Bernard', 'journalist', 'origin', \"Hardy's\", 'Company', 'epic,', 'notice.', 'settling', 'shoving', 'significantly', 'frame.', 'looming', 'stoop', 'bathing', 'beauty.', 'gracefully', 'Look,', 'Stop', 'actors!', 'bathroom', 'his.', 'washed', 'comeback', '(Stephen', 'festival.', 'broke', 'replacement', 'writer.', 'lifestyle', 'came.', 'bass', 'reluctantly', 'Europe.', 'conflicts', 'Crazy', 'Spinal', 'Tap', 'evolving', 'awesome!', 'Me,', 'lover,', 'posting', 'drone', 'familiar.', 'before?', 'Telly', 'flowers', 'eye,', 'subsequently', 'precious', 'clinic', 'Incidentally,', 'forgive', 'on?', 'Must', 'replay', 'Columbo', 'spotted', 'marvellous', 'novelty', 'Mission', 'Impossible', 'thankfully,', 'screeching', 'halt', 'dont', 'teenagers.', 'commentators', 'better)', 'admiration', 'design,', 'lightweight', 'parable', 'examines', 'inventor', 'fashions', 'Madison', 'notoriety', 'routine', 'cavalry', 'party,', 'charge,', 'ultimately,', 'ironically,', 'starlet', 'yourselves', 'artificial', '(actually', 'live-action', '101', 'Cruella', 'psychologist', 'coat', 'machine.', 'restaurant', 'located', '\"Home', 'spaghetti', 'restaurant,', 'satire', 'Sheen', '\"Hot', 'nose,', 'parrot', '2002', 'novels', 'R', 'impressed.', 'Read', 'trivia', 'Ali', 'Production', 'ambitious', 'dated', 'days.', 'IMO', '\"Big', 'story.This', 'belt', 'does,', '\"Jane', 'Clarke', 'Jane.', 'versions,', \"Bronte's\", 'enchanted', 'MacMurray', 'Carole', 'actor)', 'EXACTLY', 'Lassie', 'Timmy', 'slept', 'overall.', 'clear,', 'Artemisia', 'According', '(aka', 'run.', 'since,', 'Anybody', 'one!', 'included.', 'sneering', 'outcast', 'witnessed', 'Deanna', 'surviving', 'victim.', '(very', 'breakfast', 'Beautifully', 'moon', \"didn't,\", 'shut', 'belong', 'got,', '(Ian', 'weapon.', 'description', 'north', 'made-for-TV', '3000', 'Episode', 'scale.', \"Smith's\", 'accuracy', 'projects,', 'beginnings', 'Smith.', 'practices', 'entering', 'mouse', 'cliché,', 'elder', 'Boring', 'unsophisticated', 'way.I', 'Stuart', 'title)', 'focus.', 'Additionally,', 'as,', 'NEVER', 'and...', '\"Once', 'rang', '\"great\"', 'worldwide', 'Europe', 'reward', 'World\"', 'Levy', 'Candy', 'unpredictable', 'circa', 'devices', 'tenant', 'seed', 'planted', 'Dillon', '(Matthew', 'print', 'newcomer', 'blends', 'awkward,', 'shy,', 'Ruth', 'implied', 'dad.', 'subjective', '(many', \"Jake's\", 'POV', 'flawless.', 'witnessing', 'affects', 'A.', 'lovingly', 'NIGHT', 'LIVING', 'undead', 'heavy-handed', 'journey.', 'foil', 'formed', 'fed', 'detracts', 'concerning', 'separate', 'candy', \"won't.\", 'Harrison', 'Knight', 'hopelessly', 'be:', 'channel.', 'Couple', 'Earl', 'Darlene', 'luxurious', 'pregnant.', 'glaring', 'sophistication', 'Penelope', 'pops', 'cameo.', 'obligation', 'plotline', 'Aliens', 'vault', 'open,', 'Security', 'boot', 'camp,', 'sessions', 'burns', 'lights,', 'brightly', 'parking', 'suspension', 'electronic', 'noises', 'Period.', 'meat', 'gold,', 'Jaws', \"Luke's\", 'EVER', 'Imagine', 'trappings', 'F', 'Tilly', 'exposing', 'bloody', 'failure.', 'stinks', 'early.', 'K.', 'awesome.', 'revolution', 'collapse', 'Imperial', 'Russia', 'Natalie', 'applies', 'Gamera', 'lowered', 'HATE', 'rain', 'Wars,', \"1970's\", 'Sesame', '(thank', 'iconic', 'apple', 'sized', 'expect.', 'teacher,', 'sacrifices', 'hurting', 'Finnish', \"Harlin's\", 'Blue', 'Wyoming', 'electric', 'remembers', 'vile', 'vengeance', 'Mortensen', 'Field', 'humane', 'unravels', 'unbearably', 'decade,', 'walls,', 'introduces', 'cowardly', 'costs', \"'n\", 'con', 'lifetime', 'Kane', \"Craven's\", 'god-awful', 'chiller', 'tracking', 'down!', 'popularity', 'franchise', 'urgent', 'mysteries', 'hurt,', 'last.', 'Country', 'serious,', 'Dead\"', 'Sidney', 'Lumet', 'expertly', 'trophy', 'Dutch', 'painting.', 'Marisa', 'Tomei', 'hot.', 'Gina', 'Andy,', 'Action', 'Urban', 'Cowboy', 'has.', 'channels', 'Animal', 'Walking', 'Tall', 'theaters', 'opened', 'corner,', 'sporting', 'penny', 'Travolta', 'heels', 'Dallas', 'terrific.', 'redneck', 'Sort', 'storms', 'Renaissance', 'neatly', 'hard-boiled', 'changes,', 'purposes.', 'frame,', 'civilization', 'sporadically', 'Normally,', 'developments', 'Sin', 'adequate,', 'bullets', 'glass', 'Parisian', \"life's\", 'comedies.', 'Romantic', 'one-liners,', 'Desperate', \"year's\", 'spies', 'guard.', 'sunk', 'sentence', 'Honor', 'warriors', 'Anyhow,', 'Scarlett', 'Johansson', 'evil.', 'Evil,', 'equivalent', 'Spielberg', 'cop,', 'chases,', 'FX', 'herd', 'rubber', 'Rings', 'recognizing', 'pounding', 'choosing', 'Moreover,', 'scenarios', 'concentrates', 'blames', 'ability,', 'retaining', 'insight,', 'daytime', 'counted', 'oh,', 'horse,', 'naughty', 'unimaginative', 'skipped', 'frat', 'depressed', 'middle-aged', 'software', 'way),', 'humorous,', 'recognisable', 'Superman', 'Mighty', 'Terminator', 'supreme', 'wars', 'honest.', 'review,', 'department.', 'resounding', 'Lots', 'Lukas', 'Nazis', 'rooms', 'skull', 'rolls', 'dud', 'sucks', 'ambient', 'Heat', 'redeemed', 'healthy', 'gunfight', 'couple,', 'out)', 'shack', '\"no', 'truck', 'underwear', 'matters,', 'agree,', 'abysmal', 'random,', 'clips', 'Batman', 'Underground', 'snippets', 'no.', 'trite.', 'confusion.', 'focusing', 'movie-going', 'garnered', 'appropriately', 'unbalanced', '(well,', 'Paltrow', 'behaviour', 'alike', 'survivor', 'ranting', 'ludicrously', 'incongruous', 'ya', 'astounding', 'commitment', 'wig', 'Baldwin', 'Elliot', 'average,', 'loss', '80%', \"(who's\", 'sorry,', 'like.', 'Diego', 'Maradona', 'happiness,', 'underwater', 'cinematographic', 'explanation.', 'prequel', 'Cary', 'Grant', 'Betsy', 'Franchot', 'Tone', 'Dead,', 'direct-to-video', 'sequel,', 'comedian,', 'Cinematography', 'want.', 'acknowledged', 'unique.', 'Ohio', 'California', 'manufactured', 'had,', 'Martha', 'shown.', 'smoking', 'loop', 'illness', 'you)', 'incestuous', 'died,', 'Adams', 'Indeed', 'inadvertently', 'wandered', 'dear,', 'veritable', 'plots,', 'demonstrated', 'ridiculed', 'Masters', 'depictions', 'upon.', 'relieved', 'Set', '1930s,', 'goofs', 'Scarecrow', 'horrid', 'Lines', '\"Let\\'s', 'straight-to-video', 'download', 'posted', 'cut,', 'convention', 'convoluted', 'talking,', 'worthless.', 'Mermaid', 'little,', 'everything,', 'Melody', 'cues', 'laughed,', 'Morgana', 'inch', 'rebel', 'orchestral', 'ones,', 'orchestra', 'water.', 'thinking,', 'knows,', 'musicians', 'Row', 'Mind', 'leads,', 'trashy', 'L.', 'ace', 'jet', 'Madame', 'conservative', 'dominant', 'lights', '(look', 'Bishop', 'interact', 'enthusiastically', 'Jones,', '\"Wild', 'time!', 'Nice', 'Effects', '7,', 'context.', 'kissing', 'Im', 'homophobic', 'improvement', 'Anyway', 'frustrated', 'Emma.', 'Toni', 'Ewan', 'rotten', 'hideous', 'transforms', 'dates', 'distributed', 'identity,', 'psychology', 'accomplishes', 'phrases', 'possessing', 'willingly', 'oral', 'tunnel', 'centuries', 'no-one', 'more?', 'denouement', 'Good,', 'wasted,', 'films!', 'ninety', 'exposed', 'Cook,', 'Monica', 'Parker', 'Cute', 'turtle', 'spelling', 'appears,', '(all', 'backdrops', 'Crown', 'it`s', 'created.', 'It`s', 'option.', 'popular,', 'field', 'Abigail', '(Charles', 'Hartley', 'Pole', 'Florida.', 'Tunes', 'Age', '\"Oh,', 'manga', 'MAN,', 'etc.),', 'anime,', 'softcore', 'alarming', 'rammed', \"hero's\", 'prolonged', 'lend', 'heroes,', 'stunningly', '\"So', 'wedding.', 'disgruntled', 'farce.', 'executed,', 'lifeless', 'Parker,', 'Bell', 'vehicles', 'Warners', '\"Let', 'misadventures', 'Kennedy', 'glamour', \"Powell's\", 'manager,', 'Glenda', 'sarcastic', 'Mabel', 'Todd', 'Wind\"', 'delights', 'Benny', 'Goodman', 'gem,', 'enormously', 'ordeal', 'redemption', 'found.', 'prehistoric', 'horrible.', 'b-movie', 'occurred', 'tossing', 'necessary.', 'opponent', 'Vince', 'WWF', 'remaining', 'versus', '\"big', 'Snow', 'Battle', 'companies', 'event,', 'Angle', 'outcome,', 'demise', 'Lansbury', 'Tomlinson', 'gorgeous.', 'section,', '98', 'is:', 'Ashley', 'way?', 'not!', 'too!', 'disappointed!', 'Rick', 'Morris', 'quiet,', 'camp.', 'thirties', 'careers.', 'December', 'mystical', 'sound,', 'pumped', 'passionately', 'relating', 'high,', 'embarrassed', 'Odd', 'Parents', 'N', \"(It's\", 'Catholic', 'two-thirds', 'nasty,', 'digs', 'video,', 'dirty,', 'Church,', 'glimmer', 'education.', 'teachers', 'Truth', 'participants', \"must've\", 'Spy', 'Loved', 'Bach', 'Karen', 'Ringo', 'wanna', 'assignment', 'boyfriend,', \"where's\", 'gals', 'Keller', 'no!', \"company's\", \"she'd\", 'Trouble', 'slips', 'expressing', 'finishing', 'plate', 'sick,', 'carnage', 'weeping', 'premises', 'homework', 'pathetically', 'secretary', 'deaf', 'indicate', 'Paul,', 'seeing,', 'Francisco', 'verbal', 'anyway)', 'Plummer', 'obtained', 'Count', 'coffin', 'repulsive', 'lazy,', 'special,', '1985', 'begin.', 'producer,', 'dancer,', 'Cassie', 'upstairs', 'Major', 'ballet', 'jam', 'closeup', 'disguise', 'sung', 'candle', 'Johnston', 'gum', 'finale,', 'afraid.', 'Jameson', 'Yeah', 'cloth', 'amazed', 'awards.', 'Games', 'credibility.', 'Identity', 'addition,', 'subplot', 'occurrence', 'Needless', 'Louise', \"Adam's\", 'product,', 'Ryan,', 'generations', 'correct.', 'bargain', 'skips', 'noticeable', 'Mac', 'liking', '1970s.', 'mighty', 'robotic', 'ridiculousness', 'whiny', 'Paxton', 'Game', 'thief,', 'tastes.', 'cable.', 'Modine', 'Christy', \"get's\", 'Park.', 'ANY', 'back!', 'irritate', 'Nora', 'confront', 'terminal', 'reliable', 'coherent', 'worked,', 'Freudian', 'evidently', 'lapses', 'kitsch', 'observation', 'radically', 'contained', 'respective', 'narrative.', 'darkly', 'imply', 'persons', 'stripped', 'technique', 'depth,', 'undeveloped', 'applied', 'instrument', 'profession', 'marine', 'manic', 'elusive', 'Should', '\"Are', 'claiming', 'Ralph', 'Bakshi', \"Bakshi's\", 'seasoned', 'Compare', 'pitched', 'saga.', 'captivating.', 'ease.', 'beard', 'hat.', 'Perfect', 'Gandalf', 'human,', 'noted,', 'Kerr', 'riders', 'black.', 'Frodo', 'nightmarish', 'etc.)', 'distinctive', 'mix,', 'screw', 'Jackson,', 'failures', \"Tolkien's\", 'terrorized', 'anticipation.', 'menacing', 'note,', 'Fox,', 'screening', 'one-sided', 'translates', 'wronged', 'they,', 'Palestinian', 'system.', 'Israel', 'propaganda,', 'beggars', 'Low', 'roles,', 'Judi', 'Dench', '(well', 'obligatory', 'catholic', 'faith.', 'Therefore', 'contrived.', 'bump', 'werewolf', 'costume.', 'Resident', 'times.The', 'target', 'tell.', \"it'd\", 's', 'T&A', 'household', 'lesson.', 'advise', 'adapt', 'Maugham', 'tighter', 'filmic', 'Consequently,', \"1950's\", 'difficulties', 'Sheridan', 'S.', 'Kaufman', 'Shelly', 'Century', 'autobiographical', 'Blandings', 'Myrna', 'corners', 'apartment,', 'worm', 'construction', 'Douglas,', 'Connecticut', 'chops', 'worth.', 'designs', 'architect', 'dropped', 'planned', 'appointed', 'II,', 'armed', 'grip', 'executives', 'ax', 'jacket', 'attentions', 'forgetting', 'constructed', 'door,', 'window,', 'owning', 'Loy', 'red,', 'blue,', 'polite', 'thread', 'commercials', 'hinted', 'no-nonsense', 'crew.', 'sky.', 'Chamberlain', 'answer.', 'dimensions', 'confronts', 'tightly', 'Aboriginal', \"Chamberlain's\", 'worlds', 'register', 'revelation.', 'notion', 'resonance', 'wrapped', 'dust.', 'tribal', 'reservation', 'coastal', 'Gillian', 'attend', 'invites', 'speeding', 'auto', 'devastated', 'identities', 'discovered,', 'drafted', 'loosing', 'battle,', 'Roland', 'unit', 'battle.', 'morally', 'intend', 'extent.', 'ordinary,', 'faith,', 'tiresome.', 'awaits', 'regardless', 'Thus', 'Song', 'doubt.', 'place!', 'mail', 'ripe', 'tapped', 'Kornbluth', 'Jacob', 'monologue', 'innovative,', 'follow,', 'persuade', 'company,', '(which,', 'typed', 'Stiller', 'Book', 'straight,', 'here;', 'error', 'reasons:', 'convincing,', 'effectiveness', 'automatically', 'contributions', 'watchable,', 'one)', '1/10.', 'Spoilers', 'Lennon', 'tensions', 'camaraderie', 'Beatles', 'bitterness', 'Lorne', 'Michaels', 'teens,', 'grounds', \"Lennon's\", 'opportunity.', 'classics.', 'them...', 'enjoys', 'dancing.', 'G', 'excited,', 'Bye', 'retained', 'Dyke', 'swinging', '60s', 'Albert,', 'Phillips', 'faithfully', 'Obviously', '\"acting\"', 'Sally', 'drugged', 'slavery', 'he?', 'strips', 'atrocious', '\"comedy\"', 'Avoid.', 'darkened', 'scriptwriter', 'furry', 'vampires.', 'vampires,', 'lamest', 'score.', 'Sybil', 'attacking', 'behaving', 'sensible', 'monsters.', 'bullets,', 'zany', 'weapons.', 'Kari', 'shred', 'obviously,', 'Shepard', \"sister's\", \"day's\", 'airing', 'ABC', 'common.', 'comparing', 'Jack,', 'attending', 'banana', 'cleaner', 'designer', 'been,', 'work?', '(In', 'Noir', 'Grendel', 'writer,', 'tension.', '21', 'but...', 'way!', 'watched,', 'bubble', 'window', 'positions', 'utmost', 'splitting', 'hilarity', 'substitute', 'director)', 'sleeper', '(think', 'is!', 'lab', 'dragon', 'KNOW', 'CGI,', 'LOOK', 'Cain', 'failed.', 'sucked.', 'October', 'Gyllenhaal', 'escaping', 'afterward', \"he'll\", 'wonder.', 'Starship', '\"plot\"', 'IT!', '\"movie\"', 'incompetence', 'unseen', 'True,', 'on!', 'revisit', 'bias', 'announce', 'reprise', '(here', 'extended', 'crossing', 'filming,', 'monstrous', 'heroic', 'convincingly.', 'woods,', 'movements,', 'mythical', 'comic-book', 'temptation', 'sketch', 'paradise', 'Ranger', 'sterling', 'suspect,', 'characters)', 'unfinished', 'scripts', 'subplots', 'tripping', '(Jason', 'ceremony', 'Happy', 'Contrary', 'clunky', 'D.', 'passable', 'Television', 'hand-held', 'cameras,', 'Metal', 'stereotyped', 'etc...', 'injustice', 'situation,', 'committee', '(where', 'duty', 'worth,', 'bug', 'threats', 'tho', 'formulaic', 'worthwhile.', \"scene's\", 'shelf.', 'insane', 'difficult,', 'Hackman', 'Doyle', 'addict', 'skilled', 'blink', 'eye.', '\"so', 'sleazy,', 'Footlight', 'depression', 'reprises', 'CRY', 'stereotyping', 'insistence', 'strength.', 'Africans', \"book's\", 'ideals', 'absorb', 'Jewish', 'dismiss', '(particularly', 'visitor', 'Africa', '1977', 'blacks', 'novice', 'Machine', '\"it', 'mechanical', 'hosts', 'looking,', 'bugs', 'wary', 'unanswered', 'mark', 'oneself', 'messing', 'commercial,', 'corridors', 'Empire', 'tedious.', 'MUST', \"friend's\", 'topic', 'provokes', 'topic,', 'suggested', 'sale', 'signals', 'mom.', 'connecting', 'Spirit', 'courageous', 'American,', 'Spirited', 'Away', 'motivation,', 'asleep.', 'Bryan', 'Hans', 'narrator', 'often,', 'befriended', 'betray', 'resulting', 'off-screen', 'shoved', 'sprinkled', 'inconsistent', 'West,', 'termed', 'Originally', 'Vampires', 'team,', 'rookie', 'Pearl', 'Ironside', 'anytime', 'half.', 'huh?', 'nurse,', 'prop', 'Nurse', 'TWO', 'turd', 'shakes', 'dumped', 'engineered', 'remaking', 'Prom', '(hence', 'knife', 'suite', 'butchered', 'scarier', 'Creek', 'friendship.', 'Ash', \"Can't\", 'Wendigo', 'George,', 'snowy', 'hunters', 'deer', 'chase.', 'deranged', 'rifle', 'ominous', 'return.', 'pursued', 'thing?', 'hunting', 'howling', 'trees.', 'dread', 'creeps', 'silent,', 'powerful.', 'exists,', 'firemen', 'WTC', 'meanwhile', 'jumped', 'tower', 'collapses', 'madman', 'blasts', 'York.', '***1/2', 'basis.', 'lessons.', 'Pixar', 'ALWAYS', 'enjoy!', 'market.', 'homeless', 'immerse', 'standpoint,', 'settings.', 'newest', 'complications', 'mesmerizing', 'fades', \"Spielberg's\", 'recalled', 'twilight', 'ensuing', 'ambiguity', 'heights', '..', 'off?', 'Maybe,', 'reel', 'giggles', 'Fantasy', 'got.', 'faint', 'BTK', \"killer's\", 'disrespectful', 'awaken', 'Fiennes', 'drivel.', 'Russians', '3/4', '\"1\"', 'Vipul', 'frustratingly', 'Ajay', 'Devgan', 'cheering', \"London's\", 'agony', 'Shah', 'blast', 'salt', 'appetite', 'dinner.', 'mislead', 'hysterically', 'snaps', 'whips', 'Priya', 'merit', 'emotions,', 'lovable,', 'disappoints', 'Aditya', 'dim-witted', 'girl\"', 'actively', '\"not', 'Stone,', 'voices.', 'trash,', 'fanatic', 'Vaughn', '.The', 'holidays', 'Weisz', 'rivalry', 'Miranda', 'neurotic', 'dignity', 'intact', 'sincerity', 'nutshell,', 'Erik', 'overweight', 'rolling.', 'nephew', 'voice-overs', 'superfluous', 'opposite.', 'cuteness', 'Ring', 'crowds', 'Arab', 'revolt', 'Sherman', 'laughable,', 'spectacularly', 'Veteran', 'Brooklyn', 'salesman', 'considerably', 'Duncan', 'sometimes.', 'King.', 'proceedings,', 'blatantly', 'Brooks', 'Super', 'offensive,', 'smile.', 'combine', 'Easily', 'articulate', 'feeling.', 'pleasurable', 'Australia,', 'Whoever', '80s,', 'Amanda', 'Shirley', '1963', 'based,', 'adaption', 'articles', 'instead,', 'pretense', 'playboy', 'compulsive', 'recreate', 'heroine.', 'sacrificing', 'burnt', 'ground,', 'eleven', 'employs', 'utilize', 'bitterly', 'gathering', 'innate', 'swamp', 'burying', 'sins', 'end.The', 'yourself,', 'surfers', 'surf', 'temporary', 'surfing', 'many.', 'edited.', 'Amrita', 'backstory', 'grindhouse', 'budget.', 'intact.', 'Cannibal', 'flow.', 'vibe', 'closure', 'sh*t', 'lol.', \"i'll\", 'story!', 'deed', 'nice.', 'operation,', 'convenient', 'absent', 'purposes,', 'treating', 'hurry', 'something?', 'solves', 'kissed', 'JUST', 'criticizing', 'farce', 'Poison', 'Vampire', 'few,', 'periods', 'appallingly', 'comedy?', 'seminal', 'Playboy', 'jaws', 'Life', 'month.', 'unorthodox', 'Find', 'LIFE', \"Chaplin's\", 'Hickock', 'Clutter', 'Kansas', 'November', '1959', 'murdering', 'Truman', 'Capote', 'Blake', 'Corey', 'Treasure', 'refund', 'happening,', 'mom,', 'picky', 'things:', 'cake.', 'giggle', 'BAD.', 'finish.', 'holes,', 'clichéd,', 'SciFi', 'cheesiest', 'cliché.', 'presentation.', 'handful', 'foremost', 'originality.', 'ship,', 'conceal', 'ransom', 'dollars,', 'risky', 'Somehow', 'Dien', 'vice', 'corny.', 'amateur', 'starving', 'artist', 'Busby', 'Berkeley', 'fluffy', 'example:', 'El', 'guards', 'Caribbean', 'hat,', 'please!', 'folklore', 'dance.', 'class,', 'pronounce', 'announced', 'license', 'inventing', 'even,', 'countries.', '7.', 'posters', 'identical', 'airport', 'Airport', 'Please,', 'beginning.', 'kingdom', 'Crystal', '2001.', '1990s.', 'rock,', 'spectrum', 'Tomatoes', 'Bourne', 'Ultimatum', 'toes', 'throughly', 'survival', 'shaky', 'Greengrass', 'Stiles', '\"Mad', 'it´s', 'Frenchman', 'alternately', 'find,', \"neighbor's\", 'inducing', 'Eight', 'campers', 'Fine', 'anticipated', 'ample', 'sick.', 'MERK', 'neutral', 'target,', 'exclusively', 'inside.', 'Bernie', '(whose', 'Christina', 'mobile', 'Suit', 'win.', 'budgeted', 'weekend.', 'Wedding', 'escort', 'her.The', 'borrows', 'Friends', 'reverse', 'speeches', 'given,', 'salvage', 'puns', 'components', 'screws', 'B-', 'Stars', 'Archie', 'Englishman', 'posing', 'cons', 'cheeky', 'fooling', 'centre', 'there`s', 'Theodore', 'hectic', 'equals', 'D.W.', 'gloriously', 'B.', 'plotting', 'them;', 'noisy', 'cement', 'Sealed', 'Room\"', 'follow.', 'Griffith', 'Johnson,', 'Marion', 'redemption.', 'suburban', 'elegant,', 'Korea', 'throwaway', 'appealing.', 'Shin-ae', 'teacher.', '\"just', 'plainly', 'pieces.', 'acquaintance', 'embittered', 'stature', 'expresses', \"country's\", 'momentum', 'weaknesses', 'peculiar', 'Lincoln', 'Trust', 'Denzel', 'Creasy', 'trailers', 'frantic', 'choppy', 'unnatural', 'Carmen', 'Cristina', 'del', 'Dance', 'Real', 'Trelkovsky', 'suicide.', 'landlord', 'ridden', 'Stella', 'commit', '\"Le', 'gruesome', 'Isabelle', 'eight.Title', '(\"The', 'sensibilities', 'out-of-place', 'Lucky', 'grandson', '1939', 'warmth', 'management', 'Heavy', 'shelter', 'sharply', 'responses', 'panned', 'cockney', 'dazzling', 'influences', 'Ritchie', 'Doris', 'circumstances,', 'Claude', 'comically', 'co-stars', 'hairdo', 'Newman', 'Zack', 'Trey', 'sport', 'e', 'ball', 'streets,', 'recommendation', 'soccer', 'cup', 'filmed.', 'games.', '1986,', 'journalists', 'Across', 'skipping', 'babes', 'checked', '\"Where', 'Rodney', 'hordes', 'vulnerable', 'pole', 'catalyst', 'odd.', 'normal,', 'Ultimately', 'feet,', 'dorm', 'package.', 'Money', 'Pat', 'has,', 'timed', 'any.', 'excursion', 'villainess', 'admittedly', 'feeble', 'amateurish.', 'clumsy', 'lighting.', 'crude,', 'Supposedly', 'Rider', 'treasure,', 'assortment', 'monsters,', 'slasher,', 'pawn', 'defeated', 'nonetheless', 'mask,', '\"Seven', 'films:', 'like?', 'seems.', 'well;', '\"let\\'s', 'heart-warming', 'Halloween,', 'excited.', 'Boyle', 'Boyle,', 'creepiness', 'creeped', 'awake.', 'record,', 'forgettable,', 'collection,', 'me!', 'shops', 'mud', 'window.', 'could.', 'BUT,', 'viewer.', 'Journey', 'promised', 'charging', 'treacherous', 'wheels', 'bills', 'gear,', 'lest', 'legs', 'motor', 'models,', 'engine', 'Furious', 'franchise,', 'wings', 'financed', 'beauties', 'is)', 'shifting', 'woeful', 'Nadia', 'immersed', 'racing', 'gangsta', 'lecherous', 'same,', 'chopping', 'naming', 'Sun', 'countless', 'bevy', 'pimp', 'cash.', 'robber', '$1', 'paper,', 'Hammer', 'epic.', 'them!', 'beer', 'geared', 'population.', 'feminine', 'boys,', 'gay.', 'profanity,', 'imagery,', 'audience)', 'overwhelmed', 'mastery', 'doc', \"Carla's\", 'invisible.', 'desk', 'What?', 'contract', 'unfolds,', 'unrated', 'professionally', 'progresses', 'obstacles', 'world.The', 'heightened', '\"Best', 'Short', 'Arts', 'encounter', 'remarkable,', 'Zorro', 'birth', 'Mexico.', 'stirring', 'Hadley', 'Tyrone', 'accessible', 'clear.', 'Portuguese', 'exploiting', 'assert', 'oppressive', 'massacre', 'ball.', 'village,', 'clothes,', 'clothes.', 'contradictions', 'often.', 'scarce', 'daily', 'newspaper', 'continuously', 'largest', 'weekly', 'populate', 'balancing', 'Express', '(two', 'slit', 'personality.', 'DID', 'CBS', 'refreshing,', 'idealistic', 'habits', '1980s,', 'legend,', 'new,', 'resurrection', 'support,', 'authors', 'asset', 'unpopular', 'IMHO', 'Jackman', 'plagued', 'Blob', 'Wolverine', 'movies:', 'Revenge', 'Joker', 'appealed', 'saturated', 'drivel', 'Harvard', 'Jenny', \"O'Neal\", 'compelling.', 'Marley', 'decapitated', 'Milland', 'Segal', 'Gore', 'Obviously,', 'requiring', 'Russ', 'Summer', 'Valerie', 'Falk', 'access', 'guys\"', 'arrangements', 'Bad.', 'slew', 'Pidgeon', 'Id', 'credited', 'modicum', 'Note', 'author,', 'meager', 'players.', 'Collins', 'Jr', 'b', '\"Blue', 'loaded', 'magazine', 'pet', 'rocks,', 'instruments', 'signal', 'societal', 'pistol', '1/2', 'website,', 'Child\"', 'embarrassing.', 'woefully', 'NYC', 'inhabited', 'striving', 'token', 'Worse,', 'suspended', 'cynicism', 'hinges', 'complex.', 'projected', 'seduction', 'reconcile', 'It,', 'selected', 'Latino', 'park,', 'require', 'gone.', 'appeals', 'safety.', 'changed.', 'motives,', 'lust,', 'Christians', 'salvation', 'Him', 'forgiving', 'edges', 'movies.The', 'voodoo', 'brink', 'Throw', 'Virgin', 'unoriginal', 'theft', 'joking', 'glossy', 'winner,', 'departure', 'stepped', 'film-makers', 'ANOTHER', 'handling', 'Han', 'Solo', 'trading', 'Leia', 'distinguished', 'fault.', 'Jabba', 'elaborate', \"Lucas'\", 'endings', '\"Lord', 'movies!', 'Blunt', \"Victoria's\", 'vulnerability', 'way:', 'reign', 'Queen,', 'marrying', 'nine', 'Rupert', '(whom', 'it.But', 'gets.', 'Script', 'key,', 'notch.', 'Postman', 'addicted', 'uncredited', 'delicious', 'MAD', 'cliched', 'jealousy,', 'perennial', 'award-winning', 'Faye', 'Fernando', 'aforementioned', 'Lamas', '(Ben', 'Carrie', '(Kevin', 'way)', 'Downey', 'Rod', 'Florida', 'malicious', 'glasses', 'rental.', \"anyone's\", 'Excellent', 'annoys', 'alcohol', 'sin', 'move.', 'reaction.', 'Germany,', 'hybrid', 'Giallo', 'lady,', 'Mae', 'emerging', 'meek', 'butler,', 'dubbing,', 'lifted', 'concluding', 'here).', 'Directed', 'Anil', 'prefers', 'Sunny', 'daft', 'disgraceful', 'cos', 'Hunter', 'guy!', 'crocodile', 'Fulci', 'wimpy', 'Ancient', 'mutant', 'minions', 'bow', 'oppressed', 'blurred', 'mist', 'leaping', 'motion,', 'clad', 'mutants', 'outfit', 'dynamite', 'arrows', 'continent', 'loner', 'type,', 'hills', 'promises', 'soooo', 'hunted', 'randomly', 'meet,', 'unusual.', 'snakes', 'dreaming', 'faceless', 'wielding', 'laser', 'Muppet', 'dodgy', 'Kingdom', 'Armstrong', 'measures', 'Cromwell', 'sells', 'client', 'light,', 'here?', 'bags', 'mock', 'informative', 'creator', 'Dentist', 'Feinstone', 'clouds', 'IRS', 'Yuzna', 'Society', \"Carpenter's\", 'Corbin', 'Bernsen', 'mode.', 'reviewer,', 'enthralled', 'revered', 'plantation', 'bull', 'elephant', 'desperation', 'love?', 'coast', 'Taylor.', '(much', 'virtual', 'labor', 'residence', 'doorway', 'immune', 'allure', 'arrange', 'joyous', 'observing', 'assassin', 'fondness', 'bravura', 'scripted,', 'while.', 'exactly,', 'Barbra', 'center,', 'uncompromising', \"Streisand's\", 'interminable', 'Kristofferson', 'contribute', 'allegedly', 'come,', 'Esther', 'Norman', 'Howard,', 'rocker', 'seventies,', 'ruthless,', 'indifference', 'seems,', 'awkwardly', 'hysteria', 'chemistry,', 'presume', 'fading', 'innocence,', 'exploit', 'cold-blooded', 'absorbed', 'points:', 'indulge', 'backstage', 'stabbing', 'proceeded', 'remarkable.', 'reportedly', 'unintentional', 'Dialogue', 'enjoyment.', 'treatment.', 'Arquette', 'bout', 'E.', 'maintained', 'spin-off', 'Teenage', 'wasted.', 'court,', 'tasty', 'supplied', 'activity', 'fishing', 'Foch', 'Dame', 'Nintendo', 'suck.', 'meanings', 'laughing,', 'grossed', 'needlessly', 'assuming', 'stupidly', 'richer', 'hokey', 'watching,', 'Robertson', 'Jayne', 'Meadows', 'freedom,', \"'What\", 'actors/actresses', 'troubling', 'conflicted', 'inject', 'emotion,', 'longing', 'gains', 'lovers.', 'comment,', 'luminous', 'scenes.The', 'tops', 'Silly', \"O'\", 'Chrissy', 'borrow', 'risk', 'programme', 'in-depth', 'linked', 'Novak', 'witch', 'spell', 'detached', 'variety.', 'stink', 'close.', 'incest', 'cares?', 'vacuous', 'sufficient', 'jewels', '\"To', 'Catch', 'ear', 'worrying', 'sky', 'doom', 'unnecessary.', 'dramatic.', 'marvelously', 'Married', \"O'Neill\", 'spot.', 'limp', 'Has', 'spots,', 'out!', 'Dani', 'Cradle', 'lead.', 'static', 'porno', 'Rent', 'morbid', 'sappy', 'Bloodbath', 'time).', 'Sheets', 'positive,', 'untalented', 'frozen', 'mins.', \"its'\", 'deliberate', 'induce', 'depths', 'ship.', 'Sergio', 'limitations', 'borderline', 'gift,', 'journey,', 'fear.', 'drowns', 'Okay.', 'Vance', 'air.', 'Kent', 'Edmund', 'breezy', 'clinical', 'bosses', 'succession', 'others)', 'impossible.', 'projects', 'foremost,', 'Einstein,', 'Senator', 'McCarthy', 'impotent', 'prone', 'seeds', 'destruction.', 'principle', 'cults', 'pretentious.', \"boys'\", 'progresses,', 'interwoven', 'colorful,', 'settings', 'Orleans,', 'Paramount', 'DVD!', 'gripe', 'simplistic', 'namely', 'creatures,', 'begin,', 'meanwhile,', '\"new', 'idiots', 'computer,', 'qualified', 'lecture', 'appalling.', 'crop', 'computers', 'documentary,', 'conclusions', 'tobacco', 'induced', 'exhausted', 'philosophy', 'quotes.', 'structure.', 'monotonous', 'dreary', 'capitalism', 'conceived,', 'goals', 'venture', 'capitalist', 'believer', 'structure,', 'oil', 'systems', 'Social', 'travesty.', 'dispose', 'greed,', 'browsing', 'gut', 'healing', 'on.I', 'Busy', 'Christensen', 'Widmark,', 'Bacall,', 'Gloria', 'Lillian', 'psychiatric', 'miscasting', 'gangsters', 'Boyer', 'Levant', 'me?', 'Granted,', 'Zelah', 'Eyre', 'services', 'Adele', 'ward', 'Rochester.', 'passable,', 'policy', 'stinker.', 'shock.', 'normal.', 'invest', 'chip', \"dad's\", 'computer.', 'federal', 'Dom', 'Alexandra', 'jokes.', 'atrocities', 'mood.', 'score:', \"'I\", 'hooker', 'movie.This', \"Who's\", 'that;', 'reply', 'da', '6,', 'fever', '11th', 'subsequent', 'disappear', 'Broken', 'only.', 'see!', 'glorified', 'slam', 'punches', 'thespian', \"Washington's\", 'debacle', 'Miami', 'naval', 'Antwone', 'readers', 'galaxy', 'pathos', 'hail', 'bait', 'rent,', 'Evening', 'instance', 'comfortably', 'Harris.', 'silently', 'contemplate', 'fateful', \"Ann's\", 'ethereal', 'glow', 'there:', 'offspring', 'theatres', 'grab', 'trade', \"It'll\", 'half-way', 'errors', 'poor.', 'robot', 'gold.', 'olds', 'Lonely', 'Eleanor', '\"Last', 'result.', 'decline', 'shown,', 'botched', 'Complete', 'chuckles', 'fairness,', 'Years', 'blinded', 'actors)', 'Show,', 'MTV', 'Frankie', 'Jesse', 'Jodie', 'Frost', 'crap!', 'best!', 'best-selling', 'honour', \"author's\", 'personality,', 'Khouri', 'individual,', 'rewarded', 'disturbing,', 'spans', 'ruler', 'altogether', 'on...', 'drawn-out', 'garish', 'Mexico,', 'regain', 'Q&A', 'rejection', 'Stay', 'Tremors', 'fling', 'tomatoes', 'survivors', 'grin', 'morons', 'liked,', 'apart,', 'charisma,', 'Josie', 'Cheryl', 'scared,', 'overrated.', 'suck,', 'Job', 'cancelled', 'Few', 'ban', 'distress', 'unreal', 'English.', 'jarring', 'surrealism', 'delicate', 'slash', 'Rather,', '\"Dead', 'Me\"', 'Fuller', 'consequences', 'continuing', 'dramas.', '\"serious\"', 'Opening', 'fast.', 'Technically', 'technique,', 'attracts', '\"El', 'evolution', 'screen.The', 'landscape', 'versa.', 'Olivier', 'given.', 'Starting', 'intentions', 'pupils', '\"Man', 'Screaming', 'domain', 'Danish', 'tried,', 'cheers', 'heard,', 'late-night', 'slot', 'grainy', 'interested.', 'practice', 'bothering', 'dub', 'experiences,', 'Brennan', 'corn', 'Dumb', 'category.', 'humiliation', 'cigarette', 'bulb', 'flame', 'burning', 'forgiven', 'farcical', 'whichever', 'Cynthia', 'unfolding', 'belief,', 'ineptly', 'interestingly', 'protest', 'verdict', 'Alain', 'Delon', 'respect.', 'twisty', 'measured', 'purposely', 'edgy,', 'scheming', 'efficiently', 'Francois', 'Top', 'Bronson', 'me...', '\"There\\'s', 'conviction', 'might,', 'interest.', 'remembering', 'impression.', 'lightly', 'Cusack', 'parties,', 'strength,', 'nerdy', 'loose,', 'deleted', 'Square', 'Finney', 'pauses', 'sleep,', 'grieving', 'hating', 'flop.', 'corrupted', 'good;', 'snake', 'Temple', 'forgets', 'Bowie', 'recreation', 'Granger', 'taut', 'light-hearted', 'unjustly', 'disk', 'warehouse', 'in?', 'commend', 'outfits', 'Corleone', 'circumstances', 'dives', 'saga', 'tragedies', 'remorse', 'admitting', 'regrets', \"Michael's\", 'ongoing', 'protecting', 'abandoning', 'him:', 'installment', 'produced,', 'EVERY', 'creativity', 'deaths,', 'products', '***SPOILERS***', 'gripping', 'murdered,', 'Sondra', 'Spencer', 'rapists', 'leader,', 'paintings', '\"Go', 'spectacular.', 'Ronny', 'TOO', 'farmer', 'obliged', \"nation's\", 'Wind', 'yours', 'crisis,', 'matters', 'versatile', 'documentary.', 'playing,', 'Generally', 'competently', 'repeatedly', \"Goldsworthy's\", 'photographs', 'reading.', \"We're\", 'born,', 'die.', 'natural,', 'living,', 'published', 'submitted', 'editor', 'feat.', 'gaps', '1975', \"Matthau's\", 'monumental', 'Actor', 'Nicholson', 'OVER', 'Oscar-worthy', 'Walken,', 'Ethan', 'drifter', 'Clara', 'continuous', 'crummy', 'enemy.', 'God!', 'stupidity.', 'movie...', 'STILL', 'Corbett', 'boxing', 'Alexis', 'Nicole', 'portrayals', 'must.', 'Dwight', 'unemployed', 'northern', 'Among', 'Giants', 'old-fashioned', 'community,', 'working-class', 'aerial', 'summer,', 'crawling', 'tourists', 'situated', 'apparent.', 'middle-class', 'Man\"', 'prize', 'clip', 'organized', 'whatsoever,', 'her?', 'puerile', 'from?', 'ANYONE', 'cameraman', 'tape', 'producers,', 'worlds,', 'colonial', \"Thompson's\", 'fist', 'leap', 'roll.', 'undermined', 'unfaithful', 'time.I', 'LOST', 'Ireland', 'cannibalistic', 'mummy', 'homemade', 'belief.', 'pun', 'Finch', 'popular.', 'Cathy', 'bitchy', 'multitude', 'confronting', 'originality,', 'anger,', 'exchanges', 'player.', 'Horror,', 'eighties', 'splatter', 'greats', 'hyped', 'coming,', \"Branagh's\", 'scarcely', 'bloated', 'eighth', 'interpretations', 'wires', 'horrified', 'paraphrase', 'illustrious', 'educated', 'nonsense,', 'Tiger', 'entranced', 'addressed', 'flew', 'Buy', 'need,', 'upper-class', 'clichés.', 'Puri', 'bollywood', 'favourites', 'user', 'in!', 'Dale', 'timing.', 'Comes', 'Loves', 'budgets', 'plays.', 'exudes', 'fraction', 'smiles', 'cable,', 'scheduled', 'hooked.', 'anticipation', 'That,', 'Anderson.', 'stricken', 'plane.', '36', 'execute', 'governments', 'means.', 'Holes', '5th', 'busy', '9,', 'critics.', 'morale', 'starters,', 'forget.', 'anticipating', 'Shall', 'Surprisingly,', 'rigid', 'summarize', 'revealed,', 'haphazard', 'by,', 'started,', 'Vs.', 'jaw', 'dropping', 'blessing', 'sweat', '(along', 'childish,', 'Maurice', 'caricature', 'Mack', 'cards', 'Anita', 'mirrors', 'exceptional.', 'attendant', 'fabric', 'Charley', 'Chase', 'Wooden', 'die-hard', 'White,', 'Rosemary', 'historian', 'K', \"Baker's\", 'national', 'scenes:', 'legs,', 'hop', 'Ramon', 'hip-hop', 'curtain', 'Sheila', 'officially', 'cycle', 'incorrect', 'lesson,', 'Jessie', 'roaring', 'transforming', 'misogynistic', 'losers', 'nose.', 'nubile', 'breasts,', 'mall', 'writers,', 'feel.', 'Daisy', 'Pamela', 'stills', 'outrageously', 'outfit.', 'device,', 'agent.', 'IT.', 'tickets', 'Bros.', 'Twenty', 'HELL', 'likable.', 'Soon', 'mad,', 'American.', 'divine', 'Emmanuelle', 'des', 'eminently', 'watchable.', '\"love', 'publicly', 'Maureen', 'Florence', 'Eve', 'volatile', 'hostile', 'birthday,', 'fashion,', 'stand.', 'someone.', 'partying', 'therapy', 'Liotta', 'soul,', 'Revolver', 'giddy', 'shotgun', 'upsetting', 'O.', 'Sanders', 'jock', 'ape', 'played.', 'ignorance', 'Bonnie', \"Antonioni's\", 'Daria', 'Antonioni', 'surroundings.', 'profit', 'desert,', 'devastating', 'colourful', 'masterpieces,', 'edge.', 'Why,', 'up?', 'anxious', 'Color', 'Purple\"', 'voting', 'Scenes', 'repeat', 'infected', 'establishing', 'alas', 'dry,', 'boils', 'fix', 'great!', 'beautiful!', 'West.', 'tolerant', 'welcomed', 'movie..', 'phenomenon', '(sort', 'NC-17', 'glance', 'seeks', 'disturb', 'enduring', 'absurdist', 'watered', 'repetitive,', 'Olive', 'dangers', 'shorts.', '\"Little', 'thrills', 'Judging', 'better!', 'overblown', 'caricatures.', 'masterful', 'hid', '\"Midnight', 'Cowboy\"', 'persona.', 'package', 'nightclub', '26', 'small.', 'MADE', 'homosexuality', 'Oscar.', 'epitome', \"society's\", '\"this', 'Salt', 'flashing', 'resorting', 'mugging', 'Tobe', 'evocative', 'outer', 'bucket', 'LITTLE', 'Lombard', 'Coop', 'McQueen', 'planning', 'gang.', 'Bank', 'Four', 'horrible!', 'revolting', 'adapting', 'stalked', 'Hills', 'yarn', 'leg', 'tree', 'limbs', 'dusty', 'Brooks,', 'engrossed', 'gambler', '(James', 'premiere', 'Lola', 'maid', 'darkness.', 'Brothers,', 'Gus', 'Gena', 'fantasy,', 'inimitable', 'nonstop', 'erase', \"series'\", '1946', 'Giovanna', 'pretext', 'proposes', 'handy', 'Lana', 'Garfield', 'peripheral', 'Recommended.', 'Seriously', 'misfit', 'awake', 'twists.', 'legitimate', 'productive', 'stick.', \"Cage's\", 'treat.', 'characters;', 'Lorna', 'interludes', 'precursor', 'adopts', 'he/she', 'unconventional', 'keys', 'posh', 'wee', 'gown', 'numbers.', 'beach.', 'is.The', 'intelligently', 'rarity', 'Braveheart', 'preachy', 'storytelling.', 'anchor', 'honor.', 'climatic', 'Jews', 'dilapidated', 'Irene', 'sisters.', 'explodes', 'downward', 'condition,', 'enhances', 'solo', 'trumpet', 'Harp', 'Redford', 'restrained', 'BASEketball', 'Park,', 'appreciates', 'glasses,', 'absurd,', 'arch', 'fencing', 'desert.', 'peril', 'chaotic', 'compellingly', 'patriarch', 'Williams,', 'lizard', 'rousing', 'uttered', 'Plus,', 'west.', 'THREE', 'Robbie', 'McGovern', 'extends', 'issues,', 'universe,', 'mistakenly', 'nowhere.', '(mainly', 'drain', 'believability', 'criteria', 'viewing,', 'lately.', 'flirts', 'forms', 'Binoche', 'Marie.', 'People\"', 'Peggy', 'Haines', 'impression,', 'arrived', 'Chaplin,', 'Domergue', 'grisly', 'Carradine,', 'culminating', 'murders.', 'China,', 'idiocy', 'Donner', 'Lex', 'Luthor', 'criminal.', 'unremarkable', 'melts', 'sober', \"Dawson's\", 'Lois', 'rescues', 'flooding', 'arms.', 'universe.', 'weaknesses,', 'Holy', 'horse.', 'switches', '(Bill', \"mom's\", \"Wayne's\", 'shrink', 'duo.', 'trail', 'battling', 'Fun', 'ages.', 'blocks', 'Midnight', 'transported', 'Berenger', 'arena', 'ladder', 'Mercury', 'Boogeyman', 'worms', 'usual.', 'Guerrero', 'nail', 'Taker', 'Armageddon', 'busted', 'willingness', 'ring,', 'crowd,', 'Finlay', '\\x97', 'throat.', 'laced', 'Hey', 'Baby\"', 'shootout', 'obscurity', 'abstract', 'stylized', 'occasion', 'Pink', 'diamonds', 'cringing', 'ok', 'AT', 'oxygen', '2000,', 'monkey', 'luckily', 'Joe,', 'volunteer', 'disappearing', 'box,', 'enlists', 'Point\"', 'commenting', 'drugs,', 'Chevy', 'Dodge', 'declare', 'low-brow', 'Party', 'use.', 'Hey,', 'comprehend', \"1960's\", 'Burgess', 'Cannon', 'maximum', 'shove', 'ass,', 'anal', 'Pakistani', 'Lopez', 'dye', 'strands', 'Oriental', '\"How', 'R-rated', 'count.', 'tired.', 'Ustinov', 'UK,', 'Luc', 'mind-numbingly', 'Jagger', 'backing', 'vocals', 'fascinating,', 'delivers.', 'throwback', 'entertained,', 'Dyer', 'jack', 'films)', 'missing,', 'trying,', 'WWII.', 'Korda', 'teamed', 'Justin', 'cinematography.', 'uneven,', 'Berlin,', 'quantum', 'investigator', 'aimlessly', '(unless', '(while', 'narcissistic', 'beware', 'Englund', 'Hooper', 'wall.', 'peoples', 'Thin', \"Arthur's\", 'lips', 'Jed', 'en', 'gathered', 'Crime', 'caper', 'Gun', 'Case', 'Towards', 'awaited', \"Gordon's\", 'premiered', 'surpassed', 'murder.', \"victim's\", 'spiral', 'Wendt', 'chubby', 'good-hearted', 'Extremely', 'quickly,', '48', 'min', 'not?', 'Doo', 'tuning', '1988', 'recall,', 'celebration', 'Reeve', 'cracking', 'Bell,', 're', 'Wonder', 'Woman,', 'smashing', 'spot,', 'rare.', '1982', '1978', 'Batman,', 'WB', 'warnings', 'Jud', 'miserable', 'plague', 'cue', 'full-length', 'buckets', 'fetching', 'stealth', 'wander', 'attack,', 'lurking', '2/10.', 'transcends', 'endures', 'imagine.', 'changes.', 'puppy', 'puke', 'Performances', 'fleeting', 'vacation.', 'humdrum', 'deaths.', 'animated,', 'attachment', 'childhood,', 'addresses', 'Deliverance', 'rich,', 'Name', 'nominations', 'Women', 'mute', 'button', 'widescreen', 'thesis', 'Somebody', 'You\"', \"studio's\", 'composition', 'earliest', 'warfare', \"Lang's\", 'tenderness', 'Wagner', 'unfairly', 'ideology', 'babies', 'emotionally,', 'operatic', 'Project', 'Mother', 'exposes', 'plastered', 'stone', 'corruption,', 'scandal', 'craving', 'fame,', 'reputation,', 'shameful', 'signing', 'protagonist.', 'frenzy', 'intertwined', 'HAD', 'Lets', 'PEOPLE', 'playing.', 'agents,', 'hacking', 'Bauer', 'areas.', '\"In', 'Fire\"', 'anymore,', 'chemical', 'Brandon', 'slimy', 'vet', 'renegade', 'backwoods', 'boom', 'distribution', 'distribution.', 'bemused', 'marking', 'Zhang', 'Happened', 'theories', 'baffled', 'moon.', 'planet.', 'earth.', 'astronauts', 'earth,', 'NASA', 'satellite', 'fulfilled', \"Fulci's\", 'nudity.', 'teaching', 'plague.', 'recovered', 'disorder', 'Holly', 'traumatic', 'second.', 'god.', 'buff.', 'cliff', 'believed.', 'evidenced', 'masks', 'Cheap', 'Z', 'Rome', 'priests', 'Dominic', '(Mark', 'co-production', 'excruciatingly', 'thrilling,', 'action-packed', 'flock', 'birds', 'judging', 'sub-plots', 'shadows', 'doesnt', 'date,', 'dope', 'know!', 'trashed', 'stated,', 'meet.', 'mistakes,', 'goal.', 'intricacies', \"Walken's\", 'presentation,', 'notice,', 'approach.', 'turns.', 'few.', 'inaccurate', 'poop', 'yard', 'envy', 'important.', 'Masterson', 'antagonist', 'well.The', \"Davis'\", 'despair,', 'failure,', 'continually', 'wiped', \"Novak's\", 'attractive,', 'Connery', 'one.The', 'grandiose', 'lately', 'noise', 'trendy', 'H', 'boob', 'secret,', \"Eddie's\", 'uncontrollable', 'graduated', 'notch,', 'trouble.', 'Natural', 'Born', 'Killers', 'hopelessness', 'survive.', 'Powell,', 'turkey,', 'tripe', 'murders,', 'facts,', 'never,', 'direct,', 'bend', 'bio', 'inaccuracies', 'Norma', 'hiring', 'Shearer', '\"When', '\"Johnny', 'MGM,', 'MGM', 'Harlow', 'Izzard', 'growth', 'societies', 'issues.', 'Weak', 'middle,', 'Pegg', 'Shaun', 'Dead.', 'bash', 'sugar', 'vision,', \"'bad\", \"Tom's\", 'frenetic', 'cartoons.', 'timid', 'participate', 'film.It', '\"hero\"', 'detail.', 'male,', 'degrading', '****.', \"Capote's\", 'containing', 'found,', 'dollars.', 'run,', 'Vegas', 'heinous', 'bodies.', 'narrates', 'explicitly', 'Quincy', 'low-key', 'ABOUT', '\"We', 'me;', '1950', 'Tierney,', 'Sgt.', 'suspects.', 'Scalise', 'Paine', 'reunites', \"Dixon's\", 'Pure', '\"good', \"Chan's\", 'porn,', 'entertainer', 'hes', 'doubles', 'draft', 'exquisitely', 'understated,', 'pre-code', 'wants.', 'climb', 'inspector', 'payed', 'scenic', 'survive,', 'worries', 'one?', 'favours', 'pictures.', 'failings', 'co-written', '7.5/10', 'fable', 'stems', 'devilish', 'product.', 'feature-length', 'realistic.', 'recreated', 'living.', 'compliment', 'expression.', 'Crispin', \"Glover's\", 'exploits', 'Rights', 'uneducated', 'relish', 'sample', 'merit.', 'shaken', 'humiliating', 'bloody,', 'spray', 'render', 'spoofing', 'rhythm', 'adequately', 'unforgivable', 'constraints', 'end)', 'measure', 'Omar', 'mismatched', 'learnt', 'Ford.', 'ambiance', 'stilted,', 'again)', 'consequently', \"'cause\", 'natives', 'wrath', 'helicopter', 'cave', 'alligator', 'lap', 'Surprisingly', 'completely,', 'NEW', 'diabolical', 'say?', 'Robinson', 'books,', 'Thai', 'atmospheric,', 'Barton', 'words:', 'impoverished', 'construct', 'whimsical', 'yearning', 'Flight', 'Bollywood.', 'intellect', 'become.', 'protective', 'someone,', 'Akshaye', 'story)', 'neighbours', 'picturesque', \"90's.\", 'Butch', 'Hartman', 'coup', 'freak', 's***', 'break,', 'psyche', 'editors', 'Fidel', 'Castro', 'overthrow', 'Cuban', 'revolution.', 'tackled', '1966', 'forest.', 'Benicio', 'Toro', '(ie', 'succeed.', 'disparate', 'cause.', 'fails.', 'Fool', 'Fay', '(Jeff', 'fraud', 'turn,', 'artist,', 'unusual,', 'stagnant', '30s', 'Sutherland,', 'visiting', 'Allan', 'bets', 'Steele', 'royal', 'Emperor', 'Ava', 'Student', 'distaste', 'brown', 'Austrian', 'uncommon', 'undeniable', '\"What\\'s', \"'s\", 'Opera', 'werewolf,', 'Universal', 'nut', 'hideously', 'all.The', 'masturbation', 'hammered', 'Wow!', 'bust', 'slugs', 'Naturally,', 'invading', 'alternating', 'suggesting', 'drivers', 'event.', 'Cause', 'Cal', 'crazy,', 'stomach.', 'um,', 'scene)', 'Sho', 'staggering', 'Brain', \"Wouldn't\", 'Silverman', 'semi', 'mood,', 'collected', 'bitter,', 'Rock,', '\"Why', 'Rise', 'discussions', 'Mostly', 'origins', 'necessity', 'reflecting', 'Actress', 'heiress', 'whole.', 'Sirk', \"Sirk's\", ';', 'famous,', 'Bacall', 'unlikeable', 'impossibly', 'desire.', 'Technicolor', 'recommending', 'successes', 'Europe,', 'Japanese.', 'Washington,', 'Fanny', 'advancing', 'housing', 'Fitzgerald', 'rule,', 'bombing', 'treasured', 'ruling', 'late.', '2008', 'smitten', 'excerpts', 'me.I', 'Peet', '\"Whipped\"', 'manipulated', \"Eric's\", 'punching', 'married.', 'Princess', 'remarks', 'sympathetic.', 'fondly', 'lovely,', 'originated', 'squad', 'defense', 'indicating', 'mockery', 'sickness', 'idiots.', 'again?', 'Brilliant', 'attraction.', 'comments.', 'vividly', 'copy,', 'email', 'attain', 'Melting', 'Fat', 'cleared', 'Dude', 'Soldier', 'academy', 'scenes;', '\"we', 'mins', 'prom', 'stalker', 'brilliant!', 'dam', 'luck,', 'magazine.', 'golf', 'snap', 'Saffron', 'immediately.', 'atrocity', 'Straight', '(!)', 'fund', 'hey', \"Devil's\", 'Edie', 'Gardens', 'independence', 'researching', 'UFO', 'uneventful', 'Rea', 'paranoid', 'hefty', 'patient,', 'long-suffering', 'ragged', 'Connelly', 'infectious', 'finely', 'ensures', 'catchy', 'groovy', 'radiant', 'choppy,', 'evening.', 'promising.', 'foot,', 'uttering', 'cryptic', 'Hines', '(good', 'remakes', '180', 'gunshot', 'locations,', 'commendable', 'fragmented', 'distorted', 'sentences', 'Doug', 'interaction', 'words.', 'Government', 'terms,', 'sleepwalking', 'Lon', 'Private', 'disaster,', 'easy.', 'possibilities', 'risqué', 'scantily', 'recognise', 'cats', 'House\"', 'track.', 'Walt', 'story.The', 'FIRST', 'Lars', 'fast,', 'Lily', 'lift', 'visit.', '(her', 'romantic.', 'Kong,', 'torture,', 'humiliate', '(Danny', 'happenings', 'too.The', 'way.The', \"(I've\", 'saw,', 'harrowing', 'Triad', 'earns', '2/10', 'disgusting,', 'blackmail', 'foundation', 'evoked', 'wow,', 'outdated', 'provoke', 'upbeat', 'animation.', 'understand,', 'eyebrows', 'tow', 'truck,', 'oozes', 'Taking', 'Care', 'Hart', 'escapist', '\"House', 'titular', 'freakish', 'gleefully', 'balcony', 'satanic', '(only', 'occult', 'reincarnation', 'coincidence', 'die,', 'recommended,', 'theory,', 'se', 'boredom', 'surprises.', 'generous.', 'sing.', 'appreciated.', 'hamming', 'merry', 'judge,', 'professor,', 'feat', 'tribulations', 'T.V.', 'brain-dead', 'virus,', 'nothing,', 'monster,', 'tramp', 'day!', 'minutes!', 'Hung', 'floats', 'WILL', 'ability.', 'older,', 'Duchess', 'Leopold', 'supporters', 'traditionally', 'favour', 'government,', 'views,', 'lean', 'benefited', 'IV', 'Conroy', 'Act', '(Although', 'III,', 'ancestors', 'sun,', 'cramped', 'claustrophobic', 'Makes', 'moves.', 'stumbled', 'Allen,', 'historians', 'loathsome', 'illustrate', 'Tooth', 'roof', 'define', 'shelves', 'pressed', 'duped', 'jungle.', 'Stupid', 'kill.', 'smart.', 'traces', 'appropriate.', 'discussing', 'sappy,', 'demanded', 'Enough', 'sugary', 'Dahl', '(or,', 'actually.', '1990,', 'Royal', 'closet', 'compares', 'Loach', 'cult.', 'Arnie', 'dish', 'out:', 'Kattan', 'figure,', 'actresses.', 'fend', 'outlook', 'Lo', 'behold', 'Newton', 'focus,', 'purple', 'angle.', 'anywhere,', 'Wally', 'Soha', 'Abhay', 'Buster', '\"Three', 'cow', 'point:', 'rob', 'Therefore,', 'rack', 'camcorder', 'dignity.', 'harsh,', 'closes', 'virginity', '(sometimes', 'whine', 'Sonny', 'emptiness', 'debating', 'grey', 'Bridges', '(As', 'Lampoon', 'Vacation', 'so!', 'less)', 'converted', 'chunk', 'wondrous', 'yearn', 'ghetto', 'forth,', 'departments', 'intimidating', 'debut.', 'keen', 'Hand', '\"Look', 'terrifically', 'sweetly', 'Franklin', 'honors', 'attributes', 'decent.', 'butts', 'Debbie', 'bittersweet', 'endorse', 'peer', 'loved,', 'inflicted', 'remake,', 'attempt.', 'Parsifal', 'Starring', 'Edith', 'Yvonne', 'favored', \"Wagner's\", 'House.', 'redeems', 'mistress', 'Knights', 'tell,', 'curses', 'encouraged', 'Free', 'foolishly', 'empire', 'doubtless', 'aristocrat', 'graduate', 'domineering', 'gal', \"Ford's\", 'Dublin', 'patriotism', 'consisting', 'brute', 'Elia', 'Kazan', 'superior.', 'work!', 'Ira', 'Huh?', 'knife,', 'open.', 'rewrite', 'Vonnegut', \"Vonnegut's\", 'novels.', 'recruited', 'US.', 'ranked', 'nowadays.', 'lit,', 'lick', 'answering', 'stylistically', 'seat,', 'screamed', \"Elvis'\", 'Murphy,', 'danger,', 'pondering', 'monks', 'Martial', 'constructive', \"'60s\", 'reworking', 'bearable', 'filter', 'accomplishment', 'filmmakers.', 'hailed', 'Atlantis', 'magic,', 'Lion', 'enable', 'Carpenter', 'Father', 'priest,', 'damsel', 'World,', 'adults.', 'fare,', 'demons.', 'Bret', 'Carr', 'university', 'black,', 'end).', 'discusses', 'races', 'Fishburne', 'misplaced', 'Loretta', 'liquor', 'square', 'satire.', 'Britain,', 'foggy', 'bathtub', 'kidnappers', 'boat.', 'anyone?', 'cannibal', 'always)', 'gently', 'campaign', 'Cohen', 'measure.', 'biased,', 'machine,', 'locales', 'plausibility', 'crystal', 'depend', 'permanent', 'inhuman', 'corruption', 'crowd.', 'impersonating', 'state.', 'rockets', 'strengths', 'collage', 'weeks,', 'ten.', 'shootouts', 'mining', 'energetic', '1943', '\"King', '\"Batman', 'stuntman', 'tube', 'miscast.', 'Batman.', 'else!', 'costume,', 'drink,', 'support.', 'uninspired,', 'design.', 'exterior', 'sitcom,', '1997', 'Cape', 'grainy,', 'standard,', 'Kind', 'plot.The', 'artistry', 'figure.', 'spiritual', 'Clinton', 'control.', 'Modern', 'appealing,', 'complains', 'months.', 'Though,', 'hardships', 'obstacle', 'leader.', 'gymnast', 'ninjas', 'path,', 'behold,', 'Czech', 'boast', 'industry,', 'safely', 'mankind.', 'monkeys', 'Fisher,', 'Jerome', 'psychiatrist,', 'ludicrous.', 'Davis.', 'Clooney', \"Dante's\", 'III:', '\"Your', 'co-wrote', 'semblance', 'transitions', 'expert,', 'dual', 'Danning', 'S&M', 'yuppie', 'colleague', 'imposing', 'don', 'Soylent', 'breeding', 'wars,', 'billion', 'Normally', 'cringed', 'Mathieu', 'Cedric', 'fulfillment', 'unnecessary,', 'accusations', 'Stefan', 'comics,', 'recovering', 'coal', 'trial,', 'standout', 'Cooper,', 'angle,', 'WW', 'Life\"', 'Very,', 'mediocrity', 'concepts', 'Nearly', 'science.', 'well-written,', 'rivals', 'Zatoichi', 'misleading', 'Europeans', 'Woman\"', 'abused', 'OR', 'after.', 'confirms', 'moods', 'September', 'differently', 'towers', 'spectator', 'catastrophe', 'determine', 'assist', 'Paz', 'melt', 'supermarket', 'Simmons', 'all-star', 'Sentinel\"', 'model,', 'Alison', 'Heights', 'ably', 'Sarandon', 'lesbians', 'Sentinel', 'atop', 'whining', 'Charlie,', 'parallels', \"men's\", 'solidly', 'Liv', 'role),', 'NYC,', 'sang', 'guitar', 'Car', 'Honestly,', 'begun', 'privilege', 'Pavarotti', 'balloon', 'Gone', 'coming-of-age', 'leadership', 'landscape,', 'existential', 'to?', 'butt.', 'quintessential', 'torment', 'off!', 'happened?', 'Julie', 'Leaving', \"Valentine's\", 'close,', 'advice,', 'Pushing', 'Daisies', 'Burton,', 'Veronica', 'day-to-day', 'min.', 'Jurassic', 'printed', 'Gilbert', 'Soon,', 'warns', 'bury', 'burial', 'Gage', 'memory,', 'minister', 'house?', 'resurrect', 'began.', 'law,', 'Grieco', 'ugly.', 'Zealand', '(Brian', 'Joyce', 'state,', 'sparring', 'traits', 'I.Q.', 'how.', 'Kate,', 'Bat', 'drained', 'villagers', 'increasing', 'R.', 'Atwill', 'Wray', 'exploitative', 'enticing', 'T.', '1933', 'bland,', \"isn't,\", 'democratic', 'Hilary', 'searches', 'soft-core', 'haired', 'bumps', 'stunts,', \"Jackie's\", 'Interestingly,', '\"10', '\"Lost', 'Freeman,', 'passage', 'tissue', 'Lovely', 'millionaire', 'king.', 'Angela', 'Camp', 'alive,', 'lessons,', '\"Blood', 'abundance', 'butchering', 'filth', '\"Mr.', 'stalking', 'trusted', 'gags,', 'poisoned', 'knight', 'pride,', 'jewelry', 'archaeologist', 'figuring', 'giants', 'resurrected', 'fights.', 'so...', 'describe.', 'Jr.,', 'Connor', 'conflicting', 'shadows,', '\"An', 'accurate,', 'Earth.', 'movie!!!', 'singer.', 'magnificently', 'contention', \"Logan's\", 'fiction.', 'apologize', 'Thats', 'pits', 'vomit', 'says:', 'Shaw', 'Keira', 'definitive', 'self-serving', 'chronicles', 'Prime', 'plants', 'union', 'narrative,', 'overcoming', 'Recommended', 'complement', 'Rosenstrasse', 'Lena', 'guise', 'textile', '(Joan', 'rich.', 'Ernest', 'temperature', 'invention', 'delusional', 'Mraovich', 'straight.', 'Shrek', 'swallow', 'Knox', 'angles,', 'prayed', 'Beowulf', '2005', \"monster's\", 'vengeful', 'bravery', 'sport,', 'abroad', 'miraculous', 'devout', 'to:', 'Sergeant', 'ensues', 'jail.', 'creation,', 'Modesty', 'Blaise', 'credible.', '(when', 'stake', 'Blaine', 'visually,', 'Salvation', 'amaze', 'Abe', 'houses,', 'tuned', 'accompany', 'abducted', 'motorcycle', 'drumming', 'volumes', 'behaves', '(Which', 'purports', 'strikingly', 'Trade', 'tasteful', 'January', 'Men\"', 'appearances,', 'Mom', 'Renee', 'boyfriends', 'Maclean', 'religion,', 'illusion', 'preach', 'Drama', 'Egypt', 'Actors', 'Global', 'peaceful', 'Munchies', 'Ozzy', '(*1/2)', 'coke', 'usage', \"1980's\", 'sort.', 'deck', 'fuzzy', 'orange', 'time:', 'students,', 'virgin', \"couple's\", 'rapes', 'nasty.', 'Exorcist', 'Casa', 'Oddly,', 'argued', 'Sabu', 'distraction.', 'applause', \"Woody's\", 'thinking?', 'affluent', 'Flynn', 'declares', 'decoration', 'commentator', 'rooted', 'flavor', 'mystic', 'DNA', 'neither.', 'violent.', 'presented.', 'executing', 'policies', 'discarded', 'Named', 'rest,', 'grade.', 'Richards', 'Kramer', 'Getting', 'torch', 'clown', 'invented', 'service.', 'fade', 'Marine', 'Miller,', 'SWAT', 'sniper', 'pro', 'hit.', 'Okay', 'sliding', '(Steve', 'electronics', 'vintage', 'figures,', 'thankfully', 'low.', 'rapidly', 'approaching', 'arrogant,', '(Leslie', 'Beth', 'Guys', \"Freddy's\", 'sixth', 'sequels.', 'Krueger', 'sci-fi,', 'entirely.', 'impresses', 'stunning,', 'Boll', 'Reid', 'formal', 'sacrifice,', 'bourgeois', 'characters:', 'explained,', 'Barman', 'poker', 'shabby', 'internet,', 'UK.', 'bits,', 'greeted', 'sentimental,', 'torn', 'Titanic', 'ten,', 'plagues', 'rats', 'wallet', 'hesitation', 'Nolte', 'luscious', 'Night,', '\"White', 'Christmas\"', 'offend', 'fifty', 'retread', 'acquaintances', 'Americans.', 'like:', 'speak.', 'uninteresting,', 'reversed', 'it!!!', 'crimes.', 'soon,', 'Caesar', 'icon,', 'mate.', 'TRUE', 'commander', 'Afghanistan', 'trip,', 'German,', 'she,', 'reacting', 'Miklos', 'Pie', 'ignoring', 'Vincente', 'Minnelli', \"Singin'\", 'joining', 'painter', 'number,', '\"By', 'overshadowed', 'DeMille', 'increased', 'exciting.', \"'80s\", 'champion', 'suicidal', 'white.', 'that).', 'thoughtful,', 'chase,', 'overacting', 'tearing', 'heroin', 'Erika', 'life...', 'trait', \"doesn't,\", 'forced,', 'eagle', 'unavailable', 'favorite,', 'Lindy', 'journalism', 'magician', 'spoilers,', 'cave.', '\"action\"', 'hardened', 'wayward', 'pleasant.', 'obsessive', 'demise.', 'DE', \"Brooks'\", 'closeups', 'professionals', 'Scorsese', 'Ginger', 'Gershwin', 'insane.', 'Ella', 'Raines', 'scifi', 'confusion,', 'Emmy', 'indistinguishable', 'button.', 'Taken', '\"Dirty', 'compensated', 'telling.', 'relentless', 'exhilarating', 'Cybill', 'Shepherd', 'box-office', 'innuendo', 'comparison,', 'Spanish,', 'action/adventure', 'miniature', 'enjoyably', 'boarding', 'thing!', 'Emilio', 'Times\"', 'giallo', 'sisters,', 'murderer,', 'bats', 'references,', 'herrings', 'extras,', 'TV-movie', 'Katie', 'ambitions', '1998', 'Internet', 'marathon', 'moderately', 'prestigious', 'Clyde', 'optimistic', 'Chandler', 'Ace', '500', 'stylish,', 'moderate', 'compelling,', 'met,', 'savage', 'droll', 'clean,', 'directed.', 'we,', 'not)', 'screenwriters', 'trying.', 'peek', 'task,', 'rubbish,', 'Bond,', 'absurdly', '\"Final', '\"Mystery', 'celebrated', 'elegance', 'Caron', 'unpretentious', 'tap', ',and', 'swept', 'story...', 'concert,', 'extravagant', 'breakthrough', 'gathers', 'Place', 'defy', 'Warning', 'slim', 'Next,', 'Likewise,', 'Fleet', 'choices.', 'permanently', \"Couldn't\", 'phase', 'Season', 'creative,', 'scared.', 'imaginative,', 'commented,', 'Ahmad', 'Abu', 'Jefferson', 'shocked,', 'buttons', 'chills', 'skies', 'skills,', 'futile', 'Malcolm', 'unlucky', 'High\"', 'contacts', 'field,', 'lengths', 'gangsters,', 'mark,', \"1970's,\", 'marriages', 'Ungar', '(Walter', 'suicide,', 'carefree', 'happy-go-lucky', 'irresponsible', 'slob', 'Hoover', 'recipe', 'confesses', 'superlative', 'disfigured', 'resourceful', \"Bettie's\", 'me\"', 'out\"', 'naive,', 'status,', 'sports.', 'vows', 'Released', 'choreography,', 'reporter,', 'Public', 'creature,', 'Alberto', 'Martino', 'genetic', 'research.', 'BETTER', 'Errol', '\"But', 'mocking', 'lion', 'anxiety', 'laws', 'seducing', 'SHOW', 'kooky', 'screen!', 'evolve', 'stroke', 'comic,', 'beneath', 'longer,', 'Eddy', 'Jeanette', 'MacDonald', 'Run', 'chicken', 'disappointment!', 'Movie\"', 't.v.', \"O'Brien\", 'If,', 'brief,', 'researched', 'wheelchair', 'ham', 'floor,', 'wall,', 'smoking,', 'deformed', 'weird.', 'scenario,', 'stepfather', '(again,', 'thirds', 'rubbing', 'film...', 'if,', 'endurance', 'pinned', 'abiding', 'Day\"', 'rumors', 'convicts', \"Wells'\", 'between.', 'ineptitude', 'Martian', 'text,', 'filmmaker,', 'tooth', 'candy.', '1953', 'muscle', 'ahead,', 'You,', 'Nevertheless', 'melting', 'Sad', 'breath.', 'loves.', 'Eustache', 'tripe.', '\"must', 'Stooges', 'marriage,', 'photography.', 'chore', 'Ok,', 'silk', 'languages', 'stand-up', 'Dunne', 'Myrtle', 'avid', 'surprised,', 'Broadway.', 'Rowlands', 'improves', 'realism,', 'fart', 'Guinea', 'Pig', 'needle', 'afterwards,', 'spaces', 'Mastroianni', 'Sophia', 'Loren', '!!!', 'west', 'freshman', 'blocking', 'bold,', 'surprises,', 'doctor.', 'Trek\"', 'Spock', 'note:', 'WHERE', 'pound', '3D', 'done!', 'praying', 'besides,', 'artifacts', 'consumed', 'tea,', 'trees', 'Decent', 'information,', 'opportunity,', 'uncovers', 'Edison', 'Pollack', 'LL', 'McDermott', 'Plan', 'karate', 'geek', 'spouts', 'cliches', 'tacked', 'romances', 'trifle', 'channeling', 'edgy', '1932', 'member,', 'distraught', 'fled', 'shrill', 'unborn', 'Frankenstein', 'wanna-be', 'formidable', 'Azaria', 'gags.', 'comedy;', 'deal,', 'deceptively', 'awkwardness', 'emergence', 'Hum', 'college.', 'pub', 'civilians', 'fails,', \"1920's\", 'Hollow', 'hooks', 'Griffin', 'Hale', \"Gilligan's\", 'cum', 'deceptive', 'movie.It', 'practicing', 'Department', 'coolest', 'checks', 'compensate', 'ages,', 'norm', 'California,', 'customary', 'Eventually,', 'fractured', 'Fiction', 'Stardust', '90%', 'echo', 'cap', 'type.', 'storytelling,', 'perceive', 'age-old', 'backseat', 'cargo', 'speed,', 'vehicle.', 'stunts.', 'succeeded.', 'grinding', 'TCM', 'intro', '747', 'multi-million', 'missile', 'airline', 'immediate', 'bank.', '360', 'internet.', 'celluloid.', 'ANYTHING', 'Brit', 'squandered', 'Irwin', 'challenge.', \"Brown's\", 'flea', 'desired.', 'mole', 'Mayor', 'Hayworth,', 'everywhere,', 'poke', 'possession', 'Gail', 'barking', 'worship', 'passion.', 'reciting', 'wry', 'electricity', '(who,', 'add,', 'injected', 'greatness.', 'punctuated', 'freaked', 'Wicker', 'lured', 'Village', 'chef', 'Coppola', 'eroticism', '\"Of', 'feet.', 'loved.', 'embraced', 'deservedly', 'unfunny.', 'wreck.', 'values.', 'heroes.', 'boots', 'barn', 'why?', 'Scrooge', 'guardian', 'retrospect,', 'his,', 'oblivious', 'single-handedly', 'physics', 'revelations', 'mechanics', 'reasoning', 'theory.', 'disagree.', 'yeah.', 'argument.', 'dealers', 'Lanza', 'continual', 'Oshii', 'endured', 'digitally', 'echoes', 'Studio', 'primal', 'taboo', 'irritating.', 'Kentucky', 'Fried', 'franchise.', 'Harilal', 'preacher', 'really?', 'contract.', 'smarter', 'Brosnan,', '\"R\"', 'organ', 'gypsy', 'Evelyn', 'penultimate', 'secretary,', 'decision.', 'irresistible', 'affair,', 'bombastic', '70s.', 'wilderness', 'tea.', 'tech', 'pleasing', 'Wow', 'scene:', 'Psycho', 'naïve', 'Agnes', 'College', 'Michael,', 'view,', 'Venezuelan', 'Hugo', 'Venezuela', 'Chavez', 'Lommel', 'dug', 'Angeles,', 'furniture', 'LAPD', 'deeds', 'zombie,', 'glamor', 'zombies,', 'lauded', 'injects', 'doses', 'techno', 'auteur', 'tips', 'seasons,', 'worse!', 'weirdo', 'matrix', 'unheard', 'motif', 'getaway', 'colored', 'unrecognizable', 'especially,', 'destination', 'appreciating', 'included,', 'chalk', \"Pitt's\", 'on.The', 'impressively', 'uncle,', 'finished.', 'permission', 'notices', 'certainty', 'writings', 'vibrant,', 'patterns', 'runtime', 'spinal', 'whale', 'Glass', 'Barney', 'backbone', '8th', 'Tanya', 'paste', 'gifts', \"Lincoln's\", 'Chances', 'strives', 'chock', 'well).', 'distraction', 'gym', \"Hitchcock's\", 'expressionist', 'attached', 'sloppy,', 'hospital,', 'berserk', 'Coleman', 'bickering', 'stalwart', 'Carson', \"thing's\", '\"Death', 'autobiography', 'AIDS', 'Collette', '(yet', 'nun', 'Georgia', 'morning.', 'teeth,', 'sweetness', 'acting.The', 'overwrought', 'arbitrary', 'improvised', 'Depression', 'toned', 'woo', 'virginal', 'Gate', 'nonetheless.', 'boards', 'Sydney', 'trace', 'walk,', 'Huston', 'Fellini', 'Nope,', 'sarcasm', 'Tina', 'stereotypes,', 'midnight', 'visitors', \"Ted's\", '\"Young', 'Slater', \"THAT'S\", 'pulse', 'Castle', 'B-grade', '60s.', 'Hitchcock,', 'Waters', 'prominently', '\"Rosemary\\'s', 'Polanski', 'crowning', 'board,', 'butter', 'sweet.', 'qualities,', 'answer,', 'decrepit', 'Gellar', 'it.If', '1950s,', 'pets', 'Burton', 'PG-13', 'Somehow,', 'ghastly', 'Speed', 'Buffy', 'ghosts,', 'Takashi', 'discount', 'ridicule', 'Reality', 'Muslims', 'Serbs', 'prejudices', '(yes', 'bill', 'seventies.', 'cameos.', 'Denise', 'Zucker', 'Durante', 'contest,', 'Earp', 'that),', 'Winter', 'distance,', 'Millard', \"IT'S\", 'Panic', 'Streets', 'masterpieces', 'studio.', 'surprisingly,', 'ethics', 'protagonists.', 'Blackie', '\"Get', 'gaping', 'part:', 'centres', 'film),', '\"Do', 'professional,', 'progressive', 'confines', 'automatic', 'noirs', 'inhabit', 'Bud', 'kidnapping', 'transferred', 'imagine,', 'Hispanic', 'bloke', 'Blondell', 'insect', 'pilot.', 'chat', 'Saying', \"Wasn't\", 'Air', 'Pride', 'faces.', 'creatively', 'smile,', 'farce,', 'pool.', 'Guiness', 'Saving', 'Forest', 'between,', 'Fall', '(Jean', 'lifetime,', 'insert', 'Corman', 'bygone', 'Alright,', 'blasting', 'slang', 'expressive', 'Criterion', '7.5', 'Lee.', 'Lastly,', 'idiot,', 'Tia', 'emphasizes', 'casually', 'fight.', 'defeating', 'crushing', 'impossible,', 'compound', 'Joshua', 'stating', 'apparently,', 'distinguish', 'NONE', \"artist's\", 'morals', 'behind.', 'Suddenly', 'biting', 'Zombies', 'Scream', 'depression,', 'loneliness,', 'Whale', 'laid-back', 'performers,', 'dust', 'time?', 'prostitutes', 'Patsy', 'dedication', 'Suddenly,', 'status.', 'hampered', 'graphics', 'Marina', 'custody', 'imposed', 'bizarre.', 'Transylvania', 'would.', 'henchman', 'radiation', 'gripping.', 'inventive,', 'Eyre\"', 'faults.', '(too', 'Visconti', 'dared', \"Cain's\", 'recently.', 'creations', 'naturalistic', 'perverse', 'movies?', 'cube', 'Cambodian', 'Featuring', 'camera-work,', '\"Dog', 'crammed', 'soulless', 'toxic', 'memorably', 'premier', 'neglect', 'dependent', 'gusto', 'Mitch', 'Peters', 'Tashan', 'Raj', 'Vijay', 'Dhoom', 'Saif', 'field.', 'Thumbs', 'practical', 'Call', 'bloodthirsty', 'bores', 'Gram', 'Parsons', 'interviews,', 'clerk', 'dignified', 'calmly', 'Shakespeare,', 'Vanilla', 'hunger', 'surround', 'publish', 'Sofia', 'flirt', 'spying', 'shady', 'Sixth', 'Sense', 'Regardless', 'uneven.', 'shoe', 'Crowe', 'pass,', 'answers.', 'Items', 'Brody', 'fantasies.', 'faked', 'Snipes', 'allied', 'assassination', 'routinely', 'warrants', 'elite', 'exclusive', 'barrage', 'palace', 'media,', 'Curse', 'Pia', 'monologues', 'Marlene', 'Dietrich', '1938', 'Garden', 'breathtakingly', 'monastery', 'saint', 'eponymous', 'cleaning', 'trilogy.', 'hurts.', 'attends', 'you.\"', 'beings.', 'concept.', 'Bennett', 'Broadway,', 'cherished', 'inspiration.', 'Lynn', 'available.', 'pioneer', 'movement,', 'milestone', 'concerned,', 'Lincoln,', 'myths', 'Daddy', 'Seed', 'altogether.', 'socialist', 'machinations', 'bites', 'commonplace', 'alcoholism', \"Soderbergh's\", 'Stratton', 'SAME', 'mind-numbing', 'food.', 'conditions,', 'write,', 'deliver.', 'stretches', 'solved', 'forward,', 'dialogs,', 'immediately,', 'sync', 'surprise!', 'snappy', 'Ireland,', 'preferably', 'Luckily,', 'catalog', 'relax', 'Foxx', 'stepmother', 'Frontier', 'exceeds', 'rendered', 'rage,', 'Potter', 'blah.', 'wonderfully.', 'Bride', 'gratitude', 'operas', 'sailor', 'Sammy', 'pregnant,', 'Rosanna', 'Kinski', 'Pitch', ':D', 'Shakespeare.', \"Haven't\", 'profits', 'comedian.', 'Truly', 'Klaus', 'Yokai', 'festival,', 'resentment', 'chamber', 'robots,', \"Miike's\", 'rally', 'Miyazaki', 'aborted', 'opening,', 'linger', 'ventures', 'skillfully', 'Paris.', 'bright,', 'distributors', 'doors,', 'portraits', 'spontaneously', '\"Black', 'areas,', 'performers.', 'flare', 'away!', 'earning', 'Shanghai', 'long-lost', 'Harris,', 'Amos', 'litter', 'retarded.', 'patently', 'Palm', 'Sebastian', 'sharks', 'Marc', 'musician,', 'Zelda', 'schlock', 'unnamed', 'Scarlet', 'Vega', 'Beta', 'vent', 'accuses', 'twice,', 'science-fiction', '\"La', 'praising', 'Pitt,', 'clever.', 'stable', '(If', 'Rivers', 'McDowell', 'fists', 'unsavory', 'gentle,', 'Dane', 'criticism.', 'Della', 'shopping', 'smashed', 'dreck', 'Fairy', 'majestic', \"Cinderella's\", 'serene', 'FAR', 'revealed.', 'Celie', 'Oprah', \"Cusack's\", 'raving', '(and,', 'Gordon,', '(Matt', \"might've\", 'afterward.', 'Creature', 'Due', 'versions.', 'wonder,', 'Belle', 'Greenaway', 'Mardi', 'beads', 'Falling', 'solitary', 'blindly', 'Sci', 'soaked', 'Trying', 'sight,', 'Alex,', 'warming', 'circumstance', 'significance.', 'endearing,', 'intelligent.', 'target.', 'Widmark', 'atrocious,', 'position,', 'fail,', 'preparation', 'sights', 'James,', 'compositions', \"Garbo's\", 'exemplifies', 'filmmaking', \"MGM's\", 'Garbo', 'Divine', 'Sky\"', 'adaptation.', 'violin', 'image.', 'footsteps', '(Chris', 'descends', 'roll,', 'Buddy', 'subtle.', 'characters?', 'Iturbi', 'Katherine', 'wreck,', 'Milo', 'Remember,', 'undermine', 'sons,', 'quirks', 'Commander', 'Rourke', 'delivery.', 'section.', 'peppered', 'poetry', 'appease', 'END', 'tidy', 'Evil\"', 'aired,', 'intentions,', 'depravity', 'accuse', 'Cleveland', 'acting...', \"Olivier's\", 'would,', 'Silver', 'displaying', 'disasters', '150', 'grass', 'Othello', 'Venice', 'Desdemona', 'recommendation.', 'reunion,', 'Sabrina', 'Egan', 'deception', 'adored', 'dreaded', 'dog,', 'scratch', 'teenager,', 'decades.', 'article', '1920s', 'Chaney', 'Coast', 'Italy.', 'sympathetic,', 'Capt.', 'lifts', 'powerless', 'ground.', 'radioactive', 'brick', 'Passion', 'attempt,', 'types,', 'shapes', 'self-centered', 'riddled', 'meantime,', 'call,', 'delay', 'gates', 'her)', 'facility', 'correctly,', 'thirteen', 'Vic', 'jerk,', 'monstrosity', 'Boring,', 'essay', 'religions', 'CAN', 'helicopters', 'otherwise.', 'knows?', 'integrated', 'films).', '8,', 'performance)', 'neighbors,', 'truths', 'matching', 'Bing', 'Crosby', 'Rhonda', 'Fleming', 'handsome,', 'born.', 'consciousness', 'espionage', 'Experiment', 'smash', 'fake,', 'spun', 'sooo', 'Cecil', 'textbook', 'quotable', 'cookie', 'Criminal', 'Southern', 'inflict', 're-read', 'Reading', 'St', 'passed.', 'low-life', '1945', 'her!', 'eliminated', 'gripping,', 'pre-teen', 'grandmother,', 'Haley', 'Fi', 'waking', 'revolution,', 'Basinger', 'rampant', 'slaughtered', 'grumpy', 'Black,', '(literally)', 'Hopkins,', 'headache.', 'temporarily', 'Capra', 'muted', 'speech,', 'Timberlake', 'Son', 'awesomely', 'abundant', 'Blues', 'sand', 'Lewis,', 'Kristen', 'installment.', 'muscles', 'speak,', 'determination', 'weave', 'grandeur', 'rightful', 'Dev', 'youngsters', 'families,', 'freshness', 'longs', 'gesture', 'Ernie', 'Beginning', 'Military', 'steadily', 'infantile', 'reacts', 'insane,', 'criticisms', 'Incredibly', 'Guide', 'Zizek', 'Sophie', 'guides', 'Marx', \"Zizek's\", 'specialized', 'Reese', 'Harper', 'tape.', 'standpoint', 'stance', 'tenuous', 'practice.', 'Agatha', 'Came', 'favor.', 'Director,', 'Somerset', \"Maugham's\", 'forgotten,', 'splash', 'stack', 'is...', 'hams', 'Tel', \"Penn's\", 'Alejandro', 'phrase', 'cliffhanger', 'gangs', 'Nell', 'it),', 'hit,', \"Nancy's\", '\"And', 'slides', 'neck.', 'bucks.', 'superman', 'leaden', 'tradition.', 'witch.', '\"Hey', 'saying.', 'price.', 'generations.', 'ponder', 'winding', 'track,', \"don't,\", 'Timon', 'Pumbaa', 'Simba', 'Rock.', 'clan', 'Mickey', 'swear,', 'rabbit', 'Swanson', 'Cody', 'Gable', 'rogue', 'cyborgs', 'cyborg', 'routine.', 'arresting', 'fair.', 'along,', 'embodies', 'examined', 'Left', 'up!', \"Where's\", 'Crow', 'animators', 'batman', 'Rajpal', 'considers', '\"Friday', 'Godfather,', 'Doc', 'poem,', \"George's\", 'Thunderbirds', 'Reign', 'feast', 'Mummy', 'owed', 'Vivah', 'Sooraj', '#2', 'U', 'ratings,', 'listing', 'tedium', 'Page,', 'springs', 'timely', 'intended,', 'Lili', 'Box', 'program.', 'inserting', 'Christianity', 'anti', 'dried', 'aids', 'Euro', 'pond', 'weirdly', 'gladly', 'within.', 'outsider', 'pitfalls', 'whomever', 'tits', 'name)', 'nary', 'nicer', 'Shore', 'loosely)', 'drill', 'downbeat', 'blessed', 'low-grade', 'Number', 'Tom,', 'weapons,', '50%', 'rhyme', 'float', 'inherently', 'altering', 'bunch.', 'edits', 'Chainsaw', 'Massacre', 'discrimination', 'ladies.', 'whatever,', 'funds', 'behold.', 'fluff.', 'refuge', 'out?', 'Writing', 'dripping', 'Weird', 'entertain.', 'return,', 'decadent', 'goof', 'parody,', 'Benson', 'tempo', \"1940's\", '\"very', 'everybody.', 'uncertainty', 'skinned', 'Michel', 'LADY', 'Rohmer', 'horn', 'turbulent', 'gig', 'Cliff', 'activist', 'Invasion', 'zoom', 'Angie', 'Dickinson', 'dragons', 'witchcraft', 'favorites,', 'suggestive', 'gay,', 'effeminate', 'slightest.', 'cent', '\"he', 'dares', 'forgives', 'viewpoint', 'territory.', 'heal', 'experienced.', 'brat', 'path.', 'illness,', 'survival.', 'implications', 'Disney.', 'do)', 'tough,', 'Wodehouse', 'movie.There', 'Farrelly', 'intensely', 'crisis.', \"Burton's\", 'Presidential', 'tomato', 'Jigsaw', 'two-hour', 'Noam', 'Street,', 'USA.', 'Freddie', 'wasnt', 'mega', 'Jose', 'Dahmer', \"Rosemary's\", '95%', 'Clifford', 'Myra', 'Camera', 'giggling', 'scan', 'menu', \"audience's\", 'Calvin', 'Late', 'child-like', 'refreshing.', 'board.', 'some.', 'transvestite', 'Revolt', 'Meyer', 'sorta', 'branch', 'veers', 'male.', 'slaves', 'pin-up', 'Touch', 'Capshaw', 'conference', 'solving', 'scale,', 'zombie.', 'achievement.', 'hair.', 'strut', 'im', 'arms,', 'excrement', 'behavior,', 'element,', '\"all', 'dental', 'tragic,', 'sailing', 'withstand', 'prototype', 'discernible', 'pastiche', 'Hopper,', 'association', 'aunts', 'colour,', 'Kirsten', 'manners', 'aspire', \"50's.\", 'relaxed', 'Jacques', \"Anna's\", 'Brown.', 'censorship', 'deplorable', 'pigs', 'print.', 'Hagen', \"Griffith's\", 'Kriemhild', 'financially', 'buffs.', 'Escape', 'crash,', 'canoe', 'assaulted', 'bargained', 'programs', 'minutes.The', 'seen.The', 'mutated', 'cheesy.', 'recite', 'format,', 'Mormon', 'Dreyfuss', '(remember', 'verbally', 'Ebert', 'ex-boyfriend', 'Selma', 'packing', 'Cage,', 'Favorite', 'Shia', 'Running', 'Thankfully,', 'hear.', 'Carface', 'Je', 'doctors', 'wrenching', 'Kamal', 'Sitting', 'aspects,', '\"Hamlet\"', 'yadda', 'stir', 'MIDNIGHT', 'wood', 'effectively,', 'edge,', 'Achilles', '\"it\\'s', 'Billie', 'Biko', 'Cry', 'Oscar-nominated', 'Double', 'similar.', 'forever,', 'biographical', 'mounting', 'overtones', 'conversation.', 'frantically', 'bicycle', 'dogs,', 'object,', 'killings.', 'scarecrow', 'vengeance.', 'overlooking', 'albums', 'intensity.', 'breathtaking,', 'invitation', 'frog', 'deputy', 'predator', 'laying', 'Jonny', 'Townsend', 'lifetime.', 'Winston', 'PBS', 'dingo', 'Angry', 'freed', 'Meyers', 'concoction', 'drifting', 'running,', 'inside,', '(1)', '(2)', 'uniqueness', 'Bend', 'achieve.', 'roads', 'literally,', 'Fields', 'castle,', 'short:', 'Walken', 'bird', 'icing', 'front,', 'employer', 'raunchy', 'Crenna', 'Death\"', 'says.', 'nevertheless,', 'sophomore', 'dwelling', 'sentiments', 'Mrs', 'film-noir', 'Francisco,', 'genie', 'here!', 'pickpocket', 'the,', 'Vegas.', 'Cinderella,', 'smart,', 'him.The', 'winners', 'Abbott', 'Costello', 'data', 'occasions', 'count,', 'Vera', \"Stewart's\", 'Melvin', 'Chicago', 'Dillinger', 'Luther', 'liberties', 'Manoj', 'Mountain', 'mastermind', 'Tucker', 'spectacular,', '5.1', 'Screenplay', 'obnoxious,', 'denominator', 'Clark,', 'grocery', 'noses', 'regulars', 'Jackson.', 'dvd', 'confuse', 'Ally', 'Sheedy', 'Finding', 'melodramatic,', 'classic!', 'inmate', 'belonging', 'narration.', '(great', 'butcher', '\"Der', 'unnerving', 'Greene', 'range.', 'Leary', 'intrusive', 'alarm', 'Storm', 'perspectives', 'satisfying,', 'nemesis', 'grudge', 'Hall,', 'letdown', 'reason:', 'Hawke', 'OTHER', 'heartless', 'Arizona', 'chains', 'westerns,', 'emotionless', 'viewings.', 'spawned', 'mix.', \"Bruce's\", \"England's\", 'summer.', 'science,', 'liberated', 'Scotland,', 'texture', 'Pita', 'soup', 'Plenty', 'screening.', 'Beat', 'disguises', 'poking', 'peers', 'Notice', 'experts', 'Gypo', 'rebellion', 'Informer', 'bizarrely', 'armor', 'was...', 'alluring', \"nobody's\", 'most.', 'railroad', '(Mary', 'assorted', 'Darryl', 'du', 'wraps', '\"Scary', 'perilous', 'strained', 'magnetic', 'grips', 'repair', 'trade,', 'Furthermore', 'Streep,', 'miscast,', 'pregnancy', 'campus', 'Aunt', 'Shadow', 'wants,', 'opinion)', 'Heck', 'Horror\"', 'inheritance', 'Igor', 'Shop', 'Armand', 'Louque', 'archaeological', \"it.It's\", 'viewings', 'Madeline', 'high-school', 'Marie,', 'Allison', \"Dan's\", 'overdone.', 'supremely', 'Posey', 'applauded', 'fourteen', 'Chico', 'Samuel', \"O'Hara\", 'locale', 'latter.', 'abortion', 'emulate', 'cells', 'category,', 'Fallon', 'Near', 'sake,', 'refusing', 'meantime', 'farewell', '\"Evil', 'palpable', 'brighter', 'upon,', \"Stanwyck's\", 'apartments', 'reckon', 'charisma.', 'separates', 'names.', 'stimulating', 'inconsequential', 'e.g.', 'impromptu', 'Hence', 'precise', 'smacks', 'irony,', 'asks,', 'read.', 'Batwoman', 'Phantasm', 'Frankly,', 'Animated', '\"Bend', 'wedding,', 'joint', 'ponderous', 'disinterested', 'Scrooge,', 'brain,', 'Demon', '`A', 'Wu', 'Ma', 'Producer', 'Chow', 'visionary', 'prepares', 'screwing', 'VS.', 'rent.', 'participation', 'islands', 'advocate', 'anti-hero', 'non-existent,', 'VHS.', 'one...', 'meaty', 'Durbin', 'Amazon', 'Keystone', 'Lone', \"Kyle's\", 'messes', 'Matter', 'Paul.', 'Today', 'censors', 'Phoenix', 'badly,', 'Bhandarkar', 'sustained', 'condition.', 'needs.', 'Stanwyck,', 'seduces', 'Reiser', 'unspoken', 'May,', 'spirit,', 'Pertwee', 'Maddy', 'did!', 'Snowy', 'womanizing', 'than,', 'Lame', 'scenes?', 'lied', 'cover.', 'bad?', 'Corky', 'Omen', 'gossip', 'infidelity', 'Belgian', 'queen,', 'idyllic', 'Haunting', 'Valentine', 'Lulu', 'Conan', 'Candy:', 'subtitles,', 'wrong?', 'geisha', 'Nope.', 'lurks', 'Ha', \"Williams'\", 'laughed.', 'Kenny', 'carpet', 'literate', 'loathe', 'now)', 'bread', 'Clay', '(Frank', 'County', \"Kate's\", 'disappearance', 'study,', 'hilarious!', '1958', 'chronic', 'strain', 'incomparable', 'disbelief,', 'defended', 'hype.', 'Yes.', 'fail.', 'nonetheless,', '(check', '\"Cinderella\"', 'appeared.', 'well-made', 'Pasolini', 'tailored', 'truthful', 'Greatest', 'Bathsheba', 'ruthlessly', 'partition', 'fools', \"O'Sullivan\", 'comatose', 'weeks.', 'Flying', '\"Basic', 'again;', \"Miyazaki's\", 'archive', 'Future', 'Pazu', 'Sherlock', 'partnership', 'Slow', 're-watch', 'there)', 'formula,', 'cloud', 'innocence.', 'sterile', 'treasure.', 'chair.', 'reeks', \"Polanski's\", 'forties', 'delayed', 'frail', 'self-absorbed', 'disservice', 'preventing', 'Use', 'trailer.', 'Schumacher', 'Phantom', 'conquest', '\"that', 'Keeler', '\"Love', '\"Seed\"', 'incorporate', 'slashing', 'bashed', 'character?', 'lord', 'disillusioned', 'conquer', 'curse', 'drag.', 'more.The', 'Bigelow', 'coincidences', 'Nation', 'existent', '(those', '1979', '85', 'superimposed', \"Johnson's\", 'Wonderland', 'le', 'format.', 'layer', 'Carter,', 'sluggish', 'forwarding', 'elegantly', 'Elijah', 'cocaine', 'Hat', 'Hilliard', '1973', '700', 'Center', 'do!', 'Romy', '18,', 'occupation', 'gruff', 'lips.', 'Duck', 'Cruel', 'Intentions', 'avoid.', 'post-war', 'Welles,', 'Crouse', 'Ricky', 'Penny', 'Norwegian', '\"Welcome', 'agonizing', 'was!', 'Logan', 'strangled', 'Hostel', 'civilization,', 'Sniper', 'Enemy', 'overwhelmingly', 'superstar', 'Rain\"', 'Pokemon', 'yells', 'Midler', 'Lyle', 'Moore,', 'curious,', 'king,', 'wherein', 'downside', ';-)', 'organization', 'Shaq', 'photographer,', 'Werner', 'lawyer.', 'crumbling', 'goddess', 'Wanda', 'basis,', 'crash.', 'comprehensive', '-and', 'intestines', 'mutilated', 'series)', 'Body', 'color.', 'Neo', 'bodyguard', 'metaphors', 'logic,', 'States.', 'irritates', 'Manson', 'WANT', 'go!', '(besides', 'Children', 'Kelly.', 'tame.', 'amnesia', 'Sheeta', 'small-town', 'Heather', 'banality', '\"From', 'aims', 'Hayden', 'Anakin', 'Skywalker', 'showing,', 'good?', 'Rodriguez', 'protected', 'distracts', 'Cassel', 'up)', 'adulthood', '\"Saving', 'travelling', 'interviewing', 'BLACK', 'baffling', 'unscrupulous', 'STORY', 'programming', 'behaved', 'Curly', 'artists.', 'Higher', 'Baloo', 'Cassavetes', 'ostensibly', 'personalities,', 'heavy,', 'illustration', 'respite', 'evoking', 'Batman:', 'id', 'MJ', 'Iranian', 'Hanson', 'Gojoe', 'stakes', 'individuals,', 'surprising,', '1969', 'quarters', '\"new\"', 'collar', 'Caruso', 'soprano', \"1990's\", 'contributing', 'establishment', 'extend', 'USA,', 'restraint', 'my,', 'curiosity,', 'masculine', 'promotion', 'money!', 'short-lived', 'comparatively', 'tent', 'voices,', 'acts,', 'US,', 'john', 'idiot.', 'competitive', 'occasions.', 'Above', 'Meredith', 'respectively,', 'Gomez', 'funnier.', 'Weissmuller', '\"Tarzan', 'popcorn,', 'character:', 'beliefs,', 'rock.', 'Executive', 'teaming', \"1970's.\", 'Anna,', 'third,', '1989', 'virtues', 'thrillers,', 'Bel', 'realism.', 'Less', 'leak', 'Brashear', 'Officer', 'DeNiro', 'retire', '\"Santa', 'Riding', 'Saint', 'shop.', 'Renoir', '1934', 'Baron', 'youths', 'chewing', 'chocolate', 'expression,', 'burgeoning', 'genres,', 'slammed', 'Carlito', 'offense', 'straw', 'Tibetan', 'mention.', 'alliance', 'gate', 'bottom.', 'scream,', 'degenerate', 'Jim\"', 'Liza', 'Muppets', 'signature', 'extras.', '1935', 'indicates', 'escapes,', 'mid-life', 'opposite,', 'Cloris', 'Wallach', 'locations.', 'fairness', 'dangerous,', 'sock', 'BAFTA', 'Arthur,', 'Evans', 'Gielgud', \"Moore's\", 'Motion', 'unrelenting', 'Napoleon', 'exist,', 'task.', 'climate', 'acts.', 'whip', '(before', 'too).', 'Dyan', '(yeah,', 'commercials,', 'arrangement', 'Cusack,', 'Blank', 'denial', 'fiasco', 'Groove', 'Pokémon', 'difference.', 'forsaken', 'matured', 'adult.', \"Carlito's\", '2002,', 'passages', 'Om', 'Prison', 'Machine\"', 'boost', 'Culkin', 'Around', 'Sullavan', 'OTT', 'clothing,', 'Reagan', 'Tito', 'novels,', 'fares', 'praises', 'sea.', '(Alan', 'overcomes', 'element.', 'horses.', 'View', 'protracted', 'Penguin', 'croc', 'rugged', 'behaviors', 'Courtney', 'sexuality.', 'movie-', 'buy.', 'grain', 'sixty', 'teased', 'copying', 'castle.', 'legend.', 'chief,', 'sliced', 'brains.', 'horror/thriller', 'stages', 'that`s', 'B&W', 'tens', 'Hanzo', \"Freeman's\", 'janitor', \"Carrey's\", 'Bite', 'Wai', 'Chen', 'suffering.', 'Battlefield', 'rests', 'single,', 'ally', 'polar', 'abominable', 'Gen.', 'retrieve', 'conscience.', 'Enterprise', 'departed', 'Denis', 'bucks,', 'angers', 'DARK', \"Foster's\", 'Hagar', 'Ram', 'Gopal', 'Varma', 'Sholay', '\"THE', 'offensive.', 'Monkeys', 'poignant,', 'corporation', 'Tales', 'AVOID', 'explain.', 'inadequate', 'framing', 'reunited', 'stooges', 'seventh', 'evolves', 'wrecks', 'weigh', 'particular.', 'tattooed', 'you:', 'slapping', 'smells', 'Domino', 'of\"', 'here),', 'platoon', 'shudder', 'Maxwell', 'Guest', 'penis', 'Maya', 'removed.', 'slows', 'freaks', 'appreciative', \"Jim's\", 'risks', 'Fenton', 'proud.', 'Goebbels', 'astonished', 'em', 'heterosexual', 'her;', 'drunks', 'warped', 'Club\"', 'Delia', 'metaphysical', 'time),', 'depressing,', 'aliens,', 'hit-man', 'warning,', 'embarks', 'amazing!', 'wanted.', 'flawless,', 'celestial', \"Scorsese's\", 'Erroll', 'newspapers', 'utilizing', 'je', 'theirs', 'Ernst', 'settles', \"Rachel's\", 'tango', 'Rainer', 'Lung', '\"Stay', 'wide-eyed', 'mischievous', 'two-dimensional', 'filmmaking.', 'factor,', 'mermaid', 'hoot', 'Alamo', 'Raul', '(2003)', 'Stick', 'Grisby', 'faking', 'flaw.', 'off\"', 'Cohn', 'wrapping', 'bursting', 'prejudice', 'begins,', 'poisonous', 'Ms', 'admiring', 'invaded', 'Itchy', 'still.', '(oh,', 'bands,', 'prostitute.', 'now?', 'documentaries,', 'dip', 'investigates', 'Lumet,', 'loser,', 'tragic.', 'Norton', 'Mamet', 'Mantegna', 'JFK', 'senseless,', 'Granted', 'Aiello', 'Europa', \"Trier's\", 'rangers', 'anyways,', 'ghost,', 'on;', 'time\"', 'Galaxy', \"Brando's\", 'countryside,', 'Chad', 'beds', 'maniacal', 'awfulness', 'Suzanne', 'synchronized', 'Bring', 'obnoxious.', 'Costner', 'said:', 'parked', 'Fido', 'it.)', 'Olen', 'knights', \"anybody's\", 'conductor', 'outlet', 'goers', 'all.I', 'Grudge', 'librarian', 'eighties.', 'Demons', 'productions,', 'Foster,', 'Jedi', 'Vader', 'Light', 'Shortly', 'Federal', 'guilt,', 'Ecstasy', '>', 'Colbert', 'Flavia', 'of:', 'acquainted', 'Patty', 'grind', 'Barker', 'Night\"', 'Stewart)', 'singularly', 'unwanted', 'boredom,', 'differs', 'devised', 'fleet', 'dreadful,', 'watchers', 'Wrestlemania', 'Bubba', 'Bonham', 's**t', 'correctness', 'Helena', 'endeavor', 'personal,', 'Houston', 'BSG', 'scarecrows', 'Chance', 'delivered.', 'Rarely', 'Benet', 'Strikes', 'Yoda', 'Hamill', 'Ewoks', 'buzz', 'finer', '(looking', 'duties', 'fantastical', 'opted', 'parody.', 'Soul', 'trips', 'scenes!', 'one),', 'grounded', 'Pang', 'planes', 'Rooker', 'Hughes', 'unimpressive', 'Viewers', 'cost.', 'Easy', 'diet', 'honored', 'thinly', 'ok,', 'walking,', 'lined', 'barren', 'gruesome,', 'owing', '2000.', 'Step', '1994', 'planets', 'Creep', 'adulterous', 'hammerhead', 'Chiba', 'Stranger', 'bounce', 'Time.', 'Musical', 'Marsha', 'Mattei', 'Fairbanks,', 'Regardless,', 'Dakota', 'Fanning', 'errors,', 'emphasize', 'Magnificent', 'IMDb.', 'maiden', 'Hallam', 'Candy,', 'collector', \"girls'\", 'output', 'rerun', 'Protée', \"Cohen's\", 'teenagers,', 'stud', 'paycheck', 'clunker', '(later', 'charge.', 'Unknown', 'Staden', 'goofy,', '(other', 'laugh-out-loud', 'preposterous', 'ROCK', 'blob', 'losses', 'immigrants', 'proportion', 'asinine', 'tangled', 'makings', \"Young's\", 'dud.', 'separately', '#', 'Knightly', 'dominates', 'properly,', 'Famous', 'Sammi', 'Kiss', 'redemption,', 'counterpoint', 'ballroom', 'spill', 'anniversary', 'Switzerland', 'Culp', 'HIV', 'Scarface', 'Breaking', 'uniquely', 'enabled', \"Lily's\", 'flamboyant', 'percentage', 'arise', 'adultery,', 'intense.', 'surpass', 'shine.', 'Samurai', \"Henry's\", '1974', 'fairytale', 'Kolchak', 'Silvers', \"Bug's\", 'Beetle', 'Bogus', 'natured', 'Mormons', 'demonstrating', 'neon', \"Widmark's\", \"Fuller's\", 'analogy', 'assumption', 'Da', 'spins', '\"Planet', 'select', 'glossed', '\"Good', '\"Gone', 'Lucio', 'loose.', 'Biblical', 'army.', 'evening,', 'RED', 'poetry,', 'aside.', 'compromised', 'Bin', 'smack', 'amuse', 'snatched', 'José', 'Martians', 'budgetary', 'warned,', 'Jungle', 'dictator', 'Broderick', 'provoking,', 'digging', 'virtue', 'Series,', 'tomb', 'import', 'whodunit', 'ex-wife', '10!', 'contrasted', 'tropical', 'chilling.', 'Sassy', 'soldiers,', 'Tristan', 'prospect', 'subtleties', 'scratching', 'Gray', 'laboratory', 'ants', '(Dennis', 'massively', 'ring.', \"script's\", 'Lose', '1951', 'Phyllis', 'Sopranos', 'extract', 'Songs', 'Jar', 'adrenaline', 'Heaton', 'wilderness.', 'Heaven\"', 'lions', \"novel's\", 'afternoon.', 'drawn,', 'ineffective', 'clue.', 'alienated', 'Mouse', 'Extreme', 'orphanage', 'Gil', 'excesses', 'atypical', 'punched', '\"New', 'Currie', 'poured', \"Brosnan's\", 'happen?', 'jungle,', 'enables', 'diluted', 'sheriff.', 'assassins', 'overseas', 'permeates', 'Welch', 'Sinatra,', 'ploy', 'Comic', 'Jackass', 'prophetic', 'Mama', 'crass', 'Show.', 'Susannah', 'parole', 'Bonanza', 'Newcombe', 'renewed', 'Harlem', 'DA', 'Bryant', \"Flynn's\", 'creative.', 'Aviv', 'Ashraf', 'Lubitsch', 'shipped', 'salute', 'Bros', 'Enrico', 'Luise', 'MAY', 'incoherent,', 'Kei', \"Hartley's\", 'Universe', 'balance.', 'sufficiently', 'scholarship', 'McCoy', 'cards.', 'soldier.', 'Willard', 'exceptions', 'hillbilly', 'impact,', 'unabashed', '1980,', 'Kill\"', 'telephone', 'Dogs', 'even.', 'pure,', 'Tintin', 'horrid,', 'quips', 'Hanks,', 'geniuses', 'geeky', 'basket', 'Turkey', 'moral,', 'job!', 'brightest', 'Islam', 'thumb', 'swords', 'restoration', 'penalty', 'toddler', 'civilization.', 'bird,', 'railway', 'Serial', 'Train', 'Writer/director', 'Campbell,', 'spontaneous', 'Orwell', 'duds', 'heaven,', 'options', 'slowly.', 'RIPLEY', 'Fool,', 'Listen', 'Thomas,', 'service,', 'Singleton', 'Twelve', 'brainwashed', 'ghosts.', 'Manchu', 'bearded', 'Bava', 'Roberts,', 'Prem', 'Smart', 'firefighters', 'degradation', 'OH', 'seem,', 'Noah', 'Tennessee', 'older.', 'Strathairn', 'Spiderman', 'McBain', 'assisted', 'feisty', 'fisherman', 'hick', 'insufferable', 'pasted', 'additions', 'outraged', 'beers', '\"story\"', 'morgue', 'coroner', '(made', 'Spain.', 'hit-man,', 'urgency', 'Raoul', \"Panahi's\", 'duration.', 'peace,', 'ticked', 'startled', 'judgement', 'Vienna', 'center.', 'territory,', 'Bear', 'Stars,', 'Morton', \"Levin's\", '(complete', \"Anne's\", 'bells', 'IRA', 'MOVIE.', '(unlike', 'pizza', 'up\"', 'Swayze', 'FOX', 'excellence', 'hottie', 'Philadelphia', 'Teen', 'Garson', 'revived', 're-runs', 'dependable', 'goose', \"May's\", 'Aztec', 'tests', 'log', 'genuine,', 'Sunrise', '(save', 'scam', 'though:', \"Carter's\", \"Grant's\", 'corner.', 'phone.', 'Alienate', 'Dunst', 'dazzled', 'goons', 'typecast', 'Typical', 'spoils', 'Jim,', 'Cahill', 'murderer.', 'riches', '99', 'dishonest', 'Jaffar', 'feeds', 'cautionary', 'influence,', 'indicated', 'nicely.', 'Connolly', 'Hopalong', 'appeal,', 'Anchors', \"Sinatra's\", 'Lila', 'Francisco.', 'illness.', 'Gracie', 'Kusturica', 'armies', 'revolved', 'histrionics', 'WARS', 'pipes', 'Taxi', 'Spain,', '\"Doctor', 'debuted', 'Nacho', 'indicative', 'achingly', 'tournament', 'pristine', 'Cortez', 'scares.', 'bordering', 'grandparents', 'crusty', 'authenticity.', 'pretensions', 'Darkman', 'Jafar', 'Panahi', 'Stacy', 'retro', 'Corinne', 'upsets', 'Sonia', '2005,', 'eyeballs', 'EARTH', \"filmmaker's\", 'undermines', 'respects', 'flips', 'Offside', 'EVERYONE', '64', 'grace,', 'Mostel', 'rooms,', 'demographic', 'Serbian', 'station.', 'guinea', 'televised', 'Lin', 'beat.', 'point-of-view', '\"On', 'rewards', 'boorish', 'Holiday', 'Adams,', 'CBC', 'Yadav', 'Perkins', 'cousins', 'blonde,', 'Tarzan,', 'Independence', 'painful,', 'Ichi', 'Gadget', 'Kermit', 'incorporated', 'soon-to-be', 'AFI', 'Man\",', 'Bloody', 'mercenary', 'Grable', 'Epps', 'Trier', 'insomnia', 'bank,', '\"Down', 'Earth\"', 'atomic', 'Hou', 'tepid', 'Carlos', 'Grease', 'carrier', 'Crater', 'Enjoy!', 'missions', \"Shaw's\", 'Saura', 'Bears', 'classics,', '1930s.', 'gloss', 'Nostril', 'Picker', 'round.', 'Haim', \"Derek's\", 'account,', 'calibre', 'quick.', 'it..', 'Sarne', 'Olympia', 'Dukakis', 'voyage', 'way).', 'suspects,', 'scene).', 'Picture,', 'Hermann', 'Buttgereit', 'Laputa', 'Zenia', 'Gig', '3d', 'Fassbinder', 'Hallmark', 'poorer', 'Zombi', 'Pimlico', 'eighty', 'speeds', 'oscar', 'BEN', 'Trent', 'condensed', 'Janeane', 'hole.', 'Marky', 'don´t', 'Moby', 'us?', 'Dressler', 'Fabulous', 'lifestyle.', 'pokemon', 'Veronika', 'Challenger', 'again:', 'weed', 'wipes', 'Becky', 'Pinjar', 'corporations', 'Costume', \"Frankie's\", 'tortures', 'Projected', 'Bigfoot', 'poverty,', 'Gentlemen', 'gadgets', '\"Pet', 'Floriane', \"planet's\", 'kibbutz', '\"Moonstruck\"', 'Hackenstein', 'Doolittle', \"Bo's\", 'adv.', 'Basket:']\n"
     ]
    }
   ],
   "source": [
    "print(vocabulary.get_vocabulary())"
   ]
  },
  {
   "cell_type": "markdown",
   "metadata": {
    "id": "hvGNv-xDP-WV"
   },
   "source": [
    "**(1 point)** Fill the encoding and decoding functions. The encoding function takes a text as input and returns a list IDs corresponding to the index of each word in the vocabulary. The decoding function reverse the process, turning a list of IDs into a text. Make sure the encoding function returns a numpy array."
   ]
  },
  {
   "cell_type": "code",
   "execution_count": 195,
   "metadata": {
    "id": "6Mj4AMqYk6xt"
   },
   "outputs": [],
   "source": [
    "# Encoding and decoding function\n",
    "\n",
    "def encode_text(text: str) -> np.ndarray:\n",
    "    \"\"\"Encode text into a list of IDs corresponding to the index of each word in the vocabulary.\n",
    "    Args:\n",
    "        text: the input string.\n",
    "    Returns:\n",
    "        a list of IDs\n",
    "    \"\"\"\n",
    "    ids = []\n",
    "    for word in text.split(\" \"):\n",
    "      ids.append(vocabulary.get_index(word))\n",
    "    return np.array(ids)\n",
    "\n",
    "def decode_text(encoded_text: np.ndarray) -> str:\n",
    "    \"\"\"Decode the list of IDs corresponding to the index of each word in the vocabulary into a string.\n",
    "    Args:\n",
    "        encode_text: the list of IDs.\n",
    "    Returns:\n",
    "        a string \n",
    "    \"\"\"\n",
    "    txt = \"\"\n",
    "    for id in encoded_text:\n",
    "      txt += \" \" + vocabulary.get_word(id)\n",
    "    return txt\n"
   ]
  },
  {
   "cell_type": "markdown",
   "metadata": {
    "id": "WPUej2whwaXw"
   },
   "source": [
    "To make sure everything went well, we compare a text before and after encoding and then decoding it. You should see rare words / typos replaced by the `<UNK>` token."
   ]
  },
  {
   "cell_type": "code",
   "execution_count": 196,
   "metadata": {
    "colab": {
     "base_uri": "https://localhost:8080/",
     "height": 113,
     "referenced_widgets": [
      "f27d6d1a14fa45f18f7643d3e5e5e3d2",
      "df2f415d8269410981253a2fe63c0f11",
      "59ea0aabece445aeacc116e1fb16759c",
      "d1ef62aba4ae43f3862d5e84e804d637",
      "aec4ee222a174dd0ada9f5d7bcd16738",
      "c724b106a35f49a38875e712642c7a65",
      "072dc06efb484635804f7625fc69bd25",
      "c61091444f374d1e8dda1ed2a662cfb2",
      "f6b1a93ead844654a9e2ca8662992579",
      "49e518c3822d4275bcd8d670c626148a",
      "f1a60843d7474f66932da36483705618",
      "e9f7b722ea3648f9aace908b8d2e1158",
      "8d41bd3d057740a5aa923efe0b4682d2",
      "6acdf9e8c1814ce189386b31c07f73e4",
      "454148e2f185432d9a59d259713626e6",
      "61c68d2977184922960ddb6bc9990e2e",
      "a77f61189c92451c817333274080b401",
      "b3d53dd2557f45578d2938552f2f14e1",
      "a43131299488426097e2d8be070511be",
      "ed501ede8b5e4abaacade9b970f51cc1",
      "9746105fcb1542d8ab93c2e2b5f01672",
      "05d69cad8fff4c028cff3a715860f8bf",
      "102c99ca30e040f8911f292ba5458caf",
      "3bf45ba12921476ba668327eef8677c2",
      "d5fe3b83b8754c1d8fafec2969dabfc5",
      "dc85afaa496b4a2a8eac00ae0d8e0b31",
      "da7bffc049174a259f8a87fe12e8f368",
      "f2fc4d7bd6454f0f89646f61446f06fe",
      "c175290110d744e9bc727aaa1bdadf45",
      "350d8510937c44ae879c7ebea65759c1",
      "b8e46ec3a21e4246a6a625cc9d294c1d",
      "2a333bf6576d4e8fb405b12bc844affc",
      "fd6312f433ac4d2aa08c9f45e7fe4170"
     ]
    },
    "id": "wdq011plYUHG",
    "outputId": "4b9a4503-6267-49a5-9bde-8dc860fb318a"
   },
   "outputs": [
    {
     "data": {
      "application/vnd.jupyter.widget-view+json": {
       "model_id": "f27d6d1a14fa45f18f7643d3e5e5e3d2",
       "version_major": 2,
       "version_minor": 0
      },
      "text/plain": [
       "  0%|          | 0/20000 [00:00<?, ?ex/s]"
      ]
     },
     "metadata": {},
     "output_type": "display_data"
    },
    {
     "data": {
      "application/vnd.jupyter.widget-view+json": {
       "model_id": "e9f7b722ea3648f9aace908b8d2e1158",
       "version_major": 2,
       "version_minor": 0
      },
      "text/plain": [
       "  0%|          | 0/5000 [00:00<?, ?ex/s]"
      ]
     },
     "metadata": {},
     "output_type": "display_data"
    },
    {
     "data": {
      "application/vnd.jupyter.widget-view+json": {
       "model_id": "102c99ca30e040f8911f292ba5458caf",
       "version_major": 2,
       "version_minor": 0
      },
      "text/plain": [
       "  0%|          | 0/25000 [00:00<?, ?ex/s]"
      ]
     },
     "metadata": {},
     "output_type": "display_data"
    }
   ],
   "source": [
    "# Apply the encoding function to the entire dataset.\n",
    "encoded_dataset = clean_dataset.map(lambda x: {\"text\": encode_text(x[\"text\"]), \"label\": x[\"label\"]})"
   ]
  },
  {
   "cell_type": "code",
   "execution_count": 197,
   "metadata": {
    "colab": {
     "base_uri": "https://localhost:8080/"
    },
    "id": "RT8UQgeWliQz",
    "outputId": "ced17967-e9b4-4d39-dda5-97ffe2ac8d44"
   },
   "outputs": [
    {
     "data": {
      "text/plain": [
       "(\"This movie is entertaining enough due to an excellent performance by Virginia Madsen and the fact that Lindsey Haun is lovely. However the reason the movie is so predictable is that we've seen it all before. I've haven't read the book A Mother's Gift but I hope for Britney and Lynne Spears sake it is completely different than this movie. Unless you consider ending a movie with what is essentially a music video an original idea, the entire movie brings to mind the word plagiarized.\",\n",
       " \" This movie is entertaining enough due to an excellent performance by Virginia Madsen and the fact that Lindsey <UNK> is lovely. However the reason the movie is so predictable is that we've seen it all before. I've haven't read the book A <UNK> <UNK> but I hope for Britney and <UNK> Spears sake it is completely different than this movie. Unless you consider ending a movie with what is essentially a music video an original idea, the entire movie brings to mind the word <UNK>\")"
      ]
     },
     "execution_count": 197,
     "metadata": {},
     "output_type": "execute_result"
    }
   ],
   "source": [
    "clean_dataset[\"train\"][\"text\"][0], decode_text(encoded_dataset[\"train\"][\"text\"][0])"
   ]
  },
  {
   "cell_type": "markdown",
   "metadata": {
    "id": "FVadYQD2nw52"
   },
   "source": [
    "## Batch preparation **(1 point)**\n",
    "\n",
    "To speed up learning, and take advantage of the GPU architecture, we provide data to the model by batches. Since all line in the same batch need to have the same length, we pad lines to the maximum length of each batch."
   ]
  },
  {
   "cell_type": "code",
   "execution_count": 198,
   "metadata": {
    "id": "dWV2pzgqa1cD"
   },
   "outputs": [],
   "source": [
    "def data_generator(X: np.ndarray, y: np.ndarray, batch_size: int = 32, pad_right: bool = False) -> Tuple[np.ndarray, np.ndarray]:\n",
    "    \"\"\"Generate randomly ordered batches of data+labels.\n",
    "    Args:\n",
    "        X: the input data.\n",
    "        y: the corresponding labels.\n",
    "        batch_size: the size of each batch [32].\n",
    "        pad_right: if true, the padding is done on the right [False].\n",
    "    \"\"\"\n",
    "    \n",
    "    X, y = shuffle(X, y)\n",
    "    n_batches = int(np.ceil(len(y) / batch_size))\n",
    "    \n",
    "    for i in range(n_batches):\n",
    "        \n",
    "        end = min((i+1)*batch_size, len(y))\n",
    "        \n",
    "        X_batch = X[i*batch_size:end]\n",
    "        y_batch = y[i*batch_size:end]\n",
    "\n",
    "        # Padding to max ength size within the batch\n",
    "        max_len = np.max([len(x) for x in X_batch])\n",
    "        for j in range(len(X_batch)):\n",
    "            x = X_batch[j]\n",
    "            pad = [vocabulary.get_index(PAD_TOKEN)] * (max_len - len(x))\n",
    "            X_batch[j] = x+pad if pad_right else pad+x\n",
    "\n",
    "        X_batch = torch.from_numpy(np.array(X_batch)).long()\n",
    "        y_batch = torch.from_numpy(np.array(y_batch)).long()\n",
    "\n",
    "        # Yielding results, so every time the function is called, it starts again from here.\n",
    "        yield X_batch, y_batch"
   ]
  },
  {
   "cell_type": "markdown",
   "metadata": {
    "id": "qADLhZtAP-WX"
   },
   "source": [
    "Let's see what the batches look like."
   ]
  },
  {
   "cell_type": "code",
   "execution_count": 199,
   "metadata": {
    "colab": {
     "base_uri": "https://localhost:8080/"
    },
    "id": "d1-D1ueJb6IR",
    "outputId": "d6423413-586e-448f-8e55-7fff79f131ca"
   },
   "outputs": [
    {
     "name": "stdout",
     "output_type": "stream",
     "text": [
      "inputs tensor([[ 3165,  4966, 16302,  ...,   172,  1741,  1310],\n",
      "        [    0,     0,     0,  ..., 12777,     1,     1],\n",
      "        [    0,     0,     0,  ...,   197,     8,   667],\n",
      "        ...,\n",
      "        [    0,     0,     0,  ...,  1783,  4458,  2748],\n",
      "        [    0,     0,     0,  ...,    16,  1981,  4097],\n",
      "        [    0,     0,     0,  ...,   507,    16,  4474]]) shape: torch.Size([32, 1127])\n",
      "targets tensor([1, 0, 1, 1, 0, 1, 1, 1, 1, 0, 0, 0, 1, 1, 1, 0, 0, 0, 0, 1, 1, 0, 0, 0,\n",
      "        1, 0, 0, 0, 1, 1, 0, 1]) shape: torch.Size([32])\n"
     ]
    }
   ],
   "source": [
    "for inputs, targets in data_generator(encoded_dataset[\"train\"][\"text\"], encoded_dataset[\"train\"][\"label\"]):\n",
    "    print(\"inputs\", inputs, \"shape:\", inputs.shape)\n",
    "    print(\"targets\", targets, \"shape:\", targets.shape)\n",
    "    break"
   ]
  },
  {
   "cell_type": "markdown",
   "metadata": {
    "id": "H40w-dJlP-WY"
   },
   "source": [
    "**(1 point)** Question: On which side should we pad the data for our use case and why?"
   ]
  },
  {
   "cell_type": "markdown",
   "metadata": {
    "id": "t5uO-cAWodA0"
   },
   "source": [
    "## The model **(13 points)**\n",
    "\n",
    "We use a simple RNN with a configurable number of layers."
   ]
  },
  {
   "cell_type": "code",
   "execution_count": 200,
   "metadata": {
    "colab": {
     "base_uri": "https://localhost:8080/"
    },
    "id": "xel73Svtcgrf",
    "outputId": "699ebba4-ef6b-423f-c430-dbdba09daf11"
   },
   "outputs": [
    {
     "data": {
      "text/plain": [
       "device(type='cuda', index=0)"
      ]
     },
     "execution_count": 200,
     "metadata": {},
     "output_type": "execute_result"
    }
   ],
   "source": [
    "# Before starting, let's set up the device. A GPU if available, else the CPU.\n",
    "device = torch.device(\"cuda:0\" if torch.cuda.is_available() else \"cpu\")\n",
    "device"
   ]
  },
  {
   "cell_type": "code",
   "execution_count": 201,
   "metadata": {
    "id": "yiNVffK_cnxM"
   },
   "outputs": [],
   "source": [
    "class RNN(nn.Module):\n",
    "    \"\"\"A simple RNN module with word embeddings.\n",
    "    \"\"\"\n",
    "    def __init__(self, vocab_size: int, embed_size: int, hidden_size: int, n_layers: int, n_outputs: int) -> None:\n",
    "        \"\"\"\n",
    "        Args:\n",
    "            vocab_size: vocabulary size.\n",
    "            embed_size: embedding dimensions.\n",
    "            hidden_size: hidden layer size.\n",
    "            n_layers: the number of layers.\n",
    "            n_outputs: the number of output classes.\n",
    "        \"\"\"\n",
    "        super().__init__()\n",
    "        self.vocab_size = vocab_size\n",
    "        self.embed_size = embed_size\n",
    "        self.hidden_size = hidden_size\n",
    "        self.n_layers = n_layers\n",
    "        self.n_outputs = n_outputs\n",
    "\n",
    "\n",
    "        # The word embedding layer.\n",
    "        self.embed = nn.Embedding(self.vocab_size, self.embed_size)\n",
    "        # The RNN\n",
    "        self.rnn = nn.RNN(\n",
    "            input_size = self.embed_size,\n",
    "            hidden_size = self.hidden_size,\n",
    "            num_layers = self.n_layers,\n",
    "            batch_first = True, # Changes the order of dimension to put the batches first.\n",
    "        )\n",
    "        # A fully connected layer to project the RNN's output to only one output used for classification.\n",
    "        self.fc = nn.Linear(self.hidden_size, self.n_outputs)\n",
    "\n",
    "    def forward(self, X: torch.Tensor) -> torch.Tensor:\n",
    "        \"\"\"Function called when the model is called with data as input.\n",
    "        Args:\n",
    "            X: the input tensor of dimensions batch_size, sequence length, vocab size (actually just an int).\n",
    "        Returns:\n",
    "            The resulting tensor of dimension batch_size, sequence length, output dimensions.\n",
    "        \"\"\"\n",
    "        h0 = torch.zeros(self.n_layers, X.size(0), self.hidden_size).to(device)\n",
    "\n",
    "        out = self.embed(X)\n",
    "        # out contains the output layer of all words in the sequence.\n",
    "        # First dim is batch, second the word in the sequence, third is the vector itself.\n",
    "        # The second output value is the last vector of all intermediate layer.\n",
    "        # Only use it if you want to access the intermediate layer values of a\n",
    "        # multilayer model.\n",
    "        out, _ = self.rnn(out, h0)\n",
    "        # Getting the last value only.\n",
    "        out = out[:, -1, :]\n",
    "    \n",
    "        # Linear projection.\n",
    "        out = self.fc(out)\n",
    "\n",
    "        return out"
   ]
  },
  {
   "cell_type": "markdown",
   "metadata": {
    "id": "7GBHoO5pP-Wa"
   },
   "source": [
    "Note that we do not pass the output through a sigmoid function. This is because pyTorch implements some code optimization within the `BCEWithLogitsLoss` we'll see later."
   ]
  },
  {
   "cell_type": "code",
   "execution_count": 202,
   "metadata": {
    "id": "Zw-lzgfveXB3"
   },
   "outputs": [],
   "source": [
    "def train(\n",
    "    model: nn.Module,\n",
    "    criterion: Callable,\n",
    "    optimizier: torch.optim.Optimizer,\n",
    "    n_epochs: int,\n",
    "    train_gen: Callable,\n",
    "    valid_gen: Callable,\n",
    ") -> Tuple[List[float], List[float], nn.Module]:\n",
    "    \"\"\"Train a model using a batch gradient descent.\n",
    "    Args:\n",
    "        model: a class inheriting from nn.Module.\n",
    "        criterion: a loss criterion.\n",
    "        optimizer: an optimizer (e.g. Adam, RMSprop, ...).\n",
    "        n_epochs: the number of training epochs.\n",
    "        train_gen: a callable function returing a batch (data, labels).\n",
    "        valid_gen: a callable function returing a batch (data, labels).\n",
    "    \"\"\"\n",
    "    train_losses = np.zeros(n_epochs)\n",
    "    valid_losses = np.zeros(n_epochs)\n",
    "\n",
    "    for epoch in range(n_epochs):\n",
    "\n",
    "        t0 = datetime.now()\n",
    "        model.train()\n",
    "        train_loss = []\n",
    "\n",
    "        # Training loop.\n",
    "        for inputs, labels in train_gen():\n",
    "            # labels are of dimension (N,) we turn them into (N, 1).\n",
    "            labels = labels.view(-1, 1).float()\n",
    "            # Put them on the GPU.\n",
    "            inputs, labels = inputs.to(device), labels.to(device)\n",
    "\n",
    "            # Reset the gradient.\n",
    "            optimizer.zero_grad()\n",
    "\n",
    "            outputs = model(inputs)\n",
    "            loss = criterion(outputs, labels)\n",
    "            loss.backward()\n",
    "            optimizier.step()\n",
    "\n",
    "            train_loss.append(loss.item())  # .item() detach the value from GPU.\n",
    "\n",
    "        train_losses[epoch] = np.mean(train_loss)\n",
    "\n",
    "        model.eval()\n",
    "        valid_loss = []\n",
    "        # Evaluation loop.\n",
    "        for inputs, labels in valid_gen():\n",
    "            labels = labels.view(-1, 1).float()\n",
    "            inputs, labels = inputs.to(device), labels.to(device)\n",
    "\n",
    "            outputs = model(inputs)\n",
    "            loss = criterion(outputs, labels)\n",
    "\n",
    "            valid_loss.append(loss.item())\n",
    "\n",
    "        valid_losses[epoch] = np.mean(valid_loss)\n",
    "\n",
    "        print(f\"Epoch: {epoch}, training loss: {train_losses[epoch]}, validation loss: {valid_losses[epoch]}, in {datetime.now() - t0}\")\n",
    "\n",
    "    return train_losses, valid_losses, model"
   ]
  },
  {
   "cell_type": "markdown",
   "metadata": {
    "id": "KrXsX5xvP-Wa"
   },
   "source": [
    "We setup the model, criterion (a binary cross entropy), and the optimizer (Adam).\n",
    "\n",
    "Note that `BCEWithLogitsLoss` use a mathematical trick to incorporate the sigmoid function in its computation. This trick makes the learning process go slightly faster and is the reason why we didn't put a sigmoid in the forward function of the model."
   ]
  },
  {
   "cell_type": "code",
   "execution_count": 203,
   "metadata": {
    "id": "K7Mpe44Dd85Z"
   },
   "outputs": [],
   "source": [
    "model = RNN(len(vocabulary), 32, 64, 1, 1).to(device)\n",
    "criterion = nn.BCEWithLogitsLoss()\n",
    "optimizer = torch.optim.Adam(model.parameters())"
   ]
  },
  {
   "cell_type": "markdown",
   "metadata": {
    "id": "MDw_JWjtP-Wb"
   },
   "source": [
    "We get the 3 generators."
   ]
  },
  {
   "cell_type": "code",
   "execution_count": 204,
   "metadata": {
    "id": "srYPmX_aeLwD"
   },
   "outputs": [],
   "source": [
    "train_gen = lambda: data_generator(encoded_dataset[\"train\"][\"text\"], encoded_dataset[\"train\"][\"label\"])\n",
    "valid_gen = lambda: data_generator(encoded_dataset[\"validation\"][\"text\"], encoded_dataset[\"validation\"][\"label\"])\n",
    "test_gen = lambda: data_generator(encoded_dataset[\"test\"][\"text\"], encoded_dataset[\"test\"][\"label\"])"
   ]
  },
  {
   "cell_type": "markdown",
   "metadata": {
    "id": "o5OCApf5P-Wc"
   },
   "source": [
    "And train the model."
   ]
  },
  {
   "cell_type": "code",
   "execution_count": 205,
   "metadata": {
    "colab": {
     "base_uri": "https://localhost:8080/"
    },
    "id": "WB98HqD3fk1G",
    "outputId": "3127e3e0-5be4-449d-de1d-40d96f2fed5b"
   },
   "outputs": [
    {
     "name": "stdout",
     "output_type": "stream",
     "text": [
      "Epoch: 0, training loss: 0.687217041015625, validation loss: 0.6608994496855766, in 0:00:06.495407\n",
      "Epoch: 1, training loss: 0.6652483480453492, validation loss: 0.6413543467309065, in 0:00:06.445741\n",
      "Epoch: 2, training loss: 0.607886009311676, validation loss: 0.6498507633330716, in 0:00:06.604568\n",
      "Epoch: 3, training loss: 0.573475949716568, validation loss: 0.637269241794659, in 0:00:06.491489\n",
      "Epoch: 4, training loss: 0.5186391992092133, validation loss: 0.5877931989302301, in 0:00:06.527842\n",
      "Epoch: 5, training loss: 0.460703450345993, validation loss: 0.5478276302860041, in 0:00:06.445512\n",
      "Epoch: 6, training loss: 0.5699361689329148, validation loss: 0.6519819308238425, in 0:00:07.670304\n",
      "Epoch: 7, training loss: 0.5764981195449829, validation loss: 0.6382522877234562, in 0:00:06.593403\n",
      "Epoch: 8, training loss: 0.4752814365386963, validation loss: 0.5734937640891713, in 0:00:07.706285\n",
      "Epoch: 9, training loss: 0.4382744618654251, validation loss: 0.5727725495008906, in 0:00:06.526775\n",
      "Epoch: 10, training loss: 0.4353766877889633, validation loss: 0.5967609104077527, in 0:00:06.581370\n",
      "Epoch: 11, training loss: 0.3857453465461731, validation loss: 0.5900709129822482, in 0:00:06.635426\n",
      "Epoch: 12, training loss: 0.5944229679107667, validation loss: 0.6331187841618896, in 0:00:06.542563\n",
      "Epoch: 13, training loss: 0.5072481379508972, validation loss: 0.6962172297915076, in 0:00:06.497965\n",
      "Epoch: 14, training loss: 0.4787610689401627, validation loss: 0.6358793480381085, in 0:00:06.497361\n",
      "Epoch: 15, training loss: 0.37458323366642, validation loss: 0.6032718439011058, in 0:00:06.700615\n",
      "Epoch: 16, training loss: 0.3429303889632225, validation loss: 0.6378925098165585, in 0:00:06.512904\n",
      "Epoch: 17, training loss: 0.3211085326552391, validation loss: 0.6167607620643203, in 0:00:06.633381\n",
      "Epoch: 18, training loss: 0.32403953901529314, validation loss: 0.6447398992860394, in 0:00:06.691826\n",
      "Epoch: 19, training loss: 0.29333855694532396, validation loss: 0.6425271132949052, in 0:00:06.741496\n"
     ]
    }
   ],
   "source": [
    "train_losses, valid_losses, model = train(model, criterion, optimizer, 20, train_gen, valid_gen)"
   ]
  },
  {
   "cell_type": "markdown",
   "metadata": {
    "id": "yxPEQ61qP-Wc"
   },
   "source": [
    "We can look at the training and validation loss."
   ]
  },
  {
   "cell_type": "code",
   "execution_count": 206,
   "metadata": {
    "colab": {
     "base_uri": "https://localhost:8080/",
     "height": 282
    },
    "id": "VATw05GYfwNm",
    "outputId": "2d65e480-832e-4a0b-b3fc-a0cc6e314a90"
   },
   "outputs": [
    {
     "data": {
      "text/plain": [
       "<matplotlib.legend.Legend at 0x7f22ea788b50>"
      ]
     },
     "execution_count": 206,
     "metadata": {},
     "output_type": "execute_result"
    },
    {
     "data": {
      "image/png": "[encoded data removed]",
      "text/plain": [
       "<Figure size 432x288 with 1 Axes>"
      ]
     },
     "metadata": {
      "needs_background": "light"
     },
     "output_type": "display_data"
    }
   ],
   "source": [
    "plt.plot(train_losses, label=\"Training loss\")\n",
    "plt.plot(valid_losses, label=\"Validation loss\")\n",
    "plt.legend()"
   ]
  },
  {
   "cell_type": "markdown",
   "metadata": {
    "id": "FYRlo1XcP-Wd"
   },
   "source": [
    "For the assignment, code the following.\n",
    "* **(2 points)** The model validation loss should go down and then up. It means the model starts overfitting after a certain number of iterations. Modify the `train` function so it returns the model found with the best validation loss.\n",
    "* **(2 points)** Add an accuracy function and report the accuracy of the training and test set.\n",
    "* **(3 points)** Create an LSTM class which uses an LSTM instead of an RNN. Compare its results with the RNN.\n",
    "* **(2 point)** Implement a function which takes any text and return the model's prediction.\n",
    "    * The function should have a string as input and return a class (0 or 1) and its probability (score out of a [sigmoid](https://pytorch.org/docs/stable/generated/torch.sigmoid.html)).\n",
    "    * Don't forget to make the text go through the same pretreatment and encoding you used to train your model.\n",
    "* **(3 points)** Create a bidirectional LSTM (BiLSTM) class to classify your sentences. Report the accuracy on the training and test data.\n",
    "    * To combine the last output of both direction, you can concatenate, add, or max-pool them. Please document your choice.\n",
    "* **(1 point)** With your best classifier, look at two wrongly classified examples on the test set. Try explaining why the model was wrong.\n",
    "* **(Bonus)** Try finding better hyperparameters (dimensions, number of layers, ...). Document your experiments and results."
   ]
  },
  {
   "cell_type": "markdown",
   "metadata": {
    "id": "f64rR5mRn5sw"
   },
   "source": [
    "##Question 1: The model validation loss should go down and then up. It means the model starts overfitting after a certain number of iterations. Modify the train function so it returns the model found with the best validation loss."
   ]
  },
  {
   "cell_type": "code",
   "execution_count": 207,
   "metadata": {
    "id": "0fgKubbroC-q"
   },
   "outputs": [],
   "source": [
    "\n",
    "import copy\n",
    "def train(\n",
    "    model: nn.Module,\n",
    "    criterion: Callable,\n",
    "    optimizier: torch.optim.Optimizer,\n",
    "    n_epochs: int,\n",
    "    train_gen: Callable,\n",
    "    valid_gen: Callable,\n",
    ") -> Tuple[List[float], List[float], nn.Module]:\n",
    "    \"\"\"Train a model using a batch gradient descent.\n",
    "    Args:\n",
    "        model: a class inheriting from nn.Module.\n",
    "        criterion: a loss criterion.\n",
    "        optimizer: an optimizer (e.g. Adam, RMSprop, ...).\n",
    "        n_epochs: the number of training epochs.\n",
    "        train_gen: a callable function returing a batch (data, labels).\n",
    "        valid_gen: a callable function returing a batch (data, labels).\n",
    "    \"\"\"\n",
    "    train_losses = np.zeros(n_epochs)\n",
    "    valid_losses = np.zeros(n_epochs)\n",
    "    best_valid_loss = float(\"inf\")\n",
    "    best_model = None\n",
    "    for epoch in range(n_epochs):\n",
    "        t0 = datetime.now()\n",
    "        model.train()\n",
    "        train_loss = []\n",
    "        # Training loop.\n",
    "        for inputs, labels in train_gen():\n",
    "            # labels are of dimension (N,) we turn them into (N, 1).\n",
    "            labels = labels.view(-1, 1).float()\n",
    "            # Put them on the GPU.\n",
    "            inputs, labels = inputs.to(device), labels.to(device)\n",
    "\n",
    "            # Reset the gradient.\n",
    "            optimizer.zero_grad()\n",
    "\n",
    "            outputs = model(inputs)\n",
    "            loss = criterion(outputs, labels)\n",
    "            loss.backward()\n",
    "            optimizier.step()\n",
    "\n",
    "            train_loss.append(loss.item())  # .item() detach the value from GPU.\n",
    "        train_losses[epoch] = np.mean(train_loss)\n",
    "        model.eval()\n",
    "        valid_loss = []\n",
    "        # Evaluation loop.\n",
    "        for inputs, labels in valid_gen():\n",
    "            labels = labels.view(-1, 1).float()\n",
    "            inputs, labels = inputs.to(device), labels.to(device)\n",
    "            outputs = model(inputs)\n",
    "            loss = criterion(outputs, labels)\n",
    "            valid_loss.append(loss.item())\n",
    "            \n",
    "        valid_losses[epoch] = np.mean(valid_loss)\n",
    "        print(f\"Epoch: {epoch}, training loss: {train_losses[epoch]}, validation loss: {valid_losses[epoch]}, in {datetime.now() - t0}\")\n",
    "        if valid_losses[epoch] < best_valid_loss:\n",
    "          best_model = copy.deepcopy(model)\n",
    "          print(f\"Model with the best validation loss: {valid_losses[epoch]}\")\n",
    "          best_valid_loss = valid_losses[epoch]\n",
    "    return train_losses, valid_losses, best_model"
   ]
  },
  {
   "cell_type": "markdown",
   "metadata": {
    "id": "TmgBHmxaoV9k"
   },
   "source": [
    "Best_model is the RNN model that has the best validation loss"
   ]
  },
  {
   "cell_type": "code",
   "execution_count": 208,
   "metadata": {
    "colab": {
     "base_uri": "https://localhost:8080/"
    },
    "id": "pKunVHQHoTaL",
    "outputId": "cddb4e84-551c-40d9-c77b-6adedd930382"
   },
   "outputs": [
    {
     "name": "stdout",
     "output_type": "stream",
     "text": [
      "Epoch: 0, training loss: 0.3086613118827343, validation loss: 0.7044133012461814, in 0:00:06.587259\n",
      "Model with the best validation loss: 0.7044133012461814\n",
      "Epoch: 1, training loss: 0.3053936049580574, validation loss: 0.6634190289457892, in 0:00:06.467683\n",
      "Model with the best validation loss: 0.6634190289457892\n",
      "Epoch: 2, training loss: 0.25882865795493126, validation loss: 0.6935179415781787, in 0:00:06.433407\n",
      "Epoch: 3, training loss: 0.22410461333692075, validation loss: 0.7229005155290008, in 0:00:06.573438\n",
      "Epoch: 4, training loss: 0.196895596152544, validation loss: 0.72853021893152, in 0:00:06.434042\n",
      "Epoch: 5, training loss: 0.23794592168927192, validation loss: 0.7526300181249145, in 0:00:06.460641\n",
      "Epoch: 6, training loss: 0.17776578071117402, validation loss: 0.7579449324091528, in 0:00:06.427753\n",
      "Epoch: 7, training loss: 0.15664181673228741, validation loss: 0.7742554374561188, in 0:00:06.656672\n",
      "Epoch: 8, training loss: 0.1473294738382101, validation loss: 0.8308582317297626, in 0:00:06.505209\n",
      "Epoch: 9, training loss: 0.14873370417058468, validation loss: 0.8857602072749168, in 0:00:06.611738\n",
      "Epoch: 10, training loss: 0.16393107152283193, validation loss: 0.8749326435244007, in 0:00:06.495430\n",
      "Epoch: 11, training loss: 0.12994500067532064, validation loss: 0.9265687079376476, in 0:00:06.574557\n",
      "Epoch: 12, training loss: 0.11135997435599565, validation loss: 0.9339520750911372, in 0:00:06.463931\n",
      "Epoch: 13, training loss: 0.13117218884527684, validation loss: 0.9990416890496661, in 0:00:06.489953\n",
      "Epoch: 14, training loss: 0.1416649759873748, validation loss: 0.9098463233109493, in 0:00:07.336745\n",
      "Epoch: 15, training loss: 0.10728531789779663, validation loss: 1.0083797711665463, in 0:00:06.674961\n",
      "Epoch: 16, training loss: 0.11454631814956664, validation loss: 0.8523498014279991, in 0:00:06.513695\n",
      "Epoch: 17, training loss: 0.15005693787783383, validation loss: 0.9954201996706094, in 0:00:06.464353\n",
      "Epoch: 18, training loss: 0.12540799918174744, validation loss: 1.0181460147071038, in 0:00:06.416982\n",
      "Epoch: 19, training loss: 0.28444322677254674, validation loss: 0.839102901470889, in 0:00:06.525468\n"
     ]
    }
   ],
   "source": [
    "train_losses, valid_losses, best_model = train(model, criterion, optimizer, 20, train_gen, valid_gen)"
   ]
  },
  {
   "cell_type": "markdown",
   "metadata": {
    "id": "Z4eZSB3Ooake"
   },
   "source": [
    "##Question 2: Add an accuracy function and report the accuracy of the training and test set."
   ]
  },
  {
   "cell_type": "code",
   "execution_count": 209,
   "metadata": {
    "id": "3MwUJdH_F2rT"
   },
   "outputs": [],
   "source": [
    "def calculate_accuracy(outputs: torch.Tensor, labels: torch.Tensor, correct: int, total:int) -> Tuple[int, int]:\n",
    "  \"\"\"Calculate a model accuracy.\n",
    "    Args:\n",
    "        outputs: output of the model when given an input.\n",
    "        labels: labels element from the input batches.\n",
    "        correct: the number of correct predictions.\n",
    "        total: the number of total predictions.\n",
    "    Returns:\n",
    "        the number of correct predictions and the total number of predictions.\n",
    "    \"\"\"\n",
    "  sigmoid = nn.Sigmoid()\n",
    "  treated = sigmoid(outputs)\n",
    "  prob = (treated > 0.5).float()\n",
    "  total += labels.size(0)\n",
    "  correct += (prob == labels).sum().item()\n",
    "  return correct, total"
   ]
  },
  {
   "cell_type": "code",
   "execution_count": 210,
   "metadata": {
    "id": "e5FZbgwK-yoX"
   },
   "outputs": [],
   "source": [
    "import copy\n",
    "def train(\n",
    "    model: nn.Module,\n",
    "    criterion: Callable,\n",
    "    optimizier: torch.optim.Optimizer,\n",
    "    n_epochs: int,\n",
    "    train_gen: Callable,\n",
    "    valid_gen: Callable,\n",
    ") -> Tuple[List[float], List[float], nn.Module]:\n",
    "    \"\"\"Train a model using a batch gradient descent.\n",
    "    Args:\n",
    "        model: a class inheriting from nn.Module.\n",
    "        criterion: a loss criterion.\n",
    "        optimizer: an optimizer (e.g. Adam, RMSprop, ...).\n",
    "        n_epochs: the number of training epochs.\n",
    "        train_gen: a callable function returing a batch (data, labels).\n",
    "        valid_gen: a callable function returing a batch (data, labels).\n",
    "    \"\"\"\n",
    "    train_losses = np.zeros(n_epochs)\n",
    "    valid_losses = np.zeros(n_epochs)\n",
    "    model_accs_train = np.zeros(n_epochs)\n",
    "    model_accs_valid = np.zeros(n_epochs)\n",
    "    best_valid_loss = float(\"inf\")\n",
    "    best_model = None\n",
    "    for epoch in range(n_epochs):\n",
    "        t0 = datetime.now()\n",
    "        model.train()\n",
    "        train_loss = []\n",
    "        correct_train = 0\n",
    "        total_train = 0\n",
    "        # Training loop.\n",
    "        for inputs, labels in train_gen():\n",
    "            # labels are of dimension (N,) we turn them into (N, 1).\n",
    "            labels = labels.view(-1, 1).float()\n",
    "            # Put them on the GPU.\n",
    "            inputs, labels = inputs.to(device), labels.to(device)\n",
    "\n",
    "            # Reset the gradient.\n",
    "            optimizer.zero_grad()\n",
    "\n",
    "            outputs = model(inputs)\n",
    "            loss = criterion(outputs, labels)\n",
    "            loss.backward()\n",
    "            optimizier.step()\n",
    "\n",
    "            train_loss.append(loss.item())  # .item() detach the value from GPU.\n",
    "            #Calculate accuracy of the model\n",
    "            correct_train, total_train = calculate_accuracy(outputs, labels, correct_train, total_train)      \n",
    "        train_losses[epoch] = np.mean(train_loss)\n",
    "        model_accs_train[epoch] = 100 * correct_train / total_train\n",
    "\n",
    "        model.eval()\n",
    "        valid_loss = []\n",
    "        acc = None\n",
    "        \n",
    "        correct_valid = 0\n",
    "        total_valid = 0\n",
    "        # Evaluation loop.\n",
    "        for inputs, labels in valid_gen():\n",
    "            labels = labels.view(-1, 1).float()\n",
    "            inputs, labels = inputs.to(device), labels.to(device)\n",
    "            outputs = model(inputs)\n",
    "            loss = criterion(outputs, labels)\n",
    "            valid_loss.append(loss.item())\n",
    "      \n",
    "            #Calculate accuracy of the model\n",
    "            correct_valid, total_valid = calculate_accuracy(outputs, labels, correct_valid, total_valid)\n",
    "\n",
    "        valid_losses[epoch] = np.mean(valid_loss)\n",
    "        model_accs_valid[epoch] = 100 * correct_valid / total_valid\n",
    "        print(f\"Epoch: {epoch}, training loss: {train_losses[epoch]}, accuracy of training: {model_accs_train[epoch]}, validation loss: {valid_losses[epoch]}, accuracy of validation: {model_accs_valid[epoch]}, in {datetime.now() - t0}\")\n",
    "        if valid_losses[epoch] < best_valid_loss:\n",
    "          best_model = copy.deepcopy(model)\n",
    "          print(f\"Model with the best validation loss: {valid_losses[epoch]}\")\n",
    "          best_valid_loss = valid_losses[epoch]\n",
    "    return train_losses, valid_losses, best_model"
   ]
  },
  {
   "cell_type": "markdown",
   "metadata": {
    "id": "Fi-GDOeFo1yk"
   },
   "source": [
    "##Question 3: Create an LSTM class which uses an LSTM instead of an RNN. Compare its results with the RNN."
   ]
  },
  {
   "cell_type": "markdown",
   "metadata": {
    "id": "Wlh1b6XlmlP5"
   },
   "source": [
    "LSTM model"
   ]
  },
  {
   "cell_type": "code",
   "execution_count": 211,
   "metadata": {
    "id": "_Du4xakhqQsg"
   },
   "outputs": [],
   "source": [
    "class LSTM(nn.Module):\n",
    "    \"\"\"A simple RNN module with word embeddings.\n",
    "    \"\"\"\n",
    "    def __init__(self, vocab_size: int, embed_size: int, hidden_size: int, n_layers: int, n_outputs: int) -> None:\n",
    "        \"\"\"\n",
    "        Args:\n",
    "            vocab_size: vocabulary size.\n",
    "            embed_size: embedding dimensions.\n",
    "            hidden_size: hidden layer size.\n",
    "            n_layers: the number of layers.\n",
    "            n_outputs: the number of output classes.\n",
    "        \"\"\"\n",
    "        super().__init__()\n",
    "        self.vocab_size = vocab_size\n",
    "        self.embed_size = embed_size\n",
    "        self.hidden_size = hidden_size\n",
    "        self.n_layers = n_layers\n",
    "        self.n_outputs = n_outputs\n",
    "\n",
    "        # The word embedding layer.\n",
    "        self.embed = nn.Embedding(self.vocab_size, self.embed_size)\n",
    "        # The RNN\n",
    "        self.lstm = nn.LSTM(\n",
    "            input_size = self.embed_size,\n",
    "            hidden_size = self.hidden_size,\n",
    "            num_layers = self.n_layers,\n",
    "            batch_first = True, # Changes the order of dimension to put the batches first.\n",
    "            dropout=0.2,\n",
    "        )\n",
    "        # A fully connected layer to project the LSTM's output to only one output used for classification.\n",
    "        self.fc = nn.Linear(self.hidden_size, self.n_outputs)\n",
    "\n",
    "    def forward(self, X: torch.Tensor) -> torch.Tensor:\n",
    "        \"\"\"Function called when the model is called with data as input.\n",
    "        Args:\n",
    "            X: the input tensor of dimensions batch_size, sequence length, vocab size (actually just an int).\n",
    "        Returns:\n",
    "            The resulting tensor of dimension batch_size, sequence length, output dimensions.\n",
    "        \"\"\"\n",
    "        h0 = (torch.zeros(self.n_layers, X.size(0), self.hidden_size).to(device), torch.zeros(self.n_layers, X.size(0), self.hidden_size).to(device))\n",
    "\n",
    "        out = self.embed(X)\n",
    "        # out contains the output layer of all words in the sequence.\n",
    "        # First dim is batch, second the word in the sequence, third is the vector itself.\n",
    "        # The second output value is the last vector of all intermediate layer.\n",
    "        # Only use it if you want to access the intermediate layer values of a\n",
    "        # multilayer model.\n",
    "        out, _ = self.lstm(out, h0)\n",
    "        # Getting the last value only.\n",
    "        out = out[:, -1, :]\n",
    "    \n",
    "        # Linear projection.\n",
    "        out = self.fc(out)\n",
    "\n",
    "        return out"
   ]
  },
  {
   "cell_type": "code",
   "execution_count": 212,
   "metadata": {
    "colab": {
     "base_uri": "https://localhost:8080/"
    },
    "id": "4xqJ2xFeqQk1",
    "outputId": "5e1e368b-129d-4ece-8790-3ae9d46277a1"
   },
   "outputs": [
    {
     "name": "stderr",
     "output_type": "stream",
     "text": [
      "/usr/local/lib/python3.7/dist-packages/torch/nn/modules/rnn.py:65: UserWarning: dropout option adds dropout after all but last recurrent layer, so non-zero dropout expects num_layers greater than 1, but got dropout=0.2 and num_layers=1\n",
      "  \"num_layers={}\".format(dropout, num_layers))\n"
     ]
    }
   ],
   "source": [
    "model_lstm = LSTM(len(vocabulary), 32, 64, 1, 1).to(device)\n",
    "criterion = nn.BCEWithLogitsLoss()\n",
    "optimizer = torch.optim.Adam(model_lstm.parameters())"
   ]
  },
  {
   "cell_type": "code",
   "execution_count": 213,
   "metadata": {
    "colab": {
     "base_uri": "https://localhost:8080/"
    },
    "id": "9b0lmRcQLgmU",
    "outputId": "b99f4de9-aa41-4c7c-a59c-92cb37998459"
   },
   "outputs": [
    {
     "name": "stdout",
     "output_type": "stream",
     "text": [
      "Epoch: 0, training loss: 0.6649524147033692, accuracy of training: 58.66, validation loss: 0.6104888718598968, accuracy of validation: 66.62, in 0:00:06.901490\n",
      "Model with the best validation loss: 0.6104888718598968\n",
      "Epoch: 1, training loss: 0.5597751738548279, accuracy of training: 71.77, validation loss: 0.6007812679952876, accuracy of validation: 66.78, in 0:00:06.839207\n",
      "Model with the best validation loss: 0.6007812679952876\n",
      "Epoch: 2, training loss: 0.48251235420703886, accuracy of training: 77.62, validation loss: 0.581519812155681, accuracy of validation: 69.22, in 0:00:06.993529\n",
      "Model with the best validation loss: 0.581519812155681\n",
      "Epoch: 3, training loss: 0.39234622797966, accuracy of training: 83.04, validation loss: 0.5083054662889736, accuracy of validation: 75.24, in 0:00:06.882677\n",
      "Model with the best validation loss: 0.5083054662889736\n",
      "Epoch: 4, training loss: 0.32510265723466875, accuracy of training: 86.79, validation loss: 0.4521740515520618, accuracy of validation: 79.44, in 0:00:06.928429\n",
      "Model with the best validation loss: 0.4521740515520618\n",
      "Epoch: 5, training loss: 0.27365126210451124, accuracy of training: 89.41, validation loss: 0.4243036284093644, accuracy of validation: 83.4, in 0:00:06.897738\n",
      "Model with the best validation loss: 0.4243036284093644\n",
      "Epoch: 6, training loss: 0.3565961974680424, accuracy of training: 84.665, validation loss: 0.47175357637891346, accuracy of validation: 78.6, in 0:00:06.936431\n",
      "Epoch: 7, training loss: 0.2614654031932354, accuracy of training: 89.63, validation loss: 0.4272925709463229, accuracy of validation: 82.46, in 0:00:06.751448\n",
      "Epoch: 8, training loss: 0.19114264436364173, accuracy of training: 93.11, validation loss: 0.4389844186556567, accuracy of validation: 80.86, in 0:00:06.731020\n",
      "Epoch: 9, training loss: 0.15499389382600784, accuracy of training: 94.54, validation loss: 0.4441549621854618, accuracy of validation: 83.08, in 0:00:06.817108\n",
      "Epoch: 10, training loss: 0.12545126239806415, accuracy of training: 95.81, validation loss: 0.46874718595841885, accuracy of validation: 82.48, in 0:00:06.757187\n",
      "Epoch: 11, training loss: 0.10875245966613292, accuracy of training: 96.32, validation loss: 0.49554570655154573, accuracy of validation: 84.1, in 0:00:06.975960\n",
      "Epoch: 12, training loss: 0.08130406077057123, accuracy of training: 97.4, validation loss: 0.5448379735373388, accuracy of validation: 83.54, in 0:00:06.781605\n",
      "Epoch: 13, training loss: 0.08974829191938043, accuracy of training: 96.9, validation loss: 0.5960661206085971, accuracy of validation: 83.36, in 0:00:06.712136\n",
      "Epoch: 14, training loss: 0.07320925773717463, accuracy of training: 97.575, validation loss: 0.713635816600672, accuracy of validation: 82.98, in 0:00:06.819720\n",
      "Epoch: 15, training loss: 0.04526150336377323, accuracy of training: 98.625, validation loss: 0.6667658508084952, accuracy of validation: 82.2, in 0:00:07.005705\n",
      "Epoch: 16, training loss: 0.03571592213930562, accuracy of training: 99.085, validation loss: 0.698237744509984, accuracy of validation: 82.3, in 0:00:06.956932\n",
      "Epoch: 17, training loss: 0.034798163916729394, accuracy of training: 99.045, validation loss: 1.0632723184053305, accuracy of validation: 78.18, in 0:00:06.782594\n",
      "Epoch: 18, training loss: 0.0358269558285363, accuracy of training: 98.865, validation loss: 0.7819895697475833, accuracy of validation: 83.86, in 0:00:06.746261\n",
      "Epoch: 19, training loss: 0.018968745905859397, accuracy of training: 99.525, validation loss: 0.8617832316738215, accuracy of validation: 84.72, in 0:00:06.963277\n"
     ]
    }
   ],
   "source": [
    "train_losses, valid_losses, model_lstm = train(model_lstm, criterion, optimizer, 20, train_gen, valid_gen)"
   ]
  },
  {
   "cell_type": "markdown",
   "metadata": {
    "id": "7S7n1Jafo-u_"
   },
   "source": [
    "##Question 4: Implement a function which takes any text and return the model's prediction.\n",
    "*   The function should have a string as input and return a class (0 or 1) and its probability (score out of a sigmoid).\n",
    "*   Don't forget to make the text go through the same pretreatment and encoding you used to train your model."
   ]
  },
  {
   "cell_type": "markdown",
   "metadata": {
    "id": "MLSbj0mknKHI"
   },
   "source": [
    "The predict function will take a sentence and the model that we want to predict with. The function will output the scores of the text out of sigmoid and the model final prediction."
   ]
  },
  {
   "cell_type": "code",
   "execution_count": 214,
   "metadata": {
    "id": "uJcvnFz6LimQ"
   },
   "outputs": [],
   "source": [
    "def predict(sentence: str, model: nn.Module) -> Tuple[float, float]:\n",
    "    treated_sentence = pretreatment(sentence)\n",
    "    treated_sentence = encode_text(treated_sentence)\n",
    "    treated_sentence = np.reshape(treated_sentence, (1, len(treated_sentence)))\n",
    "    treated_sentence = torch.from_numpy(treated_sentence).to(device)\n",
    "    output = model(treated_sentence)\n",
    "    activation = nn.Sigmoid()\n",
    "    activated  = activation(output)\n",
    "    print(\"Scores out of sigmoid: \" + str(activated.item()) + \", \" + \"Return value: \" + str((activated > 0.5).float().item()))\n",
    "    return activated.item(), (activated > 0.5).float().item()"
   ]
  },
  {
   "cell_type": "code",
   "execution_count": 215,
   "metadata": {
    "colab": {
     "base_uri": "https://localhost:8080/"
    },
    "id": "IdNaOkR7UFq6",
    "outputId": "0bf2a3b3-43bd-416a-dccb-82d477f7c175"
   },
   "outputs": [
    {
     "name": "stdout",
     "output_type": "stream",
     "text": [
      "Scores out of sigmoid: 0.5946723818778992, Return value: 1.0\n"
     ]
    },
    {
     "data": {
      "text/plain": [
       "(0.5946723818778992, 1.0)"
      ]
     },
     "execution_count": 215,
     "metadata": {},
     "output_type": "execute_result"
    }
   ],
   "source": [
    "predict(\"<h><\\h>Hello, how are you ?\", model)"
   ]
  },
  {
   "cell_type": "markdown",
   "metadata": {
    "id": "BOri8qc4pkYb"
   },
   "source": [
    "##Question 5: Create a bidirectional LSTM (BiLSTM) class to classify your sentences. Report the accuracy on the training and test data.\n",
    "*   To combine the last output of both direction, you can concatenate, add, or max-pool them. Please document your choice."
   ]
  },
  {
   "cell_type": "markdown",
   "metadata": {
    "id": "rPsvsN97nqjq"
   },
   "source": [
    "BiLSTM model\n",
    "- Here we tried several method to linearize the output including:\n",
    "    - Max-pool\n",
    "    - Concatenation\n",
    "    - Addition\n",
    "    \n",
    "- Through 3 methods, we found that for this setup concatenation give the highest accuracy and that's why it is kept for the purpose of running the model."
   ]
  },
  {
   "cell_type": "code",
   "execution_count": 216,
   "metadata": {
    "id": "QhxcQs1PUMh5"
   },
   "outputs": [],
   "source": [
    "class BiLSTM(nn.Module):\n",
    "    \"\"\"A simple RNN module with word embeddings.\n",
    "    \"\"\"\n",
    "    def __init__(self, vocab_size: int, embed_size: int, hidden_size: int, n_layers: int, n_outputs: int) -> None:\n",
    "        \"\"\"\n",
    "        Args:\n",
    "            vocab_size: vocabulary size.\n",
    "            embed_size: embedding dimensions.\n",
    "            hidden_size: hidden layer size.\n",
    "            n_layers: the number of layers.\n",
    "            n_outputs: the number of output classes.\n",
    "        \"\"\"\n",
    "        super().__init__()\n",
    "        self.vocab_size = vocab_size\n",
    "        self.embed_size = embed_size\n",
    "        self.hidden_size = hidden_size\n",
    "        self.n_layers = n_layers\n",
    "        self.n_outputs = n_outputs\n",
    "\n",
    "        # The word embedding layer.\n",
    "        self.embed = nn.Embedding(self.vocab_size, self.embed_size)\n",
    "        # The RNN\n",
    "        self.lstm = nn.LSTM(\n",
    "            input_size = self.embed_size,\n",
    "            hidden_size = self.hidden_size,\n",
    "            num_layers = self.n_layers,\n",
    "            batch_first = True, # Changes the order of dimension to put the batches first.\n",
    "            bidirectional=True\n",
    "        )\n",
    "        # A fully connected layer to project the LSTM's output to only one output used for classification.\n",
    "        self.fc = nn.Linear(self.hidden_size * 2, self.n_outputs)\n",
    "\n",
    "    def forward(self, X: torch.Tensor) -> torch.Tensor:\n",
    "        \"\"\"Function called when the model is called with data as input.\n",
    "        Args:\n",
    "            X: the input tensor of dimensions batch_size, sequence length, vocab size (actually just an int).\n",
    "        Returns:\n",
    "            The resulting tensor of dimension batch_size, sequence length, output dimensions.\n",
    "        \"\"\"\n",
    "        h0 = (torch.zeros(self.n_layers * 2, X.size(0), self.hidden_size).to(device), torch.zeros(self.n_layers * 2, X.size(0), self.hidden_size).to(device))\n",
    "        out = self.embed(X)\n",
    "        # out contains the output layer of all words in the sequence.\n",
    "        # First dim is batch, second the word in the sequence, third is the vector itself.\n",
    "        # The second output value is the last vector of all intermediate layer.\n",
    "        # Only use it if you want to access the intermediate layer values of a\n",
    "        # multilayer model.\n",
    "        out, _ = self.lstm(out, h0)\n",
    "        # Getting the last value only.\n",
    "        #out = out[:, -1, :]\n",
    "        out = torch.cat((out[:, -1, :self.hidden_size].squeeze(1), out[:, 0, self.hidden_size:].squeeze(1)), dim=1)\n",
    "        \n",
    "        # Tried max-pool and also addition\n",
    "        # out = out[:, -1, :self.hidden_size].squeeze(1) + out[:, 0, self.hidden_size:].squeeze(1)\n",
    "        # out = torch.maximum(out[:, -1, :self.hidden_size].squeeze(1), out[:, 0, self.hidden_size:].squeeze(1))\n",
    "        \n",
    "        # Linear projection.\n",
    "        out = self.fc(out)\n",
    "\n",
    "        return out"
   ]
  },
  {
   "cell_type": "code",
   "execution_count": 217,
   "metadata": {
    "id": "_MRVv1kzTGYL"
   },
   "outputs": [],
   "source": [
    "model_bilstm = BiLSTM(len(vocabulary), 32, 64, 1, 1).to(device)\n",
    "criterion = nn.BCEWithLogitsLoss()\n",
    "optimizer = torch.optim.Adam(model_bilstm.parameters())"
   ]
  },
  {
   "cell_type": "code",
   "execution_count": 218,
   "metadata": {
    "colab": {
     "base_uri": "https://localhost:8080/"
    },
    "id": "qG0aB0uCTL-O",
    "outputId": "304c3331-88b9-4c5d-c750-d6e5a54e6fed"
   },
   "outputs": [
    {
     "name": "stdout",
     "output_type": "stream",
     "text": [
      "Epoch: 0, training loss: 0.6757279348373413, accuracy of training: 56.985, validation loss: 0.659536579232307, accuracy of validation: 62.1, in 0:00:08.496272\n",
      "Model with the best validation loss: 0.659536579232307\n",
      "Epoch: 1, training loss: 0.6308195363521576, accuracy of training: 64.41, validation loss: 0.6659816780667396, accuracy of validation: 59.34, in 0:00:08.353559\n",
      "Epoch: 2, training loss: 0.6038061326026917, accuracy of training: 67.36, validation loss: 0.5796326628536176, accuracy of validation: 69.62, in 0:00:08.843330\n",
      "Model with the best validation loss: 0.5796326628536176\n",
      "Epoch: 3, training loss: 0.4763468338012695, accuracy of training: 77.955, validation loss: 0.5246899194398503, accuracy of validation: 74.84, in 0:00:08.576375\n",
      "Model with the best validation loss: 0.5246899194398503\n",
      "Epoch: 4, training loss: 0.3838613174200058, accuracy of training: 83.205, validation loss: 0.46630188538010714, accuracy of validation: 80.5, in 0:00:08.385606\n",
      "Model with the best validation loss: 0.46630188538010714\n",
      "Epoch: 5, training loss: 0.3335715089321136, accuracy of training: 86.245, validation loss: 0.41599525796000364, accuracy of validation: 81.18, in 0:00:08.468935\n",
      "Model with the best validation loss: 0.41599525796000364\n",
      "Epoch: 6, training loss: 0.2957832952260971, accuracy of training: 88.19, validation loss: 0.45749795674138766, accuracy of validation: 81.6, in 0:00:08.573390\n",
      "Epoch: 7, training loss: 0.23690054190754892, accuracy of training: 91.18, validation loss: 0.40890973141998244, accuracy of validation: 83.3, in 0:00:08.669509\n",
      "Model with the best validation loss: 0.40890973141998244\n",
      "Epoch: 8, training loss: 0.20604760170578956, accuracy of training: 92.335, validation loss: 0.40303919094193513, accuracy of validation: 84.46, in 0:00:08.462442\n",
      "Model with the best validation loss: 0.40303919094193513\n",
      "Epoch: 9, training loss: 0.16297831993401052, accuracy of training: 94.315, validation loss: 0.44701922651688764, accuracy of validation: 84.16, in 0:00:08.424617\n",
      "Epoch: 10, training loss: 0.13043687916994096, accuracy of training: 95.61, validation loss: 0.4550103371974769, accuracy of validation: 84.74, in 0:00:08.399033\n",
      "Epoch: 11, training loss: 0.1095532017454505, accuracy of training: 96.435, validation loss: 0.4656343352358053, accuracy of validation: 84.32, in 0:00:08.349585\n",
      "Epoch: 12, training loss: 0.08753662729635835, accuracy of training: 97.225, validation loss: 0.5148076917145662, accuracy of validation: 81.36, in 0:00:08.616750\n",
      "Epoch: 13, training loss: 0.06815999487638473, accuracy of training: 98.05, validation loss: 0.5887593191805159, accuracy of validation: 84.74, in 0:00:08.442089\n",
      "Epoch: 14, training loss: 0.05332432656101883, accuracy of training: 98.56, validation loss: 0.5744689920810377, accuracy of validation: 84.74, in 0:00:08.335459\n",
      "Epoch: 15, training loss: 0.04016547314934432, accuracy of training: 99.015, validation loss: 0.6704683904625048, accuracy of validation: 84.88, in 0:00:08.408013\n",
      "Epoch: 16, training loss: 0.03391984606347978, accuracy of training: 99.045, validation loss: 0.6829404849677708, accuracy of validation: 83.82, in 0:00:08.583300\n",
      "Epoch: 17, training loss: 0.02751723023224622, accuracy of training: 99.26, validation loss: 0.7220673469031692, accuracy of validation: 84.62, in 0:00:08.431611\n",
      "Epoch: 18, training loss: 0.023331787653826177, accuracy of training: 99.38, validation loss: 0.734007715554552, accuracy of validation: 84.42, in 0:00:08.439811\n",
      "Epoch: 19, training loss: 0.01865973133277148, accuracy of training: 99.51, validation loss: 0.8077110202633034, accuracy of validation: 84.48, in 0:00:08.350911\n"
     ]
    }
   ],
   "source": [
    "train_losses, valid_losses, model_bilstm = train(model_bilstm, criterion, optimizer, 20, train_gen, valid_gen)"
   ]
  },
  {
   "cell_type": "code",
   "execution_count": 219,
   "metadata": {
    "colab": {
     "base_uri": "https://localhost:8080/"
    },
    "id": "Vt4xjM_KTUbM",
    "outputId": "fdbb59a7-87e2-46b1-8938-bd6bd422a846"
   },
   "outputs": [
    {
     "name": "stdout",
     "output_type": "stream",
     "text": [
      "Scores out of sigmoid: 0.1451604962348938, Return value: 0.0\n"
     ]
    },
    {
     "name": "stderr",
     "output_type": "stream",
     "text": [
      "/usr/local/lib/python3.7/dist-packages/torch/nn/modules/rnn.py:473: UserWarning: RNN module weights are not part of single contiguous chunk of memory. This means they need to be compacted at every call, possibly greatly increasing memory usage. To compact weights again call flatten_parameters(). (Triggered internally at  ../aten/src/ATen/native/cudnn/RNN.cpp:968.)\n",
      "  self.batch_first)\n"
     ]
    },
    {
     "data": {
      "text/plain": [
       "(0.1451604962348938, 0.0)"
      ]
     },
     "execution_count": 219,
     "metadata": {},
     "output_type": "execute_result"
    }
   ],
   "source": [
    "predict(\"The best movie I have ever seen\", best_model)"
   ]
  },
  {
   "cell_type": "markdown",
   "metadata": {
    "id": "hS3v3Zonp2Nx"
   },
   "source": [
    "##Question 6: With your best classifier, look at two wrongly classified examples on the test set. Try explaining why the model was wrong."
   ]
  },
  {
   "cell_type": "markdown",
   "metadata": {
    "id": "RAsbQlvtzhkv"
   },
   "source": [
    "We run the model with the test set to indentify the model with the best performance"
   ]
  },
  {
   "cell_type": "code",
   "execution_count": 220,
   "metadata": {
    "id": "uqYJW_UJtU1p"
   },
   "outputs": [],
   "source": [
    "def test(\n",
    "    model: nn.Module,\n",
    "    test_gen: Callable,\n",
    ") -> float:\n",
    "    \"\"\"Calculate the model accuracy when runs with the test set.\n",
    "        Args:\n",
    "            model: the model that needs testing.\n",
    "            test_gen: a callable function returing a batch (data, labels). \n",
    "        Returns:\n",
    "            The accuracy of the model.\n",
    "    \"\"\"\n",
    "    model.eval()\n",
    "    correct = 0\n",
    "    total = 0\n",
    "    # Evaluation loop.\n",
    "    for inputs, labels in test_gen():\n",
    "        labels = labels.view(-1, 1).float()\n",
    "        inputs, labels = inputs.to(device), labels.to(device)\n",
    "        outputs = model(inputs)\n",
    "        #Calculate accuracy of the model\n",
    "        correct, total = calculate_accuracy(outputs, labels, correct, total)\n",
    "    return 100 * correct / total"
   ]
  },
  {
   "cell_type": "markdown",
   "metadata": {
    "id": "U6YeWM30zptR"
   },
   "source": [
    "We can see from the result that the LSTM model is the best model out of all three"
   ]
  },
  {
   "cell_type": "code",
   "execution_count": 221,
   "metadata": {
    "colab": {
     "base_uri": "https://localhost:8080/"
    },
    "id": "IYoKWfLvxo5j",
    "outputId": "902f9d12-88ae-4497-f192-0af0de1c7bd6"
   },
   "outputs": [
    {
     "name": "stdout",
     "output_type": "stream",
     "text": [
      "RNN Model accuracy: 73.336\n"
     ]
    },
    {
     "name": "stderr",
     "output_type": "stream",
     "text": [
      "/usr/local/lib/python3.7/dist-packages/torch/nn/modules/rnn.py:770: UserWarning: RNN module weights are not part of single contiguous chunk of memory. This means they need to be compacted at every call, possibly greatly increasing memory usage. To compact weights again call flatten_parameters(). (Triggered internally at  ../aten/src/ATen/native/cudnn/RNN.cpp:968.)\n",
      "  self.dropout, self.training, self.bidirectional, self.batch_first)\n"
     ]
    },
    {
     "name": "stdout",
     "output_type": "stream",
     "text": [
      "LSTM Model accuracy: 83.052\n",
      "BiLSTM Model accuracy: 84.3\n"
     ]
    }
   ],
   "source": [
    "print(f\"RNN Model accuracy: {test(best_model, test_gen)}\")\n",
    "print(f\"LSTM Model accuracy: {test(model_lstm, test_gen)}\")\n",
    "print(f\"BiLSTM Model accuracy: {test(model_bilstm, test_gen)}\")"
   ]
  },
  {
   "cell_type": "markdown",
   "metadata": {},
   "source": [
    "Accuracy of test set on stemming and removing stop words. But in our suspicion, it is more about the stemming that causes inaccuracy in the test.\n",
    "- RNN Model accuracy: 51.384\n",
    "- LSTM Model accuracy: 49.304\n",
    "- BiLSTM Model accuracy: 48.812"
   ]
  }
 ],
 "metadata": {
  "accelerator": "GPU",
  "colab": {
   "collapsed_sections": [],
   "provenance": []
  },
  "gpuClass": "standard",
  "kernelspec": {
   "display_name": "Python 3 (ipykernel)",
   "language": "python",
   "name": "python3"
  },
  "language_info": {
   "codemirror_mode": {
    "name": "ipython",
    "version": 3
   },
   "file_extension": ".py",
   "mimetype": "text/x-python",
   "name": "python",
   "nbconvert_exporter": "python",
   "pygments_lexer": "ipython3",
   "version": "3.8.10"
  },
  "widgets": {
   "application/vnd.jupyter.widget-state+json": {
    "05d69cad8fff4c028cff3a715860f8bf": {
     "model_module": "@jupyter-widgets/controls",
     "model_module_version": "1.5.0",
     "model_name": "DescriptionStyleModel",
     "state": {
      "_model_module": "@jupyter-widgets/controls",
      "_model_module_version": "1.5.0",
      "_model_name": "DescriptionStyleModel",
      "_view_count": null,
      "_view_module": "@jupyter-widgets/base",
      "_view_module_version": "1.2.0",
      "_view_name": "StyleView",
      "description_width": ""
     }
    },
    "072dc06efb484635804f7625fc69bd25": {
     "model_module": "@jupyter-widgets/controls",
     "model_module_version": "1.5.0",
     "model_name": "DescriptionStyleModel",
     "state": {
      "_model_module": "@jupyter-widgets/controls",
      "_model_module_version": "1.5.0",
      "_model_name": "DescriptionStyleModel",
      "_view_count": null,
      "_view_module": "@jupyter-widgets/base",
      "_view_module_version": "1.2.0",
      "_view_name": "StyleView",
      "description_width": ""
     }
    },
    "102c99ca30e040f8911f292ba5458caf": {
     "model_module": "@jupyter-widgets/controls",
     "model_module_version": "1.5.0",
     "model_name": "HBoxModel",
     "state": {
      "_dom_classes": [],
      "_model_module": "@jupyter-widgets/controls",
      "_model_module_version": "1.5.0",
      "_model_name": "HBoxModel",
      "_view_count": null,
      "_view_module": "@jupyter-widgets/controls",
      "_view_module_version": "1.5.0",
      "_view_name": "HBoxView",
      "box_style": "",
      "children": [
       "IPY_MODEL_3bf45ba12921476ba668327eef8677c2",
       "IPY_MODEL_d5fe3b83b8754c1d8fafec2969dabfc5",
       "IPY_MODEL_dc85afaa496b4a2a8eac00ae0d8e0b31"
      ],
      "layout": "IPY_MODEL_da7bffc049174a259f8a87fe12e8f368"
     }
    },
    "162ab96023ae4e0fb3a6bfc1130bcdb7": {
     "model_module": "@jupyter-widgets/controls",
     "model_module_version": "1.5.0",
     "model_name": "HBoxModel",
     "state": {
      "_dom_classes": [],
      "_model_module": "@jupyter-widgets/controls",
      "_model_module_version": "1.5.0",
      "_model_name": "HBoxModel",
      "_view_count": null,
      "_view_module": "@jupyter-widgets/controls",
      "_view_module_version": "1.5.0",
      "_view_name": "HBoxView",
      "box_style": "",
      "children": [
       "IPY_MODEL_9483391d882646f086674eafc790f879",
       "IPY_MODEL_c1c58457a6604b388b5e07aa06924c70",
       "IPY_MODEL_ebc72ccd640e422380b4ffbe897d3213"
      ],
      "layout": "IPY_MODEL_8bb075fe93b544d38ba6894ef256a4c7"
     }
    },
    "1a1bd86ab9104dd79e9b14465d831046": {
     "model_module": "@jupyter-widgets/controls",
     "model_module_version": "1.5.0",
     "model_name": "DescriptionStyleModel",
     "state": {
      "_model_module": "@jupyter-widgets/controls",
      "_model_module_version": "1.5.0",
      "_model_name": "DescriptionStyleModel",
      "_view_count": null,
      "_view_module": "@jupyter-widgets/base",
      "_view_module_version": "1.2.0",
      "_view_name": "StyleView",
      "description_width": ""
     }
    },
    "2a333bf6576d4e8fb405b12bc844affc": {
     "model_module": "@jupyter-widgets/base",
     "model_module_version": "1.2.0",
     "model_name": "LayoutModel",
     "state": {
      "_model_module": "@jupyter-widgets/base",
      "_model_module_version": "1.2.0",
      "_model_name": "LayoutModel",
      "_view_count": null,
      "_view_module": "@jupyter-widgets/base",
      "_view_module_version": "1.2.0",
      "_view_name": "LayoutView",
      "align_content": null,
      "align_items": null,
      "align_self": null,
      "border": null,
      "bottom": null,
      "display": null,
      "flex": null,
      "flex_flow": null,
      "grid_area": null,
      "grid_auto_columns": null,
      "grid_auto_flow": null,
      "grid_auto_rows": null,
      "grid_column": null,
      "grid_gap": null,
      "grid_row": null,
      "grid_template_areas": null,
      "grid_template_columns": null,
      "grid_template_rows": null,
      "height": null,
      "justify_content": null,
      "justify_items": null,
      "left": null,
      "margin": null,
      "max_height": null,
      "max_width": null,
      "min_height": null,
      "min_width": null,
      "object_fit": null,
      "object_position": null,
      "order": null,
      "overflow": null,
      "overflow_x": null,
      "overflow_y": null,
      "padding": null,
      "right": null,
      "top": null,
      "visibility": null,
      "width": null
     }
    },
    "322c751d8ad142d38c1427858730e1f8": {
     "model_module": "@jupyter-widgets/controls",
     "model_module_version": "1.5.0",
     "model_name": "DescriptionStyleModel",
     "state": {
      "_model_module": "@jupyter-widgets/controls",
      "_model_module_version": "1.5.0",
      "_model_name": "DescriptionStyleModel",
      "_view_count": null,
      "_view_module": "@jupyter-widgets/base",
      "_view_module_version": "1.2.0",
      "_view_name": "StyleView",
      "description_width": ""
     }
    },
    "350d8510937c44ae879c7ebea65759c1": {
     "model_module": "@jupyter-widgets/base",
     "model_module_version": "1.2.0",
     "model_name": "LayoutModel",
     "state": {
      "_model_module": "@jupyter-widgets/base",
      "_model_module_version": "1.2.0",
      "_model_name": "LayoutModel",
      "_view_count": null,
      "_view_module": "@jupyter-widgets/base",
      "_view_module_version": "1.2.0",
      "_view_name": "LayoutView",
      "align_content": null,
      "align_items": null,
      "align_self": null,
      "border": null,
      "bottom": null,
      "display": null,
      "flex": null,
      "flex_flow": null,
      "grid_area": null,
      "grid_auto_columns": null,
      "grid_auto_flow": null,
      "grid_auto_rows": null,
      "grid_column": null,
      "grid_gap": null,
      "grid_row": null,
      "grid_template_areas": null,
      "grid_template_columns": null,
      "grid_template_rows": null,
      "height": null,
      "justify_content": null,
      "justify_items": null,
      "left": null,
      "margin": null,
      "max_height": null,
      "max_width": null,
      "min_height": null,
      "min_width": null,
      "object_fit": null,
      "object_position": null,
      "order": null,
      "overflow": null,
      "overflow_x": null,
      "overflow_y": null,
      "padding": null,
      "right": null,
      "top": null,
      "visibility": null,
      "width": null
     }
    },
    "39a9112978b94ba5a4ba8116d639c6c3": {
     "model_module": "@jupyter-widgets/controls",
     "model_module_version": "1.5.0",
     "model_name": "ProgressStyleModel",
     "state": {
      "_model_module": "@jupyter-widgets/controls",
      "_model_module_version": "1.5.0",
      "_model_name": "ProgressStyleModel",
      "_view_count": null,
      "_view_module": "@jupyter-widgets/base",
      "_view_module_version": "1.2.0",
      "_view_name": "StyleView",
      "bar_color": null,
      "description_width": ""
     }
    },
    "3bf45ba12921476ba668327eef8677c2": {
     "model_module": "@jupyter-widgets/controls",
     "model_module_version": "1.5.0",
     "model_name": "HTMLModel",
     "state": {
      "_dom_classes": [],
      "_model_module": "@jupyter-widgets/controls",
      "_model_module_version": "1.5.0",
      "_model_name": "HTMLModel",
      "_view_count": null,
      "_view_module": "@jupyter-widgets/controls",
      "_view_module_version": "1.5.0",
      "_view_name": "HTMLView",
      "description": "",
      "description_tooltip": null,
      "layout": "IPY_MODEL_f2fc4d7bd6454f0f89646f61446f06fe",
      "placeholder": "​",
      "style": "IPY_MODEL_c175290110d744e9bc727aaa1bdadf45",
      "value": "100%"
     }
    },
    "454148e2f185432d9a59d259713626e6": {
     "model_module": "@jupyter-widgets/controls",
     "model_module_version": "1.5.0",
     "model_name": "HTMLModel",
     "state": {
      "_dom_classes": [],
      "_model_module": "@jupyter-widgets/controls",
      "_model_module_version": "1.5.0",
      "_model_name": "HTMLModel",
      "_view_count": null,
      "_view_module": "@jupyter-widgets/controls",
      "_view_module_version": "1.5.0",
      "_view_name": "HTMLView",
      "description": "",
      "description_tooltip": null,
      "layout": "IPY_MODEL_9746105fcb1542d8ab93c2e2b5f01672",
      "placeholder": "​",
      "style": "IPY_MODEL_05d69cad8fff4c028cff3a715860f8bf",
      "value": " 5000/5000 [00:01&lt;00:00, 4443.84ex/s]"
     }
    },
    "49460a2c6a4141a89e0f2163ef6d498b": {
     "model_module": "@jupyter-widgets/controls",
     "model_module_version": "1.5.0",
     "model_name": "ProgressStyleModel",
     "state": {
      "_model_module": "@jupyter-widgets/controls",
      "_model_module_version": "1.5.0",
      "_model_name": "ProgressStyleModel",
      "_view_count": null,
      "_view_module": "@jupyter-widgets/base",
      "_view_module_version": "1.2.0",
      "_view_name": "StyleView",
      "bar_color": null,
      "description_width": ""
     }
    },
    "498325ad32b04bceb9a0bf71e825a3dc": {
     "model_module": "@jupyter-widgets/base",
     "model_module_version": "1.2.0",
     "model_name": "LayoutModel",
     "state": {
      "_model_module": "@jupyter-widgets/base",
      "_model_module_version": "1.2.0",
      "_model_name": "LayoutModel",
      "_view_count": null,
      "_view_module": "@jupyter-widgets/base",
      "_view_module_version": "1.2.0",
      "_view_name": "LayoutView",
      "align_content": null,
      "align_items": null,
      "align_self": null,
      "border": null,
      "bottom": null,
      "display": null,
      "flex": null,
      "flex_flow": null,
      "grid_area": null,
      "grid_auto_columns": null,
      "grid_auto_flow": null,
      "grid_auto_rows": null,
      "grid_column": null,
      "grid_gap": null,
      "grid_row": null,
      "grid_template_areas": null,
      "grid_template_columns": null,
      "grid_template_rows": null,
      "height": null,
      "justify_content": null,
      "justify_items": null,
      "left": null,
      "margin": null,
      "max_height": null,
      "max_width": null,
      "min_height": null,
      "min_width": null,
      "object_fit": null,
      "object_position": null,
      "order": null,
      "overflow": null,
      "overflow_x": null,
      "overflow_y": null,
      "padding": null,
      "right": null,
      "top": null,
      "visibility": null,
      "width": null
     }
    },
    "49e518c3822d4275bcd8d670c626148a": {
     "model_module": "@jupyter-widgets/base",
     "model_module_version": "1.2.0",
     "model_name": "LayoutModel",
     "state": {
      "_model_module": "@jupyter-widgets/base",
      "_model_module_version": "1.2.0",
      "_model_name": "LayoutModel",
      "_view_count": null,
      "_view_module": "@jupyter-widgets/base",
      "_view_module_version": "1.2.0",
      "_view_name": "LayoutView",
      "align_content": null,
      "align_items": null,
      "align_self": null,
      "border": null,
      "bottom": null,
      "display": null,
      "flex": null,
      "flex_flow": null,
      "grid_area": null,
      "grid_auto_columns": null,
      "grid_auto_flow": null,
      "grid_auto_rows": null,
      "grid_column": null,
      "grid_gap": null,
      "grid_row": null,
      "grid_template_areas": null,
      "grid_template_columns": null,
      "grid_template_rows": null,
      "height": null,
      "justify_content": null,
      "justify_items": null,
      "left": null,
      "margin": null,
      "max_height": null,
      "max_width": null,
      "min_height": null,
      "min_width": null,
      "object_fit": null,
      "object_position": null,
      "order": null,
      "overflow": null,
      "overflow_x": null,
      "overflow_y": null,
      "padding": null,
      "right": null,
      "top": null,
      "visibility": null,
      "width": null
     }
    },
    "59d819b08df64e9692877b6d61d5e8c7": {
     "model_module": "@jupyter-widgets/controls",
     "model_module_version": "1.5.0",
     "model_name": "HBoxModel",
     "state": {
      "_dom_classes": [],
      "_model_module": "@jupyter-widgets/controls",
      "_model_module_version": "1.5.0",
      "_model_name": "HBoxModel",
      "_view_count": null,
      "_view_module": "@jupyter-widgets/controls",
      "_view_module_version": "1.5.0",
      "_view_name": "HBoxView",
      "box_style": "",
      "children": [
       "IPY_MODEL_d84f64882c4e491abb621db39d3d1280",
       "IPY_MODEL_77c2fa68e8b1425a94bb7f1b98a4498b",
       "IPY_MODEL_921f0787cd9d40e6b3cdaa6987706947"
      ],
      "layout": "IPY_MODEL_498325ad32b04bceb9a0bf71e825a3dc"
     }
    },
    "59ea0aabece445aeacc116e1fb16759c": {
     "model_module": "@jupyter-widgets/controls",
     "model_module_version": "1.5.0",
     "model_name": "FloatProgressModel",
     "state": {
      "_dom_classes": [],
      "_model_module": "@jupyter-widgets/controls",
      "_model_module_version": "1.5.0",
      "_model_name": "FloatProgressModel",
      "_view_count": null,
      "_view_module": "@jupyter-widgets/controls",
      "_view_module_version": "1.5.0",
      "_view_name": "ProgressView",
      "bar_style": "success",
      "description": "",
      "description_tooltip": null,
      "layout": "IPY_MODEL_c61091444f374d1e8dda1ed2a662cfb2",
      "max": 20000,
      "min": 0,
      "orientation": "horizontal",
      "style": "IPY_MODEL_f6b1a93ead844654a9e2ca8662992579",
      "value": 20000
     }
    },
    "61c68d2977184922960ddb6bc9990e2e": {
     "model_module": "@jupyter-widgets/base",
     "model_module_version": "1.2.0",
     "model_name": "LayoutModel",
     "state": {
      "_model_module": "@jupyter-widgets/base",
      "_model_module_version": "1.2.0",
      "_model_name": "LayoutModel",
      "_view_count": null,
      "_view_module": "@jupyter-widgets/base",
      "_view_module_version": "1.2.0",
      "_view_name": "LayoutView",
      "align_content": null,
      "align_items": null,
      "align_self": null,
      "border": null,
      "bottom": null,
      "display": null,
      "flex": null,
      "flex_flow": null,
      "grid_area": null,
      "grid_auto_columns": null,
      "grid_auto_flow": null,
      "grid_auto_rows": null,
      "grid_column": null,
      "grid_gap": null,
      "grid_row": null,
      "grid_template_areas": null,
      "grid_template_columns": null,
      "grid_template_rows": null,
      "height": null,
      "justify_content": null,
      "justify_items": null,
      "left": null,
      "margin": null,
      "max_height": null,
      "max_width": null,
      "min_height": null,
      "min_width": null,
      "object_fit": null,
      "object_position": null,
      "order": null,
      "overflow": null,
      "overflow_x": null,
      "overflow_y": null,
      "padding": null,
      "right": null,
      "top": null,
      "visibility": null,
      "width": null
     }
    },
    "69e65c156fed4ec4b4ee05583634a2c3": {
     "model_module": "@jupyter-widgets/controls",
     "model_module_version": "1.5.0",
     "model_name": "DescriptionStyleModel",
     "state": {
      "_model_module": "@jupyter-widgets/controls",
      "_model_module_version": "1.5.0",
      "_model_name": "DescriptionStyleModel",
      "_view_count": null,
      "_view_module": "@jupyter-widgets/base",
      "_view_module_version": "1.2.0",
      "_view_name": "StyleView",
      "description_width": ""
     }
    },
    "6acdf9e8c1814ce189386b31c07f73e4": {
     "model_module": "@jupyter-widgets/controls",
     "model_module_version": "1.5.0",
     "model_name": "FloatProgressModel",
     "state": {
      "_dom_classes": [],
      "_model_module": "@jupyter-widgets/controls",
      "_model_module_version": "1.5.0",
      "_model_name": "FloatProgressModel",
      "_view_count": null,
      "_view_module": "@jupyter-widgets/controls",
      "_view_module_version": "1.5.0",
      "_view_name": "ProgressView",
      "bar_style": "success",
      "description": "",
      "description_tooltip": null,
      "layout": "IPY_MODEL_a43131299488426097e2d8be070511be",
      "max": 5000,
      "min": 0,
      "orientation": "horizontal",
      "style": "IPY_MODEL_ed501ede8b5e4abaacade9b970f51cc1",
      "value": 5000
     }
    },
    "77c2fa68e8b1425a94bb7f1b98a4498b": {
     "model_module": "@jupyter-widgets/controls",
     "model_module_version": "1.5.0",
     "model_name": "FloatProgressModel",
     "state": {
      "_dom_classes": [],
      "_model_module": "@jupyter-widgets/controls",
      "_model_module_version": "1.5.0",
      "_model_name": "FloatProgressModel",
      "_view_count": null,
      "_view_module": "@jupyter-widgets/controls",
      "_view_module_version": "1.5.0",
      "_view_name": "ProgressView",
      "bar_style": "success",
      "description": "",
      "description_tooltip": null,
      "layout": "IPY_MODEL_7b47f8dae589479f9458e49e588180ca",
      "max": 2,
      "min": 0,
      "orientation": "horizontal",
      "style": "IPY_MODEL_39a9112978b94ba5a4ba8116d639c6c3",
      "value": 2
     }
    },
    "7b47f8dae589479f9458e49e588180ca": {
     "model_module": "@jupyter-widgets/base",
     "model_module_version": "1.2.0",
     "model_name": "LayoutModel",
     "state": {
      "_model_module": "@jupyter-widgets/base",
      "_model_module_version": "1.2.0",
      "_model_name": "LayoutModel",
      "_view_count": null,
      "_view_module": "@jupyter-widgets/base",
      "_view_module_version": "1.2.0",
      "_view_name": "LayoutView",
      "align_content": null,
      "align_items": null,
      "align_self": null,
      "border": null,
      "bottom": null,
      "display": null,
      "flex": null,
      "flex_flow": null,
      "grid_area": null,
      "grid_auto_columns": null,
      "grid_auto_flow": null,
      "grid_auto_rows": null,
      "grid_column": null,
      "grid_gap": null,
      "grid_row": null,
      "grid_template_areas": null,
      "grid_template_columns": null,
      "grid_template_rows": null,
      "height": null,
      "justify_content": null,
      "justify_items": null,
      "left": null,
      "margin": null,
      "max_height": null,
      "max_width": null,
      "min_height": null,
      "min_width": null,
      "object_fit": null,
      "object_position": null,
      "order": null,
      "overflow": null,
      "overflow_x": null,
      "overflow_y": null,
      "padding": null,
      "right": null,
      "top": null,
      "visibility": null,
      "width": null
     }
    },
    "83b964116db444da99c0b4a2d9d3d554": {
     "model_module": "@jupyter-widgets/controls",
     "model_module_version": "1.5.0",
     "model_name": "DescriptionStyleModel",
     "state": {
      "_model_module": "@jupyter-widgets/controls",
      "_model_module_version": "1.5.0",
      "_model_name": "DescriptionStyleModel",
      "_view_count": null,
      "_view_module": "@jupyter-widgets/base",
      "_view_module_version": "1.2.0",
      "_view_name": "StyleView",
      "description_width": ""
     }
    },
    "8bb075fe93b544d38ba6894ef256a4c7": {
     "model_module": "@jupyter-widgets/base",
     "model_module_version": "1.2.0",
     "model_name": "LayoutModel",
     "state": {
      "_model_module": "@jupyter-widgets/base",
      "_model_module_version": "1.2.0",
      "_model_name": "LayoutModel",
      "_view_count": null,
      "_view_module": "@jupyter-widgets/base",
      "_view_module_version": "1.2.0",
      "_view_name": "LayoutView",
      "align_content": null,
      "align_items": null,
      "align_self": null,
      "border": null,
      "bottom": null,
      "display": null,
      "flex": null,
      "flex_flow": null,
      "grid_area": null,
      "grid_auto_columns": null,
      "grid_auto_flow": null,
      "grid_auto_rows": null,
      "grid_column": null,
      "grid_gap": null,
      "grid_row": null,
      "grid_template_areas": null,
      "grid_template_columns": null,
      "grid_template_rows": null,
      "height": null,
      "justify_content": null,
      "justify_items": null,
      "left": null,
      "margin": null,
      "max_height": null,
      "max_width": null,
      "min_height": null,
      "min_width": null,
      "object_fit": null,
      "object_position": null,
      "order": null,
      "overflow": null,
      "overflow_x": null,
      "overflow_y": null,
      "padding": null,
      "right": null,
      "top": null,
      "visibility": null,
      "width": null
     }
    },
    "8d41bd3d057740a5aa923efe0b4682d2": {
     "model_module": "@jupyter-widgets/controls",
     "model_module_version": "1.5.0",
     "model_name": "HTMLModel",
     "state": {
      "_dom_classes": [],
      "_model_module": "@jupyter-widgets/controls",
      "_model_module_version": "1.5.0",
      "_model_name": "HTMLModel",
      "_view_count": null,
      "_view_module": "@jupyter-widgets/controls",
      "_view_module_version": "1.5.0",
      "_view_name": "HTMLView",
      "description": "",
      "description_tooltip": null,
      "layout": "IPY_MODEL_a77f61189c92451c817333274080b401",
      "placeholder": "​",
      "style": "IPY_MODEL_b3d53dd2557f45578d2938552f2f14e1",
      "value": "100%"
     }
    },
    "90f5919c38814957abfc5c1121d97254": {
     "model_module": "@jupyter-widgets/base",
     "model_module_version": "1.2.0",
     "model_name": "LayoutModel",
     "state": {
      "_model_module": "@jupyter-widgets/base",
      "_model_module_version": "1.2.0",
      "_model_name": "LayoutModel",
      "_view_count": null,
      "_view_module": "@jupyter-widgets/base",
      "_view_module_version": "1.2.0",
      "_view_name": "LayoutView",
      "align_content": null,
      "align_items": null,
      "align_self": null,
      "border": null,
      "bottom": null,
      "display": null,
      "flex": null,
      "flex_flow": null,
      "grid_area": null,
      "grid_auto_columns": null,
      "grid_auto_flow": null,
      "grid_auto_rows": null,
      "grid_column": null,
      "grid_gap": null,
      "grid_row": null,
      "grid_template_areas": null,
      "grid_template_columns": null,
      "grid_template_rows": null,
      "height": null,
      "justify_content": null,
      "justify_items": null,
      "left": null,
      "margin": null,
      "max_height": null,
      "max_width": null,
      "min_height": null,
      "min_width": null,
      "object_fit": null,
      "object_position": null,
      "order": null,
      "overflow": null,
      "overflow_x": null,
      "overflow_y": null,
      "padding": null,
      "right": null,
      "top": null,
      "visibility": null,
      "width": null
     }
    },
    "921f0787cd9d40e6b3cdaa6987706947": {
     "model_module": "@jupyter-widgets/controls",
     "model_module_version": "1.5.0",
     "model_name": "HTMLModel",
     "state": {
      "_dom_classes": [],
      "_model_module": "@jupyter-widgets/controls",
      "_model_module_version": "1.5.0",
      "_model_name": "HTMLModel",
      "_view_count": null,
      "_view_module": "@jupyter-widgets/controls",
      "_view_module_version": "1.5.0",
      "_view_name": "HTMLView",
      "description": "",
      "description_tooltip": null,
      "layout": "IPY_MODEL_a4c3a911799b4d7c830aad81fe4e36ec",
      "placeholder": "​",
      "style": "IPY_MODEL_83b964116db444da99c0b4a2d9d3d554",
      "value": " 2/2 [00:00&lt;00:00, 38.16it/s]"
     }
    },
    "9483391d882646f086674eafc790f879": {
     "model_module": "@jupyter-widgets/controls",
     "model_module_version": "1.5.0",
     "model_name": "HTMLModel",
     "state": {
      "_dom_classes": [],
      "_model_module": "@jupyter-widgets/controls",
      "_model_module_version": "1.5.0",
      "_model_name": "HTMLModel",
      "_view_count": null,
      "_view_module": "@jupyter-widgets/controls",
      "_view_module_version": "1.5.0",
      "_view_name": "HTMLView",
      "description": "",
      "description_tooltip": null,
      "layout": "IPY_MODEL_e5b394df0a774a9b9025943af6e0f9ff",
      "placeholder": "​",
      "style": "IPY_MODEL_69e65c156fed4ec4b4ee05583634a2c3",
      "value": "100%"
     }
    },
    "9746105fcb1542d8ab93c2e2b5f01672": {
     "model_module": "@jupyter-widgets/base",
     "model_module_version": "1.2.0",
     "model_name": "LayoutModel",
     "state": {
      "_model_module": "@jupyter-widgets/base",
      "_model_module_version": "1.2.0",
      "_model_name": "LayoutModel",
      "_view_count": null,
      "_view_module": "@jupyter-widgets/base",
      "_view_module_version": "1.2.0",
      "_view_name": "LayoutView",
      "align_content": null,
      "align_items": null,
      "align_self": null,
      "border": null,
      "bottom": null,
      "display": null,
      "flex": null,
      "flex_flow": null,
      "grid_area": null,
      "grid_auto_columns": null,
      "grid_auto_flow": null,
      "grid_auto_rows": null,
      "grid_column": null,
      "grid_gap": null,
      "grid_row": null,
      "grid_template_areas": null,
      "grid_template_columns": null,
      "grid_template_rows": null,
      "height": null,
      "justify_content": null,
      "justify_items": null,
      "left": null,
      "margin": null,
      "max_height": null,
      "max_width": null,
      "min_height": null,
      "min_width": null,
      "object_fit": null,
      "object_position": null,
      "order": null,
      "overflow": null,
      "overflow_x": null,
      "overflow_y": null,
      "padding": null,
      "right": null,
      "top": null,
      "visibility": null,
      "width": null
     }
    },
    "a43131299488426097e2d8be070511be": {
     "model_module": "@jupyter-widgets/base",
     "model_module_version": "1.2.0",
     "model_name": "LayoutModel",
     "state": {
      "_model_module": "@jupyter-widgets/base",
      "_model_module_version": "1.2.0",
      "_model_name": "LayoutModel",
      "_view_count": null,
      "_view_module": "@jupyter-widgets/base",
      "_view_module_version": "1.2.0",
      "_view_name": "LayoutView",
      "align_content": null,
      "align_items": null,
      "align_self": null,
      "border": null,
      "bottom": null,
      "display": null,
      "flex": null,
      "flex_flow": null,
      "grid_area": null,
      "grid_auto_columns": null,
      "grid_auto_flow": null,
      "grid_auto_rows": null,
      "grid_column": null,
      "grid_gap": null,
      "grid_row": null,
      "grid_template_areas": null,
      "grid_template_columns": null,
      "grid_template_rows": null,
      "height": null,
      "justify_content": null,
      "justify_items": null,
      "left": null,
      "margin": null,
      "max_height": null,
      "max_width": null,
      "min_height": null,
      "min_width": null,
      "object_fit": null,
      "object_position": null,
      "order": null,
      "overflow": null,
      "overflow_x": null,
      "overflow_y": null,
      "padding": null,
      "right": null,
      "top": null,
      "visibility": null,
      "width": null
     }
    },
    "a4c3a911799b4d7c830aad81fe4e36ec": {
     "model_module": "@jupyter-widgets/base",
     "model_module_version": "1.2.0",
     "model_name": "LayoutModel",
     "state": {
      "_model_module": "@jupyter-widgets/base",
      "_model_module_version": "1.2.0",
      "_model_name": "LayoutModel",
      "_view_count": null,
      "_view_module": "@jupyter-widgets/base",
      "_view_module_version": "1.2.0",
      "_view_name": "LayoutView",
      "align_content": null,
      "align_items": null,
      "align_self": null,
      "border": null,
      "bottom": null,
      "display": null,
      "flex": null,
      "flex_flow": null,
      "grid_area": null,
      "grid_auto_columns": null,
      "grid_auto_flow": null,
      "grid_auto_rows": null,
      "grid_column": null,
      "grid_gap": null,
      "grid_row": null,
      "grid_template_areas": null,
      "grid_template_columns": null,
      "grid_template_rows": null,
      "height": null,
      "justify_content": null,
      "justify_items": null,
      "left": null,
      "margin": null,
      "max_height": null,
      "max_width": null,
      "min_height": null,
      "min_width": null,
      "object_fit": null,
      "object_position": null,
      "order": null,
      "overflow": null,
      "overflow_x": null,
      "overflow_y": null,
      "padding": null,
      "right": null,
      "top": null,
      "visibility": null,
      "width": null
     }
    },
    "a77f61189c92451c817333274080b401": {
     "model_module": "@jupyter-widgets/base",
     "model_module_version": "1.2.0",
     "model_name": "LayoutModel",
     "state": {
      "_model_module": "@jupyter-widgets/base",
      "_model_module_version": "1.2.0",
      "_model_name": "LayoutModel",
      "_view_count": null,
      "_view_module": "@jupyter-widgets/base",
      "_view_module_version": "1.2.0",
      "_view_name": "LayoutView",
      "align_content": null,
      "align_items": null,
      "align_self": null,
      "border": null,
      "bottom": null,
      "display": null,
      "flex": null,
      "flex_flow": null,
      "grid_area": null,
      "grid_auto_columns": null,
      "grid_auto_flow": null,
      "grid_auto_rows": null,
      "grid_column": null,
      "grid_gap": null,
      "grid_row": null,
      "grid_template_areas": null,
      "grid_template_columns": null,
      "grid_template_rows": null,
      "height": null,
      "justify_content": null,
      "justify_items": null,
      "left": null,
      "margin": null,
      "max_height": null,
      "max_width": null,
      "min_height": null,
      "min_width": null,
      "object_fit": null,
      "object_position": null,
      "order": null,
      "overflow": null,
      "overflow_x": null,
      "overflow_y": null,
      "padding": null,
      "right": null,
      "top": null,
      "visibility": null,
      "width": null
     }
    },
    "aec4ee222a174dd0ada9f5d7bcd16738": {
     "model_module": "@jupyter-widgets/base",
     "model_module_version": "1.2.0",
     "model_name": "LayoutModel",
     "state": {
      "_model_module": "@jupyter-widgets/base",
      "_model_module_version": "1.2.0",
      "_model_name": "LayoutModel",
      "_view_count": null,
      "_view_module": "@jupyter-widgets/base",
      "_view_module_version": "1.2.0",
      "_view_name": "LayoutView",
      "align_content": null,
      "align_items": null,
      "align_self": null,
      "border": null,
      "bottom": null,
      "display": null,
      "flex": null,
      "flex_flow": null,
      "grid_area": null,
      "grid_auto_columns": null,
      "grid_auto_flow": null,
      "grid_auto_rows": null,
      "grid_column": null,
      "grid_gap": null,
      "grid_row": null,
      "grid_template_areas": null,
      "grid_template_columns": null,
      "grid_template_rows": null,
      "height": null,
      "justify_content": null,
      "justify_items": null,
      "left": null,
      "margin": null,
      "max_height": null,
      "max_width": null,
      "min_height": null,
      "min_width": null,
      "object_fit": null,
      "object_position": null,
      "order": null,
      "overflow": null,
      "overflow_x": null,
      "overflow_y": null,
      "padding": null,
      "right": null,
      "top": null,
      "visibility": null,
      "width": null
     }
    },
    "b3d53dd2557f45578d2938552f2f14e1": {
     "model_module": "@jupyter-widgets/controls",
     "model_module_version": "1.5.0",
     "model_name": "DescriptionStyleModel",
     "state": {
      "_model_module": "@jupyter-widgets/controls",
      "_model_module_version": "1.5.0",
      "_model_name": "DescriptionStyleModel",
      "_view_count": null,
      "_view_module": "@jupyter-widgets/base",
      "_view_module_version": "1.2.0",
      "_view_name": "StyleView",
      "description_width": ""
     }
    },
    "b8e46ec3a21e4246a6a625cc9d294c1d": {
     "model_module": "@jupyter-widgets/controls",
     "model_module_version": "1.5.0",
     "model_name": "ProgressStyleModel",
     "state": {
      "_model_module": "@jupyter-widgets/controls",
      "_model_module_version": "1.5.0",
      "_model_name": "ProgressStyleModel",
      "_view_count": null,
      "_view_module": "@jupyter-widgets/base",
      "_view_module_version": "1.2.0",
      "_view_name": "StyleView",
      "bar_color": null,
      "description_width": ""
     }
    },
    "c175290110d744e9bc727aaa1bdadf45": {
     "model_module": "@jupyter-widgets/controls",
     "model_module_version": "1.5.0",
     "model_name": "DescriptionStyleModel",
     "state": {
      "_model_module": "@jupyter-widgets/controls",
      "_model_module_version": "1.5.0",
      "_model_name": "DescriptionStyleModel",
      "_view_count": null,
      "_view_module": "@jupyter-widgets/base",
      "_view_module_version": "1.2.0",
      "_view_name": "StyleView",
      "description_width": ""
     }
    },
    "c1c58457a6604b388b5e07aa06924c70": {
     "model_module": "@jupyter-widgets/controls",
     "model_module_version": "1.5.0",
     "model_name": "FloatProgressModel",
     "state": {
      "_dom_classes": [],
      "_model_module": "@jupyter-widgets/controls",
      "_model_module_version": "1.5.0",
      "_model_name": "FloatProgressModel",
      "_view_count": null,
      "_view_module": "@jupyter-widgets/controls",
      "_view_module_version": "1.5.0",
      "_view_name": "ProgressView",
      "bar_style": "success",
      "description": "",
      "description_tooltip": null,
      "layout": "IPY_MODEL_fa10c1c78b394c6aa8b38b09cae6fc24",
      "max": 3,
      "min": 0,
      "orientation": "horizontal",
      "style": "IPY_MODEL_49460a2c6a4141a89e0f2163ef6d498b",
      "value": 3
     }
    },
    "c61091444f374d1e8dda1ed2a662cfb2": {
     "model_module": "@jupyter-widgets/base",
     "model_module_version": "1.2.0",
     "model_name": "LayoutModel",
     "state": {
      "_model_module": "@jupyter-widgets/base",
      "_model_module_version": "1.2.0",
      "_model_name": "LayoutModel",
      "_view_count": null,
      "_view_module": "@jupyter-widgets/base",
      "_view_module_version": "1.2.0",
      "_view_name": "LayoutView",
      "align_content": null,
      "align_items": null,
      "align_self": null,
      "border": null,
      "bottom": null,
      "display": null,
      "flex": null,
      "flex_flow": null,
      "grid_area": null,
      "grid_auto_columns": null,
      "grid_auto_flow": null,
      "grid_auto_rows": null,
      "grid_column": null,
      "grid_gap": null,
      "grid_row": null,
      "grid_template_areas": null,
      "grid_template_columns": null,
      "grid_template_rows": null,
      "height": null,
      "justify_content": null,
      "justify_items": null,
      "left": null,
      "margin": null,
      "max_height": null,
      "max_width": null,
      "min_height": null,
      "min_width": null,
      "object_fit": null,
      "object_position": null,
      "order": null,
      "overflow": null,
      "overflow_x": null,
      "overflow_y": null,
      "padding": null,
      "right": null,
      "top": null,
      "visibility": null,
      "width": null
     }
    },
    "c724b106a35f49a38875e712642c7a65": {
     "model_module": "@jupyter-widgets/base",
     "model_module_version": "1.2.0",
     "model_name": "LayoutModel",
     "state": {
      "_model_module": "@jupyter-widgets/base",
      "_model_module_version": "1.2.0",
      "_model_name": "LayoutModel",
      "_view_count": null,
      "_view_module": "@jupyter-widgets/base",
      "_view_module_version": "1.2.0",
      "_view_name": "LayoutView",
      "align_content": null,
      "align_items": null,
      "align_self": null,
      "border": null,
      "bottom": null,
      "display": null,
      "flex": null,
      "flex_flow": null,
      "grid_area": null,
      "grid_auto_columns": null,
      "grid_auto_flow": null,
      "grid_auto_rows": null,
      "grid_column": null,
      "grid_gap": null,
      "grid_row": null,
      "grid_template_areas": null,
      "grid_template_columns": null,
      "grid_template_rows": null,
      "height": null,
      "justify_content": null,
      "justify_items": null,
      "left": null,
      "margin": null,
      "max_height": null,
      "max_width": null,
      "min_height": null,
      "min_width": null,
      "object_fit": null,
      "object_position": null,
      "order": null,
      "overflow": null,
      "overflow_x": null,
      "overflow_y": null,
      "padding": null,
      "right": null,
      "top": null,
      "visibility": null,
      "width": null
     }
    },
    "d1ef62aba4ae43f3862d5e84e804d637": {
     "model_module": "@jupyter-widgets/controls",
     "model_module_version": "1.5.0",
     "model_name": "HTMLModel",
     "state": {
      "_dom_classes": [],
      "_model_module": "@jupyter-widgets/controls",
      "_model_module_version": "1.5.0",
      "_model_name": "HTMLModel",
      "_view_count": null,
      "_view_module": "@jupyter-widgets/controls",
      "_view_module_version": "1.5.0",
      "_view_name": "HTMLView",
      "description": "",
      "description_tooltip": null,
      "layout": "IPY_MODEL_49e518c3822d4275bcd8d670c626148a",
      "placeholder": "​",
      "style": "IPY_MODEL_f1a60843d7474f66932da36483705618",
      "value": " 20000/20000 [00:11&lt;00:00, 3868.08ex/s]"
     }
    },
    "d5fe3b83b8754c1d8fafec2969dabfc5": {
     "model_module": "@jupyter-widgets/controls",
     "model_module_version": "1.5.0",
     "model_name": "FloatProgressModel",
     "state": {
      "_dom_classes": [],
      "_model_module": "@jupyter-widgets/controls",
      "_model_module_version": "1.5.0",
      "_model_name": "FloatProgressModel",
      "_view_count": null,
      "_view_module": "@jupyter-widgets/controls",
      "_view_module_version": "1.5.0",
      "_view_name": "ProgressView",
      "bar_style": "success",
      "description": "",
      "description_tooltip": null,
      "layout": "IPY_MODEL_350d8510937c44ae879c7ebea65759c1",
      "max": 25000,
      "min": 0,
      "orientation": "horizontal",
      "style": "IPY_MODEL_b8e46ec3a21e4246a6a625cc9d294c1d",
      "value": 25000
     }
    },
    "d84f64882c4e491abb621db39d3d1280": {
     "model_module": "@jupyter-widgets/controls",
     "model_module_version": "1.5.0",
     "model_name": "HTMLModel",
     "state": {
      "_dom_classes": [],
      "_model_module": "@jupyter-widgets/controls",
      "_model_module_version": "1.5.0",
      "_model_name": "HTMLModel",
      "_view_count": null,
      "_view_module": "@jupyter-widgets/controls",
      "_view_module_version": "1.5.0",
      "_view_name": "HTMLView",
      "description": "",
      "description_tooltip": null,
      "layout": "IPY_MODEL_90f5919c38814957abfc5c1121d97254",
      "placeholder": "​",
      "style": "IPY_MODEL_1a1bd86ab9104dd79e9b14465d831046",
      "value": "100%"
     }
    },
    "d93753a12e0b4805b34c9df52e8e6425": {
     "model_module": "@jupyter-widgets/base",
     "model_module_version": "1.2.0",
     "model_name": "LayoutModel",
     "state": {
      "_model_module": "@jupyter-widgets/base",
      "_model_module_version": "1.2.0",
      "_model_name": "LayoutModel",
      "_view_count": null,
      "_view_module": "@jupyter-widgets/base",
      "_view_module_version": "1.2.0",
      "_view_name": "LayoutView",
      "align_content": null,
      "align_items": null,
      "align_self": null,
      "border": null,
      "bottom": null,
      "display": null,
      "flex": null,
      "flex_flow": null,
      "grid_area": null,
      "grid_auto_columns": null,
      "grid_auto_flow": null,
      "grid_auto_rows": null,
      "grid_column": null,
      "grid_gap": null,
      "grid_row": null,
      "grid_template_areas": null,
      "grid_template_columns": null,
      "grid_template_rows": null,
      "height": null,
      "justify_content": null,
      "justify_items": null,
      "left": null,
      "margin": null,
      "max_height": null,
      "max_width": null,
      "min_height": null,
      "min_width": null,
      "object_fit": null,
      "object_position": null,
      "order": null,
      "overflow": null,
      "overflow_x": null,
      "overflow_y": null,
      "padding": null,
      "right": null,
      "top": null,
      "visibility": null,
      "width": null
     }
    },
    "da7bffc049174a259f8a87fe12e8f368": {
     "model_module": "@jupyter-widgets/base",
     "model_module_version": "1.2.0",
     "model_name": "LayoutModel",
     "state": {
      "_model_module": "@jupyter-widgets/base",
      "_model_module_version": "1.2.0",
      "_model_name": "LayoutModel",
      "_view_count": null,
      "_view_module": "@jupyter-widgets/base",
      "_view_module_version": "1.2.0",
      "_view_name": "LayoutView",
      "align_content": null,
      "align_items": null,
      "align_self": null,
      "border": null,
      "bottom": null,
      "display": null,
      "flex": null,
      "flex_flow": null,
      "grid_area": null,
      "grid_auto_columns": null,
      "grid_auto_flow": null,
      "grid_auto_rows": null,
      "grid_column": null,
      "grid_gap": null,
      "grid_row": null,
      "grid_template_areas": null,
      "grid_template_columns": null,
      "grid_template_rows": null,
      "height": null,
      "justify_content": null,
      "justify_items": null,
      "left": null,
      "margin": null,
      "max_height": null,
      "max_width": null,
      "min_height": null,
      "min_width": null,
      "object_fit": null,
      "object_position": null,
      "order": null,
      "overflow": null,
      "overflow_x": null,
      "overflow_y": null,
      "padding": null,
      "right": null,
      "top": null,
      "visibility": null,
      "width": null
     }
    },
    "dc85afaa496b4a2a8eac00ae0d8e0b31": {
     "model_module": "@jupyter-widgets/controls",
     "model_module_version": "1.5.0",
     "model_name": "HTMLModel",
     "state": {
      "_dom_classes": [],
      "_model_module": "@jupyter-widgets/controls",
      "_model_module_version": "1.5.0",
      "_model_name": "HTMLModel",
      "_view_count": null,
      "_view_module": "@jupyter-widgets/controls",
      "_view_module_version": "1.5.0",
      "_view_name": "HTMLView",
      "description": "",
      "description_tooltip": null,
      "layout": "IPY_MODEL_2a333bf6576d4e8fb405b12bc844affc",
      "placeholder": "​",
      "style": "IPY_MODEL_fd6312f433ac4d2aa08c9f45e7fe4170",
      "value": " 25000/25000 [00:05&lt;00:00, 4573.06ex/s]"
     }
    },
    "df2f415d8269410981253a2fe63c0f11": {
     "model_module": "@jupyter-widgets/controls",
     "model_module_version": "1.5.0",
     "model_name": "HTMLModel",
     "state": {
      "_dom_classes": [],
      "_model_module": "@jupyter-widgets/controls",
      "_model_module_version": "1.5.0",
      "_model_name": "HTMLModel",
      "_view_count": null,
      "_view_module": "@jupyter-widgets/controls",
      "_view_module_version": "1.5.0",
      "_view_name": "HTMLView",
      "description": "",
      "description_tooltip": null,
      "layout": "IPY_MODEL_c724b106a35f49a38875e712642c7a65",
      "placeholder": "​",
      "style": "IPY_MODEL_072dc06efb484635804f7625fc69bd25",
      "value": "100%"
     }
    },
    "e5b394df0a774a9b9025943af6e0f9ff": {
     "model_module": "@jupyter-widgets/base",
     "model_module_version": "1.2.0",
     "model_name": "LayoutModel",
     "state": {
      "_model_module": "@jupyter-widgets/base",
      "_model_module_version": "1.2.0",
      "_model_name": "LayoutModel",
      "_view_count": null,
      "_view_module": "@jupyter-widgets/base",
      "_view_module_version": "1.2.0",
      "_view_name": "LayoutView",
      "align_content": null,
      "align_items": null,
      "align_self": null,
      "border": null,
      "bottom": null,
      "display": null,
      "flex": null,
      "flex_flow": null,
      "grid_area": null,
      "grid_auto_columns": null,
      "grid_auto_flow": null,
      "grid_auto_rows": null,
      "grid_column": null,
      "grid_gap": null,
      "grid_row": null,
      "grid_template_areas": null,
      "grid_template_columns": null,
      "grid_template_rows": null,
      "height": null,
      "justify_content": null,
      "justify_items": null,
      "left": null,
      "margin": null,
      "max_height": null,
      "max_width": null,
      "min_height": null,
      "min_width": null,
      "object_fit": null,
      "object_position": null,
      "order": null,
      "overflow": null,
      "overflow_x": null,
      "overflow_y": null,
      "padding": null,
      "right": null,
      "top": null,
      "visibility": null,
      "width": null
     }
    },
    "e9f7b722ea3648f9aace908b8d2e1158": {
     "model_module": "@jupyter-widgets/controls",
     "model_module_version": "1.5.0",
     "model_name": "HBoxModel",
     "state": {
      "_dom_classes": [],
      "_model_module": "@jupyter-widgets/controls",
      "_model_module_version": "1.5.0",
      "_model_name": "HBoxModel",
      "_view_count": null,
      "_view_module": "@jupyter-widgets/controls",
      "_view_module_version": "1.5.0",
      "_view_name": "HBoxView",
      "box_style": "",
      "children": [
       "IPY_MODEL_8d41bd3d057740a5aa923efe0b4682d2",
       "IPY_MODEL_6acdf9e8c1814ce189386b31c07f73e4",
       "IPY_MODEL_454148e2f185432d9a59d259713626e6"
      ],
      "layout": "IPY_MODEL_61c68d2977184922960ddb6bc9990e2e"
     }
    },
    "ebc72ccd640e422380b4ffbe897d3213": {
     "model_module": "@jupyter-widgets/controls",
     "model_module_version": "1.5.0",
     "model_name": "HTMLModel",
     "state": {
      "_dom_classes": [],
      "_model_module": "@jupyter-widgets/controls",
      "_model_module_version": "1.5.0",
      "_model_name": "HTMLModel",
      "_view_count": null,
      "_view_module": "@jupyter-widgets/controls",
      "_view_module_version": "1.5.0",
      "_view_name": "HTMLView",
      "description": "",
      "description_tooltip": null,
      "layout": "IPY_MODEL_d93753a12e0b4805b34c9df52e8e6425",
      "placeholder": "​",
      "style": "IPY_MODEL_322c751d8ad142d38c1427858730e1f8",
      "value": " 3/3 [00:00&lt;00:00, 66.62it/s]"
     }
    },
    "ed501ede8b5e4abaacade9b970f51cc1": {
     "model_module": "@jupyter-widgets/controls",
     "model_module_version": "1.5.0",
     "model_name": "ProgressStyleModel",
     "state": {
      "_model_module": "@jupyter-widgets/controls",
      "_model_module_version": "1.5.0",
      "_model_name": "ProgressStyleModel",
      "_view_count": null,
      "_view_module": "@jupyter-widgets/base",
      "_view_module_version": "1.2.0",
      "_view_name": "StyleView",
      "bar_color": null,
      "description_width": ""
     }
    },
    "f1a60843d7474f66932da36483705618": {
     "model_module": "@jupyter-widgets/controls",
     "model_module_version": "1.5.0",
     "model_name": "DescriptionStyleModel",
     "state": {
      "_model_module": "@jupyter-widgets/controls",
      "_model_module_version": "1.5.0",
      "_model_name": "DescriptionStyleModel",
      "_view_count": null,
      "_view_module": "@jupyter-widgets/base",
      "_view_module_version": "1.2.0",
      "_view_name": "StyleView",
      "description_width": ""
     }
    },
    "f27d6d1a14fa45f18f7643d3e5e5e3d2": {
     "model_module": "@jupyter-widgets/controls",
     "model_module_version": "1.5.0",
     "model_name": "HBoxModel",
     "state": {
      "_dom_classes": [],
      "_model_module": "@jupyter-widgets/controls",
      "_model_module_version": "1.5.0",
      "_model_name": "HBoxModel",
      "_view_count": null,
      "_view_module": "@jupyter-widgets/controls",
      "_view_module_version": "1.5.0",
      "_view_name": "HBoxView",
      "box_style": "",
      "children": [
       "IPY_MODEL_df2f415d8269410981253a2fe63c0f11",
       "IPY_MODEL_59ea0aabece445aeacc116e1fb16759c",
       "IPY_MODEL_d1ef62aba4ae43f3862d5e84e804d637"
      ],
      "layout": "IPY_MODEL_aec4ee222a174dd0ada9f5d7bcd16738"
     }
    },
    "f2fc4d7bd6454f0f89646f61446f06fe": {
     "model_module": "@jupyter-widgets/base",
     "model_module_version": "1.2.0",
     "model_name": "LayoutModel",
     "state": {
      "_model_module": "@jupyter-widgets/base",
      "_model_module_version": "1.2.0",
      "_model_name": "LayoutModel",
      "_view_count": null,
      "_view_module": "@jupyter-widgets/base",
      "_view_module_version": "1.2.0",
      "_view_name": "LayoutView",
      "align_content": null,
      "align_items": null,
      "align_self": null,
      "border": null,
      "bottom": null,
      "display": null,
      "flex": null,
      "flex_flow": null,
      "grid_area": null,
      "grid_auto_columns": null,
      "grid_auto_flow": null,
      "grid_auto_rows": null,
      "grid_column": null,
      "grid_gap": null,
      "grid_row": null,
      "grid_template_areas": null,
      "grid_template_columns": null,
      "grid_template_rows": null,
      "height": null,
      "justify_content": null,
      "justify_items": null,
      "left": null,
      "margin": null,
      "max_height": null,
      "max_width": null,
      "min_height": null,
      "min_width": null,
      "object_fit": null,
      "object_position": null,
      "order": null,
      "overflow": null,
      "overflow_x": null,
      "overflow_y": null,
      "padding": null,
      "right": null,
      "top": null,
      "visibility": null,
      "width": null
     }
    },
    "f6b1a93ead844654a9e2ca8662992579": {
     "model_module": "@jupyter-widgets/controls",
     "model_module_version": "1.5.0",
     "model_name": "ProgressStyleModel",
     "state": {
      "_model_module": "@jupyter-widgets/controls",
      "_model_module_version": "1.5.0",
      "_model_name": "ProgressStyleModel",
      "_view_count": null,
      "_view_module": "@jupyter-widgets/base",
      "_view_module_version": "1.2.0",
      "_view_name": "StyleView",
      "bar_color": null,
      "description_width": ""
     }
    },
    "fa10c1c78b394c6aa8b38b09cae6fc24": {
     "model_module": "@jupyter-widgets/base",
     "model_module_version": "1.2.0",
     "model_name": "LayoutModel",
     "state": {
      "_model_module": "@jupyter-widgets/base",
      "_model_module_version": "1.2.0",
      "_model_name": "LayoutModel",
      "_view_count": null,
      "_view_module": "@jupyter-widgets/base",
      "_view_module_version": "1.2.0",
      "_view_name": "LayoutView",
      "align_content": null,
      "align_items": null,
      "align_self": null,
      "border": null,
      "bottom": null,
      "display": null,
      "flex": null,
      "flex_flow": null,
      "grid_area": null,
      "grid_auto_columns": null,
      "grid_auto_flow": null,
      "grid_auto_rows": null,
      "grid_column": null,
      "grid_gap": null,
      "grid_row": null,
      "grid_template_areas": null,
      "grid_template_columns": null,
      "grid_template_rows": null,
      "height": null,
      "justify_content": null,
      "justify_items": null,
      "left": null,
      "margin": null,
      "max_height": null,
      "max_width": null,
      "min_height": null,
      "min_width": null,
      "object_fit": null,
      "object_position": null,
      "order": null,
      "overflow": null,
      "overflow_x": null,
      "overflow_y": null,
      "padding": null,
      "right": null,
      "top": null,
      "visibility": null,
      "width": null
     }
    },
    "fd6312f433ac4d2aa08c9f45e7fe4170": {
     "model_module": "@jupyter-widgets/controls",
     "model_module_version": "1.5.0",
     "model_name": "DescriptionStyleModel",
     "state": {
      "_model_module": "@jupyter-widgets/controls",
      "_model_module_version": "1.5.0",
      "_model_name": "DescriptionStyleModel",
      "_view_count": null,
      "_view_module": "@jupyter-widgets/base",
      "_view_module_version": "1.2.0",
      "_view_name": "StyleView",
      "description_width": ""
     }
    }
   }
  }
 },
 "nbformat": 4,
 "nbformat_minor": 4
}
