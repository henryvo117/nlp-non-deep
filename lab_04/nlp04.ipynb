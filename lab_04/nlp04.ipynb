{
  "cells": [
    {
      "cell_type": "markdown",
      "metadata": {
        "id": "1DlzvXLQuoTY"
      },
      "source": [
        "# Sentiment classifier with LSTM\n",
        "\n",
        "In this notebook, we will implement a simple sentiment classifier using an LSTM. Follow the notebook, complete the missing part, answer the questions and apply the asked modifications.\n",
        "\n"
      ]
    },
    {
      "cell_type": "code",
      "source": [
        "!pip install datasets"
      ],
      "metadata": {
        "colab": {
          "base_uri": "https://localhost:8080/"
        },
        "id": "gdR_YxjXqn8J",
        "outputId": "2afe04b2-4488-4b8a-e655-506afa0cf939"
      },
      "execution_count": 1,
      "outputs": [
        {
          "output_type": "stream",
          "name": "stdout",
          "text": [
            "Looking in indexes: https://pypi.org/simple, https://us-python.pkg.dev/colab-wheels/public/simple/\n",
            "Requirement already satisfied: datasets in /usr/local/lib/python3.7/dist-packages (2.5.2)\n",
            "Requirement already satisfied: numpy>=1.17 in /usr/local/lib/python3.7/dist-packages (from datasets) (1.21.6)\n",
            "Requirement already satisfied: huggingface-hub<1.0.0,>=0.2.0 in /usr/local/lib/python3.7/dist-packages (from datasets) (0.10.0)\n",
            "Requirement already satisfied: pandas in /usr/local/lib/python3.7/dist-packages (from datasets) (1.3.5)\n",
            "Requirement already satisfied: tqdm>=4.62.1 in /usr/local/lib/python3.7/dist-packages (from datasets) (4.64.1)\n",
            "Requirement already satisfied: pyarrow>=6.0.0 in /usr/local/lib/python3.7/dist-packages (from datasets) (6.0.1)\n",
            "Requirement already satisfied: xxhash in /usr/local/lib/python3.7/dist-packages (from datasets) (3.0.0)\n",
            "Requirement already satisfied: multiprocess in /usr/local/lib/python3.7/dist-packages (from datasets) (0.70.13)\n",
            "Requirement already satisfied: responses<0.19 in /usr/local/lib/python3.7/dist-packages (from datasets) (0.18.0)\n",
            "Requirement already satisfied: packaging in /usr/local/lib/python3.7/dist-packages (from datasets) (21.3)\n",
            "Requirement already satisfied: importlib-metadata in /usr/local/lib/python3.7/dist-packages (from datasets) (5.0.0)\n",
            "Requirement already satisfied: aiohttp in /usr/local/lib/python3.7/dist-packages (from datasets) (3.8.3)\n",
            "Requirement already satisfied: dill<0.3.6 in /usr/local/lib/python3.7/dist-packages (from datasets) (0.3.5.1)\n",
            "Requirement already satisfied: requests>=2.19.0 in /usr/local/lib/python3.7/dist-packages (from datasets) (2.23.0)\n",
            "Requirement already satisfied: fsspec[http]>=2021.11.1 in /usr/local/lib/python3.7/dist-packages (from datasets) (2022.8.2)\n",
            "Requirement already satisfied: async-timeout<5.0,>=4.0.0a3 in /usr/local/lib/python3.7/dist-packages (from aiohttp->datasets) (4.0.2)\n",
            "Requirement already satisfied: aiosignal>=1.1.2 in /usr/local/lib/python3.7/dist-packages (from aiohttp->datasets) (1.2.0)\n",
            "Requirement already satisfied: multidict<7.0,>=4.5 in /usr/local/lib/python3.7/dist-packages (from aiohttp->datasets) (6.0.2)\n",
            "Requirement already satisfied: yarl<2.0,>=1.0 in /usr/local/lib/python3.7/dist-packages (from aiohttp->datasets) (1.8.1)\n",
            "Requirement already satisfied: asynctest==0.13.0 in /usr/local/lib/python3.7/dist-packages (from aiohttp->datasets) (0.13.0)\n",
            "Requirement already satisfied: charset-normalizer<3.0,>=2.0 in /usr/local/lib/python3.7/dist-packages (from aiohttp->datasets) (2.1.1)\n",
            "Requirement already satisfied: typing-extensions>=3.7.4 in /usr/local/lib/python3.7/dist-packages (from aiohttp->datasets) (4.1.1)\n",
            "Requirement already satisfied: attrs>=17.3.0 in /usr/local/lib/python3.7/dist-packages (from aiohttp->datasets) (22.1.0)\n",
            "Requirement already satisfied: frozenlist>=1.1.1 in /usr/local/lib/python3.7/dist-packages (from aiohttp->datasets) (1.3.1)\n",
            "Requirement already satisfied: pyyaml>=5.1 in /usr/local/lib/python3.7/dist-packages (from huggingface-hub<1.0.0,>=0.2.0->datasets) (6.0)\n",
            "Requirement already satisfied: filelock in /usr/local/lib/python3.7/dist-packages (from huggingface-hub<1.0.0,>=0.2.0->datasets) (3.8.0)\n",
            "Requirement already satisfied: pyparsing!=3.0.5,>=2.0.2 in /usr/local/lib/python3.7/dist-packages (from packaging->datasets) (3.0.9)\n",
            "Requirement already satisfied: certifi>=2017.4.17 in /usr/local/lib/python3.7/dist-packages (from requests>=2.19.0->datasets) (2022.9.24)\n",
            "Requirement already satisfied: chardet<4,>=3.0.2 in /usr/local/lib/python3.7/dist-packages (from requests>=2.19.0->datasets) (3.0.4)\n",
            "Requirement already satisfied: idna<3,>=2.5 in /usr/local/lib/python3.7/dist-packages (from requests>=2.19.0->datasets) (2.10)\n",
            "Requirement already satisfied: urllib3!=1.25.0,!=1.25.1,<1.26,>=1.21.1 in /usr/local/lib/python3.7/dist-packages (from requests>=2.19.0->datasets) (1.25.11)\n",
            "Requirement already satisfied: zipp>=0.5 in /usr/local/lib/python3.7/dist-packages (from importlib-metadata->datasets) (3.8.1)\n",
            "Requirement already satisfied: python-dateutil>=2.7.3 in /usr/local/lib/python3.7/dist-packages (from pandas->datasets) (2.8.2)\n",
            "Requirement already satisfied: pytz>=2017.3 in /usr/local/lib/python3.7/dist-packages (from pandas->datasets) (2022.4)\n",
            "Requirement already satisfied: six>=1.5 in /usr/local/lib/python3.7/dist-packages (from python-dateutil>=2.7.3->pandas->datasets) (1.15.0)\n"
          ]
        }
      ]
    },
    {
      "cell_type": "code",
      "execution_count": 2,
      "metadata": {
        "id": "g_v62rH_W9J1"
      },
      "outputs": [],
      "source": [
        "from collections import defaultdict\n",
        "from copy import deepcopy\n",
        "import re\n",
        "from typing import Callable, List, Tuple\n",
        "\n",
        "from datasets import load_dataset\n",
        "import matplotlib.pyplot as plt\n",
        "import numpy as np\n",
        "import pandas as pd\n",
        "import torch\n",
        "from torch import nn\n",
        "import torch.nn.functional as F\n",
        "from tqdm.auto import tqdm\n",
        "from datetime import datetime\n",
        "from sklearn.utils import shuffle"
      ]
    },
    {
      "cell_type": "markdown",
      "metadata": {
        "id": "FzAHrPfReDqu"
      },
      "source": [
        "## Downloading the dataset\n",
        "\n",
        "Using the datasets library, we load the imdb dataset."
      ]
    },
    {
      "cell_type": "code",
      "execution_count": 3,
      "metadata": {
        "colab": {
          "base_uri": "https://localhost:8080/",
          "height": 87,
          "referenced_widgets": [
            "7d09260cd0a44d0083dbbbeb4318787b",
            "28f4b281c3624e2e8ea00bf5867770f0",
            "a9e327b00898435788e0a5d6425abb9b",
            "98796adccfe749748486f811bad63bab",
            "1b4f1ff333004b0c9391009db05ca82d",
            "0b02a0c469cb4d48b72f250ee33f2a72",
            "811c795028414dc48868d64d9e0fbe99",
            "5ac80cd153194513b1f54977d4d01b3c",
            "4222ecf762144e7891616da841f76569",
            "108e0287b26c4639b4d7f3025f45b7de",
            "62aa1c8b72f04fe2b9f2094e0e5f926e"
          ]
        },
        "id": "PBb40sTOXYz-",
        "outputId": "87cc2057-1d3b-4754-d999-114404970ed7"
      },
      "outputs": [
        {
          "output_type": "stream",
          "name": "stderr",
          "text": [
            "WARNING:datasets.builder:Found cached dataset imdb (/root/.cache/huggingface/datasets/imdb/plain_text/1.0.0/2fdd8b9bcadd6e7055e742a706876ba43f19faee861df134affd7a3f60fc38a1)\n"
          ]
        },
        {
          "output_type": "display_data",
          "data": {
            "text/plain": [
              "  0%|          | 0/3 [00:00<?, ?it/s]"
            ],
            "application/vnd.jupyter.widget-view+json": {
              "version_major": 2,
              "version_minor": 0,
              "model_id": "7d09260cd0a44d0083dbbbeb4318787b"
            }
          },
          "metadata": {}
        }
      ],
      "source": [
        "dataset = load_dataset(\"imdb\")"
      ]
    },
    {
      "cell_type": "code",
      "execution_count": 4,
      "metadata": {
        "colab": {
          "base_uri": "https://localhost:8080/"
        },
        "id": "uDq8WhU3XlOR",
        "outputId": "cc67a380-2e2d-438b-8f94-a343ad5853b3"
      },
      "outputs": [
        {
          "output_type": "execute_result",
          "data": {
            "text/plain": [
              "DatasetDict({\n",
              "    train: Dataset({\n",
              "        features: ['text', 'label'],\n",
              "        num_rows: 25000\n",
              "    })\n",
              "    test: Dataset({\n",
              "        features: ['text', 'label'],\n",
              "        num_rows: 25000\n",
              "    })\n",
              "    unsupervised: Dataset({\n",
              "        features: ['text', 'label'],\n",
              "        num_rows: 50000\n",
              "    })\n",
              "})"
            ]
          },
          "metadata": {},
          "execution_count": 4
        }
      ],
      "source": [
        "dataset"
      ]
    },
    {
      "cell_type": "code",
      "execution_count": 5,
      "metadata": {
        "colab": {
          "base_uri": "https://localhost:8080/"
        },
        "id": "GgAr8N9CP-WO",
        "outputId": "a9db3eb3-039a-4227-8e34-4e1ea7a304e7"
      },
      "outputs": [
        {
          "output_type": "execute_result",
          "data": {
            "text/plain": [
              "Dataset({\n",
              "    features: ['text', 'label'],\n",
              "    num_rows: 50000\n",
              "})"
            ]
          },
          "metadata": {},
          "execution_count": 5
        }
      ],
      "source": [
        "# We do not need the \"unsupervised\" split.\n",
        "dataset.pop(\"unsupervised\")"
      ]
    },
    {
      "cell_type": "code",
      "execution_count": 6,
      "metadata": {
        "colab": {
          "base_uri": "https://localhost:8080/"
        },
        "id": "E9nA-xGTP-WO",
        "outputId": "b3659b74-1bfe-491d-c1a4-47c66150cea2"
      },
      "outputs": [
        {
          "output_type": "execute_result",
          "data": {
            "text/plain": [
              "DatasetDict({\n",
              "    train: Dataset({\n",
              "        features: ['text', 'label'],\n",
              "        num_rows: 25000\n",
              "    })\n",
              "    test: Dataset({\n",
              "        features: ['text', 'label'],\n",
              "        num_rows: 25000\n",
              "    })\n",
              "})"
            ]
          },
          "metadata": {},
          "execution_count": 6
        }
      ],
      "source": [
        "dataset"
      ]
    },
    {
      "cell_type": "code",
      "execution_count": 7,
      "metadata": {
        "colab": {
          "base_uri": "https://localhost:8080/"
        },
        "id": "IXssc1MjX5v2",
        "outputId": "a4d15371-cef3-4dbc-978f-f2f240008fde"
      },
      "outputs": [
        {
          "output_type": "execute_result",
          "data": {
            "text/plain": [
              "{'text': ['I rented I AM CURIOUS-YELLOW from my video store because of all the controversy that surrounded it when it was first released in 1967. I also heard that at first it was seized by U.S. customs if it ever tried to enter this country, therefore being a fan of films considered \"controversial\" I really had to see this for myself.<br /><br />The plot is centered around a young Swedish drama student named Lena who wants to learn everything she can about life. In particular she wants to focus her attentions to making some sort of documentary on what the average Swede thought about certain political issues such as the Vietnam War and race issues in the United States. In between asking politicians and ordinary denizens of Stockholm about their opinions on politics, she has sex with her drama teacher, classmates, and married men.<br /><br />What kills me about I AM CURIOUS-YELLOW is that 40 years ago, this was considered pornographic. Really, the sex and nudity scenes are few and far between, even then it\\'s not shot like some cheaply made porno. While my countrymen mind find it shocking, in reality sex and nudity are a major staple in Swedish cinema. Even Ingmar Bergman, arguably their answer to good old boy John Ford, had sex scenes in his films.<br /><br />I do commend the filmmakers for the fact that any sex shown in the film is shown for artistic purposes rather than just to shock people and make money to be shown in pornographic theaters in America. I AM CURIOUS-YELLOW is a good film for anyone wanting to study the meat and potatoes (no pun intended) of Swedish cinema. But really, this film doesn\\'t have much of a plot.',\n",
              "  '\"I Am Curious: Yellow\" is a risible and pretentious steaming pile. It doesn\\'t matter what one\\'s political views are because this film can hardly be taken seriously on any level. As for the claim that frontal male nudity is an automatic NC-17, that isn\\'t true. I\\'ve seen R-rated films with male nudity. Granted, they only offer some fleeting views, but where are the R-rated films with gaping vulvas and flapping labia? Nowhere, because they don\\'t exist. The same goes for those crappy cable shows: schlongs swinging in the breeze but not a clitoris in sight. And those pretentious indie movies like The Brown Bunny, in which we\\'re treated to the site of Vincent Gallo\\'s throbbing johnson, but not a trace of pink visible on Chloe Sevigny. Before crying (or implying) \"double-standard\" in matters of nudity, the mentally obtuse should take into account one unavoidably obvious anatomical difference between men and women: there are no genitals on display when actresses appears nude, and the same cannot be said for a man. In fact, you generally won\\'t see female genitals in an American film in anything short of porn or explicit erotica. This alleged double-standard is less a double standard than an admittedly depressing ability to come to terms culturally with the insides of women\\'s bodies.'],\n",
              " 'label': [0, 0]}"
            ]
          },
          "metadata": {},
          "execution_count": 7
        }
      ],
      "source": [
        "dataset[\"train\"][:2]"
      ]
    },
    {
      "cell_type": "markdown",
      "metadata": {
        "id": "5UoMzhBOeGxe"
      },
      "source": [
        "## Pretreatment **(1 point)**\n",
        "\n",
        "Code the `pretreatment` function which clean the input text. Look at the dataset and deduce which treatment is needed."
      ]
    },
    {
      "cell_type": "code",
      "execution_count": 8,
      "metadata": {
        "id": "Cw3lht4AZHQB"
      },
      "outputs": [],
      "source": [
        "#Pretreament process:\n",
        "#Remove all HTML elements\n",
        "#Remove all \"\\\" elements\n",
        "import re\n",
        "TAG_RE = re.compile(r'<[^>]+>')\n",
        "def pretreatment(text: str) -> str:\n",
        "    \"\"\"Clean IMDB text entries.\n",
        "    Args:\n",
        "        text: an input string.\n",
        "    Returns:\n",
        "        The cleaned text.\n",
        "    \"\"\"\n",
        "    text = TAG_RE.sub('', text)\n",
        "    text = text.replace(\"\\\\\",\"\")\n",
        "    return text"
      ]
    },
    {
      "cell_type": "markdown",
      "metadata": {
        "id": "tGw2BBEuqe4-"
      },
      "source": [
        "Here we tried to apply stemming and removing stopwords for the pretreatment, but the model response negatively to this type of treatment. Therefore, for the whole lab, we keep the same pretreatment method by removing the punctuation"
      ]
    },
    {
      "cell_type": "code",
      "execution_count": 9,
      "metadata": {
        "colab": {
          "base_uri": "https://localhost:8080/"
        },
        "id": "-nsfEOR-qe4-",
        "outputId": "fda72505-e4cd-4672-fab5-0e42f7c6f6ae"
      },
      "outputs": [
        {
          "output_type": "stream",
          "name": "stderr",
          "text": [
            "[nltk_data] Downloading package stopwords to /root/nltk_data...\n",
            "[nltk_data]   Package stopwords is already up-to-date!\n",
            "[nltk_data] Downloading package punkt to /root/nltk_data...\n",
            "[nltk_data]   Package punkt is already up-to-date!\n"
          ]
        }
      ],
      "source": [
        "import re\n",
        "import nltk \n",
        "from nltk.stem.snowball import SnowballStemmer\n",
        "from nltk.tokenize import word_tokenize\n",
        "from nltk.corpus import stopwords\n",
        "\n",
        "nltk.download('stopwords')\n",
        "nltk.download('punkt')\n",
        "stop_words = set(stopwords.words('english'))\n",
        "\n",
        "TAG_RE = re.compile(r'<[^>]+>')\n",
        "re_word = re.compile(r\"^\\w+$\")\n",
        "stemmer = SnowballStemmer(\"english\")\n",
        "\n",
        "def pretreatment_stemming(text: str) -> str:\n",
        "    \"\"\"Clean IMDB text entries.\n",
        "    Args:\n",
        "        text: an input string.\n",
        "    Returns:\n",
        "        The cleaned text.\n",
        "    \"\"\"\n",
        "    text = TAG_RE.sub('', text)\n",
        "    text = text.replace(\"\\\\\",\"\")\n",
        "    d = word_tokenize(text)\n",
        "    s = \"\"\n",
        "    for w in d:\n",
        "        if w not in stop_words:\n",
        "            if re_word.match(w):\n",
        "                s +=' ' + stemmer.stem(w)\n",
        "            else:\n",
        "                s+=\" \"+w\n",
        "    s = s.strip()\n",
        "    return s"
      ]
    },
    {
      "cell_type": "code",
      "execution_count": 10,
      "metadata": {
        "colab": {
          "base_uri": "https://localhost:8080/"
        },
        "id": "AnxsNRj1b4ef",
        "outputId": "b9cb2f6a-ec35-48c1-bb31-71d5a1fa4296"
      },
      "outputs": [
        {
          "output_type": "stream",
          "name": "stderr",
          "text": [
            "WARNING:datasets.arrow_dataset:Loading cached processed dataset at /root/.cache/huggingface/datasets/imdb/plain_text/1.0.0/2fdd8b9bcadd6e7055e742a706876ba43f19faee861df134affd7a3f60fc38a1/cache-629f9d8d4b67f8fa.arrow\n",
            "WARNING:datasets.arrow_dataset:Loading cached processed dataset at /root/.cache/huggingface/datasets/imdb/plain_text/1.0.0/2fdd8b9bcadd6e7055e742a706876ba43f19faee861df134affd7a3f60fc38a1/cache-5376df990f7b6476.arrow\n"
          ]
        }
      ],
      "source": [
        "# This applies the pretreatment function to all\n",
        "clean_dataset = dataset.map(lambda x: {\"text\": pretreatment(x[\"text\"]), \"label\": x[\"label\"]})"
      ]
    },
    {
      "cell_type": "markdown",
      "metadata": {
        "id": "cITYcafjvZ4V"
      },
      "source": [
        "Let's see what the text now look like."
      ]
    },
    {
      "cell_type": "code",
      "execution_count": 11,
      "metadata": {
        "colab": {
          "base_uri": "https://localhost:8080/"
        },
        "id": "ss9fNfoWUAz_",
        "outputId": "6936a63b-74b3-48c5-d5bd-9e1186875244"
      },
      "outputs": [
        {
          "output_type": "execute_result",
          "data": {
            "text/plain": [
              "['I rented I AM CURIOUS-YELLOW from my video store because of all the controversy that surrounded it when it was first released in 1967. I also heard that at first it was seized by U.S. customs if it ever tried to enter this country, therefore being a fan of films considered \"controversial\" I really had to see this for myself.The plot is centered around a young Swedish drama student named Lena who wants to learn everything she can about life. In particular she wants to focus her attentions to making some sort of documentary on what the average Swede thought about certain political issues such as the Vietnam War and race issues in the United States. In between asking politicians and ordinary denizens of Stockholm about their opinions on politics, she has sex with her drama teacher, classmates, and married men.What kills me about I AM CURIOUS-YELLOW is that 40 years ago, this was considered pornographic. Really, the sex and nudity scenes are few and far between, even then it\\'s not shot like some cheaply made porno. While my countrymen mind find it shocking, in reality sex and nudity are a major staple in Swedish cinema. Even Ingmar Bergman, arguably their answer to good old boy John Ford, had sex scenes in his films.I do commend the filmmakers for the fact that any sex shown in the film is shown for artistic purposes rather than just to shock people and make money to be shown in pornographic theaters in America. I AM CURIOUS-YELLOW is a good film for anyone wanting to study the meat and potatoes (no pun intended) of Swedish cinema. But really, this film doesn\\'t have much of a plot.',\n",
              " '\"I Am Curious: Yellow\" is a risible and pretentious steaming pile. It doesn\\'t matter what one\\'s political views are because this film can hardly be taken seriously on any level. As for the claim that frontal male nudity is an automatic NC-17, that isn\\'t true. I\\'ve seen R-rated films with male nudity. Granted, they only offer some fleeting views, but where are the R-rated films with gaping vulvas and flapping labia? Nowhere, because they don\\'t exist. The same goes for those crappy cable shows: schlongs swinging in the breeze but not a clitoris in sight. And those pretentious indie movies like The Brown Bunny, in which we\\'re treated to the site of Vincent Gallo\\'s throbbing johnson, but not a trace of pink visible on Chloe Sevigny. Before crying (or implying) \"double-standard\" in matters of nudity, the mentally obtuse should take into account one unavoidably obvious anatomical difference between men and women: there are no genitals on display when actresses appears nude, and the same cannot be said for a man. In fact, you generally won\\'t see female genitals in an American film in anything short of porn or explicit erotica. This alleged double-standard is less a double standard than an admittedly depressing ability to come to terms culturally with the insides of women\\'s bodies.',\n",
              " \"If only to avoid making this type of film in the future. This film is interesting as an experiment but tells no cogent story.One might feel virtuous for sitting thru it because it touches on so many IMPORTANT issues but it does so without any discernable motive. The viewer comes away with no new perspectives (unless one comes up with one while one's mind wanders, as it will invariably do during this pointless film).One might better spend one's time staring out a window at a tree growing.\"]"
            ]
          },
          "metadata": {},
          "execution_count": 11
        }
      ],
      "source": [
        "clean_dataset[\"train\"][\"text\"][:3]"
      ]
    },
    {
      "cell_type": "markdown",
      "metadata": {
        "id": "4sAscTs3U2Sn"
      },
      "source": [
        "Let's take a quick look at the labels. Notice that the labels are ordered in the training set starting by the negative reviews (0), followed by the positive ones (1). Training neural networks on this kind of configuration tends to considerably affect their performances. So the dataset will have to be shuffled."
      ]
    },
    {
      "cell_type": "code",
      "execution_count": 12,
      "metadata": {
        "colab": {
          "base_uri": "https://localhost:8080/"
        },
        "id": "lZedAEQpdstA",
        "outputId": "06a81583-d346-443d-bd88-7884bddd7a14"
      },
      "outputs": [
        {
          "output_type": "execute_result",
          "data": {
            "text/plain": [
              "[0, 0, 0, 0, 0, 0, 0, 0, 0, 0, 1, 1, 1, 1, 1, 1, 1, 1, 1, 1]"
            ]
          },
          "metadata": {},
          "execution_count": 12
        }
      ],
      "source": [
        "clean_dataset[\"train\"][\"label\"][12490:12510]"
      ]
    },
    {
      "cell_type": "markdown",
      "metadata": {
        "id": "Hv3rt4ZieQbN"
      },
      "source": [
        "## Train/validation split **(1 point)**\n",
        "\n",
        "In our example, we consider the test split as production data. Which means, we need to treat it as if we never see it during the training process. To experiment on the model, we need to split the training set into a training and validation set. See [here](https://huggingface.co/course/chapter5/3?fw=pt#creating-a-validation-set) on how to do so with the `Datasets` library.\n",
        "\n",
        "Don't forget to **stratify** your split (we need to have the same proportion of class in both training and validation set)."
      ]
    },
    {
      "cell_type": "code",
      "execution_count": 13,
      "metadata": {
        "id": "5QIBkz-0YAO7"
      },
      "outputs": [],
      "source": [
        "clean_dataset = clean_dataset[\"train\"].train_test_split(train_size=0.8)\n",
        "clean_dataset[\"validation\"] = clean_dataset.pop(\"test\")\n",
        "clean_dataset[\"test\"] = dataset[\"test\"]"
      ]
    },
    {
      "cell_type": "code",
      "execution_count": 14,
      "metadata": {
        "colab": {
          "base_uri": "https://localhost:8080/"
        },
        "id": "F58TBVUbVfWb",
        "outputId": "f8a83895-fa13-4f63-d8a5-b78698ba6df8"
      },
      "outputs": [
        {
          "output_type": "execute_result",
          "data": {
            "text/plain": [
              "DatasetDict({\n",
              "    train: Dataset({\n",
              "        features: ['text', 'label'],\n",
              "        num_rows: 20000\n",
              "    })\n",
              "    validation: Dataset({\n",
              "        features: ['text', 'label'],\n",
              "        num_rows: 5000\n",
              "    })\n",
              "    test: Dataset({\n",
              "        features: ['text', 'label'],\n",
              "        num_rows: 25000\n",
              "    })\n",
              "})"
            ]
          },
          "metadata": {},
          "execution_count": 14
        }
      ],
      "source": [
        "clean_dataset"
      ]
    },
    {
      "cell_type": "code",
      "execution_count": 15,
      "metadata": {
        "colab": {
          "base_uri": "https://localhost:8080/"
        },
        "id": "Wa82uTx4jAiS",
        "outputId": "f760d009-3f22-469a-eaad-6ffa646a24e9"
      },
      "outputs": [
        {
          "output_type": "execute_result",
          "data": {
            "text/plain": [
              "DatasetDict({\n",
              "    train: Dataset({\n",
              "        features: ['text', 'label'],\n",
              "        num_rows: 25000\n",
              "    })\n",
              "    test: Dataset({\n",
              "        features: ['text', 'label'],\n",
              "        num_rows: 25000\n",
              "    })\n",
              "})"
            ]
          },
          "metadata": {},
          "execution_count": 15
        }
      ],
      "source": [
        "dataset"
      ]
    },
    {
      "cell_type": "code",
      "execution_count": 16,
      "metadata": {
        "colab": {
          "base_uri": "https://localhost:8080/",
          "height": 87,
          "referenced_widgets": [
            "515af1d9d52d4967a2dcdb5801450f77",
            "7c479ccc20e24c4c8a21f936e8c5f860",
            "5503df522e2046c085c186a40ca398aa",
            "d65261957b254cd2b2acb646cdaf0820",
            "91d2abfb37294c43a0f74dc3b4fd753a",
            "9e62700403f047af829b5bbf2a96348f",
            "c3f82bbaeb564278bf9cd1cccdfbafbb",
            "bfcf72794b3c4468aec73fe0d476c080",
            "455ecd5ce2824470b0ec38129ffa7615",
            "da0c21295f094316a582cdea73c89d12",
            "9e0b5e93d58c4620b252395b2b635fdd"
          ]
        },
        "id": "nDjkXHjvr1vH",
        "outputId": "88112cc1-5974-4563-df2c-c2cd406b1206"
      },
      "outputs": [
        {
          "output_type": "stream",
          "name": "stderr",
          "text": [
            "WARNING:datasets.builder:Found cached dataset imdb (/root/.cache/huggingface/datasets/imdb/plain_text/1.0.0/2fdd8b9bcadd6e7055e742a706876ba43f19faee861df134affd7a3f60fc38a1)\n"
          ]
        },
        {
          "output_type": "display_data",
          "data": {
            "text/plain": [
              "  0%|          | 0/2 [00:00<?, ?it/s]"
            ],
            "application/vnd.jupyter.widget-view+json": {
              "version_major": 2,
              "version_minor": 0,
              "model_id": "515af1d9d52d4967a2dcdb5801450f77"
            }
          },
          "metadata": {}
        }
      ],
      "source": [
        "dataset_train, dataset_test = load_dataset(\"imdb\", split=[\"train\", \"test\"])"
      ]
    },
    {
      "cell_type": "code",
      "execution_count": 17,
      "metadata": {
        "id": "SFuH-hS2qh1q"
      },
      "outputs": [],
      "source": [
        "#Convert dataset to pandas\n",
        "import pandas as pd\n",
        "\n",
        "df_dataset_train = dataset_train.to_pandas()\n",
        "df_dataset_test = dataset_test.to_pandas()\n",
        "df_clean_dataset_train = clean_dataset[\"train\"].to_pandas()\n",
        "df_clean_dataset_validation = clean_dataset[\"validation\"].to_pandas()"
      ]
    },
    {
      "cell_type": "code",
      "execution_count": 18,
      "metadata": {
        "colab": {
          "base_uri": "https://localhost:8080/"
        },
        "id": "w97hMnYEeexj",
        "outputId": "0c7a281f-c789-47df-fa79-09de2b318b3d"
      },
      "outputs": [
        {
          "output_type": "stream",
          "name": "stdout",
          "text": [
            "Percentage of positive reviews in original train dataset: 50.0%\n",
            "Percentage of positive reviews in original test dataset: 50.0%\n",
            "Percentage of positive reviews in clean train dataset: 49.919999999999995%\n",
            "Percentage of positive reviews in clean test dataset: 50.32%\n"
          ]
        }
      ],
      "source": [
        "# Check here that the dataset is stratified.\n",
        "print(\"Percentage of positive reviews in original train dataset: \" + str(df_dataset_train[\"label\"].value_counts()[0] / df_dataset_train[\"label\"].count() * 100) + '%')\n",
        "print(\"Percentage of positive reviews in original test dataset: \" + str(df_dataset_test[\"label\"].value_counts()[0] / df_dataset_test[\"label\"].count() * 100) + '%')\n",
        "print(\"Percentage of positive reviews in clean train dataset: \" + str(df_clean_dataset_train[\"label\"].value_counts()[0] / df_clean_dataset_train[\"label\"].count() * 100) + '%')\n",
        "print(\"Percentage of positive reviews in clean test dataset: \" + str(df_clean_dataset_validation[\"label\"].value_counts()[0] / df_clean_dataset_validation[\"label\"].count() * 100) + '%')\n"
      ]
    },
    {
      "cell_type": "markdown",
      "metadata": {
        "id": "0t40J_xte1dz"
      },
      "source": [
        "## Categorical encoding of the vocabulary **(2 points)**\n",
        "\n",
        "We can't feed word to a neural network. A usual solution is to turn words into categorical data by using one-hot encoding. To avoid an explosion in vocabulary size, we will only keep words which appear more than a certain amount of time.\n",
        "\n",
        "The `Vocabulary` class below will do that for us."
      ]
    },
    {
      "cell_type": "code",
      "execution_count": 19,
      "metadata": {
        "id": "T2P9A4j8aarj"
      },
      "outputs": [],
      "source": [
        "UNK_TOKEN = \"<UNK>\"\n",
        "PAD_TOKEN = \"<PAD>\"\n",
        "\n",
        "\n",
        "class Vocabulary:\n",
        "    \"\"\"Vocabulary manager on a collection.\n",
        "    \"\"\"\n",
        "    def __init__(self) -> None:\n",
        "        \"\"\"No parameters to provide.\n",
        "        \"\"\"\n",
        "        # Index to word mapping.\n",
        "        self.index2word = [PAD_TOKEN, UNK_TOKEN]\n",
        "        # Word to index mapping.\n",
        "        self.word2index = {value: key for key, value in enumerate(self.index2word)}\n",
        "        # Word counter.\n",
        "        self.word2count = defaultdict(int)\n",
        "\n",
        "    def add_word(self, word: str) -> None:\n",
        "        \"\"\"Increments the count of a word to the vocabulary.\n",
        "        Args:\n",
        "            word: the word.\n",
        "        \"\"\"\n",
        "        self.word2count[word] += 1\n",
        "        if not word in self.word2index:\n",
        "            self.word2index[word] = len(self.index2word)\n",
        "            self.index2word.append(word)\n",
        "\n",
        "    def add_text(self, text: str, separator: str =\" \") -> None:\n",
        "        \"\"\"Add the words given in a text to our vocabulary.\n",
        "        Args:\n",
        "            text: a sequence of words separated by a given separator.\n",
        "            separator: the separator used to split our text (default is \" \").\n",
        "        \"\"\"\n",
        "        for word in text.split(separator):\n",
        "            self.add_word(word)\n",
        "\n",
        "    def get_index(self, word: str) -> int:\n",
        "        \"\"\"Returns the index of a given word in our vocabulary.\n",
        "        If the word is not in the vocabulary, returns the index for UNK_TOKEN.\n",
        "        Args:\n",
        "            word: a string.\n",
        "        Returns:\n",
        "            The corresponding index or the index for UNK_TOKEN.\n",
        "        \"\"\"\n",
        "        return (\n",
        "            self.word2index[word]\n",
        "            if word in self.word2index\n",
        "            else self.word2index[UNK_TOKEN]\n",
        "        )\n",
        "\n",
        "    def get_word(self, index: int) -> str:\n",
        "        \"\"\"Returns the word at a given index in our vocabulary.\n",
        "        Args:\n",
        "            index: the word position in our vocabulary.\n",
        "        Returns:\n",
        "            The word corresponding to the given index.\n",
        "        \"\"\"\n",
        "        return self.index2word[index]\n",
        "\n",
        "    def get_word_count(self, word: str) -> int:\n",
        "        \"\"\"Returns the number of occurences for a given word.\n",
        "        Raise a \n",
        "        Args:\n",
        "            The word.\n",
        "        Returns:\n",
        "            Its number of measured occurences.\n",
        "        \"\"\"\n",
        "        return self.word2count[word]\n",
        "\n",
        "    def get_vocabulary(self) -> List[str]:\n",
        "        \"\"\"Returns a copy of the whole vocabulary list.\n",
        "        Returns:\n",
        "            A list of words.\n",
        "        \"\"\"\n",
        "        return deepcopy(self.index2word)\n",
        "\n",
        "    def __len__(self) -> int:\n",
        "        \"\"\"len() function.\n",
        "        Returns:\n",
        "            The number of words in the vocabulary.\n",
        "        \"\"\"\n",
        "        return len(self.index2word)\n",
        "\n",
        "    def trim_vocabulary(self, min_occurences: int = 5) -> None:\n",
        "        \"\"\"Trim the vocabulary based on the number of occurrences of each words.\n",
        "        Note that whole counts of deleted words are added to the UNK_TOKEN counts.\n",
        "        Args:\n",
        "            min_occurences: the minimum number of occurences for a word to be kept.\n",
        "        \"\"\"\n",
        "        to_delete = {\n",
        "            word for word, count in self.word2count.items() if count < min_occurences\n",
        "        }\n",
        "        new_word2count = defaultdict(int)\n",
        "        for word, count in self.word2count.items():\n",
        "            if word not in to_delete:\n",
        "                new_word2count[word] = count\n",
        "            else:\n",
        "                new_word2count[UNK_TOKEN] += count\n",
        "        new_index2word = [word for word in self.index2word if word not in to_delete]\n",
        "        new_word2index = {word: index for index, word in enumerate(new_index2word)}\n",
        "\n",
        "        self.word2count = new_word2count\n",
        "        self.index2word = new_index2word\n",
        "        self.word2index = new_word2index"
      ]
    },
    {
      "cell_type": "markdown",
      "metadata": {
        "id": "q4z82NUIP-WU"
      },
      "source": [
        "**(1 point)** Get the vocabulary on both the training and validation set using the `Vocabulary` class. Remember, we don't use the test set here as we consider it as proxy production data. The trim it down as you see fit (around 20K words in the vocabulary is a good value)."
      ]
    },
    {
      "cell_type": "code",
      "execution_count": 20,
      "metadata": {
        "colab": {
          "base_uri": "https://localhost:8080/"
        },
        "id": "W8eqcMYzfLJr",
        "outputId": "bc2bfcd5-b842-462b-b497-3ebf62b119ad"
      },
      "outputs": [
        {
          "output_type": "stream",
          "name": "stdout",
          "text": [
            "20251\n"
          ]
        }
      ],
      "source": [
        "vocabulary = Vocabulary()\n",
        "\n",
        "# Your code...\n",
        "for txt in clean_dataset[\"train\"][\"text\"]:\n",
        "  vocabulary.add_text(txt)\n",
        "for txt in clean_dataset[\"validation\"][\"text\"]:\n",
        "  vocabulary.add_text(txt)\n",
        "vocabulary.trim_vocabulary(15)\n",
        "print(len(vocabulary.get_vocabulary()))"
      ]
    },
    {
      "cell_type": "code",
      "execution_count": 21,
      "metadata": {
        "colab": {
          "base_uri": "https://localhost:8080/"
        },
        "id": "P_57sHGbVQ5u",
        "outputId": "8dfe5281-767e-48cb-cdad-c8603f408048"
      },
      "outputs": [
        {
          "output_type": "stream",
          "name": "stdout",
          "text": [
            "['<PAD>', '<UNK>', 'Movies', 'like', 'this', 'one,', 'and', 'make', 'me', 'very', 'sad', 'for', 'American', 'films', 'with', 'a', 'gay', 'subject', 'matter.', 'With', 'the', 'exception', 'of', 'there', 'are', 'few', 'other', 'notable', 'kind', 'depth', 'sincerity', 'as', 'movie,', 'The', 'This', 'movie', 'centers', 'on', 'two', 'men,', 'Noam', 'an', 'Palestinian', 'respectively.', 'Their', 'relationship', 'is', 'complicated', 'by', 'tension', 'between', 'Jews', 'in', 'early', 'stages', 'their', 'relationships', 'will', 'struggle', 'who', 'call', 'next,', 'or', 'say', '\"I', 'love', 'you\"', 'first.', 'suicide', 'armed', 'security', 'check', 'points,', 'While', 'friends', 'accept', 'it', 'clear', 'that', 'most', 'Tel', 'citizens', 'probably', 'touching', 'moments,', 'many', 'film,', 'when', 'attend', 'production', 'see', 'them', 'watching', 'play,', 'affect', 'has', 'profoundly', 'captured', 'eyes.', 'And', 'ultimately,', 'moment', 'played', 'out', 'way', 'finale', 'outstanding', 'Director', 'Fox', 'brilliant', 'creating', 'interesting', 'retelling', 'Shakespeare', 'classic', 'Romeo', 'while', 'movies', 'today', 'have', 'sex', 'them,', '(almost', 'one', 'goes', 'back', 'to', 'old', 'tried', 'true', 'version', 'passion', 'It', 'so', 'refreshing.', 'Also', 'refreshing', 'seeing', 'men', 'being', 'portrayed', 'people', 'not', 'cartoons.', 'There', 'cartoonish', 'characters', 'movie.', 'just', \"doesn't\", 'happen', 'be', 'guys', 'change.', 'Somewhere', 'site', 'I', 'think', 'read', 'comparison', 'Well,', 'really.', 'Yes,', 'these', 'youthful', 'stumbling', 'through', 'first', 'uneasy', 'steps', 'into', 'adulthood', 'relationships.', 'But', \"don't\", 'recall', 'getting', 'up\"', 'backdrop', 'insipid', 'story', 'lines', 'good', 'heart,', 'all', 'stories', 'does', 'win', 'out.', \"it's\", 'intact', 'glory', 'full', '.', 'Still,', 'satisfying', 'watch.', 'i', 'sucked', 'because', 'left', 'gave', 'us', 'much', 'information', \"who's\", 'original', 'never', 'everything', 'your', 'imagination.', 'crap', 'fest', 'however,', 'gives', 'you', 'all.', \"didn't\", 'acting', 'solid,', 'reason', 'was', 'done', 'than', 'filmmakers,', 'if', 'they', 'had', 'Vincenzo', 'Natali', 'do', 'even', 'sequel', 'would', 'better', 'been', 'more', 'recommend', 'stay', 'far,', 'far', 'away', 'from', 'another', 'want', '2', 'what', 'black', 'society', 'before', 'crack', 'gangsta', 'AIDS', 'eighties.', 'families', 'struggled', 'get', 'tribulations', 'Black', 'America', 'different', 'group', 'seventies.', 'Still', 'hope', 'flying', 'high', 'civil', 'rights', 'movements', 'times', 'were', 'hard', 'but', 'still', 'worth', 'fighting', 'for.', 'head', 'above', 'water,', 'making', 'wave', 'can,', 'show', 'showed', 'how', 'work', 'together', 'families,', 'started', 'prey', 'each', 'everyone', 'else', 'order', 'survive', 'horrors', 'then', 'become', 'now.', 'TV', '1970', 'starring', 'Susannah', 'York', 'George', 'C.', 'Scott', 'proof', 'difficult', 'adopt', '\"Jane', 'Eyre\"', 'screen,', 'can', 'go', 'wrong', 'doing', 'so.', 'suffered', 'transfer', 'DVD', '-', 'some', 'scenes', 'which', 'complete', 'shortened', 'badly', 'edited', 'striking', 'continuity', 'gaps', 'crucial', 'scene', 'Jane', 'Rochester', 'starts', 'middle', 'editing', 'better,', 'film', 'be.', 'script', 'bad,', 'portrayal', 'novel', 'nearly', 'actors', 'miscast.', 'As', 'consequence', 'feeling', 'adaptation', 'Charlotte', 'at', 'problem', 'only', 'number', 'case', 'short', 'adaptations', 'remaining', 'no', 'capture', 'tone,', 'spirit,', 'atmosphere', 'concept', 'Eyre', 'example', 'completely', 'leaves', 'begins', \"Jane's\", 'arrival', 'perfectly', 'right,', 'since', 'must', 'necessity', 'out,', 'understandable', 'that,', 'instead', 'using', 'time', 'gained', '(so', 'thoroughly', 'portraying', 'friendship', 'influence', 'Helen', 'development,', 'lecture', 'Christian', 'she', 'teaches', 'her,', 'exclusively', 'concentrates', 'physical', 'driven', 'absurd', 'extremes', 'adaptation.', 'What', 'suffer', 'bad', 'enough', 'described', 'novel,', 'here', 'Miss', 'sadistic', 'prison', 'deliberately', 'wants', 'drive', 'death.', 'about', 'happens', 'If', 'compare', 'deep', 'impact', 'years', 'spent', 'state', 'regret', 'touch', 'surface', 'particular', 'episode', 'life.', 'throughout', 'rushes', 'scene,', 'often', 'without', 'nowhere', 'comes', 'near', 'essence', 'novel.', 'dialogues', 'odd', 'mixture', 'clumsily', 'together,', 'both', 'share', '5', 'minutes', 'screen', 'fall', 'love,', 'little', 'conversation', 'contains', 'nothing', 'intensity', 'also', 'humour', 'conversations', 'scriptwriter', 'did', 'language', 'injustice', 'addition', 'managed', 'ruin', 'her', 'moral', 'set-up', 'sentence.', 'When', \"Rochester's\", 'wife', 'after', 'would-be', 'wedding,', 'says:', 'once', 'loved', '(his', 'whole', 'depends', 'fact', 'indeed', 'innocent', 'victim', 'amoral', 'scheme', 'trapped', 'marrying', 'mad', 'woman', 'whom', 'he', 'loved,', 'his', 'effort', 'seek', 'life', 'partner', 'is,', \"God's\", \"man's\", 'law,', 'yet', 'sentence', 'undermines', 'carefully', 'constructed', 'turns', 'dirty', 'man', 'new', 'young', 'use', 'him', 'any', 'errors', 'regarding', 'Now', 'am', 'means', 'those', 'insist', 'resemblance', 'actor', 'literary', 'figure', 'stretch', 'imagination', 'possible', 'picture', 'lovely,', 'blonde,', \"novel's\", 'plain', 'heroine.', 'In', 'addition,', 'Ms', 'thirties', 'shot', 'looks', 'it.', 'shy,', 'reserved', 'inexperienced', 'becomes', 'graceful', 'mature', 'woman,', 'sure', 'herself', 'play', 'well', 'convincingly', 'portrays', 'To', 'cast', 'motivated', 'desire', 'looked', '18', 'difference', 'age', 'around', '50', 'acts', 'various', 'compliment', 'leading', 'passion,', 'despair', 'seems', 'script.', 'emotional', 'climax', 'rational', 'middle-aged', 'end', 'falls', 'asleep.', 'returns', 'last', 'mildly', 'pleased', 'grandfather', 'paid', 'visit', \"people's\", 'home', 'favourite', 'character', 'displays', 'appropriate', 'amount', 'emotion', 'St.', 'John,', 'people.', 'Ian', 'plays', 'passionately', 'eager', 'gets', 'impression', 'John', 'though', \"York's\", \"Scott's\", 'Rochester.', 'redeeming', 'features', 'disappointing', 'locations', 'score,', 'watch', 'every', 'single', 'got', 'my', 'favorite', 'Twilight', 'Zone', 'episodes,', 'primarily', 'lonely', 'souls', 'post-apocalyptic', 'shops', 'streets', 'eerie', 'parable', 'bit', 'heavy-handed', \"today's\", 'drama', 'standards,', 'excellent', 'setting', 'statement', 'relevant', 'human', 'experience,', 'entire', 'rests', 'solely', 'shoulders', 'Mr.', 'Bronson', 'Ms.', 'disappoint.', 'rest', 'classic.', 'Faith', 'viewed', 'lens', 'elderly', 'gentleman', 'younger,', 'African-American', 'Jewish', 'odds', 'having', 'frank', 'talks', 'lives', 'over', 'chronic', 'problems,', 'ill', 'career', 'settling', 'regular', 'job,', 'fatal', 'car', 'accident', 'convince', 'Mostel', 'faith,', 'failing', 'along', \"wife's\", 'health', '(and', 'own', 'girlfriend', 'seemingly', 'should,', 'ending', 'suffers', 'somewhat', 'its', 'ambiguous', 'Hollywood', 'ethnic', 'relations', \"person's\", 'crisis', 'appreciating', 'performances', 'principal', 'Trust', 'me,', 'let', 'down', 'avoid', 'huge', 'Denzel', 'Washington', 'fan.', 'frustrating', 'part', '1/3', 'GREAT', 'film.', 'exceptional', 'job', 'up', 'Creasy', 'girl', \"he's\", 'trailers', 'mention', 'So,', \"I'm\", 'giving', 'degenerates', 'almost', 'unwatchable', 'mess', \"she's\", 'Whatever', 'director', 'trying', 'succeeds', 'audience', 'literally', 'frantic', 'choppy', 'cuts', 'follow', 'next', 'half-hour', 'tracks', 'These', 'unnatural', 'nauseating', 'story.', 'thought', 'unsettling', 'present', 'change', 'follow.', 'right.', 'followed', 'unsatisfying', 'crap.', 'result', 'depressing', 'ruins', 'quality', 'forty', 'saw', 'feel', 'compelled', 'defend', 'gem', 'against', 'it.It', 'unusual', 'observe', 'diversity', 'opinion', 'here.', 'That', 'either', 'charges', 'funny', 'bone', 'cold', 'wondering', 'why', \"Britain's\", 'best', 'comic', 'put', 'silly', 'irreverent', 'outcome', 'hilarious.', 'dialogue', 'visual', 'comedy', 'beautifully', 'delivered', 'leads', 'superb', 'together.', 'made', \"can't\", 'really', 'anymore', 'find', 'You', \"won't\", 'disappointed', 'world', 'devoid', 'humour,', 'inane', 'harmless', 'piece', 'comedic', 'brilliance.', 'reviewed', 'nice', 'maker', 'OUT', 'Phil', 'Ryan', 'asked', 'review', 'THE', 'normally', 'way,', 'shorts', \"couldn't\", 'wait', 'turned', 'thrilled', 'know.', 'credit,', 'encouraged', 'honest', 'tremendous', 'style', 'direction', 'goes,', 'such', \"(it's\", 'film).', 'combination', 'choices', 'color,', 'pacing', 'music', 'created', 'great', 'sense', 'atmosphere.', 'pulled', 'credit', 'making.', 'However,', 'thing', 'writing.', 'basic', 'idea', 'great,', 'too', 'easy', 'come', 'surprise', 'unexpected', 'twist.', 'considering', 'someone', \"shouldn't\", 'able', 'professional', 'given', 'future.', 'Good', 'job.', 'average.', 'laugh', 'Courtney', 'brings', 'down.', 'She', 'look', 'natural.', 'three', 'ways', 'talk,', 'quietly', '(with', 'where', 'talking', 'yelling', '\"let\\'s', 'pretend', 'loud', 'constantly', 'aware', 'cute', 'actress', 'thing.', \"It's\", 'annoying.', 'personality,', 'produce', 'emotion,', 'husband,', 'stupid', 'things,', 'reaction', 'her.', 'Very', 'dry', 'acting.', 'earth', 'science', 'fiction', 'genie', '(aka', 'general', 'small', 'role', 'reporter', 'itself', 'should', 'tell', '(an', 'academy', 'award', 'winning', 'actor)', 'stinker', 'others', 'decent', 'actors.', 'wonder', 'possessed', 'decide', 'awful', 'dramatically', 'major', 'dramatic', 'Even', 'pay', 'attention', 'plot', 'impossible', 'effects', 'mediocre', 'seem', 'dated.', 'All', 'speak', 'monotone', 'voice', 'realism', 'dialogue.', 'could', 'At', 'least', 'Battlefield', 'Earth', 'b', 'o', 'n', 'Avoid', 'unless', 'sleep.', 'A', 'tour', 'OK', 'kid', 'Oliver', 'Starting', 'cinematography,', 'costumes', 'impressive', 'seen', 'several', 'stands', 'musical', 'masterful', 'leaving', 'song.', 'know', 'not,', 'same', 'book.', 'versions', 'hate', 'start', 'finish.', 'Bill', 'book', 'hes', 'mean', 'Reed', 'His', 'directed', 'masterpiece.', 'went', 'based', 'fine', 'performances,', 'fits', 'mood.', 'Who', 'buy', 'beautiful', 'movie?', 'perfect', 'Columbo', 'knows', 'half', 'writing', 'team', 'detective', 'kills', 'Jim', 'plans', 'going', 'asks', 'sorts', 'questions', 'Murder', 'Book', 'Steven', 'Spielberg', 'days', 'wrote', 'fantastic', 'shabby', 'believe', 'solve', 'them!', 'Peter', 'Falk', 'person', 'portray', 'Cassidy', 'murderer', 'Martin', \"victim's\", 'Joanna', 'something', 'endearing', 'makes', 'La', 'actually', 'met', 'tragic', 'fate', 'died', 'homicide', 'fan', 'childhood', 'enjoy', 'break', \"weren't\", 'showing', 'now', 'question.', 'budget', '&', 'gore', 'used', '(look', 'action', 'used.', 'dodgy', 'times,', 'compared', '(or', 'budget,', 'hardly', 'noticeable', 'Overall,', 'recommended.', '8/10', 'Wow,', 'movie...', 'comments', 'plot,', 'possibly', 'actual', 'non-existent,', 'tends', 'jump', 'connection', 'anything', 'assist', 'viewer', 'simply', 'low', 'zombie', 'flick', 'all,', 'acting,', 'dialogue,', 'saves', '1', 'factor,', 'whatever', 'money', 'try', 'justify', '(like', 'me)', 'dedicated', 'finding', 'flicks', 'find,', 'this.', 'Period.', 'took', 'lot', 'guts', 'forward', 'that.', 'unfortunate', 'celebrity', 'helps', 'most.', 'But,', 'case,', 'remarkable.', 'mental', 'field', 'five', 'illness', 'terrible', 'word', 'always', 'will.', 'glad', 'made.', 'remarkable', 'lady', 'continues', 'act.', 'faced', 'children,', 'especially', 'child', 'Her', 'ordeal', 'happened', 'wonderful', 'mentor', 'moving', 'brought', 'disorder', 'courage', 'display', 'did.', 'helped', 'nation', 'realize', 'help.', 'Thank', 'Anna,', 'ever', 'Much', 'worse', 'original.', 'sit', 'through,', 'barely', 'held', 'six', 'year', 'Pokemon', 'marginally', 'interesting,', 'storyline', 'mediocre.', 'Watch', 'television', 'better.', \"I've\", 'looking', 'quite', 'time,', '6', 'old,', 'impressed', 'shown', 'Walt', \"Disney's\", 'remember', 'Indian', 'boy', 'much.', 'For', 'thrown', 'village', '(did', 'grasp', 'boys', 'threw', 'him,', 'rock', 'jumped', 'off.', 'eagle', 'flew', 'friend.', 'wearing', 'Soldier', 'may', 'Lucas', 'special', 'definitely', 'me.', 'about,', 'already', 'doomed', 'Kurt', 'Russell', 'much,', 'usually', 'drone', 'face', 'character.', 'fight', 'scenes;', 'unrealistic,', 'thats', 'land', 'we', 'escape', 'our', 'normal', 'lives.', 'favorites.', 'lucky', 'digs', 'guy', 'movies;', 'anyone', 'likes', 'tough', 'movies.', 'titled', 'ON', 'double', 'feature.', 'Glenn', 'Ford,', 'expert', 'called', 'hidden', 'bomb', 'train', 'loaded', 'slow', 'white', 'runs', 'hour', 'twelve', 'minutes.', 'later', 'lost', 'impact.', '50s', 'standards', 'Ford', 'Anne', 'Maurice', 'Victor', 'alone', 'admiring', 'Superman', 'Richard', 'Donner', 'executed', 'cut', 'sadly', 'absolute', 'suspension', 'disbelief', 'required', 'strong', 'stretches', 'things', 'far.', 'matter', 'insults', 'intelligence', 'zero', 'motivation', 'act', 'do,', 'unlike', 'powers,', 'strength', 'lack', 'handled', 'believable', 'manner.', 'bother.', 'condemn', 'perhaps', 'slapstick', 'Lester', 'moronic', 'on.', 'bad.', \"'The\", 'Hills', 'Eyes', 'pointless', 'blatantly', 'sequels', '90', 'incompetent', 'Or', 'worst,', 'however', 'choose', 'remake', \"year's\", 'best,', 'truly', 'frightening,', 'horror', 'films,', 'takes', 'spark', 'Part', 'off', 'ground,', 'neither', 'mind', 'numbing', 'Worst', 'family', 'themselves', 'New', 'Mexico', 'desert,', 'picked', 'deranged', 'hill', 'People', 'who,', 'military', 'testing', 'atomic', 'ago,', 'are.', 'wander', 'puts', 'audiences', 'occupied', 'investigate', 'hills', 'might', 'poor', 'family.', 'deserted', 'signs', 'grim', 'reality', 'soon', 'realization', \"they're\", 'alone.', 'bloody', 'handed', 'take', 'genius', 'legitimate', 'exist.', 'received', 'box', 'office', 'critics,', 'came', 'rushed', \"there's\", \"There's\", 'rhyme', 'around,', 'unbelievable', 'ridiculous', 'characters,', 'unoriginal', 'killings,', 'non-existent', 'story,', 'slipping', 'interest.', 'Alexander', \"Craven's\", 'cult', 'unique', 'disturbing', 'experience.', 'One', 'crossed', 'line', 'occasions.', 'Its', 'violence,', 'torture,', 'characterization,', 'suspense', 'effectively', 'shock', 'audiences.', 'second', 'style,', 'tries', 'build', 'bodies,', 'there,', 'tame', 'recent', 'affairs', 'deformed', 'mutants', 'women', 'breeding', 'purposes', 'fails', 'keep', 'attention.', 'more.', 'Despite', 'scary', 'by-the-numbers', 'flick.', 'feels', \"you'd\", 'Sci-Fi', 'channel,', 'blood', 'splatter', 'rape,', 'graphic', 'birth', \"that's\", 'gross', 'shocking.', 'cheap.', 'given,', 'expect', 'Weisz', \"film's\", 'big', 'mistake,', 'drain', 'sort', 'shocking', 'penned', 'Wes', 'Craven', 'son,', 'Jonathan', 'ask,', 'be?', 'Shakespeare.', 'fair', 'past,', \"I'd\", 'him.', 'unintentionally', 'funny,', 'wonder,', 'playing', 'joke', 'this?', 'dump', 'son', 'studio', 'payed', 'off?', 'one-dimensional', 'heads', 'emotions', 'common', 'sense.', 'fit', 'others.', 'villains,', 'found', 'favor', 'deepest', 'thoughts', 'them.', 'honestly', 'care', 'less.', 'Just', 'giddy', 'fear', 'during', 'Have', 'was,', \"you'll\", 'garbage.', 'generic', 'gets,', 'absolutely', \"haven't\", 'already.', 'express', 'enough,', 'plague.', 'unoriginal,', 'bore.', 'Stick', 'vision.', 'Because', 'walk', 'thirty', 'minutes,', 'warn', 'you.', 'shockingly', 'intelligent', 'gifted', 'British', 'writer', '\"My', 'Beautiful', '(this', 'whose', 'add', \"They've\", 'squandered', 'largely', 'empty', 'alive', 'mother', 'title', 'dead', 'inside', 'until', 'rough', 'shows', 'affection', 'awakens', 'joys', 'sex.', 'He', 'motives', 'treats', 'deal', 'places', 'familiar,', 'exist', 'beyond', 'confines', 'screen.', 'respects', 'Bloody', 'altogether', 'work.', 'director,', 'Roger', 'allows', 'eponymous', 'Reid', 'betrays', 'wasted', 'false', 'note', 'extraordinarily', 'performance,', 'Daniel', 'Craig', \"hasn't\", 'tapped', 'into.', 'strikes', 'perhaps,', 'talentless', 'daughter,', 'caught', 'messy', 'affair', 'seduces', 'life,', 'hooks', 'extremely', 'year.', 'Anita', 'Me', 'excuse', 'author', 'screenplay,', 'air', 'towards', 'English.', 'sentiment', 'English', 'violent,', 'engaging', 'stupid,', 'racist,', 'ugly,', 'eating', 'food,', 'dim-witted', '--', 'turning', 'culture', 'local', 'priest', 'contrast,', 'beautiful,', 'clever,', 'caring', 'loving', 'parents,', 'astonished', 'BBC', 'Had', 'round,', 'community', 'depicted', 'moments', 'First,', 'gossip', 'celebration', 'Second,', 'meal', 'lie', 'underlying', 'contempt', 'object', 'evident', 'drawn', 'appallingly', 'fallen', 'finished', '\"Bend', 'focused', 'behaviour', 'customs', 'somebody', 'within', 'community,', 'girls', 'backgrounds', 'coming', 'Instead,', 'convey', 'form', 'cultural', 'series', 'attacks', 'upon', 'felt', 'On', 'basis,', 'production.', 'modern', 'day', 'How', 'ask?', 'Ally', 'Sheedy', 'sports', 'Other', 'updated', 'graphics,', 'themes', '(such', 'weapons', 'sexy', 'unfortunately', 'tired', 'Anyone', 'exactly', '/', 'going.', 'consider', 'yourself', 'watched', 'once.', 'Maybe', '23', 'again.', 'stage', 'shoddy', 'Not', 'songs', 'cut,', 'unnecessary', 'twists', 'dance', 'sequences', 'and,', \"let's\", 'it,', 'Attenborough', 'Michael', 'that:', 'idea,', 'choreography,', 'direction,', 'gift', 'Broadway', 'world.', 'hours', 'lacks', 'empathy', 'auditioning', 'rather', 'Every', 'move,', 'Douglas,', 'especially,', 'Zach', 'control', 'bitchy', 'throws', 'temper', 'word,', 'nuance', 'obviously', 'Kevin', 'Kline', 'Broadway.', 'Bennett', 'ultimately', 'part.', 'wish', 'supposed', 'aside', 'recognizable', 'faces', 'Cassie', 'Broadway,', 'Sheila', \"TV's\", \"you're\", 'KNOW', 'DO', 'Having', 'star', 'roles', 'focus', 'Douglas', 'ranting', 'stories,', 'lose', 'sequence', 'Hello', 'drastically', 'song', 'entitled', 'surprisingly', 'nomination', 'Oscars.', 'tragically', 'boring', 'choreography', 'wonders', 'bothered', 'shoot', 'working', 'formula', 'fans', 'theatre', 'enjoyed', 'version,', 'mockery', 'cherished', 'loved.', 'production,', 'reference', 'by.', \"they'll\", 'history', 'late', 'THAT', 'there.', 'certainly', 'possess', 'watchable', 'levels.', 'fans,', 'Dean', 'Jagger', '(no', 'relation', 'respectable', 'supporting', '(even', 'Oscar', 'category', '12', 'performance', 'hair', '(I', 'worst', 'cannot', 'earlier', 'eventually', 'learn', 'actor.', 'Another', 'phenomenon', 'Paul', 'considered', 'cheesiness', 'example,', 'unnamed', 'Cambodian', 'obvious', 'walking', 'place', 'background', 'poorly', 'projected', 'behind', 'Plus,', 'leave', '100%', 'dialog', 'imagine', 'ask', 'Bela', 'Lugosi', 'starred', 'films.', 'ways,', 'class', 'NOT', '3', 'fun', 'fans.', 'MTV', 'market', 'clever', 'teenage', 'sucks', 'life\"', 'sitcom', 'mutated', '\"how', 'Daria', 'Now,', 'sitting', '\"movie\"', 'point', 'was.', 'tells', 'lead', 'me?', 'ok,', 'long', 'ok', 'sick', 'thinks', 'it?', 'reminded', 'channel', 'time.', 'sat', 'expected', 'bit,', 'complex', 'issues.', 'Using', 'football', 'launching', 'pad', 'approach.', 'unfortunately,', 'despite', 'bravery', 'dealing', 'controversial', 'issues', 'Muslim', 'western', 'culture,', 'adding', 'generation', 'conflicts', 'prejudice', 'lets', 'resolution', 'simplistic', 'relief', 'built', 'makers', 'task', 'attempting', 'profound', 'directly', 'rendering', 'amusing.', 'entertaining', 'matter,', 'mentioned', 'writers', 'spun', 'deep.', 'led', 'unrealistic', 'confront', 'By', 'dropping', 'ball', 'brilliance', 'taking', 'level', 'attempt', 'drama,', 'potential', 'disappointment', '\"the', 'moves', 'reflected', 'standard', 'cliché', 'Nothing', 'ending.', 'So', 'stomach', 'large', 'help', 'roll', 'eyes', 'Personally', 'close', 'shouting', 'female', 'central', 'moments.', 'parents', 'However', 'handsome', 'Irish', 'coach', 'embarrassing', 'terms', 'realism.', 'appear', 'likable,', 'self', 'involved', 'impending', 'conflict', 'give', '4,', 'sought', 'perspective', 'approach', 'from.', 'chance', 'recognise', 'disappointing,', 'easily', '7', '8.', 'good,', 'conflict,', 'amusing', 'engaging.', 'reminds', 'science-fiction', \"50's\", 'ludicrous', 'waste', 'turkey', 'Godard', 'said', 'criticize', 'strongest', 'Ralph', \"Bakshi's\", \"Tolkien's\", 'opus', 'Lord', 'Jackson.', 'trilogy,', \"aren't\", 'total', 'masterpieces,', 'room', 'breath', 'post-modern', 'techniques', 'classical', 'storytelling', 'sweeping', 'books,', 'versions,', 'live-action', '(albeit', 'partly', 'animated', 'way)', 'live', 'books.', 'vision,', 'Jackson', '(probably', 'final', 'Return', \"King's\", 'climactic', 'rush', 'parts', 'becoming', 'rushed,', 'ended', 'liking', 'limitations', 'too,', 'slightly', \"might've\", 'differently', 'younger', 'prior', 'elements', 'messed', 'with.', 'Everything', 'needed', 'Ring', 'pretty', 'gigantic', 'epic', 'clarity', 'section.', 'heroes,', 'less', 'adequate', 'parts,', 'standing', '(John', 'Hurt', 'William', 'extra', 'characterization', \"who've\", 'books', 'context.', 'interest', 'old-fashioned', 'sensibility', 'amid', 'aura', 'garden', 'variety', 'Disney', 'Bakshi', 'underground', 'animation', 'roots', 'mythical', 'Middle', 'bring', 'ends', 'form,', 'hit', 'miss', 'appeal.', 'Along', 'totally', 'entirely', 'results', 'bringing', 'course', 'crazy', 'inspiration', 'filmmakers.', 'Might', 'traditional', 'main', 'move', 'comic-book', 'way.', 'admired', 'done.', 'amazing', 'surreal', 'surroundings.', \"They're\", 'maybe', 'top', \"isn't\", 'battle', 'footage', \"(that's\", 'real', 'section,', 'shapes', 'creepy', 'sometimes', 'blasts', 'colors', 'buffs', 'know,', 'truth.', 'notch', 'seen,', 'artistry', 'stilted', 'dialog,', 'Two', 'Towers', 'segment', 'intriguing', 'reduced', 'fragmented', 'contemplating', 'checking', 'chance,', 'chances', 'whether', 'stop', 'not.', 'fitting', 'ambitious', \"Lynch's\", 'bound', 'draw', 'dark,', 'sand', \"don't.\", 'Dumb', 'dumb', 'does,', 'uninteresting,', 'comedy.', 'Chris', 'maintain', 'morphs', 'uninspired', '\"The', 'Three', 'laughs.', 'work,', 'Dead\"', 'is.', 'town', 'nut', 'jobs.', 'Fred', 'Dunst', 'imitation', 'Billy', 'Bob', '\"A', 'Simple', 'Jake', 'Busey', 'of,', 'well,', 'MERK', 'psychological', 'notch.', 'heavy', 'CG', 'scenes,', 'ones', 'Batman', 'type', 'include', 'romances', 'Wayne', 'this,', 'theme', 'mutant', 'time!', 'liked', 'Robin', \"wasn't\", 'Tim', 'Drake', 'computer', 'soap', 'opera', 'stars,', 'talents', 'too.', 'Kelly', 'hilarious', 'film.I', 'rate', 'below', 'vs.', 'smarter', '7/10', 'Tooth', 'Fairy', 'ghost', 'witch', 'lures', 'children', 'house', 'prize', 'loose', 'tooth', 'introduce', 'beginning', 'legend', 'fairy', 'switches', 'day.', 'worn', 'saved', 'solid', 'They', 'brothers', 'overall', 'quick', 'effect.', 'eye', 'candy', 'Camera', 'good.', 'cheesy.', 'bare', 'slasher', 'surprised', 'Does', 'contain', 'Your', 'plan', 'so,', 'reading', 'four', 'right', 'pose', 'answers', 'email', 'Grade', '11', 'teacher', 'well.', 'name', 'wise', 'teaching', 'keen', 'Shakespeare,', 'romance', 'understand', 'Our', 'room,', 'lake', 'minds.', 'begin', 'Vanilla', 'Sky', 'description', 'assignment', 'firmly', 'mind,', 'phone', 'friend,', 'finally', 'Matrix.', 'benefit', 'doubt,', \"we'll\", 'assume', 'prove', 'ourselves', 'real.', 'Show', 'spouting', 'usual', 'ideas', 'imagine.', 'pain,', 'loss', 'hunger', 'After', 'scenario', 'answer', \"else's\", 'question', 'posed', '15', 'Internet', 'rapid', 'advancement', 'then?', 'technology,', 'yourself,', 'year,', 'David', 'explored', 'similar', 'areas.', 'deeper', 'to.', '(if', 'it)', 'blow', 'possibilities', 'surround', 'Cruise', 'young,', 'hot', 'shot,', 'himself', 'owner', 'inherited', 'father', 'although', 'talent', 'business', 'board', 'Seven', 'rich', 'born', 'silver', 'mouth.', 'deserve', 'pinnacle', 'success', 'believes', 'Early', 'meet', \"David's\", 'gorgeous', 'toys', 'named', 'Julie', 'bombastic', 'perfection', 'Cameron', 'game,', 'claiming', 'slightest', 'interested', 'committed', 'relationship.', 'sexual', 'prime', 'talk', 'telling', 'Next', 'Brian', 'stroke', \"Smith's\", 'buddy', 'Jason', 'Lee.', 'publish', 'friends.', 'famous', 'keeps', '\"', 'sweet', \"ain't\", 'lover', 'status', 'inhabit', 'bed', 'night', 'birthday', 'happy', 'enters', 'date,', 'Sofia', 'Penelope', 'actress.', 'bash', 'invite', 'intrigued', 'another.', 'typical', 'fashion,', 'friend', 'flirt', 'spying', 'spends', 'caricatures', 'day,', 'apartment,', 'greeted', 'offers', 'ride', 'blurred', 'We', 'introduced', 'shady', 'subtext', 'death', 'create', 'possibility', 'eternal', 'us,', 'today,', 'secret.', 'Sixth', 'Sense', 'began', 'further', 'thank', 'Angel', 'Heart', 'starting', 'Regardless', 'gut', 'clues', 'solution', 'truth', 'lies', 'through.', 'pick', 'up,', 'understand.', 'theater,', 'enable', 'open', 'rare', '\"Best', 'Pictures', 'spectacular.', 'substance.', 'Mind', 'flat,', 'Royal', 'uneven.', 'rarity', 'yearning', 'satisfaction', 'mixed', 'reviews', 'like.', 'something.', 'Most', '10', 'nominated', 'Diaz', 'shoe', 'Crowe', 'None', 'pass,', 'shame.', 'missed.', 'note,', 'Can', \"someone's\", 'Are', 'artificially', 'answers.', '19', 'daughter', 'exercise', 'views', 'opinions', 'movies,', 'myself.', 'reached', 'regarded', 'successful', 'evening', 'brain', 'gather', 'enjoy,', 'according', 'directors', 'Paris,', 'city', 'visited', '20', 'years.', 'had.', 'loosely', 'linked', 'joining', 'shots,', 'represent', 'approaches', 'popular', 'quintessential', 'romantic', 'capital', 'Some', 'but,', 'reviewers', 'said,', 'descends', 'sad,', 'puzzling', \"(I'm\", 'inner', 'Hidden', 'assigned', 'meaning', '(the', 'vampire', 'tourist', 'Possibly', 'criticism', 'Paris', 'cold,', 'indifferent', 'or,', 'summer,', 'packed', 'tourists', 'attraction.', 'My', 'personal', 'Coen', 'station,', 'Steve', 'confused', 'inadvertently', 'finds', 'Absolutely', 'perfect,', 'very,', 'word.', 'closest', 'edge', 'stayed', 'side.', 'Emily', 'gaining', 'insight', 'encounter', 'tomb', 'Juliette', 'Binoche', 'cope', 'Fanny', 'piece,', 'Ben', 'Gena', 'Rowlands', 'fell', 'Maggie', 'Gyllenhaal', 'Sherry', 'Baby', 'pieces', '(for', 'putting', 'it),', 'worked', 'baby', 'across', 'town.', 'African', 'struggling', 'society,', 'stabbed', 'dies', 'street', 'front', 'Yet', 'murder', 'sees', 'thousands', 'dying', 'reach', 'worker', 'trip', '\\x96', 'French', 'school', 'class,', 'moved', 'ending,', 'je', 'works', 'proving', 'ordinary', 'Brashear', 'Cuba', 'living', 'appearance', 'plus', 'highly', 'recommended', 'drama.', '9/10.', 'worthless', 'hangs', 'among', 'cable', 'channels', 'space', 'cheesy', 'dime', 'public', 'library.', 'tripe', 'sound,', 'camera', 'aspects', 'Many', 'junk', \"life's\", 'vehicle', 'ever,', 'revolting', '\"Happy', '\"It', 'Happened', \"World's\", 'Elvis', 'buys', 'girl,', 'balloon', 'marching', 'band', 'epitome', 'cinema', 'random', 'memories', 'ought', 'Wish', 'Were', 'Dead', '\"Stay', 'Away', 'Olivier', 'essentially', 'hippie', 'photographer', 'except', 'morning', 'reckless', 'beach', 'abducted', 'changes', 'depending', 'speaking', 'Clearly', 'Carey', 'selected', 'ability', 'mimic', 'Elizabeth', 'Taylor', 'glasses,', \"1960's\", 'Liz', 'dog', 'water', 'catches', 'convenient', 'consciousness', 'loses', 'apartment', 'stuff', 'either,', 'boss', 'beaten', 'deserved', 'hateful', 'slip', 'arrested', 'jobs', 'rent', 'Crazy', 'spring', 'stealing', 'Job', 'Don', 'Porter', 'Playboy', 'upstairs', 'Rudy', 'snobby', 'fashion', 'magazine.', 'comedy,', 'run', 'stairs', 'music.', 'obstacle', 'Greg', 'falling', 'interest,', 'dreadfully', 'miscast', 'Dick', 'advanced', 'ages', 'uninteresting', 'unfunny', 'turns,', 'kept', 'waiting', 'something,', 'Entertainment', 'approximately', 'comprised', \"Elvis'\", 'rendition', 'Little', 'Less', '(which', 'listen', 'CD', 'painful', 'inflicted', 'couch', 'apparently', 'flies', 'lands', \"That's\", 'folks,', 'busted', 'No', 'sixties', 'clothing,', 'music,', 'salvage', 'avoided', 'costs.', 'toward', 'grave', 'bodily', 'surprises', 'bio', 'Why?', 'Cuban', 'despicable', 'mass', 'revolution,', 'grounded', 'Hey', 'adult,', 'ground', '(sorry', 'shots', 'here)', 'Commander', 'revolutionary', 'presents', 'Che', 'mid', \"1950's\", 'joined', 'Fidel', 'crew', 'quest', 'overthrow', 'President', 'gargantuan', 'disaster', '2\"', 'industry', 'appalling', 'OK,', 'way!', 'meant', 'focuses', \"60's\", 'results.', 'fact,', 'meat', 'killed', 'Soderbergh', 'instances', \"Che's\", 'Prison', 'murdered', 'opposed', 'cinematic', 'viewers', 'atrocious', 'Guevara', 'hopes', 'disturbed', 'Unfortunately,', 'latter', 'decided', 'hero,', 'God', 'bottom', 'devil', 'barrel.', 'reviewer', 'admit', 'Benicio', 'Del', 'worthy', 'merit.', 'haunting', 'Castro', 'performance.', 'soldiers.', 'admire', 'Matt', 'throw', 'mix', 'cameo', 'biopic', 'mostly', '\"too', '4', '30', 'already,', 'him?', 'guess', 'Toro', '(as', 'saving', 'grace', 'executing', '***', 'Average', 'adapted', 'Catherine', 'became', 'sold', 'internet.', '2005,', 'release', 'turn', 'later,', 'leap', 'anything,', 'genre,', 'biased', 'merely', 'available', 'borrowing', 'neighborhood', \"Here's\", 'cents', 'saying', 'Wong', 'everybody', 'trio', 'buddies', 'stereotype', 'Chinese', 'Asian', 'race', 'Also,', 'speaks', 'mystical', 'accent', 'anywhere,', 'authorities', 'speak,', 'anywhere', 'outside,', 'say,', 'effect', 'sounds', 'forced', 'stilted,', 'string', 'one-liners', 'one-liners.', 'twenty', 'serving', 'plate', 'clichés.', 'premise', '16', 'unbelievable.', '(played', 'says,', 'hundred', 'East', 'Hong', 'Kong,', 'etc)', 'stars', 'value', 'fair,', 'Joan', 'Chen', 'older', 'lot,', 'hey,', 'rental', 'library,', 'pop', 'player', 'sake,', 'otherwise,', 'miss.', 'honest,', 'expecting', 'failure', 'sound', 'milk', 'money.', '(sometimes', 'told', 'Timon', 'Simba', 'trouble', 'sleeping', 'funny.', 'stop.', 'fun,', 'kids', 'adults.', 'straight', 'Video', 'end,', 'works.', '8', 'jaded', 'swept', 'hundreds', 'Hindi', 'Bollywood', 'too).', 'actors,', 'settings,', 'locations,', 'portrayed,', '(especially', 'singing', 'lovely.', 'element', 'woven', 'in,', 'allowing', 'heartfelt', 'terrific', 'actor,', 'steals', 'stars.', 'loves', 'superficial', 'beauty', 'Man,', 'scam', 'be!', 'Stuart', 'Stella', 'Stevens', 'Tony', 'Sure', 'names', 'opening', 'credits,', 'it!!', 'connects', 'equally', 'obscure', 'LADY', \"anybody's\", 'mood', 'elected', 'regardless', 'Apart', 'anonymous', 'crew,', 'amateurish', 'visible', 'miles', 'pretensions', 'intentionally', 'antics', 'owners', 'frequently', 'bemused', 'sheriff', 'creature', 'i.e.', 'realized', 'bother', 'film-makers', 'none', \"movie's\", 'bike', 'lying', 'beside', 'nature', 'spending', 'feeding', 'lived', 'wood', 'me.The', 'imagery', 'need.', 'conscious', 'added', 'lesson', 'previous', 'comment', 'requires', 'minimum', 'ten', 'lines,', '9', 'ten.', 'finishing', 'counting', 'realise', 'comment.', 'implausible', 'Goldie', 'Hawn', 'revolves', 'cocktail', 'waitress', 'Arab', 'downhill', 'halfway', 'charm', 'save', 'Unless', 'Betsy', 'creepy,', 'reinforces', 'stalker', 'wanted', 'vote', 'commentary.', 'IS', 'of.', 'negative', 'accurately', 'describe', 'Bo', 'Being', 'genre', 'fan,', \"80's\", 'AND', 'holds', 'heart.', 'supernatural', 'movie:', 'action,', 'guitar', 'soundtrack.', 'metal', 'released', 'popularity', 'video', 'eighties', 'cup', 'trust', 'average', 'outrageously', 'situations,', 'riff', 'fare.', \"You'll\", 'OR', 'Marc', 'Price', 'geeky', 'running', 'direct', 'Tomatoes', 'eat', 'pursue', 'stand-up', 'Morgan', 'written', 'produced', 'series,', 'Above', 'recently', 'Fields', 'performing', 'dancer', 'appeared', 'landing', 'devilish', 'Sammi', 'Sadly,', 'passed', '1995', 'related', 'remembered', 'homosexual', 'Since', 'varied', 'career,', 'appearing', 'as:', 'Crime', 'Scene', 'sci-fi', 'Tom', 'smash', 'back,', 'some,', 'accidentally', 'picking', 'store,', 'off,', 'grainy,', 'budget.', 'filmed', 'gals', 'weekend', 'guys.', 'Of', 'course,', 'EVERYONE', 'camping', 'trip,', 'arrive', 'area', 'Ranger', 'throwing', 'lit', 'cigarette', 'fire', 'season,', 'drives', '(a', 'remote', 'guys\"', '(yes,', 'immediately', 'smitten', 'development', 'forgetting', 'ex', 'stoned', 'with,', 'cabin', 'staying', 'sooner', 'MUCH', 'die,', 'traps', '(although', 'couple', 'lower', 'that)', 'campers', 'understandably', 'cell', 'reception', '(who', 'Sir', 'popping', 'behavior', 'twist', 'awake.', 'wake', 'blank', 'screen.The', 'terrible,', 'values', 'lame', 'released.', 'costs,', '10.', '1990s.', 'target', 'aimed', 'jaws', 'floor', 'other,', 'generally', 'crying', 'popcorn', 'feeble', 'paper,', 'no-one', 'clue', 'costumes.', 'Save', 'charming', 'town,', 'cats', 'sums', 'freaked', 'seriousness', 'spite', 'numerous', 'plenty', 'enjoyable', 'viewing', 'basis', 'instincts', 'rely', 'greed,', 'pride', 'lust', 'anger', 'Although', 'argued', 'seeming', 'serves', 'Stephen', 'King', 'specific', 'nicely', 'supported', 'FX', 'makeup', 'suitable', 'doubt', 'Alice', 'Mary', 'manages', 'simple', 'campy', 'collection', 'cast,', 'past', 'earth,', 'dance.', 'Too', 'concentrate', 'Maureen', 'displayed', 'Star', 'encourage', 'commit', 'Jones.', 'idiotic', 'Why', 'ship', 'youth', 'writing,', 'lord', 'gone.', 'taken', 'screenplay', 'placed', 'pokemon', 'legendary', 'be,', 'evil', 'appearance,', 'Professor', 'Misty', 'thinking', 'close.', 'here,', 'painter', 'Artemisia', 'reasonably', 'crafted', 'art', 'theme,', \"you've\", 'movie.This', 'inaccurate', 'depiction', 'inaccuracies', 'From', 'purely', 'technical', 'view', 'though,', 'sets,', 'costumes,', 'lighting', '17th', 'century', 'defended', 'time?', 'Perhaps', 'refused', 'victim,', \"would've\", 'threat', 'threats', 'West', 'thriller,', 'fairly', 'intense.', 'Widmark', 'serviceable', 'roles.', 'domestic', 'provide', 'plot.', 'mark', 'Jack', 'sharply', 'defined', 'exterior', 'reveal', 'cruel', 'beneath', 'surface.', 'chase', 'packing', 'plant', 'today.', '7/10.', 'convincing', 'losers', 'parade', 'identify', 'mere', 'that).', 'disjointed', 'slow,', 'verbal', \"character's\", 'practically', 'base', 'actions', 'treating', 'forth', 'crass', 'psychologically', 'handicapped', 'characters.', 'faux', 'analysis', 'step', 'despise', 'reasons', 'stalks', 'severely', 'depressed', 'detached', 'woman.', 'Supposedly', 'due', 'depression', 'support', 'Is', 'obsession', 'shocked', 'betrayal,', 'BAD', 'flimsy', 'camera-work', 'inspired', 'group.', 'seemed', 'aim', 'players', 'raw', 'gritty', 'light', '(while', 'suppose', 'grateful', 'achieved', 'barrage', 'identical', 'proper', 'blue', 'green', 'clothing', 'changed', 'True', 'heard', 'male', 'seats', 'objective', 'proves', 'yourselves', 'else.', 'write', 'culture.', 'Movie', 'studios', 'determined', 'including', 'Wicker', \"Man'\", 'lazy', 'mentality', 'An', 'masterpiece', 'colour', 'source', 'material,', 'then,', 'raping', 'cartoon', 'myself,', 'equivalent', 'print', 'discovered', '2004', 'specialized', 'theaters', 'According', 'current', 'removed', 'initial', 'release,', 'pass', \"we're\", 'comparisons', 'versions.', 'Note', 'censored', 'originally', 'seen.', 'Stanwyck', 'upper', 'teenagers', 'Chico', 'Gabriel', 'university', 'eve', 'party', 'drugs', 'date', 'rape', 'girl.', 'dies,', 'panic', 'rid', 'body,', 'arrives,', 'rolls', 'breaking', 'neck.', 'decides', 'burn', 'corpses', 'garbage', 'tragedies', 'shameful', 'de', 'overrated', 'pretentious', 'alienation', 'youth,', 'Brazilian', 'shallow,', 'dark', 'humor', 'taste.', 'dialogs,', 'boring,', 'manipulative', 'interviews', 'morons', 'end.', 'talent,', 'presence', 'promising', 'trash.', 'camera,', 'cinematography', 'edition', 'quality.', 'actresses', 'plus,', 'gang', 'bang', 'realistic', 'promote', 'marketing', '(Brazil):', 'Nice', 'beings', 'helping', 'emulate', 'colleague', 'Hung', 'ambiance', 'gone', 'historical', 'project', 'pace', 'fake.', 'Besides', 'rapidly', 'creates', 'boredom', 'Da', 'Harvey', 'Southern', 'nobody', 'clip', 'Northern', 'Seriously', 'Vietnamese', 'poet', 'doubtful', '(not', 'disease', 'peasant', 'elaborate', '', 'convincingly.', 'audition', 'convinced', 'accepted', 'naive', 'country', 'particular,', 'interplay', 'policemen', 'natural', '45', 'long,', 'complex.', 'More', 'key', 'slick', 'vibrant,', 'backdrops', 'atmospheric,', 'colours', 'rich.', 'foreign', 'audiences,', 'distinctly', 'dad', 'owned', \"hadn't\", 'nor', 'forgotten', 'track', 'weeks', 'pleasantly', 'Set', 'Orleans', '1930s,', 'delightful', 'memorable.', 'goofs', 'detract', 'storyline,', 'smiling', '(maybe', 'grown-up', 'while,', 'Charlie', 'Chaplin', 'pictures.', 'Mack', '(also', 'known', 'churned', 'comedies', 'structure', 'ad', 'result,', 'standards.', 'bear', 'similarity', 'featuring', 'obnoxious', 'relatives', 'mugging', 'camera.', 'nothing.', 'And,', 'outcome,', 'Keystone', 'sent', 'theaters.', 'assumption', 'evolve', \"Chaplin's\", 'signed', 'contract', 'Studios', 'improved', 'director.', 'No,', 'switched', 'again', 'jerk', 'drunk', 'beating', 'women,', 'provoking', 'fights', 'people,', 'etc.).', 'evolution', 'occurred', '1920s', 'full-length', 'OF', 'LOVE', 'lasts', 'minutes!', 'Oh', 'involves', 'park.', 'neck', 'insists', \"couple's\", 'lap', 'annoying', 'consists', 'wandering', 'park', 'coherence', 'particularly', 'slapping', 'pushing', 'lake.', 'personality.', 'begin.', 'cheap', 'Saturday', 'Sort', 'Captain', 'Power', 'digital', 'sounding', 'continuity.', 'bunch', 'forgot', 'on,', 'villains', 'explosive', 'device', 'agents', 'car.', 'reason,', 'clearly', 'stated', 'away.', 'carries', 'stunts.', 'point,', 'crash', 'Then,', 'seconds', 'crash.', 'planted', 'agent', 'driving', 'Which', 'Sound', 'movie.I', 'Rings', 'cgi', \"We're\", 'Rangers', 'Todd', 'money,', 'one.', 'violent', 'tradition', 'Andrew', 'V.', 'westerns', '(particularly', 'mainly', 'mode.', '(good', 'incredible', 'former', 'captain', 'Arizona', 'police', 'retirement', 'law', 'enforcement', '(Michael', 'railroad', '20th', 'century.', 'confronted', 'menace', 'outlaw', 'decade', 'robbery', 'subsequent', 'Coburn', 'nasty', 'revenge.', 'kidnapping', 'eventually,', 'gang.', 'taut', 'pursuit', 'mountains', 'southern', 'LAST', 'places,', 'showdown', 'Heston', 'involving', 'members', 'questionable', 'terribly', 'genre.', 'McLaglen', 'handle', 'significant', 'aging', '1970s', 'cold-blooded', 'heavy,', 'Mitchum', 'intended', 'Jerry', 'scores', '100', '1966', 'location', 'utilizing', 'Old', 'set,', 'MEN', 'needs', 'VHS', 'and/or', 'soon.', 'deserves', 'killing', 'Heath', 'Ledger', 'Orlando', 'Bloom', 'Ned', 'inappropriate', 'mild', 'vicious', 'important', 'armor', 'have.', 'Warren', 'mystery', 'brisk', 'unlucky', 'appears', 'intent', 'demise', 'suspects', 'Virginia', 'Kent', 'Smith,', 'Gene', 'Jessie', 'Ivan', 'load', 'set', 'decoration', 'fancy', 'interiors', 'wealthy', 'home.', 'Must', 'side,', 'reasonable', 'suddenly', 'Philo', 'confrontation', 'nifty', 'passes', 'Somerset', \"Maugham's\", '\"Of', 'Human', 'Bette', \"Davis'\", 'sucking', 'energy.', 'Otherwise,', 'Leslie', 'Howard', 'Philip', 'dreams', 'progresses,', \"Howard's\", 'instead,', 'doctor.', 'efforts', 'indicate', 'advice', 'painting', 'easier', 'also,', 'symbolism', 'away,', 'infatuated', 'Davis', 'Mildred', 'culminating', 'spectacular', 'speech,', 'Howard,', 'MY', 'kissing', 'performs', 'explain', 'prolonged', 'fascination', 'wasted.', 'players.', 'inspiring', 'campaign', '1934', 'Academy', 'record,', '1.', 'Colbert', 'Night\"', '2.', 'Norma', 'Shearer', 'Street\"', '3.', '4.', 'Grace', 'Moore', '\"One', 'Night', 'Love\"', 'Cromwell', '~', 'Davis,', 'Reginald', 'graphics', 'ridiculous,', 'pathetic', 'biggest', 'selection', 'dramas', 'oriented', 'kill', 'to,', 'matches', 'Witch', 'gods', 'cry', 'player,', 'great.', 'folks', 'soul', 'minute', 'minute.', 'Unfortunately', 'joy', 'lacked', 'desperate', 'screenplay.', 'believer', 'minister', 'graduate', 'positive', 'Heaven', 'happen.', 'Christianity', 'rubbish.', 'Christians', 'devout', 'prayed', 'Bible', 'discover', 'god', 'atrocities', 'alright', 'mentioned.', 'documentary', 'tale', 'expedition', 'blind', 'Tibetan', 'personality', 'clash', 'hand,', 'Erik', 'climb', 'guiding', 'kids.', 'agrees', 'subsequently', 'doubts', 'level,', 'philosophy', 'emphasis', 'goals', 'desires', 'certainty', 'correctness', 'sympathise', 'effective', 'themselves.', 'delivers', 'message', 'designed', 'uplifting', 'details', 'relentlessly', 'feature', 'argue', 'presented', 'Mystery', 'Science', 'unintentional', 'Be', 'following:', 'here),', 'jacket', 'incredibly', 'process', 'monsters', 'hand', 'puppet', 'giant', 'snake', 'sinks', 'amazingly', 'boat', '(oh,', 'prom', 'Future', 'wear', 'Roman', 'Imperial', 'inexplicably', 'Egyptian', 'invented', 'fright', 'manage', 'Frenchman', ',and', 'evidently', 'chose', 'die', 'scenes.', 'overall,', 'written.', 'communicating', 'other.', 'Apparently', 'page', 'Street', 'original)', 'apart.', 'THEY', 'whoever', 'scripted', 'Such', 'Angels', 'place,', 'care,', 'manager', \"team's\", 'TV.', 'game', 'bent', 'shape', 'claims', 'losing', 'verge', 'eccentric', 'foster', 'speech', 'news', 'White', 'wins', 'season', 'division', 'breaks', 'streak', 'VERY', 'Mel', 'Clark', '(Tony', 'scoring', 'games,', 'pitch', 'count', 'angel', 'says', 'won', 'angels', 'manipulating', 'fixing', 'games', 'MANY', 'examples', 'entertaining.', 'Done', 'forgettable', 'forever', 'Morning', 'etc', '42', '6th', 'meeting', 'hunter', 'episodes', 'worst.', 'bogus', 'happening', 'dream', \"Clark's\", 'caused', 'zone', 'wakes', 'blah', 'villain', 'progress', 'week.', 'May', 'fly', 'closer', 'reciting', 'captures', 'heart', \"DON'T\", 'text', 'book,', 'events', 'Hughes', 'Dale', 'Denise', 'Crosby', 'parents.', 'Louis', 'nails', 'parody,', 'warm', 'Jud', '10)', 'problems', 'growing', 'Blue', 'surfing', 'Sean', 'Pertwee', 'Jones', 'Ewan', 'drug', 'addicted', 'hints', 'interesting.', 'Plus', 'shallow', 'situations', 'videotape', 'US', 'mainstream', 'fame.', 'Second', 'Originally', 'kinda', 'effects,', 'though.', 'Vampires', 'spaceship', 'vampires,', 'receives', 'team,', 'formed', 'rookie', 'officer', 'rebels', 'Aaron', 'Pearl', 'meets', 'leader', 'vampires', 'Ironside', 'Total', 'humans,', \"I'll\", 'anytime', 'sappy', 'unbearable', 'again,', 'Holes', 'scene.', 'Sure,', 'aforementioned', 'quality,', 'decent,', 'dynamics', 'Stanley', 'cry.', 'power', 'imagine,', 'Shawshank', 'similar,', 'it).', 'hokey', '8/10.', 'best.', 'Paris.', 'Sometimes', 'numbers,', 'Production', 'voice-over', 'awful,', 'critically', 'acclaimed', 'masterpiece,', 'means,', 'laughs', 'states', 'laughter', 'peak', 'Susan', 'greater', 'weekly', 'series.', 'Robert', 'Englund', 'Freddie', 'dreams.', 'Taylor,', 'sheriff.', 'nice,', 'sincere', 'person.', 'show,', 'Boston', 'legal', 'tail', 'headed', 'barn', 'door', 'th', 'pig', 'aired', 'humorous', 'slap', 'system', 'extent', 'acceptable', 'activity', 'limited', 'humorous.', 'participated', 'dragged', 'depths', 'Media', 'programming', 'violence.', 'stable', 'platform', 'Rene', 'entertainment,', 'respectful', 'Kirk', 'Funny', 'continuing', 'James', 'ability,', 'origins', 'direction.', 'trashed', 'staring', 'fat', 'rear', 'smoke', 'ring', 'drinking', 'booze', 'doctor', 'Nicholas', 'Cage', 'plotting', 'horrid', 'movie.The', 'wastes', 'cheesy,', 'terrible.', 'there?', 'mouth', 'shots.', 'ago', 'movie!', 'deeply', 'touched', 'brave', 'theater', 'sister', 'MUST', 'SEE', 'forget', 'me...', 'Motion', 'Picture', 'Wright', 'State', 'University', 'yesterday', 'opportunity', 'god-awful', 'class.', 'informed', 'professor', 'knew', 'silent', 'lines.', 'producers', 'Sounds', 'right?', 'lots', 'hearty', 'technology', 'static', 'table.', 'Someone', 'walks', 'line,', 'table,', 'laughable', 'problems.', 'worse.', 'account', 'Titanic.', 'pointless.', '\"story\"', 'cheating', 'resolved', 'place.', 'lousy', 'pregnant', 'pauses', 'times.', 'tiresome,', '180', 'least)', 'issue', 'racism', 'country,', 'offended', 'blacks', 'animals.', 'pushed', 'ordered', 'shot.', '2/10.', '1/10', 'lowest', 'rating', 'Alfred', \"Hitchcock's\", 'adapt', 'immediately.', 'GOOD', 'clichéd', 'hackneyed', '\"Scary', 'bits', 'Stupid', 'junk.', 'ears', 'Honestly,', 'need', 'Leading', 'Guy', 'obsessed', 'her?', 'police.', 'teams', 'back!', 'sleepy', 'cop', 'window', 'rolled', 'throat', 'serial', 'killer', 'murdering', 'problem.', 'resistance', 'victims', 'Nobody', 'protection', 'flipping', 'lock', 'hotel', 'mentally', 'disabled', 'by,', 'tastefully', 'killings', \"they've\", 'out.The', 'missing', 'cat', 'pops', '\"Oh', 'scared', 'me!', 'easiest', 'choice.', 'throughout.', 'enough.', \"Don't\", 'crowning', 'king', 'bucket', '\"Friday', 'Movie\"', 'them)', 'scare', 'twists.', 'Really,', 'awful.', 'Lone', 'competently', \"He's\", 'transparent', 'California', 'inept', 'spoof', 'aspects,', 'said.', 'plot?', 'Bad', '(well,', 'suspect', 'Ray', 'unbelievably', '(who,', 'Detroit', 'training', 'camp', 'position', 'third', 'quickly', 'Alex', 'Mike', 'cause', 'blocks', \"writer's\", 'determination', 'debut', '1968', 'includes', 'Roy', 'Lauren', 'March', 'directs', 'Towards', 'thriller', 'image', 'creatively', 'hauntingly', 'image.', 'convinces', 'carry', 'wondered', 'pair', 'glasses', '(but', \"here's\", 'answer.', 'rest,', 'Sally', 'drunken', 'brute', 'insurance', 'distasteful', 'role.', 'Walker', 'inspires', 'sympathy', 'plight', 'wooden.', 'rises', 'little.', 'understated', '(though', 'automatic', 'admirable', 'context', 'rest.', 'sets', 'likable', 'comical', 'B.', 'magnificent', 'moment,', 'recognized', 'marking', 'Isabelle', 'deliver', 'Le', 'Les', 'stylish', 'angles', 'Jeremy', 'Northam', 'Lucy', 'Liu', 'range', 'performers.', 'included', 'imaginative', 'combined', 'progressed', 'layers', 'corporate', 'greed', 'Orwell', 'suggested', 'future', 'ruled', 'minds', 'diminish', 'futuristic', 'controlled', 'Jesus', 'Son', 'choice', 'historic', 'figure,', 'social', 'Holy', 'Spirit', 'Mary,', 'opened', 'us.', 'Big', 'creation.', 'depicts', 'Passion', 'happily', 'incorporates', 'Play', 'performed', \"director's\", 'Church', 'parallel', \"actor's\", 'attempt,', 'depicting', 'organs', 'bodies', 'important,', \"wouldn't\", 'stand', 'shoes', 'SPOILERS', 'gripping', 'here?', 'gritty,', 'pulls', 'drags', 'proverbial', 'path,', 'riveting', 'script,', '(at', 'notice', 'hooked', 'Brilliant', 'Pumbaa', 'fellow', 'adventure.', 'Then', 'search', 'repeatedly', 'fail,', 'crazy.', 'Dark', '\"I\\'m', 'Matrix,', 'chick', 'shiny', 'leather', 'Only', 'this!', 'character,', 'dig', 'chicks', 'dreary,', 'formulaic,', 'tedious,', 'dull,', 'dumb,', 'Live', 'anime', 'SF', 'Joe', 'fact.', ':(', 'sweet,', 'screwball', 'comedies,', 'slight', 'Randall', 'IRS', 'investigates', 'farmer', 'file', 'income', 'tax', 'return.', 'company.', 'treat', 'Debbie', 'marks', '1950s.', 'strange', 'west', 'net', 'dreams,', 'startling', 'images,', 'choreographed', 'resembles', 'nightmare', 'wonderful.', 'wilderness', 'understanding', 'harmony', 'nature,', 'purchased', 'amusing,', 'hits', 'bar', 'preachy', 'taste', 'concerned.', 'teach', 'lesson,', 'it!', 'attack', 'horses', 'ranks', 'Saving', 'private', 'Ryan,', 'returning', 'signature', 'agent,', 'heroin', 'Kong.', 'kung-fu', 'B-movie', 'outset', 'energetic', \"(she's\", 'sexy,', 'spin', 'surroundings', 'villainess', 'time;', 'match', 'Shelley', 'Winters', 'predecessor.', '**', '****', 'idol', 'anymore,', 'projects.', 'Here,', 'tracking', 'perennial', 'loser', 'deadly', 'Hardy', 'Jr', 'featured', 'arrogant', 'horrifying', 'chemical', 'moving.', 'Natasha', 'wacky', 'government', 'incident', 'provides', 'inevitable', 'hero', 'Brandon', 'slimy', 'company', '2000', 'soft', 'drink', 'lovingly', 'weaknesses,', 'despair,', 'crime,', 'drugs,', 'war,', 'down,', 'free', 'sometime', 'reviews,', 'Fat', 'Independent', 'Keep', 'figured', 'wrong.', 'suffering', '\"film\"', '(And', 'term', 'entertained.', 'start,', 'Shaq', 'Quentin', 'Tarantino', 'Marlon', 'Brando', 'rap', 'tell,', 'annoying,', 'Quite', 'frankly,', 'turd', 'Omen', 'IV', 'over,', 'executives', 'experimenting', 'travesty.', 't.v.', 'Did', 'catch', 'bought', 'trilogy.', 'knocked', 'bucks', 'basically', 'Instead', 'punk', 'kid,', 'spooky', 'brat', 'stronger', 'skills,', 'demonic', 'occurred.', 'foot', 'recommended,', 'Actor', 'Paxton', 'directorial', 'widowed', 'mechanic', 'sons', 'participating', 'savage', 'ax', 'murders,', 'destroy', 'flashback', 'sons,', 'grown', '(Matthew', 'skeptical', 'FBI', 'automatically', 'film;', 'features,', 'twisty', 'straightforward', 'Well', 'acted', 'Kids', 'points', 'stomach.', 'event,', 'atypical', 'politics,', 'Al', 'Pacino', 'mayor', 'shooting', 'boy.', 'political', 'point.', 'idealistic', 'impressions', 'top,', 'tears', 'Certainly', 'see.', 'Cusack,', 'Bridget', 'Danny', 'Anthony', 'powerful', 'abuse', 'lawyers', 'judges', 'successfully', 'husbands', 'abusive', 'treatment', 'divorce', 'desperately', 'fascinating', 'individual', 'represented', 'court', 'rooms', 'you,', 'occupy', 'positions', 'authority', 'cases', 'Was', 'court,', 'wishes', 'suggesting', 'answered', 'questions.', 'wide', 'audience.', '2,', 'spin-off', 'show!', 'Teenage', 'fest.', 'any.', 'glimpse', 'cares', \"show's\", 'females', 'under', 'Boring', 'religious', 'nonsense', 'talking,', 'Stargate', 'no-budget', 'attributes', 'Eve', 'embarrassment', 'connected', 'muster', 'Christmas', '\"action\"', 'competent', 'Clyde', 'philosophical', 'war', 'T&A', '(by', '1960s', 'anyway)', 'Worth', 'Meyer', 'strut', 'stuff,', 'Battle', 'happy.', 'creators', 'heat', 'unconventional', 'appeal', 'teens', 'guns,', 'balanced', 'robots', 'Japan', '(most', 'Anime', 'Twelve', 'stopped', '\"Hot', 'dying.', 'students', 'finish', 'curses', 'Scream', 'released,', 'cash', 'success,', 'concept,', 'film)', 'relatively', 'cool', 'Urban', 'Final', 'Cut', '(well', 'concept.', 'ready', 'blonde', 'Neve', 'Campbell', 'rip-off', '80s', 'Elm', 'mask', 'death,', 'holes', 'fully', 'hole', 'Spoiler', 'mean,', 'burnt', 'copy', 'hell', 'End', 'big.', 'sequel,', 'late.', 'Australian', 'scares.', 'neat', 'ludicrous.', 'rated', 'bored.', 'tens', 'millions', 'dollars', 'countless', 'poured', 'en', 'happens.', 'release.', 'beats', 'pictures', 'lately.', 'kudos', 'thinking.', 'majority', 'mindless', 'drivel.', 'insulted', '40', 'feat.', 'developed.', 'anymore.', 'critique', 'purpose', 'cake.', 'show.', 'stupid.', \"everyone's\", 'heroes', 'WHAT', 'ARE', 'YOU', 'Hudson', 'cheer', 'clue.', 'premiere', 'teen', 'Nick', 'Emma', 'Roberts,', 'Lindsey', 'etc.)', 'commercial', 'brain-dead', 'awesome', 'trick', 'drugged', 'loads', 'convincing,', 'sick,', 'EVER.', 'weird,', 'girls.', \"guy's\", 'fake', '(in', 'life)', 'Jesse', 'cousin', '(they', 'single,', 'married', 'Polly', 'either.', 'Naked', 'Brothers', 'gonna', '0/10', 'Drew', 'shower', 'outfits', 'etc.', 'friendly', 'movies.The', 'cinema.', 'dialogs', 'anyway.', 'preview', 'highlight', 'hopefully', 'Go', 'Five', 'Across', 'store', 'Soon', 'forces', 'shotgun', 'shouts', 'clothes', 'randomly', 'terrified', 'responsible', 'film-making', 'decision', 'deliberate', 'provoke', 'atmosphere,', 'tension,', 'aspect', 'YouTube', 'frankly', 'pulling', 'web', 'IMDb', 'revealing', 'wrong,', 'phrase', \"'the\", 'agree', 'explanation', 'ages,', 'fill', 'program', 'length', 'screaming', 'lot.', 'screaming,', 'endless', 'whining', 'irritates', 'annoys', 'prevents', 'sane', 'hear', 'properly.', 'killer,', 'mini', 'seriously', 'body', 'hated', 'medium', 'camcorder', 'drunk.', 'Blair', 'Project', \"what's\", 'grainy', 'contrast', 'violence', 'stabbing', 'budgeted', 'locations.', 'irritate', 'whenever', 'mention.', 'wretched', 'Barry', 'England', 'claim', 'Aussie', 'outside', 'Nation', 'Animation', 'Japan,', 'Europe', 'USA', 'tag', 'France', 'classics', 'Lucky', 'these,', 'limit', 'DC', 'France.', 'suits', 'talented', 'Luckily', 'suppress', 'gathered', 'Renaissance', 'artsy', 'cool,', 'fears', 'Pixar', 'confusing,', 'luckily', 'anyway', 'worthwhile', 'dub', 'praise', 'animation.', 'awesome.', 'camera-work,', 'smart', 'do)', 'visually', 'stunning', 'bursting', '\"This', 'damn', 'appreciate', 'verdict', 'anyway,', 'stunning.', 'Each', 'composed', 'function', 'beauty,', 'tribute', \"Derek's\", 'commentary', 'mentioning', 'father,', 'lover,', 'man,', 'bygone', 'era', 'men.', 'wrapped', 'confidence', 'contributes', 'Left', 'Behind', 'research', 'science,', 'politics.', 'remain', 'faithful', 'methods', 'fulfilling', 'invasion', 'tone', 'myself', 'bordering', 'poor.', 'occasional', 'basis.', 'scattered', 'flesh', 'conspiracy', 'theory.', 'incoherent', 'conclusion', 'dragging', 'excruciatingly', 'underscores', 'motion', 'picture.', 'mini-series', 'remind', 'soundtrack', 'belong', 'plane,', 'disasters', 'compelling.', \"book's\", 'face.', 'rally', 'publicity', 'Christianity.', 'compelling,', 'intelligent,', 'reader', 'Christ', 'trilogy', 'kicked', 'Kate', 'wrongly', 'Jed', 'door.', 'reluctantly', 'sits', 'road', 'title)', 'truck.', 'screenwriter', 'Up', 'intends', 'Everybody', \"everybody's\", 'juice', 'schools', 'promoting', 'product,', 'week', 'crashes', 'car,', 'seat', 'lawyer,', 'jail', 'service,', 'brother', 'J', 'foul', 'Rock.', 'Christopher', 'dress', 'medieval', 'beat', 'unpleasant', 'ways.', 'hearing', 'words', 'older,', 'thinking,', 'nothing,', 'annoyingly', 'predictably', 'types', 'comedies.', 'Lynch,', 'overacting', 'ever.', 'Playing', 'drugs.', 'wall.', 'separate', 'himself,', 'Rudd', 'higher', 'laughs,', 'Cause', 'hard.', 'watchable.', 'picks', 'predictable', 'uninteresting.', 'reminder', 'new,', 'same,', 'Wal-Mart', 'online', 'early.', 'following', 'struck', 'editing,', 'Time', '(usually', 'editor,', 'arriving', 'sorry', 'happy,', 'employs', 'sometimes.', 'distracting', 'uses', 'constant', 'rushing', 'representing', 'towns', 'London.', 'folk', 'regard', 'angle', 'distance', 'London,', 'feet', 'tall', 'facial', 'Timothy', 'Hines', 'talked', 'turkey,', 'simple.', 'side', 'provided', 'genuine', 'laugh-out-loud', 'hilarity', 'while.', 'Hedy', 'native', '1990', 'brief', 'waist', 'swimming', 'runaway', 'horse', 'naked,', 'cover', 'reflections', 'thus', 'imagining', 'ups', 'boyfriend', ',', 'Pierre', 'daring', '2003', 'learned', 'allegorical', 'statements', 'drops', 'forming', 'pale', 'farm', 'landscapes', 'strings', 'transition', 'minimalist', 'gestures', 'German', 'spoken', 'subtitles', 'lyrical', 'vein', 'marries', '(why', 'Eva', 'husband', 'swim', 'buff', 'onto', 'notions', 'naked', 'recover', 'engineer', 'rival', 'illogical', 'weakness', 'bearing', 'VHS,', '70', 'period', 'mourning', 'imagines', 'infant', 'wash', \"1930's\", 'sake', 'catching', 'Give', 'tackle', 'magically', 'horrible', 'laughed', 'quoted', 'wait,', 'brand', 'truck,', 'pregnancy', 'twice.', 'championship', 'kick', 'goal', 'it.\"', 'chosen', 'enjoyable.', 'chooses', 'games.', 'bible', 'on?', 'bet', 'Saint', 'wished', \"he'd\", 'keys', 'safe', 'trouble.', 'Carlos', 'special.', 'deal.', 'stolen', 'material', 'special,', 'true.', 'Dee', 'act,', 'laugh.', 'message,', 'theaters,', 'finally,', 'up.', 'knowing', 'expect,', 'dvd', 'settled', 'murder,', 'pressed', 'play.', 'Wonderland', 'LA', 'porn', \"70's,\", 'Holmes', 'beginning,', 'murders', 'investigation', 'after.', 'Aside', 'walls', 'Val', 'Kilmer', 'sells', 'star,', 'it\"', 'looks,', 'personally', 'mentioned,', 'outright', 'murders.', 'brutal', 'Furthermore,', 'Carrie', 'think,', 'cliche', 'Fisher', 'watch,', 'stood', \"can't.\", 'kids,', 'labor', 'laws', 'then...', 'BUT', 'Hamlet', 'paced', 'hardest', 'Like', 'boring.', 'white,', 'minimal', 'scenery.', 'dubbed', '3000', 'is;', 'center', 'wherein', \"one's\", 'hinges', 'finely', 'tuned', 'brain,', 'delicate', 'intricate', 'see,', 'sky', 'vision', 'reality.', 'filmmaker', 'inherits', 'empire', 'father.', 'percent', 'controlling', 'marked', 'seven', 'directors,', 'fires', 'perception', 'still,', '(he', 'refers', 'challenge', 'lavish', 'Thomas', 'warns', 'back.', 'casual', 'mind.', 'night,', 'pivotal', 'upside', 'forever.', 'sometimes,', 'one;', 'Beginning', 'images', 'experience', 'swallow', 'sweep', 'emotionally,', 'Think', 'vibrant', 'assault', 'darkness', 'light,', 'pound', 'brain.', 'landscape', 'virtual', 'sky.', 'Simply', 'put,', 'Ethan', 'Hunt', 'perceive', 'years,', 'Wide', 'before.', 'earned', 'admiration', 'acclaim', 'outstanding,', 'alluring', 'innocence', 'forthcoming', 'hint', \"She's\", 'part,', 'package', 'persona', 'innate', 'unforgettable.', 'Lee', 'Johnny', 'Armand', 'Noah', 'Thompson', 'Jean', 'Carol', 'About', 'half-way', 'questioning', 'revealed.', 'sure,', 'wild', 'exciting', 'entertainment', 'believe.', 'magic', '10/10.', 'segments', 'funniest', 'segment.', 'listed', 'IMDb.', 'ones.', 'Few', 'connect', 'sleeps', 'Culp', 'humor,', 'First', 'Lady', 'rip', 'Pakistani', 'videos', 'instead.', 'in.', 'listening', 'painfully', 'dull', 'Elisha', 'Cook,', 'Jr.,', '...', 'substance', 'abusing', 'flash', 'impressive.', 'gas', 'station', 'sign', 'smile', 'discuss', 'Back', 'Law', 'Number', 'gag', 'Young', 'hardened', \"doesn't.\", 'Vampire', 'God!', 'abysmal', 'latter.', 'credible', 'closing', 'convicted', 'psycho', 'killed.', 'genetic', 'experimental', 'acid', 'snowman', 'Frost', 'scares', \"50's.\", 'Carrey', 'shines', 'till', 'DVD.', 'Probably', 'Dolph', 'miserable', 'interests', 'stumbles', 'European', 'blast', 'religion', 'country.', 'filmmakers', 'Here', 'blasting', 'Catholic', 'Award', 'belief', 'weak.', 'food', 'idiot.', 'dominated', 'fool', 'marry', 'daughters', 'seducing', 'student', 'studied', 'disgrace', 'business,', 'worldwide', 'SPOILER', 'intense', 'offer', 'miserably.', 'whatsoever,', 'comical.', 'nervous', 'dumped', 'tense', 'Maria', 'worse,', 'attitude,', 'obvious,', 'credibility.', 'matters', 'from,', 'lesbian', 'relationship,', 'there:', 'content', 'beginning.', 'touching,', 'dumps', '(aside', 'there)', 'talent.', 'attitude', 'twice', \"parents'\", 'necessary', 'Romanian', \"could've\", 'incestuous', 'credibility', 'interludes', 'comfort', 'room.', 'snuff', 'acted,', 'engrossing', 'thing!', 'perversion', 'corruption,', 'abuse,', 'abuse.', 'redemption', 'whatsoever.', 'WAS', 'watching.', 'thing,', 'hide', 'existence', 'ashamed', 'cousins', 'tribe', 'does.', 'finest', 'illness.', 'Diamond', 'Art', 'Evans', 'clueless', 'reunion,', 'abandon', 'prop', '1950s', 'prank', 'lunch', 'horny', 'coupled', 'killed,', 'continued', 'National', \"Lampoon's\", 'downward', 'spiral', '90s.', 'simply,', 'dull.', 'happen,', 'Fortunately,', 'patience', 'ninety', 'disappointment.', 'missed', 'ABC', 'website', 'summer', 'excellent.', 'checked', 'Fall', 'sad.', 'thinking?', 'posted', 'glowing', 'mine.', 'dislike', 'itself,', 'passable,', 'Jennifer', 'Tilly', '(yet', 'usual,', 'somewhere', 'sarcastic', 'perpetually', 'stress', 'futile', 'degrading', 'Darryl', 'Hannah', 'weeping', 'walked', 'sorry.', 'history.', 'min', 'peoples', 'taste,', 'HAVE', 'quarter', 'parental', 'vampire,', 'Cabin', 'faith', 'UK.', 'jokes.', '(Which', 'crude', 'fart', 'jokes,', 'etc...', 'funny.The', 'Calvin', 'sized', 'diamond', 'passing', 'abandoned', 'baby,', 'now,', 'output', 'Wayans', 'Hitchcock', 'test', 'household', 'thrillers,', 'Normally', 'raise', 'countries', 'drop', 'English,', 'secretary', 'loyal', 'appreciated', 'denied', 'ladder', 'allowed', 'hire', '25', 'thief,', 'Carla', 'covers', 'needed.', 'like,', 'Jacques', 'directing.', 'before,', 'course.', 'role,', 'helpless', '(you', 'TV-movie', 'noticing', 'Vincent', 'Cassel', 'famous,', 'Emmanuelle', 'glamorous', 'roles,', 'realistic.', 'typically', 'thanks', 'luck', 'greatest', 'hesitate', 'try.', 'twisted', 'story:', 'disappointed.', 'environment', 'business.', 'companies', 'spy', 'departments', 'mode', 'Cypher', 'belongs', 'Actually', 'fifth', 'well-made', 'Sorry,', 'hurt', 'chance.', ';-)', 'Somehow', 'pictured', 'producer', 'presenting', 'characters)', 'gain', 'momentum', 'topic', 'War', 'City', 'pilot', 'develops', 'survivor', 'portion', 'witnesses', 'contact', 'stunned', 'sword', 'fights,', 'animation,', 'lights,', 'soundtrack,', 'development.', 'personalities', 'reveals', 'dynamic', 'patterns', 'individuals', 'linear', 'flawed', 'characters.The', 'tied', 'altered', 'such.', 'can.', 'sudden', 'breath.', 'York,', 'Andy', 'Hanson', 'Seymour', 'Hoffman)', 'executive', 'estate', 'addiction', 'expensive', 'Gina', 'scheduled', 'department,', 'Hank', 'owes', 'months', 'afternoon.', 'plots', 'heist', 'jewelry', 'parent', 'employee', 'financial', 'damage', 'loss.', 'Monday', 'morning,', 'invites', 'mall', 'located', 'thief', 'Bobby', '(Brian', 'F.', 'steal', 'substitute', 'clerk', 'gun.', 'reacts', 'Charles', 'Devil', 'Knows', \"You're\", 'errors,', 'originality', 'non-linear', 'narrative', 'la', '\"Pulp', 'year-old', 'Sidney', 'Lumet', 'Hoffman', 'dysfunctional', 'traumatic', 'apart', 'insecure', 'clumsy', 'brother.', 'Marisa', 'Tomei', 'impressively', 'body.', 'cameos', 'Ebert', 'about.', 'virginity', 'suggests', 'wait.', 'yet,', 'Julia', 'Roberts', 'punched', 'anal', 'Patrick', 'Farrah', 'Burning', 'summary', 'for,', 'pain', 'survive.', 'Enemy', 'thrills', 'faking', 'grow', 'suspicious', 'mouse', 'Iowa', 'changing', 'soup', 'thrill', 'abused', 'cheated', 'situation.', '0', 'Albert', 'Edward', 'newcomer', 'directing', 'seasoned', 'pro', 'Huston', 'charming.', '1999', 'Kathy', 'Alan', 'sequel.', 'Before', 'Ashley', 'Johnson', 'own.', 'Collins', 'Daddy', 'Annie', 'critics', 'agreed', 'TV,', 'otherwise', 'lovable', 'mood,', 'prepare', 'entertainment.', 'flavor', 'developed', 'SO', 'wanna', 'sing', 'planned', 'dancing', 'legs', 'air,', 'dinner', 'romantic,', '70s.', 'nailed', 'suburban', 'teenager', '70s', 'cars,', 'authentic', 'boasts', 'ensemble', 'unique,', 'sequences.', 'tricks', 'sequences,', 'characterized', 'bothers', 'generate', 'Married', 'Children', 'tacky', 'imitate', 'Show,', 'nostalgia', 'factor.', 'relied', 'witty', 'tasteless', 'jokes', 'drowned', \"Hollywood's\", 'attempts', 'idea.', 'bowl', 'case.', 'Nic', 'hat', \"Cage's\", 'Raising', 'Leaving', 'Las', 'Vegas', 'animated,', 'seriously.', 'opinion,', 'Woody', 'Allen', 'screw', 'unfunny,', 'confess', '(e.g.,', 'Money', 'sleep', 'button.', 'sadly,', 'devoted', 'Brooks', 'stick', '\"Young', 'crank', 'blessed', 'ruined', 'Mother', 'surpasses', 'overcomes', 'carnal', 'daughter.', 'gruff', 'anti-hero', 'stud', 'contemplate', 'Beautifully', 'weak', 'peripheral', 'study', 'lust,', 'winner.', 'Waters', 'intention', 'age.', 'do.', 'Over', 'increased', 'productions,', 'amazed', 'touch.', 'photography.', 'attracts', 'Lili', 'Once', 'art,', 'fame', 'belly', 'consistently', 'Gothic', 'horror,', 'guaranteed', 'wondrous', 'Italian', '\"Castle', 'doors,', 'portraits', 'moving,', 'spontaneously', 'wind', 'underneath', 'wooden', 'chamber', 'Speaking', 'there;', 'tiny', 'league', '\"Black', 'prominent', 'duo', 'Sergio', '(\"The', 'Great', 'Antonio', 'areas,', '(one', 'genuinely', 'scenery', 'filming', 'photography,', 'gathering', 'Barbara', 'starlet', 'brightly', 'tormented', 'surrounded', 'Edgar', 'Allan', 'visitor', 'countryside', 'challenging', 'journalist', 'morbid', 'Foster', 'infamous', 'astonishing', 'reward', 'newspaper', 'interview', 'Needless', 'dangerous', 'sounds,', 'firm', 'ghosts', 'vampires.', 'stunningly', 'gradually', 'learns', 'Castle', 'previously', 'deceased', 'visitors', 'premises', 'proud', 'remade', 'handful', 'casting', 'Klaus', 'Kinski', 'vastly', 'superior.', 'Blood\"', 'oozes', 'maintains', 'arms', 'rise', 'circumstances.', 'preferably', 'candle', 'definition', 'horror.', 'since.', 'Alicia', 'senior', 'tortured', 'unknown', 'murderer.', 'bright', 'Dillon', 'Pat', 'realities', \"Mary's\", 'loneliness', '(see', 'photos', '10/10', 'Wind\"', 'enormously', 'Universal', 'given.', 'Based', 'Wilder', 'oil', 'incest', 'Sirk', 'laid', 'path', 'operas', 'studio.', 'pictures,', 'are,', 'painted', 'screening,', 'revival', \"Sirk's\", 'laughing', 'Rock', 'Hudson,', 'Mitch', 'Wayne,', 'patriarch', 'elder', 'Dorothy', 'Malone', 'certain', 'degree,', 'overacts', 'heir', 'Bacall,', 'hanging', 'bigger', 'enthusiastic', 'surely', 'expense', 'scenery,', 'interactions', 'meaningful', 'abrupt', 'Peruvian', 'descent', 'history,', 'SciFi', 'originals', 'judge', 'design', 'CGI', 'Aztec', 'Rex', 'reminiscent', 'Werner', 'noting', 'yes,', 'recognize', 'made-for-TV', 'shall', 'symbolic', 'mythology', 'film:', 'outrageous', 'asking', 'behalf', 'concerns', 'demographic', 'lessons', 'visibly', 'written,', 'although,', 'Emmy', 'Spanish', 'Europeans', 'associate', 'dress,', 'language,', 'familiar', 'therefore', 'capable', 'lure', 'dinosaur', 'fairness,', 'holy', 'achievements', '\"They', 'warrior', 'antagonist', '(more', 'dispatch', 'altering', 'spiritual', 'component', 'religions', 'North', 'Americans', '(again,', 'standpoint', 'so-called', 'thunder', 'naive,', 'dinosaurs', 'translates', 'King,', 'state,', 'instance', 'end?', 'ideology', 'Native', 'Americans.', 'ideal', 'opposition', 'represents', 'examine', 'components', 'ignorant', 'understand,', 'wig', 'alter', 'yuppie', 'darkness.', 'pleasure', 'affects', 'allow', 'participate', 'church', 'upon.', 'label', 'propaganda', 'times;', 'Yes', 'film.It', 'repeat', 'low-budget', 'office,', 'co-worker', 'During', 'Maddy', 'Club\"', 'real,', 'gore,', 'credits', 'roll,', '80', 'searching', 'nowhere,', 'grizzled', 'flesh-eating', 'zombies', 'haunt', 'Worse', 'bulk', 'utterly', 'routine,', 'lackluster', 'Brad', 'BLOOD', 'Ed', \"Wood's\", 'least,', 'believed', 'efforts,', 'justifiably', 'angry', '3-D', 'format', 'extraordinary', 'singer,', 'iconic', 'voice.', 'flaws', 'Esther', 'wanting', 'user', 'gratuitous', 'nudity', \"Streisand's\", 'ego', 'stuck', 'past.', 'Basic', 'Instinct', '1,', '?', 'swayed', '14', 'serious.', 'follows', 'pattern', 'confused.', 'satisfactory', 'Sharon', 'Stone', 'wears', '48', 'well;', 'remains', 'defining', 'detective.', 'Marlene', 'Dietrich', 'labeled', 'poison', '1938', 'trades', 'Garden', 'breathtakingly', 'behold', 'expand', 'fashioned', 'adaption', 'Anderson', 'ran', 'monk', 'monastery', 'similarly', 'traveling', 'desert', 'O.', 'Ingrid', 'Bergman', 'movie-going', '1936', 'ticket', 'saint', 'title.', 'Rudolph', 'seduction', 'monks', 'wine', 'Boyer', 'sincerely', 'group,', 'concerned', 'suited', 'parts.', 'color', 'UFO', 'budgets', 'roughly', 'extensive', 'casts', 'initially', 'claimed', 'million', 'considerably', 'directed,', 'misguided', 'modest', 'announced', 'legions', \"O'Brien\", 'press', 'Millard', 'Mitchell', \"1940's\", 'noir', 'Ethel', 'loud,', 'vocals', 'wicked', 'Wizard', 'imagination,', 'fantasy', 'excitement', 'noisy', 'cheaply', 'repeating', 'weakest', '\"It\\'s', 'Far', 'superbly', 'Liza', 'Minnelli', 'energy,', 'around.', 'charge', 'long.', 'curiosity', 'fair.', 'opens', 'gangsters,', '(yes', 'again)', 'toilet', 'exact', '\"He', 'dating', 'vomit', 'Zealand', 'Caucasian', 'repulsive', 'hey', 'chases,', 'explosions,', 'dozens', '\"House', 'suspense,', 'psychologist', 'writer,', 'Dr.', 'Margaret', 'patient', 'shadowy', 'con', 'charismatic', 'suspense.', 'Frankly,', 'coming.', 'artist,', 'draws', 'uniformly', 'complained', 'sympathetic', 'Mamet', 'Lindsay', 'Crouse', 'physically', 'essential', 'injury', 'concludes', 'hold', 'watching,', 'afterwards.', 'monster', 'Those', 'B', 'scientist,', 'situation,', 'plants', 'creature,', 'hammerhead', 'kind,', 'missing.', 'though:', 'destruction', 'fast', 'done,', 'Forsythe', '\"hero\"', 'Hunter', 'popcorn,', 'fun.', 'P.', 'that!', 'tape', 'catchy', 'embarrassed', 'backwards', 'Jimmy', 'Best', 'Supporting', 'Oscars', 'NEVER', 'consisting', 'martial', \"70's\", 'restored', 'midst', 'marathon', 'Fever', 'Pitch', 'climatic', 'kiss', 'relate', 'circumstances,', 'situations.', 'all...', '2001', 'Toronto', 'international', 'festival.', 'Others', 'faint', 'explicit', 'optimistic', 'humanity.', 'animal', 'shopping', 'humanity', 'pathetic.', 'banality', 'shoved', 'utmost', 'he?', 'involved,', 'awhile.', 'laughed,', 'worried', 'goofy', 'Boy,', 'couples', 'more!', 'Jeff', 'Stewart)', 'instant', 'deck', 'longer', 'hides', 'murder.', 'besides', 'Neither', 'member', 'opposite', 'sex,', 'journey', 'corrupt', 'Gannon', 'engages', 'practices', 'saloon', 'Meanwhile,', 'immediate', 'insulting', 'brush', 'Yet,', 'sticks', 'travels', 'Dawson', 'activities', 'gold', 'Walter', 'Ben,', 'meaty', 'companion', 'replacement', 'Sheriff', 'incarnation', 'premier', 'others,', 'respect,', 'closely', 'Burt', 'example.', 'Thus,', 'Dawson,', 'intentions', 'miners', 'exit', 'alive.', 'nursing', 'revenge', 'himself.', 'differs', 'changed,', 'handing', 'principle', 'women.', '\"bad\"', 'cattle', 'Ironically,', 'Rhonda', 'supposedly', 'apparent', 'implication', 'compromised', 'dust', 'recovering', 'later.', 'unclear', 'aged', 'followers', 'handling', 'gun', 'skill', 'wounded', 'pistol', 'avalanche', 'victims.', 'pull', 'pack', 'buried', 'host', 'Canadian', 'breathtaking', 'action.', 'western,', 'concentrated', 'liberties', 'middle,', 'introduces', 'Almost', 'discernible', 'clunky', 'trite', 'mysterious', 'Central', 'Park', 'stir', 'amongst', 'population', 'concern', 'conceit', 'populate', 'universe', 'pans', 'why.', 'underdeveloped', 'undeveloped', 'digitally', 'burning', '\"so', '\"Star', 'Wars', 'Episode', 'Phantom', 'II', 'III', 'spotlight', 'cohesive', 'whole,', 'fresh', 'perspectives', 'outlook', '\"Return', 'Often', 'overly', 'Empire', 'Strikes', 'Indeed', 'namely', 'link', 'furry', 'factor', 'aside,', 'circle', 'saga.', 'Following', 'Luke', 'Skywalker', '(Mark', 'Rebel', 'Alliance', 'planet,', 'rescue', 'Han', 'Solo', 'pirate', 'Jabba', 'black,', \"Luke's\", 'discovery', 'friends,', 'Darth', 'Vader', 'Side', 'join', 'impressive,', 'floating', 'palace', \"Lucas'\", '1997', 'memorable', 'Jedi', 'ailing', 'Yoda', 'distinct', 'progression', 'destiny', 'fate.', 'Leia', 'fade', 'facets', 'alongside', 'Death', 'Emperor', 'crush', 'schemes', 'cunning', '(Peter', 'brilliantly', 'Hamill', 'whiny', 'teenager,', 'enlightened', 'developments', \"Ford's\", 'thin,', 'charisma', 'REAL', 'Add', 'favourites', 'Alec', 'Guiness', 'corny', 'forest', 'Ewoks', 'effects.', 'always,', 'Space', \"Williams'\", 'score', 'Wars\"', 'folklore', 'animals', 'saga', 'appreciation', 'Mad', 'curious', 'first-time', 'Bishop', 'letting', 'interact', 'chew', 'enthusiastically', 'return', 'films;', 'commanding', 'presence.', 'Jones,', 'Larry', 'Pryor', '\"Wild', 'reunion', 'condensed', 'published', 'event', 'valuable', 'survival', 'skills', 'river', 'coastal', 'help,', 'attitude.', 'conclusion,', 'collection.', 'satellite', 'invited', 'Forget', 'commercials,', 'heard,', 'yourself.', 'Day,', 'orchestrated', 'reason.', 'oscar', 'purchase', 'video.', 'subplots', 'retain', 'Dialogue', 'stiff', 'confusing', 'believable.', 'Audrey', 'Ritter', 'sets.', 'designer', 'buildings,', 'stairs,', 'furniture', 'forth.', 'paying', 'gangster', 'treat.', 'medium.', 'Malcolm', 'McDowell', 'lately', 'different.', 'Especially', 'Yellow', 'Bhandarkar', 'crisp', 'Page', 'revelation', 'attached', 'enjoys', 'peaceful', 'roommate', 'supportive', 'editor', 'bump', 'bit.', 'shocked,', 'excited,', 'revelation.', 'resulted', 'party,', 'color.', 'fantastic.', 'applied', 'bathroom.', 'delivering', 'volumes', 'uttering', 'background.', 'explaining', 'honesty', 'intelligence.', 'options', 'spoil', 'Saw', 'Film', 'Festival,', 'rounded', 'thoughtful', 'choices,', 'assembled', 'Wonderful', 'everyone,', 'luminous', 'Vanessa', 'Redgrave', 'dying,', 'deluded', 'Claire', 'Danes', 'self.', 'Meryl', 'Wilson', 'Newman', 'circa', '1958', 'Eileen', 'contributing', 'sharp,', 'detailed', 'cameos.', 'Hugh', 'stage,', 'unhappy', 'neatly', 'paced,', 'meditation', 'issues,', 'sumptuous', 'attractive', 'Japanese', 'curse', 'mobile', 'disgruntled', 'spirit', 'hands', 'attraction', 'Takashi', 'Miike', 'Lost', 'Call', 'renowned', 'envelope', 'Alive', 'merits', 'impersonating', 'bland', 'average,', 'downright', \"Miike's\", 'notably', 'cursed', 'ratings', \"girls'\", 'suggest', 'flair', 'vanished', 'trace', 'likely', 'enthusiasm', 'project,', 'frustratingly', 'receiving', 'HBO', 'assuming', 'comparing', 'Leonardo', 'Hanks', 'caper', 'name.', \"they'd\", 'yeah,', 'cares?', 'Typical', 'STAR', 'RATING:', '*****', 'Mark', 'Between', '*', 'develop', 'Josh', 'cocky', 'assistance', 'adopted', '(Jennifer', 'them.This', 'dealt', 'terrorism', 'Filmed', '2001,', 'Norris', 'commented', 'afterwards', 'eerily', 'resembled', 'downtown', 'terrorist', 'ass', 'warrant', 'Man', 'Happy', 'Lovely', 'mistaken', 'identity', 'scandal', 'eminently', 'plots.', 'minor', 'songs.', 'banana', 'Scottish', 'locale', 'Usually', 'ubiquitous', 'droll', 'photography', 'numbers', 'Cesar', 'Romero', 'chewing', 'Niven', 'fine,', 'adore', 'skip', 'psychiatrist', 'artists', 'mannered', 'desired', 'intent.', 'artificial', '(except', 'exaggerated', 'conclude', 'parody', 'presentation', 'twists,', 'fifteen', 'the,', 'ridiculous.', 'gambling', 'behave', 'stupidly', 'belief.', 'behaved', 'person,', 'cold.', 'seriously,', 'hearted', 'trash,', 'emotionally', 'alleged', 'Apparently,', 'made,', 'what?', 'exhibit', 'expose', 'transcend', 'explained,', 'spit', 'out?', 'treated', 'harsh', 'voices,', 'cryptic', 'messages', 'walls.', 'guy,', 'harsh,', 'tie', 'defies', 'gravity', 'tossing', 'happen?', 'motion,', 'birds', \"woman's\", 'dripping', 'holes.', 'sum', 'relevance', 'science.', 'no,', 'priest.', 'Secondly,', 'holes,', 'starters,', 'laying', 'Next,', 'hospital.', 'possessing', '\"You', 'possesses', 'scientific', '(of', 'Thomas,', 'willing', 'alternate', 'known,', 'degree.', 'insult', 'get.', 'loathe', 'Grade:', 'F', 'Ghost', 'Story,', 'installment', 'subtlety', 'gorgeous,', 'official', 'charged', 'Machine\"', 'review,', 'reflection', 'creative', 'Machine', 'superior', 'indulge', 'dose', 'significance.', 'gore.', 'visions', 'Nightmare', 'tongue', 'telephone', 'awe', 'Aliens', 'sole', 'fulfill', 'blood.', 'Fight', 'point-of-view', 'Decent', 'Love', 'story!', 'faces.', 'afraid', 'wont', 'prepared', '\"why', 'say.', 'lead,', 'strip', 'underwear', 'hires', 'Bud', 'Abbott', 'unattractive,', 'bore', 'Sid', 'FOR', 'directed.', 'expressions', 'NOTHING', 'Walking', 'humming', 'Alexandre', 'Ah,', \"Kubrick's\", 'arrived', 'No.', 'comprehensive', 'score.', 'notes', 'traces', 'Georges', 'subtle', 'nuances', 'strains', 'Watson', 'Turturro', 'paired', 'intimate', 'childlike', 'world,', 'generous', 'bold', 'both.', 'sensitive', 'respect.', 'logic', 'Cinematography', 'serene', 'Lake', 'northern', 'Italy', 'Swiss', 'Luzhin', 'complete.', 'joke.', 'joke,', 'beings.', 'commercials.', 'slot', 'national', 'T.V.', \"isn't.\", 'Watching', 'Gone', 'Wild', 'personalities,', 'bars', 'Russo', 'Welcome', 'crime', 'Rockwell', 'Union', 'Clooney', 'tattooed', 'Die', 'Hard', 'mountain', 'Mom', 'Will', \"Stallone's\", 'dream,', 'expressions,', 'skills.', 'excuses', 'dismiss', 'overblown', 'pile', 'Stallone', 'nonsense,', 'undeniably', 'romp', 'thrills,', 'permanently', 'hapless', 'Henry', 'Serial', 'Rooker', 'noteworthy', 'shrieking', 'whilst', 'Frank', 'grinning', 'Brit', 'Hal', 'expectations,', 'volume', 'enjoy!', 'entry', 'Phantasm', 'continue', 'chasing', 'Tall', 'assisted', 'II.', 'incompetence', 'comedian.', 'settings', 'macabre', 'beware', 'lifetime', 'achievement', 'classic,', 'A.', 'Baldwin', \"Haven't\", 'Performances', 'Farrell', 'superb,', 'excellent,', 'highest', 'standard.', 'UK', 'video,', 'Has', 'rightly', 'accurate', 'reckon', '50%', 'solo', '\"What', 'Am', 'wrong?', 'Story', 'builds', 'Characters', 'expectation', 'Superb', 'antidote', '\"Sex', 'City\"', 'notion', 'LOVED', 'IT!', 'Rosario', 'accomplished', 'rehearsal', 'authentic.', 'dancing,', 'tragedy.', 'passion.', 'Films', 'Denis', \"world's\", 'adds', 'poem', 'conveys', 'abiding', 'loss,', 'psyche', 'seeking', 'peace', \"Nancy's\", 'unrelenting', 'viewings', 'seventies', 'condition', 'Ingmar', 'mistakes', 'rugged', 'drained', 'quiet', 'Though', 'sinister', 'officer,', 'criminal', 'consequences.', 'close-ups', 'dogs', 'border', 'estranged', 'nearby', 'children.', 'calls', 'prevent', 'opens,', 'guard,', 'boards', 'van', 'trained', 'home,', 'tongue-in-cheek', 'individuals,', 'circumstances', 'prepares', 'neighbor', 'refuses', 'Russian', 'organ', 'dealer', 'section', 'South', 'Korea', 'transplant', 'metaphor', 'Agnes', 'longing', 'expression', 'smile,', 'colored', 'blowing', 'newly', 'ship,', 'Korean', 'vast', 'ocean', 'respond', 'level.', 'revealed', 'enemies', 'rarely', 'film?', 'school,', 'daddy', 'kidnap', 'longtime', 'misplaced', 'mumbling', 'hiding', 'Meanwhile', 'design,', 'spend', 'hoping', 'Garner', 'dumber', 'qualities', 'Hallmark', 'subjected', 'dumbest', 'creatures', 'another,', 'situation', 'ends.', 'was!', 'slashers', 'eaten', 'shaking', 'stalked', 'attacked', 'ugly', 'pen', 'list', 'motive', 'arm', 'Eastern', 'accents', 'magician', 'watches', 'skilled', 'pickpocket', 'trade', 'York.', 'Hugo', 'a)', 'b)', 'alive,', 'expertise', 'inventor', 'lovely', 'unlikely', 'Vegas.', 'ensues.', 'Anyhow,', 'well-written,', 'unexpected.', 'cant', 'clips', ':)', 'commercials', 'teeth', 'gotten', 'ads', 'line.', '10,', 'option.', 'pray', 'deserving', 'bored', 'comedian,', 'description.', 'made?', 'distraction', 'Adam', 'Sandler', 'vital', 'Neil', 'Simon', 'knack', 'sadness', 'believability', 'mismatched', 'sharing', 'Felix', 'agreeing', 'Madison', 'disastrous', 'Seems', 'wall', \"other's\", 'imaginable', 'giggling', 'sisters', 'date.', 'priceless', 'interaction', 'Matthau', 'Carole', 'Monica', 'voices', 'Sisters', 'timing', 'Lemmon', 'up:', 'Top', 'counter', 'beautifully.', 'Pink', 'axe', 'absence', 'overlooked', 'most,', 'die.', 'stretching', 'quote', 'checks', 'nice.', 'diving', 'hitting', 'joins', 'Zabriskie', 'nature.', 'Later', 'speed', 'visiting', '\"what', '\"this', 'plane', 'psychedelic', '\"no', 'plane.', 'stole', 'risk', '(This', 'surrounds', 'airport', 'officers', 'shoots', 'returned', 'hears', 'conference', 'mansion.', 'alien', 'adventures', 'rock,', 'pool.', 'Inside', 'glass', 'wall,', 'holding', 'deal,', 'house,', 'television.', 'destroyed', 'useful', 'feelings', 'leave.', '\"in', 'view.', 'Where', '(too', 'deciding', 'future,', 'et', 'once,', 'why,', 'evolving', 'Point', 'hippies', 'tripping', 'tip', 'toe', 'digging', 'factory', 'crammed', \"we've\", 'planet', 'think.', 'rare.', 'horribly', 'narrator', 'areas', 'narration,', 'paints', 'vain', 'tips', 'cops', 'homage', 'stuff.', 'conditions,', 'laugh,', 'high,', 'Recommended', 'download', 'sure.', 'rips', 'Satan', 'stabs', 'Uncle', \"O'Hara\", 'cars', 'Cheap', 'promotional', 'appearances', 'niche', 'offer.', 'guy.', 'please,', 'collective', 'please', 'ten,', 'rewind', 'MAKE', 'again?', 'explosion', 'Everyone', '\"Hey,', 'girls,', 'Spike', 'float', 'boat,', 'adolescent', 'IQ', 'is:', 'laughable.', 'delivery', 'dreadful', 'perspective.', 'Around', \"1970's,\", 'frustrated', 'company,', 'Mouse', 'House', 'AN', 'BEFORE', 'involvement', 'successful.', 'adult', 'charming,', 'misfire', 'ALL', 'GO', 'TO', 'LITTLE', 'title,', 'pleasant', 'per', 'adults', 'short,', 'dreary', 'Orleans,', 'courtesy', 'casino', 'partner,', 'nasty,', 'heaven,', 'albeit', '\"all', 'heaven', 'realizing', 'murdered,', 'reluctant', 'pal', 'predict', 'rat', 'family,', 'fortunes', 'Carface', 'problematic', 'execution.', 'flamboyant', 'alligator', 'vocal', 'pipes', 'Ken', 'emerge', 'applies', 'TOO', 'such,', 'Charlie,', 'convincing.', 'damaging', 'jumps', 'habit', 'serve', 'sewer', 'polish', 'benefits', \"Page's\", 'uneven', 'cast.', 'lifeless', 'detracts', 'unlikeable', 'fiery', 'confession', 'Itchy', 'end).', 'Dom', 'Tiger', 'Page,', 'contribution', 'unremarkable', 'litter', 'Moore,', 'Nelson', 'memorable,', 'partially', 'visuals', \"1980's\", 'frightening', 'underworld', 'satanic', 'triumph', 'energy', 'efforts.', 'marvel', 'lush', 'meteorite', 'creature.', 'youths', 'Andrews', '(Steve', 'T.', 'man.', 'blob', 'ham', '1988', 'McQueen', 'B-movies', 'remaking', 'Prom', 'trashy', 'Jamie', 'Curtis', 'paint', 'attract', '(hence', 'knife', 'focusing', 'Britney', 'Snow', '(we', 'suite', 'butchered', 'guessing', 'remotely', 'cutting', 'sending', 'Nights', 'scarier', 'Creek', 'liked,', \"70's.\", 'runtime', 'flow', 'next.', 'beer', 'bathroom', 'pan', 'Car', 'fools', 'trash', 'Challenger', 'radio', 'DJ', 'delight', 'relying', 'commonplace', 'astute', 'art-house', 'viewer.', 'sheer', 'genius.', 'serious', 'sea', 'washed', 'snow', 'filled', 'bus', 'noble', 'effort,', 'rented', 'trailer', 'Pollack', 'teamed', 'Leary', 'result.', 'Sesame', 'reality,', 'cinema,', 'Hopkins,', 'perfectly.', 'time.I', 'did,', 'everything.', 'establish', 'require', 'kicks', 'quickly,', 'quickly.', 'botched', 'Let', 'asleep', 'long-time', 'Sopranos', 'safely', 'comatose', 'salesman', 'confirmed', 'coma', 'moment.', 'overcome', 'remainder', 'episode,', \"Tony's\", 'parallels', 'stellar', 'finishes', 'Tony,', 'light.', 'phone.', 'window.', 'Cold', 'Moby', 'roller-coaster', 'episode.', 'Nancy', 'Show\"', '(on', 'Austrian', '(since', 'rose', 'Festival', 'recorded', 'Abraham', 'Lincoln', 'shame,', 'Compared', 'satirical', '....', ':', 'strung', 'mutilated', 'Boy', 'policeman', 'oh', 'observation', 'Would', 'virgin', 'belt', 'invisible', 'Monster', 'via', '(', '!', ')', 'breed', 'immune', 'complaint', 'Clive', 'Barker', 'instantly', 'Jackie', 'Chan', 'Kong', 'notorious', 'gang,', 'protect', 'evidence.', 'sends', 'goons', 'fists', 'feet,', 'keeping', 'Cheung', 'Story\"', 'stunts', 'over-the-top', 'royal', 'crowded', 'exceeds', 'Maya', 'topic.', 'these.', 'lengths', 'his,', '\"King', 'Paulie', 'parrot', 'beloved', 'bird', 'Bird', 'Marie,', 'Marie.', 'janitor', 'rightful', 'sell', 'pawn', 'shop.', 'warming', 'misadventures', 'Cheech', 'favorite.', 'plastic', 'doll', '..', 'renting', 'mean.', 'Mario', 'MGM', 'Lanza', 'reincarnation', 'biography', 'explains', 'visionary', 'Caruso', 'blame', 'ago.', 'beautiful!', 'it:', 'tend', 'Texas', 'and...', 'drift', 'unheard', 'monumental', 'task.', 'else,', 'Ironically', '2008', 'controversy', 'Cannes', 'Festival.', 'considerable', \"Soderbergh's\", 'credits.', 'thick', 'glorious', 'victory', 'humiliating', 'defeat', 'two,', 'appealing', 'disguised', 'bald', 'sneak', 'hours,', 'oddly', 'outline', 'guerrilla', 'like:', 'gradual', 'leader.', 'Use', '35', 'RED', 'enabled', 'sharp', 'calling', 'leadership', 'jungle', 'failed', 'Bolivia', 'mission', 'execution', 'Producer', 'Laura', 'revolt', 'start.', 'suspected', 'United', 'Santa', 'Clara', '1959', 'fateful', 'July', 'lifelong', 'poetry,', 'Really', 'lasting', 'woods', 'dedication', 'Red', 'episodic', 'Thin', 'anybody', 'emerges', 'unfinished', 'heavily', 'researched', '(how', 'vanity', 'theatrical', 'successful,', 'resulting', 'dressed', 'rubber', 'Jay', 'Leno', 'underrated', 'consist', 'demands', 'jealousy', 'PBS', 'sound.', 'improbable', 'primary', 'Green', 'enigmatic', 'athletic', 'surgeon', 'hopelessly', 'hospital', 'begun', 'rivals', 'beauty.', '(The', 'demonstrate', 'excellently', 'passionate', 'excess', 'Baker', 'morally', 'two-hour', 'ceases', 'amaze', 'De', 'Niro', 'Cape', 'schtick', 'surprising', 'Wesley', 'Snipes', 'baseball', 'characterization.', 'IN', 'pun', 'intended)', '\"Midnight', 'Rating:', '3/10', 'property', 'excels', 'secure', 'arrives', 'Paul,', 'routine', 'embrace', 'exploits', \"Paul's\", 'realises', 'confronts', 'punch', 'handy', 'price.', 'mob', 'acquaintances', \"Carla's\", 'lip', 'abilities', 'bank', 'enter', 'world.The', 'fourth', 'shift', 'edgy', 'shortcomings', 'effortlessly', 'farce', 'surly', 'manners', 'recently,', 'exclusive', 'frame.', 'appears,', 'first,', 'scratch', 'bum', 'subplot', 'concerning', 'parole', 'contrived', 'steer', 'thrust', 'define', 'it;', 'defy', 'Benny', 'Hill', 'plods', 'tedious', 'suit,', 'nutshell,', 'really,', 'racist', 'college.', 'Higher', 'deals', 'possible,', 'yeah', 'college', 'Frankenstein', 'sluggish', 'react', 'possible.', 'stereotypes', 'feminist', 'reads', '\"Dead', 'Men', 'See', 'loner', 'rapist', 'Nazis', 'evil,', 'bad;', 'clumsy,', 'stance', 'predictable,', 'expectations', 'Ang', 'thrilling', 'filming.', 'Gibson', 'disappointed,', 'interspersed', 'grating', 'Lewis', 'sailors', 'caricature', 'shame', 'stereotyped', 'switching', 'abruptly', 'towel', '...but', 'writer-director', 'Preston', 'broadly', 'distinctive', 'unexpectedly', 'compassionate', \"plot's\", 'surprise,', 'fortune', 'coffee', 'hang', 'upon,', 'predictable.', 'Capra', \"Morgan's\", 'ahead', 'Going', 'Coming', 'Pegg', 'childish', 'dances', 'club', 'gotta', 'club.', 'Megan', 'Fox,', 'Kirsten', 'Newton', 'Run', 'toss', 'add,', 'adorable', 'Telly', 'immigrant', 'Paz', 'wedding.', 'tough,', 'Eddie', 'cow', 'Richardson', 'Keller', 'drove', 'voodoo', 'Out', 'sue', 'Long', 'shake', 'distribution', 'Graham', 'detail,', 'afford', 'believing', 'secret', 'church,', 'earth.', 'junior', 'Patty', 'SAME', 'Monty', 'Python', 'Navy', 'bath', 'discovers', 'hope.', 'seconds,', 'somewhere,', 'art.', 'use.', 'Sunday', 'afternoon', 'Claus', \"(don't\", 'movie)', '(some', 'costume', 'cringing', 'seat.', 'suit', 'REALLY', 'horrified', \"Santa's\", 'wound', 'nightmares', 'saw.', 'frightened', 'roaring', 'pants', 'punish', 'Diane', 'Keaton', 'enticing', 'actresses,', 'performers', 'opportunities', 'mother,', 'grieving', 'accident.', 'self-absorbed', 'cross', 'avoid.', 'coarse', 'phony', 'tidy', 'muscle', 'gay,', 'asks,', '\"That\\'s', 'genius,', '\"Citizen', 'confronting', 'unlikable', 'shadow', 'kooky', 'crazed', 'forgets', 'odyssey', 'wreck', 'mom,', 'mothers', 'muddled', '\"Hollywood', 'Canada', 'cheaper', 'costs', 'capitalize', 'egotistical', 'offered', 'spoiled', 'ultimate', 'producer,', 'Sandy', 'transformed', 'hilarious,', 'general,', 'basketball', 'Okay,', 'unreal', 'Rosie', 'Do', 'Right', 'Thing', ').', \"Can't\", 'building.', 'Asia', \"'70s\", 'lightning', 'arts', 'workers', 'dye', 'Manchu', 'cons', 'Shaolin', 'temple', 'student,', 'Master', 'orders', '36', 'tasks', 'tying', 'learning', 'Kid', 'basics', 'karate', 'wax', 'off\"', 'Gordon', 'proudly', 'Kung', 'Fu', 'one!', 'Different', 'contributed', 'thoughts.', 'experienced', 'genres', 'Jafar', 'traits', 'critical', 'viewers.', 'Offside', 'creation', 'progresses.', 'Rights', 'calmly', 'creeps', 'conveying', 'soccer', 'understands', 'stadium', 'outer', 'Women', 'corner', 'format.', 'Panahi', 'pointed', 'frame', 'conventional', 'Global', 'ease', 'which,', 'turn,', 'variation', 'tale,', 'aka', 'Beast', 'offensive', 'way),', 'Beauty', 'amused', 'exploration', 'subjects', 'frustration,', 'criticizing', 'catholic', 'touches', 'mentions', 'hysterical.', 'monster.', 'erotic', 'picture,', 'madness', 'creator', 'meaning.', '\"In', 'habits', 'ate', 'Summer', 'Hall,', 'go.', 'doors', 'Hall', 'Mayor', 'servant', 'attempted', 'classy', 'offering', 'Lee,', 'Jon', 'Pitt', 'Chloe', 'spoilt', 'lurid', 'run-of-the-mill', \"'n'\", 'shocker', 'Lena', 'bizarre', 'interviews,', 'breasts,', 'hair.', 'fictional', 'Unlike', 'reviewers,', 'overdone', 'porn,', 'choices.', 'pervasive', 'however.', 'polite', 'voting', 'fable', 'distant', 'peculiar', 'involve', 'divided', 'rigid', 'conduct', 'assorted', 'farcical', 'flat.', 'sight', 'pace.', 'trivial', 'Shot', 'massive', 'Reynolds', 'exceedingly', 'building', 'Renee', 'Belushi', 'encounters', 'magical', 'bartender', 'tacked', 'decorated', 'photo', 'freeze', 'grass', 'cried', 'count.', 'Caine', 'heading', 'trailer,', 'amiable', 'smoking', 'loudly', 'recently.', 'badly,', 'wife,', 'Linda', 'scary.', \"What's\", 'skull', 'establishing', '(Not', 'Von', 'screams', \"husband's\", 'drowning', 'Wonder', 'insane.', 'well-done', 'okay', 'viewing.', 'Screaming', 'eight', 'MST3K', 'version.', 'paraphrase', '\"How', 'Beach', 'covered', 'Australia', 'born,', 'Sex', 'Government', 'Turner', 'Classic', 'popped', 'classroom', 'capturing', 'wider', 'sickly', 'soldier', '\"Johnny', 'Confederate', 'sloppy', 'Hamilton', 'show)', 'beard', 'poster', 'Israeli', 'diagnosed', '22', 'live.', 'mine,', 'courageous', 'mom', 'medical', \"doctor's\", 'for?', 'life:', 'animations', 'movement', 'daily', 'flick,', \"80's,\", 'dead.', 'Years', 'record', 'dud', 'forgotten.', 'satire', 'weird', 'established', 'formula,', 'cardboard', 'porno', 'collect', 'lame,', 'dated', 'U.S.', 'rank', 'Zorro', 'Hadley', 'Diego', 'phenomenal', 'hilariously', 'lifted', 'pinned', 'pays', 'Ellen', 'lost.', 'blue,', 'bicycle', 'Oz', 'riding', 'island', 'kicking', '\"Who', 'burned', 'it?\"', 'woods,', 'on)', 'destined', 'dreadful.', 'you!', 'politics', 'strictly', 'sophomore', 'amateur', 'arty', 'white.', 'angle.', 'bad!', 'notice,', 'integrated', 'clichés', 'overwhelming', '(very', 'somehow', 'Whoever', 'stuff!', 'stills', 'Making', '\"normal\"', '(those', '\"just', 'travel', 'varying', 'size', 'air.', 'smaller', 'nods', 'apply', 'somewhere.', 'islands', 'surreal,', 'Dustin', \"Hoffman's\", 'wonderfully', 'colourful', 'alike.', 'Hector', 'top.', '(possibly', 'Ice', 'thin.', 'hunters', 'dragon', 'information.', 'way?', 'thin', 'dreaming', 'slowed', 'ages.', 'DEAD', 'READ', 'IF', 'THIS', \"Freddy's\", 'stops', 'it.This', 'Freddy', 'territory.', 'boy,', 'promise', 'child,', 'nail', 'tons', 'Arnold,', 'Cooper,', 'flowers', 'Iron', 'super', 'Krueger', 'Revolt', 'Zombies', 'BAD.', 'Dracula', 'roller', 'coaster', 'ride.', '65', 'minutes.The', 'secrets', 'happens,', 'releases', 'horrific', 'lead.', 'familiar.', 'over.', 'General', 'Christmas.', 'worth,', 'because,', 'necessarily', 'unnecessary,', 'exceptional,', 'alas', '1)', 'Fiennes', 'tree.', 'Father', 'clone', 'last,', 'turn.', 'Germany', 'longest', 'uncle', 'warning', 'short.', 'married.', 'centuries', 'developing', 'anyone,', 'director/writer', 'bloated', 'Redford', 'modeling', 'Horse', 'sun', 'shining', 'Shadow', 'a.k.a.', 'exploitation,', 'lame.', '(there', 'both,', 'Outer', 'precisely', 'movie;', 'Wood', 'tended', 'ludicrously', 'Anyway,', 'Indians', 'laughably', 'exception.', 'grotesque', 'outrage', 'thing?', 'consistent', 'representation', 'appropriate,', 'point?', 'audience,', 'compelling', 'engage', 'IMHO', 'witnessing', 'pool', 'unstable', 'dentist', 'Feinstone', 'snaps', 'Yuzna', 'welcome', 'ensures', 'shocks', 'days,', 'intriguing,', 'occasion,', 'inferior', '1998', 'Bernsen', 'recite', 'regards', 'powerful.', '(including', 'damaged', 'enjoyable,', 'annoyed', 'clones', 'change,', 'seldom', 'pleasurable', 'dental', 'melodrama', 'Vincente', 'fabulous', 'tepid', \"'s\", 'Sinatra', 'good-looking', '-and', 'Natalie', 'tolerance', 'everywhere.', 'Dane', 'extreme', 'crazy,', 'rolling', 'floor.', 'comics', 'something?', 'comedian', 'star.', 'Rodney', 'yell', 'funnier', 'rating,', 'mysteries', 'basement', 'cheesiest', 'guilty', \"'80s\", 'flicks.', 'formulaic', 'blend', 'flicks,', 'low-budget,', 'direct-to-video', '\"new\"', 'relies', '1985', 'students,', 'tap', 'surviving', 'actress,', 'screened', 'dies.', 'degree', 'detail', 'gimmick', 'diluted', 'par', 'sensible', 'Lola', 'offbeat', \"anyone's\", 'Fans', 'increasingly', 'unrelated', 'rental.', 'Vietnam', 'broken', 'war.', 'friendship.', 'plausible', 'Moreover,', 'finished,', 'amazing.', 'Harris', 'Eric', 'persons', 'Bach', 'Granted', 'nowadays,', 'scale', 'stumbled', 'hand.', 'Harold', 'Mercury', 'fault.', 'recipe', 'workings', 'city.', 'spectrum', 'democratic', 'boss,', 'connections', 'goings', 'unfold', 'duty', 'honor', 'speeches', 'deputy', 'chemistry', 'bizarre,', 'intimidating', 'stardom', 'attorney', \"Cusack's\", 'Aiello', 'ties', 'mafia', 'Judge', 'toned', 'mill', \"Pacino's\", 'funeral', 'justice', 'Cusack', 'justice.', '7.5/10', 'seeing.', 'applaud', 'Bonham', 'Carter', 'Branagh', 'choosing', 'Both', 'troubled', 'likeable', \"Carter's\", 'reasons.', 'enjoyment', 'urban', 'depressing.', 'discussing', 'significance', 'prevented', 'encountered', 'WWII', 'splendid', 'Penguin', 'improve', 're-read', 'introduction', 'Dr', 'Ecstasy', 'wrath', 'buff,', 'ignored', 'discussed', 'willingly', 'treasured', 'memory', 'existence,', 'insignificant', 'Bernard', 'Shaw', 'writings', 'bride', 'urge', 'strong.', 'experiences', 'mutual', 'rejection', 'lift', 'intending', 'driver', 'commits', 'bland,', 'tragedy,', 'stream', 'trite,', 'disappeared', 'garbage,', 'continuous', 'careful', 'cinematographic', 'exploited', 'accompanying', 'occasionally', 'forward.', 'rewarding', 'stressed', 'continuously', 'subtly', 'reflecting', 'obsessive', 'Emil', 'wedding', 'eventual', 'sustain', 'him;', 'ongoing', 'entering', 'virginal', 'importance', 'positively', '1933', 'contemporary', 'reduce', '\"must', 'remarks', 'bias', 'distorted', 'nude', 'difficulty', 'Paradise', 'D.W.', 'referred', 'rewrite', 'Czech', 'Nazi', 'virtually', 'generations', 'lifetime.', 'thankful', 'stays', 'same.', 'club,', 'Halloween', 'brilliant.', 'so!', 'comics.', 'framed', 'Could', 'Doc', 'ticked', 'cost', 'opportunity.', 'unravel', 'mystery.', 'bosses', 'comics,', 'swinging', 'game.', 'Doctor', 'Beowulf', 'sights', 'Grendel', 'plagues', 'Original', 'reruns', 'Marion', 'Davies', 'People\"', 'hick', 'hoot', 'costume.', 'wants,', 'success.', 'prestigious', 'pieces.', 'abandons', 'throughout,', 'gamut', '\"serious\"', 'Haines', 'self,', 'Chaplin,', 'effects\"', 'treasure', 'Simpsons', 'Interesting', 'shaving', 'blade', 'safety', 'ray', 'means.', 'Remember,', 'Soylent', 'Day\"', 'beg', 'kinds', 'male,', 'female,', 'experts', 'fare', 'out\"', 'Century', 'serials', 'Nielsen', 'Marvin', 'Miller,', 'Anderson,', 'Earl', \"planet's\", 'surface,', 'landscape,', 'setup', 'monster,', 'unseen', \"viewer's\", 'Veteran', 'literate', 'intelligently', 'all;', 'carried', 'words,', 'storyline.', 'fifty', 'Until', 'created,', 'decades', 'ships', 'crashing', 'causing', \"nation's\", 'intellectual', 'gem.', 'vaguely', 'network', 'wrap', 'forever,', '),', 'puerile', 'Williams', 'post', 'repeated', 'marriage.', 'Either', 'slide', 'Lana', 'Turner,', 'June', 'drawing', 'office.', 'Manhattan', 'closet', 'ranges', 'storage', 'Norman', 'era,', 'cramped', 'daughters,', 'Connecticut', 'living,', 'look.', 'Obviously,', 'owner,', 'duped', 'buying', 'dilapidated', 'unscrupulous', 'agent.', 'architect', 'necessary,', 'price', 'principals', 'Cary', 'Grant', 'understood', 'Myrna', 'lawyer', 'suave', 'Melvin', 'Blandings', 'uncanny', 'Marie', 'Louise', 'photographed', 'Potter', 'succeeded', 'Judging', 'site,', 'well-written', 'Basically', 'stupidity', 'favor.', 'Rent', 'Hell,', 'anticipation.', 'touching.', 'honesty,', 'rude', 'token', 'Burton', '(great', 'performance)', 'hollywood', 'odd,', 'Roth', 'Come', 'programme', 'bugs', 'educational', 'redundant', 'morals', \"Where's\", 'broadcast', 'Inspector', 'Count', 'continually', 'newer', 'flee', 'pregnant.', 'widely', 'retarded', 'island.', 'irritating', 'movies!', 'Germans', 'esoteric', 'traveled', 'cloak', 'records', 'uncut', 'cover,', 'explode', 'cut.', 'ourselves.', 'creepiest', 'demon', 'rapes', 'someone.', 'nasty.', 'Exorcist', 'AKA', 'Casa', 'one).', 'Evil', '5,', 'II:', 'Horror', 'III,', 'requiring', 'confusion.', 'Oddly,', 'House,', 'denying', 'sticking', 'settle', 'view,', 'Fire', 'unpredictable', 'spontaneous', 'tasteful', 'manner', 'film-making.', 'spot', 'Election', 'election', 'voted', 'goes.', 'ancient', 'China', 'aftermath', 'run.', 'occur', 'whereas', 'larger', 'faults', 'Trying', 'surrounding', 'points.', 'interrupted', 'restaurant', 'would,', 'sacred', 'truck', 'detail.', 'jail,', 'wire', 'conflict.', 'tea', 'gangsters', \"who'd\", 'celebrate', 'structured', 'buckets', 'process.', 'fishing', 'debating', 'ruling', 'realistic,', 'manner,', 'discovering', 'restless', 'spirits', 'suicide.', 'marriage', 'prison,', 'ordinary,', 'haunts', 'occurring', 'neighbors', 'alcoholic', 'Mr', 'somber', 'vacuous', 'lost,', 'properly', 'icy', 'could.', 'performers,', 'grab', 'hearts', 'viewers,', 'reaches', 'unable', 'slowly', 'uncovers', 'truths', 'Jim,', 'presence,', \"Jim's\", 'mission.', 'formula.', 'supporters', 'setting,', 'risks', 'purposely', 'references', 'answer,', 'accepting', 'machines', \"Seagal's\", 'resemble', 'audio', 'copy.', 'less)', 'Seagal', 'searches', 'empty.', 'Last', 'sight.', 'Ride', 'word:', 'authenticity.', 'rehash', 'events,', 'apt', 'attitudes', 'PC', 'stepped', '19th', 'expressed', 'stylized', 'dialog.', 'farmers', 'eloquent', 'bunch.', 'raised', 'screenwriters', 'styles', 'judging', 'visceral', 'raid', 'Lawrence,', 'lesser', 'urgency', 'adventure,', 'want.', 'artwork', 'system.', 'Please', 'Swedish', 'inform', 'film.The', 'placement', 'products', 'DVD,', 'poorly.', 'language.', 'Hispanic', 'marriage,', 'surgery', 'son.', 'shade', 'coincidences', 'lacking', 'Hayden', 'Christensen', 'Anakin', 'costume,', 'Jessica', 'Alba', 'Wells', 'Victorian', 'consequences', 'protagonist', 'wimpy', 'Fay', 'Wray', 'reeks', 'uttered', 'Welles', 'suspiciously', 'enormous', 'Warner', 'Bros.', '1940s', 'red', 'robs', \"Wells'\", 'predicted', 'World', 'Things', 'senseless', 'drivel', 'strangers', 'cards', 'electric', 'wisdom', 'purpose.', \"Didn't\", 'casting,', 'theater.', 'History', 'Arnold', 'Richards,', 'fugitive', 'freedom', 'Damon', 'Family', 'contestants', 'Mick', 'Richards', 'innocence,', 'Running', 'Amber', 'poor,', 'time),', \"we'd\", 'influences', 'media', 'chilling.', 'gifts', 'cliff', 'sinking', '1987', 'replaced', 'completed', '2006', 'sail', 'prophetic', 'recognition', 'deserved.', 'Oscars,', 'man\"', 'must-see.', 'Awful', 'Definitely', 'Pamela', 'alas,', 'go,', 'theory', 'supports', 'eastern', 'event.', 'accurate.', 'assert', 'eternity', 'photographer,', 'incomprehensible.', 'Something', 'physics', 'nowadays.', 'wasting', 'M', 'episodes.', 'mechanics', 'explained', 'fog', 'metaphysical', 'States.', 'San', 'Francisco.', 'routine.', 'financially', 'available.', 'pure', 'battling', 'desert.', 'pointlessly', 'only.', 'drag', 'bored,', 'aired,', 'late,', 'Kenneth', 'resist', 'challenge.', 'remake,', 'infantile', 'Vic', 'CGI,', 'improvement', 'earlier,', 'dazzled', 'lights', 'scripts', 'dated,', 'obligatory', 'backs', 'Man\"', 'sounded', 'crowd', 'ounce', 'original,', 'Check', 'Spain,', 'hammer', 'dug', 'fresh,', 'smart,', 'dish', 'send', 'hand-held', 'Dennis', 'Quaid', 'coach,', 'challenges', \"he'll\", 'practice', 'terrifying', 'heaven.', 'technically', 'cookie', 'stunt', 'pity', 'entertained', 'revel', \"hero's\", 'absurdist', 'chief', 'critic,', 'pin', 'heroine', 'replies', 'critic', 'Finally,', 'Overall', 'elements.', 'chiller', 'what,', 'committing', 'tight', 'mystery,', 'gory,', 'combine', 'dread', 'vibe', 'Cassavetes', 'reporter,', 'Duncan', 'psychic', \"i've\", 'Jigsaw', 'ideas,', 'u', 'gory', 'deaths', 'attack.', 'Again', 'sucks,', 'mock', 'mocking', 'expectations.', 'sub', 'player.', 'different,', 'compassion', 'entertained,', 'joyous', 'Robbins', 'matched', 'details.', 'arch', 'idiots', 'Jesus,', 'iron', 'Yeah,', 'convert', 'brains', 'derived', 'broad', 'inspirational', 'amidst', 'blatant', 'propaganda.', 'succeed', 'true,', 'not!', 'wins.', 'round', 'pause', 'ignore', 'fish', 'implies', 'starving', 'unsure', 'boots', 'yard', 'hyped', 'miracle', 'flag', 'turkey.', 'then.', 'worthwhile.', 'quirks', 'faults.', 'scripting', 'like?', 'Besides,', 'vividly', 'life?', 'Beckinsale', 'vacation', 'of)', 'Thailand', 'prison.', 'wraps', 'raises', 'discussion', '2005', 'annual', 'midnight', 'screening', 'Yokai', 'fanatical', 'fearless', 'geared', 'Japan.', '\"Lord', 'festival', 'bags', 'screening.', 'companions', 'young.', 'naturally,', 'material.', 'guarantee', '=', 'Obviously', 'Gunga', 'Grant,', 'Fairbanks', 'Sam', 'Din', 'Jar', 'non', 'sentiments', 'romance.', 'deemed', 'skin', 'delight.', 'TCM', 'silly.', 'realised', 'pizza', 'table', 'DID', 'again.The', \"characters'\", 'simplicity', 'LOT', 'multi-million', 'dollar', 'make-up', 'noticed', 'crappy', 'filter', 'assassins', 'witness', 'federal', 'agents,', 'tracked', 'it...', 'liked.', 'phase', 'Govinda', 'type.', 'entertainer', 'timely', 'riot', 'perform', 'force', 'Bollywood.', 'It`s', 'Theo', 'revolving', 'mechanical', 'masquerading', 'Keitel', 'it`s', 'intrusive', 'incidental', 'Clint', 'Eastwood', 'devised', 'Muppet', 'relaxed', 'naïve', 'Kermit', 'blows', 'befriends', 'wannabe', \"father's\", 'diner', 'Coleman', 'Elliott', 'MOVIE', 'Gregory', 'portrait', 'sporting', 'ostensibly', 'celebrated', 'Brooke', 'shades', 'Muppets', 'acquired', 'spies', '(after', 'amnesia', 'advertising', 'ceremony', 'flame', 'guys,', 'guns', 'more?', 'Moon', 'Child', 'Gackt', 'Sho', 'Kei', 'grows', 'ripe', 'emotions.', 'cry,', 'sings', 'painful.', 'whats', 'accompanied', 'south', 'League', 'satisfying.', 'Kill', 'Sin', \"girl's\", 'pet', 'answering', 'Barrymore', 'Fallon', 'sorta', 'Sox', 'facing', 'dollars.', 'conveniently', 'ignoring', 'mess.', 'month', 'winner', 'Actress', 'Tomlinson', \"England's\", 'Owen', 'Home', 'formerly', 'role.The', 'guard', 'Army', 'soldiers', 'India', 'Caribbean', '(complete', 'drums', 'surprisingly,', 'Angela', 'Lansbury', 'shortly', 'UP', 'reprise', 'occasion', 'relative', 'failure.', 'sides', 'predecessors', 'budding', 'Roddy', 'witchcraft', 'imagined', 'countryside,', 'sample', \"studio's\", 'film!', 'disgusted', 'pretty.', 'any,', 'see!', 'STILL', 'WERE', 'obviously,', 'screen!', 'Pretty', 'Alone', 'own,', 'pounding', 'techno', 'track.', '\"Where', 'cue', 'design.', 'robotic', 'happening,', 'happening.', 'nine', 'Cecil', 'Joy', 'decadent', 'district', 'goodness', 'alcohol', 'woeful', 'presentation.', 'low,', 'classify', 'correct.', 'DeMille', 'piles', 'subtitle', 'flat', 'pointing', 'excellence', 'Lois', 'Wilson,', 'card', 'speak.', 'argument', 'structure,', 'pacing,', 'Boring,', 'hardcore', 'worm', 'Eat', 'Fried', 'classmates', 'worms', '\"he', 'eats', 'bets', 'respect', 'bullies', 'resort', 'bullying', 'protagonist,', 'minded', 'empathize', 'silently', 'goal,', \"children's\", 'will,', 'circuit', 'snakes', 'Fear', 'Shepherd', 'potential,', 'overall.', 'been.', \"O'Toole\", 'fighting,', 'priests', 'innocent.', 'ambitions', 'saying,', 'implications', 'church.', 'myths', 'flames', 'reaching', 'Suddenly,', 'pressure', 'blew', 'Thankfully', 'Gielgud', 'shrink', 'words.', 'Bring', 'madness.', 'Greene', 'accused', 'Sylvia', 'accounts', 'multiple', 'texture', 'combining', 'enhance', 'leaps', 'reflect', 'eye.', 'accomplishes', 'wildlife', 'footage.', 'States,', 'Again,', 'distribution.', 'houses', 'breathtaking,', 'beautiful.', 'fascinating.', 'fox', 'footage,', 'non-stop', 'afterward', 'avoids', 'rents', 'avoiding', 'holiday', 'fiasco', 'letter', 'Dad', 'healthy', 'unaware', 'died.', 'god,', 'ban', '(much', 'Ozzy', 'fire,', '#1', '(Gene', 'dead,', 'Cinderella,', 'slasher,', 'killing,', 'deaths,', 'steel', 'Than', 'of?', 'Winter', 'Truth', 'Iraq', 'one-sided', 'illustrate', 'gleefully', 'greedy', 'efficient', 'woefully', 'Vietnam,', 'wing', 'aiming', 'message.', 'shows.', 'cartoons', 'Nevertheless,', 'expected.', 'kiddie', 'stinker.', '\"Pet', 'days.', 'emotional,', 'scares,', 'creepiness', 'gruesome', 'novels.', 'members.', 'happiness', 'dark.', 'Gage', 'creepy.', \"family's\", 'myth', 'desperation', 'Sadly', 'tragedy', 'desperation.', 'opinion.', 'tender', 'mother.', 'Surely', 'mesmerizing', 'deservedly', 'Austen', 'complexity', 'accurate,', 'intense,', \"Austen's\", 'novels,', 'irony', 'respected', 'irony,', 'Bates', 'all).', 'engaged', 'renders', 'clearly,', 'knowledge', 'astounding', 'novelist', '18th', 'century,', 'secluded', 'replace', 'feelings,', 'lives,', 'envy', 'rule', \"women's\", 'universal', 'value.', 'Gwyneth', 'Paltrow', 'Toni', 'dresses', 'stand-out', 'stories.', 'shorts,', 'communicate', 'exuberant', 'classified', 'owe', 'Girl', '1984', 'combines', 'worlds', 'virtue', 'simple,', 'movies),', \"friend's\", 'wanders', 'suicidal', 'advised', 'timid', 'confident', 'overt', 'shy', 'lion', 'guests', 'chorus', 'fills', 'angst', 'ridden', 'bell', 'astronaut', 'stares', 'moon', 'master', 'pipe', 'Bowie', 'song,', 'pour', 'sidewalk', '360', 'degrees', 'bullet', '1950', 'Michel', 'stylistic', 'quirky', 'tales', 'visuals,', 'musical,', 'cues', 'edit', 'explore', 'banal', 'dream.', 'Civil', 'latest', 'fought', 'neighbours', 'rather,', 'Bull', 'rides', 'acceptance', 'unwillingness', 'cause.', 'Holt', 'slave', 'freed', 'handles', 'favour', 'lends', 'periods', 'flashes', 'intensely', 'fighting.', 'admirably', 'Maguire', 'Rhys', 'Meyers', 'chilling', 'enjoyably', 'growth', 'friendship,', 'demonstration', 'scale,', 'oppressed', 'regularly', 'Seen', 'deliver.', 'dimensional', 'examination', 'strategy', 'stereotypical', 'Cube', 'watchable,', 'hour,', 'happened.', 'vague', 'motion.', '60', '\"Love', 'waited', 'borrow', 'construct', 'materials', 'theory,', 'coverage', 'narration', 'trials', 'documentaries', 'informative', 'textbook', 'Hagen', 'fundamentally', 'approach,', 'introducing', 'Nearly', 'eye,', \"Olivier's\", 'conflicted', 'Hamlet,', 'melancholy', 'London', 'tendency', 'pupils', 'essay', 'Queen,', 'differences', 'him!', 'all!', 'Shakespearean', 'Okay', 'shorter', '+', 'demanding', 'Uwe', 'Boll', 'Blood', 'there.The', 'homicidal', 'urges', 'tournament', 'thugs', 'achieve', 'life!', 'off!', 'Lombard', 'King.', 'MacMurray', 'Stanwyck,', 'Hope', 'movies)', 'Franklin', 'tape.', 'sublime', 'banter', 'Ella', 'army.', 'misses', 'tangled', 'soldier.', 'dashing', 'Quinn', 'Harry', 'Cunningham', 'wise,', 'helpful', 'ruining', 'rhythm', 'pushes', 'potentially', 'Granted,', 'knock', 'cheap,', 'aids', 'Derek', 'naturally', 'funds', 'redeem', 'forgive', 'me;', 'seat,', 'conceived', 'as,', 'resources', 'batman', 'heads,', 'astoundingly', 'breasts', 'photographic', 'display,', 'chases', 'Africa,', 'pretends', 'maniacal', 'advertisement', 'hoot.', 'colleagues', 'product', 'unquestionably', 'horrendous', 'Somehow,', 'encouraging', 'suspend', 'writer/director', 'otherwise.', 'again...', 'good...', 'Shows', 'band,', 'time...', 'bands', 'were,', '6.', 'this...', 'Whenever', 'Band', 'Get', 'rebel', 'sailor', 'Antwone', 'sessions', 'navy', 'Jerome', 'aggression', 'ranked', 'childhood,', 'generated', 'house.', 'Cheryl', 'sensitive,', 'eight.Title', 'romance,', 'weapon', 'shootouts', 'existing', 'Speed', 'character)', 'Indiana', 'type,', 'sticky', 'resorts', '\"Once', '\"real', 'villainous', 'hate.', 'entertain', 'amuse', 'gorgeous.', 'ably', 'hypocrisy', 'love.', 'serum', 'sickness', 'clinical', 'winds', '3/4', 'flashing', 'letters', 'instance,', 'close,', 'circles', 'floor,', 'crop', 'straight-to-video', 'independent', 'items', '\\x97', 'polished', 'scientist', 'nonsensical', '\"B\"', \"40's\", 'ton', 'bits,', 'flow.', 'Europe,', 'Without', 'great!', 'L', 'H', 'selling', 'Roach', 'squarely', 'Haley', 'O', 'waiter', 'Patsy', 'femme', \"30's\", '(something', 'assured', 'USA.', 'weird.', 'Im', 'dancing.', 'todays', 'im', 'well...', 'kind.', 'lit,', 'overused', 'choppy,', 'would.', 'twin', 'door,', \"sister's\", 'What?', 'Way', 'flashbacks', 'childhood.', 'street,', 'corner,', 'Enough', 'Terrible', '100.', 'this:', 'Shaun', 'BETTER', 'corners', 'nicely.', 'wonderful!', 'ample', 'trivia', 'note:', 'menu', 'exists', 'apologize', 'advance', 'disliked', 'misleading.', 'White,', 'ancestors', 'guide', 'Dog', 'inside,', 'heck', 'anyway?', 'Samurai', 'honor.', 'Near', 'bodyguard', 'enemy,', 'ninjas', 'way;', 'deny', 'exists,', 'hates', 'code', 'to:', 'so-so', 'premise,', 'honorable', 'frontal', 'nudity,', 'loosing', 'gray', 'BTK', \"killer's\", 'crimes.', 'homes', 'imagery,', 'killer.', 'arc', 'tolerate', 'suffering.', 'warning.', 'Stay', 'Private', '(out', 'doctors', 'Seriously,', 'maturity', 'complaining', 'Pete', 'cure', 'insomnia', 'loser,', 'not)', 'Meredith', 'rainy', 'fling', 'subconscious', 'relationships,', 'one...', 'upset', 'example).', 'advertised', 'Truly', 'promise.', 'it!!!', 'WE', 'CAN', 'cleaned', 'logic.', 'shark', 'anything.', 'got.', 'note.', 'serious,', 'mention,', 'sorry,', 'Tyler', 'harder', '4/10', 'break,', 'comments.', 'Hopefully', 'winner,', 'Stiller', 'horse,', 'sober', 'bumbling', 'lest', 'Napoleon', 'sanity', 'Take', 'compensate', 'dire', 'glaring', 'fault', '\"American', 'rubbish', 'Nelson,', 'Killers', 'ninja', '\"White', 'clan', 'feature,', 'logo', 'roaming', 'trees', 'aesthetic', 'failings', 'mine', 'relentless', 'incredible,', 'creep', 'outbursts', 'insights', 'U', 'T', 'sense,', 'echoes', 'closeup', 'magazine', 'hacks', 'useless', 'utilized', 'lessons,', 'MADE', 'choice,', 'pleasure.', 'satisfied', 'competing', 'worry', 'rates', 'convoluted', 'from...the', 'Fiend', ':.', '\"good\"', 'Today', '17', 'songs,', 'Shepard', 'buffs.', 'tissue', 'Down', 'heavenly', 'Land', 'Time.', 'Theodore', 'meaningless', 'depend', 'expects', 'tasty', 'maybe,', 'none.', \"i'm\", 'nudity.', 'sneaking', 'robbers', 'pleasures', 'enjoy.', 'allusions', 'Kelly,', 'mark.', 'period,', 'issue.', 'predictability', 'praised', 'me:', 'Los', 'Angeles', 'News', 'area,', 'experienced.', 'cliché,', 'clown', 'tool', 'grabs', 'rocks', 'run,', 'singing.', 'sang', 'features.', 'escapes', 'said:', 'famed', 'reportedly', 'is)', 'Edith', 'Goes', 'West\"', 'hardships', 'Darius', 'fortunate', 'need,', 'west.', 'Greek', 'Comedy', 'writes', 'Grandpa', 'butcher', 'assistant', 'prostitute', 'poisonous', 'shootings', 'television,', 'e.g.', 'enjoying', 'disagree', 'yes', 'solving', 'figures', 'tire', 'kid.', 'school.', 'explained.', 'correct', 'soon-to-be', '7th', ':-)', 'Creature', 'Given', 'spans', 'profanity', 'laced', 'functions', '(both', 'between.', 'seasons', 'swear', 'overdone,', 'killers', 'Scarecrow', 'Lines', '\"Let\\'s', 'sake.', 'puns', 'dressing', '(and,', 'knocking', \"O'Neill\", '(where', 'waits', 'sappy,', '(i.e.', 'recording', 'career.', 'Jordan', 'decently', 'candidate', \"90's.\", 'Matter', 'Life', 'Powell', 'fantastically', 'stark', 'fantastic,', 'jury', '(David', 'alone,', 'Kim', 'exciting.', 'restore', 'Victoria', 'performances.', 'Rupert', 'Friend', 'Prince', 'Melbourne', 'Miranda', 'vehicles', 'Featuring', '(she', 'accepts', 'pursued', 'hired', 'larger-than-life', 'constitutes', 'besides,', 'lick', 'veterans', 'Murray', \"Bo's\", 'guardian', 'Donald', 'presumably', 'cinematographer', 'gratitude', 'lent', 'IT', 'Razzie', 'Romantic', 'troubles', 'whatever.', 'Dan', 'flirts', 'realizes', 'forms', 'Carell', 'scenes?', 'Unhinged', 'shoestring', 'awkwardly', 'developed,', 'exposition', 'exposing', 'specifically', 'pages', 'superhero', 'Executive', 'dip', 'out)', 'right!', 'chock', 'appease', 'masses', 'illustrates', 'leads.', 'exceptions', 'Reeve', 'Stewart', 'ALWAYS', 'glimpses', 'fictitious', 'Universe', 'model', 'undoubtedly', 'Knight', 'hugely', 'say?', 'split', 'reactions', 'evoked', 'Batman:', 'betrayed', 'primitive', 'liberal', 'usage', 'closed', 'Hollywood,', 'derive', 'emotion.', 'wartime', 'outstanding.', 'army', 'Gary', 'Q', 'Sci-fi', 'crossing', 'Phillip', 'K', 'explores', 'Matrix', 'staple', 'Sullivan', 'technological', 'wife.', 'strange,', 'differ', 'pains', 'nightmares.', 'Rita', 'seems.', 'attending', 'Sullivan,', 'speakers', 'ensure', 'nightmarish', 'puppets', 'wiping', 'existence.', 'brainwashed', 'shut', 'disc', 'dispose', 'centre', 'Lynch', 'along.', 'replaces', 'Francisco', 'acquaintance', 'Sanders', 'Wendy', '5.', 'wow', 'thru', 'wishing', 'filling', 'G', \"Spielberg's\", 'theatres', '95%', '1953', 'rendered', 'backgrounds.', 'interior', 'streets.', 'faked', 'horse.', '\"real\"', 'fields', 'Martians', 'sequence,', 'disappointing.', 'stands,', '(mostly', 'artistic', 'budgetary', 'If,', 'values,', '(unless', 'warned,', 'better!', 'best-selling', 'album', 'Never', 'Cagney', 'Powell,', 'Ruby', 'Chester', 'musicals', 'producing', 'singer', 'timeless', 'Ron', 'superb.', 'Sykes', 'cleverly', 'Fair', 'composition', 'influenced', 'creative,', 'story)', 'speaker', 'knowledge.', '(what', 'advise', 'memory.', 'ones,', 'scored', 'Hawke', 'uncomfortable,', 'also.', 'movie!!', 'question:', 'Frosty', 'Fourth', 'associated', 'season.', 'frequent', 'mixing', 'Einstein', 'spice', 'better.The', 'fantasy,', 'auto', 'embarks', 'Throw', 'jealous', 'fiancé', 'exemplifies', 'mix,', 'delightfully', 'mischievous', 'Meg', 'stale', 'viewings.', 'first-rate', 'gentle', 'drive-in', 'Kelly.', 'moves,', 'purple', 'IMDb,', 'Beyond', 'reviews.', 'clean', 'entered', 'paper', \"Let's\", 'clock', 'Good,', 'complain', 'Anything', 'else?', 'messing', 'blood,', 'groups', 'chill', 'Shining', 'Friends', 'buzz', 'heart-warming', 'tricky', 'Room', 'outcast', 'witnessed', 'shooting.', 'Deanna', 'victim.', 'investigating', 'Eventually', 'breakfast', 'turmoil', 'everyone.', 'begging', 'revisit', 'unexplained', 'bill', 'historian', 'groundbreaking', 'Hitler', 'historically', 'Vienna', 'neurotic', 'Ernst', 'Hitler.', 'gloss', 'disgusting', 'tempted', 'facts', 'comrades', 'mistakes,', 'era.', 'ridiculously', 'classics,', 'hot.', 'angered', 'review.', 'complex,', 'thought-provoking', 'lapses', 'Ferrell', \"Thompson's\", 'fist', 'rang', 'etc.),', 'fate,', 'pleasure,', 'soul.', 'mighty', 'journey,', 'literature', 'occurs,', 'roll.', 'Say', 'tack', 'undermined', 'integrity', 'Except', 'OK.', 'betrayal', 'burst', 'Zack', 'vapid', 'unfaithful', 'core', 'LOST', 'contained', 'humor.', 'credited', 'Matthew', 'Days', 'Lives', 'fascinated', 'witches', '2nd', 'War.', 'Road', 'couple.', 'aunt', 'sketch', 'Leon', 'feature-length', 'obscene', 'Ladies', 'See,', 'often.', 'dropped', '\"Sweet', 'Bel', 'gags', 'dry.', 'SNL', 'insert', 'wives', 'witless', 'cameo.', 'Oscar-winning', 'Williams.', 'breathe', 'R', 'more,', 'downbeat', 'World\"', 'adapting', 'flip', 'sketches', 'score:', 'shelf', 'highlights', 'skimpy', 'dancers', 'guessed', 'Basically,', 'Ernie', 'works,', 'staff', 'Francis', '(Charles', 'Nurse', 'Ball', '(Barbara', 'Mrs.', '(Joan', 'werewolf', 'movie\"', 'horrible,', 'bid', 'werewolf,', 'positive,', 'heck,', 'colorful', 'musicals.', 'sparse', 'desired.', 'racial', 'movies?', 'Nope,', 'Britain', 'sequence.', 'weeks,', 'niece', 'documents', 'Harlem', 'sympathize', 'intellectuals', 'document', 'documented', 'penchant', 'viewer,', 'declare', 'post-war', 'mayhem', 'Pimlico', 'politician', 'Dame', 'Basil', 'pretentious,', 'poses', 'film\"', 'Whether', 'Poorly', 'platoon', 'fix', 'killings.', 'enjoyed.', 'beers', 'babysitter', 'visits', 'cemetery', 'padding', '85', 'Cole', 'WORST', 'Scenes', 'rightfully', 'Connery', 'grandmother', 'Laurence', 'Fishburne', 'department', 'crime.', 'Harris,', 'Late', 'co-star', 'thriller.', 'miracles', 'Amanda', 'Peet', 'Nine', 'it.I', '\"Whipped\"', 'somethings', 'manipulated', 'telling,', 'Oh,', 'been,', \"Eric's\", 'buddy,', 'punching', 'bag', 'agree.', 'list.', 'okay,', 'Ultimately', 'remakes', 'Daisy', 'addressed', 'Schneider', '(along', 'cute.', 'brunette', 'qualified', 'Boss', 'Willie', 'comparison.', 'Denver', 'dirty,', 'curiosity,', 'free.', 'MOVIE.', 'Oshii', 'unleashed', 'dazzling', 'compete', 'spinning', 'innovative', 'unfathomable', 'Amazing', 'endured', 'deceptively', 'stop-motion', 'method', 'Daily', 'superlative', 'Studio', 'fashion.', 'Godzilla', 'stoic', 'Cowboy', 'convenience', 'stores', 'primal', 'root', 'explanation.', '\"art\"', 'taboo', 'celluloid', 'grey', 'experiment', 'exhilarating', 'irritating.', 'equal', 'cerebral', 'innovative,', 'Kentucky', 'samurai', 'chef', 'Andrei', 'Lynch.', 'bomber', 'franchise.', 'irritated', 'inspire', 'Lion', 'began.', 'born.', 'Pride', 'self-centered', 'Max', 'shook', 'head.', 'kissed', 'goodbye', 'taught', 'declared', 'elephants', 'care.', 'atop', 'lifting', 'assortment', 'incessant', 'land,', 'gaze', 'bowling', 'bug', 'soon,', \"she'd\", 'battles', 'trap', 'worked.', 'paradise', 'present,', 'Mickey', '1/2', 'swear,', 'overplayed', 'Nathan', 'Lane', 'Whoopi', 'Goldberg', 'Hence,', 'resume', 'aspiring', 'awards', 'kitchen', 'sink', 'bullied', 'aspirations', 'ballet', 'macho', 'council', 'preserve', 'Channel', 'TIME', 'Considering', 'cancer', 'poverty', 'refer', 'marketed', 'Riding', 'Giants', 'dives', 'under-appreciated', 'Stacy', 'players,', 'stock', 'reinforced', 'sport', 'Step', 'Into', 'ride,', 'finish,', 'jumping', 'attracted', 'waves', '(because', 'movie),', 'surfers', 'fuel', 'fire.', 'darn', 'Picture,', 'danger', 'broke', 'element.', 'opposite.', 'immortal', 'minds,', 'further,', 'bonds', 'impressed.', 'saying.', 'lessons.', 'Reese', 'tad', 'precious', 'rotten', 'heap', 'tear', 'posing', 'intellectually', 'distinguished', 'midget', 'Jr.', 'pasted', 'dozen', 'tv', 'arguments', 'imaginable.', 'inherently', 'quotes', 'context,', 'told,', 'Thus', 'form.', 'world?', 'evidence', 'edits', 'Chainsaw', 'Massacre', 'versus', 'interviewed', 'parking', 'authors', 'started,', 'commentary,', 'proceeds', 'kidding', 'describes', 'resurrection', '(whom', 'upbringing', 'HIS', 'child.', 'hatred', 'motel', 'Lisa', 'Hotel', 'loose.', 'Flight', 'ahead.', 'liners', 'charge.', 'Any', 'idiots.', 'devices', 'fast.', 'Cox', 'Usual', 'disguises', 'goose', 'tighter', 'captive', 'planning', 'Phyllis', 'fisherman', 'curiously', 'ONLY', 'FIRST', 'prophet', 'Joseph', 'Smith', 'effective.', 'remarkable,', '\"Death', 'passable', 'Sarandon', 'listens', 'Burgess', 'insane', 'Beverly', 'mute', 'lover.', 'Carradine', 'chair.', 'creative.', 'climax,', 'nonetheless', 'sensibilities', 'few,', 'wonderfully.', 'spell', 'aristocratic', 'cooking', 'corn', 'permeates', 'greatness', 'graces', 'drew', 'Edie', 'cos', 'bedroom', 'arrange', 'powerless', '(save', 'heroic', 'background,', 'sympathetic.', 'warmth', 'dignity.', '99%', 'males', 'shadows', 'flaw,', 'media.', 'guest', 'models.', 'models', 'sleazy', 'smoking,', 'up)', 'lighting,', 'feel.', 'unto', 'freely', 'them.The', 'autistic', 'Stop', 'Somebody', 'attempt.', 'Dream', 'singers', 'Shirley', 'kindness', 'slaves', 'engagement', 'injured', 'pesky', 'sister,', 'Enter', '(Ray', 'launch', \"Foster's\", 'literal', 'portrayals', 'condemned', 'vault', 'revived', \"America's\", 'Brown', 'v.', 'warmed', 'moviegoers', 'wore', 'Directed', 'Palma', 'Stone,', 'refugee', 'Montana', 'ruthlessly', 'Florida.', '9/10', 'le', 'thrillers', 'criminals', 'fatale', 'wheelchair', 'much!', 'extract', 'Woman', 'floats', 'bed,', 'toy', \"child's\", 'film.If', 'scared,', 'AVOID', 'throughly', 'showcase', 'figuring', \"DVD's\", 'lions', \"Couldn't\", 'Spiderman', '2007', 'chased', 'masks', 'servants', 'powerfully', 'comments,', 'Laputa', 'exceptionally', 'rejected', 'oblivious', 'promptly', 'really?', 'people?', 'humans', 'Day', '1963', 'occurs', 'Nell', 'terror', 'noises', 'hurting', 'slides', \"Taylor's\", 'Zeta-Jones', 'demonstrates', 'depth.', 'NONE', 'TWO', 'friendly,', 'lonely,', 'human,', 'disappears', 'feat', 'waste.', 'soft-core', '(it', 'ponder', 'plodding', 'contrived,', 'tastes,', 'discount', 'thirds', 'grand', 'sort.', 'awkward,', 'unbelievable,', 'lovers.', 'hideously', 'scream,', 'throwback', 'Hand', 'unpleasant,', 'Williams,', 'honour', 'loosely)', 'horrendously', 'masturbation', 'inconsistent', 'recreate', 'presumed', '700', 'Club', 'awhile', 'conservative', 'believe,', 'grew', 'busy', 'Him', 'Plenty', 'ingredients', 'histrionics', 'cable,', 'rerun', 'screwed', 'canceled', 'entertaining,', 'cancel', 'robbing', 'rob', 'outta', 'here!', 'horrible.', 'hell.', 'sniper', 'rifle', 'tree', 'scope', 'going,', 'Beatty', 'hero.', 'substantial', 'still.', 'dude', 'Hoffman,', 'things.', 'amazing,', 'flawless', 'Batman,', 'semi', 'boredom.', 'lasted', 'all?', 'above,', 'end...', 'happenings', 'reel.', 'left.', 'ratings.', 'papers', 'mail', 'programs', 'Stevenson', 'obnoxious,', 'disrespectful', \"town's\", 'hung', 'nostalgic', 'round.', 'factory,', 'values.', 'excited', 'appalled', '4th', 'report', 'Mrs', 'laboratory', 'thumbs', 'alright.', 'Christian,', 'eagerly', 'anticipated', 'Words', 'brief,', 'jazz', '(apparently', 'Germany.', 'faith.', 'follow,', 'preaching', 'Hardly', 'spread', 'Brenda', 'Fiona', 'Fricker', 'Day-Lewis', 'here:', 'transformation', 'heart-wrenching', 'bomb.', '1930s', 'presidential', 'Poor', 'politicians', 'kindly', 'Cooper', 'formal', 'dinner,', 'from?', 'excruciating', 'absent', 'gal', 'am,', 'gruesome,', 'Dentist', 'grossed', 'filthy', 'teeth.', 'smoothly', 'brown', 'bleeding', 'patient,', 'queen', 'April', 'drifts', 'chair,', 'choke', 'patients', 'practice.', 'encourages', 'chair', 'operatic', 'forget.', 'torture', 'funny!', 'try,', 'Micheal', 'affair.', 'props', 'lend', 'proceedings.', 'widescreen', 'endure', 'cash.', 'exploring', 'bitten', 'bat', 'causes', 'alarming', 'sub-par', 'Bat', 'plotted', 'pacing.', 'Stan', 'Winston', 'schlock', 'Hammer', 'consideration', 'horses,', 'fur', 'at,', \"Fuller's\", 'endlessly', 'Skip', 'McCoy', 'fingers', 'wallet', 'Candy', '(Jean', 'Communist', 'movement,', 'ex-boyfriend', 'delivery.', 'lifts', 'Peters', \"Widmark's\", 'Bogart', 'lone', 'maintaining', 'get,', 'well)', 'torn', 'law.', 'tramp', 'glamour', 'role),', 'asset', 'innocent,', 'slapped', 'knocks', 'pouring', 'face,', 'honest.', 'Fuller', 'linger', 'maximum', 'locales', 'unusual,', 'bold,', 'film...', 'Streep', 'Nicholson', 'writers.', 'Slow', 'affair,', 'opera.', 'sixteen', 'al', 'heal', '1990s', 'WHO', 'enemy', 'IMDB', 'BY', 'fencing', 'boot', 'debacle', 'furious', 'Yeah', 'fence', '1991', 'Bruckheimer', '1980s', 'love/hate', 'Imagine', 'skits', 'stupidity.', 'Underground', 'Movie.', 'few.', 'Vince', 'inventive', 'Meadows', 'Austin', 'tricked', 'childish,', 'natured', '\"don\\'t', 'many.', '21st', 'silly,', 'One,', 'ring,', 'AS', 'BUT,', 'hallmark', 'good!', \"'60s\", 'communist', 'strong,', 'inherent', 'Highly', 'passengers', 'forwarding', 'Yep,', 'VCR', '2/10', 'captivating.', 'amazes', 'leg', 'her!', 'blond', 'Makes', 'shunned', 'hence', 'concert', 'screwing', 'crippled', 'shifts', 'big,', 'Kind', 'smooth', 'flirting', 'Major', 'synopsis', 'Texas,', 'remained', 'Morris', 'High', 'School', 'Reagan', 'County', 'team.', 'attends', 'Bay', '98', 'faster', 'comfortable', 'grind', 'agonizing', 'flaws.', 'ignores', 'dramatic.', 'documentary,', 'miraculous', 'testament', 'shown,', 'reporting', 'Robertson', 'beliefs', 'befriended', 'aid', 'murderous', 'China,', 'idiocy', 'inclined', 'hands,', 'knows,', 'musicians', 'Bon', 'Jovi', 'Row', 'when,', 'leads,', 'forgettable.', 'editing.', 'voice,', 'raising', 'distracted', 'style.', 'fail', 'rain', 'intended,', 'equipment', 'firing', 'artist.', 'package.', 'duck', 'uninspired.', 'Gay', 'Cute', 'garnered', 'Looking', 'wondering,', 'lay', 'foundation', 'Yes.', 'balancing', 'keyboard', \"1970's.\", 'spare', 'Milland', '\"Lost', 'sugar', 'Penny', 'soprano', 'convicts', 'Dave', 'Pie', 'originality.', 'subject.', '\"do', 'laughable,', 'promising,', 'jeep', 'lady.', 'bar.', 'winter', 'irrational', 'charm.', 'politically', 'dismal', 'brothers.', 'films:', 'internet', 'Johansson', 'Allen,', 'respective', 'careers.', 'trip.', 'Zombie', 'Mostly', 'Lucio', 'Bruno', 'Mattei', 'Dawn', 'Dead.', 'Fulci', 'chunk', 'Italians', 'Lets', 'Living', 'experiments', 'toxic', 'zombies.', 'flesh.', 'hotel.', 'foremost,', 'sick.', '\"Do', 'ladies', 'terrorists', 'soulless', 'whatsoever', '#2', 'infected', 'attacking', 'cool.', 'jack', 'existent', 'gripe', 'non-existent.', 'up?', 'Pure', 'extras', 'occasions', 'it\".', 'Therefore', 'sequels.', 'charm,', 'carrying', 'happier', 'defeated', 'anyways,', 'worked,', 'Farrelly', 'Alright,', 'forgiven', 'mistake.', 'cutest', 'that?', 'puppy', 'Doyle', 'catastrophe', 'gems', 'Games', 'Island', 'singular', 'pounds', 'perceived', 'mindset', '1943', 'dear', 'Rarely', '\"horror\"', 'spirited', '3/10.', \"'cause\", 'requisite', 'Marty', 'FAR', 'Abhay', 'Soha', 'Ali', 'Khan', 'protective', 'vulnerable', 'shelter', 'awkward', 'swift', 'describing', '\"that', 'awkwardness', 'tenderness', 'poignant', 'bitter', 'read.', 'praises', '1983', 'ring.', 'deem', 'Scarface', 'happiness.', \"Palma's\", 'escape,', 'offer,', 'brainless', 'promotion', 'tears.', 'counts.', 'terrific.', 'Michelle', 'Pfeiffer', 'heels', 'diamonds', 'Alejandro', 'river,', 'Always', 'hype', 'crap,', 'rocks,', 'Crawford', 'Gable', 'wiped', 'brother,', 'quick.', 'massacre', 'indeed.', 'heroine,', 'exotic', 'doctor,', 'married,', 'met.', 'arranged', 'Western', 'pilot,', 'George,', 'promises', 'society.', 'counts', 'destroys', 'gone,', 'elegant', 'engrossed', 'tale.', 'unknowingly', 'fathers', 'trees.', 'miniature', 'Totally', 'longer.', 'melodrama.', 'preferred', 'made!', 'America.', 'Should', 'mandatory', 'Walk', 'piece.', 'Oscar.', 'productions', 'easy.', 'grade', 'levels', 'affinity', 'retired', 'Farnsworth', 'unappealing', 'me).', 'boot.', 'Guinness', 'weave', 'aliens', 'themed', 'END', 'ingenuity', 'convent', 'wholly', 'shameless', 'significantly', 'amusingly', 'service', 'II,', 'mistake', 'California,', 'Paramount', 'reliable', 'attributed', 'scenario.', 'veteran', 'nicely,', 'Clarence', 'error', 'Angelina', 'Jolie', 'shes', '101', \"didn't.\", 'Juliet', 'concentration', 'consequently', 'were.', 'Nor', 'shows,', 'glorified', 'Irwin', 'Day.', 'think)', 'rebellious', 'girlfriend,', 'continual', 'Bruce', 'Dern', 'Make', 'hit-man', 'H.', 'Macy', 'Sutherland', 'callous', 'offense', 'offensive,', 'hunk', 'Smith.', 'Mormons', 'conniving', 'Heather', 'solace', 'relating', 'tribal', 'dog.', 'advice,', 'indie', 'religion.', 'B-', 'C', 'D', 'Trek', 'terminal', 'Sgt.', 'invest', 'cent', 'hordes', 'bats', 'I,', 'mannerisms', 'shine', 'real-life', 'pathos', 'mix.', '80s.', 'sub-plot', 'denouement', 'wasted,', 'films!', 'fed', 'weapons,', 'scream', 'Stephanie', 'generation,', 'Pedro', 'tedious.', 'live,', 'Close', 'specially', 'american', 'fooled', 'bonus', 'Hat', 'laughing.', 'Spinal', 'satire.', 'hats', 'sun,', 'lady,', 'low-key', 'absurdity', 'predicament', 'half,', 'prefer', 'fuzzy', '(1)', '(2)', 'people;', 'too!', 'lowered', 'general.', 'Hey,', 'morality', '\"If', 'bashing', 'sexist', 'generates', 'sucks.', 'High\"', 'ultra', 'rejects', \"kids'\", 'Brits', 'Scooby', 'Doo', '\"Just', 'jaw', 'robot', ':D', 'fanatic', 'in!', 'confesses', \"Drew's\", \"Charlie's\", 'dates', 'Music', 'Reiser', '\"Mad', 'shared', 'M.', 'ritual', 'fourteen', 'olds', 'silence', \"Hitler's\", 'escaped', 'revelations', 'emerged', 'titles', 'Lawrence', 'directing,', 'project.', 'witch,', 'assumed', 'locals', 'film),', 'happened,', 'nurse', 'shooter', '3rd', 'Wendigo', 'itself.', 'staged', 'immature', 'french', 'kidnaps', 'cartoon,', 'seeing,', '13', 'should.', 'find.', 'dogs,', 'replay', 'heartbreaking', 'Holly', 'Palance', 'matrix', 'shooting,', 'break.', 'fired', 'Breaking', 'Glass', 'perfectly,', 'economic', 'recycled', 'viewing,', 'Blade', 'prevalent', 'trying,', 'increasing', 'mankind', 'FROM', 'BLACK', 'novelty', 'shed', 'deception', \"Dawson's\", 'financed', 'legs,', 'overweight', 'hopeless', 'annoy', \"'em\", 'bikini', 'impresses', 'ladies,', 'stereotypes,', 'hysterical', 'Irene', 'Ira', 'steam', 'midway', 'suspenseful', 'heartwarming', 'hammy', 'measure', 'disaster,', 'employ', 'Jackson,', 'stuffed', 'Fantasy', 'Compare', 'grandiose', 'watched.', \"Jackson's\", 'co', 'government,', 'interview,', 'of\"', 'sunk', 'everything,', 'Naturally', 'credit.', 'served', 'purpose,', 'rings', 'wary', 'Look', 'continent', 'stylistically', 'session', 'Shane', 'Edinburgh', 'International', 'aided', 'response', 'criticisms', 'articulate', 'constructive', 'directors.', '(apart', 'Marquis', 'extend', 'locked', 'him.The', 'way:', 'teachers', 'Several', 'bones', 'utter', 'disdain', 'mirror', 'reports', 'feel,', '\"Why', 'Clay', 'ineptly', 'lingering', 'spoke', 'agenda', 'Loach', 'map', 'extends', '6/10', 'crowd,', 'WILL', 'Lifetime', 'universe.', 'melodramatic', 'cheese.', 'ideas.', 'comment,', 'Falling', '1972', 'entries', '60s', 'supply', 'unsophisticated', 'cinematography.', 'theatre.', 'Kris', 'brash', 'uncertain', 'cap', 'poetic', 'crap?', 'tired,', 'earnest', 'poetry', 'hit,', '\"you', 'Wedding', 'Woman\"', 'icon', 'officially', 'bands,', 'uniforms', 'missions', 'widow', 'heritage', 'exposed', 'loyalty', 'freedom.', 'wooden,', 'new.', 'arms,', '\"great\"', 'excessive', '\"Baby', 'Face\"', 'snippets', 'Face', 'Lily', 'Powers', 'sexuality', 'power,', 'revenge,', 'pretense', 'marvelous', 'Theresa', 'powerful,', 'exploit', 'permanent', 'control.', 'destination', 'Adolf', 'interpretation', 'W.', 'sexually', 'wisely', 'raw,', 'Cross', 'parked', \"Adam's\", '21', 'danced', 'safe,', '\"Saving', 'ventures', 'departed', 'secretly', 'sympathetic,', 'illegal', 'breathing', 'grin', 'feeling.', 'boast', 'confusing.', 'partial', 'concoction', 'NBC', 'freaky', 'cuts.', 'gimmicks', 'weaknesses', 'question,', 'spitting', 'Cat', 'Grand', 'addressing', 'twisting', 'Ape', '*1/2', 'many,', '(i', 'Double', 'they?', 'shop,', 'stealth', 'neck,', 'flashback,', 'boyfriends', 'tow', 'tea,', 'mysteriously', 'island,', 'treasure,', 'three,', 'baffled', 'freaks', 'borderline', 'huh?', 'bizarre.', 'AFI', 'Colin', 'interested,', 'bearded', 'currently', 'lifestyle', 'arguably', '1980s.', 'magazines', 'humour.', 'Dutch', 'subject,', 'boundaries', 'stretched', 'one)', 'Christ,', 'releasing', 'weekend.', 'Super', 'escort', 'her.The', 'borrows', 'carbon', 'mixes', 'reverse', 'overbearing', 'dinner.', 'Debra', 'unrealistic.', '(often', 'Chuck', 'HE', 'reputation', 'Walker,', 'affected', 'Arkin', 'stems', 'inadequate', 'imprisoned', 'Mexico.', 'Selma', 'Cruel', 'Intentions', 'Randy', 'Vacation', 'absurd,', 'adventure', 'castle', 'Mills', 'rangers', 'September', 'following.', 'surprised.', 'disturbing.', 'topic,', 'Gere', 'SG-1', '1994', 'gate', 'Through', 'Samantha', 'Carter,', 'quiet,', 'inserted', 'warriors', 'planets', 'cultures', 'pressing', 'decline', 'This,', 'rating:', 'trying.', 'persuades', 'thereby', 'banging', 'therapy', 'targets', '1971', 'plot!', 'sucked,', 'failed.', 'skit', 'annoyance', 'constraints', 'Suit', 'risqué', 'PG-13', 'heights', '\"Dirty', 'no-nonsense', 'incorrect', 'outraged', 'promoted', \"Eastwood's\", 'humble', 'Francisco,', 'cop,', 'Dirty', 'suspended', 'Callahan', 'aspects.', 'graphically', 'violent.', 'trouble,', 'justified', '\"Man', 'Dollar', 'Sondra', 'Locke', 'vengeful', 'Ted', '1986', 'Metal', 'Perkins', 'J.', 'robber', 'Feel', \"Harry's\", 'must-see', 'lovers', 'Fantastic', 'dreaded', 'fat,', 'struggles', 'complains', 'biting', 'Ash', 'meanwhile,', 'twice,', 'recognised', 'timing,', 'aims', 'creeped', 'tall,', 'jerky', 'strange.', 'sporadically', 'potential.', 'Lots', '86', 'natives', 'manipulate', 'looking.', 'underwater', 'believable,', 'Acting', 'counterpart', 'Mae', 'Fawcett', 'cover.', 'submitted', 'Myra', 'Buck', 'kinky', 'induced', 'beauties', 'Welch', 'mad,', 'want,', ';)', 'passage', 'screws', 'bin', 'rating.', 'conveyed', 'casually', 'effective,', 'Psycho', 'protagonists.', 'depth,', 'overtones', 'Wood,', 'cube', 'ANYONE', 'policies', 'far-fetched', 'Police', 'undercover', 'Liotta', 'confused,', 'lied', 'thirst', 'exchange', 'Lionel', 'Dwight', 'Faye', 'maiden', 'preceded', 'Maltin', 'Overlook', 'prints', 'stormy', 'flop', 'etc,', 'idiots,', 'Jason,', 'thing:', 'ME', 'Whereas', 'Mama', 'lacking.', 'unfolding', 'Full', 'degenerate', 'duration.', 'hoped', 'appetite', 'lengthy', 'immensely', 'appealing.', 'extraneous', 'additions', 'worship', 'managing', 'mistaken.', 'Tautou', '3,', 'gap', 'justifies', 'balance', 'sugary', 'intentions,', 'sour', 'brilliant,', 'EVERYTHING', 'God,', 'start?', 'badness', 'preference', 'Bond', 'Titanic', 'come,', 'stinks', 'outfit', 'freaking', 'clothes.', 'ranging', 'Affleck', 'badly.', 'huge,', 'block', '\"She', 'HAS', 'EVEN', 'exposure', 'stab', 'chest', 'bend', 'melt', 'head,', 'Achilles', 'mind-numbing', 'warned.', 'slash', 'IT.', 'Armageddon', 'Hostel', 'importantly', 'pumped', 'browsing', 'Blockbuster', 'copy,', 'unconvincing', 'beggars', 'threatening', 'covering', 'trigger', 'finger', 'Federal', 'Vera', 'Miles', 'nary', 'canned', 'night.', 'preacher', 'sleep,', 'Bauer', 'casted', 'Jonny', 'Amy', 'disgusting.', 'Townsend', 'gay.', 'magic.', 'Among', 'are:', 'Clockwork', 'more.The', 'flock', 'architecture', 'filmography', 'approaching', 'isolated', \"Danny's\", \"Jack's\", 'alcoholism', 'Kubrick', 'scenic', 'majestic', 'crown', 'job!', 'maze', 'touch,', 'center,', 'smiles', 'hotel,', 'scan', 'looming', 'behind,', 'mist', 'roof', 'Olive', '1980,', 'started.', '(Although', \"Martin's\", 'scaring', 'Grady', 'icons', 'attendant', 'projection', '(about', 'Billie', 'dramatic,', 'frightening.', 'trek', 'degradation', 'Lloyd', '(Jack', 'typed', 'shadows,', 'poignant.', 'scary,', 'imposed', 'Wow.', 'awakening', 'knife,', 'HAD', 'meaning,', 'scariest', 'perfection.', 'collection,', 'obscurity', 'Sword', 'fantasies', 'frenetic', 'departure', 'deserves.', 'bores', 'exception,', 'actors!', 'Carradine,', 'Avoid.', 'intrigue', 'lizard', 'alliance', 'four.', 'fu', 'dubbing,', 'Henderson', '(Alan', 'drown', 'hole.', 'murdered.', 'evening,', 'remembers', 'cab', 'drummer', 'Cook', 'Jr.)', 'acknowledge', 'trial', 'sentenced', 'secretary,', 'schizophrenic', 'Man.', 'Additionally,', 'unhinged', 'Bride', 'Black.', 'ground.', 'plots,', 'guided', 'noir.', 'distinguish', 'reunited', 'Holiday', 'personalities.', 'Van', 'ear', 'apartment.', 'Released', 'here;', 'wet', 'contrasting', 'wildly', '(when', 'Kansas', 'Tone', 'Raines', 'delirious', 'believed.', 'standout', 'amounts', 'streets,', 'subway', 'station.', 'chore', 'proceedings', 'staggering', 'halt', 'pre-code', 'one-note', 'Carl', 'hunt', 'fast-forward', 'number.', 'screens', 'strengths', 'strength,', 'Piper', 'Rose', 'Finally', 'nod', 'Series', \"We've\", 'Dickens', 'pitiful', 'villain,', 'complement', 'prologue', 'finale.', 'smarmy', 'Rose,', 'Child\"', 'cliffhanger', 'Jack,', 'WW2', 'terms.', 'upbeat', '\"Bad', 'good-hearted', 'cheeky', 'socks', 'played.', 'bless', 'brilliant!', 'stand.', \"actors'\", 'fault,', 'producers,', 'etc.,', 'Rather', 'unfair', 'desire,', 'Latin', 'remove', 'square', 'Ealing', 'Third', 'thousand', 'Lumet,', 'making,', 'celluloid.', 'Problem', 'malevolent', 'wreak', 'havoc', 'funny?', 'cartoons,', 'Junior', 'reject', 'Killer', 'bigoted', 'selfish,', 'cruel,', 'resolve', 'MPAA', 'mean-spirited', 'pranks', 'PG', 'Melissa', 'Sabrina', 'everyday', 'aunts', 'college,', 'Hart', 'sale', 'Actually,', 'ha', 'Gandalf', 'coat', 'times)', 'scene:', 'Einstein,', 'Modine', 'pedestrian', 'disappoint', 'Deborah', 'Neville', \"Russell's\", 'bust', 'penis', 'offspring', \"audience's\", \"script's\", 'MJ', 'Criminal', 'psychopathic', 'Demon', 'wholesome', 'ironically', 'Aboriginal', 'come.', 'levels,', 'enduring', 'information,', 'borders', 'effect,', 'progressively', 'doom', 'Chamberlain', 'doubtless', 'worlds,', 'Mission', 'ask.', 'refund', 'demonstrated', 'sufficient', 'framework', 'threatens', 'obtain', 'soul,', 'vs', 'animals,', 'look,', 'process,', 'strangely', 'captivating', 'Harp', 'westerns,', 'glory.', 'Fleming', 'Granger', 'characteristics', 'townspeople', 'plays.', '1000', 'Voight', 'hustler', 'misfit', 'remarkably', 'Ratso', 'Joe,', 'shattering', 'devastating', 'street.', 'guilt', 'cherish', 'everywhere', 'Anybody', 'humorous,', 'X', 'MIDNIGHT', 'sexy.', 'depict', 'affecting', 'unforgettable', 'harrowing', 'usual.', 'at.', '\"First', 'Certain', 'nonsense.', 'sophisticated', 'okay.', 'all-time', 'favorites,', 'honestly,', 'bad.The', 'was:', 'Willem', 'Dafoe', 'devastated', '1st', 'Blob', \"monster's\", 'attacks.', 'hungry', 'destroyed.', 'British.', 'ironic', 'Pickford', 'ill-fated', 'luxury', 'import', 'escaping', 'explosions', 'squad', 'rescued', 'gullible', 'abroad', 'melodramatic,', 'Greatest', 'Earth\"', '2)', 'Silent', '3)', '4)', 'exists.', '1967', 'yellow', 'Read', 'series)', 'Ever', '(other', 'instrument', 'nowadays', 'chaos', '90s', 'virus', 'sites', 'chat', 'click', 'conclusion.', 'definitive', 'destroying', 'Service', 'misleading', 'sooo', 'completely.', 'biased,', 'proved', 'Anyway', 'Spain.', 'gays', 'moon.', 'right-wing', 'listened', 'surprise.', 'Gerald', 'summed', 'up!', 'zany', 'Cohen', 'Morse', 'fame,', '1939', 'recovered', 'smallest', 'struggle,', 'richer', 'Robinson', 'Kenny', 'Midnight', 'relief.', 'someones', 'blockbuster', 'lists', '99', 'gathers', 'dust.', 'owed', 'chronological', 'storytelling.', 'finale,', 'bears', 'box,', 'Keanu', 'high-school', 'voices.', 'alike', 'library', 'awful!', 'Cinderella', 'mice', 'discovered,', 'puzzles', 'suck', 'mole', 'distracting.', 'is?', 'weeks.', 'being,', 'Better', 'completely,', 'SHOULD', 'diverse', 'now!', 'manipulation', 'Vonnegut', 'stranger', 'woods.', 'virus.', 'comedy?', 'tell.', 'scared.', 'bite', 'amateurish.', 'tense,', 'Portuguese', 'fascist', 'wars', 'Guinea', 'revolution', 'coup', 'revolution.', 'blunt', 'moron', \"IT'S\", 'footsteps', 'daytime', 'Otherwise', 'pokes', 'places.', 'stupidest', 'again!', 'pat', 'incapable', 'Peterson', 'Wendt', 'deplorable', 'individual,', 'ended.', 'wreck.', 'researcher', 'Europe.', 'box.', '(unlike', 'pronounced', 'Guess', 'frat', 'wit', 'Vaughn', 'mess,', 'Rachel', 'juvenile', 'sibling', 'Fortunately', 'operations', 'Wallace', 'Beery', 'Chief', 'enlisted', 'Half', 'outlandish', 'WWII,', 'bachelor', 'father-son', 'flight', 'Jess', 'inability', 'march', 'colonel', 'Keith', 'Martin,', 'kidnapped', 'low-rent', 'talents.', 'conquer', 'subtle,', 'debate', 'uncertainty', 'fragile', 'removing', 'exquisitely', 'hair,', 'meet.', 'unknown.', 'looses', 'her;', 'lips', 'Paul.', 'cave.', 'characters;', 'seedy', 'interwoven', 'explain.', 'rooting', 'angry.', 'Chorus', 'shattered', 'staging', 'squeeze', 'Karloff', 'Together', 'Invisible', 'Lambert', 'reign', 'hamming', 'madly', 'poisoned', 'loony', 'Same', \"Lugosi's\", \"Rukh's\", '\"And', 'inspector', 'scientists', 'improves', \"its'\", 'Frances', 'terrific,', 'old.', 'cage', 'fight,', 'criticism.', 'second,', 'third,', 'cruelty', 'Noble', 'Flavia', 'explicitly', 'inevitably', 'rebellion', 'corruption', 'triumphs', 'perverted', 'perpetrated', 'impact,', 'filmed,', 'containing', 'exposes', 'policy', 'dismissed', 'machine', 'civilians', 'hit.', 'themselves,', 'Ok,', 'votes', 'seasons,', 'events.', 'posters', 'great;', 'accent.', 'always.', 'Fonda', 'remember,', 'billed', 'existed.', 'market,', 'Made', 'spoils', '7.5', '\"Blue', 'peppered', 'character?', 'love?', 'sucked.', 'Pay', 'misfortune', 'site.', 'impossible,', \"Stone's\", 'awesome!', 'name,', 'cars.', 'Eustache', 'capitalism', 'users', 'bar,', 'liquor', 'boyfriend.', 'inside.', 'trend', 'big-budget', 'virtues', 'gladly', \"Murphy's\", 'behavior,', 'flop.', 'Loretta', 'take,', 'Spencer', 'shack', 'unusually', 'Depression', 'guy\"', 'bully', 'Marjorie', 'Glenda', 'Jo', 'space,', 'sprawling', 'awfully', 'claustrophobic', 'imminent', 'glow', 'Boyle,', 'bothering', 'guess.', 'moves.', 'arrogance', 'disregard', 'reflects', \"Bronte's\", 'cheek', 'Zelah', 'Clarke', 'Dalton', 'engaging,', 'feel-good', 'tastes', 'warm,', 'sentimental,', 'romantic.', 'Masterson', 'Seattle', 'Peggy', 'Sue', 'Got', 'Hanks,', 'Kathleen', 'recapture', 'delivered.', 'comparable', 'contents', 'spelling', 'glued', 'irrelevant', 'principles', 'independence', 'dash', 'dare', 'pace,', 'dwelling', 'Personally,', 'strongly', 'existed', 'concepts', 'do!', 'Knightley', 'videos.', 'splash', 'Wait', 'you?', 'Brendan', 'movie.It', '(that', 'Seeing', 'Sen', 'angles,', '\"Seven', 'backbone', 'wonder.', 'scene)', 'storm', 'salt', 'Fiction', 'Writer', 'fundamental', 'race,', 'addresses', 'endeavor', 'America,', 'Viewers', '\"Good', 'counterparts', 'receive', 'push', 'ingenious', '\"Gone', 'Kinnear', 'Geoffrey', 'Rush', 'Ricky', '\"What\\'s', 'Woods', \"should've\", 'drifting', 'doing.', 'occurrence', 'further.', 'edge.', 'alike,', 'transitions', 'steady', 'nonstop', '7.', 'centres', 'escape.', 'running.', 'two.', '(just', 'needless', 'asylum', 'technique', 'asleep,', 'chicken', 'States', 'Americans,', 'truth,', 'preposterous', 'fantasy.', 'cult.', 'afflicted', 'sorely', 'wealth', 'selfish', 'purposes,', 'townsfolk', 'chip', '\"R\"', 'religion,', 'vile', 'Greta', 'Garbo', 'illustrious', 'marital', 'Melvyn', 'instructor', 'Blake', 'Katherine', 'legend.', 'shenanigans', \"MGM's\", \"Garbo's\", 'favored', 'Constance', 'hideous', 'teased', 'hairdo', 'Sonny', 'Roland', 'Ruth', 'drink,', 'Real', 'community.', 'recreated', 'depictions', 'living.', 'aspect,', 'Casting', 'expression.', 'difficulties', 'last.', '1940', 'Ann', 'Sheridan', 'S.', 'Kaufman', 'Moss', 'Shelly', 'autobiographical', 'Muriel', 'Connie', '1948', 'fixed', 'construction', 'heed', 'cynical', 'sardonic', '(Ian', 'chops', 'worth.', 'machine.', 'designs', 'escalating', 'appointed', 'grip', \"(he's\", 'him).', 'pink', 'attentions', 'case)', 'window,', '(despite', 'owning', 'Loy', 'red,', 'thread', 'hinted', 'crew.', 'prequel', 'Dangerous', '1975', \"Simon's\", 'reunite', 'Benjamin', \"Matthau's\", 'responsibility', 'screenplays', 'Burns', 'Willy', 'ONE', 'OVER', 'Oscar-worthy', 'commands', 'timed', 'Modesty', 'Blaise', 'elements,', 'drawback', 'Alexandra', 'Staden', 'Miklos', 'commercial,', 'anxiety', \"1990's\", 'breast', 'illiterate', 'Head', 're', 'jobs,', 'Firstly,', 'faults,', 'Knightly', 'brooding', 'Bronte', 'Morton', 'relegated', 'Harriet', 'baffling', 'adequately', 'exactly,', 'haphazard', '(my', 'Love,', 'knows.', 'talented,', 'privilege', 'sing.', 'Sophie', 'Winner', 'Favorite', 'scenes:', 'contribute', '\"Your', 'academic', \"won't.\", 'perspective,', 'tragic,', 'criticized', 'psychology', 'absorbed', 'desire.', 'decisions', 'Gino', 'Giovanna', 'deeds', 'arise', 'core,', 'supplied', '\"We', 'conscience', 'Therefore,', 'intellect', 'power.', 'ice', 'experiences.', 'objects', 'conscience.', 'indicated', 'Lo', 'Anna', 'Juan', 'we,', 'Visconti', 'Fellini', 'Fool,', 'Parker', 'Posey', 'on-screen', 'Hartley', 'pride,', 'pure,', 'box-office', 'dim', 'drum', 'loop', 'thought,', 'oh,', 'franchise', 'Arquette', 'brink', 'Florida', 'Curse', 'produced,', 'frighten', 'calculated', 'off-screen', 'protracted', 'diabolical', 'demented', 'Joey', 'decapitated', 'misery', 'Beth', 'Morgan,', 'Chad', 'disappear', 'needing', 'guess,', \"daughter's\", 'nose', 'marred', 'impersonate', 'buck', 'potent', 'Friday', 'nubile', 'suspenseful,', 'Rated', 'sexuality,', 'fondness', \"Dickens'\", 'beat.', 'remark', 'spine', 'Regardless,', 'value,', 'hard,', 'skinned', 'idiot', '***SPOILERS***', 'Parker,', 'likewise', 'Pacific', 'Fleet', 'citizen', 'Marine', 'correctly', 'Marines', 'combat', 'landed', 'August', '7,', 'River', 'gun,', 'naval', 'after,', 'troops', 'Rosemary', 'Clark,', 'Sergeant', 'adjust', 'demons', 'waking', 'spoilers,', '\"go', 'ambition', '\"very', 'Kornbluth', '(yeah,', 'Miller', 'brutally', 'Laurel', 'Luis', 'boyfriend,', 'bashed', 'hers', \"John's\", 'public,', 'dance,', 'shell', 'Ram', 'Gopal', 'Bachchan', 'owns', 'Amitabh', 'Paresh', 'approval', 'complications', 'Houston', 'bull', '(It', '(There', 'poking', 'grossly', 'cannibal', 'Dahmer', 'Horror,', 'neither.', 'facts,', 'all)', 'droning', 'attractive,', 'proceedings,', 'summarized', 'montages', 'admit,', 'applauded', 'massively', 'alternative', 'scenario,', 'Bourne', 'hopeful', '\"Inspector', 'peace.', \"'I\", 'alarm', '1996', 'order,', 'writers,', 'SFX', 'reviewing', 'helmed', 'sorts,', 'Stories', 'details,', 'do?', 'thought.', 'uninspiring', 'tactics', \"that'll\", 'tolerable.', 'HIV', 'hysteria', 'youngest', 'grief', 'seductive', 'favorites', 'orchestral', 'stone', 'cracks', 'Kapoor', 'narrates', 'uniform', 'sentimental', 'Thats', 'Main', 'must.', 'yours', 'BIG', 'imaginary', 'dreamy', 'spells', 'inhabitants', 'translated', 'repetitive', 'inducing', 'contrary', 'genres.', 'one-liners,', 'Longoria', 'Desperate', 'Boris', 'fiction.', 'Benet', 'extent,', 'Rukh', 'edges', 'fiction,', 'slammed', 'Africa.', \"You've\", 'radiant', \"Dan's\", 'sweetly', 'dorky', 'butt', 'venture', 'quirky,', \"brother's\", 'restrained', 'whimsical', 'geek', 'Filled', 'Life\"', 'begin,', 'stooges', 'difference,', 'Jan', 'patch', 'MAD', 'Special', 'Nope.', 'Colonel', '(two', 'changes.', 'January', '2002', 'resident', 'seventh', 'seasons.', 'participation', 'noticeably', 'Season', 'high.', 'replacing', \"series'\", 'Air', 'Force', 'Lt.', 'Mitchell,', 'Black,', 'artist', 'planet.', 'recurring', 'eighth', 'Bridges', 'commander', 'contributions', '2006.', 'Ireland', 'countries.', '\"Doctor', 'surpassed', '2004,', 'cancelled', 'Trek\"', 'giants', 'bond', 'Dressed', 'Dickinson', 'Franz', 'Detective', 'movie.There', 'elevator', 'similarities', '\"Don\\'t', 'me\"', 'eleven', 's***', 'contestant', 'pits', 'electricity', 'Zero', 'razor', 'hockey', 'prefers', 'fighters', 'movies:', 'sidekick', 'minus', 'faithfully', 'merit,', 'forbidden', 'rubbish,', 'hesitation', 'recommending', 'Arnie', 'Netflix', 'radioactive', 'invaded', 'Reeves', 'accuses', 'hunting', '1950s,', 'Six', 'golden', 'behavior.', 'costuming', 'expect.', 'Corey', 'Very,', 'Jaws', 'sub-plots', 'nowhere.', 'all-star', 'conjure', 'Box', 'Office', 'Jeffrey', \"Levin's\", 'BABY', 'controversial,', 'co-written', 'Alison', 'model,', '(Chris', 'DAY', 'Logan', 'Age', 'vet', 'Ava', 'Sandra', 'cat,', 'grisly', 'Michael,', 'puzzle', 'Kennedy,', 'Jose', 'Eli', 'Walken,', 'Goldblum', 'Nana', 'access', 'spinal', 'juicy', 'info', 'cheese', 'isolation', 'Currie', 'menacing', 'time)', 'endings', 'Village', 'collapses', 'Invasion', 'Body', 'canoe', '13th', 'piano', \"mother's\", 'secondary', '(In', 'Kay', 'Spoilers', '1/10.', 'emotionless', 'feed', 'dumbed', '9.', 'fathom', 'justice,', 'additional', '1951', 'Superman,', 'hour.', 'reporters', 'drill', 'puzzled', 'rampant', 'pals', 'arresting', 'him)', 'pursuing', 'strict', 'bullets', 'bounce', 'time:', 'effort.', 'Thankfully,', 'buildings', 'action-packed', 'rogue', 'mercenary', 'decent.', 'high-tech', 'tank', 'increase', 'Guest', 'babe', 'shakes', '1976', 'Silverman', 'commendable', 'briefly', 'nuclear', 'motorcycle', 'Weaver', 'grumpy', 'moody', 'fashionable', 'conventions', '40s', 'Directors', '\"An', 'Earth.', 'write,', 'guns.', 'strangest', 'where,', 'crosses', 'climbing', 'coherent', 'all.I', 'must,', 'commend', 'Hopkins', 'thug', 'punchline', 'shares', 'imitating', 'chaotic', 'disease.', 'risk.', 'Extremely', 'Fast', 'casting.', 'Herbert', 'Sunshine', 'Boys', 'filmed.', 'oldest', 'Golden', 'Globe', 'those,', 'penultimate', 'Spock', 'reprises', 'Edge', 'doorway', 'present.', 'Beta', 'Enterprise', 'Shatner', 'Leonard', 'behaving', 'evolved', 'logical', 'state.', 'artistically', 'admitted', 'travelling', 'Shall', 'Lead', '\"All', '1978', 'Indeed,', '(mainly', 'richly', 'shaped', 'Earth,', 'possession', 'foolishly', 'Frodo', 'wizard', 'land.', 'perilous', 'hunted', 'adventures,', 'frustration', 'goal.', 'suitably', 'stirring', 'appropriately', 'narrative.', 'voice-overs', 'goofy,', 'unnerving', 'adopts', 'veers', 'summer.', 'plague', 'conclusions', 'widower', 'cleaning', 'nightclub', 'forgives', 'disparate', 'mercy', 'raped', 'humiliated', 'punishment', 'simultaneously', 'contrasts', 'shred', 'uncomfortable', 'summary,', 'Gun', \"Walken's\", 'Pulp', 'McBain', 'here.The', 'monitor', 'now?', 'Honestly', 'bloody,', 'Deliverance', 'horror/thriller', 'Reynolds,', 'Lewis,', 'climbs', 'anywhere.', 'recommendation.', 'Charley', 'earns', '250', 'list,', 'calibre', 'characterizations', 'hopelessness', 'Street,', 'filmmaking', 'employed', 'flashbacks,', 'slipped', 'censorship', 'brave,', 'timing.', 'Bell,', 'has.', 'Leo', 'DiCaprio', 'projects', '(Mary', 'sophistication', 'forgettable,', 'Harper', 'allegedly', 'herself.', 'mercifully', 'forgotten,', 'travesty', 'subversive', 'manipulates', 'privileged', 'embark', 'decidedly', 'backward', 'extreme,', 'Romance', 'overlook', 'Match', \"Allen's\", 'die-hard', '(among', 'Melinda', '(2003)', 'cards.', \"Woody's\", 'don', 'arrest', 'journalism', 'millionaire', 'prostitutes', 'suspect,', \"London's\", 'wry', 'Smart', 'doses', 'sly', 'sources', 'references,', 'arrangement', 'Mountain', 'Hans', 'journalists', 'cruise', 'recalls', 'Mighty', 'quotable', 'gags,', 'converted', 'hollow', 'decade.', 'B-grade', '60s.', 'greatness.', 'fleshed', 'devotion', 'craft', 'Hitchcock,', 'carnival', 'gains', 'prominently', 'remember.', '(which,', 'personally,', '\"Rosemary\\'s', 'direct,', 'purse', 'Polanski', 'board,', 'Terry', 'chopped', 'censors', '\"bad', 'relax', 'subjective', 'data', 'whole.', 'LIKE', 'Erroll', 'extreme.', 'indirectly', 'judged', 'abundant', 'blames', 'confuse', 'relates', 'sexuality.', 'AT', '\"New', 'Zucker', 'forgiving', 'likable.', 'girlfriend.', 'assure', 'Hood', 'Rick', 'dealers', 'earlier.', 'cells', 'tested', 'feast', 'hood', 'Resident', 'Evil,', 's', 'sparks', 'cringe', 'doesnt', 'Chong', 'partying', 'dope', 'know!', 'Baker,', '(watch', \"Don's\", 'unfortunately.', 'Malta', 'merits,', 'competition', 'Place', 'Named', 'Costello', 'Meet', 'back-story', 'incorporated', 'poke', 'condition,', 'aspire', 'achieves', 'accessible', 'adventurous', 'movie!!!', '\"Down', 'excited.', 'Rock,', 'standup', 'plot:', 'masterpieces', 'Soviet', 'regime', 'flawless,', 'authenticity', 'E.', 'flaw', 'Criterion', 'Brady', 'Tanya', 'them?', 'powers', 'Excellent', 'Finch', 'Downey', 'immoral', 'sung', 'mile', 'being.', 'Warning', 'Magic', 'generations.', 'produces', 'evoke', 'Scotland,', 'rooted', 'tempered', 'burns', 'battles,', 'lovers,', 'treacherous', 'unpretentious', 'Scotland', 'pretext', 'pastiche', 'Braveheart', 'unique.', 'storytelling,', 'age-old', \"genre's\", 'conducted', 'end.The', 'cheers', 'collector', '\"That', 'commenting', '\"Le', 'COULD', 'determine', 'channel.', 'Gentlemen', 'darkest', 'copied', 'England.', 'newcomers', 'shop', 'situated', 'residents', 'thankfully', 'transcends', 'spoofing', 'ripping', 'disappearance', 'circus', 'outbreak', 'Pauline', 'commenter', 'weak,', 'climax.', 'Rich', 'signing', 'Strong', 'Leave', 'proportion', 'minority', 'nevertheless', 'performed.', 'definite', 'Cate', 'tackles', 'Lung', 'rammed', 'FILM', 'THREE', 'LOOK', 'punch.', 'challenged', 'deleted', 'nominations', 'win.', 'tension.', 'seaside', 'rescues', 'cycle', 'included.', 'previews', 'aggressive', 'short:', 'comedians', 'seen!', 'immersed', 'western.', 'blazing', 'cave', 'MAN', 'industrial', 'textile', 'industry.', 'impress', 'repeats', 'electronic', 'Ernest', 'stricken', 'threads', 'temperature', 'cloth', \"Wouldn't\", 'invention', 'quarters', 'Madsen', 'crumbling', 'discusses', 'news.', 'argues', 'Script', 'importantly,', 'Harlow', 'Dahl', 'chuckle', 'void', 'between,', 'showcased', 'motivations', 'lined', 'condition.', 'lately,', 'cousin,', 'stray', 'organized', 'bondage', 'party.', 'corny,', 'open,', 'NO', 'consisted', 'Remember', 'about?', 'Ritchie', 'fierce', 'Ancient', 'displeasure', 'accents.', 'cameraman', 'but...', 'copies', 'Mardi', 'beads', 'nerd', 'Caroline', 'satisfy', 'crushed', 'needle', 'behold,', 'filmmaker.', 'Gadget', 'Case', 'recruit', 'Truman', 'Forces', '(Robert', 'effectively.', 'stern', 'computer.', 'boat.', 'transferred', 'address', 'Army,', 'Gooding', 'row', 'seems,', 'petty', 'officer.', 'graduated', 'quit', 'golf', 'skipped', 'Want', 'I.', 'Try', '\"From', 'buttons', 'active', 'premise.', 'creations', 'pulp', '(Dennis', 'clutches', 'deliciously', 'pit', 'Karen', 'archetypal', 'relish', 'Batman.', 'cockney', \"Jake's\", 'nemesis', 'Consider', 'threaten', 'Sophia', 'Loren', 'ratio', 'splendidly', 'feet.', 'knees', 'pleasing', 'Mandy', 'tub', 'psychotic', 'dimension', 'televised', 'blessing', 'immerse', 'French,', 'reconcile', 'sleepwalking', 'close-up', 'disguise', 'resources.', 'carrier', 'miraculously', 'strike', 'Suffice', 'Putting', 'creativity', 'Marcel', 'make.', 'bittersweet', 'grindhouse', 'lays', 'chop', 'strips', 'panties', 'sordid', 'dame', 'drinks', 'Weird', 'Renoir', '–', 'von', 'vivid', 'recreation', 'resounding', 'memoirs', 'burden', 'debt', 'greatly', 'Raymond', 'admirer', 'Claude', 'neglected', 'Atwill', 'period.', 'morning.', 'deaf', 'cautionary', '10!', 'Biko', 'Africa', 'awaken', 'skin.', 'mermaid', 'Tobe', 'Hooper', 'nerdy', 'Genie', 'hooker', 'services', 'hunky', 'hottest', 'Eventually,', 'sacrifice', 'set.', 'archaeologist', 'prostitute.', 'depravity', 'extended', 'Corman', 'Knowing', '\"Night', 'profanity,', 'content,', 'Plan', 'Adventures', 'awake', 'transform', 'resembling', 'zombie.', 'outdated', 'Light', 'investigator', 'barking', 'order.', 'ashamed.', 'Slater', 'Shame', 'Tara', 'scenarios', 'had,', 'solved', 'exploitation.', 'Funny,', 'Perfect', 'Spy', 'moral,', 'important.', 'Throughout', 'meet,', 'never,', 'Came', 'War,', 'Berlin', 'Prime', 'Panic', 'goods', 'caliber', 'Macy,', 'Campbell,', 'provoking,', 'obligation', 'stubborn', 'oddball', 'directions', 'backseat', 'confirms', 'egg', '(perhaps', 'fortunately', 'scale.', 'Evelyn', 'hospital,', 'revolve', 'supplies', 'slaughter', 'police,', 'Aunt', 'cracked', 'crimes', 'hurts', 'collapse', 'graveyard', 'some.', 'atmospheric', 'operates', 'meantime,', 'Saif', 'Kareena', 'Anil', 'Akshaye', 'Krishna', 'Aditya', 'weight', 'Kumar', 'villain.', 'impression.', 'Bryan', 'you:', 'trauma', 'whale', 'Randolph', 'Scott,', 'Gail', 'chain', 'elsewhere.', 'darker', 'frantically', 'locate', 'meteor', 'breakthrough', 'ridiculed', 'effeminate', 'trophy', 'deer', 'festival,', 'vintage', 'introduced,', 'Sydney', 'could,', 'time).', 'well-acted', 'Gil', 'to?', 'inject', 'slam', 'favorable', 'suddenly,', 'foot,', 'chalk', 'Christy', 'Brown,', 'Dublin', 'crude,', 'website,', 'artists.', 'internet,', 'atrocious,', '\"special', 'spewing', 'Cradle', 'distributors', 'Tracy', 'persona.', \"Madonna's\", 'exciting,', 'smile.', 'way.I', 'theatre,', 'memory,', 'accidental', 'hours.', 'begin?', 'tech', 'bow', 'Danish', 'Marina', 'prince', 'cowboy', 'fail.', 'therefore,', '4:', 'movie-making', 'NASA', 'succeed.', '***1/2', 'Gretchen', 'Jared', 'Sarah', 'Dallas', 'Mol', 'pin-up', 'Bettie', 'Tennessee', 'older.', 'haired', 'divine', 'spotted', 'photograph', 'Irving', 'Paula', 'pornographic', 'fetish', 'sin', 'seeks', 'Harron', 'trappings', 'sprinkled', 'fulfilled', 'siblings', 'Strathairn', 'R.', 'Night,', 'morale', 'child-like', 'decency', 'Taking', 'teens,', 'tight,', 'rave', 'magnificent,', 'indeed,', 'rural', 'God.', 'unfairly', 'everybody.', 'Small', 'Widmark,', 'espionage', 'Unknown', 'Thelma', \"THAT'S\", 'Later,', 'overlooked.', 'guts,', 'watered', 'Buffy', \"needn't\", 'location,', 'Strange', 'haunted', 'ghost,', 'careers', 'Put', '\"actors\"', 'stunning,', 'hands.', 'setting.', 'Dakota', 'Fanning', 'killers,', 'fearing', 'Pita', 'become.', 'contacts', 'Walken', 'variety.', 'Troma', 'paste', 'mind-numbingly', 'cliched', 'remembering', 'wherever', 'backed', \"Chamberlain's\", 'disbelief,', 'instruments', 'place?', \"Burton's\", 'Heck,', 'indication', 'suit.', 'chaos.', 'stimulating', 'telling.', 'tonight', 'supreme', '1946', 'Technicolor', 'subdued', 'garish', 'B&W', 'tune', 'airing', 'perplexed', 'tolerable', 'musician', 'knight', 'narcissistic', 'compositions', 'bouncing', 'DeNiro', 'darkly', 'neon', 'skinny', \"Prince's\", 'north', 'India.', 'male.', \"80's.\", 'Bottom', 'rivalry', 'Coast', 'retro', 'Dandy', 'Warhols', 'Jonestown', 'psychopath', 'Anton', 'Interestingly,', 'aborted', 'protagonists', 'lifestyle,', 'Similarly,', 'astonishingly', 'Because,', 'suspects,', 'irresponsible', 'why?', 'famous.', 'hard-boiled', 'trail', 'Murphy', \"Brando's\", 'apparent.', 'drawn-out', 'hostage', 'feelings.', 'abortion', 'Carpenter', 'grief,', 'ringing', '(only', 'end)', 'Masters', 'tho', 'cloud', 'spits', 'stumble', 'heard.', 'filler', 'gloomy', 'human.', 'hack', 'useless.', 'waste,', 'providing', 'translate', 'small.', 'thoughts,', 'fractured', 'read,', 'elusive', 'akin', 'gold,', 'malicious', 'delusional', 'Mraovich', 'Arthur', 'Sheets', 'harm', 'trademark', \"Arthur's\", 'chubby', 'balls', 'Lopez', 'organization', 'Elvira', 'position,', 'assassin', 'luck.', 'crooked', 'sister.', 'downs', 'shootout', 'WWF', '2001.', 'match.', 'hype.', 'wrestling', 'defending', 'Regal', 'evening.', 'cared', 'slightest.', 'superstar', 'eliminated', 'Jericho', 'Kane,', 'Undertaker', 'howling', 'Me\"', 'fairytale', 'there...', 'minute,', '\"Big', 'magnificent.', 'Vivian', 'dried', 'languages', 'aside.', 'comeback', 'noted', 'Clifford', '(Christopher', \"Anderson's\", 'writer.', 'submit', 'worries', 'eyed', 'True,', 'watcher', 'Terminator', 'Deal', 'stage.', 'October', 'Myers', 'spots', 'Laurie', 'stalking', 'outside.', 'unfolds,', 'Halloween.', \"Carpenter's\", 'trap.', 'strength.', 'deadpan', 'fading', 'evil.', 'debut.', 'advantage', 'Halloween,', 'erase', 'east', 'Wai', 'Errol', \"Flynn's\", 'Ward', '(!)', 'madman', 'tits', 'ass.', 'qualifies', 'willingness', 'delve', 'purports', 'exploding', 'grave.', 'Rambo', 'wipes', 'absurd.', 'spelled', 'resorting', 'framing', 'Easily', 'age,', 'is...', 'dreamed', 'uptight', 'survived', 'Amazon', 'Bonanza', 'Lorne', 'chemistry,', 'long-lost', 'duration', 'gold.', 'ranch', 'establishment', 'movement.', 'died,', 'left,', 'hip', 'Me,', 'pity.', 'Duvall', 'Daryl', 'Berenger', 'slower', 'Actors', 'Plot', 'crummy', 'eyes,', 'crawl', 'good\"', 'steaming', 'saddest', 'ship.', 'ferry', 'liner', 'Easy', 'prehistoric', 'perfected', 'monsters.', 'ludicrous,', 'norm', 'incoherent,', 'Gloria', 'settles', 'dry,', 'Wow', 'Forrest', 'spree', 'eliminate', 'mankind.', 'eldest', 'flawless.', 'unlikable,', 'Norwegian', 'coincidence', 'begins.', 'tools', 'launched', 'oxygen', 'log', 'light-hearted', 'poignant,', 'alienated', 'disappoints', 'soooo', 'nicer', 'EVER', 'picky', 'liven', '\"To', 'impression,', 'illustrated', 'happiness,', 'strive', 'um,', 'sweetness', 'three.', 'mum', 'inhuman', 'apple', 'pie', 'cute,', 'Connolly', 'notice.', 'mate', 'chess', 'magnetic', 'evolves', 'proposes', 'husband.', 'fades', 'Godfather', 'trading', 'opponents', 'sacrificing', 'mate.', 'match,', 'intensity,', 'elegantly', 'poorest', 'Tales', 'missile', 'professor,', 'on!', '\"good', 'priest,', 'knowledge,', 'wit,', 'plainly', 'suffice', 'alot', \"Elvira's\", '8,', 'things:', 'fever', 'conception', 'Mars', \"kid's\", 'relief,', '8th', 'Brooklyn', 'dangerously', 'low.', 'film-noir', 'fails,', 'filmic', 'restricted', 'collected', 'Gilliam', 'WWE', 'December', '17,', 'Kane', 'arena', 'entrance', 'Tag', 'Team', 'announces', 'Fatal', 'rope', 'kill,', 'Boogeyman', 'explodes', 'Benoit', 'Guerrero', 'Game', 'Wang', 'Kennedy', 'opponent', 'Taker', 'brutal.', 'unconscious', 'Break', 'Cena', 'Finlay', 'shifting', 'retaining', 'Booker', 'cheat', 'throat.', 'win,', 'participants', 'spots,', 'category.', 'billing', 'bout', 'PPV', 'Theater', '`The', 'Cybill', 'studying', 'weather', 'slew', 'informs', \"scene's\", 'not?', 'aliens,', 'pleasant.', 'Luckily,', 'Perry', 'Mason', \"Devil's\", 'Experiment', 'torturing', 'Rating', 'Gore', 'computer,', 'Karl', 'rival,', 'murky', 'establishes', 'overseas', \"artist's\", 'tempo', '\"Let', '\"Little', 'delay', 'laughter,', 'paintings', 'behind.', 'landlord', 'Ustinov', 'chuckles', 'Willard', 'suggestive', 'traffic', 'Ending', 'montage', 'blurry', 'farewell', 'Malden', 'washing', 'fine.', 'president', 'pretty,', 'flowing', 'Spanish,', 'coal', '1945', 'Wanda', 'Bacall', 'passionate,', 'Lorre', 'pathetic,', 'points:', 'no.', 'accent,', 'American,', 'chemistry.', 'studies', 'Tom,', 'here).', 'instrumental', '$1', 'Jenna', 'Jameson', 'Lynn', 'OTHER', '30s', 'inexplicable', 'pain.', 'shown.', 'tape,', 'intentional', '\"Oh,', 'simpler', 'cities', 'humans.', \"'I'm\", 'corporation', 'headache', 'improvised', '5)', 'Club,', 'strives', 'broader', 'dumb.', 'suppose,', 'tiresome', 'stranded', 'hacked', 'less,', 'interested.', 'contrived.', 'now)', 'poverty,', 'disjointed,', 'classes', 'Four', 'substance,', 'businessman', 'crashed', 'ruthless', 'plan.', 'surprises.', 'Holmes.', 'Boogie', 'representative', 'amateurish,', 'criminally', 'self-indulgent', 'exploitation', 'comfortably', 'incredible.', '11th', 'plantation', '(Bill', 'Network', '(?)', 'Darren', 'McGavin', 'electrical', 'Or,', 'clear.', 'sci-fi,', 'blending', 'satisfying,', 'misunderstanding', 'characteristic', 'pompous', 'awesome,', 'man!', '(from', 'upper-class', \"who'll\", 'aspect.', 'sheet', 'shirt', 'partnership', 'Company', '(later', 'Carmen', 'Duke', 'mistress', 'Point\"', 'notes,', 'preparing', 'robust', '!!!', 'cartoon.', 'Bugs', 'Bunny', 'store.', 'refined', 'spill', 'suggestion', 'China.', 'Fitzgerald', 'Toby', 'Gilbert', 'H.G.', 'economy', 'weaker', 'race.', 'species', 'idle', 'imposing', 'sentences', 'civilization', 'found.', 'Animal', 'abstract', 'bleak', 'understatement.', 'electronics', '(looking', 'Rod', 'blackmail', 'airline', 'unwittingly', 'mastermind', 'drooling', 'leaden', 'Brand', 'track,', 'Angie', 'Barney', 'bullets,', 'festivals', 'basement.', 'Helena', 'intensity.', 'exceptional.', 'structure.', 'how.', 'JJ', 'shoulder', 'hug', 'bright,', 'program.', 'bread', 'paycheck', 'threatened', 'working.', \"Michael's\", '(He', 'arbitrary', 'Revenge', 'memories.', 'failures', 'execute', 'defeating', 'protagonist.', 'weary', 'parties', 'grace.', 'Hero', 'elite', 'protest', 'heartless', 'wielding', 'skillful', 'temporarily', 'justification', \"mom's\", 'basement,', 'Generally', 'bargain', 'lump', 'rode', 'fascinating,', 'Kitty', 'placing', 'along,', 'Donna', 'Hyde,', 'disco', 'weirdo', 'characters?', 'sitcoms', 'Bite', 'hook', 'embraced', 'monologue', 'out!', '\"get', 'NEW', 'Pierce', 'Brosnan', 'Julian', 'City,', 'accident,', 'Bean', 'this;', 'lively', 'thereafter', 'slugs', 'sixty', '(Richard', 'Norton', \"society's\", 'Two,', 'Jules', 'arguing', 'turns.', 'Train', 'Off', '\"Before', 'filming,', 'Mira', \"must've\", 'doing,', 'lawn', 'Freeman', 'Aniston', \"Carrey's\", 'height', 'cynicism', 'good-natured', 'Eight', 'interestingly', 'effectively,', 'stature', '\"No', 'caught,', 'bridge', 'cargo', 'illusion', 'speed,', 'vehicle.', 'stated,', 'implied', 'ravishing', 'wonderful,', 'Jeanette', 'balcony', 'Costume', 'WW', 'singing,', 'wings', 'hot,', 'atrocity', '---', 'images.', 'sleeper', 'understated,', 'sans', '80%', 'Wing', '(quite', 'lighter', 'news,', 'anchor', 'executed,', 'powers.', 'controls', 'feeling,', 'boxer', 'boxing', 'confirm', 'readily', 'ever!', 'dubbing', 'YOUR', \"It'll\", 'Military', '6,', '\"Go', 'Wow!', 'indulgent', 'operation', 'charge,', '\"a', 'warped', 'shock.', 'concluding', 'heightened', 'dared', \"Cain's\", 'Postman', 'pales', 'uncredited', 'Alberto', 'preserved', 'monstrous', 'easy,', 'naturalistic', 'perfect.', 'Newcombe', 'praising', 'band.', 'races', 'fights.', 'musician,', 'skill.', 'prolific', 'middle-class', 'toddler', 'road.', 'burial', 'Church,', 'bury', 'bargained', \"Rachel's\", 'Zelda', 'disgusting,', \"thing's\", 'denial', 'ABOUT', 'scifi', 'fodder', 'Series,', 'Omega', 'Code', 'problem,', '\"Welcome', 'rabid', 'difference.', 'humanity,', 'appeal,', 'palpable', 'societal', 'sustained', 'dilemma', 'excursion', 'institution', 'hometown', 'retains', 'before?', 'Curtis,', 'debut,', 'spawned', 'sequels,', 'upcoming', 'Wu', 'Ma', 'image,', 'Horrible', 'sliced', 'Thumbs', 'please.', 'it.The', 'dragons', 'epic,', 'ball.', 'Dragon', 'Peckinpah', 'films),', 'Certainly,', 'build-up', 'increases', 'steadily', 'plausibility', 'oppressive', 'dad,', 'House.', 'Jodie', 'cable.', 'SWAT', 'homework', 'funnier.', 'classic!', 'professionals', 'example:', '\"You\\'re', 'ahead,', \"cinema's\", 'Marx', 'Brothers,', 'Million', 'satiric', 'accuracy', 'bourgeois', 'life.The', 'Lubitsch', 'distract', 'influential', 'comparatively', 'coast', 'housing', 'service.', 'Basinger', 'saccharine', 'apart,', 'HER', 'Jayne', 'pairing', 'Turkish', 'ability.', 'demanded', 'gunfight', 'noise', 'bloke', 'seconds.', 'paragraph', 'dreadful,', 'US,', 'borrowed', 'rambling', 'behaves', 'factors', 'unsympathetic', 'disappointment,', 'magic,', 'excitement.', 'Legend', 'interpreted', 'cream', 'Glover,', 'Dear', 'addictive', 'Twin', 'Kate,', 'severe', 'actually.', 'Men\"', 'gender', 'bodies.', 'characters:', '\"comedy\"', 'preventing', 'point:', '(without', 'recognizes', 'custody', 'position.', 'unwatchable.', 'comprehend', \"Moore's\", 'museum', 'Judy', 'Frankie', 'measures', \"Frankie's\", 'violently', 'Iranian', 'embarrassingly', 'well-intentioned', 'ineffective', 'slice', '200', 'triangle', 'Hell.', 'arts,', 'chainsaw', 'duel', 'Hell', 'dud.', 'story-telling', 'rules,', 'slapstick,', 'documentary.', 'me.I', 'write.', 'Year', 'poker', 'scarcely', 'Caine,', 'Omar', 'Harrison', 'needed,', 'conviction', 'steamy', 'learnt', 'disappearing', 'Ford.', 'confusion', 'environment.', 'item', 'College', 'Dripped', \"story's\", 'Daphne', 'extras.', \"girlfriend's\", 'severed', 'unsuspecting', 'naughty', 'merit', 'France,', 'Mexican', 'has,', 'satire,', 'escapes,', 'journeys', 'sunny', 'Queen', 'showcases', 'landmark', 'mastery', 'walk,', 'Fury', 'José', 'Looney', 'Tunes', 'surprising.', 'today!', 'Werewolf', 'Wolf', 'Silver', 'Soldiers', 'groovy', 'pretension', 'inmates', 'impeccably', 'Ronald', 'painful,', 'tango', 'large,', 'appeals', 'Titanic,', 'Winslet', 'boils', 'wilderness.', 'polar', 'highlighted', 'global', 'environmental', \"Isn't\", 'camp.', 'fight.', 'away!', 'slows', 'intercut', '(*1/2)', 'leaning', 'anyone.', 'impeccable', 'redemption,', 'they,', 'opportunity,', 'Chicago', 'associates', 'Miami', 'untimely', 'discarded', 'awaited', 'camp,', 'be:', 'cost.', 'it.In', 'integral', 'Pacino,', 'sultry', 'precursor', 'panned', '(now', 'openly', 'cameras,', 'lab', 'female.', 'cursing', 'yells', 'mad.', 'absorbing', 'attention,', 'spoilers', 'Li', 'Town', 'worrying', '\"oh', 'entirety', 'ridiculousness', '5th', 'satisfied.', 'regain', 'Thief', 'Elia', 'Writer/director', 'praise.', 'geniuses', 'Westerns', 'Vargas', 'Latino', \"Powell's\", 'granted', 'notices', 'soldiers,', 'unbearably', 'Planet', 'Incidentally,', 'boob', 'Stooges', 'register', 'intend', 'intertwined', 'dining', 'Jeanne', 'restaurant,', 'elegant,', 'Heat', 'ripped', 'phones', 'impersonation', 'Line', 'Secret', 'courtroom', \"isn't,\", \"Fonda's\", 'trial,', 'Abigail', 'SHOW', 'excerpts', 'Brother', 'mid-life', 'crisis.', 'opening,', 'miscast,', 'attended', 'volatile', 'paranoia', 'Went', 'disorder.', 'injected', 'wheel', 'Park.', 'corpse', 'passenger', 'involved.', '\"La', 'heiress', 'impoverished', 'beast', 'perverse', 'consumed', 'sleaze', 'attractive.', 'banned', 'spoiler,', 'lifetime,', 'sisters,', \"boys'\", \"cop's\", 'week,', 'endearing.', 'Parisian', 'rising', 'research,', 'marvelously', 'professional,', 'names,', 'Rourke', 'city,', 'tales,', 'undemanding', 'fun!', 'supremely', 'Saffron', 'Grim', 'Berlin,', 'Davis.', 'promised', 'hoods', 'girl)', 'film-maker', 'bevy', 'films)', 'Admittedly,', 'tattoo', 'Patricia', 'perky', 'Leigh', 'Kiss', 'playwright', 'psychiatrist,', 'gambler', 'ensues', 'others)', 'control,', 'well-known', 'grips', 'educated', 'Mantegna', 'opposite,', 'earning', 'seduced', 'defeats', \"Kate's\", 'Mac', 'Bart', 'dimensions', \"filmmaker's\", 'counterpoint', 'observed', 'expression,', \"Brown's\", 'declares', 'account,', 'overcoming', 'Ichi', 'Katsu', 'actually,', 'reputation.', 'months.', 'counted', 'tests', 'scarecrow', 'baddies', 'tolerated', '(to', 'Temple', 'Midler', \"she'll\", 'Diana', 'Girl\"', 'untalented', 'disbelief.', 'Conrad', 'Lindy', 'Cindy', 'internal', 'know?', 'punctuated', 'fast-paced', 'biological', \"You'd\", 'dont', 'stinks.', 'musicals,', 'Anchors', 'Iturbi', 'Kathryn', 'Grayson', \"Kelly's\", \"Sinatra's\", 'leave,', \"Singin'\", 'parody.', 'tomatoes', 'induce', 'helicopter', 'Attack', 'sooooo', 'clothes,', 'tomato', 'have,', 'grounds', 'erratic', 'small-town', 'Georgia', 'rules', 'shrill', 'wounds', 'angry,', 'Mormon', 'Marshall', 'variations', 'included,', 'disaster.', 'manic', 'ceiling', 'Chevy', 'brothers,', 'separated', 'low-brow', 'silliness', 'mark,', 'compares', 'slept', 'repressed', 'rounds', 'mouth,', 'youth.', 'reasons,', 'Marsha', 'Sybil', 'Danning', 'Rolling', 'Stones', 'count,', '\"Dr.', 'screenwriter,', 'aliens.', 'leaders', 'Hollywood.', 'course).', 'Busby', 'Berkeley', 'maid', 'Scary', 'Duchovny', 'X-Files', 'fame)', 'California.', 'Alex,', 'everywhere,', 'story.The', 'recommend.', 'piercing', 'field,', 'truthful', 'prisoner', 'occult', 'criminal,', 'insanity', 'surprise!', 'links', \"Carlito's\", 'Justice', 'pilots', 'comically', 'cuts,', 'Casper', 'Dien', 'Starship', 'R-rated', 'unrated', 'meager', \"(who's\", 'adept', 'computers', 'theme.', '\"10', 'Freeman,', 'forcing', 'Mathieu', 'ward', 'Cedric', 'WHY', 'out-of-place', 'damned', 'chapters', 'damsel', 'distress', 'Sea', 'Erika', 'gorilla', 'territory', '1970s,', 'vets', 'Need', 'Rain\"', 'memorably', 'Franchot', 'spoiler', 'strangled', 'naming', 'spectacular,', 'L.A.', 'cheering', 'Yeti', 'Penn', 'Goodman', 'hottie', 'seduce', 'GET', 'Lassie', 'smells', '\"old', 'inconsistencies', 'utilize', 'cameras', 'England,', 'flower', 'carpet', 'NYC', \"90's\", 'Madonna', 'clubs', 'excitement,', 'PLEASE', 'L.', '1.5', 'sophomoric', 'offend', 'edgy,', 'unfamiliar', 'Pushing', 'Daisies', 'dog,', 'boarding', 'synchronized', 'Palm', 'freshman', 'generous.', '(ie', 'good?', 'switch', 'scene).', '#', 'peril', 'IRA', 'month.', 'Name', 'detectives', 'Order', 'unemployed', 'IMO', 'insightful', 'disservice', 'Times', 'vice', 'dreck', 'EVERY', 'return,', 'closure', 'twist,', '\"love', 'unusual.', 'riches', 'Izzard', 'glance', 'stereotypes.', 'earliest', 'homophobic', 'Canyon', 'creatures.', 'feeds', 'dangers', 'Fagin', 'unwilling', 'probable', 'sins', 'exquisite', 'conceal', 'imaginative,', 'Writing', 'melting', 'Ten', 'portrayed.', 'disappointments', 'emphasizes', \"Cohen's\", 'closeups', 'number,', 'turgid', 'demonstrating', 'vigilante', 'character:', 'Tokyo', 'ballroom', 'grabbed', 'Dead,', 'mega', 'blown', 'radiation', 'communities', 'housewife', \"Bill's\", 'zombie,', 'collar', 'neighbor,', 'Timmy', 'blamed', 'Fido', \"neighbor's\", 'Connelly', 'disturbing,', 'entertains', 'snowy', 'clichéd,', 'fake,', 'airplane', 'WANT', 'difficult,', 'warned', 'criminals,', 'exchanges', '\"Get', 'co-wrote', 'I.Q.', 'miserably', 'category,', 'weaves', 'franchise,', 'Knox', 'Glover', 'ZERO', 'gypsy', 'Roscoe', 'Buster', 'overuse', 'McGregor', 'irritating,', 'recommendation', 'skipping', 'Bigelow', 'bombs', 'ruthless,', 'civilian', 'defense', 'limits', 'front,', 'enemy.', 'consummate', 'sneering', 'hostile', 'battle,', 'motions', 'embittered', 'driver,', 'linking', 'displaying', 'grim,', 'Rooney', 'twisted,', 'laser', 'conductor', 'choir', 'cries', 'contest', 'concert,', 'Further,', 'indicates', 'Puerto', 'ghetto', 'uneducated', 'Rico', 'Republic', 'Free', 'analogy', 'accomplish', 'torture.', 'Kingsley', 'Sorvino', 'Odd', 'Couple', 'compulsive', 'splitting', 'slob', 'EVIL', 'Italy,', 'elsewhere', 'Germany,', '(Leslie', 'Tommy', 'standpoint,', 'Ross', 'witch.', 'ridicule', 'monotonous', 'Race', 'shelves', 'swearing', 'origin', 'trifle', 'Tale', 'customary', 'flows', 'HUGE', 'propaganda,', 'say:', 'sensitivity', 'biker', 'teenager.', 'JUST', 'Harvard', 'Capshaw', 'approached', 'officials', 'row,', 'inmate', 'hid', 'min.', 'Abu', 'penny', 'core.', 'external', 's**t', 'mummy', 'glossed', 'Christmas,', 'robbed', 'anticipating', 'Andrea', 'Complete', 'innuendo', 'investigative', 'Bravo', '1979', \"Romero's\", 'Zombi', 'movie).', 'UK,', 'Flesh', \"Fulci's\", 'helicopters', 'thematic', 'horrendous.', 'topless', 'eyeballs', 'misogynistic', 'Bonnie', 'carnage', 'obvious.', 'Low', 'rotting', 'faces,', 'behold.', 'follow-up', 'device.', 'all:', 'trusted', '(Ben', 'troubling', 'traumatized', 'unravels', 'format,', 'ragged', 'Although,', 'BACK', 'birthday,', 'training,', 'drivers', '150', 'ghosts,', 'robots,', 'Fabulous', 'extras,', 'weirdness', 'cannibals', \"nobody's\", 'waving', 'expected,', 'Jungle', 'bird,', 'make,', 'invent', 'them:', 'story?', 'Russians', 'Lukas', 'Cahill', 'whack', 'Arts', 'anticipation', 'hall', 'gripping,', 'afraid.', 'Eugene', 'losses', 'license', 'Hutton', 'entertain.', 'Lame', 'two-dimensional', 'fiancée', '\"Last', 'predecessor', 'dual', 'excesses', 'conditions', 'sweat', 'rolling.', 'Rest', 'Singer', 'knows?', 'wronged', 'students.', '1999,', 'Dylan', 'Cal', 'drifter', 'spider', 'strained', 'BEST', 'tradition,', 'quoting', 'deep,', 'Boman', 'vulgarity', 'Vipul', 'Shah', 'finished.', 'registered', 'someone,', 'danger.', 'immediately,', 'limp', 'sore', 'Thunderbirds', 'status.', 'Caesar', 'subtitles.', 'icon,', 'brutality', 'impossibly', 'Charlton', 'Cinema', 'Mumbai', 'India,', 'altogether.', 'practical', 'Cop', 'craving', 'revolved', 'compromise', 'Direction', 'Om', 'Puri', 'Natural', 'Born', 'concerned,', 'inspiration.', 'stating', 'shore', 'voiced', 'Hill,', 'thankless', 'Dominick', 'sergeants', 'murderers', 'Rob', 'Hot', 'inserting', 'Sorry', \"Shaw's\", 'correctly,', 'delightful,', 'glossy', 'Stack', 'sterile', 'pregnant,', 'fireworks', 'advice:', 'Animated', '24', 'Poison', 'Ivy', 'drowns', 'Joker', 'tower', 'Girls', 'article', 'curious.', 'Rabbit', 'musical.', 'Raggedy', 'dolls', 'lovable,', 'sync', 'semblance', 'faded', 'paranoid', 'throne', 'capsule', 'rub', 'overwhelmingly', 'element,', 'jerks', 'length,', 'never-ending', 'clean,', 'Turns', 'toes', 'Items', \"Freeman's\", 'plug', 'Sniper', 'jungle,', 'kill.', 'wrought', 'commentator', 'Doris', 'unabashed', 'nights', 'loving,', 'preceding', 'Taken', 'wild,', 'Stewart,', 'says.', '1970s.', 'stripped', 'Gray', 'signals', 'gown', 'union', 'herself,', 'NY', 'literally.', 'taxi', 'senses', 'smack', 'twilight', 'outing', 'drag.', 'hat.', \"Victoria's\", 'next?', 'revealed,', 'acting?', '(A', 'hiring', 'done!', 'Garfield', 'one?', 'it.If', 'disability', 'someday', 'sacrificed', 'fluff.', 'passive', 'joy.', 'Fun', 'unfunny.', 'Daniels', 'flesh,', 'werewolf.', 'nonetheless,', 'boys,', 'boys.', 'themes.', 'transformations', 'actors)', 'above.', 'danger,', 'actors/actresses', 'submarine', 'WAY', 'butts', 'opposing', 'Okay.', 'Elephant', 'cheered', 'freakish', 'unanswered', '28', 'route', 'cement', 'plastered', 'infinitely', 'bonding', 'produced.', 'spirit.', 'Fairbanks,', 'bathtub', 'Fontaine', 'Olivia', 'Sellers', 'novice', 'detective,', 'gear', 'boss.', 'separates', \"author's\", 'work?', 'novels', \"Anne's\", 'Alamo', 'cannon', 'mud', 'inch', 'melts', 'Beckham', 'Bend', 'approve', \"boy's\", 'Forbidden', 'mans', 'id', 'Galaxy', 'Robbie', 'pristine', 'prostitution', 'education.', 'little,', 'Gate', 'invested', 'stink', 'Believe', 'road,', 'leak', 'portions', '****.', 'fleeting', 'Danielle', 'perpetual', '73', 'Grey', 'Nora', 'Rocky', 'Butch', 'partner.', 'array', '(Tom', 'saddled', 'Thanks', 'wee', 'i.e.,', 'influence,', 'disposal', 'terror.', 'even,', 'apparently,', 'melodrama,', 'silliest', 'Outside', 'rocky', 'freedom,', 'sacrifice,', 'tensions', 'tackled', 'skill,', 'lightly', 'Parents', 'intriguing.', 'conversation,', 'fond', 'icing', 'glee', 'guarded', 'Barnes', 'enchanted', 'kingdom', 'chained', 'Tristan', 'tosses', 'she,', 'blinded', 'pirates', 'laughter.', 'ala', '\"High', 'enchanting', 'acted.', '1993', 'Citizen', 'rampage', 'victims,', 'Rea', 'researching', 'debuted', 'Foster,', 'seminal', 'Marilyn', 'titular', 'fend', 'affluent', 'Fernando', 'Adrian', 'innocence.', '\"On', 'top-notch', 'Kamal', 'forced.', 'time.The', 'Christina', 'Brett', 'Shia', 'Benson', 'Sunny', 'daft', 'disgraceful', 'nerves', 'senseless,', 'turtle', 'unbalanced', 'bounty', 'smell', 'Brazil', 'divorced', 'Particularly', 'addict', 'themes,', 'anyone?', 'applause', 'Q&A', 'names.', 'Cliff', 'Gomez', 'tops', 'figure.', 'CBC', 'successes', 'subtle.', 'fails.', 'belief,', 'best!', 'Wrestlemania', 'crowds', 'immense', 'nuts', 'ape', 'sh*t', 'gets.', 'saw,', 'filmmaking.', 'diary', 'Stardust', 'provocative', 'derivative', 'admits', 'cleverness', 'Coppola', 'thespian', 'employment', \"Henry's\", 'zombies,', 'so...', 'transforms', 'celebrities', \"public's\", 'product.', 'del', 'giallo', 'Massacre,', 'bickering', 'Brain', 'Sci', 'ending?', 'WATCH', 'Agent', 'judgement', 'pub', 'agency', 'unpopular', 'jam', 'Contrary', 'productive', 'Cast', 'market.', 'Seed', 'vehicle,', 'Apollo', '11,', 'Moon\"', 'documentaries,', 'meandering', \"men's\", \"lady's\", 'clever.', 'gem,', 'easily.', '\"plot\"', 'Broderick', '\"Plan', 'bad?', 'Costner', 'defines', 'Saura', 'two-thirds', 'education', 'insanely', 'Freudian', \"Verhoeven's\", 'nonetheless.', 'nadir', 'drab', 'render', 'undeniable', 'yearn', 'talky', 'Verhoeven', 'tragic.', 'confusion,', 'measure.', 'film-making,', 'amazing!', 'emperor', 'henchmen', 'protecting', 'centered', 'nations', 'cults', 'Showtime', 'Curly', 'duo.', 'Spade', 'numbers.', 'shorts.', 'Broken', 'Rodriguez', 'length.', '\"twist\"', 'random,', '5.1', 'readers', 'reading.', 'unprecedented', 'sections', 'commentaries', 'software', 'option', 'funding', \"day's\", 'surprised,', 'overrated.', 'murderer,', '70s,', '80s,', 'DA', 'bills', 'boost', 'Orson', '\"big', 'mirrors', 'Hayworth', 'nerve', 'Rather,', 'Crispin', 'Jet', 'Tsui', 'librarian', 'mates', 'wires', 'demand', 'Mask', 'Character', 'small,', \"Hartley's\", 'CIA', 'half.', 'technique,', 'is.The', 'Rider', 'pets', 'reacting', 'calm', 'MORE', 'alley', 'compensated', 'Chavez', 'Venezuela', 'judgment', 'Scrooge,', 'raving', 'offset', 'bland.', 'over-the-top,', 'Egypt', 'archaeological', 'usually,', 'yes.', 'Monsters', 'separation', 'communication', 'hardship', 'stagnant', 'Harilal', 'Gandhi', 'wrenching', 'canvas', 'gripping.', 'Though,', 'emotions,', '90%', 'request', 'refrain', 'embarrass', 'supporter', 'Nolte', 'minions', 'efficiently', 'realm', 'happened?', 'Anderson.', 'Mummy', 'that),', 'elevates', 'flaws,', 'cannibalistic', 'playful', 'partners', 'afterward.', 'ghostly', 'place!', 'survival.', 'compound', 'Park,', 'backwoods', \"Jones'\", 'missing,', 'somehow,', 'gasp', 'Within', 'picturesque', 'predator', 'knife.', 'adultery', 'interacting', 'echo', 'mediocre,', '\"Mystery', 'motley', 'well-meaning', 'Furious', '(William', '(Paul', 'spoofs', 'watch!', 'tightly', 'awareness', 'resonance', 'reservation', 'region', 'destructive', 'gadgets', 'Simon,', 'Blackie', 'Surprisingly,', 'recall,', \"Glover's\", 'forth,', 'hooked.', 'villains.', 'sleazy,', 'teddy', 'tables', '\"Hey', 'sport,', 'Travolta', 'G.', 'intricacies', 'remorse', 'crushing', 'adult.', 'Oscar-nominated', 'suicide,', 'dad.', 'Maclean', 'downside', \"Miyazaki's\", 'Warriors', 'Wind', 'manga', 'frames', 'Miyazaki', 'since,', 'subtitles,', 'Der', 'homeless', 'Trey', 'Surprisingly', 'ANY', 'silk', 'Wyoming', 'survive,', 'pressures', 'middle.', '(sort', 'HOUSE', 'distinction', 'conflicting', 'unsavory', 'glimmer', 'fled', 'performer', 'McDermott', 'promise,', 'jungle.', 'Tarzan', 'guy!', 'Dyke', 'solves', 'Bethany', 'Magnificent', \"Who's\", 'illness,', 'surrealism', 'bitter,', 'wanted.', 'Salt', \"it'd\", 'LDS', 'members,', 'Demons', 'Bava', 'III:', 'corporations', 'ease.', 'Hilary', 'thinly', 'Kyle', \"Kyle's\", 'slut', 'Iran', 'anxious', 'messes', 'mansion', 'surrogate', 'sheep', 'inviting', 'focus,', 'flashy', 'responses', 'eighties,', 'parodies', 'House\"', 'Lampoon', 'Class', 'recognisable', 'peers', 'whodunit', 'Monroe', 'boiling', 'Kudos', 'department.', 'assumes', 'Humphrey', 'insect', 'Tierney', 'Fire\"', 'portrayal.', 'burgeoning', 'farce,', 'genres,', 'luscious', 'crap!', 'Cannibal', 'lightweight', 'du', 'incidents', 'Stranger', '\"Life', 'gift,', 'actresses.', 'abilities.', 'offensive.', 'entirely.', 'spliced', 'late-night', 'admittedly', 'angle,', 'life...', 'fury', 'tropical', 'rage', 'excessively', 'colorful,', 'us?', 'go!', 'racism,', 'quick,', 'B-Movie', 'Angeles,', 'Phoenix', '\"we', 'Antonioni', 'DOES', 'radical', 'overlong', 'Richardson,', 'patiently', 'await', 'affections', 'government.', 'daylight', 'villa', 'Thorn', '\"Cinderella\"', '(remember', 'embodiment', 'affable', 'Grinch', 'outcome.', 'Lou', 'Seuss', 'didnt', 'way.The', 'stopping', 'nearest', 'Lennon', 'chapter', 'pointless,', 'stare', 'story...', 'awfulness', 'changes,', 'incomprehensible', 'Talk', 'Finnish', \"Harlin's\", 'warden', 'trial.', 'vengeance', 'Viggo', 'Mortensen', 'Field', 'humane', 'decade,', 'walls,', 'pervert', 'cowardly', \"'n\", 'down!', 'urgent', \"Pitt's\", 'interviewing', 'N', 'bimbo', 'compilation', 'pretending', 'baby.', 'layered', 'Reading', 'cracking', \"Polanski's\", 'aimlessly', 'gently', 'Trelkovsky', 'Samuel', 'Noir', 'target,', 'wrong!', 'fast,', 'luck,', 'favorite,', 'Molly', 'Brock', 'suspicions', 'Simpson', 'Dukes', 'Buy', 'wrapping', 'paper.', 'refuse', 'jerk,', 'hurts.', 'artifacts', 'yet.', 'Della', '\"I\\'ll', 'Christmas\"', 'Furthermore', 'cleaner', 'bottom.', 'Young,', \"Young's\", 'ineptitude', 'nun', '(Or', 'ANYTHING', 'vows', 'Trouble', 'babes', 'plotline', 'scenes.The', 'inclusion', 'Janeane', 'Hilton', \"doesn't,\", 'surf', 'crocodile', 'area.', 'uniquely', '\"Dressed', 'Kill\"', 'author,', 'universally', 'observations', 'straw', 'Willis', 'Griffith', 'e', 'succession', \"Tom's\", 'button', 'Lundgren', 'good)', 'this)', 'Warrior', \"wasn't.\", 'Flying', 'pole', 'awry', 'Pole', 'inhabited', 'arms.', 'monsters,', 'corner.', 'marvellous', 'planes', 'flaw.', 'orange', 'maniac', 'Bad.', 'agree,', 'bits.', 'outfit.', 'Under', 'Mabel', 'redeemed', 'dusty', 'desk', 'slips', 'dubious', 'territory,', 'Ultimatum', 'imply', 'him...', 'fleeing', 'Cool', 'World,', 'fare,', 'flea', 'congratulate', 'princess', 'colony', 'matching', 'wits', 'king,', 'exhibits', 'Collette', 'Sundance', 'sucker', 'scripts,', 'reworking', 'bearable', 'expresses', 'striving', 'accomplishment', 'hailed', 'cavalry', 'avid', '(based', 'Alien', 'ingredient', 'advances', 'resolution,', 'unresolved', \"Altman's\", 'Byrne', 'desolate', 'Hartman', 'freak', 'stations', 'marijuana', 'observing', 'shocking,', 'second.', 'self-conscious', 'half-baked', 'hosted', 'catalog', 'Parsons', 'spaces', '64', 'overdone.', '\"it\\'s', '(voiced', 'space.', 'adults,', 'suck.', 'B-movie.', 'Columbia', 'it.)', 'intended.', 'bells', 'force.', 'Blondell', 'roads', 'loneliness,', 'failure,', 'actions,', 'rock.', 'worry,', 'his/her', 'rocker', 'Sherman', 'bumped', 'composer', 'all.The', 'DVDs', 'Justin', 'locker', 'HELL', 'herd', 'lethal', 'billion', '1990,', 'virus,', 'Madeleine', '2:', 'Dominic', 'Monaghan', 'Tess', 'fear.', 'masterfully', 'indifference', 'blockbusters', 'reasoning', 'Kazan', 'tapes', 'Chandler', 'fluid', 'Sterling', 'noses', 'Ohio', 'Scrooge', 'personnel', 'Melody', 'henchman', 'Woman,', 'Dana', 'rape.', 'pornography', 'whip', 'photographers', 'knowledgeable', 'Romania', \"i'll\", 'correct,', 'assumptions', 'enraged', 'Cockney', 'accompanies', 'modicum', 'Stars', 'Dressler', 'drafted', 'bedroom,', 'good;', 'moderately', 'Madame', 'Amos', 'Myrtle', 'sap', 'nephew', 'Russia', 'Oscar,', \"country's\", 'intrigue,', 'AM', '\"War', 'restores', 'muddy', 'subtitled', 'translation', 'dubbed,', 'cliches', 'sassy', 'Milo', 'obnoxious.', 'coolest', 'Valerie', 'on...', 'retrospect,', 'flawed,', 'Stiles', 'brutal,', 'earn', 'packs', 'assassinate', 'Pang', '(think', 'OTT', 'monkey', 'film.This', 'feminine', 'nonexistent', \"Brooks'\", \"Mann's\", 'buffalo', 'Russ', 'buy.', 'FOX', 'civilization,', 'psychiatric', 'rate.', 'Finding', 'hillbilly', 'Reality', 'Bear', 'content.', 'dignity', \"Keaton's\", 'mattered', 'connecting', \"Brosnan's\", 'Brosnan,', 'redemption.', 'It,', 'Awards', 'girl\"', 'sensation', '(Jeff', 'undermine', 'pitched', 'mins.', 'Haim', 'queen,', 'Nicole', 'momentarily', 'playboy', 'misunderstood', 'Hale', 'Please,', 'plays,', 'Akshay', 'Rajpal', 'story\"', 'drunks', 'bombing', 'tobacco', 'fund', 'NOW', 'bedroom.', 'so)', 'Batwoman', 'retread', 'premiered', 'wants.', 'came.', 'Swayze', 'Kerr', 'yours.', 'commitment', 'temporary', 'darkened', 'Radio', 'Drama', 'Comic', 'appear,', 'ancestor', 'Rice', 'Johnston', 'story;', 'prototype', 'field.', 'Savage', 'muscular', 'Soon,', 'Effects', 'familiarity', 'acquainted', 'manufactured', 'unfolds', 'often,', 'reminding', 'Ringwald', 'disappointed!', 'Alvin', 'cell,', \"where's\", 'latter,', 'Rebecca', 'demise.', 'Franco', '4/10.', 'it..', 'prime.', 'Cruella', 'Chance', 'changed.', 'Domino', 'Gerard', 'Depardieu', '(another', 'downfall', 'Jersey', \"'A\", 'hectic', '95', '\"acting\"', 'aboard', 'payoff', 'theft', 'profit', 'laughing,', 'beds', 'gentle,', '(whose', 'swing', 'Elmer', 'Viking', 'embarrassing.', 'Cynthia', 'Robot', 'tortures', 'Corbin', 'might,', '(before', 'love\"', 'client', '1992', '1944', 'destruction.', 'task,', 'shaky', 'Askey', '\"funny\"', 'Barbra', 'posting', 'acting.The', 'trite.', 'Rain', 'reunion.', 'Lex', 'blends', 'facility', 'arrow', 'pros', 'differences.', 'pot', 'pondering', 'unnecessarily', 'Altman', 'movements,', 'optimism', 'transported', 'Hackman', 'Tucker', 'persistent', 'appearance.', 'Kramer', '1980', 'breakdown', 'Fineman', 'deaths.', 'Reign', 'collecting', 'tears,', 'judge,', 'profession', 'reasons:', '9/11', 'executed.', 'ominous', 'copious', 'castle,', 'mountains,', 'bloodthirsty', '(literally)', 'resurrect', 'Suddenly', 'delicious', 'atrocious.', 'dancer,', 'audience)', 'whore', 'forsaken', 'foolish', 'Romy', '\"Old', 'Sherlock', 'Revolver', 'solitary', 'humiliate', 'ploy', 'sharks', 'recognizing', 'take.', 'status,', 'Line:', 'vignettes', 'accustomed', 'Gus', 'Payne', 'termed', 'army,', 'rocket', 'board.', 'program,', 'accents,', 'Upon', 'emphasize', 'tunnel', 'management', 'tuning', 'salvation', 'Canada.', 'fatally', 'mercilessly', \"(I've\", 'distributed', 'Paine', 'Judd', 'analysis,', 'Islam', 'accusations', 'received.', 'questions,', 'neutral', 'asinine', 'interpretations', 'coming,', 'Straight', 'draft', 'refreshingly', 'rats', 'Lange', 'Liam', 'Neeson', 'Nicolas', 'talk.', 'actions.', 'delighted', 'collaboration', 'bases', '\"Home', 'surprises,', 'glue', \"Hardy's\", '(Matt', 'Lane,', 'pond', 'butler', 'cake', 'wheels', 'evidenced', 'zero.', 'staircase', 'Ginger', 'Rogers', 'fetching', 'choreographer', 'Astaire', 'treatment.', 'Gershwin', 'tunes', 'servant,', 'gardener', 'lighthearted', 'arises', 'VHS.', 'topics', 'Japanese.', '(actually', 'welcomed', 'chronicles', \"son's\", 'Luise', 'Hour', 'proud.', 'Cheadle', 'fantastical', 'exploitative', 'neglect', 'anguish', 'depression,', 'surprising,', 'snappy', 'Cowboy\"', 'treasure.', 'logic,', 'Steele', 'Song', 'reel', 'epics', 'backstage', 'foil', 'Andre', 'Geraldine', 'despised', 'Eleanor', 'Sitting', 'necessary.', 'cop.', 'elevated', 'playing.', 'Holden', 'concentrating', 'tone.', 'Eye', 'Giallo', 'hesitant', 'BSG', 'series.The', 'Action', 'Caprica', 'priceless.', 'holidays', 'bloodless', 'competition.', 'much.The', 'winners', 'Herman', 'demeanor', 'prone', 'Sunrise', '26', 'touring', 'ideals', 'leaping', 'Celine', 'stroll', '75', \"1970's\", 'Chase', 'showcasing', \"Branagh's\", 'tube', 'dangling', 'realising', 'Teri', 'smart.', 'roommates', \"Joe's\", 'Alfre', 'Extreme', \"Novak's\", 'longs', 'gesture', 'Elsa', 'Novak', 'god.', 'terrible!', 'horrid,', 'Carlito', 'span', 'Rise', 'spaghetti', '\"So', \"Cinderella's\", 'literally,', 'giggle', 'Raider', 'hams', 'models,', 'unjustly', 'character;', 'capacity', 'narratives', 'Zenia', 'Scarlett', 'rich,', 'Lesbian', 'removed.', 'book)', 'b/c', 'DARK', 'slashing', 'strands', 'character-driven', 'captivated', 'foreboding', 'scratching', 'public.', 'traditions', 'colors,', 'in?', 'impossible.', 'greats', 'paths', 'comic,', 'Serbian', 'yacht', 'way).', 'again:', 'unit', 'Deep', 'farther', 'Hopalong', 'frying', 'torment', 'resurrected', 'K.', 'considers', 'producers.', 'figures,', 'basket', 'Naturally,', 'neighborhood.', 'Domergue', 'offenders', 'masculine', 'symbol', 'Find', 'starts.', 'loyalty,', 'unstoppable', 'Zhang', 'Odyssey', 'punches', 'movie-', 'was...', 'putrid', \"Doesn't\", 'tremendously', '\\x85', 'publicly', 'El', 'terrifically', 'Lars', \"Trier's\", 'he,', 'this.The', 'adored', 'toll', 'generation.', 'Normally,', 'routines', 'chills', 'Twist', 'Travis', 'getaway', '2000,', 'cast:', 'Ritter,', 'Sutherland,', 'appearances,', 'Sammy', 'attachment', 'slowly.', 'Hyde', 'Desi', 'editors', 'decades,', 'contrary,', 'anniversary', 'inbred', 'slang', 'award-winning', 'delayed', 'Conan', 'orphan', 'Bryant', 'highlight.', 'refusal', 'analyze', 'prospect', 'storms', 'warrants', 'Arthur,', 'homosexuality', 'ex-wife', \"don't,\", 'lawyer.', 'naked.', 'barrel', 'course)', 'breathtaking.', 'machine,', 'Naomi', 'Party', 'Cry', 'Freedom', 'Tigerland', 'recruits', 'battle.', 'overwhelmed', 'hear.', 'Beatles', 'bass', 'witty,', 'insisted', 'Spacey', 'promising.', 'Timberlake', 'plagued', 'improving', 'metaphors', 'Ace', \"Bruce's\", 'drinking,', 'Holland', 'formidable', 'well!', 'youngsters', 'normal.', '\"Saturday', 'guilt,', 'beach.', 'trees,', 'intelligence,', 'caring,', 'crooks', 'alert', 'possibilities.', 'survivors', 'evoking', 'edited,', 'unnecessary.', 'sixth', 'Tiny', 'Murphy,', 'Martial', 'Ha', 'Woo', '$5', 'bank,', 'fanatics', 'drawn,', 'Why,', '\"THE', 'auteur', 'foremost', 'well).', 'bag.', 'bombed', 'schedule', 'water.', 'admission', 'better)', 'overwrought', 'ill-conceived', 'scenes!', 'tripe.', 'heavens', 'movie..', 'Colleen', 'Ramon', 'dependable', 'hurt.', 'cat.', 'pioneer', \"Johnson's\", 'bottle', 'distracts', 'boxes', 'normal,', 'killers.', 'purposes.', 'brides', 'injects', 'couple,', 'Know', 'obligated', 'emerging', 'Bloodbath', 'EXACTLY', 'flood', 'dictator', 'shtick', 'Raul', 'Sonia', 'Dreyfuss', 'existential', 'ethereal', 'interminable', 'Sometimes,', 'installment,', 'That,', 'jet', 'stalk', 'beef', 'governments', 'inconsequential', 'dirt', '(all', 'Carson', 'Valley', 'scantily', 'clad', 'on.The', 'sufficiently', '(Daniel', 'sales', 'highway', 'bear.', 'invariably', 'teeth,', 'park,', 'tearing', 'river.', 'Elliot', \"1920's\", 'looking,', 'Belle', 'James,', 'Woods,', 'buff.', '\"Dark', 'ghastly', 'colonial', 'abandoning', 'sitcom,', 'grandeur', \"Director's\", 'media,', 'nation,', 'Social', 'seen.The', 'life;', 'ratings,', 'insane,', 'networks', 'opera,', 'Des', 'angles.', 'pathetically', 'raging', 'Rosanna', 'Work', 'Bing', 'idyllic', 'Wodehouse', 'vaudeville', 'endures', 'Christie', 'Gertrude', '\"Well,', 'pronounce', 'brightest', 'Sweet', 'Sullavan', 'dignified', 'Josie', 'Spain', 'Z', 'gloriously', 'dopey', 'impotent', 'yarn', 'abominable', 'stepmother', 'strikingly', 'NIGHT', 'LIVING', 'b-movie', 'percentage', 'Poe', 'exploiting', 'mislead', '1977', 'comes,', 'CBS', 'Theatre', 'rent.', '60s,', 'torch', 'firemen', 'WTC', 'meanwhile', 'movie.\"', 'appalling.', 'Forbes', 'free,', 'meanings', 'Incredible', 'Melting', 'houses,', 'bursts', 'open.', 'TRUE', 'Deadly', \"didn't,\", 'sisters.', 'sacrifices', 'Crater', 'rant', 'patently', 'angers', 'superiors', 'robbery.', 'unorthodox', 'cliché.', 'Fine', 'tease', 'arrogant,', 'bitch', 'Zizek', \"Zizek's\", 'cyborg', 'obscurity.', 'ordinary.', 'Bogdanovich', 'enterprise', 'Blaine', 'fluff', 'systems', 'lauded', 'regrets', 'Abbot', 'triple', 'chocolate', 'disrespect', 'Cleese', '\"jokes\"', 'popular.', 'Fritz', \"Lang's\", 'system,', 'corrupted', 'incomparable', 'vent', 'clear,', 'Purple', 'Critics', 'ruler', 'everybody,', 'imagery.', 'kidnappers', 'orchestra', 'my,', 'MacArthur', 'preparation', 'that.The', 'D.', \"MacArthur's\", 'frontier', 'Honor', 'postwar', 'legend,', 'fulfillment', 'feisty', 'Jurassic', 'statue', 'Amrita', 'Prem', 'chews', 'solid.', 'watched,', 'punished', 'apologies', 'straight.', 'demons.', 'acceptable.', 'Brent', 'St', 'competitive', 'argument.', 'criminal.', 'rules.', 'rate,', 'bait', 'applying', 'porn.', 'puke', 'technology.', 'weekend,', 'stereotyping', 'kibbutz', 'Israel', 'Bogus', 'WITH', 'exist,', 'working-class', 'Stole', 'humiliation', 'sparkling', 'newest', 'Maxwell', 'Carr', 'coke', 'headache.', 'biographical', 'equals', 'Journey', \"Wayne's\", 'Dude', 'misery.', 'spectacle', 'fruit', 'fighter', 'sway', 'building,', 'Je', 'role)', 'Lowe', 'similar.', 'uncompromising', 'bed.', 'inventing', 'Country', 'Starring', '(James', 'rights,', '1974', 'disconnected', 'Raj', 'thumb', 'Lucille', 'uneven,', 'Look,', 'Garcia', 'forest.', 'Revolution', 'relieve', 'colour,', 'line:', 'medicine', 'cram', 'charisma,', 'surrealistic', 'nuns', 'Ringo', 'Hou', 'trains', 'slim', 'abundance', 'dive', 'trailer.', 'heinous', '1989', 'Martha', 'relive', 'long-suffering', 'rooms,', 'awaiting', 'intro', 'Comes', 'Betty', 'alternating', 'hilarious!', 'deftly', 'known.', 'belonged', 'Jane.', 'appropriate.', 'lean', 'Thai', \"dad's\", 'swords', 'moods', 'curtain', 'is!', 'bitterly', 'Cher', 'always)', 'campus', 'uncover', 'Bush', 'Wars,', 'faceless', 'throwaway', 'bloodshed', 'Hate', 'lecherous', 'gymnast', 'redeems', 'filth', 'customers', 'else!', 'mission,', '300', 'them...', 'Ollie', '(is', 'villagers', 'ponderous', 'Post', 'alright,', \"O'\", 'Virgin', 'masked', 'Casey', 'perplexing', \"Stanwyck's\", 'narrated', 'inherit', 'Gig', 'Notice', 'Nonetheless,', 'shout', 'tones', 'hacking', 'mins', 'burying', 'Mendes', 'famously', 'convict', 'only,', 'years!', 'madness,', 'Vance', 'dependent', 'Azaria', 'reaction.', 'Simmons', 'Sentinel\"', 'residence', 'gear,', 'purchasing', 'West,', 'population.', 'Hermann', 'Enjoy', 'Sinatra,', 'forties', 'jock', 'ignorance', 'prisoners', \"Logan's\", 'manor', 'lyrics', 'chains', 'Jacob', 'loathsome', 'abomination', \"Lee's\", 'Island,', 'bush', 'retrieve', 'plethora', 'homemade', 'Anyways,', 'experiencing', 'Heck', 'Giant', 'gum', 'stalwart', 'Akira', 'weapons.', 'MAY', 'MOST', 'hallucinations', 'thankfully,', 'Gleason', 'forget,', 'seal', 'coffin', 'loser.', 'Springer', 'redneck', 'patriotism', 'Sissy', 'Spacek', 'seed', 'charging', 'bus.', 'Department', 'Washington,', 'finer', 'sight,', 'lurking', 'Completely', '\"Are', 'softcore', 'experiences,', 'stoop', \"'What\", 'well-crafted', 'celebrating', 'lighten', 'LIFE', 're-watch', 're-make', 'monstrosity', 'Elisabeth', 'American.', 'Princess', 'theories', 'fantasies.', 'crusty', 'motif', '(here', 'enjoyment.', 'P.S.', 'You\"', 'hosts', 'village.', 'mobsters', 'careless', 'believably', 'Cloris', 'Everett', 'Shawn', 'vacation.', 'jolly', 'Sara', 'etc).', 'Luthor', 'fit.', 'Shrek', 'Barman', 'Belgian', 'natural,', 'shine.', 'bleak,', 'Protée', 'BE', 'hate,', 'update', 'ambiguity', 'ants', 'bites', 'notoriety', 'Suzanne', 'Bernie', 'crawling', 'DE', 'disillusioned', 'out;', 'obstacles', 'trumpet', 'bucks.', 'Jenny', 'Schwarzenegger', 'spree.', 'adultery,', 'crisis,', 'skeleton', '\"not', 'gates', 'neighbors,', 'seem,', 'scars', 'Rome', 'meanders', 'organic', 'evocative', 'deceptive', 'Groove', 'Movie,', 'Byron', 'longer,', 'hell,', 'escapist', 'practicing', 'Mexico,', 'ended,', 'testimony', 'Sassy', 'wickedly', 'fraction', 'Slaughter', 'yadda', 'tainted', 'low-grade', 'Ricardo', 'Cortez', 'luxurious', 'fear,', 'skin,', '(Kevin', '(Danny', 'renewed', 'merry', 'stepping', 'concrete', 'incorporate', 'Hanzo', '3:', 'Armstrong', 'insistence', 'largest', 'Joyce', 'indicative', 'convention', 'WARS', 'legacy', 'brick', 'Cartoon', 'Conroy', 'Gordon,', 'referring', 'industry,', 'societies', 'You,', 'liberty', 'ordering', 'short-lived', 'criteria', 'dwarf', 'Lara', 'Flynn', 'goof', 'dead-on', 'bucks,', \"Caine's\", 'Hamilton,', 'purists', 'bathed', 'deft', 'invitation', 'Triad', 'qualities,', '\"it', 'met,', 'Society', 'grain', 'smashing', 'unbearable.', 'Shore', \"it'll\", 'Express', 'slit', 'refreshing,', 'partition', \"O'Sullivan\", 'Reno', 'playing,', 'avenge', 'Combs', 'Fi', 'terms,', 'Rivers', 'highlighting', 'resonates', 'Forest', 'opted', 'butchering', 'expressing', 'fuss', 'shaved', '(e.g.', 'tree,', 'EARTH', 'Mainly', 'S&M', 'printed', 'assembly', 'ironically,', 'honored', '(many', 'elsewhere,', 'Stars,', 'Kristen', 'installment.', 'muscles', 'peek', 'makeup,', 'investment', 'exhibited', '\"family\"', 'finance', 'expressions.', 'clichés,', 'masters', 'Pet', 'alternately', 'expertly', 'Dudley', 'identity,', 'phrases', 'helmet', 'oral', 'amusement', 'tried,', 'qualify', 'shock,', 'standard,', 'evokes', 'credible.', \"Welles'\", 'basically,', 'revive', 'hubby', 'them;', 'delivers.', 'mansion,', 'BAFTA', '(Stephen', 'inheritance', 'Florence', 'Screenplay', 'Written', 'Heaton', '\"But', 'overshadowed', 'Dench', 'Jackman', 'flashbacks.', 'Walters', 'stiff,', 'unconvincing.', 'dastardly', 'end!', 'Corpse', 'Lila', 'Buddy', \"Ann's\", 'Nina', 'honors', 'Sooraj', 'Shahid', 'honourable', 'Hum', 'Vivah', 'Salman', 'hope,', 'marriages', 'path.', 'retarded.', 'pieces,', 'wolf', \"Vonnegut's\", \"Gordon's\", 'NYC,', 'Goebbels', 'lie,', 'select', 'sickening', 'lured', 'frenzy', 'Heavy', 'appealed', 'qualities.', 'Hickock', 'films).', 'Enjoy!', 'Ida', 'Lupino', 'Trent', 'rewarded', 'Foxx', 'photographs', 'hat,', 'trait', 'whips', 'complexities', 'Riff', 'Roll', 'Teen', 'raunchy', 'rumors', 'silent,', 'barren', \"Nicholson's\", 'Beat', \"get's\", 'shudder', 'Venice', 'sensual', 'AFTER', 'reviewer,', 'forced,', 'nevertheless,', 'BASEketball', 'joking', 'Brennan', 'ethics', 'coping', 'superman', 'study,', 'transport', 'maybe.', 'proceeded', 'LL', 'conducting', 'Naschy', 'village,', 'Gods', 'taped', 'impressionable', 'attack,', 'profile', 'did!', 'animators', 'Hurt,', 'AWAY', 'Janine', 'behaviors', 'permission', 'terrorize', 'brighter', 'loose,', 'Catch', 'hurry', 'extension', 'Afghanistan', 'liberated', 'target.', 'Godfather,', 'Gang', 'DVD!', 'Katie', 'PEOPLE', 'Warners', 'Shop', 'ya', 'Gundam', 'techniques,', 'targeted', 'cringed', 'Hopper', 'Pam', 'sterling', 'over-acting', 'twentieth', 'ransom', 'letdown', 'stepfather', 'enthralling', 'Candy:', 'boobs', 'reels', 'kung', 'Chang', 'HK', 'Called', 'styles,', 'revered', 'Getting', 'comforting', 'Likewise,', 'happy-go-lucky', 'candy.', 'sloppy,', 'elegance', 'self-serving', 'cops,', 'moderate', 'galaxy', \"i'd\", 'quantum', 'characterisation', 'worthless.', 'corny.', 'Simone', ',the', 'funky', 'Touch', 'frozen', 'Neo', 'traditionally', 'predecessor,', 'created.', 'duties', 'upsets', 'please!', 'Nicky', 'house?', 'adaptation,', 'wrote,', 'anthology', 'dramas,', 'Nintendo', 'sub-genre', 'creation,', 'Mann', 'McIntire', 'range.', 'bubble', 'weapon.', 'righteous', 'Disney.', 'exudes', 'slaughtered', 'Madeline', 'respite', \"60's,\", 'radically', 'entice', 'capitalist', 'Richard,', 'mesmerized', 'risky', 'Stewart.', 'enhances', 'running,', 'Tina', 'West.', '\"When', '(You', 'Hark', 'Cody', 'acquire', 'Center', 'mom.', 'operate', '2002,', 'canon', \"ol'\", 'him:', 'minutes)', 'Muni', 'Rainer', 'remembered.', 'confined', 'muted', 'ends,', 'Colman', 'sliding', 'lesbians', 'eroticism', 'within.', 'infectious', 'command', 'wayward', 'scripts.', 'Perhaps,', 'Manson', 'stripper', 'upsetting', 'wrecks', 'Tracey', 'tailored', 'single-handedly', 'dynamite', 'lazy,', 'Bye', 'retained', 'Albert,', 'Phillips', 'Pig', 'intestines', 'Whilst', 'thrills.', 'mundane', 'pursues', 'begs', 'celebrates', 'killing.', 'wipe', 'shamelessly', 'Extras:', 'poorer', 'Championship', 'dwell', 'bumps', 'emergency', 'Hayes', 'Corky', 'ensue', 'Kattan', 'tired.', 'Sad', 'no!', 'fewer', 'Rory', 'Culkin', 'Vijay', 'mask,', 'Plummer', 'train,', 'yeah.', '!!', 'warning,', \"ship's\", 'Storm', 'innocently', 'stakes', 'ensuing', \"Ben's\", 'across.', 'one),', 'guidance', 'cheerful', 'HATE', 'least.', 'springs', 'Tracy\"', 'notch,', 'environment,', 'statement.', 'co-workers', 'heated', 'Emilio', 'Englishman', 'into,', 'slow.', 'idiot,', 'poop', 'continuity,', 'Disney,', 'carefree', 'Kingdom', 'listing', 'passed.', 'sadness,', 'onwards', 'relieved', 'hysterically', 'strapped', 'hybrid', 'goat', 'Cliffhanger', 'apartments', 'scarecrows', 'unimpressive', 'Taylor.', 'Nolan', \"Goldsworthy's\", 'Goldsworthy', 'twins', 'tradition.', 'waters', 'foul-mouthed', 'contend', 'sabotage', 'ex-girlfriend', 'beach,', 'dreck.', 'Ajay', 'Devgan', 'Archer', 'voyage', 'Reed,', 'pilot.', 'valid', 'Joshua', '\"Three', 'Durbin', 'Switzerland', 'singer.', 'Alain', 'disposed', 'Daughter', 'sweaty', 'insisting', 'versatility', 'occupation', 'crowd.', 'tastes.', 'interpret', 'gallery', 'exceeded', 'teacher.', 'achievement.', 'Greengrass', 'unavailable', 'distraught', 'smug', 'tossed', 'secret,', 'Bond,', 'handsome,', 'WB', 'identity.', 'regulars', 'Busy', 'that...', 'responds', 'genuine,', 'coming-of-age', 'shove', 'Gillian', 'anime,', 'benefited', 'Veronica', 'overlooking', 'narration.', 'invading', 'film-', 'Heights', 'scheming', '27', 'zoom', 'text,', 'enhanced', 'Turkey', 'guards', 'needs.', 'nuanced', 'told.', 'Sister', 'worse!', 'combo', 'bus,', 'Evil\"', 'vary', 'speed.', 'pseudo', 'spoiling', 'Garson', 'smacks', 'dominates', 'Hepburn', 'obtained', 'Shannon', 'Grieco', 'albums', 'slaps', 'superfluous', 'Ungar', 'withstand', 'Pidgeon', 'anger,', 'recalled', 'member,', 'times.The', 'cuteness', 'autobiography', 'grandmother,', 'Agatha', 'charms', 'elephant', 'multi', '\"is', 'vulgar', 'sparring', 'disgust', 'reply', 'dramas.', '\"Moonstruck\"', 'apes', 'incongruous', 'allegory', 'call,', 'searched', 'employer', 'appreciates', 'Venezuelan', 'Loved', 'award.', 'discussions', 'engine', 'silliness,', 'one:', 'Hitler,', 'Third,', 'describe.', 'occasions,', 'blended', 'missed,', 'meetings', 'repetitive,', 'pitfalls', 'mediocrity', 'Crow', 'Independence', 'thus,', 'Technically', 'exhausted', 'Bunch', 'matters.', 'beginnings', '>', 'absurdly', 'workers,', 'May,', \"May's\", 'appreciative', 'drawings', 'announce', 'unwanted', 'cocaine', 'Valentine', 'conquest', 'insight,', 'horn', 'teaming', 'studio,', \"school's\", 'ROCK', 'seventies,', 'Homer', 'food.', 'co-stars', 'heterosexual', 'Television', 'fifties', 'camaraderie', 'Sheen', 'spins', 'tolerant', 'slug', 'forgiveness', 'acknowledged', 'Shin-ae', 'versa.', 'action/adventure', 'grocery', 'ass,', 'uncle,', 'Becky', 'mining', 'Identity', 'gracefully', 'adrenaline', '\"Look', 'tiresome.', 'phone,', 'garage', 'Gabe', 'proceed', 'posh', 'Notorious', 'allies', 'Recommended.', 'US.', 'Finney', 'conceived,', 'weirdly', 'supermarket', 'commented,', 'arm.', 'elementary', 'succeeded.', 'mortal', 'outs', 'dangerous,', 'praying', 'favor,', 'Care', 'socially', \"Shakespeare's\", 'sci', 'fi', 'Robby', '1993,', 'sarcasm', 'Baloo', 'Duck', 'Incredibly', 'Coop', 'force,', '\"Batman', 'gunshot', 'identities', 'heavyweight', 'champion', 'Walsh', 'doubles', 'Christine', 'Noel', 'nightmare.', 'lesson.', 'Michaels', 'extent.', 'realistically', 'vulnerability', 'simplest', 'progresses', \"Japan's\", 'part:', 'Otto', 'goers', 'butler,', 'USA,', 'patriotic', 'Short', 'orgy', 'unleash', 'miniseries', 'inspiring.', 'support.', 'persuade', 'Wagner', 'rack', 'simple:', 'guise', '(or,', 'Ridley', 'explanations', 'girlfriends', 'fluffy', '9,', 'Isabel', 'shipped', 'Shanghai', 'straight,', \"Ted's\", 'multitude', 'time\"', \"(there's\", 'cinemas', 'demons,', 'Louque', 'meek', 'uneventful', 'Cleveland', 'crook', 'Candy,', 'Moe', 'Impossible', 'Monkeys', 'November', 'monkeys', 'nanny', 'magnificently', 'unborn', \"Bug's\", 'families.', 'key,', 'Whale', 'Ever.', 'riddled', 'folks.', \"'bad\", 'name)', 'Security', 'stick.', 'McAdams', 'Cillian', 'Levy', 'Mister', 'book!', 'expert,', 'move.', 'comparison,', 'palm', 'reversed', 'cook', 'tea.', 'Bigfoot', 'reported', 'hairy', 'travel,', 'trips', 'used,', \"Wasn't\", 'Lance', 'Kristofferson', 'woke', 'noted,', 'granted,', 'monologues', 'skies', \"Homer's\", \"Dante's\", 'statement,', 'disfigured', 'SOME', 'Cage,', 'Vinnie', 'boorish', 'ace', 'populated', 'presume', 'Palace', 'jealousy,', 'Pullman', \"IMDb's\", 'Dhoom', 'Chicago,', 'Kolchak', 'Cathy', 'frog', 'fortune.', 'Beetle', 'Bell', 'legends', 'Cannon', 'Tashan', 'Manoj', 'Ask', '1986,', 'Man\",', 'Brown.', 'thirteen', 'Against', 'sentimentality', '400', 'Philadelphia', 'nurse,', 'tickets', 'commentators', 'begged', 'modern-day', 'Dance', 'modern,', 'Philippe', 'separately', 'his.', 'aimless', 'continuation', 'loud.', 'maintained', 'voters', 'narrative,', 'solidly', '\"Attack', 'Pitt,', 'Cushing', 'Adele', '\"Blood', 'caution', 'felt,', 'armies', 'mystic', '.The', 'volunteer', 'enlists', 'it´s', 'McCarthy', 'distributor', 'Swanson', 'appear.', 'Camp', 'aptly', \"Ollie's\", 'charisma.', 'elevate', 'spots.', 'sea.', 'poignancy', 'slutty', 'II\"', 'Boyle', 'ego,', 'lunatic', 'theirs', 'questioned', 'achieve.', 'mish-mash', 'Keira', 'Muslims', 'Serbs', '500', 'betray', 'backing', 'ally', 'engineered', 'branch', 'Clinton', 'SHE', 'accuse', 'Opening', 'slavery', 'lol.', 'subtleties', 'Weak', 'Harry,', 'joint', 'Chances', 'womanizing', 'slowly,', 'Zane', 'DVD)', 'looks.', 'fares', 'strain', 'survives', 'shallow.', 'journey.', \"Lennon's\", 'recruited', 'ardent', 'machinations', 'Guys', 'Oprah', 'surpass', '\"Mr.', \"Chan's\", 'Shortly', 'enabling', 'jail.', 'collapsing', 'terrorized', 'Cain', 'padded', 'quaint', 'Zodiac', 'mysterious,', 'Lulu', 'on.I', 'swamp', '\"new', 'tenant', 'Baby\"', 'what.', 'common.', 'blues', 'Blues', 'Scorsese', 'preach', 'assassination', 'unsuccessful', 'directions.', 'uncommon', 'awards.', 'scripted,', 'doc', 'page.', 'cases,', 'WHERE', 'retreat', 'Bears', 'acting...', 'viewpoint', 'Aviv', \"city's\", 'Ashraf', 'SS', 'adulterous', 'Sentinel', 'Presidential', 'Yvonne', 'Delia', 'unimaginative', 'Luc', 'Duchess', 'spared', 'Spring', 'print.', \"Wagner's\", 'expanded', \"Griffith's\", 'Kriemhild', 'Maugham', 'entranced', 'Rogers,', 'Transylvania', 'indicating', 'Senator', 'Russell,', 'if,', 'contention', 'universe,', 'particular.', '1980s,', 'owing', '3\"', 'thieves', 'chimney', 'windows', 'THERE', 'refuge', 'apocalyptic', 'Lastly,', 'awesomely', 'undercurrent', 'repertoire', '1982', 'Pavarotti', 'Opera', 'marine', '\"Titanic\"', 'compliments', 'grinding', 'Taxi', 'STORY', 'appreciated.', 'saturated', \"O'Neal\", 'boyish', 'Marley', 'Segal', 'Vice', 'WWI', 'thoughtful,', 'sides,', 'again;', 'brawl', 'poem,', 'Hindu', 'goddess', 'device,', 'worthwhile,', 'association', 'whatever,', 'Ki', 'teacher,', 'outsider', 'Loves', 'explanation,', 'ugly.', 'chopping', 'sock', 'ripoff', 'Weissmuller', '\"Tarzan', 'RKO', 'pretentious.', 'unrecognizable', '(Jon', \"Beatty's\", 'Coward', 'Evening', 'Harris.', 'Color', 'rescuing', 'bathing', 'Sabu', 'achingly', 'Winchester', 'distaste', 'misfits', 'skillfully', 'flooding', 'decision.', ';', 'Sidewalk', 'Tierney,', 'suspects.', 'Scalise', 'Dixon', 'reunites', \"Dixon's\", 'noir,', \"Scorsese's\", 'Peck', 'reason:', 'Chrissy', 'jewels', 'fairness', 'tomorrow', 'Australia,', 'laughed.', 'Atlantis', 'corridors', \"Rosemary's\", 'gaping', 'versatile', 'horrible!', 'Keaton,', 'sack', 'found,', 'Levant', 'boredom,', 'There,', 'pity,', 'typecast', 'work!', 'condescending', 'fondly', 'hail', 'pass.', 'turbulent', 'tedium', 'Lose', 'Alienate', 'Darkman', 'it-', 'wit.', 'advocate', 'screamed', 'research.', 'protected', 'mistakes.', 'Usually,', 'Zatoichi', 'guinea', 'wide-eyed', 'Sierra', 'spouts', 'trendy', 'herrings', 'Space\"', 'spot.', 'Wisconsin', 'relaxing', 'impose', 'wandered', 'POV', 'View', 'money!', 'rocking', 'Streets', 'Stefan', 'positives', 'Polish', 'towers', 'flavour', 'crash,', 'Cracker', 'McGovern', 'Consequently,', '1:', 'decrepit', 'sneaks', 'Borg', 'ANOTHER', 'Uma', 'Thurman', 'Johnson,', 'intelligent.', 'Burke', 'Rohmer', \"Gilliam's\", 'employees', 'morgue', 'coroner', 'fresh.', 'visuals.', 'lighting.', 'decaying', 'progressive', 'drumming', '5/10', 'teenagers,', 'hampered', 'balance.', 'Sebastian', 'location.', 'kisses', 'reputation,', 'humdrum', 'words:', 'collage', 'enthralled', 'croc', 'tenuous', 'Leopold', 'Times\"', 'stack', 'arcs', 'woo', 'Hilliard', 'popular,', 'contest,', 'Scott.', 'properly,', 'discipline', \"others'\", '1932', 'Joel', 'Runner', 'Fool', 'temptation', 'parties,', 'JFK', '(George', '1981', 'Gojoe', 'attain', \"Kurosawa's\", 'astronauts', 'Morbius', 'Alas,', 'epic.', 'locks', 'motivation,', 'Scooby-Doo', 'endurance', 'walking,', 'Archie', 'Maybe,', 'Officer', 'retire', 'Adams,', 'Amicus', 'Denholm', 'warnings', 'singularly', 'chase.', 'afternoon,', 'countryside.', 'videos,', \"protagonist's\", 'powered', 'wiser', 'speaking,', 'speech.', 'Listen', 'Blonde', '(still', 'Salvation', 'Ashton', 'suspicion', 'Bubba', 'Wolverine', 'Kidman', 'thwarted', 'berserk', 'RVD', 'smashed', 'Triple', 'whacked', 'Hogan', 'shoving', 'Hulk', 'Angle', 'blah.', '\"Yeah,', 'spray', 'exceptions,', 'City.', 'ending!', 'lifestyle.', 'WRONG!', 'plot.The', 'renegade', 'director)', 'aerial', 'overnight', 'Page\"', 'profits', 'S', 'invisible.', 'spinster', 'thrilling,', 'mouths', 'Tintin', 'Kusturica', 'dialogues,', 'Public', '\"No,', 'Id', 'Rogers.', 'edge,', 'Krell', 'well.The', 'deed', 'Tyrone', 'inventive,', 'Bacon', 'shelf.', 'Kaye', 'Soles', 'Ramones', 'Bros', '\"1\"', 'Trade', '\"making', 'hurt,', 'arrangements', '(Jason', 'aristocrat', 'repugnant', 'bastard', 'Pinjar', 'those.', 'subtlety.', 'advancing', 'Battlestar', 'Galactica', 'stake', 'telegraphed', 'gross-out', 'instructions', 'diet', 'Jane,', '\"Is', 'rabbit', 'chief,', '1930s.', 'how,', 'narrow', 'Worse,', 'flickering', 'safety.', 'guy?', 'extravagant', 'Raoul', 'frame,', 'Lon', 'throats', 'DNA', 'inflict', 'remake.', 'depressing,', '(If', 'Veronika', 'Francois', 'bitterness', 'personal,', 'uninspired,', 'Tremors', \"Man's\", 'Wally', 'teens.', 'played,', 'john', 'shaken', 'battered', 'Canada,', 'babies', 'show:', 'on;', 'weed', '(besides', 'arrows', 'kitsch', 'professionally', 'allied', 'democracy', 'camps', 'fetched', 'glorify', 'Jackass', 'Frankly', 'Edison', '\"Dog', 'Modern', 'spectacularly', 'Olsen', 'Spears', 'Absolute', 'dominant', 'Olympic', 'titles.', 'Lyle', 'Deputy', 'climate', 'baddie', 'Chaney', 'virgin,', \"Andy's\", 'Trish', 'chord', 'Death\"', 'funny)', 'Guide', 'experiment.', 'activist', 'mounting', 'earthquake', '747', 'G-Girl', 'Abby', 'co-production', 'Wrong', 'noirs', 'Andy,', 'proclaimed', 'hop', 'clinic', 'dense', 'Corbett', 'boggles', 'Renny', 'Student', 'spectator', 'lurks', 'Chiba', 'Square', 'Tell', 'weigh', 'werewolves', 'milestone', 'assaulted', 'forum', 'nose.', 'reprising', 'butter', 'curiosity.', '(thank', 'skips', 'Biblical', 'Cutter', 'too.The', 'based,', 'superior,', 'racing', 'scarred', 'outdoor', 'scant', 'Hands', 'Dogs', 'simulated', 'disk', \"Attenborough's\", 'Owl', '1935', 'tiger', 'rapists', 'make-up,', 'jewel', 'intact.', 'mistakenly', 'Seriously.', 'underbelly', 'utilizes', \"Rose's\", 'Allison', 'railway', 'Darlene', 'tent', 'Dyan', 'dingo', 'wow,', 'guard.', \"Washington's\", 'Enrico', 'contract.', 'examines', 'dares', 'king.', 'use,', 'Nacho', 'wrestler', 'superimposed', 'Silly', 'thorough', 'copying', 'wardrobe', '3d', 'undead', 'devious', 'immigrants', 'talents,', '3D', 'Di', 'Boone', 'Sweden', 'it.But', 'dominate', 'advertisements', 'articles', 'Fenton', \"Lily's\", 'drunk,', 'Moto', 'black-and-white', '18,', 'Fassbinder', 'suspect.', 'Mafia', 'pigs', 'Lillian', 'German,', 'spreading', 'critics.', 'Sholay', 'disappointment!', 'appealing,', 'lips.', 'Documentary', 'unedited', 'Soul', 'flips', 'Demi', '\"National', 'uniqueness', 'hypnotic', 'rage,', 'cleared', 'Snowy', 'grandparents', 'Janos', 'Bank', 'healing', 'train.', 'effortless', 'failed,', '\"Basic', 'Bret', 'biblical', 'Knights', 'knights', 'giggles', 'dam', 'abound', 'Ariel', '\"Red', 'Vega', 'whine', 'chase,', 'lose,', 'Andie', 'bank.', 'corpse.', 'Dolls', 'Visually', 'decades.', \"Antonioni's\", 'allure', 'there!', 'nefarious', 'soaked', 'reconciliation', 'favours', 'awarded', \"Eddie's\", 'smashes', 'underused', 'Othello', 'blink', 'Due', 'Desdemona', 'Crown', 'peer', 'dreamlike', '\"El', 'Epps', 'closes', 'stunts,', 'em', 'aircraft', 'Baxter', 'presented.', 'Stoltz', 'acts.', 'Jill', \"Baker's\", 'geisha', 'he/she', 'CRY', 'Africans', 'whites', 'absorb', 'overtly', 'Egan', 'showing,', '(One', 'Janet', 'rousing', 'dollars,', \"Earth's\", '(check', 'positive.', 'Lang', \"it.It's\", 'Blunt', 'factual', 'energetic,', \"Stewart's\", 'Corinne', 'Clutter', 'Capote', 'Treasure', 'afterwards,', 'Director,', 'contradict', 'denominator', 'salute', 'newspapers', 'fashions', 'there`s', 'disagree.', 'manager,', \"Sandler's\", 'compellingly', 'Dark,', 'Trier', 'either!', 'got,', 'clunker', 'suck,', 'reflective', 'Sarne', 'prompted', 'Escape', 'slow-moving', 'Kurosawa', 'mobster', 'seeds', 'freshness', 'measured', 'lingers', 'peace,', 'Olympia', 'Dukakis', 'Hoover', 'Adams', 'one.The', 'nutty', 'MGM,', \"Preminger's\", 'achieving', 'Lonely', \"Ray's\", 'underdog', 'man?', '\"Der', 'embodies', 'impaled', 'than,', 'feared', 'distribute', 'WHEN', 'Sloane', 'Creep', 'copyright', 'Ultimately,', 'heartily', 'WWII.', 'transvestite', 'Judi', 'leader,', 'pulse', 'Mahatma', 'worldly', 'Cristina', 'grade.', 'laid-back', 'gutter', 'signal', 'doubt.', 'hit-man,', 'myriad', '(Frank', 'Gellar', 'HOW', 'heads.', 'Greenaway', 'funny.I', 'Hence', 'reason)', 'Reve', 'detailing', 'resourceful', 'matte', 'passages', 'Varma', 'worthy.', 'nose,', 'enables', 'appeared.', 'brains.', 'low-life', 'whichever', 'hefty', 'agony', 'operating', 'blindly', 'Jude', 'campy,', 'Airport', 'fabric', 'breezy', 'Act', 'blur', 'Flash', 'example)', 'gangs', 'Carlyle', '\"Santa', '\"By', \"Jackie's\", 'Sky\"', \"1950's.\", 'sky,', 'succeeding', 'beliefs,', 'stamp', 'story.This', 'Fox.', \"Panahi's\", '\"Evil', 'routinely', 'fooling', 'foggy', 'that;', '??', 'gags.', 'grabbing', 'punks', 'terrorizing', 'elicit', 'joy,', 'pocket', '2006,', 'sidekick,', 'winding', 'Republican', 'needlessly', 'that`s', 'Connor', 'sweeps', 'Brooks,', 'dawn', 'jarring', 'appreciate.', 'trade,', 'garner', 'Huh?', 'des', 'depraved', 'Lommel', 'heroes.', 'Barton', 'restraint', '(Al', 'castle.', 'expressionist', 'Keeler', 'is).', 'grudge', 'descending', 'craziness', 'Elijah', 'spot,', 'catalyst', 'domain', 'owner.', 'stuntman', 'settings.', 'delights', 'begins,', 'Munchies', 'disturb', 'version)', 'object,', 'Garland', 'sailing', 'meantime', 'Edmund', 'operation,', 'slow-motion', 'Hewitt', 'intervention', 'excite', 'Corleone', 'miscasting', 'grandson', 'Damme', 'seamlessly', 'westerns.', '(Amy', 'accompany', 'Igor', 'LAPD', 'identified', 'Sun', 'firefighters', 'Nevertheless', 'Fisher,', 'base,', 'day-to-day', 'Ireland,', 'passions', 'commonly', 'Gold', 'cheats', '1969', 'OH', 'gory.', 'instinct', 'Hardy,', 'Bert', 'presented,', 'in-depth', 'watchers', 'Irani', 'hating', 'Welles,', 'Parsifal', 'swell', 'grant', 'Euro', 'pre-teen', 'stylish,', 'MacDonald', 'removes', 'Ho', 'startled', 'friendships', 'filmmaker,', 'Haunted', 'excrement', 'Shaggy', 'memories,', 'examined', 'Tap', 'Mastroianni', 'eighty', 'Baron', 'quotes.', 'Giving', 'bleed', 'celestial', 'plunges', '\"Hamlet\"', 'Footlight', 'center.', 'volunteers', 'animal,', 'endorse', 'sorrow', '\"Not', 'matters,', 'Wallach', 'Informer', 'insufferable', 'visually,', 'Korda', 'cause,', 'Martian', 'eyeball', 'Celie', '1973', 'Scarlet', 'concluded', 'Sammo', 'Witherspoon', 'weight,', 'artful', 'even.', 'boring!', 'bravura', 'Hayworth,', 'ranking', 'fleet', 'culminates', 'scholarship', 'ambient', 'E', 'extraordinary.', 'scriptwriters', 'Vs.', 'committee', 'Horror\"', 'acts,', 'snap', 'Capt.', 'gig', \"movie.It's\", 'distance,', 'soldier,', 'Lin', 'Dodge', 'Wyatt', 'Earp', 'Duryea', 'co-writer', 'too)', 'creatures,', 'graced', 'Frontier', 'butt.', 'Yuen', 'overboard', 'duds', 'unity', 'laden', 'repair', 'loves.', 'ex-con', 'makings', 'smuggling', 'grandma', 'fraud', 'segment,', 'criminals.', \"Penn's\", 'facts.', 'Britain,', 'boom', 'Saying', 'Brody', 'incidentally,', 'belonging', 'flare', 'Nevada', 'Bozz', 'complaints', 'Nadia', 'Rizzo', 'sensational', 'Dev', 'Doug', 'Bathsheba', 'Hayward', 'Grease', 'motor', 'curious,', 'views,', 'Tia', 'knives', \"Capote's\", 'Freed', 'irresistible', 'Ursula', 'bewildered', 'wasnt', 'shuttle', 'rockets', 'Bin', 'Musical', 'Toy', 'Lincoln,', 'Foch', 'focus.', 'day!', 'teenagers.', 'Sasquatch', 'Famous', 'Dani', 'Court', 'transforming', 'farce.', 'Caron', 'Stratton', \"company's\", 'frail', 'support,', 'inimitable', 'of:', 'Emma.', 'comedy;', 'uncomfortably', '\"There\\'s', 'productions.', 'Mistress', 'wars,', 'Grudge', 'Shue', 'prejudices', 'Meat', 'therein', 'Pia', 'penalty', 'vengeance.', 'Room\"', '\"Planet', \"Sutherland's\", '(her', 'Hazzard', 'motives,', \"Anna's\", 'mug', '88', 'provokes', 'Streep,', 'educate', 'refusing', 'endearing,', 'verbally', 'Atlantic', 'visit.', 'Martino', 'realism,', 'Eddy', 'Crystal', 'specialty', 'Abe', 'socialist', 'Show.', '\"Final', 'distraction.', 'caricatures.', 'precision', 'Flock', 'Burton,', 'ladies.', 'Youssef', 'violin', 'kidding.', 'Hopper,', 'forward,', 'approved', 'circumstance', 'you.\"', 'emptiness', 'MAN,', 'intimacy', 'Hungarian', 'Hawk', 'symbols', 'disinterested', 'Preminger', 'ideological', '\"one', 'lie.', 'Gandolfini', 'cum', 'Gates', 'speeding', 'Twenty', 'glamor', 'Angry', 'precise', 'welcome.', 'sergeant', 'Streisand', 'adequate,', 'Hagar', 'whomever', 'obliged', 'typing', 'guides', 'gusto', '(made', 'Quincy', 'talking.', 'tame.', 'POWs', 'Lumiere', 'Tobias', 'quips', 'domineering', 'rubbing', 'Gram', 'Knoxville', 'blah,', 'Songs', '\"Our', 'projects,', 'Alexis', 'Jim\"', 'factory.', 'leans', 'cavemen', 'awhile,', 'Hackenstein', 'Griffin', 'topped', 'candidates', 'hammered', 'pimp', 'Divine', 'originality,', 'Priya', 'ghosts.', 'classics.', 'Minutes', 'math', 'resentment', 're-runs', 'Gracie', 'rifles', 'Dillinger', 'zooms', 'Bake', 'Olen', 'admitting', 'don´t', 'Europa', 'Brigitte', 'unspoken', 'Lorenzo', 'Lamas', 'types,', 'overwhelm', 'infidelity', 'Cohn', 'Grisby', 'conversation.', 'Liv', 'opinion)', 'odd.', 'wreck,', 'painting.', 'respectively,', 'Wooden', \"(It's\", 'sports.', 'out:', 'bizarrely', 'expressive', 'unattractive', 'tide', 'heroines', 'Kari', 'awaits', 'Celeste', 'Italy.', 'teller', 'KING', 'repellent', 'Luther', 'Purple\"', 'anti-war', 'Rosenstrasse', 'unforgivable', 'Hollow', 'restoration', 'backstory', 'Heaven\"', 'faulty', 'protagonists,', 'summarize', \"George's\", 'w/', 'impromptu', 'her)', 'tanks', 'da', 'NC-17', 'archive', 'crystal', 'Spirited', 'progress,', 'plan,', 'Lau', 'Rowan', 'Voyager', 'riders', 'dorm', 'Pokémon', 'mustache', 'historians', 'black.', 'hip-hop', 'contrasted', 'snatched', 'edited.', 'Love.', 'Victoria,', 'Morgana', 'veritable', 'slick,', 'Blackadder', 'Mermaid', 'Jaffar', 'Ahmad', 'lamest', 'civilization.', 'orphanage', '(Walter', 'Chairman', 'uncontrollable', 'Oriental', 'Ronny', 'matured', 'clouds', 'eyebrows', 'you)', \"Bettie's\", 'Dyer', 'Singleton', 'good.The', 'check.', 'Haunting', 'outlet', 'homosexuality,', \"Andrews'\", 'Gardens', 'Chow', 'contradictions', 'Crenna', '2000.', \"Grant's\", 'emergence', 'Kells', 'beings,', 'anti', 'bollywood', 'screeching', 'wanna-be', 'BEN', 'indistinguishable', \"Gilligan's\", 'Sudden', 'Impact', 'Looks', \"Sullivan's\", 'actively', 'dishonest', 'sweet.', 'warfare', 'limbs', 'grace,', 'bad)', 'illustration', 'Durante', 'sketchy', 'flees', \"Boll's\", 'channeling', 'delves', 'warehouse', 'Floriane', 'Pasolini', '(As', 'caretaker', 'scarce', \"Valentine's\", 'presentation,', 'Yadav', 'Harlin', 'speeds', 'oneself', 'Pazu', 'dear,', 'horses.', 'rule,', 'Massey', 'Sheeta', 'thesis', 'Khouri', 'Doolittle', \"Lincoln's\", 'se', 'Dunne', 'Schumacher', 'blocking', 'Silvers', 'cyborgs', '\"Seed\"', 'Noriko', '\"Men', 'Kerry', 'Sealed', 'bulb', 'rent,', 'Grable', 'gym', 'rewards', 'Cassandra', 'Lorna', 'Tarzan,', 'Gypo', 'effectiveness', 'discrimination', 'layer', 'originated', 'Hallam', 'adv.', 'Tito', 'Riley', 'hiking', 'Gamera', '`A', 'Zu', 'Seth', 'Projected', 'VS.', \"Paulie's\", 'RIPLEY', 'Basket:', 'Carlisle', 'Blank', '\"Rob', 'Roy\"', 'Ranma', 'Jefferson', 'Buttgereit', 'Delon', 'Marcus', 'Gen.', 'Azumi', '\"Braveheart\"', 'Maradona', 'Marky', 'Nostril', 'Picker']\n"
          ]
        }
      ],
      "source": [
        "print(vocabulary.get_vocabulary())"
      ]
    },
    {
      "cell_type": "markdown",
      "metadata": {
        "id": "hvGNv-xDP-WV"
      },
      "source": [
        "**(1 point)** Fill the encoding and decoding functions. The encoding function takes a text as input and returns a list IDs corresponding to the index of each word in the vocabulary. The decoding function reverse the process, turning a list of IDs into a text. Make sure the encoding function returns a numpy array."
      ]
    },
    {
      "cell_type": "code",
      "execution_count": 22,
      "metadata": {
        "id": "6Mj4AMqYk6xt"
      },
      "outputs": [],
      "source": [
        "# Encoding and decoding function\n",
        "\n",
        "def encode_text(text: str) -> np.ndarray:\n",
        "    \"\"\"Encode text into a list of IDs corresponding to the index of each word in the vocabulary.\n",
        "    Args:\n",
        "        text: the input string.\n",
        "    Returns:\n",
        "        a list of IDs\n",
        "    \"\"\"\n",
        "    ids = []\n",
        "    for word in text.split(\" \"):\n",
        "      ids.append(vocabulary.get_index(word))\n",
        "    return np.array(ids)\n",
        "\n",
        "def decode_text(encoded_text: np.ndarray) -> str:\n",
        "    \"\"\"Decode the list of IDs corresponding to the index of each word in the vocabulary into a string.\n",
        "    Args:\n",
        "        encode_text: the list of IDs.\n",
        "    Returns:\n",
        "        a string \n",
        "    \"\"\"\n",
        "    txt = \"\"\n",
        "    for id in encoded_text:\n",
        "      txt += \" \" + vocabulary.get_word(id)\n",
        "    return txt\n"
      ]
    },
    {
      "cell_type": "markdown",
      "metadata": {
        "id": "WPUej2whwaXw"
      },
      "source": [
        "To make sure everything went well, we compare a text before and after encoding and then decoding it. You should see rare words / typos replaced by the `<UNK>` token."
      ]
    },
    {
      "cell_type": "code",
      "execution_count": 23,
      "metadata": {
        "colab": {
          "base_uri": "https://localhost:8080/",
          "height": 113,
          "referenced_widgets": [
            "b120ee8cf3b44208a3d0e390bbb64330",
            "5768c3d2dd8a4e5b95330824f0c395bd",
            "777856a349314cd3b82eaf4ff5240997",
            "20b50511cb604827b16fdcc5811627c5",
            "87c13b40b0c04fbcb923fc3abd7ad375",
            "938067d114924f6cb6a029e9a6170fad",
            "7468044bbc334d94b5166f2c5059e144",
            "6740cd163a424aaf9e8c440cd7a8d86d",
            "e5fc4b89367d4ea3b0dafb42f580c5c2",
            "84f8c5f1d2c74e3c8d78ccdc5c222b02",
            "6db557d25faa4e5abc561e6e3aee9fab",
            "9dd057ca8e8740fdbe2e5f49430da0a7",
            "a2e61a36d1b74d91a52f5d5f69674932",
            "8409ab3a70a747c6b8b90a703f24e507",
            "661c47e221d84526bfe92b816548e7bc",
            "9a00afafda3c4cf49ff944b8b87caeb0",
            "02a37765c2804718a54746830d4cebb2",
            "5c34bba8fe644edfb87d3dd2199da104",
            "daeacfc68e2a48c0995a96aedbc59d9e",
            "6350c4813e034fc3b22773d065b3c1b9",
            "44131b37d2ba40f8b84f01c29cc92fe3",
            "f826cf904ccd489b90e66cf92d740117",
            "7626878ddfae455d9efceeb1391f2e8e",
            "8c451b6468a44d728f1e78d87fa3a15c",
            "e570988ee343415bbea624d10fb080be",
            "10ddb5892a2e44c291afb7f24d9a5efa",
            "34d12fdb580541baa8f3323777c15ab7",
            "3f5c6960387d477a9960da605f22ae6e",
            "e20955ab2dbb45f88e7eadd63f359449",
            "33d43657e1c241719007f499f09a5459",
            "b020b5bee6144364bbfc54b80e749233",
            "7f7559f7d3224574a23250547e2a70fd",
            "f14eaf6831db47f2a6c7e8e3d22922d1"
          ]
        },
        "id": "wdq011plYUHG",
        "outputId": "8f6755b2-e3fe-465c-bb35-a36f4f895aa1"
      },
      "outputs": [
        {
          "output_type": "display_data",
          "data": {
            "text/plain": [
              "  0%|          | 0/20000 [00:00<?, ?ex/s]"
            ],
            "application/vnd.jupyter.widget-view+json": {
              "version_major": 2,
              "version_minor": 0,
              "model_id": "b120ee8cf3b44208a3d0e390bbb64330"
            }
          },
          "metadata": {}
        },
        {
          "output_type": "display_data",
          "data": {
            "text/plain": [
              "  0%|          | 0/5000 [00:00<?, ?ex/s]"
            ],
            "application/vnd.jupyter.widget-view+json": {
              "version_major": 2,
              "version_minor": 0,
              "model_id": "9dd057ca8e8740fdbe2e5f49430da0a7"
            }
          },
          "metadata": {}
        },
        {
          "output_type": "display_data",
          "data": {
            "text/plain": [
              "  0%|          | 0/25000 [00:00<?, ?ex/s]"
            ],
            "application/vnd.jupyter.widget-view+json": {
              "version_major": 2,
              "version_minor": 0,
              "model_id": "7626878ddfae455d9efceeb1391f2e8e"
            }
          },
          "metadata": {}
        }
      ],
      "source": [
        "# Apply the encoding function to the entire dataset.\n",
        "encoded_dataset = clean_dataset.map(lambda x: {\"text\": encode_text(x[\"text\"]), \"label\": x[\"label\"]})"
      ]
    },
    {
      "cell_type": "code",
      "execution_count": 24,
      "metadata": {
        "colab": {
          "base_uri": "https://localhost:8080/"
        },
        "id": "RT8UQgeWliQz",
        "outputId": "0b4f680c-002f-4f94-fa22-86870e6f3cc1"
      },
      "outputs": [
        {
          "output_type": "execute_result",
          "data": {
            "text/plain": [
              "('Movies like this one, and C.R.A.Z.Y., make me very sad for American films with a gay subject matter. With the exception of Parting Glances and Brokeback Mountain, there are few other notable American films with the kind of depth and sincerity as this movie, The Bubble. This movie centers on two men, Noam and Ashwar, an Israle and Palestinian respectively. Their relationship is complicated by the tension between the Jews and Arabs in Israel. Couples, in the early stages of their relationships will struggle with who will call who next, or who will say \"I love you\" first. Noam and Ashwar\\'s early love is complicated by suicide bombings, armed security check points, and racism. While Noam\\'s friends accept and like Ashwar, who is Arab, it is clear that most of Tel Aviv\\'s citizens probably don\\'t.One of the most touching moments, and there are many in this film, is when Noam and Ashwar attend a production of \"Bent\". We, as movie goers, see them watching this play, and the affect it has on the two of them is profoundly captured in their eyes. And ultimately, this touching moment is played out in a very sad way in the finale of the movie.Ohad Knoller and Youseff \\'Joe\\' Sweid are outstanding as Noam and Ashwar. Director Eytan Fox is brilliant in creating a cogent and interesting retelling of the Shakespeare classic Romeo and Juliet. And while most movies today have sex in them, (almost as a sport), this one goes back to the old tried and true version of sex with love and passion combined. It is so refreshing. Also refreshing is seeing two gay men being portrayed as people and not cartoons. There are cartoonish characters in this movie. It just doesn\\'t happen to be the two gay guys for a change. Somewhere on this site I think I read a comparison between this movie and \"Friends\". Well, not really. Yes, these are youthful characters stumbling through their first uneasy steps into adulthood and relationships. But I don\\'t recall getting \"blowed up\" as a backdrop to the insipid story lines in \"Friends\".This is a very good movie. It has heart, and heartbreak. And like all good love stories love does win out. But not in it\\'s intact glory of full bloom . Still, it\\'s a very satisfying movie to watch.',\n",
              " ' Movies like this one, and <UNK> make me very sad for American films with a gay subject matter. With the exception of <UNK> <UNK> and <UNK> <UNK> there are few other notable American films with the kind of depth and sincerity as this movie, The <UNK> This movie centers on two men, Noam and <UNK> an <UNK> and Palestinian respectively. Their relationship is complicated by the tension between the Jews and <UNK> in <UNK> <UNK> in the early stages of their relationships will struggle with who will call who next, or who will say \"I love you\" first. Noam and <UNK> early love is complicated by suicide <UNK> armed security check points, and <UNK> While <UNK> friends accept and like <UNK> who is <UNK> it is clear that most of Tel <UNK> citizens probably <UNK> of the most touching moments, and there are many in this film, is when Noam and <UNK> attend a production of <UNK> <UNK> as movie <UNK> see them watching this play, and the affect it has on the two of them is profoundly captured in their eyes. And ultimately, this touching moment is played out in a very sad way in the finale of the <UNK> <UNK> and <UNK> <UNK> <UNK> are outstanding as Noam and <UNK> Director <UNK> Fox is brilliant in creating a <UNK> and interesting retelling of the Shakespeare classic Romeo and <UNK> And while most movies today have sex in them, (almost as a <UNK> this one goes back to the old tried and true version of sex with love and passion <UNK> It is so refreshing. Also refreshing is seeing two gay men being portrayed as people and not cartoons. There are cartoonish characters in this movie. It just doesn\\'t happen to be the two gay guys for a change. Somewhere on this site I think I read a comparison between this movie and <UNK> Well, not really. Yes, these are youthful characters stumbling through their first uneasy steps into adulthood and relationships. But I don\\'t recall getting <UNK> up\" as a backdrop to the insipid story lines in <UNK> is a very good movie. It has heart, and <UNK> And like all good love stories love does win out. But not in it\\'s intact glory of full <UNK> . Still, it\\'s a very satisfying movie to watch.')"
            ]
          },
          "metadata": {},
          "execution_count": 24
        }
      ],
      "source": [
        "clean_dataset[\"train\"][\"text\"][0], decode_text(encoded_dataset[\"train\"][\"text\"][0])"
      ]
    },
    {
      "cell_type": "markdown",
      "metadata": {
        "id": "FVadYQD2nw52"
      },
      "source": [
        "## Batch preparation **(1 point)**\n",
        "\n",
        "To speed up learning, and take advantage of the GPU architecture, we provide data to the model by batches. Since all line in the same batch need to have the same length, we pad lines to the maximum length of each batch."
      ]
    },
    {
      "cell_type": "code",
      "execution_count": 25,
      "metadata": {
        "id": "dWV2pzgqa1cD"
      },
      "outputs": [],
      "source": [
        "def data_generator(X: np.ndarray, y: np.ndarray, batch_size: int = 32, pad_right: bool = False) -> Tuple[np.ndarray, np.ndarray]:\n",
        "    \"\"\"Generate randomly ordered batches of data+labels.\n",
        "    Args:\n",
        "        X: the input data.\n",
        "        y: the corresponding labels.\n",
        "        batch_size: the size of each batch [32].\n",
        "        pad_right: if true, the padding is done on the right [False].\n",
        "    \"\"\"\n",
        "    \n",
        "    X, y = shuffle(X, y)\n",
        "    n_batches = int(np.ceil(len(y) / batch_size))\n",
        "    \n",
        "    for i in range(n_batches):\n",
        "        \n",
        "        end = min((i+1)*batch_size, len(y))\n",
        "        \n",
        "        X_batch = X[i*batch_size:end]\n",
        "        y_batch = y[i*batch_size:end]\n",
        "\n",
        "        # Padding to max ength size within the batch\n",
        "        max_len = np.max([len(x) for x in X_batch])\n",
        "        for j in range(len(X_batch)):\n",
        "            x = X_batch[j]\n",
        "            pad = [vocabulary.get_index(PAD_TOKEN)] * (max_len - len(x))\n",
        "            X_batch[j] = x+pad if pad_right else pad+x\n",
        "\n",
        "        X_batch = torch.from_numpy(np.array(X_batch)).long()\n",
        "        y_batch = torch.from_numpy(np.array(y_batch)).long()\n",
        "\n",
        "        # Yielding results, so every time the function is called, it starts again from here.\n",
        "        yield X_batch, y_batch"
      ]
    },
    {
      "cell_type": "markdown",
      "metadata": {
        "id": "qADLhZtAP-WX"
      },
      "source": [
        "Let's see what the batches look like."
      ]
    },
    {
      "cell_type": "code",
      "execution_count": 26,
      "metadata": {
        "colab": {
          "base_uri": "https://localhost:8080/"
        },
        "id": "d1-D1ueJb6IR",
        "outputId": "f45ed46d-9e71-4023-d534-4b31c56bce66"
      },
      "outputs": [
        {
          "output_type": "stream",
          "name": "stdout",
          "text": [
            "inputs tensor([[   0,    0,    0,  ...,   41,    1,  661],\n",
            "        [   0,    0,    0,  ...,   20, 3046,    1],\n",
            "        [   0,    0,    0,  ..., 3205,   11, 7191],\n",
            "        ...,\n",
            "        [   0,    0,    0,  ...,  103,   22, 3160],\n",
            "        [   0,    0,    0,  ...,   11,   92,    1],\n",
            "        [   0,    0,    0,  ..., 6406,    1,    1]]) shape: torch.Size([32, 937])\n",
            "targets tensor([1, 0, 1, 1, 0, 0, 0, 1, 1, 0, 1, 1, 0, 0, 1, 1, 1, 0, 1, 0, 0, 0, 1, 1,\n",
            "        1, 0, 1, 1, 0, 1, 0, 0]) shape: torch.Size([32])\n"
          ]
        }
      ],
      "source": [
        "for inputs, targets in data_generator(encoded_dataset[\"train\"][\"text\"], encoded_dataset[\"train\"][\"label\"]):\n",
        "    print(\"inputs\", inputs, \"shape:\", inputs.shape)\n",
        "    print(\"targets\", targets, \"shape:\", targets.shape)\n",
        "    break"
      ]
    },
    {
      "cell_type": "markdown",
      "metadata": {
        "id": "H40w-dJlP-WY"
      },
      "source": [
        "**(1 point)** Question: On which side should we pad the data for our use case and why?"
      ]
    },
    {
      "cell_type": "markdown",
      "metadata": {
        "id": "t5uO-cAWodA0"
      },
      "source": [
        "## The model **(13 points)**\n",
        "\n",
        "We use a simple RNN with a configurable number of layers."
      ]
    },
    {
      "cell_type": "code",
      "execution_count": 27,
      "metadata": {
        "colab": {
          "base_uri": "https://localhost:8080/"
        },
        "id": "xel73Svtcgrf",
        "outputId": "a4f405bf-ee00-49ad-b2a8-9d1c23a4bd07"
      },
      "outputs": [
        {
          "output_type": "execute_result",
          "data": {
            "text/plain": [
              "device(type='cuda', index=0)"
            ]
          },
          "metadata": {},
          "execution_count": 27
        }
      ],
      "source": [
        "# Before starting, let's set up the device. A GPU if available, else the CPU.\n",
        "device = torch.device(\"cuda:0\" if torch.cuda.is_available() else \"cpu\")\n",
        "device"
      ]
    },
    {
      "cell_type": "code",
      "execution_count": 28,
      "metadata": {
        "id": "yiNVffK_cnxM"
      },
      "outputs": [],
      "source": [
        "class RNN(nn.Module):\n",
        "    \"\"\"A simple RNN module with word embeddings.\n",
        "    \"\"\"\n",
        "    def __init__(self, vocab_size: int, embed_size: int, hidden_size: int, n_layers: int, n_outputs: int) -> None:\n",
        "        \"\"\"\n",
        "        Args:\n",
        "            vocab_size: vocabulary size.\n",
        "            embed_size: embedding dimensions.\n",
        "            hidden_size: hidden layer size.\n",
        "            n_layers: the number of layers.\n",
        "            n_outputs: the number of output classes.\n",
        "        \"\"\"\n",
        "        super().__init__()\n",
        "        self.vocab_size = vocab_size\n",
        "        self.embed_size = embed_size\n",
        "        self.hidden_size = hidden_size\n",
        "        self.n_layers = n_layers\n",
        "        self.n_outputs = n_outputs\n",
        "\n",
        "\n",
        "        # The word embedding layer.\n",
        "        self.embed = nn.Embedding(self.vocab_size, self.embed_size)\n",
        "        # The RNN\n",
        "        self.rnn = nn.RNN(\n",
        "            input_size = self.embed_size,\n",
        "            hidden_size = self.hidden_size,\n",
        "            num_layers = self.n_layers,\n",
        "            batch_first = True, # Changes the order of dimension to put the batches first.\n",
        "        )\n",
        "        # A fully connected layer to project the RNN's output to only one output used for classification.\n",
        "        self.fc = nn.Linear(self.hidden_size, self.n_outputs)\n",
        "\n",
        "    def forward(self, X: torch.Tensor) -> torch.Tensor:\n",
        "        \"\"\"Function called when the model is called with data as input.\n",
        "        Args:\n",
        "            X: the input tensor of dimensions batch_size, sequence length, vocab size (actually just an int).\n",
        "        Returns:\n",
        "            The resulting tensor of dimension batch_size, sequence length, output dimensions.\n",
        "        \"\"\"\n",
        "        h0 = torch.zeros(self.n_layers, X.size(0), self.hidden_size).to(device)\n",
        "\n",
        "        out = self.embed(X)\n",
        "        # out contains the output layer of all words in the sequence.\n",
        "        # First dim is batch, second the word in the sequence, third is the vector itself.\n",
        "        # The second output value is the last vector of all intermediate layer.\n",
        "        # Only use it if you want to access the intermediate layer values of a\n",
        "        # multilayer model.\n",
        "        out, _ = self.rnn(out, h0)\n",
        "        # Getting the last value only.\n",
        "        out = out[:, -1, :]\n",
        "    \n",
        "        # Linear projection.\n",
        "        out = self.fc(out)\n",
        "\n",
        "        return out"
      ]
    },
    {
      "cell_type": "markdown",
      "metadata": {
        "id": "7GBHoO5pP-Wa"
      },
      "source": [
        "Note that we do not pass the output through a sigmoid function. This is because pyTorch implements some code optimization within the `BCEWithLogitsLoss` we'll see later."
      ]
    },
    {
      "cell_type": "code",
      "execution_count": 29,
      "metadata": {
        "id": "Zw-lzgfveXB3"
      },
      "outputs": [],
      "source": [
        "def train(\n",
        "    model: nn.Module,\n",
        "    criterion: Callable,\n",
        "    optimizier: torch.optim.Optimizer,\n",
        "    n_epochs: int,\n",
        "    train_gen: Callable,\n",
        "    valid_gen: Callable,\n",
        ") -> Tuple[List[float], List[float], nn.Module]:\n",
        "    \"\"\"Train a model using a batch gradient descent.\n",
        "    Args:\n",
        "        model: a class inheriting from nn.Module.\n",
        "        criterion: a loss criterion.\n",
        "        optimizer: an optimizer (e.g. Adam, RMSprop, ...).\n",
        "        n_epochs: the number of training epochs.\n",
        "        train_gen: a callable function returing a batch (data, labels).\n",
        "        valid_gen: a callable function returing a batch (data, labels).\n",
        "    \"\"\"\n",
        "    train_losses = np.zeros(n_epochs)\n",
        "    valid_losses = np.zeros(n_epochs)\n",
        "\n",
        "    for epoch in range(n_epochs):\n",
        "\n",
        "        t0 = datetime.now()\n",
        "        model.train()\n",
        "        train_loss = []\n",
        "\n",
        "        # Training loop.\n",
        "        for inputs, labels in train_gen():\n",
        "            # labels are of dimension (N,) we turn them into (N, 1).\n",
        "            labels = labels.view(-1, 1).float()\n",
        "            # Put them on the GPU.\n",
        "            inputs, labels = inputs.to(device), labels.to(device)\n",
        "\n",
        "            # Reset the gradient.\n",
        "            optimizer.zero_grad()\n",
        "\n",
        "            outputs = model(inputs)\n",
        "            loss = criterion(outputs, labels)\n",
        "            loss.backward()\n",
        "            optimizier.step()\n",
        "\n",
        "            train_loss.append(loss.item())  # .item() detach the value from GPU.\n",
        "\n",
        "        train_losses[epoch] = np.mean(train_loss)\n",
        "\n",
        "        model.eval()\n",
        "        valid_loss = []\n",
        "        # Evaluation loop.\n",
        "        for inputs, labels in valid_gen():\n",
        "            labels = labels.view(-1, 1).float()\n",
        "            inputs, labels = inputs.to(device), labels.to(device)\n",
        "\n",
        "            outputs = model(inputs)\n",
        "            loss = criterion(outputs, labels)\n",
        "\n",
        "            valid_loss.append(loss.item())\n",
        "\n",
        "        valid_losses[epoch] = np.mean(valid_loss)\n",
        "\n",
        "        print(f\"Epoch: {epoch}, training loss: {train_losses[epoch]}, validation loss: {valid_losses[epoch]}, in {datetime.now() - t0}\")\n",
        "\n",
        "    return train_losses, valid_losses, model"
      ]
    },
    {
      "cell_type": "markdown",
      "metadata": {
        "id": "KrXsX5xvP-Wa"
      },
      "source": [
        "We setup the model, criterion (a binary cross entropy), and the optimizer (Adam).\n",
        "\n",
        "Note that `BCEWithLogitsLoss` use a mathematical trick to incorporate the sigmoid function in its computation. This trick makes the learning process go slightly faster and is the reason why we didn't put a sigmoid in the forward function of the model."
      ]
    },
    {
      "cell_type": "code",
      "execution_count": 30,
      "metadata": {
        "id": "K7Mpe44Dd85Z"
      },
      "outputs": [],
      "source": [
        "model = RNN(len(vocabulary), 32, 64, 1, 1).to(device)\n",
        "criterion = nn.BCEWithLogitsLoss()\n",
        "optimizer = torch.optim.Adam(model.parameters())"
      ]
    },
    {
      "cell_type": "markdown",
      "metadata": {
        "id": "MDw_JWjtP-Wb"
      },
      "source": [
        "We get the 3 generators."
      ]
    },
    {
      "cell_type": "code",
      "execution_count": 31,
      "metadata": {
        "id": "srYPmX_aeLwD"
      },
      "outputs": [],
      "source": [
        "train_gen = lambda: data_generator(encoded_dataset[\"train\"][\"text\"], encoded_dataset[\"train\"][\"label\"])\n",
        "valid_gen = lambda: data_generator(encoded_dataset[\"validation\"][\"text\"], encoded_dataset[\"validation\"][\"label\"])\n",
        "test_gen = lambda: data_generator(encoded_dataset[\"test\"][\"text\"], encoded_dataset[\"test\"][\"label\"])"
      ]
    },
    {
      "cell_type": "markdown",
      "metadata": {
        "id": "o5OCApf5P-Wc"
      },
      "source": [
        "And train the model."
      ]
    },
    {
      "cell_type": "code",
      "execution_count": 32,
      "metadata": {
        "colab": {
          "base_uri": "https://localhost:8080/"
        },
        "id": "WB98HqD3fk1G",
        "outputId": "666ea5c8-cc3d-44b9-a4f2-56bab53711b2"
      },
      "outputs": [
        {
          "output_type": "stream",
          "name": "stdout",
          "text": [
            "Epoch: 0, training loss: 0.6883858984947204, validation loss: 0.6845329103955797, in 0:00:07.024893\n",
            "Epoch: 1, training loss: 0.6606124141693115, validation loss: 0.6532762612506842, in 0:00:06.732322\n",
            "Epoch: 2, training loss: 0.6225800941944122, validation loss: 0.6782407100033608, in 0:00:06.819222\n",
            "Epoch: 3, training loss: 0.6363442234992981, validation loss: 0.5997559834437766, in 0:00:06.715827\n",
            "Epoch: 4, training loss: 0.5824557999610901, validation loss: 0.6518600364779211, in 0:00:06.779079\n",
            "Epoch: 5, training loss: 0.5251586952209473, validation loss: 0.590225076979133, in 0:00:06.843016\n",
            "Epoch: 6, training loss: 0.48482747395038606, validation loss: 0.6029935067246674, in 0:00:06.980873\n",
            "Epoch: 7, training loss: 0.5456681661128998, validation loss: 0.6704594090486028, in 0:00:06.825386\n",
            "Epoch: 8, training loss: 0.4802243433713913, validation loss: 0.6152384434915652, in 0:00:08.196114\n",
            "Epoch: 9, training loss: 0.48388946583271025, validation loss: 0.6045786413797147, in 0:00:06.971989\n",
            "Epoch: 10, training loss: 0.42688405375480654, validation loss: 0.6300958613301538, in 0:00:08.482505\n",
            "Epoch: 11, training loss: 0.39801059474945066, validation loss: 0.6041491715012083, in 0:00:10.080433\n",
            "Epoch: 12, training loss: 0.36496823589801786, validation loss: 0.6074059829590427, in 0:00:07.612208\n",
            "Epoch: 13, training loss: 0.3346448783993721, validation loss: 0.6298641391620514, in 0:00:06.785662\n",
            "Epoch: 14, training loss: 0.3231841528058052, validation loss: 0.6658839562516303, in 0:00:07.515513\n",
            "Epoch: 15, training loss: 0.3034434215903282, validation loss: 0.6800911242415191, in 0:00:07.048846\n",
            "Epoch: 16, training loss: 0.26133790167570115, validation loss: 0.6735928817919106, in 0:00:06.802957\n",
            "Epoch: 17, training loss: 0.305322946870327, validation loss: 0.6833266600681718, in 0:00:06.826494\n",
            "Epoch: 18, training loss: 0.22297917841672898, validation loss: 0.7305164101776803, in 0:00:07.025914\n",
            "Epoch: 19, training loss: 0.2343456299930811, validation loss: 0.6774001564759358, in 0:00:07.751784\n"
          ]
        }
      ],
      "source": [
        "train_losses, valid_losses, model = train(model, criterion, optimizer, 20, train_gen, valid_gen)"
      ]
    },
    {
      "cell_type": "markdown",
      "metadata": {
        "id": "yxPEQ61qP-Wc"
      },
      "source": [
        "We can look at the training and validation loss."
      ]
    },
    {
      "cell_type": "code",
      "execution_count": 33,
      "metadata": {
        "colab": {
          "base_uri": "https://localhost:8080/",
          "height": 283
        },
        "id": "VATw05GYfwNm",
        "outputId": "d44016fb-4d56-4d8a-a576-f4c0dc15ae57"
      },
      "outputs": [
        {
          "output_type": "execute_result",
          "data": {
            "text/plain": [
              "<matplotlib.legend.Legend at 0x7f3dfaade350>"
            ]
          },
          "metadata": {},
          "execution_count": 33
        },
        {
          "output_type": "display_data",
          "data": {
            "text/plain": [
              "<Figure size 432x288 with 1 Axes>"
            ],
            "image/png": "[encoded data removed]"
          },
          "metadata": {
            "needs_background": "light"
          }
        }
      ],
      "source": [
        "plt.plot(train_losses, label=\"Training loss\")\n",
        "plt.plot(valid_losses, label=\"Validation loss\")\n",
        "plt.legend()"
      ]
    },
    {
      "cell_type": "markdown",
      "metadata": {
        "id": "FYRlo1XcP-Wd"
      },
      "source": [
        "For the assignment, code the following.\n",
        "* **(2 points)** The model validation loss should go down and then up. It means the model starts overfitting after a certain number of iterations. Modify the `train` function so it returns the model found with the best validation loss.\n",
        "* **(2 points)** Add an accuracy function and report the accuracy of the training and test set.\n",
        "* **(3 points)** Create an LSTM class which uses an LSTM instead of an RNN. Compare its results with the RNN.\n",
        "* **(2 point)** Implement a function which takes any text and return the model's prediction.\n",
        "    * The function should have a string as input and return a class (0 or 1) and its probability (score out of a [sigmoid](https://pytorch.org/docs/stable/generated/torch.sigmoid.html)).\n",
        "    * Don't forget to make the text go through the same pretreatment and encoding you used to train your model.\n",
        "* **(3 points)** Create a bidirectional LSTM (BiLSTM) class to classify your sentences. Report the accuracy on the training and test data.\n",
        "    * To combine the last output of both direction, you can concatenate, add, or max-pool them. Please document your choice.\n",
        "* **(1 point)** With your best classifier, look at two wrongly classified examples on the test set. Try explaining why the model was wrong.\n",
        "* **(Bonus)** Try finding better hyperparameters (dimensions, number of layers, ...). Document your experiments and results."
      ]
    },
    {
      "cell_type": "markdown",
      "metadata": {
        "id": "f64rR5mRn5sw"
      },
      "source": [
        "##Question 1: The model validation loss should go down and then up. It means the model starts overfitting after a certain number of iterations. Modify the train function so it returns the model found with the best validation loss."
      ]
    },
    {
      "cell_type": "code",
      "execution_count": 34,
      "metadata": {
        "id": "0fgKubbroC-q"
      },
      "outputs": [],
      "source": [
        "import copy\n",
        "def train(\n",
        "    model: nn.Module,\n",
        "    criterion: Callable,\n",
        "    optimizier: torch.optim.Optimizer,\n",
        "    n_epochs: int,\n",
        "    train_gen: Callable,\n",
        "    valid_gen: Callable,\n",
        ") -> Tuple[List[float], List[float], nn.Module]:\n",
        "    \"\"\"Train a model using a batch gradient descent.\n",
        "    Args:\n",
        "        model: a class inheriting from nn.Module.\n",
        "        criterion: a loss criterion.\n",
        "        optimizer: an optimizer (e.g. Adam, RMSprop, ...).\n",
        "        n_epochs: the number of training epochs.\n",
        "        train_gen: a callable function returing a batch (data, labels).\n",
        "        valid_gen: a callable function returing a batch (data, labels).\n",
        "    \"\"\"\n",
        "    train_losses = np.zeros(n_epochs)\n",
        "    valid_losses = np.zeros(n_epochs)\n",
        "    best_valid_loss = float(\"inf\")\n",
        "    best_model = None\n",
        "    for epoch in range(n_epochs):\n",
        "        t0 = datetime.now()\n",
        "        model.train()\n",
        "        train_loss = []\n",
        "        # Training loop.\n",
        "        for inputs, labels in train_gen():\n",
        "            # labels are of dimension (N,) we turn them into (N, 1).\n",
        "            labels = labels.view(-1, 1).float()\n",
        "            # Put them on the GPU.\n",
        "            inputs, labels = inputs.to(device), labels.to(device)\n",
        "\n",
        "            # Reset the gradient.\n",
        "            optimizer.zero_grad()\n",
        "\n",
        "            outputs = model(inputs)\n",
        "            loss = criterion(outputs, labels)\n",
        "            loss.backward()\n",
        "            optimizier.step()\n",
        "\n",
        "            train_loss.append(loss.item())  # .item() detach the value from GPU.\n",
        "        train_losses[epoch] = np.mean(train_loss)\n",
        "        model.eval()\n",
        "        valid_loss = []\n",
        "        # Evaluation loop.\n",
        "        for inputs, labels in valid_gen():\n",
        "            labels = labels.view(-1, 1).float()\n",
        "            inputs, labels = inputs.to(device), labels.to(device)\n",
        "            outputs = model(inputs)\n",
        "            loss = criterion(outputs, labels)\n",
        "            valid_loss.append(loss.item())\n",
        "            \n",
        "        valid_losses[epoch] = np.mean(valid_loss)\n",
        "        print(f\"Epoch: {epoch}, training loss: {train_losses[epoch]}, validation loss: {valid_losses[epoch]}, in {datetime.now() - t0}\")\n",
        "        if valid_losses[epoch] < best_valid_loss:\n",
        "          best_model = copy.deepcopy(model)\n",
        "          print(f\"Model with the best validation loss: {valid_losses[epoch]}\")\n",
        "          best_valid_loss = valid_losses[epoch]\n",
        "    return train_losses, valid_losses, best_model"
      ]
    },
    {
      "cell_type": "markdown",
      "metadata": {
        "id": "TmgBHmxaoV9k"
      },
      "source": [
        "Best_model is the RNN model that has the best validation loss"
      ]
    },
    {
      "cell_type": "code",
      "execution_count": 35,
      "metadata": {
        "colab": {
          "base_uri": "https://localhost:8080/"
        },
        "id": "pKunVHQHoTaL",
        "outputId": "c301a9b6-2473-452f-d083-fa7e9988ed9b"
      },
      "outputs": [
        {
          "output_type": "stream",
          "name": "stdout",
          "text": [
            "Epoch: 0, training loss: 0.1989554948091507, validation loss: 0.7562962953641916, in 0:00:07.060965\n",
            "Model with the best validation loss: 0.7562962953641916\n",
            "Epoch: 1, training loss: 0.1815740795046091, validation loss: 0.7890503914303081, in 0:00:07.082810\n",
            "Epoch: 2, training loss: 0.18434253134429454, validation loss: 0.8130053386187098, in 0:00:07.051611\n",
            "Epoch: 3, training loss: 0.15494493774175644, validation loss: 0.8617750829572131, in 0:00:06.908229\n",
            "Epoch: 4, training loss: 0.25945086559057234, validation loss: 0.779954483839357, in 0:00:06.931085\n",
            "Epoch: 5, training loss: 0.1782101172685623, validation loss: 0.8397370269344111, in 0:00:07.104790\n",
            "Epoch: 6, training loss: 0.1323484861060977, validation loss: 0.8806012325985416, in 0:00:06.834449\n",
            "Epoch: 7, training loss: 0.16742823680639268, validation loss: 0.8338037880173155, in 0:00:06.910144\n",
            "Epoch: 8, training loss: 0.1267515746116638, validation loss: 0.921770131939156, in 0:00:06.946811\n",
            "Epoch: 9, training loss: 0.10643637185394764, validation loss: 0.9511379629943022, in 0:00:07.010559\n",
            "Epoch: 10, training loss: 0.16083922823518515, validation loss: 0.9672770659635022, in 0:00:06.890279\n",
            "Epoch: 11, training loss: 0.09718861813247204, validation loss: 1.0200154538367205, in 0:00:06.950745\n",
            "Epoch: 12, training loss: 0.08638355599194765, validation loss: 1.0458749344774112, in 0:00:06.838634\n",
            "Epoch: 13, training loss: 0.08089411783367395, validation loss: 1.1243941478288857, in 0:00:06.961596\n",
            "Epoch: 14, training loss: 0.07237473125308752, validation loss: 1.1416595654123147, in 0:00:06.835864\n",
            "Epoch: 15, training loss: 0.06733500202149152, validation loss: 1.1945887305744134, in 0:00:06.820753\n",
            "Epoch: 16, training loss: 0.07477858599685132, validation loss: 1.3597887340624621, in 0:00:07.132823\n",
            "Epoch: 17, training loss: 0.16935588198006152, validation loss: 1.06655982117744, in 0:00:06.984016\n",
            "Epoch: 18, training loss: 0.08850313793420791, validation loss: 1.1032804013437527, in 0:00:06.888541\n",
            "Epoch: 19, training loss: 0.053680623653158545, validation loss: 1.1974271784542472, in 0:00:11.951506\n"
          ]
        }
      ],
      "source": [
        "train_losses, valid_losses, best_model = train(model, criterion, optimizer, 20, train_gen, valid_gen)"
      ]
    },
    {
      "cell_type": "markdown",
      "metadata": {
        "id": "Z4eZSB3Ooake"
      },
      "source": [
        "##Question 2: Add an accuracy function and report the accuracy of the training and test set."
      ]
    },
    {
      "cell_type": "code",
      "execution_count": 36,
      "metadata": {
        "id": "3MwUJdH_F2rT"
      },
      "outputs": [],
      "source": [
        "def calculate_accuracy(outputs: torch.Tensor, labels: torch.Tensor, correct: int, total:int) -> Tuple[int, int]:\n",
        "  \"\"\"Calculate a model accuracy.\n",
        "    Args:\n",
        "        outputs: output of the model when given an input.\n",
        "        labels: labels element from the input batches.\n",
        "        correct: the number of correct predictions.\n",
        "        total: the number of total predictions.\n",
        "    Returns:\n",
        "        the number of correct predictions and the total number of predictions.\n",
        "    \"\"\"\n",
        "  sigmoid = nn.Sigmoid()\n",
        "  treated = sigmoid(outputs)\n",
        "  prob = (treated > 0.5).float()\n",
        "  total += labels.size(0)\n",
        "  correct += (prob == labels).sum().item()\n",
        "  return correct, total"
      ]
    },
    {
      "cell_type": "code",
      "execution_count": 37,
      "metadata": {
        "id": "e5FZbgwK-yoX"
      },
      "outputs": [],
      "source": [
        "import copy\n",
        "def train(\n",
        "    model: nn.Module,\n",
        "    criterion: Callable,\n",
        "    optimizier: torch.optim.Optimizer,\n",
        "    n_epochs: int,\n",
        "    train_gen: Callable,\n",
        "    valid_gen: Callable,\n",
        ") -> Tuple[List[float], List[float], nn.Module]:\n",
        "    \"\"\"Train a model using a batch gradient descent.\n",
        "    Args:\n",
        "        model: a class inheriting from nn.Module.\n",
        "        criterion: a loss criterion.\n",
        "        optimizer: an optimizer (e.g. Adam, RMSprop, ...).\n",
        "        n_epochs: the number of training epochs.\n",
        "        train_gen: a callable function returing a batch (data, labels).\n",
        "        valid_gen: a callable function returing a batch (data, labels).\n",
        "    \"\"\"\n",
        "    train_losses = np.zeros(n_epochs)\n",
        "    valid_losses = np.zeros(n_epochs)\n",
        "    model_accs_train = np.zeros(n_epochs)\n",
        "    model_accs_valid = np.zeros(n_epochs)\n",
        "    best_valid_loss = float(\"inf\")\n",
        "    best_model = None\n",
        "    for epoch in range(n_epochs):\n",
        "        t0 = datetime.now()\n",
        "        model.train()\n",
        "        train_loss = []\n",
        "        correct_train = 0\n",
        "        total_train = 0\n",
        "        # Training loop.\n",
        "        for inputs, labels in train_gen():\n",
        "            # labels are of dimension (N,) we turn them into (N, 1).\n",
        "            labels = labels.view(-1, 1).float()\n",
        "            # Put them on the GPU.\n",
        "            inputs, labels = inputs.to(device), labels.to(device)\n",
        "\n",
        "            # Reset the gradient.\n",
        "            optimizer.zero_grad()\n",
        "\n",
        "            outputs = model(inputs)\n",
        "            loss = criterion(outputs, labels)\n",
        "            loss.backward()\n",
        "            optimizier.step()\n",
        "\n",
        "            train_loss.append(loss.item())  # .item() detach the value from GPU.\n",
        "            #Calculate accuracy of the model\n",
        "            correct_train, total_train = calculate_accuracy(outputs, labels, correct_train, total_train)      \n",
        "        train_losses[epoch] = np.mean(train_loss)\n",
        "        model_accs_train[epoch] = 100 * correct_train / total_train\n",
        "\n",
        "        model.eval()\n",
        "        valid_loss = []\n",
        "        acc = None\n",
        "        \n",
        "        correct_valid = 0\n",
        "        total_valid = 0\n",
        "        # Evaluation loop.\n",
        "        for inputs, labels in valid_gen():\n",
        "            labels = labels.view(-1, 1).float()\n",
        "            inputs, labels = inputs.to(device), labels.to(device)\n",
        "            outputs = model(inputs)\n",
        "            loss = criterion(outputs, labels)\n",
        "            valid_loss.append(loss.item())\n",
        "      \n",
        "            #Calculate accuracy of the model\n",
        "            correct_valid, total_valid = calculate_accuracy(outputs, labels, correct_valid, total_valid)\n",
        "\n",
        "        valid_losses[epoch] = np.mean(valid_loss)\n",
        "        model_accs_valid[epoch] = 100 * correct_valid / total_valid\n",
        "        print(f\"Epoch: {epoch}, training loss: {train_losses[epoch]}, accuracy of training: {model_accs_train[epoch]}, validation loss: {valid_losses[epoch]}, accuracy of validation: {model_accs_valid[epoch]}, in {datetime.now() - t0}\")\n",
        "        if valid_losses[epoch] < best_valid_loss:\n",
        "          best_model = copy.deepcopy(model)\n",
        "          print(f\"Model with the best validation loss: {valid_losses[epoch]}\")\n",
        "          best_valid_loss = valid_losses[epoch]\n",
        "    return train_losses, valid_losses, best_model"
      ]
    },
    {
      "cell_type": "markdown",
      "metadata": {
        "id": "Fi-GDOeFo1yk"
      },
      "source": [
        "## Question 3: Create an LSTM class which uses an LSTM instead of an RNN. Compare its results with the RNN."
      ]
    },
    {
      "cell_type": "markdown",
      "metadata": {
        "id": "Wlh1b6XlmlP5"
      },
      "source": [
        "LSTM model"
      ]
    },
    {
      "cell_type": "code",
      "execution_count": 38,
      "metadata": {
        "colab": {
          "base_uri": "https://localhost:8080/"
        },
        "id": "4xqJ2xFeqQk1",
        "outputId": "584c39b2-0fe0-48fd-aab9-9bd874dff58f"
      },
      "outputs": [
        {
          "output_type": "stream",
          "name": "stderr",
          "text": [
            "/usr/local/lib/python3.7/dist-packages/torch/nn/modules/rnn.py:65: UserWarning: dropout option adds dropout after all but last recurrent layer, so non-zero dropout expects num_layers greater than 1, but got dropout=0.2 and num_layers=1\n",
            "  \"num_layers={}\".format(dropout, num_layers))\n"
          ]
        }
      ],
      "source": [
        "from lstm import LSTM\n",
        "\n",
        "model_lstm = LSTM(len(vocabulary), 32, 64, 1, 1, device).to(device)\n",
        "criterion = nn.BCEWithLogitsLoss()\n",
        "optimizer = torch.optim.Adam(model_lstm.parameters())"
      ]
    },
    {
      "cell_type": "code",
      "execution_count": 39,
      "metadata": {
        "colab": {
          "base_uri": "https://localhost:8080/"
        },
        "id": "9b0lmRcQLgmU",
        "outputId": "bbbc241d-91d7-478b-89f8-82425bed9959"
      },
      "outputs": [
        {
          "output_type": "stream",
          "name": "stdout",
          "text": [
            "Epoch: 0, training loss: 0.6590344476222992, accuracy of training: 59.325, validation loss: 0.6333385079529634, accuracy of validation: 66.14, in 0:00:07.377826\n",
            "Model with the best validation loss: 0.6333385079529634\n",
            "Epoch: 1, training loss: 0.5397572060585022, accuracy of training: 73.455, validation loss: 0.5120631110895971, accuracy of validation: 75.38, in 0:00:07.245614\n",
            "Model with the best validation loss: 0.5120631110895971\n",
            "Epoch: 2, training loss: 0.4700545117139816, accuracy of training: 77.545, validation loss: 0.4742074669546382, accuracy of validation: 78.24, in 0:00:07.129065\n",
            "Model with the best validation loss: 0.4742074669546382\n",
            "Epoch: 3, training loss: 0.41156039941310885, accuracy of training: 81.07, validation loss: 0.5312530136412117, accuracy of validation: 73.64, in 0:00:07.141634\n",
            "Epoch: 4, training loss: 0.3353671432852745, accuracy of training: 86.155, validation loss: 0.4573814408604506, accuracy of validation: 81.16, in 0:00:07.266184\n",
            "Model with the best validation loss: 0.4573814408604506\n",
            "Epoch: 5, training loss: 0.39988166490793225, accuracy of training: 82.33, validation loss: 0.5052063681517437, accuracy of validation: 76.2, in 0:00:07.214199\n",
            "Epoch: 6, training loss: 0.277158132442832, accuracy of training: 89.05, validation loss: 0.40036213825083083, accuracy of validation: 83.28, in 0:00:07.129927\n",
            "Model with the best validation loss: 0.40036213825083083\n",
            "Epoch: 7, training loss: 0.20967414347529412, accuracy of training: 92.28, validation loss: 0.4081965860477678, accuracy of validation: 84.0, in 0:00:07.101999\n",
            "Epoch: 8, training loss: 0.18237969042956828, accuracy of training: 93.475, validation loss: 0.4285572977012889, accuracy of validation: 83.88, in 0:00:07.798034\n",
            "Epoch: 9, training loss: 0.14794126096367835, accuracy of training: 94.93, validation loss: 0.43414443377761325, accuracy of validation: 83.5, in 0:00:07.563199\n",
            "Epoch: 10, training loss: 0.12899584705904127, accuracy of training: 95.68, validation loss: 0.5331433401650684, accuracy of validation: 82.62, in 0:00:07.156543\n",
            "Epoch: 11, training loss: 0.10424103370457888, accuracy of training: 96.69, validation loss: 0.46886328114255976, accuracy of validation: 83.78, in 0:00:07.171276\n",
            "Epoch: 12, training loss: 0.08778651310503482, accuracy of training: 97.245, validation loss: 0.5309199297883708, accuracy of validation: 82.92, in 0:00:07.293384\n",
            "Epoch: 13, training loss: 0.07362280760966242, accuracy of training: 97.625, validation loss: 0.5790110605347688, accuracy of validation: 84.42, in 0:00:07.140978\n",
            "Epoch: 14, training loss: 0.05097456983700395, accuracy of training: 98.485, validation loss: 0.6788677605948631, accuracy of validation: 83.34, in 0:00:07.045597\n",
            "Epoch: 15, training loss: 0.08360982378460467, accuracy of training: 97.13, validation loss: 0.5789769840230987, accuracy of validation: 83.3, in 0:00:07.087074\n",
            "Epoch: 16, training loss: 0.055360316655412314, accuracy of training: 98.295, validation loss: 0.6023233599818436, accuracy of validation: 84.32, in 0:00:07.319641\n",
            "Epoch: 17, training loss: 0.039596664150059226, accuracy of training: 98.85, validation loss: 0.6048630456303715, accuracy of validation: 82.8, in 0:00:07.188794\n",
            "Epoch: 18, training loss: 0.03512368271881715, accuracy of training: 99.075, validation loss: 0.7337040285680704, accuracy of validation: 84.64, in 0:00:07.056188\n",
            "Epoch: 19, training loss: 0.022164965604152532, accuracy of training: 99.385, validation loss: 0.7678603318899537, accuracy of validation: 84.52, in 0:00:07.047447\n"
          ]
        }
      ],
      "source": [
        "train_losses, valid_losses, model_lstm = train(model_lstm, criterion, optimizer, 20, train_gen, valid_gen)"
      ]
    },
    {
      "cell_type": "markdown",
      "metadata": {
        "id": "7S7n1Jafo-u_"
      },
      "source": [
        "##Question 4: Implement a function which takes any text and return the model's prediction.\n",
        "*   The function should have a string as input and return a class (0 or 1) and its probability (score out of a sigmoid).\n",
        "*   Don't forget to make the text go through the same pretreatment and encoding you used to train your model."
      ]
    },
    {
      "cell_type": "markdown",
      "metadata": {
        "id": "MLSbj0mknKHI"
      },
      "source": [
        "The predict function will take a sentence and the model that we want to predict with. The function will output the scores of the text out of sigmoid and the model final prediction."
      ]
    },
    {
      "cell_type": "code",
      "execution_count": 40,
      "metadata": {
        "id": "uJcvnFz6LimQ"
      },
      "outputs": [],
      "source": [
        "def predict(sentence: str, model: nn.Module) -> Tuple[float, float]:\n",
        "    treated_sentence = pretreatment(sentence)\n",
        "    treated_sentence = encode_text(treated_sentence)\n",
        "    treated_sentence = np.reshape(treated_sentence, (1, len(treated_sentence)))\n",
        "    treated_sentence = torch.from_numpy(treated_sentence).to(device)\n",
        "    output = model(treated_sentence)\n",
        "    activation = nn.Sigmoid()\n",
        "    activated  = activation(output)\n",
        "    print(\"Scores out of sigmoid: \" + str(activated.item()) + \", \" + \"Return value: \" + str((activated > 0.5).float().item()))\n",
        "    return activated.item(), (activated > 0.5).float().item()"
      ]
    },
    {
      "cell_type": "code",
      "execution_count": 41,
      "metadata": {
        "colab": {
          "base_uri": "https://localhost:8080/"
        },
        "id": "IdNaOkR7UFq6",
        "outputId": "31edaa94-22f6-4b80-b112-899e97a4052b"
      },
      "outputs": [
        {
          "output_type": "stream",
          "name": "stdout",
          "text": [
            "Scores out of sigmoid: 0.9823507070541382, Return value: 1.0\n"
          ]
        },
        {
          "output_type": "execute_result",
          "data": {
            "text/plain": [
              "(0.9823507070541382, 1.0)"
            ]
          },
          "metadata": {},
          "execution_count": 41
        }
      ],
      "source": [
        "predict(\"<h><\\h>Hello, how are you ?\", model)"
      ]
    },
    {
      "cell_type": "markdown",
      "metadata": {
        "id": "BOri8qc4pkYb"
      },
      "source": [
        "## Question 5: Create a bidirectional LSTM (BiLSTM) class to classify your sentences. Report the accuracy on the training and test data.\n",
        "*   To combine the last output of both direction, you can concatenate, add, or max-pool them. Please document your choice."
      ]
    },
    {
      "cell_type": "markdown",
      "metadata": {
        "id": "rPsvsN97nqjq"
      },
      "source": [
        "BiLSTM model\n",
        "- Here we tried several method to linearize the output including:\n",
        "    - Max-pool\n",
        "    - Concatenation\n",
        "    - Addition\n",
        "    \n",
        "- Through 3 methods, we found that for this setup concatenation give the highest accuracy and that's why it is kept for the purpose of running the model."
      ]
    },
    {
      "cell_type": "code",
      "source": [
        "from bilstm import BiLSTM"
      ],
      "metadata": {
        "id": "gkf0UQOStL1R"
      },
      "execution_count": 42,
      "outputs": []
    },
    {
      "cell_type": "code",
      "execution_count": 43,
      "metadata": {
        "id": "_MRVv1kzTGYL"
      },
      "outputs": [],
      "source": [
        "model_bilstm = BiLSTM(len(vocabulary), 32, 64, 1, 1, device).to(device)\n",
        "criterion = nn.BCEWithLogitsLoss()\n",
        "optimizer = torch.optim.Adam(model_bilstm.parameters())"
      ]
    },
    {
      "cell_type": "code",
      "execution_count": 44,
      "metadata": {
        "colab": {
          "base_uri": "https://localhost:8080/"
        },
        "id": "qG0aB0uCTL-O",
        "outputId": "da8cd46a-97a1-4d8b-bee4-5004f4e1cf2a"
      },
      "outputs": [
        {
          "output_type": "stream",
          "name": "stdout",
          "text": [
            "Epoch: 0, training loss: 0.6595577551841736, accuracy of training: 59.88, validation loss: 0.6221122658176786, accuracy of validation: 67.04, in 0:00:08.777856\n",
            "Model with the best validation loss: 0.6221122658176786\n",
            "Epoch: 1, training loss: 0.5658738719463349, accuracy of training: 71.44, validation loss: 0.5236101962958172, accuracy of validation: 75.34, in 0:00:08.605369\n",
            "Model with the best validation loss: 0.5236101962958172\n",
            "Epoch: 2, training loss: 0.4927460762023926, accuracy of training: 76.81, validation loss: 0.47791073352667934, accuracy of validation: 77.98, in 0:00:09.168866\n",
            "Model with the best validation loss: 0.47791073352667934\n",
            "Epoch: 3, training loss: 0.4143142263650894, accuracy of training: 82.2, validation loss: 0.44546984601172673, accuracy of validation: 79.56, in 0:00:08.709237\n",
            "Model with the best validation loss: 0.44546984601172673\n",
            "Epoch: 4, training loss: 0.3257520399332047, accuracy of training: 86.62, validation loss: 0.4286129710970411, accuracy of validation: 81.4, in 0:00:08.767951\n",
            "Model with the best validation loss: 0.4286129710970411\n",
            "Epoch: 5, training loss: 0.2785521591544151, accuracy of training: 89.25, validation loss: 0.3955004518009295, accuracy of validation: 83.38, in 0:00:08.613848\n",
            "Model with the best validation loss: 0.3955004518009295\n",
            "Epoch: 6, training loss: 0.23367617254257203, accuracy of training: 91.3, validation loss: 0.40865610240940836, accuracy of validation: 83.32, in 0:00:08.549306\n",
            "Epoch: 7, training loss: 0.19491368068158627, accuracy of training: 93.015, validation loss: 0.4156206204395765, accuracy of validation: 84.12, in 0:00:08.666210\n",
            "Epoch: 8, training loss: 0.1608755732625723, accuracy of training: 94.405, validation loss: 0.4163372290623226, accuracy of validation: 85.18, in 0:00:08.627553\n",
            "Epoch: 9, training loss: 0.14245073511898518, accuracy of training: 95.185, validation loss: 0.4432632993360993, accuracy of validation: 83.88, in 0:00:08.560872\n",
            "Epoch: 10, training loss: 0.10869822548553347, accuracy of training: 96.625, validation loss: 0.4697639585300616, accuracy of validation: 84.58, in 0:00:08.615551\n",
            "Epoch: 11, training loss: 0.10411334277465939, accuracy of training: 96.635, validation loss: 0.5061148007275762, accuracy of validation: 84.64, in 0:00:08.843115\n",
            "Epoch: 12, training loss: 0.07081395925283432, accuracy of training: 98.015, validation loss: 0.5519095975075178, accuracy of validation: 84.8, in 0:00:08.687460\n",
            "Epoch: 13, training loss: 0.0781330233104527, accuracy of training: 97.635, validation loss: 0.5784571333106157, accuracy of validation: 77.64, in 0:00:08.634084\n",
            "Epoch: 14, training loss: 0.09117198067903519, accuracy of training: 97.125, validation loss: 0.5722520465304137, accuracy of validation: 84.46, in 0:00:08.674530\n",
            "Epoch: 15, training loss: 0.042942360106855634, accuracy of training: 98.905, validation loss: 0.6166588836557166, accuracy of validation: 84.78, in 0:00:08.720849\n",
            "Epoch: 16, training loss: 0.06688562372103334, accuracy of training: 97.905, validation loss: 0.6298476431732345, accuracy of validation: 83.68, in 0:00:08.568363\n",
            "Epoch: 17, training loss: 0.037800960584171116, accuracy of training: 98.97, validation loss: 0.6233038004357249, accuracy of validation: 84.22, in 0:00:08.634491\n",
            "Epoch: 18, training loss: 0.02290407106913626, accuracy of training: 99.465, validation loss: 0.678798869821676, accuracy of validation: 84.88, in 0:00:08.683105\n",
            "Epoch: 19, training loss: 0.021581001053284855, accuracy of training: 99.48, validation loss: 0.7662596442398562, accuracy of validation: 84.44, in 0:00:08.731935\n"
          ]
        }
      ],
      "source": [
        "train_losses, valid_losses, model_bilstm = train(model_bilstm, criterion, optimizer, 20, train_gen, valid_gen)"
      ]
    },
    {
      "cell_type": "code",
      "execution_count": 45,
      "metadata": {
        "colab": {
          "base_uri": "https://localhost:8080/"
        },
        "id": "Vt4xjM_KTUbM",
        "outputId": "32678c87-6842-41c7-a568-656e000d4795"
      },
      "outputs": [
        {
          "output_type": "stream",
          "name": "stdout",
          "text": [
            "Scores out of sigmoid: 0.5530439615249634, Return value: 1.0\n"
          ]
        },
        {
          "output_type": "stream",
          "name": "stderr",
          "text": [
            "/usr/local/lib/python3.7/dist-packages/torch/nn/modules/rnn.py:473: UserWarning: RNN module weights are not part of single contiguous chunk of memory. This means they need to be compacted at every call, possibly greatly increasing memory usage. To compact weights again call flatten_parameters(). (Triggered internally at  ../aten/src/ATen/native/cudnn/RNN.cpp:968.)\n",
            "  self.batch_first)\n"
          ]
        },
        {
          "output_type": "execute_result",
          "data": {
            "text/plain": [
              "(0.5530439615249634, 1.0)"
            ]
          },
          "metadata": {},
          "execution_count": 45
        }
      ],
      "source": [
        "predict(\"The best movie I have ever seen\", best_model)"
      ]
    },
    {
      "cell_type": "markdown",
      "metadata": {
        "id": "hS3v3Zonp2Nx"
      },
      "source": [
        "##Question 6: With your best classifier, look at two wrongly classified examples on the test set. Try explaining why the model was wrong."
      ]
    },
    {
      "cell_type": "markdown",
      "metadata": {
        "id": "RAsbQlvtzhkv"
      },
      "source": [
        "We run the model with the test set to indentify the model with the best performance"
      ]
    },
    {
      "cell_type": "code",
      "execution_count": 46,
      "metadata": {
        "id": "uqYJW_UJtU1p"
      },
      "outputs": [],
      "source": [
        "def test(\n",
        "    model: nn.Module,\n",
        "    test_gen: Callable,\n",
        ") -> float:\n",
        "    \"\"\"Calculate the model accuracy when runs with the test set.\n",
        "        Args:\n",
        "            model: the model that needs testing.\n",
        "            test_gen: a callable function returing a batch (data, labels). \n",
        "        Returns:\n",
        "            The accuracy of the model.\n",
        "    \"\"\"\n",
        "    model.eval()\n",
        "    correct = 0\n",
        "    total = 0\n",
        "    # Evaluation loop.\n",
        "    for inputs, labels in test_gen():\n",
        "        labels = labels.view(-1, 1).float()\n",
        "        inputs, labels = inputs.to(device), labels.to(device)\n",
        "        outputs = model(inputs)\n",
        "        #Calculate accuracy of the model\n",
        "        correct, total = calculate_accuracy(outputs, labels, correct, total)\n",
        "    return 100 * correct / total"
      ]
    },
    {
      "cell_type": "markdown",
      "metadata": {
        "id": "U6YeWM30zptR"
      },
      "source": [
        "We can see from the result that the LSTM model is the best model out of all three"
      ]
    },
    {
      "cell_type": "code",
      "execution_count": 47,
      "metadata": {
        "colab": {
          "base_uri": "https://localhost:8080/"
        },
        "id": "IYoKWfLvxo5j",
        "outputId": "26d3f851-95bd-4e3f-8603-20f18f07c329"
      },
      "outputs": [
        {
          "output_type": "stream",
          "name": "stdout",
          "text": [
            "RNN Model accuracy: 73.628\n"
          ]
        },
        {
          "output_type": "stream",
          "name": "stderr",
          "text": [
            "/usr/local/lib/python3.7/dist-packages/torch/nn/modules/rnn.py:770: UserWarning: RNN module weights are not part of single contiguous chunk of memory. This means they need to be compacted at every call, possibly greatly increasing memory usage. To compact weights again call flatten_parameters(). (Triggered internally at  ../aten/src/ATen/native/cudnn/RNN.cpp:968.)\n",
            "  self.dropout, self.training, self.bidirectional, self.batch_first)\n"
          ]
        },
        {
          "output_type": "stream",
          "name": "stdout",
          "text": [
            "LSTM Model accuracy: 82.56\n",
            "BiLSTM Model accuracy: 83.184\n"
          ]
        }
      ],
      "source": [
        "print(f\"RNN Model accuracy: {test(best_model, test_gen)}\")\n",
        "print(f\"LSTM Model accuracy: {test(model_lstm, test_gen)}\")\n",
        "print(f\"BiLSTM Model accuracy: {test(model_bilstm, test_gen)}\")"
      ]
    },
    {
      "cell_type": "markdown",
      "metadata": {
        "id": "CZErtp5cqe5F"
      },
      "source": [
        "Accuracy of test set on stemming and removing stop words. But in our suspicion, it is more about the stemming that causes inaccuracy in the test.\n",
        "- RNN Model accuracy: 51.384\n",
        "- LSTM Model accuracy: 49.304\n",
        "- BiLSTM Model accuracy: 48.812"
      ]
    }
  ],
  "metadata": {
    "accelerator": "GPU",
    "colab": {
      "collapsed_sections": [],
      "provenance": []
    },
    "gpuClass": "standard",
    "kernelspec": {
      "display_name": "Python 3 (ipykernel)",
      "language": "python",
      "name": "python3"
    },
    "language_info": {
      "codemirror_mode": {
        "name": "ipython",
        "version": 3
      },
      "file_extension": ".py",
      "mimetype": "text/x-python",
      "name": "python",
      "nbconvert_exporter": "python",
      "pygments_lexer": "ipython3",
      "version": "3.8.10"
    },
    "widgets": {
      "application/vnd.jupyter.widget-state+json": {
        "7d09260cd0a44d0083dbbbeb4318787b": {
          "model_module": "@jupyter-widgets/controls",
          "model_name": "HBoxModel",
          "model_module_version": "1.5.0",
          "state": {
            "_dom_classes": [],
            "_model_module": "@jupyter-widgets/controls",
            "_model_module_version": "1.5.0",
            "_model_name": "HBoxModel",
            "_view_count": null,
            "_view_module": "@jupyter-widgets/controls",
            "_view_module_version": "1.5.0",
            "_view_name": "HBoxView",
            "box_style": "",
            "children": [
              "IPY_MODEL_28f4b281c3624e2e8ea00bf5867770f0",
              "IPY_MODEL_a9e327b00898435788e0a5d6425abb9b",
              "IPY_MODEL_98796adccfe749748486f811bad63bab"
            ],
            "layout": "IPY_MODEL_1b4f1ff333004b0c9391009db05ca82d"
          }
        },
        "28f4b281c3624e2e8ea00bf5867770f0": {
          "model_module": "@jupyter-widgets/controls",
          "model_name": "HTMLModel",
          "model_module_version": "1.5.0",
          "state": {
            "_dom_classes": [],
            "_model_module": "@jupyter-widgets/controls",
            "_model_module_version": "1.5.0",
            "_model_name": "HTMLModel",
            "_view_count": null,
            "_view_module": "@jupyter-widgets/controls",
            "_view_module_version": "1.5.0",
            "_view_name": "HTMLView",
            "description": "",
            "description_tooltip": null,
            "layout": "IPY_MODEL_0b02a0c469cb4d48b72f250ee33f2a72",
            "placeholder": "​",
            "style": "IPY_MODEL_811c795028414dc48868d64d9e0fbe99",
            "value": "100%"
          }
        },
        "a9e327b00898435788e0a5d6425abb9b": {
          "model_module": "@jupyter-widgets/controls",
          "model_name": "FloatProgressModel",
          "model_module_version": "1.5.0",
          "state": {
            "_dom_classes": [],
            "_model_module": "@jupyter-widgets/controls",
            "_model_module_version": "1.5.0",
            "_model_name": "FloatProgressModel",
            "_view_count": null,
            "_view_module": "@jupyter-widgets/controls",
            "_view_module_version": "1.5.0",
            "_view_name": "ProgressView",
            "bar_style": "success",
            "description": "",
            "description_tooltip": null,
            "layout": "IPY_MODEL_5ac80cd153194513b1f54977d4d01b3c",
            "max": 3,
            "min": 0,
            "orientation": "horizontal",
            "style": "IPY_MODEL_4222ecf762144e7891616da841f76569",
            "value": 3
          }
        },
        "98796adccfe749748486f811bad63bab": {
          "model_module": "@jupyter-widgets/controls",
          "model_name": "HTMLModel",
          "model_module_version": "1.5.0",
          "state": {
            "_dom_classes": [],
            "_model_module": "@jupyter-widgets/controls",
            "_model_module_version": "1.5.0",
            "_model_name": "HTMLModel",
            "_view_count": null,
            "_view_module": "@jupyter-widgets/controls",
            "_view_module_version": "1.5.0",
            "_view_name": "HTMLView",
            "description": "",
            "description_tooltip": null,
            "layout": "IPY_MODEL_108e0287b26c4639b4d7f3025f45b7de",
            "placeholder": "​",
            "style": "IPY_MODEL_62aa1c8b72f04fe2b9f2094e0e5f926e",
            "value": " 3/3 [00:00&lt;00:00, 38.26it/s]"
          }
        },
        "1b4f1ff333004b0c9391009db05ca82d": {
          "model_module": "@jupyter-widgets/base",
          "model_name": "LayoutModel",
          "model_module_version": "1.2.0",
          "state": {
            "_model_module": "@jupyter-widgets/base",
            "_model_module_version": "1.2.0",
            "_model_name": "LayoutModel",
            "_view_count": null,
            "_view_module": "@jupyter-widgets/base",
            "_view_module_version": "1.2.0",
            "_view_name": "LayoutView",
            "align_content": null,
            "align_items": null,
            "align_self": null,
            "border": null,
            "bottom": null,
            "display": null,
            "flex": null,
            "flex_flow": null,
            "grid_area": null,
            "grid_auto_columns": null,
            "grid_auto_flow": null,
            "grid_auto_rows": null,
            "grid_column": null,
            "grid_gap": null,
            "grid_row": null,
            "grid_template_areas": null,
            "grid_template_columns": null,
            "grid_template_rows": null,
            "height": null,
            "justify_content": null,
            "justify_items": null,
            "left": null,
            "margin": null,
            "max_height": null,
            "max_width": null,
            "min_height": null,
            "min_width": null,
            "object_fit": null,
            "object_position": null,
            "order": null,
            "overflow": null,
            "overflow_x": null,
            "overflow_y": null,
            "padding": null,
            "right": null,
            "top": null,
            "visibility": null,
            "width": null
          }
        },
        "0b02a0c469cb4d48b72f250ee33f2a72": {
          "model_module": "@jupyter-widgets/base",
          "model_name": "LayoutModel",
          "model_module_version": "1.2.0",
          "state": {
            "_model_module": "@jupyter-widgets/base",
            "_model_module_version": "1.2.0",
            "_model_name": "LayoutModel",
            "_view_count": null,
            "_view_module": "@jupyter-widgets/base",
            "_view_module_version": "1.2.0",
            "_view_name": "LayoutView",
            "align_content": null,
            "align_items": null,
            "align_self": null,
            "border": null,
            "bottom": null,
            "display": null,
            "flex": null,
            "flex_flow": null,
            "grid_area": null,
            "grid_auto_columns": null,
            "grid_auto_flow": null,
            "grid_auto_rows": null,
            "grid_column": null,
            "grid_gap": null,
            "grid_row": null,
            "grid_template_areas": null,
            "grid_template_columns": null,
            "grid_template_rows": null,
            "height": null,
            "justify_content": null,
            "justify_items": null,
            "left": null,
            "margin": null,
            "max_height": null,
            "max_width": null,
            "min_height": null,
            "min_width": null,
            "object_fit": null,
            "object_position": null,
            "order": null,
            "overflow": null,
            "overflow_x": null,
            "overflow_y": null,
            "padding": null,
            "right": null,
            "top": null,
            "visibility": null,
            "width": null
          }
        },
        "811c795028414dc48868d64d9e0fbe99": {
          "model_module": "@jupyter-widgets/controls",
          "model_name": "DescriptionStyleModel",
          "model_module_version": "1.5.0",
          "state": {
            "_model_module": "@jupyter-widgets/controls",
            "_model_module_version": "1.5.0",
            "_model_name": "DescriptionStyleModel",
            "_view_count": null,
            "_view_module": "@jupyter-widgets/base",
            "_view_module_version": "1.2.0",
            "_view_name": "StyleView",
            "description_width": ""
          }
        },
        "5ac80cd153194513b1f54977d4d01b3c": {
          "model_module": "@jupyter-widgets/base",
          "model_name": "LayoutModel",
          "model_module_version": "1.2.0",
          "state": {
            "_model_module": "@jupyter-widgets/base",
            "_model_module_version": "1.2.0",
            "_model_name": "LayoutModel",
            "_view_count": null,
            "_view_module": "@jupyter-widgets/base",
            "_view_module_version": "1.2.0",
            "_view_name": "LayoutView",
            "align_content": null,
            "align_items": null,
            "align_self": null,
            "border": null,
            "bottom": null,
            "display": null,
            "flex": null,
            "flex_flow": null,
            "grid_area": null,
            "grid_auto_columns": null,
            "grid_auto_flow": null,
            "grid_auto_rows": null,
            "grid_column": null,
            "grid_gap": null,
            "grid_row": null,
            "grid_template_areas": null,
            "grid_template_columns": null,
            "grid_template_rows": null,
            "height": null,
            "justify_content": null,
            "justify_items": null,
            "left": null,
            "margin": null,
            "max_height": null,
            "max_width": null,
            "min_height": null,
            "min_width": null,
            "object_fit": null,
            "object_position": null,
            "order": null,
            "overflow": null,
            "overflow_x": null,
            "overflow_y": null,
            "padding": null,
            "right": null,
            "top": null,
            "visibility": null,
            "width": null
          }
        },
        "4222ecf762144e7891616da841f76569": {
          "model_module": "@jupyter-widgets/controls",
          "model_name": "ProgressStyleModel",
          "model_module_version": "1.5.0",
          "state": {
            "_model_module": "@jupyter-widgets/controls",
            "_model_module_version": "1.5.0",
            "_model_name": "ProgressStyleModel",
            "_view_count": null,
            "_view_module": "@jupyter-widgets/base",
            "_view_module_version": "1.2.0",
            "_view_name": "StyleView",
            "bar_color": null,
            "description_width": ""
          }
        },
        "108e0287b26c4639b4d7f3025f45b7de": {
          "model_module": "@jupyter-widgets/base",
          "model_name": "LayoutModel",
          "model_module_version": "1.2.0",
          "state": {
            "_model_module": "@jupyter-widgets/base",
            "_model_module_version": "1.2.0",
            "_model_name": "LayoutModel",
            "_view_count": null,
            "_view_module": "@jupyter-widgets/base",
            "_view_module_version": "1.2.0",
            "_view_name": "LayoutView",
            "align_content": null,
            "align_items": null,
            "align_self": null,
            "border": null,
            "bottom": null,
            "display": null,
            "flex": null,
            "flex_flow": null,
            "grid_area": null,
            "grid_auto_columns": null,
            "grid_auto_flow": null,
            "grid_auto_rows": null,
            "grid_column": null,
            "grid_gap": null,
            "grid_row": null,
            "grid_template_areas": null,
            "grid_template_columns": null,
            "grid_template_rows": null,
            "height": null,
            "justify_content": null,
            "justify_items": null,
            "left": null,
            "margin": null,
            "max_height": null,
            "max_width": null,
            "min_height": null,
            "min_width": null,
            "object_fit": null,
            "object_position": null,
            "order": null,
            "overflow": null,
            "overflow_x": null,
            "overflow_y": null,
            "padding": null,
            "right": null,
            "top": null,
            "visibility": null,
            "width": null
          }
        },
        "62aa1c8b72f04fe2b9f2094e0e5f926e": {
          "model_module": "@jupyter-widgets/controls",
          "model_name": "DescriptionStyleModel",
          "model_module_version": "1.5.0",
          "state": {
            "_model_module": "@jupyter-widgets/controls",
            "_model_module_version": "1.5.0",
            "_model_name": "DescriptionStyleModel",
            "_view_count": null,
            "_view_module": "@jupyter-widgets/base",
            "_view_module_version": "1.2.0",
            "_view_name": "StyleView",
            "description_width": ""
          }
        },
        "515af1d9d52d4967a2dcdb5801450f77": {
          "model_module": "@jupyter-widgets/controls",
          "model_name": "HBoxModel",
          "model_module_version": "1.5.0",
          "state": {
            "_dom_classes": [],
            "_model_module": "@jupyter-widgets/controls",
            "_model_module_version": "1.5.0",
            "_model_name": "HBoxModel",
            "_view_count": null,
            "_view_module": "@jupyter-widgets/controls",
            "_view_module_version": "1.5.0",
            "_view_name": "HBoxView",
            "box_style": "",
            "children": [
              "IPY_MODEL_7c479ccc20e24c4c8a21f936e8c5f860",
              "IPY_MODEL_5503df522e2046c085c186a40ca398aa",
              "IPY_MODEL_d65261957b254cd2b2acb646cdaf0820"
            ],
            "layout": "IPY_MODEL_91d2abfb37294c43a0f74dc3b4fd753a"
          }
        },
        "7c479ccc20e24c4c8a21f936e8c5f860": {
          "model_module": "@jupyter-widgets/controls",
          "model_name": "HTMLModel",
          "model_module_version": "1.5.0",
          "state": {
            "_dom_classes": [],
            "_model_module": "@jupyter-widgets/controls",
            "_model_module_version": "1.5.0",
            "_model_name": "HTMLModel",
            "_view_count": null,
            "_view_module": "@jupyter-widgets/controls",
            "_view_module_version": "1.5.0",
            "_view_name": "HTMLView",
            "description": "",
            "description_tooltip": null,
            "layout": "IPY_MODEL_9e62700403f047af829b5bbf2a96348f",
            "placeholder": "​",
            "style": "IPY_MODEL_c3f82bbaeb564278bf9cd1cccdfbafbb",
            "value": "100%"
          }
        },
        "5503df522e2046c085c186a40ca398aa": {
          "model_module": "@jupyter-widgets/controls",
          "model_name": "FloatProgressModel",
          "model_module_version": "1.5.0",
          "state": {
            "_dom_classes": [],
            "_model_module": "@jupyter-widgets/controls",
            "_model_module_version": "1.5.0",
            "_model_name": "FloatProgressModel",
            "_view_count": null,
            "_view_module": "@jupyter-widgets/controls",
            "_view_module_version": "1.5.0",
            "_view_name": "ProgressView",
            "bar_style": "success",
            "description": "",
            "description_tooltip": null,
            "layout": "IPY_MODEL_bfcf72794b3c4468aec73fe0d476c080",
            "max": 2,
            "min": 0,
            "orientation": "horizontal",
            "style": "IPY_MODEL_455ecd5ce2824470b0ec38129ffa7615",
            "value": 2
          }
        },
        "d65261957b254cd2b2acb646cdaf0820": {
          "model_module": "@jupyter-widgets/controls",
          "model_name": "HTMLModel",
          "model_module_version": "1.5.0",
          "state": {
            "_dom_classes": [],
            "_model_module": "@jupyter-widgets/controls",
            "_model_module_version": "1.5.0",
            "_model_name": "HTMLModel",
            "_view_count": null,
            "_view_module": "@jupyter-widgets/controls",
            "_view_module_version": "1.5.0",
            "_view_name": "HTMLView",
            "description": "",
            "description_tooltip": null,
            "layout": "IPY_MODEL_da0c21295f094316a582cdea73c89d12",
            "placeholder": "​",
            "style": "IPY_MODEL_9e0b5e93d58c4620b252395b2b635fdd",
            "value": " 2/2 [00:00&lt;00:00, 20.71it/s]"
          }
        },
        "91d2abfb37294c43a0f74dc3b4fd753a": {
          "model_module": "@jupyter-widgets/base",
          "model_name": "LayoutModel",
          "model_module_version": "1.2.0",
          "state": {
            "_model_module": "@jupyter-widgets/base",
            "_model_module_version": "1.2.0",
            "_model_name": "LayoutModel",
            "_view_count": null,
            "_view_module": "@jupyter-widgets/base",
            "_view_module_version": "1.2.0",
            "_view_name": "LayoutView",
            "align_content": null,
            "align_items": null,
            "align_self": null,
            "border": null,
            "bottom": null,
            "display": null,
            "flex": null,
            "flex_flow": null,
            "grid_area": null,
            "grid_auto_columns": null,
            "grid_auto_flow": null,
            "grid_auto_rows": null,
            "grid_column": null,
            "grid_gap": null,
            "grid_row": null,
            "grid_template_areas": null,
            "grid_template_columns": null,
            "grid_template_rows": null,
            "height": null,
            "justify_content": null,
            "justify_items": null,
            "left": null,
            "margin": null,
            "max_height": null,
            "max_width": null,
            "min_height": null,
            "min_width": null,
            "object_fit": null,
            "object_position": null,
            "order": null,
            "overflow": null,
            "overflow_x": null,
            "overflow_y": null,
            "padding": null,
            "right": null,
            "top": null,
            "visibility": null,
            "width": null
          }
        },
        "9e62700403f047af829b5bbf2a96348f": {
          "model_module": "@jupyter-widgets/base",
          "model_name": "LayoutModel",
          "model_module_version": "1.2.0",
          "state": {
            "_model_module": "@jupyter-widgets/base",
            "_model_module_version": "1.2.0",
            "_model_name": "LayoutModel",
            "_view_count": null,
            "_view_module": "@jupyter-widgets/base",
            "_view_module_version": "1.2.0",
            "_view_name": "LayoutView",
            "align_content": null,
            "align_items": null,
            "align_self": null,
            "border": null,
            "bottom": null,
            "display": null,
            "flex": null,
            "flex_flow": null,
            "grid_area": null,
            "grid_auto_columns": null,
            "grid_auto_flow": null,
            "grid_auto_rows": null,
            "grid_column": null,
            "grid_gap": null,
            "grid_row": null,
            "grid_template_areas": null,
            "grid_template_columns": null,
            "grid_template_rows": null,
            "height": null,
            "justify_content": null,
            "justify_items": null,
            "left": null,
            "margin": null,
            "max_height": null,
            "max_width": null,
            "min_height": null,
            "min_width": null,
            "object_fit": null,
            "object_position": null,
            "order": null,
            "overflow": null,
            "overflow_x": null,
            "overflow_y": null,
            "padding": null,
            "right": null,
            "top": null,
            "visibility": null,
            "width": null
          }
        },
        "c3f82bbaeb564278bf9cd1cccdfbafbb": {
          "model_module": "@jupyter-widgets/controls",
          "model_name": "DescriptionStyleModel",
          "model_module_version": "1.5.0",
          "state": {
            "_model_module": "@jupyter-widgets/controls",
            "_model_module_version": "1.5.0",
            "_model_name": "DescriptionStyleModel",
            "_view_count": null,
            "_view_module": "@jupyter-widgets/base",
            "_view_module_version": "1.2.0",
            "_view_name": "StyleView",
            "description_width": ""
          }
        },
        "bfcf72794b3c4468aec73fe0d476c080": {
          "model_module": "@jupyter-widgets/base",
          "model_name": "LayoutModel",
          "model_module_version": "1.2.0",
          "state": {
            "_model_module": "@jupyter-widgets/base",
            "_model_module_version": "1.2.0",
            "_model_name": "LayoutModel",
            "_view_count": null,
            "_view_module": "@jupyter-widgets/base",
            "_view_module_version": "1.2.0",
            "_view_name": "LayoutView",
            "align_content": null,
            "align_items": null,
            "align_self": null,
            "border": null,
            "bottom": null,
            "display": null,
            "flex": null,
            "flex_flow": null,
            "grid_area": null,
            "grid_auto_columns": null,
            "grid_auto_flow": null,
            "grid_auto_rows": null,
            "grid_column": null,
            "grid_gap": null,
            "grid_row": null,
            "grid_template_areas": null,
            "grid_template_columns": null,
            "grid_template_rows": null,
            "height": null,
            "justify_content": null,
            "justify_items": null,
            "left": null,
            "margin": null,
            "max_height": null,
            "max_width": null,
            "min_height": null,
            "min_width": null,
            "object_fit": null,
            "object_position": null,
            "order": null,
            "overflow": null,
            "overflow_x": null,
            "overflow_y": null,
            "padding": null,
            "right": null,
            "top": null,
            "visibility": null,
            "width": null
          }
        },
        "455ecd5ce2824470b0ec38129ffa7615": {
          "model_module": "@jupyter-widgets/controls",
          "model_name": "ProgressStyleModel",
          "model_module_version": "1.5.0",
          "state": {
            "_model_module": "@jupyter-widgets/controls",
            "_model_module_version": "1.5.0",
            "_model_name": "ProgressStyleModel",
            "_view_count": null,
            "_view_module": "@jupyter-widgets/base",
            "_view_module_version": "1.2.0",
            "_view_name": "StyleView",
            "bar_color": null,
            "description_width": ""
          }
        },
        "da0c21295f094316a582cdea73c89d12": {
          "model_module": "@jupyter-widgets/base",
          "model_name": "LayoutModel",
          "model_module_version": "1.2.0",
          "state": {
            "_model_module": "@jupyter-widgets/base",
            "_model_module_version": "1.2.0",
            "_model_name": "LayoutModel",
            "_view_count": null,
            "_view_module": "@jupyter-widgets/base",
            "_view_module_version": "1.2.0",
            "_view_name": "LayoutView",
            "align_content": null,
            "align_items": null,
            "align_self": null,
            "border": null,
            "bottom": null,
            "display": null,
            "flex": null,
            "flex_flow": null,
            "grid_area": null,
            "grid_auto_columns": null,
            "grid_auto_flow": null,
            "grid_auto_rows": null,
            "grid_column": null,
            "grid_gap": null,
            "grid_row": null,
            "grid_template_areas": null,
            "grid_template_columns": null,
            "grid_template_rows": null,
            "height": null,
            "justify_content": null,
            "justify_items": null,
            "left": null,
            "margin": null,
            "max_height": null,
            "max_width": null,
            "min_height": null,
            "min_width": null,
            "object_fit": null,
            "object_position": null,
            "order": null,
            "overflow": null,
            "overflow_x": null,
            "overflow_y": null,
            "padding": null,
            "right": null,
            "top": null,
            "visibility": null,
            "width": null
          }
        },
        "9e0b5e93d58c4620b252395b2b635fdd": {
          "model_module": "@jupyter-widgets/controls",
          "model_name": "DescriptionStyleModel",
          "model_module_version": "1.5.0",
          "state": {
            "_model_module": "@jupyter-widgets/controls",
            "_model_module_version": "1.5.0",
            "_model_name": "DescriptionStyleModel",
            "_view_count": null,
            "_view_module": "@jupyter-widgets/base",
            "_view_module_version": "1.2.0",
            "_view_name": "StyleView",
            "description_width": ""
          }
        },
        "b120ee8cf3b44208a3d0e390bbb64330": {
          "model_module": "@jupyter-widgets/controls",
          "model_name": "HBoxModel",
          "model_module_version": "1.5.0",
          "state": {
            "_dom_classes": [],
            "_model_module": "@jupyter-widgets/controls",
            "_model_module_version": "1.5.0",
            "_model_name": "HBoxModel",
            "_view_count": null,
            "_view_module": "@jupyter-widgets/controls",
            "_view_module_version": "1.5.0",
            "_view_name": "HBoxView",
            "box_style": "",
            "children": [
              "IPY_MODEL_5768c3d2dd8a4e5b95330824f0c395bd",
              "IPY_MODEL_777856a349314cd3b82eaf4ff5240997",
              "IPY_MODEL_20b50511cb604827b16fdcc5811627c5"
            ],
            "layout": "IPY_MODEL_87c13b40b0c04fbcb923fc3abd7ad375"
          }
        },
        "5768c3d2dd8a4e5b95330824f0c395bd": {
          "model_module": "@jupyter-widgets/controls",
          "model_name": "HTMLModel",
          "model_module_version": "1.5.0",
          "state": {
            "_dom_classes": [],
            "_model_module": "@jupyter-widgets/controls",
            "_model_module_version": "1.5.0",
            "_model_name": "HTMLModel",
            "_view_count": null,
            "_view_module": "@jupyter-widgets/controls",
            "_view_module_version": "1.5.0",
            "_view_name": "HTMLView",
            "description": "",
            "description_tooltip": null,
            "layout": "IPY_MODEL_938067d114924f6cb6a029e9a6170fad",
            "placeholder": "​",
            "style": "IPY_MODEL_7468044bbc334d94b5166f2c5059e144",
            "value": "100%"
          }
        },
        "777856a349314cd3b82eaf4ff5240997": {
          "model_module": "@jupyter-widgets/controls",
          "model_name": "FloatProgressModel",
          "model_module_version": "1.5.0",
          "state": {
            "_dom_classes": [],
            "_model_module": "@jupyter-widgets/controls",
            "_model_module_version": "1.5.0",
            "_model_name": "FloatProgressModel",
            "_view_count": null,
            "_view_module": "@jupyter-widgets/controls",
            "_view_module_version": "1.5.0",
            "_view_name": "ProgressView",
            "bar_style": "success",
            "description": "",
            "description_tooltip": null,
            "layout": "IPY_MODEL_6740cd163a424aaf9e8c440cd7a8d86d",
            "max": 20000,
            "min": 0,
            "orientation": "horizontal",
            "style": "IPY_MODEL_e5fc4b89367d4ea3b0dafb42f580c5c2",
            "value": 20000
          }
        },
        "20b50511cb604827b16fdcc5811627c5": {
          "model_module": "@jupyter-widgets/controls",
          "model_name": "HTMLModel",
          "model_module_version": "1.5.0",
          "state": {
            "_dom_classes": [],
            "_model_module": "@jupyter-widgets/controls",
            "_model_module_version": "1.5.0",
            "_model_name": "HTMLModel",
            "_view_count": null,
            "_view_module": "@jupyter-widgets/controls",
            "_view_module_version": "1.5.0",
            "_view_name": "HTMLView",
            "description": "",
            "description_tooltip": null,
            "layout": "IPY_MODEL_84f8c5f1d2c74e3c8d78ccdc5c222b02",
            "placeholder": "​",
            "style": "IPY_MODEL_6db557d25faa4e5abc561e6e3aee9fab",
            "value": " 20000/20000 [00:08&lt;00:00, 3835.27ex/s]"
          }
        },
        "87c13b40b0c04fbcb923fc3abd7ad375": {
          "model_module": "@jupyter-widgets/base",
          "model_name": "LayoutModel",
          "model_module_version": "1.2.0",
          "state": {
            "_model_module": "@jupyter-widgets/base",
            "_model_module_version": "1.2.0",
            "_model_name": "LayoutModel",
            "_view_count": null,
            "_view_module": "@jupyter-widgets/base",
            "_view_module_version": "1.2.0",
            "_view_name": "LayoutView",
            "align_content": null,
            "align_items": null,
            "align_self": null,
            "border": null,
            "bottom": null,
            "display": null,
            "flex": null,
            "flex_flow": null,
            "grid_area": null,
            "grid_auto_columns": null,
            "grid_auto_flow": null,
            "grid_auto_rows": null,
            "grid_column": null,
            "grid_gap": null,
            "grid_row": null,
            "grid_template_areas": null,
            "grid_template_columns": null,
            "grid_template_rows": null,
            "height": null,
            "justify_content": null,
            "justify_items": null,
            "left": null,
            "margin": null,
            "max_height": null,
            "max_width": null,
            "min_height": null,
            "min_width": null,
            "object_fit": null,
            "object_position": null,
            "order": null,
            "overflow": null,
            "overflow_x": null,
            "overflow_y": null,
            "padding": null,
            "right": null,
            "top": null,
            "visibility": null,
            "width": null
          }
        },
        "938067d114924f6cb6a029e9a6170fad": {
          "model_module": "@jupyter-widgets/base",
          "model_name": "LayoutModel",
          "model_module_version": "1.2.0",
          "state": {
            "_model_module": "@jupyter-widgets/base",
            "_model_module_version": "1.2.0",
            "_model_name": "LayoutModel",
            "_view_count": null,
            "_view_module": "@jupyter-widgets/base",
            "_view_module_version": "1.2.0",
            "_view_name": "LayoutView",
            "align_content": null,
            "align_items": null,
            "align_self": null,
            "border": null,
            "bottom": null,
            "display": null,
            "flex": null,
            "flex_flow": null,
            "grid_area": null,
            "grid_auto_columns": null,
            "grid_auto_flow": null,
            "grid_auto_rows": null,
            "grid_column": null,
            "grid_gap": null,
            "grid_row": null,
            "grid_template_areas": null,
            "grid_template_columns": null,
            "grid_template_rows": null,
            "height": null,
            "justify_content": null,
            "justify_items": null,
            "left": null,
            "margin": null,
            "max_height": null,
            "max_width": null,
            "min_height": null,
            "min_width": null,
            "object_fit": null,
            "object_position": null,
            "order": null,
            "overflow": null,
            "overflow_x": null,
            "overflow_y": null,
            "padding": null,
            "right": null,
            "top": null,
            "visibility": null,
            "width": null
          }
        },
        "7468044bbc334d94b5166f2c5059e144": {
          "model_module": "@jupyter-widgets/controls",
          "model_name": "DescriptionStyleModel",
          "model_module_version": "1.5.0",
          "state": {
            "_model_module": "@jupyter-widgets/controls",
            "_model_module_version": "1.5.0",
            "_model_name": "DescriptionStyleModel",
            "_view_count": null,
            "_view_module": "@jupyter-widgets/base",
            "_view_module_version": "1.2.0",
            "_view_name": "StyleView",
            "description_width": ""
          }
        },
        "6740cd163a424aaf9e8c440cd7a8d86d": {
          "model_module": "@jupyter-widgets/base",
          "model_name": "LayoutModel",
          "model_module_version": "1.2.0",
          "state": {
            "_model_module": "@jupyter-widgets/base",
            "_model_module_version": "1.2.0",
            "_model_name": "LayoutModel",
            "_view_count": null,
            "_view_module": "@jupyter-widgets/base",
            "_view_module_version": "1.2.0",
            "_view_name": "LayoutView",
            "align_content": null,
            "align_items": null,
            "align_self": null,
            "border": null,
            "bottom": null,
            "display": null,
            "flex": null,
            "flex_flow": null,
            "grid_area": null,
            "grid_auto_columns": null,
            "grid_auto_flow": null,
            "grid_auto_rows": null,
            "grid_column": null,
            "grid_gap": null,
            "grid_row": null,
            "grid_template_areas": null,
            "grid_template_columns": null,
            "grid_template_rows": null,
            "height": null,
            "justify_content": null,
            "justify_items": null,
            "left": null,
            "margin": null,
            "max_height": null,
            "max_width": null,
            "min_height": null,
            "min_width": null,
            "object_fit": null,
            "object_position": null,
            "order": null,
            "overflow": null,
            "overflow_x": null,
            "overflow_y": null,
            "padding": null,
            "right": null,
            "top": null,
            "visibility": null,
            "width": null
          }
        },
        "e5fc4b89367d4ea3b0dafb42f580c5c2": {
          "model_module": "@jupyter-widgets/controls",
          "model_name": "ProgressStyleModel",
          "model_module_version": "1.5.0",
          "state": {
            "_model_module": "@jupyter-widgets/controls",
            "_model_module_version": "1.5.0",
            "_model_name": "ProgressStyleModel",
            "_view_count": null,
            "_view_module": "@jupyter-widgets/base",
            "_view_module_version": "1.2.0",
            "_view_name": "StyleView",
            "bar_color": null,
            "description_width": ""
          }
        },
        "84f8c5f1d2c74e3c8d78ccdc5c222b02": {
          "model_module": "@jupyter-widgets/base",
          "model_name": "LayoutModel",
          "model_module_version": "1.2.0",
          "state": {
            "_model_module": "@jupyter-widgets/base",
            "_model_module_version": "1.2.0",
            "_model_name": "LayoutModel",
            "_view_count": null,
            "_view_module": "@jupyter-widgets/base",
            "_view_module_version": "1.2.0",
            "_view_name": "LayoutView",
            "align_content": null,
            "align_items": null,
            "align_self": null,
            "border": null,
            "bottom": null,
            "display": null,
            "flex": null,
            "flex_flow": null,
            "grid_area": null,
            "grid_auto_columns": null,
            "grid_auto_flow": null,
            "grid_auto_rows": null,
            "grid_column": null,
            "grid_gap": null,
            "grid_row": null,
            "grid_template_areas": null,
            "grid_template_columns": null,
            "grid_template_rows": null,
            "height": null,
            "justify_content": null,
            "justify_items": null,
            "left": null,
            "margin": null,
            "max_height": null,
            "max_width": null,
            "min_height": null,
            "min_width": null,
            "object_fit": null,
            "object_position": null,
            "order": null,
            "overflow": null,
            "overflow_x": null,
            "overflow_y": null,
            "padding": null,
            "right": null,
            "top": null,
            "visibility": null,
            "width": null
          }
        },
        "6db557d25faa4e5abc561e6e3aee9fab": {
          "model_module": "@jupyter-widgets/controls",
          "model_name": "DescriptionStyleModel",
          "model_module_version": "1.5.0",
          "state": {
            "_model_module": "@jupyter-widgets/controls",
            "_model_module_version": "1.5.0",
            "_model_name": "DescriptionStyleModel",
            "_view_count": null,
            "_view_module": "@jupyter-widgets/base",
            "_view_module_version": "1.2.0",
            "_view_name": "StyleView",
            "description_width": ""
          }
        },
        "9dd057ca8e8740fdbe2e5f49430da0a7": {
          "model_module": "@jupyter-widgets/controls",
          "model_name": "HBoxModel",
          "model_module_version": "1.5.0",
          "state": {
            "_dom_classes": [],
            "_model_module": "@jupyter-widgets/controls",
            "_model_module_version": "1.5.0",
            "_model_name": "HBoxModel",
            "_view_count": null,
            "_view_module": "@jupyter-widgets/controls",
            "_view_module_version": "1.5.0",
            "_view_name": "HBoxView",
            "box_style": "",
            "children": [
              "IPY_MODEL_a2e61a36d1b74d91a52f5d5f69674932",
              "IPY_MODEL_8409ab3a70a747c6b8b90a703f24e507",
              "IPY_MODEL_661c47e221d84526bfe92b816548e7bc"
            ],
            "layout": "IPY_MODEL_9a00afafda3c4cf49ff944b8b87caeb0"
          }
        },
        "a2e61a36d1b74d91a52f5d5f69674932": {
          "model_module": "@jupyter-widgets/controls",
          "model_name": "HTMLModel",
          "model_module_version": "1.5.0",
          "state": {
            "_dom_classes": [],
            "_model_module": "@jupyter-widgets/controls",
            "_model_module_version": "1.5.0",
            "_model_name": "HTMLModel",
            "_view_count": null,
            "_view_module": "@jupyter-widgets/controls",
            "_view_module_version": "1.5.0",
            "_view_name": "HTMLView",
            "description": "",
            "description_tooltip": null,
            "layout": "IPY_MODEL_02a37765c2804718a54746830d4cebb2",
            "placeholder": "​",
            "style": "IPY_MODEL_5c34bba8fe644edfb87d3dd2199da104",
            "value": "100%"
          }
        },
        "8409ab3a70a747c6b8b90a703f24e507": {
          "model_module": "@jupyter-widgets/controls",
          "model_name": "FloatProgressModel",
          "model_module_version": "1.5.0",
          "state": {
            "_dom_classes": [],
            "_model_module": "@jupyter-widgets/controls",
            "_model_module_version": "1.5.0",
            "_model_name": "FloatProgressModel",
            "_view_count": null,
            "_view_module": "@jupyter-widgets/controls",
            "_view_module_version": "1.5.0",
            "_view_name": "ProgressView",
            "bar_style": "success",
            "description": "",
            "description_tooltip": null,
            "layout": "IPY_MODEL_daeacfc68e2a48c0995a96aedbc59d9e",
            "max": 5000,
            "min": 0,
            "orientation": "horizontal",
            "style": "IPY_MODEL_6350c4813e034fc3b22773d065b3c1b9",
            "value": 5000
          }
        },
        "661c47e221d84526bfe92b816548e7bc": {
          "model_module": "@jupyter-widgets/controls",
          "model_name": "HTMLModel",
          "model_module_version": "1.5.0",
          "state": {
            "_dom_classes": [],
            "_model_module": "@jupyter-widgets/controls",
            "_model_module_version": "1.5.0",
            "_model_name": "HTMLModel",
            "_view_count": null,
            "_view_module": "@jupyter-widgets/controls",
            "_view_module_version": "1.5.0",
            "_view_name": "HTMLView",
            "description": "",
            "description_tooltip": null,
            "layout": "IPY_MODEL_44131b37d2ba40f8b84f01c29cc92fe3",
            "placeholder": "​",
            "style": "IPY_MODEL_f826cf904ccd489b90e66cf92d740117",
            "value": " 5000/5000 [00:01&lt;00:00, 4349.77ex/s]"
          }
        },
        "9a00afafda3c4cf49ff944b8b87caeb0": {
          "model_module": "@jupyter-widgets/base",
          "model_name": "LayoutModel",
          "model_module_version": "1.2.0",
          "state": {
            "_model_module": "@jupyter-widgets/base",
            "_model_module_version": "1.2.0",
            "_model_name": "LayoutModel",
            "_view_count": null,
            "_view_module": "@jupyter-widgets/base",
            "_view_module_version": "1.2.0",
            "_view_name": "LayoutView",
            "align_content": null,
            "align_items": null,
            "align_self": null,
            "border": null,
            "bottom": null,
            "display": null,
            "flex": null,
            "flex_flow": null,
            "grid_area": null,
            "grid_auto_columns": null,
            "grid_auto_flow": null,
            "grid_auto_rows": null,
            "grid_column": null,
            "grid_gap": null,
            "grid_row": null,
            "grid_template_areas": null,
            "grid_template_columns": null,
            "grid_template_rows": null,
            "height": null,
            "justify_content": null,
            "justify_items": null,
            "left": null,
            "margin": null,
            "max_height": null,
            "max_width": null,
            "min_height": null,
            "min_width": null,
            "object_fit": null,
            "object_position": null,
            "order": null,
            "overflow": null,
            "overflow_x": null,
            "overflow_y": null,
            "padding": null,
            "right": null,
            "top": null,
            "visibility": null,
            "width": null
          }
        },
        "02a37765c2804718a54746830d4cebb2": {
          "model_module": "@jupyter-widgets/base",
          "model_name": "LayoutModel",
          "model_module_version": "1.2.0",
          "state": {
            "_model_module": "@jupyter-widgets/base",
            "_model_module_version": "1.2.0",
            "_model_name": "LayoutModel",
            "_view_count": null,
            "_view_module": "@jupyter-widgets/base",
            "_view_module_version": "1.2.0",
            "_view_name": "LayoutView",
            "align_content": null,
            "align_items": null,
            "align_self": null,
            "border": null,
            "bottom": null,
            "display": null,
            "flex": null,
            "flex_flow": null,
            "grid_area": null,
            "grid_auto_columns": null,
            "grid_auto_flow": null,
            "grid_auto_rows": null,
            "grid_column": null,
            "grid_gap": null,
            "grid_row": null,
            "grid_template_areas": null,
            "grid_template_columns": null,
            "grid_template_rows": null,
            "height": null,
            "justify_content": null,
            "justify_items": null,
            "left": null,
            "margin": null,
            "max_height": null,
            "max_width": null,
            "min_height": null,
            "min_width": null,
            "object_fit": null,
            "object_position": null,
            "order": null,
            "overflow": null,
            "overflow_x": null,
            "overflow_y": null,
            "padding": null,
            "right": null,
            "top": null,
            "visibility": null,
            "width": null
          }
        },
        "5c34bba8fe644edfb87d3dd2199da104": {
          "model_module": "@jupyter-widgets/controls",
          "model_name": "DescriptionStyleModel",
          "model_module_version": "1.5.0",
          "state": {
            "_model_module": "@jupyter-widgets/controls",
            "_model_module_version": "1.5.0",
            "_model_name": "DescriptionStyleModel",
            "_view_count": null,
            "_view_module": "@jupyter-widgets/base",
            "_view_module_version": "1.2.0",
            "_view_name": "StyleView",
            "description_width": ""
          }
        },
        "daeacfc68e2a48c0995a96aedbc59d9e": {
          "model_module": "@jupyter-widgets/base",
          "model_name": "LayoutModel",
          "model_module_version": "1.2.0",
          "state": {
            "_model_module": "@jupyter-widgets/base",
            "_model_module_version": "1.2.0",
            "_model_name": "LayoutModel",
            "_view_count": null,
            "_view_module": "@jupyter-widgets/base",
            "_view_module_version": "1.2.0",
            "_view_name": "LayoutView",
            "align_content": null,
            "align_items": null,
            "align_self": null,
            "border": null,
            "bottom": null,
            "display": null,
            "flex": null,
            "flex_flow": null,
            "grid_area": null,
            "grid_auto_columns": null,
            "grid_auto_flow": null,
            "grid_auto_rows": null,
            "grid_column": null,
            "grid_gap": null,
            "grid_row": null,
            "grid_template_areas": null,
            "grid_template_columns": null,
            "grid_template_rows": null,
            "height": null,
            "justify_content": null,
            "justify_items": null,
            "left": null,
            "margin": null,
            "max_height": null,
            "max_width": null,
            "min_height": null,
            "min_width": null,
            "object_fit": null,
            "object_position": null,
            "order": null,
            "overflow": null,
            "overflow_x": null,
            "overflow_y": null,
            "padding": null,
            "right": null,
            "top": null,
            "visibility": null,
            "width": null
          }
        },
        "6350c4813e034fc3b22773d065b3c1b9": {
          "model_module": "@jupyter-widgets/controls",
          "model_name": "ProgressStyleModel",
          "model_module_version": "1.5.0",
          "state": {
            "_model_module": "@jupyter-widgets/controls",
            "_model_module_version": "1.5.0",
            "_model_name": "ProgressStyleModel",
            "_view_count": null,
            "_view_module": "@jupyter-widgets/base",
            "_view_module_version": "1.2.0",
            "_view_name": "StyleView",
            "bar_color": null,
            "description_width": ""
          }
        },
        "44131b37d2ba40f8b84f01c29cc92fe3": {
          "model_module": "@jupyter-widgets/base",
          "model_name": "LayoutModel",
          "model_module_version": "1.2.0",
          "state": {
            "_model_module": "@jupyter-widgets/base",
            "_model_module_version": "1.2.0",
            "_model_name": "LayoutModel",
            "_view_count": null,
            "_view_module": "@jupyter-widgets/base",
            "_view_module_version": "1.2.0",
            "_view_name": "LayoutView",
            "align_content": null,
            "align_items": null,
            "align_self": null,
            "border": null,
            "bottom": null,
            "display": null,
            "flex": null,
            "flex_flow": null,
            "grid_area": null,
            "grid_auto_columns": null,
            "grid_auto_flow": null,
            "grid_auto_rows": null,
            "grid_column": null,
            "grid_gap": null,
            "grid_row": null,
            "grid_template_areas": null,
            "grid_template_columns": null,
            "grid_template_rows": null,
            "height": null,
            "justify_content": null,
            "justify_items": null,
            "left": null,
            "margin": null,
            "max_height": null,
            "max_width": null,
            "min_height": null,
            "min_width": null,
            "object_fit": null,
            "object_position": null,
            "order": null,
            "overflow": null,
            "overflow_x": null,
            "overflow_y": null,
            "padding": null,
            "right": null,
            "top": null,
            "visibility": null,
            "width": null
          }
        },
        "f826cf904ccd489b90e66cf92d740117": {
          "model_module": "@jupyter-widgets/controls",
          "model_name": "DescriptionStyleModel",
          "model_module_version": "1.5.0",
          "state": {
            "_model_module": "@jupyter-widgets/controls",
            "_model_module_version": "1.5.0",
            "_model_name": "DescriptionStyleModel",
            "_view_count": null,
            "_view_module": "@jupyter-widgets/base",
            "_view_module_version": "1.2.0",
            "_view_name": "StyleView",
            "description_width": ""
          }
        },
        "7626878ddfae455d9efceeb1391f2e8e": {
          "model_module": "@jupyter-widgets/controls",
          "model_name": "HBoxModel",
          "model_module_version": "1.5.0",
          "state": {
            "_dom_classes": [],
            "_model_module": "@jupyter-widgets/controls",
            "_model_module_version": "1.5.0",
            "_model_name": "HBoxModel",
            "_view_count": null,
            "_view_module": "@jupyter-widgets/controls",
            "_view_module_version": "1.5.0",
            "_view_name": "HBoxView",
            "box_style": "",
            "children": [
              "IPY_MODEL_8c451b6468a44d728f1e78d87fa3a15c",
              "IPY_MODEL_e570988ee343415bbea624d10fb080be",
              "IPY_MODEL_10ddb5892a2e44c291afb7f24d9a5efa"
            ],
            "layout": "IPY_MODEL_34d12fdb580541baa8f3323777c15ab7"
          }
        },
        "8c451b6468a44d728f1e78d87fa3a15c": {
          "model_module": "@jupyter-widgets/controls",
          "model_name": "HTMLModel",
          "model_module_version": "1.5.0",
          "state": {
            "_dom_classes": [],
            "_model_module": "@jupyter-widgets/controls",
            "_model_module_version": "1.5.0",
            "_model_name": "HTMLModel",
            "_view_count": null,
            "_view_module": "@jupyter-widgets/controls",
            "_view_module_version": "1.5.0",
            "_view_name": "HTMLView",
            "description": "",
            "description_tooltip": null,
            "layout": "IPY_MODEL_3f5c6960387d477a9960da605f22ae6e",
            "placeholder": "​",
            "style": "IPY_MODEL_e20955ab2dbb45f88e7eadd63f359449",
            "value": "100%"
          }
        },
        "e570988ee343415bbea624d10fb080be": {
          "model_module": "@jupyter-widgets/controls",
          "model_name": "FloatProgressModel",
          "model_module_version": "1.5.0",
          "state": {
            "_dom_classes": [],
            "_model_module": "@jupyter-widgets/controls",
            "_model_module_version": "1.5.0",
            "_model_name": "FloatProgressModel",
            "_view_count": null,
            "_view_module": "@jupyter-widgets/controls",
            "_view_module_version": "1.5.0",
            "_view_name": "ProgressView",
            "bar_style": "success",
            "description": "",
            "description_tooltip": null,
            "layout": "IPY_MODEL_33d43657e1c241719007f499f09a5459",
            "max": 25000,
            "min": 0,
            "orientation": "horizontal",
            "style": "IPY_MODEL_b020b5bee6144364bbfc54b80e749233",
            "value": 25000
          }
        },
        "10ddb5892a2e44c291afb7f24d9a5efa": {
          "model_module": "@jupyter-widgets/controls",
          "model_name": "HTMLModel",
          "model_module_version": "1.5.0",
          "state": {
            "_dom_classes": [],
            "_model_module": "@jupyter-widgets/controls",
            "_model_module_version": "1.5.0",
            "_model_name": "HTMLModel",
            "_view_count": null,
            "_view_module": "@jupyter-widgets/controls",
            "_view_module_version": "1.5.0",
            "_view_name": "HTMLView",
            "description": "",
            "description_tooltip": null,
            "layout": "IPY_MODEL_7f7559f7d3224574a23250547e2a70fd",
            "placeholder": "​",
            "style": "IPY_MODEL_f14eaf6831db47f2a6c7e8e3d22922d1",
            "value": " 25000/25000 [00:05&lt;00:00, 4650.94ex/s]"
          }
        },
        "34d12fdb580541baa8f3323777c15ab7": {
          "model_module": "@jupyter-widgets/base",
          "model_name": "LayoutModel",
          "model_module_version": "1.2.0",
          "state": {
            "_model_module": "@jupyter-widgets/base",
            "_model_module_version": "1.2.0",
            "_model_name": "LayoutModel",
            "_view_count": null,
            "_view_module": "@jupyter-widgets/base",
            "_view_module_version": "1.2.0",
            "_view_name": "LayoutView",
            "align_content": null,
            "align_items": null,
            "align_self": null,
            "border": null,
            "bottom": null,
            "display": null,
            "flex": null,
            "flex_flow": null,
            "grid_area": null,
            "grid_auto_columns": null,
            "grid_auto_flow": null,
            "grid_auto_rows": null,
            "grid_column": null,
            "grid_gap": null,
            "grid_row": null,
            "grid_template_areas": null,
            "grid_template_columns": null,
            "grid_template_rows": null,
            "height": null,
            "justify_content": null,
            "justify_items": null,
            "left": null,
            "margin": null,
            "max_height": null,
            "max_width": null,
            "min_height": null,
            "min_width": null,
            "object_fit": null,
            "object_position": null,
            "order": null,
            "overflow": null,
            "overflow_x": null,
            "overflow_y": null,
            "padding": null,
            "right": null,
            "top": null,
            "visibility": null,
            "width": null
          }
        },
        "3f5c6960387d477a9960da605f22ae6e": {
          "model_module": "@jupyter-widgets/base",
          "model_name": "LayoutModel",
          "model_module_version": "1.2.0",
          "state": {
            "_model_module": "@jupyter-widgets/base",
            "_model_module_version": "1.2.0",
            "_model_name": "LayoutModel",
            "_view_count": null,
            "_view_module": "@jupyter-widgets/base",
            "_view_module_version": "1.2.0",
            "_view_name": "LayoutView",
            "align_content": null,
            "align_items": null,
            "align_self": null,
            "border": null,
            "bottom": null,
            "display": null,
            "flex": null,
            "flex_flow": null,
            "grid_area": null,
            "grid_auto_columns": null,
            "grid_auto_flow": null,
            "grid_auto_rows": null,
            "grid_column": null,
            "grid_gap": null,
            "grid_row": null,
            "grid_template_areas": null,
            "grid_template_columns": null,
            "grid_template_rows": null,
            "height": null,
            "justify_content": null,
            "justify_items": null,
            "left": null,
            "margin": null,
            "max_height": null,
            "max_width": null,
            "min_height": null,
            "min_width": null,
            "object_fit": null,
            "object_position": null,
            "order": null,
            "overflow": null,
            "overflow_x": null,
            "overflow_y": null,
            "padding": null,
            "right": null,
            "top": null,
            "visibility": null,
            "width": null
          }
        },
        "e20955ab2dbb45f88e7eadd63f359449": {
          "model_module": "@jupyter-widgets/controls",
          "model_name": "DescriptionStyleModel",
          "model_module_version": "1.5.0",
          "state": {
            "_model_module": "@jupyter-widgets/controls",
            "_model_module_version": "1.5.0",
            "_model_name": "DescriptionStyleModel",
            "_view_count": null,
            "_view_module": "@jupyter-widgets/base",
            "_view_module_version": "1.2.0",
            "_view_name": "StyleView",
            "description_width": ""
          }
        },
        "33d43657e1c241719007f499f09a5459": {
          "model_module": "@jupyter-widgets/base",
          "model_name": "LayoutModel",
          "model_module_version": "1.2.0",
          "state": {
            "_model_module": "@jupyter-widgets/base",
            "_model_module_version": "1.2.0",
            "_model_name": "LayoutModel",
            "_view_count": null,
            "_view_module": "@jupyter-widgets/base",
            "_view_module_version": "1.2.0",
            "_view_name": "LayoutView",
            "align_content": null,
            "align_items": null,
            "align_self": null,
            "border": null,
            "bottom": null,
            "display": null,
            "flex": null,
            "flex_flow": null,
            "grid_area": null,
            "grid_auto_columns": null,
            "grid_auto_flow": null,
            "grid_auto_rows": null,
            "grid_column": null,
            "grid_gap": null,
            "grid_row": null,
            "grid_template_areas": null,
            "grid_template_columns": null,
            "grid_template_rows": null,
            "height": null,
            "justify_content": null,
            "justify_items": null,
            "left": null,
            "margin": null,
            "max_height": null,
            "max_width": null,
            "min_height": null,
            "min_width": null,
            "object_fit": null,
            "object_position": null,
            "order": null,
            "overflow": null,
            "overflow_x": null,
            "overflow_y": null,
            "padding": null,
            "right": null,
            "top": null,
            "visibility": null,
            "width": null
          }
        },
        "b020b5bee6144364bbfc54b80e749233": {
          "model_module": "@jupyter-widgets/controls",
          "model_name": "ProgressStyleModel",
          "model_module_version": "1.5.0",
          "state": {
            "_model_module": "@jupyter-widgets/controls",
            "_model_module_version": "1.5.0",
            "_model_name": "ProgressStyleModel",
            "_view_count": null,
            "_view_module": "@jupyter-widgets/base",
            "_view_module_version": "1.2.0",
            "_view_name": "StyleView",
            "bar_color": null,
            "description_width": ""
          }
        },
        "7f7559f7d3224574a23250547e2a70fd": {
          "model_module": "@jupyter-widgets/base",
          "model_name": "LayoutModel",
          "model_module_version": "1.2.0",
          "state": {
            "_model_module": "@jupyter-widgets/base",
            "_model_module_version": "1.2.0",
            "_model_name": "LayoutModel",
            "_view_count": null,
            "_view_module": "@jupyter-widgets/base",
            "_view_module_version": "1.2.0",
            "_view_name": "LayoutView",
            "align_content": null,
            "align_items": null,
            "align_self": null,
            "border": null,
            "bottom": null,
            "display": null,
            "flex": null,
            "flex_flow": null,
            "grid_area": null,
            "grid_auto_columns": null,
            "grid_auto_flow": null,
            "grid_auto_rows": null,
            "grid_column": null,
            "grid_gap": null,
            "grid_row": null,
            "grid_template_areas": null,
            "grid_template_columns": null,
            "grid_template_rows": null,
            "height": null,
            "justify_content": null,
            "justify_items": null,
            "left": null,
            "margin": null,
            "max_height": null,
            "max_width": null,
            "min_height": null,
            "min_width": null,
            "object_fit": null,
            "object_position": null,
            "order": null,
            "overflow": null,
            "overflow_x": null,
            "overflow_y": null,
            "padding": null,
            "right": null,
            "top": null,
            "visibility": null,
            "width": null
          }
        },
        "f14eaf6831db47f2a6c7e8e3d22922d1": {
          "model_module": "@jupyter-widgets/controls",
          "model_name": "DescriptionStyleModel",
          "model_module_version": "1.5.0",
          "state": {
            "_model_module": "@jupyter-widgets/controls",
            "_model_module_version": "1.5.0",
            "_model_name": "DescriptionStyleModel",
            "_view_count": null,
            "_view_module": "@jupyter-widgets/base",
            "_view_module_version": "1.2.0",
            "_view_name": "StyleView",
            "description_width": ""
          }
        }
      }
    }
  },
  "nbformat": 4,
  "nbformat_minor": 0
}